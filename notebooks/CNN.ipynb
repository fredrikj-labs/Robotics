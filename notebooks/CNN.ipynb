{
 "cells": [
  {
   "cell_type": "markdown",
   "id": "e40a0d7a",
   "metadata": {},
   "source": [
    "### CNN - Training, using MobileNetV2\n",
    " "
   ]
  },
  {
   "cell_type": "code",
   "execution_count": null,
   "id": "fd01b6e7",
   "metadata": {},
   "outputs": [
    {
     "name": "stdout",
     "output_type": "stream",
     "text": [
      "\n",
      "=== Ready? Hold up 'YELLOW' paper and press Enter to start! ===\n"
     ]
    }
   ],
   "source": [
    "import os\n",
    "import cv2\n",
    "import numpy as np\n",
    "import requests\n",
    "from PIL import Image\n",
    "import io\n",
    "import time\n",
    "from datetime import datetime\n",
    "from matplotlib import pyplot as plt\n",
    "from IPython.display import display, clear_output\n",
    "\n",
    "# ==== USER SETTINGS ====\n",
    "jetbot_ip = \"194.47.156.140\"\n",
    "color_name = \"yellow\"         # Set to your color: \"blue\", \"red\", etc\n",
    "desired_images = 100        # How many labeled frames to save\n",
    "fps = 5                     # For Jetbot, 3-10 is practical for preview\n",
    "\n",
    "# ==== HSV RANGES ====\n",
    "color_hsv_ranges = {\n",
    "    \"blue\":   [(100, 80, 50), (130, 255, 255), 0],\n",
    "    \"red\":    [(0, 80, 50), (10, 255, 255), 1],\n",
    "    \"orange\": [(10, 80, 50), (25, 255, 255), 2],\n",
    "    \"yellow\": [(20, 80, 50), (35, 255, 255), 3],\n",
    "    \"purple\": [(130, 80, 50), (155, 255, 255), 4],\n",
    "    \"brown\":  [(10, 60, 20), (20, 255, 200), 5],\n",
    "}\n",
    "\n",
    "# ==== OUTPUT FOLDERS ====\n",
    "img_dir = f\"live_autolabel/images/{color_name}\"\n",
    "lbl_dir = f\"live_autolabel/labels/{color_name}\"\n",
    "os.makedirs(img_dir, exist_ok=True)\n",
    "os.makedirs(lbl_dir, exist_ok=True)\n",
    "\n",
    "def get_jetbot_frame(jetbot_ip):\n",
    "    response = requests.get(f'http://{jetbot_ip}:8080/camera', timeout=2)\n",
    "    image = Image.open(io.BytesIO(response.content))\n",
    "    return cv2.cvtColor(np.array(image), cv2.COLOR_RGB2BGR)\n",
    "\n",
    "def is_square(cnt, epsilon=0.06):\n",
    "    peri = cv2.arcLength(cnt, True)\n",
    "    approx = cv2.approxPolyDP(cnt, epsilon * peri, True)\n",
    "    if len(approx) == 4 and cv2.isContourConvex(approx):\n",
    "        x, y, w, h = cv2.boundingRect(approx)\n",
    "        ar = float(w) / h\n",
    "        return 0.8 < ar < 1.2\n",
    "    return False\n",
    "\n",
    "print(f\"\\n=== Ready? Hold up '{color_name.upper()}' paper and press Enter to start! ===\")\n",
    "input()\n",
    "\n",
    "lower, upper, class_id = color_hsv_ranges[color_name]\n",
    "min_square_area = 500\n",
    "count = 0\n",
    "\n",
    "try:\n",
    "    while count < desired_images:\n",
    "        frame = get_jetbot_frame(jetbot_ip)\n",
    "        hsv = cv2.cvtColor(frame, cv2.COLOR_BGR2HSV)\n",
    "        mask = cv2.inRange(hsv, np.array(lower, dtype=np.uint8), np.array(upper, dtype=np.uint8))\n",
    "        kernel = np.ones((9,9), np.uint8)\n",
    "        mask = cv2.morphologyEx(mask, cv2.MORPH_OPEN, kernel)\n",
    "        mask = cv2.morphologyEx(mask, cv2.MORPH_CLOSE, kernel)\n",
    "        contours, _ = cv2.findContours(mask, cv2.RETR_EXTERNAL, cv2.CHAIN_APPROX_SIMPLE)\n",
    "        valid_boxes = []\n",
    "        for cnt in contours:\n",
    "            area = cv2.contourArea(cnt)\n",
    "            if area < min_square_area:\n",
    "                continue\n",
    "            if not is_square(cnt):\n",
    "                continue\n",
    "            x, y, w, h = cv2.boundingRect(cnt)\n",
    "            img_h, img_w = frame.shape[:2]\n",
    "            x_center = (x + w/2) / img_w\n",
    "            y_center = (y + h/2) / img_h\n",
    "            w_norm = w / img_w\n",
    "            h_norm = h / img_h\n",
    "            valid_boxes.append((x, y, w, h, x_center, y_center, w_norm, h_norm))\n",
    "\n",
    "        show_frame = frame.copy()\n",
    "        if len(valid_boxes) == 1:\n",
    "            # Only save if exactly one square of the color is detected!\n",
    "            x, y, w, h, x_center, y_center, w_norm, h_norm = valid_boxes[0]\n",
    "            # Draw box for preview\n",
    "            cv2.rectangle(show_frame, (x, y), (x + w, y + h), (0,255,0), 3)\n",
    "            cv2.putText(show_frame, color_name, (x, y-10), cv2.FONT_HERSHEY_SIMPLEX, 0.8, (0,255,0), 2)\n",
    "            # Save\n",
    "            timestamp = datetime.now().strftime(\"%Y%m%d-%H%M%S-%f\")\n",
    "            img_name = f\"{color_name}_{timestamp}.jpg\"\n",
    "            img_path = os.path.join(img_dir, img_name)\n",
    "            lbl_path = os.path.join(lbl_dir, img_name.replace('.jpg', '.txt'))\n",
    "            cv2.imwrite(img_path, frame)\n",
    "            with open(lbl_path, \"w\") as f:\n",
    "                f.write(f\"{class_id} {x_center:.6f} {y_center:.6f} {w_norm:.6f} {h_norm:.6f}\\n\")\n",
    "            count += 1\n",
    "            msg = f\"[{count}/{desired_images}] Saved: {img_name}\"\n",
    "        elif len(valid_boxes) > 1:\n",
    "            for x, y, w, h, *_ in valid_boxes:\n",
    "                cv2.rectangle(show_frame, (x, y), (x + w, y + h), (0,0,255), 2)\n",
    "            msg = f\"Too many squares detected!\"\n",
    "        else:\n",
    "            msg = f\"No square found!\"\n",
    "\n",
    "        # Show in notebook\n",
    "        clear_output(wait=True)\n",
    "        plt.imshow(cv2.cvtColor(show_frame, cv2.COLOR_BGR2RGB))\n",
    "        plt.axis('off')\n",
    "        plt.title(msg)\n",
    "        display(plt.gcf())\n",
    "        plt.close()\n",
    "        time.sleep(1/fps)\n",
    "except KeyboardInterrupt:\n",
    "    print(\"\\nStopped early.\")\n",
    "\n",
    "print(f\"\\nDone! {count} images with label saved in '{img_dir}' and '{lbl_dir}'.\")\n"
   ]
  },
  {
   "cell_type": "code",
   "execution_count": 1,
   "id": "4e7cb8d5",
   "metadata": {},
   "outputs": [
    {
     "name": "stdout",
     "output_type": "stream",
     "text": [
      "Dataset prepared for YOLOv8!\n"
     ]
    }
   ],
   "source": [
    "import os\n",
    "import shutil\n",
    "import random\n",
    "\n",
    "# Set paths\n",
    "src_img_dirs = ['live_autolabel/images/blue', 'live_autolabel/images/yellow']\n",
    "src_lbl_dirs = ['live_autolabel/labels/blue', 'live_autolabel/labels/yellow']\n",
    "dst_base = 'yolo_dataset'\n",
    "os.makedirs(dst_base, exist_ok=True)\n",
    "img_train_dir = os.path.join(dst_base, 'images/train')\n",
    "img_val_dir = os.path.join(dst_base, 'images/val')\n",
    "lbl_train_dir = os.path.join(dst_base, 'labels/train')\n",
    "lbl_val_dir = os.path.join(dst_base, 'labels/val')\n",
    "for d in [img_train_dir, img_val_dir, lbl_train_dir, lbl_val_dir]:\n",
    "    os.makedirs(d, exist_ok=True)\n",
    "\n",
    "# Collect and shuffle\n",
    "all_img_files = []\n",
    "for d in src_img_dirs:\n",
    "    all_img_files += [os.path.join(d, f) for f in os.listdir(d) if f.endswith('.jpg')]\n",
    "\n",
    "random.shuffle(all_img_files)\n",
    "split_idx = int(0.8 * len(all_img_files))\n",
    "train_imgs = all_img_files[:split_idx]\n",
    "val_imgs = all_img_files[split_idx:]\n",
    "\n",
    "def move_files(img_list, img_dst, lbl_dst):\n",
    "    for img_path in img_list:\n",
    "        base = os.path.basename(img_path)\n",
    "        # Determine label source (blue or yellow)\n",
    "        if \"blue\" in img_path:\n",
    "            lbl_path = os.path.join('live_autolabel/labels/blue', base.replace('.jpg', '.txt'))\n",
    "        else:\n",
    "            lbl_path = os.path.join('live_autolabel/labels/yellow', base.replace('.jpg', '.txt'))\n",
    "        shutil.copy2(img_path, os.path.join(img_dst, base))\n",
    "        shutil.copy2(lbl_path, os.path.join(lbl_dst, base.replace('.jpg', '.txt')))\n",
    "\n",
    "move_files(train_imgs, img_train_dir, lbl_train_dir)\n",
    "move_files(val_imgs, img_val_dir, lbl_val_dir)\n",
    "print(\"Dataset prepared for YOLOv8!\")\n"
   ]
  },
  {
   "cell_type": "code",
   "execution_count": 11,
   "id": "f3b72770",
   "metadata": {},
   "outputs": [
    {
     "name": "stdout",
     "output_type": "stream",
     "text": [
      "Ultralytics 8.3.129  Python-3.8.12 torch-1.13.1+cu117 CPU (AMD Ryzen 7 4800HS with Radeon Graphics)\n",
      "WARNING Upgrade to torch>=2.0.0 for deterministic training.\n",
      "\u001b[34m\u001b[1mengine\\trainer: \u001b[0magnostic_nms=False, amp=True, augment=False, auto_augment=randaugment, batch=16, bgr=0.0, box=7.5, cache=False, cfg=None, classes=None, close_mosaic=10, cls=0.5, conf=None, copy_paste=0.0, copy_paste_mode=flip, cos_lr=False, cutmix=0.0, data=yolo_dataset/data.yaml, degrees=0.0, deterministic=True, device=cpu, dfl=1.5, dnn=False, dropout=0.0, dynamic=False, embed=None, epochs=100, erasing=0.4, exist_ok=False, fliplr=0.5, flipud=0.0, format=torchscript, fraction=1.0, freeze=None, half=False, hsv_h=0.015, hsv_s=0.7, hsv_v=0.4, imgsz=224, int8=False, iou=0.7, keras=False, kobj=1.0, line_width=None, lr0=0.01, lrf=0.01, mask_ratio=4, max_det=300, mixup=0.0, mode=train, model=yolov8n.yaml, momentum=0.937, mosaic=1.0, multi_scale=False, name=train9, nbs=64, nms=False, opset=None, optimize=False, optimizer=auto, overlap_mask=True, patience=100, perspective=0.0, plots=True, pose=12.0, pretrained=True, profile=False, project=None, rect=False, resume=False, retina_masks=False, save=True, save_conf=False, save_crop=False, save_dir=runs\\detect\\train9, save_frames=False, save_json=False, save_period=-1, save_txt=False, scale=0.5, seed=0, shear=0.0, show=False, show_boxes=True, show_conf=True, show_labels=True, simplify=True, single_cls=False, source=None, split=val, stream_buffer=False, task=detect, time=None, tracker=botsort.yaml, translate=0.1, val=True, verbose=True, vid_stride=1, visualize=False, warmup_bias_lr=0.1, warmup_epochs=3.0, warmup_momentum=0.8, weight_decay=0.0005, workers=8, workspace=None\n",
      "Overriding model.yaml nc=80 with nc=2\n",
      "\n",
      "                   from  n    params  module                                       arguments                     \n",
      "  0                  -1  1       464  ultralytics.nn.modules.conv.Conv             [3, 16, 3, 2]                 \n",
      "  1                  -1  1      4672  ultralytics.nn.modules.conv.Conv             [16, 32, 3, 2]                \n",
      "  2                  -1  1      7360  ultralytics.nn.modules.block.C2f             [32, 32, 1, True]             \n",
      "  3                  -1  1     18560  ultralytics.nn.modules.conv.Conv             [32, 64, 3, 2]                \n",
      "  4                  -1  2     49664  ultralytics.nn.modules.block.C2f             [64, 64, 2, True]             \n",
      "  5                  -1  1     73984  ultralytics.nn.modules.conv.Conv             [64, 128, 3, 2]               \n",
      "  6                  -1  2    197632  ultralytics.nn.modules.block.C2f             [128, 128, 2, True]           \n",
      "  7                  -1  1    295424  ultralytics.nn.modules.conv.Conv             [128, 256, 3, 2]              \n",
      "  8                  -1  1    460288  ultralytics.nn.modules.block.C2f             [256, 256, 1, True]           \n",
      "  9                  -1  1    164608  ultralytics.nn.modules.block.SPPF            [256, 256, 5]                 \n",
      " 10                  -1  1         0  torch.nn.modules.upsampling.Upsample         [None, 2, 'nearest']          \n",
      " 11             [-1, 6]  1         0  ultralytics.nn.modules.conv.Concat           [1]                           \n",
      " 12                  -1  1    148224  ultralytics.nn.modules.block.C2f             [384, 128, 1]                 \n",
      " 13                  -1  1         0  torch.nn.modules.upsampling.Upsample         [None, 2, 'nearest']          \n",
      " 14             [-1, 4]  1         0  ultralytics.nn.modules.conv.Concat           [1]                           \n",
      " 15                  -1  1     37248  ultralytics.nn.modules.block.C2f             [192, 64, 1]                  \n",
      " 16                  -1  1     36992  ultralytics.nn.modules.conv.Conv             [64, 64, 3, 2]                \n",
      " 17            [-1, 12]  1         0  ultralytics.nn.modules.conv.Concat           [1]                           \n",
      " 18                  -1  1    123648  ultralytics.nn.modules.block.C2f             [192, 128, 1]                 \n",
      " 19                  -1  1    147712  ultralytics.nn.modules.conv.Conv             [128, 128, 3, 2]              \n",
      " 20             [-1, 9]  1         0  ultralytics.nn.modules.conv.Concat           [1]                           \n",
      " 21                  -1  1    493056  ultralytics.nn.modules.block.C2f             [384, 256, 1]                 \n",
      " 22        [15, 18, 21]  1    751702  ultralytics.nn.modules.head.Detect           [2, [64, 128, 256]]           \n",
      "YOLOv8n summary: 129 layers, 3,011,238 parameters, 3,011,222 gradients, 8.2 GFLOPs\n",
      "\n",
      "Freezing layer 'model.22.dfl.conv.weight'\n",
      "\u001b[34m\u001b[1mtrain: \u001b[0mFast image access  (ping: 0.10.0 ms, read: 32.54.5 MB/s, size: 14.5 KB)\n"
     ]
    },
    {
     "name": "stderr",
     "output_type": "stream",
     "text": [
      "\u001b[34m\u001b[1mtrain: \u001b[0mScanning C:\\Users\\fredr\\BTH\\Robotics\\yolo_dataset\\labels\\train.cache... 60 images, 0 backgrounds, 19 corrupt: 100%|██████████| 60/60 [00:00<?, ?it/s]"
     ]
    },
    {
     "name": "stdout",
     "output_type": "stream",
     "text": [
      "\u001b[34m\u001b[1mtrain: \u001b[0mC:\\Users\\fredr\\BTH\\Robotics\\yolo_dataset\\images\\train\\yellow_20250521-111331-843235.jpg: ignoring corrupt image/label: Label class 3 exceeds dataset class count 2. Possible class labels are 0-1\n",
      "\u001b[34m\u001b[1mtrain: \u001b[0mC:\\Users\\fredr\\BTH\\Robotics\\yolo_dataset\\images\\train\\yellow_20250521-111341-163937.jpg: ignoring corrupt image/label: Label class 3 exceeds dataset class count 2. Possible class labels are 0-1\n",
      "\u001b[34m\u001b[1mtrain: \u001b[0mC:\\Users\\fredr\\BTH\\Robotics\\yolo_dataset\\images\\train\\yellow_20250521-111341-458466.jpg: ignoring corrupt image/label: Label class 3 exceeds dataset class count 2. Possible class labels are 0-1\n",
      "\u001b[34m\u001b[1mtrain: \u001b[0mC:\\Users\\fredr\\BTH\\Robotics\\yolo_dataset\\images\\train\\yellow_20250521-111344-980589.jpg: ignoring corrupt image/label: Label class 3 exceeds dataset class count 2. Possible class labels are 0-1\n",
      "\u001b[34m\u001b[1mtrain: \u001b[0mC:\\Users\\fredr\\BTH\\Robotics\\yolo_dataset\\images\\train\\yellow_20250521-111351-399526.jpg: ignoring corrupt image/label: Label class 3 exceeds dataset class count 2. Possible class labels are 0-1\n",
      "\u001b[34m\u001b[1mtrain: \u001b[0mC:\\Users\\fredr\\BTH\\Robotics\\yolo_dataset\\images\\train\\yellow_20250521-111352-580050.jpg: ignoring corrupt image/label: Label class 3 exceeds dataset class count 2. Possible class labels are 0-1\n",
      "\u001b[34m\u001b[1mtrain: \u001b[0mC:\\Users\\fredr\\BTH\\Robotics\\yolo_dataset\\images\\train\\yellow_20250521-111357-536299.jpg: ignoring corrupt image/label: Label class 3 exceeds dataset class count 2. Possible class labels are 0-1\n",
      "\u001b[34m\u001b[1mtrain: \u001b[0mC:\\Users\\fredr\\BTH\\Robotics\\yolo_dataset\\images\\train\\yellow_20250521-111357-833810.jpg: ignoring corrupt image/label: Label class 3 exceeds dataset class count 2. Possible class labels are 0-1\n",
      "\u001b[34m\u001b[1mtrain: \u001b[0mC:\\Users\\fredr\\BTH\\Robotics\\yolo_dataset\\images\\train\\yellow_20250521-111419-787989.jpg: ignoring corrupt image/label: Label class 3 exceeds dataset class count 2. Possible class labels are 0-1\n",
      "\u001b[34m\u001b[1mtrain: \u001b[0mC:\\Users\\fredr\\BTH\\Robotics\\yolo_dataset\\images\\train\\yellow_20250521-111420-378811.jpg: ignoring corrupt image/label: Label class 3 exceeds dataset class count 2. Possible class labels are 0-1\n",
      "\u001b[34m\u001b[1mtrain: \u001b[0mC:\\Users\\fredr\\BTH\\Robotics\\yolo_dataset\\images\\train\\yellow_20250521-111420-987267.jpg: ignoring corrupt image/label: Label class 3 exceeds dataset class count 2. Possible class labels are 0-1\n",
      "\u001b[34m\u001b[1mtrain: \u001b[0mC:\\Users\\fredr\\BTH\\Robotics\\yolo_dataset\\images\\train\\yellow_20250521-111421-271372.jpg: ignoring corrupt image/label: Label class 3 exceeds dataset class count 2. Possible class labels are 0-1\n",
      "\u001b[34m\u001b[1mtrain: \u001b[0mC:\\Users\\fredr\\BTH\\Robotics\\yolo_dataset\\images\\train\\yellow_20250521-111421-554524.jpg: ignoring corrupt image/label: Label class 3 exceeds dataset class count 2. Possible class labels are 0-1\n",
      "\u001b[34m\u001b[1mtrain: \u001b[0mC:\\Users\\fredr\\BTH\\Robotics\\yolo_dataset\\images\\train\\yellow_20250521-111421-862368.jpg: ignoring corrupt image/label: Label class 3 exceeds dataset class count 2. Possible class labels are 0-1\n",
      "\u001b[34m\u001b[1mtrain: \u001b[0mC:\\Users\\fredr\\BTH\\Robotics\\yolo_dataset\\images\\train\\yellow_20250521-111422-154699.jpg: ignoring corrupt image/label: Label class 3 exceeds dataset class count 2. Possible class labels are 0-1\n",
      "\u001b[34m\u001b[1mtrain: \u001b[0mC:\\Users\\fredr\\BTH\\Robotics\\yolo_dataset\\images\\train\\yellow_20250521-111423-338765.jpg: ignoring corrupt image/label: Label class 3 exceeds dataset class count 2. Possible class labels are 0-1\n",
      "\u001b[34m\u001b[1mtrain: \u001b[0mC:\\Users\\fredr\\BTH\\Robotics\\yolo_dataset\\images\\train\\yellow_20250521-111423-671245.jpg: ignoring corrupt image/label: Label class 3 exceeds dataset class count 2. Possible class labels are 0-1\n",
      "\u001b[34m\u001b[1mtrain: \u001b[0mC:\\Users\\fredr\\BTH\\Robotics\\yolo_dataset\\images\\train\\yellow_20250521-111423-954538.jpg: ignoring corrupt image/label: Label class 3 exceeds dataset class count 2. Possible class labels are 0-1\n",
      "\u001b[34m\u001b[1mtrain: \u001b[0mC:\\Users\\fredr\\BTH\\Robotics\\yolo_dataset\\images\\train\\yellow_20250521-111424-850402.jpg: ignoring corrupt image/label: Label class 3 exceeds dataset class count 2. Possible class labels are 0-1\n",
      "\u001b[34m\u001b[1mval: \u001b[0mFast image access  (ping: 0.20.0 ms, read: 25.45.1 MB/s, size: 14.0 KB)\n"
     ]
    },
    {
     "name": "stderr",
     "output_type": "stream",
     "text": [
      "\n",
      "\u001b[34m\u001b[1mval: \u001b[0mScanning C:\\Users\\fredr\\BTH\\Robotics\\yolo_dataset\\labels\\val.cache... 16 images, 0 backgrounds, 3 corrupt: 100%|██████████| 16/16 [00:00<?, ?it/s]"
     ]
    },
    {
     "name": "stdout",
     "output_type": "stream",
     "text": [
      "\u001b[34m\u001b[1mval: \u001b[0mC:\\Users\\fredr\\BTH\\Robotics\\yolo_dataset\\images\\val\\yellow_20250521-111356-646527.jpg: ignoring corrupt image/label: Label class 3 exceeds dataset class count 2. Possible class labels are 0-1\n",
      "\u001b[34m\u001b[1mval: \u001b[0mC:\\Users\\fredr\\BTH\\Robotics\\yolo_dataset\\images\\val\\yellow_20250521-111358-113429.jpg: ignoring corrupt image/label: Label class 3 exceeds dataset class count 2. Possible class labels are 0-1\n",
      "\u001b[34m\u001b[1mval: \u001b[0mC:\\Users\\fredr\\BTH\\Robotics\\yolo_dataset\\images\\val\\yellow_20250521-111424-258156.jpg: ignoring corrupt image/label: Label class 3 exceeds dataset class count 2. Possible class labels are 0-1\n",
      "Plotting labels to runs\\detect\\train9\\labels.jpg... \n"
     ]
    },
    {
     "name": "stderr",
     "output_type": "stream",
     "text": [
      "\n"
     ]
    },
    {
     "name": "stdout",
     "output_type": "stream",
     "text": [
      "\u001b[34m\u001b[1moptimizer:\u001b[0m 'optimizer=auto' found, ignoring 'lr0=0.01' and 'momentum=0.937' and determining best 'optimizer', 'lr0' and 'momentum' automatically... \n",
      "\u001b[34m\u001b[1moptimizer:\u001b[0m AdamW(lr=0.001667, momentum=0.9) with parameter groups 57 weight(decay=0.0), 64 weight(decay=0.0005), 63 bias(decay=0.0)\n",
      "Image sizes 224 train, 224 val\n",
      "Using 0 dataloader workers\n",
      "Logging results to \u001b[1mruns\\detect\\train9\u001b[0m\n",
      "Starting training for 100 epochs...\n",
      "\n",
      "      Epoch    GPU_mem   box_loss   cls_loss   dfl_loss  Instances       Size\n"
     ]
    },
    {
     "name": "stderr",
     "output_type": "stream",
     "text": [
      "      1/100         0G      4.733      4.576      4.359         17        224: 100%|██████████| 3/3 [00:02<00:00,  1.06it/s]\n",
      "                 Class     Images  Instances      Box(P          R      mAP50  mAP50-95): 100%|██████████| 1/1 [00:00<00:00,  2.50it/s]"
     ]
    },
    {
     "name": "stdout",
     "output_type": "stream",
     "text": [
      "                   all         13         13    0.00147     0.0769   0.000939   9.39e-05\n"
     ]
    },
    {
     "name": "stderr",
     "output_type": "stream",
     "text": [
      "\n"
     ]
    },
    {
     "name": "stdout",
     "output_type": "stream",
     "text": [
      "\n",
      "      Epoch    GPU_mem   box_loss   cls_loss   dfl_loss  Instances       Size\n"
     ]
    },
    {
     "name": "stderr",
     "output_type": "stream",
     "text": [
      "      2/100         0G      5.694      4.623      4.257          8        224: 100%|██████████| 3/3 [00:02<00:00,  1.24it/s]\n",
      "                 Class     Images  Instances      Box(P          R      mAP50  mAP50-95): 100%|██████████| 1/1 [00:00<00:00,  2.89it/s]"
     ]
    },
    {
     "name": "stdout",
     "output_type": "stream",
     "text": [
      "                   all         13         13     0.0015     0.0769   0.000965   9.65e-05\n"
     ]
    },
    {
     "name": "stderr",
     "output_type": "stream",
     "text": [
      "\n"
     ]
    },
    {
     "name": "stdout",
     "output_type": "stream",
     "text": [
      "\n",
      "      Epoch    GPU_mem   box_loss   cls_loss   dfl_loss  Instances       Size\n"
     ]
    },
    {
     "name": "stderr",
     "output_type": "stream",
     "text": [
      "      3/100         0G      4.703      4.642      4.292         15        224: 100%|██████████| 3/3 [00:02<00:00,  1.40it/s]\n",
      "                 Class     Images  Instances      Box(P          R      mAP50  mAP50-95): 100%|██████████| 1/1 [00:00<00:00,  3.33it/s]"
     ]
    },
    {
     "name": "stdout",
     "output_type": "stream",
     "text": [
      "                   all         13         13    0.00147     0.0769   0.000907   9.07e-05\n"
     ]
    },
    {
     "name": "stderr",
     "output_type": "stream",
     "text": [
      "\n"
     ]
    },
    {
     "name": "stdout",
     "output_type": "stream",
     "text": [
      "\n",
      "      Epoch    GPU_mem   box_loss   cls_loss   dfl_loss  Instances       Size\n"
     ]
    },
    {
     "name": "stderr",
     "output_type": "stream",
     "text": [
      "      4/100         0G      5.413      4.455      4.219         13        224: 100%|██████████| 3/3 [00:02<00:00,  1.45it/s]\n",
      "                 Class     Images  Instances      Box(P          R      mAP50  mAP50-95): 100%|██████████| 1/1 [00:00<00:00,  3.08it/s]"
     ]
    },
    {
     "name": "stdout",
     "output_type": "stream",
     "text": [
      "                   all         13         13          0          0          0          0\n"
     ]
    },
    {
     "name": "stderr",
     "output_type": "stream",
     "text": [
      "\n"
     ]
    },
    {
     "name": "stdout",
     "output_type": "stream",
     "text": [
      "\n",
      "      Epoch    GPU_mem   box_loss   cls_loss   dfl_loss  Instances       Size\n"
     ]
    },
    {
     "name": "stderr",
     "output_type": "stream",
     "text": [
      "      5/100         0G      5.769      4.583      4.228         20        224: 100%|██████████| 3/3 [00:02<00:00,  1.35it/s]\n",
      "                 Class     Images  Instances      Box(P          R      mAP50  mAP50-95): 100%|██████████| 1/1 [00:00<00:00,  2.79it/s]"
     ]
    },
    {
     "name": "stdout",
     "output_type": "stream",
     "text": [
      "                   all         13         13    0.00154     0.0769   0.000969   9.69e-05\n"
     ]
    },
    {
     "name": "stderr",
     "output_type": "stream",
     "text": [
      "\n"
     ]
    },
    {
     "name": "stdout",
     "output_type": "stream",
     "text": [
      "\n",
      "      Epoch    GPU_mem   box_loss   cls_loss   dfl_loss  Instances       Size\n"
     ]
    },
    {
     "name": "stderr",
     "output_type": "stream",
     "text": [
      "      6/100         0G       4.87      4.281      4.235         12        224: 100%|██████████| 3/3 [00:02<00:00,  1.37it/s]\n",
      "                 Class     Images  Instances      Box(P          R      mAP50  mAP50-95): 100%|██████████| 1/1 [00:00<00:00,  2.68it/s]"
     ]
    },
    {
     "name": "stdout",
     "output_type": "stream",
     "text": [
      "                   all         13         13    0.00145     0.0769   0.000915   9.15e-05\n"
     ]
    },
    {
     "name": "stderr",
     "output_type": "stream",
     "text": [
      "\n"
     ]
    },
    {
     "name": "stdout",
     "output_type": "stream",
     "text": [
      "\n",
      "      Epoch    GPU_mem   box_loss   cls_loss   dfl_loss  Instances       Size\n"
     ]
    },
    {
     "name": "stderr",
     "output_type": "stream",
     "text": [
      "      7/100         0G       4.17      4.147      4.227          9        224: 100%|██████████| 3/3 [00:02<00:00,  1.37it/s]\n",
      "                 Class     Images  Instances      Box(P          R      mAP50  mAP50-95): 100%|██████████| 1/1 [00:00<00:00,  2.98it/s]"
     ]
    },
    {
     "name": "stdout",
     "output_type": "stream",
     "text": [
      "                   all         13         13          0          0          0          0\n"
     ]
    },
    {
     "name": "stderr",
     "output_type": "stream",
     "text": [
      "\n"
     ]
    },
    {
     "name": "stdout",
     "output_type": "stream",
     "text": [
      "\n",
      "      Epoch    GPU_mem   box_loss   cls_loss   dfl_loss  Instances       Size\n"
     ]
    },
    {
     "name": "stderr",
     "output_type": "stream",
     "text": [
      "      8/100         0G       4.52      3.875        4.2         14        224: 100%|██████████| 3/3 [00:02<00:00,  1.19it/s]\n",
      "                 Class     Images  Instances      Box(P          R      mAP50  mAP50-95): 100%|██████████| 1/1 [00:00<00:00,  3.14it/s]"
     ]
    },
    {
     "name": "stdout",
     "output_type": "stream",
     "text": [
      "                   all         13         13          0          0          0          0\n"
     ]
    },
    {
     "name": "stderr",
     "output_type": "stream",
     "text": [
      "\n"
     ]
    },
    {
     "name": "stdout",
     "output_type": "stream",
     "text": [
      "\n",
      "      Epoch    GPU_mem   box_loss   cls_loss   dfl_loss  Instances       Size\n"
     ]
    },
    {
     "name": "stderr",
     "output_type": "stream",
     "text": [
      "      9/100         0G      5.042      3.964      4.162         17        224: 100%|██████████| 3/3 [00:02<00:00,  1.39it/s]\n",
      "                 Class     Images  Instances      Box(P          R      mAP50  mAP50-95): 100%|██████████| 1/1 [00:00<00:00,  3.11it/s]"
     ]
    },
    {
     "name": "stdout",
     "output_type": "stream",
     "text": [
      "                   all         13         13    0.00139     0.0769   0.000853   8.53e-05\n"
     ]
    },
    {
     "name": "stderr",
     "output_type": "stream",
     "text": [
      "\n"
     ]
    },
    {
     "name": "stdout",
     "output_type": "stream",
     "text": [
      "\n",
      "      Epoch    GPU_mem   box_loss   cls_loss   dfl_loss  Instances       Size\n"
     ]
    },
    {
     "name": "stderr",
     "output_type": "stream",
     "text": [
      "     10/100         0G      4.709      3.297      4.053         20        224: 100%|██████████| 3/3 [00:02<00:00,  1.37it/s]\n",
      "                 Class     Images  Instances      Box(P          R      mAP50  mAP50-95): 100%|██████████| 1/1 [00:00<00:00,  2.93it/s]"
     ]
    },
    {
     "name": "stdout",
     "output_type": "stream",
     "text": [
      "                   all         13         13    0.00141     0.0769   0.000859   8.59e-05\n"
     ]
    },
    {
     "name": "stderr",
     "output_type": "stream",
     "text": [
      "\n"
     ]
    },
    {
     "name": "stdout",
     "output_type": "stream",
     "text": [
      "\n",
      "      Epoch    GPU_mem   box_loss   cls_loss   dfl_loss  Instances       Size\n"
     ]
    },
    {
     "name": "stderr",
     "output_type": "stream",
     "text": [
      "     11/100         0G      4.454      3.385          4         16        224: 100%|██████████| 3/3 [00:02<00:00,  1.41it/s]\n",
      "                 Class     Images  Instances      Box(P          R      mAP50  mAP50-95): 100%|██████████| 1/1 [00:00<00:00,  3.16it/s]"
     ]
    },
    {
     "name": "stdout",
     "output_type": "stream",
     "text": [
      "                   all         13         13          0          0          0          0\n"
     ]
    },
    {
     "name": "stderr",
     "output_type": "stream",
     "text": [
      "\n"
     ]
    },
    {
     "name": "stdout",
     "output_type": "stream",
     "text": [
      "\n",
      "      Epoch    GPU_mem   box_loss   cls_loss   dfl_loss  Instances       Size\n"
     ]
    },
    {
     "name": "stderr",
     "output_type": "stream",
     "text": [
      "     12/100         0G      4.292      3.163      3.995         17        224: 100%|██████████| 3/3 [00:02<00:00,  1.42it/s]\n",
      "                 Class     Images  Instances      Box(P          R      mAP50  mAP50-95): 100%|██████████| 1/1 [00:00<00:00,  3.16it/s]"
     ]
    },
    {
     "name": "stdout",
     "output_type": "stream",
     "text": [
      "                   all         13         13    0.00139     0.0769   0.000835   8.35e-05\n"
     ]
    },
    {
     "name": "stderr",
     "output_type": "stream",
     "text": [
      "\n"
     ]
    },
    {
     "name": "stdout",
     "output_type": "stream",
     "text": [
      "\n",
      "      Epoch    GPU_mem   box_loss   cls_loss   dfl_loss  Instances       Size\n"
     ]
    },
    {
     "name": "stderr",
     "output_type": "stream",
     "text": [
      "     13/100         0G      3.726       3.35       4.05         10        224: 100%|██████████| 3/3 [00:02<00:00,  1.43it/s]\n",
      "                 Class     Images  Instances      Box(P          R      mAP50  mAP50-95): 100%|██████████| 1/1 [00:00<00:00,  3.16it/s]"
     ]
    },
    {
     "name": "stdout",
     "output_type": "stream",
     "text": [
      "                   all         13         13    0.00139     0.0769   0.000823   8.23e-05\n"
     ]
    },
    {
     "name": "stderr",
     "output_type": "stream",
     "text": [
      "\n"
     ]
    },
    {
     "name": "stdout",
     "output_type": "stream",
     "text": [
      "\n",
      "      Epoch    GPU_mem   box_loss   cls_loss   dfl_loss  Instances       Size\n"
     ]
    },
    {
     "name": "stderr",
     "output_type": "stream",
     "text": [
      "     14/100         0G      3.819      2.855      3.868         11        224: 100%|██████████| 3/3 [00:02<00:00,  1.41it/s]\n",
      "                 Class     Images  Instances      Box(P          R      mAP50  mAP50-95): 100%|██████████| 1/1 [00:00<00:00,  3.14it/s]"
     ]
    },
    {
     "name": "stdout",
     "output_type": "stream",
     "text": [
      "                   all         13         13          0          0          0          0\n"
     ]
    },
    {
     "name": "stderr",
     "output_type": "stream",
     "text": [
      "\n"
     ]
    },
    {
     "name": "stdout",
     "output_type": "stream",
     "text": [
      "\n",
      "      Epoch    GPU_mem   box_loss   cls_loss   dfl_loss  Instances       Size\n"
     ]
    },
    {
     "name": "stderr",
     "output_type": "stream",
     "text": [
      "     15/100         0G      3.555      2.872      3.501         13        224: 100%|██████████| 3/3 [00:02<00:00,  1.43it/s]\n",
      "                 Class     Images  Instances      Box(P          R      mAP50  mAP50-95): 100%|██████████| 1/1 [00:00<00:00,  3.08it/s]"
     ]
    },
    {
     "name": "stdout",
     "output_type": "stream",
     "text": [
      "                   all         13         13          0          0          0          0\n"
     ]
    },
    {
     "name": "stderr",
     "output_type": "stream",
     "text": [
      "\n"
     ]
    },
    {
     "name": "stdout",
     "output_type": "stream",
     "text": [
      "\n",
      "      Epoch    GPU_mem   box_loss   cls_loss   dfl_loss  Instances       Size\n"
     ]
    },
    {
     "name": "stderr",
     "output_type": "stream",
     "text": [
      "     16/100         0G      3.378      2.758      3.569          9        224: 100%|██████████| 3/3 [00:02<00:00,  1.33it/s]\n",
      "                 Class     Images  Instances      Box(P          R      mAP50  mAP50-95): 100%|██████████| 1/1 [00:00<00:00,  3.19it/s]"
     ]
    },
    {
     "name": "stdout",
     "output_type": "stream",
     "text": [
      "                   all         13         13          0          0          0          0\n"
     ]
    },
    {
     "name": "stderr",
     "output_type": "stream",
     "text": [
      "\n"
     ]
    },
    {
     "name": "stdout",
     "output_type": "stream",
     "text": [
      "\n",
      "      Epoch    GPU_mem   box_loss   cls_loss   dfl_loss  Instances       Size\n"
     ]
    },
    {
     "name": "stderr",
     "output_type": "stream",
     "text": [
      "     17/100         0G      3.402      2.643      3.516         15        224: 100%|██████████| 3/3 [00:02<00:00,  1.43it/s]\n",
      "                 Class     Images  Instances      Box(P          R      mAP50  mAP50-95): 100%|██████████| 1/1 [00:00<00:00,  3.24it/s]"
     ]
    },
    {
     "name": "stdout",
     "output_type": "stream",
     "text": [
      "                   all         13         13          0          0          0          0\n"
     ]
    },
    {
     "name": "stderr",
     "output_type": "stream",
     "text": [
      "\n"
     ]
    },
    {
     "name": "stdout",
     "output_type": "stream",
     "text": [
      "\n",
      "      Epoch    GPU_mem   box_loss   cls_loss   dfl_loss  Instances       Size\n"
     ]
    },
    {
     "name": "stderr",
     "output_type": "stream",
     "text": [
      "     18/100         0G      3.056      2.543      3.552          9        224: 100%|██████████| 3/3 [00:02<00:00,  1.40it/s]\n",
      "                 Class     Images  Instances      Box(P          R      mAP50  mAP50-95): 100%|██████████| 1/1 [00:00<00:00,  3.24it/s]"
     ]
    },
    {
     "name": "stdout",
     "output_type": "stream",
     "text": [
      "                   all         13         13          0          0          0          0\n"
     ]
    },
    {
     "name": "stderr",
     "output_type": "stream",
     "text": [
      "\n"
     ]
    },
    {
     "name": "stdout",
     "output_type": "stream",
     "text": [
      "\n",
      "      Epoch    GPU_mem   box_loss   cls_loss   dfl_loss  Instances       Size\n"
     ]
    },
    {
     "name": "stderr",
     "output_type": "stream",
     "text": [
      "     19/100         0G      3.646       2.22      3.109         23        224: 100%|██████████| 3/3 [00:02<00:00,  1.47it/s]\n",
      "                 Class     Images  Instances      Box(P          R      mAP50  mAP50-95): 100%|██████████| 1/1 [00:00<00:00,  3.38it/s]"
     ]
    },
    {
     "name": "stdout",
     "output_type": "stream",
     "text": [
      "                   all         13         13          0          0          0          0\n"
     ]
    },
    {
     "name": "stderr",
     "output_type": "stream",
     "text": [
      "\n"
     ]
    },
    {
     "name": "stdout",
     "output_type": "stream",
     "text": [
      "\n",
      "      Epoch    GPU_mem   box_loss   cls_loss   dfl_loss  Instances       Size\n"
     ]
    },
    {
     "name": "stderr",
     "output_type": "stream",
     "text": [
      "     20/100         0G      3.067      2.963      2.956         16        224: 100%|██████████| 3/3 [00:02<00:00,  1.45it/s]\n",
      "                 Class     Images  Instances      Box(P          R      mAP50  mAP50-95): 100%|██████████| 1/1 [00:00<00:00,  3.16it/s]"
     ]
    },
    {
     "name": "stdout",
     "output_type": "stream",
     "text": [
      "                   all         13         13          0          0          0          0\n"
     ]
    },
    {
     "name": "stderr",
     "output_type": "stream",
     "text": [
      "\n"
     ]
    },
    {
     "name": "stdout",
     "output_type": "stream",
     "text": [
      "\n",
      "      Epoch    GPU_mem   box_loss   cls_loss   dfl_loss  Instances       Size\n"
     ]
    },
    {
     "name": "stderr",
     "output_type": "stream",
     "text": [
      "     21/100         0G      3.107      2.155      3.132         15        224: 100%|██████████| 3/3 [00:02<00:00,  1.36it/s]\n",
      "                 Class     Images  Instances      Box(P          R      mAP50  mAP50-95): 100%|██████████| 1/1 [00:00<00:00,  3.08it/s]"
     ]
    },
    {
     "name": "stdout",
     "output_type": "stream",
     "text": [
      "                   all         13         13    0.00129     0.0769   0.000753   7.53e-05\n"
     ]
    },
    {
     "name": "stderr",
     "output_type": "stream",
     "text": [
      "\n"
     ]
    },
    {
     "name": "stdout",
     "output_type": "stream",
     "text": [
      "\n",
      "      Epoch    GPU_mem   box_loss   cls_loss   dfl_loss  Instances       Size\n"
     ]
    },
    {
     "name": "stderr",
     "output_type": "stream",
     "text": [
      "     22/100         0G      2.886      2.267      3.032         10        224: 100%|██████████| 3/3 [00:02<00:00,  1.45it/s]\n",
      "                 Class     Images  Instances      Box(P          R      mAP50  mAP50-95): 100%|██████████| 1/1 [00:00<00:00,  3.24it/s]"
     ]
    },
    {
     "name": "stdout",
     "output_type": "stream",
     "text": [
      "                   all         13         13    0.00129     0.0769   0.000741   7.41e-05\n"
     ]
    },
    {
     "name": "stderr",
     "output_type": "stream",
     "text": [
      "\n"
     ]
    },
    {
     "name": "stdout",
     "output_type": "stream",
     "text": [
      "\n",
      "      Epoch    GPU_mem   box_loss   cls_loss   dfl_loss  Instances       Size\n"
     ]
    },
    {
     "name": "stderr",
     "output_type": "stream",
     "text": [
      "     23/100         0G      3.182      2.218      2.872         18        224: 100%|██████████| 3/3 [00:02<00:00,  1.44it/s]\n",
      "                 Class     Images  Instances      Box(P          R      mAP50  mAP50-95): 100%|██████████| 1/1 [00:00<00:00,  3.15it/s]"
     ]
    },
    {
     "name": "stdout",
     "output_type": "stream",
     "text": [
      "                   all         13         13          0          0          0          0\n"
     ]
    },
    {
     "name": "stderr",
     "output_type": "stream",
     "text": [
      "\n"
     ]
    },
    {
     "name": "stdout",
     "output_type": "stream",
     "text": [
      "\n",
      "      Epoch    GPU_mem   box_loss   cls_loss   dfl_loss  Instances       Size\n"
     ]
    },
    {
     "name": "stderr",
     "output_type": "stream",
     "text": [
      "     24/100         0G      2.928      2.201      3.105         11        224: 100%|██████████| 3/3 [00:02<00:00,  1.42it/s]\n",
      "                 Class     Images  Instances      Box(P          R      mAP50  mAP50-95): 100%|██████████| 1/1 [00:00<00:00,  3.04it/s]"
     ]
    },
    {
     "name": "stdout",
     "output_type": "stream",
     "text": [
      "                   all         13         13          0          0          0          0\n"
     ]
    },
    {
     "name": "stderr",
     "output_type": "stream",
     "text": [
      "\n"
     ]
    },
    {
     "name": "stdout",
     "output_type": "stream",
     "text": [
      "\n",
      "      Epoch    GPU_mem   box_loss   cls_loss   dfl_loss  Instances       Size\n"
     ]
    },
    {
     "name": "stderr",
     "output_type": "stream",
     "text": [
      "     25/100         0G      2.704      1.995      2.687         19        224: 100%|██████████| 3/3 [00:02<00:00,  1.47it/s]\n",
      "                 Class     Images  Instances      Box(P          R      mAP50  mAP50-95): 100%|██████████| 1/1 [00:00<00:00,  2.94it/s]"
     ]
    },
    {
     "name": "stdout",
     "output_type": "stream",
     "text": [
      "                   all         13         13          0          0          0          0\n"
     ]
    },
    {
     "name": "stderr",
     "output_type": "stream",
     "text": [
      "\n"
     ]
    },
    {
     "name": "stdout",
     "output_type": "stream",
     "text": [
      "\n",
      "      Epoch    GPU_mem   box_loss   cls_loss   dfl_loss  Instances       Size\n"
     ]
    },
    {
     "name": "stderr",
     "output_type": "stream",
     "text": [
      "     26/100         0G      2.874      2.119      2.722         19        224: 100%|██████████| 3/3 [00:02<00:00,  1.25it/s]\n",
      "                 Class     Images  Instances      Box(P          R      mAP50  mAP50-95): 100%|██████████| 1/1 [00:00<00:00,  2.55it/s]"
     ]
    },
    {
     "name": "stdout",
     "output_type": "stream",
     "text": [
      "                   all         13         13          0          0          0          0\n"
     ]
    },
    {
     "name": "stderr",
     "output_type": "stream",
     "text": [
      "\n"
     ]
    },
    {
     "name": "stdout",
     "output_type": "stream",
     "text": [
      "\n",
      "      Epoch    GPU_mem   box_loss   cls_loss   dfl_loss  Instances       Size\n"
     ]
    },
    {
     "name": "stderr",
     "output_type": "stream",
     "text": [
      "     27/100         0G      2.631      2.038      2.813          9        224: 100%|██████████| 3/3 [00:02<00:00,  1.20it/s]\n",
      "                 Class     Images  Instances      Box(P          R      mAP50  mAP50-95): 100%|██████████| 1/1 [00:00<00:00,  2.79it/s]"
     ]
    },
    {
     "name": "stdout",
     "output_type": "stream",
     "text": [
      "                   all         13         13    0.00994      0.385     0.0116    0.00574\n"
     ]
    },
    {
     "name": "stderr",
     "output_type": "stream",
     "text": [
      "\n"
     ]
    },
    {
     "name": "stdout",
     "output_type": "stream",
     "text": [
      "\n",
      "      Epoch    GPU_mem   box_loss   cls_loss   dfl_loss  Instances       Size\n"
     ]
    },
    {
     "name": "stderr",
     "output_type": "stream",
     "text": [
      "     28/100         0G      2.787       2.01      2.718         19        224: 100%|██████████| 3/3 [00:02<00:00,  1.33it/s]\n",
      "                 Class     Images  Instances      Box(P          R      mAP50  mAP50-95): 100%|██████████| 1/1 [00:00<00:00,  2.88it/s]"
     ]
    },
    {
     "name": "stdout",
     "output_type": "stream",
     "text": [
      "                   all         13         13    0.00569      0.538     0.0782     0.0198\n"
     ]
    },
    {
     "name": "stderr",
     "output_type": "stream",
     "text": [
      "\n"
     ]
    },
    {
     "name": "stdout",
     "output_type": "stream",
     "text": [
      "\n",
      "      Epoch    GPU_mem   box_loss   cls_loss   dfl_loss  Instances       Size\n"
     ]
    },
    {
     "name": "stderr",
     "output_type": "stream",
     "text": [
      "     29/100         0G      2.638       1.97      2.625         16        224: 100%|██████████| 3/3 [00:02<00:00,  1.35it/s]\n",
      "                 Class     Images  Instances      Box(P          R      mAP50  mAP50-95): 100%|██████████| 1/1 [00:00<00:00,  2.44it/s]"
     ]
    },
    {
     "name": "stdout",
     "output_type": "stream",
     "text": [
      "                   all         13         13    0.00569      0.538     0.0782     0.0198\n"
     ]
    },
    {
     "name": "stderr",
     "output_type": "stream",
     "text": [
      "\n"
     ]
    },
    {
     "name": "stdout",
     "output_type": "stream",
     "text": [
      "\n",
      "      Epoch    GPU_mem   box_loss   cls_loss   dfl_loss  Instances       Size\n"
     ]
    },
    {
     "name": "stderr",
     "output_type": "stream",
     "text": [
      "     30/100         0G      2.376      1.953      2.606         14        224: 100%|██████████| 3/3 [00:02<00:00,  1.31it/s]\n",
      "                 Class     Images  Instances      Box(P          R      mAP50  mAP50-95): 100%|██████████| 1/1 [00:00<00:00,  2.62it/s]"
     ]
    },
    {
     "name": "stdout",
     "output_type": "stream",
     "text": [
      "                   all         13         13    0.00463      0.538      0.117     0.0395\n"
     ]
    },
    {
     "name": "stderr",
     "output_type": "stream",
     "text": [
      "\n"
     ]
    },
    {
     "name": "stdout",
     "output_type": "stream",
     "text": [
      "\n",
      "      Epoch    GPU_mem   box_loss   cls_loss   dfl_loss  Instances       Size\n"
     ]
    },
    {
     "name": "stderr",
     "output_type": "stream",
     "text": [
      "     31/100         0G      2.674      2.173      2.582         14        224: 100%|██████████| 3/3 [00:02<00:00,  1.29it/s]\n",
      "                 Class     Images  Instances      Box(P          R      mAP50  mAP50-95): 100%|██████████| 1/1 [00:00<00:00,  2.92it/s]"
     ]
    },
    {
     "name": "stdout",
     "output_type": "stream",
     "text": [
      "                   all         13         13     0.0658      0.615      0.176     0.0662\n"
     ]
    },
    {
     "name": "stderr",
     "output_type": "stream",
     "text": [
      "\n"
     ]
    },
    {
     "name": "stdout",
     "output_type": "stream",
     "text": [
      "\n",
      "      Epoch    GPU_mem   box_loss   cls_loss   dfl_loss  Instances       Size\n"
     ]
    },
    {
     "name": "stderr",
     "output_type": "stream",
     "text": [
      "     32/100         0G      2.391      2.054      2.617          6        224: 100%|██████████| 3/3 [00:02<00:00,  1.39it/s]\n",
      "                 Class     Images  Instances      Box(P          R      mAP50  mAP50-95): 100%|██████████| 1/1 [00:00<00:00,  2.50it/s]"
     ]
    },
    {
     "name": "stdout",
     "output_type": "stream",
     "text": [
      "                   all         13         13      0.605      0.231       0.27      0.133\n"
     ]
    },
    {
     "name": "stderr",
     "output_type": "stream",
     "text": [
      "\n"
     ]
    },
    {
     "name": "stdout",
     "output_type": "stream",
     "text": [
      "\n",
      "      Epoch    GPU_mem   box_loss   cls_loss   dfl_loss  Instances       Size\n"
     ]
    },
    {
     "name": "stderr",
     "output_type": "stream",
     "text": [
      "     33/100         0G      2.443      1.842      2.521         20        224: 100%|██████████| 3/3 [00:02<00:00,  1.37it/s]\n",
      "                 Class     Images  Instances      Box(P          R      mAP50  mAP50-95): 100%|██████████| 1/1 [00:00<00:00,  2.86it/s]"
     ]
    },
    {
     "name": "stdout",
     "output_type": "stream",
     "text": [
      "                   all         13         13      0.605      0.231       0.27      0.133\n"
     ]
    },
    {
     "name": "stderr",
     "output_type": "stream",
     "text": [
      "\n"
     ]
    },
    {
     "name": "stdout",
     "output_type": "stream",
     "text": [
      "\n",
      "      Epoch    GPU_mem   box_loss   cls_loss   dfl_loss  Instances       Size\n"
     ]
    },
    {
     "name": "stderr",
     "output_type": "stream",
     "text": [
      "     34/100         0G       2.62      1.774      2.401         17        224: 100%|██████████| 3/3 [00:02<00:00,  1.35it/s]\n",
      "                 Class     Images  Instances      Box(P          R      mAP50  mAP50-95): 100%|██████████| 1/1 [00:00<00:00,  2.79it/s]"
     ]
    },
    {
     "name": "stdout",
     "output_type": "stream",
     "text": [
      "                   all         13         13      0.805      0.231      0.309      0.127\n"
     ]
    },
    {
     "name": "stderr",
     "output_type": "stream",
     "text": [
      "\n"
     ]
    },
    {
     "name": "stdout",
     "output_type": "stream",
     "text": [
      "\n",
      "      Epoch    GPU_mem   box_loss   cls_loss   dfl_loss  Instances       Size\n"
     ]
    },
    {
     "name": "stderr",
     "output_type": "stream",
     "text": [
      "     35/100         0G      2.468      1.818      2.448         20        224: 100%|██████████| 3/3 [00:02<00:00,  1.24it/s]\n",
      "                 Class     Images  Instances      Box(P          R      mAP50  mAP50-95): 100%|██████████| 1/1 [00:00<00:00,  2.59it/s]"
     ]
    },
    {
     "name": "stdout",
     "output_type": "stream",
     "text": [
      "                   all         13         13      0.663      0.308      0.343     0.0815\n"
     ]
    },
    {
     "name": "stderr",
     "output_type": "stream",
     "text": [
      "\n"
     ]
    },
    {
     "name": "stdout",
     "output_type": "stream",
     "text": [
      "\n",
      "      Epoch    GPU_mem   box_loss   cls_loss   dfl_loss  Instances       Size\n"
     ]
    },
    {
     "name": "stderr",
     "output_type": "stream",
     "text": [
      "     36/100         0G      2.406      2.132      2.625         12        224: 100%|██████████| 3/3 [00:02<00:00,  1.19it/s]\n",
      "                 Class     Images  Instances      Box(P          R      mAP50  mAP50-95): 100%|██████████| 1/1 [00:00<00:00,  2.62it/s]"
     ]
    },
    {
     "name": "stdout",
     "output_type": "stream",
     "text": [
      "                   all         13         13      0.875      0.154      0.285     0.0982\n"
     ]
    },
    {
     "name": "stderr",
     "output_type": "stream",
     "text": [
      "\n"
     ]
    },
    {
     "name": "stdout",
     "output_type": "stream",
     "text": [
      "\n",
      "      Epoch    GPU_mem   box_loss   cls_loss   dfl_loss  Instances       Size\n"
     ]
    },
    {
     "name": "stderr",
     "output_type": "stream",
     "text": [
      "     37/100         0G      2.377      1.988      2.543         16        224: 100%|██████████| 3/3 [00:02<00:00,  1.22it/s]\n",
      "                 Class     Images  Instances      Box(P          R      mAP50  mAP50-95): 100%|██████████| 1/1 [00:00<00:00,  2.39it/s]"
     ]
    },
    {
     "name": "stdout",
     "output_type": "stream",
     "text": [
      "                   all         13         13      0.875      0.154      0.285     0.0982\n"
     ]
    },
    {
     "name": "stderr",
     "output_type": "stream",
     "text": [
      "\n"
     ]
    },
    {
     "name": "stdout",
     "output_type": "stream",
     "text": [
      "\n",
      "      Epoch    GPU_mem   box_loss   cls_loss   dfl_loss  Instances       Size\n"
     ]
    },
    {
     "name": "stderr",
     "output_type": "stream",
     "text": [
      "     38/100         0G      2.295      1.769       2.26         17        224: 100%|██████████| 3/3 [00:02<00:00,  1.13it/s]\n",
      "                 Class     Images  Instances      Box(P          R      mAP50  mAP50-95): 100%|██████████| 1/1 [00:00<00:00,  2.48it/s]"
     ]
    },
    {
     "name": "stdout",
     "output_type": "stream",
     "text": [
      "                   all         13         13       0.92      0.231      0.441       0.19\n"
     ]
    },
    {
     "name": "stderr",
     "output_type": "stream",
     "text": [
      "\n"
     ]
    },
    {
     "name": "stdout",
     "output_type": "stream",
     "text": [
      "\n",
      "      Epoch    GPU_mem   box_loss   cls_loss   dfl_loss  Instances       Size\n"
     ]
    },
    {
     "name": "stderr",
     "output_type": "stream",
     "text": [
      "     39/100         0G      2.433      1.889      2.373         17        224: 100%|██████████| 3/3 [00:02<00:00,  1.18it/s]\n",
      "                 Class     Images  Instances      Box(P          R      mAP50  mAP50-95): 100%|██████████| 1/1 [00:00<00:00,  2.61it/s]"
     ]
    },
    {
     "name": "stdout",
     "output_type": "stream",
     "text": [
      "                   all         13         13      0.443      0.462      0.577      0.264\n"
     ]
    },
    {
     "name": "stderr",
     "output_type": "stream",
     "text": [
      "\n"
     ]
    },
    {
     "name": "stdout",
     "output_type": "stream",
     "text": [
      "\n",
      "      Epoch    GPU_mem   box_loss   cls_loss   dfl_loss  Instances       Size\n"
     ]
    },
    {
     "name": "stderr",
     "output_type": "stream",
     "text": [
      "     40/100         0G      2.032      1.669      2.247         13        224: 100%|██████████| 3/3 [00:04<00:00,  1.42s/it]\n",
      "                 Class     Images  Instances      Box(P          R      mAP50  mAP50-95): 100%|██████████| 1/1 [00:00<00:00,  2.62it/s]"
     ]
    },
    {
     "name": "stdout",
     "output_type": "stream",
     "text": [
      "                   all         13         13      0.378      0.538      0.518      0.272\n"
     ]
    },
    {
     "name": "stderr",
     "output_type": "stream",
     "text": [
      "\n"
     ]
    },
    {
     "name": "stdout",
     "output_type": "stream",
     "text": [
      "\n",
      "      Epoch    GPU_mem   box_loss   cls_loss   dfl_loss  Instances       Size\n"
     ]
    },
    {
     "name": "stderr",
     "output_type": "stream",
     "text": [
      "     41/100         0G      2.171      1.884      2.234         11        224: 100%|██████████| 3/3 [00:02<00:00,  1.35it/s]\n",
      "                 Class     Images  Instances      Box(P          R      mAP50  mAP50-95): 100%|██████████| 1/1 [00:00<00:00,  2.63it/s]"
     ]
    },
    {
     "name": "stdout",
     "output_type": "stream",
     "text": [
      "                   all         13         13      0.378      0.538      0.518      0.272\n"
     ]
    },
    {
     "name": "stderr",
     "output_type": "stream",
     "text": [
      "\n"
     ]
    },
    {
     "name": "stdout",
     "output_type": "stream",
     "text": [
      "\n",
      "      Epoch    GPU_mem   box_loss   cls_loss   dfl_loss  Instances       Size\n"
     ]
    },
    {
     "name": "stderr",
     "output_type": "stream",
     "text": [
      "     42/100         0G      2.244      1.748      2.271         18        224: 100%|██████████| 3/3 [00:02<00:00,  1.19it/s]\n",
      "                 Class     Images  Instances      Box(P          R      mAP50  mAP50-95): 100%|██████████| 1/1 [00:00<00:00,  2.79it/s]"
     ]
    },
    {
     "name": "stdout",
     "output_type": "stream",
     "text": [
      "                   all         13         13      0.468      0.538      0.556      0.324\n"
     ]
    },
    {
     "name": "stderr",
     "output_type": "stream",
     "text": [
      "\n"
     ]
    },
    {
     "name": "stdout",
     "output_type": "stream",
     "text": [
      "\n",
      "      Epoch    GPU_mem   box_loss   cls_loss   dfl_loss  Instances       Size\n"
     ]
    },
    {
     "name": "stderr",
     "output_type": "stream",
     "text": [
      "     43/100         0G      2.193      1.658      2.274         14        224: 100%|██████████| 3/3 [00:02<00:00,  1.27it/s]\n",
      "                 Class     Images  Instances      Box(P          R      mAP50  mAP50-95): 100%|██████████| 1/1 [00:00<00:00,  2.82it/s]"
     ]
    },
    {
     "name": "stdout",
     "output_type": "stream",
     "text": [
      "                   all         13         13      0.614      0.462       0.54      0.353\n"
     ]
    },
    {
     "name": "stderr",
     "output_type": "stream",
     "text": [
      "\n"
     ]
    },
    {
     "name": "stdout",
     "output_type": "stream",
     "text": [
      "\n",
      "      Epoch    GPU_mem   box_loss   cls_loss   dfl_loss  Instances       Size\n"
     ]
    },
    {
     "name": "stderr",
     "output_type": "stream",
     "text": [
      "     44/100         0G      2.225      1.769      2.297         16        224: 100%|██████████| 3/3 [00:02<00:00,  1.31it/s]\n",
      "                 Class     Images  Instances      Box(P          R      mAP50  mAP50-95): 100%|██████████| 1/1 [00:00<00:00,  2.62it/s]"
     ]
    },
    {
     "name": "stdout",
     "output_type": "stream",
     "text": [
      "                   all         13         13      0.732      0.538        0.6      0.367\n"
     ]
    },
    {
     "name": "stderr",
     "output_type": "stream",
     "text": [
      "\n"
     ]
    },
    {
     "name": "stdout",
     "output_type": "stream",
     "text": [
      "\n",
      "      Epoch    GPU_mem   box_loss   cls_loss   dfl_loss  Instances       Size\n"
     ]
    },
    {
     "name": "stderr",
     "output_type": "stream",
     "text": [
      "     45/100         0G      2.318      1.809      2.182         13        224: 100%|██████████| 3/3 [00:02<00:00,  1.31it/s]\n",
      "                 Class     Images  Instances      Box(P          R      mAP50  mAP50-95): 100%|██████████| 1/1 [00:00<00:00,  2.50it/s]"
     ]
    },
    {
     "name": "stdout",
     "output_type": "stream",
     "text": [
      "                   all         13         13      0.732      0.538        0.6      0.367\n"
     ]
    },
    {
     "name": "stderr",
     "output_type": "stream",
     "text": [
      "\n"
     ]
    },
    {
     "name": "stdout",
     "output_type": "stream",
     "text": [
      "\n",
      "      Epoch    GPU_mem   box_loss   cls_loss   dfl_loss  Instances       Size\n"
     ]
    },
    {
     "name": "stderr",
     "output_type": "stream",
     "text": [
      "     46/100         0G      2.183      1.677      2.161         14        224: 100%|██████████| 3/3 [00:02<00:00,  1.29it/s]\n",
      "                 Class     Images  Instances      Box(P          R      mAP50  mAP50-95): 100%|██████████| 1/1 [00:00<00:00,  2.89it/s]"
     ]
    },
    {
     "name": "stdout",
     "output_type": "stream",
     "text": [
      "                   all         13         13      0.677      0.538      0.627      0.352\n"
     ]
    },
    {
     "name": "stderr",
     "output_type": "stream",
     "text": [
      "\n"
     ]
    },
    {
     "name": "stdout",
     "output_type": "stream",
     "text": [
      "\n",
      "      Epoch    GPU_mem   box_loss   cls_loss   dfl_loss  Instances       Size\n"
     ]
    },
    {
     "name": "stderr",
     "output_type": "stream",
     "text": [
      "     47/100         0G       2.36      1.952      2.147         14        224: 100%|██████████| 3/3 [00:02<00:00,  1.34it/s]\n",
      "                 Class     Images  Instances      Box(P          R      mAP50  mAP50-95): 100%|██████████| 1/1 [00:00<00:00,  2.92it/s]"
     ]
    },
    {
     "name": "stdout",
     "output_type": "stream",
     "text": [
      "                   all         13         13      0.349      0.702      0.458      0.278\n"
     ]
    },
    {
     "name": "stderr",
     "output_type": "stream",
     "text": [
      "\n"
     ]
    },
    {
     "name": "stdout",
     "output_type": "stream",
     "text": [
      "\n",
      "      Epoch    GPU_mem   box_loss   cls_loss   dfl_loss  Instances       Size\n"
     ]
    },
    {
     "name": "stderr",
     "output_type": "stream",
     "text": [
      "     48/100         0G      2.154      1.636      2.147         13        224: 100%|██████████| 3/3 [00:02<00:00,  1.38it/s]\n",
      "                 Class     Images  Instances      Box(P          R      mAP50  mAP50-95): 100%|██████████| 1/1 [00:00<00:00,  3.00it/s]"
     ]
    },
    {
     "name": "stdout",
     "output_type": "stream",
     "text": [
      "                   all         13         13      0.462      0.615      0.619      0.367\n"
     ]
    },
    {
     "name": "stderr",
     "output_type": "stream",
     "text": [
      "\n"
     ]
    },
    {
     "name": "stdout",
     "output_type": "stream",
     "text": [
      "\n",
      "      Epoch    GPU_mem   box_loss   cls_loss   dfl_loss  Instances       Size\n"
     ]
    },
    {
     "name": "stderr",
     "output_type": "stream",
     "text": [
      "     49/100         0G      2.195      1.777      2.231         18        224: 100%|██████████| 3/3 [00:02<00:00,  1.29it/s]\n",
      "                 Class     Images  Instances      Box(P          R      mAP50  mAP50-95): 100%|██████████| 1/1 [00:00<00:00,  2.37it/s]"
     ]
    },
    {
     "name": "stdout",
     "output_type": "stream",
     "text": [
      "                   all         13         13      0.462      0.615      0.619      0.367\n"
     ]
    },
    {
     "name": "stderr",
     "output_type": "stream",
     "text": [
      "\n"
     ]
    },
    {
     "name": "stdout",
     "output_type": "stream",
     "text": [
      "\n",
      "      Epoch    GPU_mem   box_loss   cls_loss   dfl_loss  Instances       Size\n"
     ]
    },
    {
     "name": "stderr",
     "output_type": "stream",
     "text": [
      "     50/100         0G      2.058      1.659      2.013         19        224: 100%|██████████| 3/3 [00:02<00:00,  1.19it/s]\n",
      "                 Class     Images  Instances      Box(P          R      mAP50  mAP50-95): 100%|██████████| 1/1 [00:00<00:00,  2.25it/s]"
     ]
    },
    {
     "name": "stdout",
     "output_type": "stream",
     "text": [
      "                   all         13         13       0.61      0.724        0.7      0.347\n"
     ]
    },
    {
     "name": "stderr",
     "output_type": "stream",
     "text": [
      "\n"
     ]
    },
    {
     "name": "stdout",
     "output_type": "stream",
     "text": [
      "\n",
      "      Epoch    GPU_mem   box_loss   cls_loss   dfl_loss  Instances       Size\n"
     ]
    },
    {
     "name": "stderr",
     "output_type": "stream",
     "text": [
      "     51/100         0G      2.041      1.711      2.007         13        224: 100%|██████████| 3/3 [00:02<00:00,  1.18it/s]\n",
      "                 Class     Images  Instances      Box(P          R      mAP50  mAP50-95): 100%|██████████| 1/1 [00:00<00:00,  2.39it/s]"
     ]
    },
    {
     "name": "stdout",
     "output_type": "stream",
     "text": [
      "                   all         13         13      0.441      0.923      0.651      0.341\n"
     ]
    },
    {
     "name": "stderr",
     "output_type": "stream",
     "text": [
      "\n"
     ]
    },
    {
     "name": "stdout",
     "output_type": "stream",
     "text": [
      "\n",
      "      Epoch    GPU_mem   box_loss   cls_loss   dfl_loss  Instances       Size\n"
     ]
    },
    {
     "name": "stderr",
     "output_type": "stream",
     "text": [
      "     52/100         0G      2.044      1.628      2.174         14        224: 100%|██████████| 3/3 [00:02<00:00,  1.16it/s]\n",
      "                 Class     Images  Instances      Box(P          R      mAP50  mAP50-95): 100%|██████████| 1/1 [00:00<00:00,  2.49it/s]"
     ]
    },
    {
     "name": "stdout",
     "output_type": "stream",
     "text": [
      "                   all         13         13      0.527      0.615      0.667      0.391\n"
     ]
    },
    {
     "name": "stderr",
     "output_type": "stream",
     "text": [
      "\n"
     ]
    },
    {
     "name": "stdout",
     "output_type": "stream",
     "text": [
      "\n",
      "      Epoch    GPU_mem   box_loss   cls_loss   dfl_loss  Instances       Size\n"
     ]
    },
    {
     "name": "stderr",
     "output_type": "stream",
     "text": [
      "     53/100         0G      2.176      1.542      2.198         14        224: 100%|██████████| 3/3 [00:02<00:00,  1.26it/s]\n",
      "                 Class     Images  Instances      Box(P          R      mAP50  mAP50-95): 100%|██████████| 1/1 [00:00<00:00,  2.64it/s]"
     ]
    },
    {
     "name": "stdout",
     "output_type": "stream",
     "text": [
      "                   all         13         13      0.527      0.615      0.667      0.391\n"
     ]
    },
    {
     "name": "stderr",
     "output_type": "stream",
     "text": [
      "\n"
     ]
    },
    {
     "name": "stdout",
     "output_type": "stream",
     "text": [
      "\n",
      "      Epoch    GPU_mem   box_loss   cls_loss   dfl_loss  Instances       Size\n"
     ]
    },
    {
     "name": "stderr",
     "output_type": "stream",
     "text": [
      "     54/100         0G       2.11      1.725      2.026         18        224: 100%|██████████| 3/3 [00:02<00:00,  1.23it/s]\n",
      "                 Class     Images  Instances      Box(P          R      mAP50  mAP50-95): 100%|██████████| 1/1 [00:00<00:00,  2.43it/s]"
     ]
    },
    {
     "name": "stdout",
     "output_type": "stream",
     "text": [
      "                   all         13         13      0.526      0.854      0.738      0.434\n"
     ]
    },
    {
     "name": "stderr",
     "output_type": "stream",
     "text": [
      "\n"
     ]
    },
    {
     "name": "stdout",
     "output_type": "stream",
     "text": [
      "\n",
      "      Epoch    GPU_mem   box_loss   cls_loss   dfl_loss  Instances       Size\n"
     ]
    },
    {
     "name": "stderr",
     "output_type": "stream",
     "text": [
      "     55/100         0G      2.206      1.684      1.953          9        224: 100%|██████████| 3/3 [00:02<00:00,  1.28it/s]\n",
      "                 Class     Images  Instances      Box(P          R      mAP50  mAP50-95): 100%|██████████| 1/1 [00:00<00:00,  2.62it/s]"
     ]
    },
    {
     "name": "stdout",
     "output_type": "stream",
     "text": [
      "                   all         13         13       0.56      0.883      0.773      0.448\n"
     ]
    },
    {
     "name": "stderr",
     "output_type": "stream",
     "text": [
      "\n"
     ]
    },
    {
     "name": "stdout",
     "output_type": "stream",
     "text": [
      "\n",
      "      Epoch    GPU_mem   box_loss   cls_loss   dfl_loss  Instances       Size\n"
     ]
    },
    {
     "name": "stderr",
     "output_type": "stream",
     "text": [
      "     56/100         0G       2.16      1.686      2.231         13        224: 100%|██████████| 3/3 [00:02<00:00,  1.37it/s]\n",
      "                 Class     Images  Instances      Box(P          R      mAP50  mAP50-95): 100%|██████████| 1/1 [00:00<00:00,  2.69it/s]"
     ]
    },
    {
     "name": "stdout",
     "output_type": "stream",
     "text": [
      "                   all         13         13      0.699      0.846      0.806       0.47\n"
     ]
    },
    {
     "name": "stderr",
     "output_type": "stream",
     "text": [
      "\n"
     ]
    },
    {
     "name": "stdout",
     "output_type": "stream",
     "text": [
      "\n",
      "      Epoch    GPU_mem   box_loss   cls_loss   dfl_loss  Instances       Size\n"
     ]
    },
    {
     "name": "stderr",
     "output_type": "stream",
     "text": [
      "     57/100         0G      1.894      1.517      1.987         14        224: 100%|██████████| 3/3 [00:02<00:00,  1.31it/s]\n",
      "                 Class     Images  Instances      Box(P          R      mAP50  mAP50-95): 100%|██████████| 1/1 [00:00<00:00,  2.60it/s]"
     ]
    },
    {
     "name": "stdout",
     "output_type": "stream",
     "text": [
      "                   all         13         13      0.699      0.846      0.806       0.47\n"
     ]
    },
    {
     "name": "stderr",
     "output_type": "stream",
     "text": [
      "\n"
     ]
    },
    {
     "name": "stdout",
     "output_type": "stream",
     "text": [
      "\n",
      "      Epoch    GPU_mem   box_loss   cls_loss   dfl_loss  Instances       Size\n"
     ]
    },
    {
     "name": "stderr",
     "output_type": "stream",
     "text": [
      "     58/100         0G      2.126      1.618       2.09         15        224: 100%|██████████| 3/3 [00:02<00:00,  1.37it/s]\n",
      "                 Class     Images  Instances      Box(P          R      mAP50  mAP50-95): 100%|██████████| 1/1 [00:00<00:00,  2.98it/s]"
     ]
    },
    {
     "name": "stdout",
     "output_type": "stream",
     "text": [
      "                   all         13         13      0.763      0.745      0.802      0.514\n"
     ]
    },
    {
     "name": "stderr",
     "output_type": "stream",
     "text": [
      "\n"
     ]
    },
    {
     "name": "stdout",
     "output_type": "stream",
     "text": [
      "\n",
      "      Epoch    GPU_mem   box_loss   cls_loss   dfl_loss  Instances       Size\n"
     ]
    },
    {
     "name": "stderr",
     "output_type": "stream",
     "text": [
      "     59/100         0G          2      1.605      1.972         14        224: 100%|██████████| 3/3 [00:02<00:00,  1.30it/s]\n",
      "                 Class     Images  Instances      Box(P          R      mAP50  mAP50-95): 100%|██████████| 1/1 [00:00<00:00,  2.69it/s]"
     ]
    },
    {
     "name": "stdout",
     "output_type": "stream",
     "text": [
      "                   all         13         13      0.642      0.769      0.828      0.515\n"
     ]
    },
    {
     "name": "stderr",
     "output_type": "stream",
     "text": [
      "\n"
     ]
    },
    {
     "name": "stdout",
     "output_type": "stream",
     "text": [
      "\n",
      "      Epoch    GPU_mem   box_loss   cls_loss   dfl_loss  Instances       Size\n"
     ]
    },
    {
     "name": "stderr",
     "output_type": "stream",
     "text": [
      "     60/100         0G      2.002      1.599      2.057         13        224: 100%|██████████| 3/3 [00:02<00:00,  1.37it/s]\n",
      "                 Class     Images  Instances      Box(P          R      mAP50  mAP50-95): 100%|██████████| 1/1 [00:00<00:00,  2.85it/s]"
     ]
    },
    {
     "name": "stdout",
     "output_type": "stream",
     "text": [
      "                   all         13         13      0.596      0.795      0.821      0.422\n"
     ]
    },
    {
     "name": "stderr",
     "output_type": "stream",
     "text": [
      "\n"
     ]
    },
    {
     "name": "stdout",
     "output_type": "stream",
     "text": [
      "\n",
      "      Epoch    GPU_mem   box_loss   cls_loss   dfl_loss  Instances       Size\n"
     ]
    },
    {
     "name": "stderr",
     "output_type": "stream",
     "text": [
      "     61/100         0G      1.988      1.561      1.833         14        224: 100%|██████████| 3/3 [00:02<00:00,  1.32it/s]\n",
      "                 Class     Images  Instances      Box(P          R      mAP50  mAP50-95): 100%|██████████| 1/1 [00:00<00:00,  2.79it/s]"
     ]
    },
    {
     "name": "stdout",
     "output_type": "stream",
     "text": [
      "                   all         13         13      0.596      0.795      0.821      0.422\n"
     ]
    },
    {
     "name": "stderr",
     "output_type": "stream",
     "text": [
      "\n"
     ]
    },
    {
     "name": "stdout",
     "output_type": "stream",
     "text": [
      "\n",
      "      Epoch    GPU_mem   box_loss   cls_loss   dfl_loss  Instances       Size\n"
     ]
    },
    {
     "name": "stderr",
     "output_type": "stream",
     "text": [
      "     62/100         0G      1.905       1.52       1.93         17        224: 100%|██████████| 3/3 [00:02<00:00,  1.35it/s]\n",
      "                 Class     Images  Instances      Box(P          R      mAP50  mAP50-95): 100%|██████████| 1/1 [00:00<00:00,  3.00it/s]"
     ]
    },
    {
     "name": "stdout",
     "output_type": "stream",
     "text": [
      "                   all         13         13      0.585      0.769      0.783      0.415\n"
     ]
    },
    {
     "name": "stderr",
     "output_type": "stream",
     "text": [
      "\n"
     ]
    },
    {
     "name": "stdout",
     "output_type": "stream",
     "text": [
      "\n",
      "      Epoch    GPU_mem   box_loss   cls_loss   dfl_loss  Instances       Size\n"
     ]
    },
    {
     "name": "stderr",
     "output_type": "stream",
     "text": [
      "     63/100         0G      2.006      1.571      1.828         15        224: 100%|██████████| 3/3 [00:02<00:00,  1.35it/s]\n",
      "                 Class     Images  Instances      Box(P          R      mAP50  mAP50-95): 100%|██████████| 1/1 [00:00<00:00,  2.61it/s]"
     ]
    },
    {
     "name": "stdout",
     "output_type": "stream",
     "text": [
      "                   all         13         13      0.633      0.692      0.807      0.468\n"
     ]
    },
    {
     "name": "stderr",
     "output_type": "stream",
     "text": [
      "\n"
     ]
    },
    {
     "name": "stdout",
     "output_type": "stream",
     "text": [
      "\n",
      "      Epoch    GPU_mem   box_loss   cls_loss   dfl_loss  Instances       Size\n"
     ]
    },
    {
     "name": "stderr",
     "output_type": "stream",
     "text": [
      "     64/100         0G      1.862      1.465      1.847         17        224: 100%|██████████| 3/3 [00:02<00:00,  1.37it/s]\n",
      "                 Class     Images  Instances      Box(P          R      mAP50  mAP50-95): 100%|██████████| 1/1 [00:00<00:00,  2.91it/s]"
     ]
    },
    {
     "name": "stdout",
     "output_type": "stream",
     "text": [
      "                   all         13         13      0.886      0.599      0.793      0.505\n"
     ]
    },
    {
     "name": "stderr",
     "output_type": "stream",
     "text": [
      "\n"
     ]
    },
    {
     "name": "stdout",
     "output_type": "stream",
     "text": [
      "\n",
      "      Epoch    GPU_mem   box_loss   cls_loss   dfl_loss  Instances       Size\n"
     ]
    },
    {
     "name": "stderr",
     "output_type": "stream",
     "text": [
      "     65/100         0G      1.813       1.55      1.713         12        224: 100%|██████████| 3/3 [00:02<00:00,  1.35it/s]\n",
      "                 Class     Images  Instances      Box(P          R      mAP50  mAP50-95): 100%|██████████| 1/1 [00:00<00:00,  2.77it/s]"
     ]
    },
    {
     "name": "stdout",
     "output_type": "stream",
     "text": [
      "                   all         13         13      0.886      0.599      0.793      0.505\n"
     ]
    },
    {
     "name": "stderr",
     "output_type": "stream",
     "text": [
      "\n"
     ]
    },
    {
     "name": "stdout",
     "output_type": "stream",
     "text": [
      "\n",
      "      Epoch    GPU_mem   box_loss   cls_loss   dfl_loss  Instances       Size\n"
     ]
    },
    {
     "name": "stderr",
     "output_type": "stream",
     "text": [
      "     66/100         0G      1.902      1.592      2.019         11        224: 100%|██████████| 3/3 [00:02<00:00,  1.30it/s]\n",
      "                 Class     Images  Instances      Box(P          R      mAP50  mAP50-95): 100%|██████████| 1/1 [00:00<00:00,  2.40it/s]"
     ]
    },
    {
     "name": "stdout",
     "output_type": "stream",
     "text": [
      "                   all         13         13      0.919      0.538      0.771      0.503\n"
     ]
    },
    {
     "name": "stderr",
     "output_type": "stream",
     "text": [
      "\n"
     ]
    },
    {
     "name": "stdout",
     "output_type": "stream",
     "text": [
      "\n",
      "      Epoch    GPU_mem   box_loss   cls_loss   dfl_loss  Instances       Size\n"
     ]
    },
    {
     "name": "stderr",
     "output_type": "stream",
     "text": [
      "     67/100         0G      1.953      1.573      1.974         22        224: 100%|██████████| 3/3 [00:02<00:00,  1.35it/s]\n",
      "                 Class     Images  Instances      Box(P          R      mAP50  mAP50-95): 100%|██████████| 1/1 [00:00<00:00,  2.92it/s]"
     ]
    },
    {
     "name": "stdout",
     "output_type": "stream",
     "text": [
      "                   all         13         13      0.935      0.692      0.837      0.556\n"
     ]
    },
    {
     "name": "stderr",
     "output_type": "stream",
     "text": [
      "\n"
     ]
    },
    {
     "name": "stdout",
     "output_type": "stream",
     "text": [
      "\n",
      "      Epoch    GPU_mem   box_loss   cls_loss   dfl_loss  Instances       Size\n"
     ]
    },
    {
     "name": "stderr",
     "output_type": "stream",
     "text": [
      "     68/100         0G      1.751      1.484      1.836         14        224: 100%|██████████| 3/3 [00:02<00:00,  1.32it/s]\n",
      "                 Class     Images  Instances      Box(P          R      mAP50  mAP50-95): 100%|██████████| 1/1 [00:00<00:00,  2.86it/s]"
     ]
    },
    {
     "name": "stdout",
     "output_type": "stream",
     "text": [
      "                   all         13         13      0.854      0.769      0.881      0.587\n"
     ]
    },
    {
     "name": "stderr",
     "output_type": "stream",
     "text": [
      "\n"
     ]
    },
    {
     "name": "stdout",
     "output_type": "stream",
     "text": [
      "\n",
      "      Epoch    GPU_mem   box_loss   cls_loss   dfl_loss  Instances       Size\n"
     ]
    },
    {
     "name": "stderr",
     "output_type": "stream",
     "text": [
      "     69/100         0G      1.813      1.449      1.766         17        224: 100%|██████████| 3/3 [00:02<00:00,  1.42it/s]\n",
      "                 Class     Images  Instances      Box(P          R      mAP50  mAP50-95): 100%|██████████| 1/1 [00:00<00:00,  2.92it/s]"
     ]
    },
    {
     "name": "stdout",
     "output_type": "stream",
     "text": [
      "                   all         13         13      0.854      0.769      0.881      0.587\n"
     ]
    },
    {
     "name": "stderr",
     "output_type": "stream",
     "text": [
      "\n"
     ]
    },
    {
     "name": "stdout",
     "output_type": "stream",
     "text": [
      "\n",
      "      Epoch    GPU_mem   box_loss   cls_loss   dfl_loss  Instances       Size\n"
     ]
    },
    {
     "name": "stderr",
     "output_type": "stream",
     "text": [
      "     70/100         0G      1.827      1.516      1.834         13        224: 100%|██████████| 3/3 [00:02<00:00,  1.33it/s]\n",
      "                 Class     Images  Instances      Box(P          R      mAP50  mAP50-95): 100%|██████████| 1/1 [00:00<00:00,  2.79it/s]"
     ]
    },
    {
     "name": "stdout",
     "output_type": "stream",
     "text": [
      "                   all         13         13      0.773      0.846      0.872      0.551\n"
     ]
    },
    {
     "name": "stderr",
     "output_type": "stream",
     "text": [
      "\n"
     ]
    },
    {
     "name": "stdout",
     "output_type": "stream",
     "text": [
      "\n",
      "      Epoch    GPU_mem   box_loss   cls_loss   dfl_loss  Instances       Size\n"
     ]
    },
    {
     "name": "stderr",
     "output_type": "stream",
     "text": [
      "     71/100         0G      1.871      1.553       1.92         16        224: 100%|██████████| 3/3 [00:02<00:00,  1.34it/s]\n",
      "                 Class     Images  Instances      Box(P          R      mAP50  mAP50-95): 100%|██████████| 1/1 [00:00<00:00,  2.92it/s]"
     ]
    },
    {
     "name": "stdout",
     "output_type": "stream",
     "text": [
      "                   all         13         13      0.713      0.846       0.87      0.488\n"
     ]
    },
    {
     "name": "stderr",
     "output_type": "stream",
     "text": [
      "\n"
     ]
    },
    {
     "name": "stdout",
     "output_type": "stream",
     "text": [
      "\n",
      "      Epoch    GPU_mem   box_loss   cls_loss   dfl_loss  Instances       Size\n"
     ]
    },
    {
     "name": "stderr",
     "output_type": "stream",
     "text": [
      "     72/100         0G      1.647      1.321      1.812         15        224: 100%|██████████| 3/3 [00:02<00:00,  1.34it/s]\n",
      "                 Class     Images  Instances      Box(P          R      mAP50  mAP50-95): 100%|██████████| 1/1 [00:00<00:00,  2.79it/s]"
     ]
    },
    {
     "name": "stdout",
     "output_type": "stream",
     "text": [
      "                   all         13         13      0.753      0.938      0.918      0.535\n"
     ]
    },
    {
     "name": "stderr",
     "output_type": "stream",
     "text": [
      "\n"
     ]
    },
    {
     "name": "stdout",
     "output_type": "stream",
     "text": [
      "\n",
      "      Epoch    GPU_mem   box_loss   cls_loss   dfl_loss  Instances       Size\n"
     ]
    },
    {
     "name": "stderr",
     "output_type": "stream",
     "text": [
      "     73/100         0G      1.788      1.442      1.683         15        224: 100%|██████████| 3/3 [00:02<00:00,  1.34it/s]\n",
      "                 Class     Images  Instances      Box(P          R      mAP50  mAP50-95): 100%|██████████| 1/1 [00:00<00:00,  2.82it/s]"
     ]
    },
    {
     "name": "stdout",
     "output_type": "stream",
     "text": [
      "                   all         13         13      0.753      0.938      0.918      0.535\n"
     ]
    },
    {
     "name": "stderr",
     "output_type": "stream",
     "text": [
      "\n"
     ]
    },
    {
     "name": "stdout",
     "output_type": "stream",
     "text": [
      "\n",
      "      Epoch    GPU_mem   box_loss   cls_loss   dfl_loss  Instances       Size\n"
     ]
    },
    {
     "name": "stderr",
     "output_type": "stream",
     "text": [
      "     74/100         0G      1.904      1.501      1.945         10        224: 100%|██████████| 3/3 [00:02<00:00,  1.37it/s]\n",
      "                 Class     Images  Instances      Box(P          R      mAP50  mAP50-95): 100%|██████████| 1/1 [00:00<00:00,  2.79it/s]"
     ]
    },
    {
     "name": "stdout",
     "output_type": "stream",
     "text": [
      "                   all         13         13      0.806      0.961      0.941       0.57\n"
     ]
    },
    {
     "name": "stderr",
     "output_type": "stream",
     "text": [
      "\n"
     ]
    },
    {
     "name": "stdout",
     "output_type": "stream",
     "text": [
      "\n",
      "      Epoch    GPU_mem   box_loss   cls_loss   dfl_loss  Instances       Size\n"
     ]
    },
    {
     "name": "stderr",
     "output_type": "stream",
     "text": [
      "     75/100         0G      2.001      1.528      2.023         14        224: 100%|██████████| 3/3 [00:02<00:00,  1.35it/s]\n",
      "                 Class     Images  Instances      Box(P          R      mAP50  mAP50-95): 100%|██████████| 1/1 [00:00<00:00,  2.36it/s]"
     ]
    },
    {
     "name": "stdout",
     "output_type": "stream",
     "text": [
      "                   all         13         13      0.983      0.769      0.933      0.576\n"
     ]
    },
    {
     "name": "stderr",
     "output_type": "stream",
     "text": [
      "\n"
     ]
    },
    {
     "name": "stdout",
     "output_type": "stream",
     "text": [
      "\n",
      "      Epoch    GPU_mem   box_loss   cls_loss   dfl_loss  Instances       Size\n"
     ]
    },
    {
     "name": "stderr",
     "output_type": "stream",
     "text": [
      "     76/100         0G      1.826      1.472      2.004         17        224: 100%|██████████| 3/3 [00:02<00:00,  1.28it/s]\n",
      "                 Class     Images  Instances      Box(P          R      mAP50  mAP50-95): 100%|██████████| 1/1 [00:00<00:00,  2.62it/s]"
     ]
    },
    {
     "name": "stdout",
     "output_type": "stream",
     "text": [
      "                   all         13         13      0.905      0.736      0.906      0.514\n"
     ]
    },
    {
     "name": "stderr",
     "output_type": "stream",
     "text": [
      "\n"
     ]
    },
    {
     "name": "stdout",
     "output_type": "stream",
     "text": [
      "\n",
      "      Epoch    GPU_mem   box_loss   cls_loss   dfl_loss  Instances       Size\n"
     ]
    },
    {
     "name": "stderr",
     "output_type": "stream",
     "text": [
      "     77/100         0G      2.021       1.54      2.077         11        224: 100%|██████████| 3/3 [00:02<00:00,  1.37it/s]\n",
      "                 Class     Images  Instances      Box(P          R      mAP50  mAP50-95): 100%|██████████| 1/1 [00:00<00:00,  2.93it/s]"
     ]
    },
    {
     "name": "stdout",
     "output_type": "stream",
     "text": [
      "                   all         13         13      0.905      0.736      0.906      0.514\n"
     ]
    },
    {
     "name": "stderr",
     "output_type": "stream",
     "text": [
      "\n"
     ]
    },
    {
     "name": "stdout",
     "output_type": "stream",
     "text": [
      "\n",
      "      Epoch    GPU_mem   box_loss   cls_loss   dfl_loss  Instances       Size\n"
     ]
    },
    {
     "name": "stderr",
     "output_type": "stream",
     "text": [
      "     78/100         0G      1.967      1.526        1.8         21        224: 100%|██████████| 3/3 [00:02<00:00,  1.35it/s]\n",
      "                 Class     Images  Instances      Box(P          R      mAP50  mAP50-95): 100%|██████████| 1/1 [00:00<00:00,  2.86it/s]"
     ]
    },
    {
     "name": "stdout",
     "output_type": "stream",
     "text": [
      "                   all         13         13      0.835      0.779      0.877      0.503\n"
     ]
    },
    {
     "name": "stderr",
     "output_type": "stream",
     "text": [
      "\n"
     ]
    },
    {
     "name": "stdout",
     "output_type": "stream",
     "text": [
      "\n",
      "      Epoch    GPU_mem   box_loss   cls_loss   dfl_loss  Instances       Size\n"
     ]
    },
    {
     "name": "stderr",
     "output_type": "stream",
     "text": [
      "     79/100         0G      1.835      1.476      1.977         12        224: 100%|██████████| 3/3 [00:02<00:00,  1.32it/s]\n",
      "                 Class     Images  Instances      Box(P          R      mAP50  mAP50-95): 100%|██████████| 1/1 [00:00<00:00,  2.86it/s]"
     ]
    },
    {
     "name": "stdout",
     "output_type": "stream",
     "text": [
      "                   all         13         13      0.752      0.769      0.868      0.524\n"
     ]
    },
    {
     "name": "stderr",
     "output_type": "stream",
     "text": [
      "\n"
     ]
    },
    {
     "name": "stdout",
     "output_type": "stream",
     "text": [
      "\n",
      "      Epoch    GPU_mem   box_loss   cls_loss   dfl_loss  Instances       Size\n"
     ]
    },
    {
     "name": "stderr",
     "output_type": "stream",
     "text": [
      "     80/100         0G      1.739      1.282      1.678         15        224: 100%|██████████| 3/3 [00:02<00:00,  1.30it/s]\n",
      "                 Class     Images  Instances      Box(P          R      mAP50  mAP50-95): 100%|██████████| 1/1 [00:00<00:00,  2.07it/s]"
     ]
    },
    {
     "name": "stdout",
     "output_type": "stream",
     "text": [
      "                   all         13         13      0.967      0.769      0.923      0.572\n"
     ]
    },
    {
     "name": "stderr",
     "output_type": "stream",
     "text": [
      "\n"
     ]
    },
    {
     "name": "stdout",
     "output_type": "stream",
     "text": [
      "\n",
      "      Epoch    GPU_mem   box_loss   cls_loss   dfl_loss  Instances       Size\n"
     ]
    },
    {
     "name": "stderr",
     "output_type": "stream",
     "text": [
      "     81/100         0G      1.639      1.457      1.832         10        224: 100%|██████████| 3/3 [00:02<00:00,  1.36it/s]\n",
      "                 Class     Images  Instances      Box(P          R      mAP50  mAP50-95): 100%|██████████| 1/1 [00:00<00:00,  2.79it/s]"
     ]
    },
    {
     "name": "stdout",
     "output_type": "stream",
     "text": [
      "                   all         13         13      0.967      0.769      0.923      0.572\n"
     ]
    },
    {
     "name": "stderr",
     "output_type": "stream",
     "text": [
      "\n"
     ]
    },
    {
     "name": "stdout",
     "output_type": "stream",
     "text": [
      "\n",
      "      Epoch    GPU_mem   box_loss   cls_loss   dfl_loss  Instances       Size\n"
     ]
    },
    {
     "name": "stderr",
     "output_type": "stream",
     "text": [
      "     82/100         0G      1.778      1.426      1.776         12        224: 100%|██████████| 3/3 [00:02<00:00,  1.37it/s]\n",
      "                 Class     Images  Instances      Box(P          R      mAP50  mAP50-95): 100%|██████████| 1/1 [00:00<00:00,  2.55it/s]"
     ]
    },
    {
     "name": "stdout",
     "output_type": "stream",
     "text": [
      "                   all         13         13      0.946      0.846      0.942      0.613\n"
     ]
    },
    {
     "name": "stderr",
     "output_type": "stream",
     "text": [
      "\n"
     ]
    },
    {
     "name": "stdout",
     "output_type": "stream",
     "text": [
      "\n",
      "      Epoch    GPU_mem   box_loss   cls_loss   dfl_loss  Instances       Size\n"
     ]
    },
    {
     "name": "stderr",
     "output_type": "stream",
     "text": [
      "     83/100         0G      1.781      1.425      1.741         13        224: 100%|██████████| 3/3 [00:02<00:00,  1.35it/s]\n",
      "                 Class     Images  Instances      Box(P          R      mAP50  mAP50-95): 100%|██████████| 1/1 [00:00<00:00,  2.78it/s]"
     ]
    },
    {
     "name": "stdout",
     "output_type": "stream",
     "text": [
      "                   all         13         13      0.839      0.846       0.96      0.643\n"
     ]
    },
    {
     "name": "stderr",
     "output_type": "stream",
     "text": [
      "\n"
     ]
    },
    {
     "name": "stdout",
     "output_type": "stream",
     "text": [
      "\n",
      "      Epoch    GPU_mem   box_loss   cls_loss   dfl_loss  Instances       Size\n"
     ]
    },
    {
     "name": "stderr",
     "output_type": "stream",
     "text": [
      "     84/100         0G      1.938      1.378      1.855         16        224: 100%|██████████| 3/3 [00:02<00:00,  1.33it/s]\n",
      "                 Class     Images  Instances      Box(P          R      mAP50  mAP50-95): 100%|██████████| 1/1 [00:00<00:00,  2.88it/s]"
     ]
    },
    {
     "name": "stdout",
     "output_type": "stream",
     "text": [
      "                   all         13         13      0.927      0.981      0.974      0.632\n"
     ]
    },
    {
     "name": "stderr",
     "output_type": "stream",
     "text": [
      "\n"
     ]
    },
    {
     "name": "stdout",
     "output_type": "stream",
     "text": [
      "\n",
      "      Epoch    GPU_mem   box_loss   cls_loss   dfl_loss  Instances       Size\n"
     ]
    },
    {
     "name": "stderr",
     "output_type": "stream",
     "text": [
      "     85/100         0G       1.83      1.462      1.759         19        224: 100%|██████████| 3/3 [00:02<00:00,  1.36it/s]\n",
      "                 Class     Images  Instances      Box(P          R      mAP50  mAP50-95): 100%|██████████| 1/1 [00:00<00:00,  2.92it/s]"
     ]
    },
    {
     "name": "stdout",
     "output_type": "stream",
     "text": [
      "                   all         13         13      0.927      0.981      0.974      0.632\n"
     ]
    },
    {
     "name": "stderr",
     "output_type": "stream",
     "text": [
      "\n"
     ]
    },
    {
     "name": "stdout",
     "output_type": "stream",
     "text": [
      "\n",
      "      Epoch    GPU_mem   box_loss   cls_loss   dfl_loss  Instances       Size\n"
     ]
    },
    {
     "name": "stderr",
     "output_type": "stream",
     "text": [
      "     86/100         0G      1.789      1.411      1.651         14        224: 100%|██████████| 3/3 [00:02<00:00,  1.26it/s]\n",
      "                 Class     Images  Instances      Box(P          R      mAP50  mAP50-95): 100%|██████████| 1/1 [00:00<00:00,  2.85it/s]"
     ]
    },
    {
     "name": "stdout",
     "output_type": "stream",
     "text": [
      "                   all         13         13      0.925      0.956      0.951      0.634\n"
     ]
    },
    {
     "name": "stderr",
     "output_type": "stream",
     "text": [
      "\n"
     ]
    },
    {
     "name": "stdout",
     "output_type": "stream",
     "text": [
      "\n",
      "      Epoch    GPU_mem   box_loss   cls_loss   dfl_loss  Instances       Size\n"
     ]
    },
    {
     "name": "stderr",
     "output_type": "stream",
     "text": [
      "     87/100         0G      1.623      1.435      1.607         13        224: 100%|██████████| 3/3 [00:02<00:00,  1.34it/s]\n",
      "                 Class     Images  Instances      Box(P          R      mAP50  mAP50-95): 100%|██████████| 1/1 [00:00<00:00,  2.72it/s]"
     ]
    },
    {
     "name": "stdout",
     "output_type": "stream",
     "text": [
      "                   all         13         13      0.923      0.916      0.974      0.651\n"
     ]
    },
    {
     "name": "stderr",
     "output_type": "stream",
     "text": [
      "\n"
     ]
    },
    {
     "name": "stdout",
     "output_type": "stream",
     "text": [
      "\n",
      "      Epoch    GPU_mem   box_loss   cls_loss   dfl_loss  Instances       Size\n"
     ]
    },
    {
     "name": "stderr",
     "output_type": "stream",
     "text": [
      "     88/100         0G      1.717      1.415       1.62         19        224: 100%|██████████| 3/3 [00:02<00:00,  1.27it/s]\n",
      "                 Class     Images  Instances      Box(P          R      mAP50  mAP50-95): 100%|██████████| 1/1 [00:00<00:00,  2.81it/s]"
     ]
    },
    {
     "name": "stdout",
     "output_type": "stream",
     "text": [
      "                   all         13         13       0.82      0.923       0.97      0.654\n"
     ]
    },
    {
     "name": "stderr",
     "output_type": "stream",
     "text": [
      "\n"
     ]
    },
    {
     "name": "stdout",
     "output_type": "stream",
     "text": [
      "\n",
      "      Epoch    GPU_mem   box_loss   cls_loss   dfl_loss  Instances       Size\n"
     ]
    },
    {
     "name": "stderr",
     "output_type": "stream",
     "text": [
      "     89/100         0G      1.792      1.433      1.587         19        224: 100%|██████████| 3/3 [00:02<00:00,  1.39it/s]\n",
      "                 Class     Images  Instances      Box(P          R      mAP50  mAP50-95): 100%|██████████| 1/1 [00:00<00:00,  2.77it/s]"
     ]
    },
    {
     "name": "stdout",
     "output_type": "stream",
     "text": [
      "                   all         13         13       0.82      0.923       0.97      0.654\n"
     ]
    },
    {
     "name": "stderr",
     "output_type": "stream",
     "text": [
      "\n"
     ]
    },
    {
     "name": "stdout",
     "output_type": "stream",
     "text": [
      "\n",
      "      Epoch    GPU_mem   box_loss   cls_loss   dfl_loss  Instances       Size\n"
     ]
    },
    {
     "name": "stderr",
     "output_type": "stream",
     "text": [
      "     90/100         0G      1.563       1.34      1.615         12        224: 100%|██████████| 3/3 [00:02<00:00,  1.35it/s]\n",
      "                 Class     Images  Instances      Box(P          R      mAP50  mAP50-95): 100%|██████████| 1/1 [00:00<00:00,  2.92it/s]"
     ]
    },
    {
     "name": "stdout",
     "output_type": "stream",
     "text": [
      "                   all         13         13      0.883      0.846       0.95      0.644\n"
     ]
    },
    {
     "name": "stderr",
     "output_type": "stream",
     "text": [
      "\n"
     ]
    },
    {
     "name": "stdout",
     "output_type": "stream",
     "text": [
      "Closing dataloader mosaic\n",
      "\n",
      "      Epoch    GPU_mem   box_loss   cls_loss   dfl_loss  Instances       Size\n"
     ]
    },
    {
     "name": "stderr",
     "output_type": "stream",
     "text": [
      "     91/100         0G      1.497      1.499      1.752          9        224: 100%|██████████| 3/3 [00:02<00:00,  1.25it/s]\n",
      "                 Class     Images  Instances      Box(P          R      mAP50  mAP50-95): 100%|██████████| 1/1 [00:00<00:00,  2.56it/s]"
     ]
    },
    {
     "name": "stdout",
     "output_type": "stream",
     "text": [
      "                   all         13         13      0.877      0.846      0.925      0.636\n"
     ]
    },
    {
     "name": "stderr",
     "output_type": "stream",
     "text": [
      "\n"
     ]
    },
    {
     "name": "stdout",
     "output_type": "stream",
     "text": [
      "\n",
      "      Epoch    GPU_mem   box_loss   cls_loss   dfl_loss  Instances       Size\n"
     ]
    },
    {
     "name": "stderr",
     "output_type": "stream",
     "text": [
      "     92/100         0G      1.444      1.403      1.701          9        224: 100%|██████████| 3/3 [00:02<00:00,  1.38it/s]\n",
      "                 Class     Images  Instances      Box(P          R      mAP50  mAP50-95): 100%|██████████| 1/1 [00:00<00:00,  2.92it/s]"
     ]
    },
    {
     "name": "stdout",
     "output_type": "stream",
     "text": [
      "                   all         13         13      0.889      0.846      0.918      0.607\n"
     ]
    },
    {
     "name": "stderr",
     "output_type": "stream",
     "text": [
      "\n"
     ]
    },
    {
     "name": "stdout",
     "output_type": "stream",
     "text": [
      "\n",
      "      Epoch    GPU_mem   box_loss   cls_loss   dfl_loss  Instances       Size\n"
     ]
    },
    {
     "name": "stderr",
     "output_type": "stream",
     "text": [
      "     93/100         0G      1.549      1.526      1.832          9        224: 100%|██████████| 3/3 [00:02<00:00,  1.35it/s]\n",
      "                 Class     Images  Instances      Box(P          R      mAP50  mAP50-95): 100%|██████████| 1/1 [00:00<00:00,  2.87it/s]"
     ]
    },
    {
     "name": "stdout",
     "output_type": "stream",
     "text": [
      "                   all         13         13      0.889      0.846      0.918      0.607\n"
     ]
    },
    {
     "name": "stderr",
     "output_type": "stream",
     "text": [
      "\n"
     ]
    },
    {
     "name": "stdout",
     "output_type": "stream",
     "text": [
      "\n",
      "      Epoch    GPU_mem   box_loss   cls_loss   dfl_loss  Instances       Size\n"
     ]
    },
    {
     "name": "stderr",
     "output_type": "stream",
     "text": [
      "     94/100         0G      1.479      1.446      1.746          8        224: 100%|██████████| 3/3 [00:02<00:00,  1.20it/s]\n",
      "                 Class     Images  Instances      Box(P          R      mAP50  mAP50-95): 100%|██████████| 1/1 [00:00<00:00,  2.42it/s]"
     ]
    },
    {
     "name": "stdout",
     "output_type": "stream",
     "text": [
      "                   all         13         13      0.889      0.846      0.909      0.596\n"
     ]
    },
    {
     "name": "stderr",
     "output_type": "stream",
     "text": [
      "\n"
     ]
    },
    {
     "name": "stdout",
     "output_type": "stream",
     "text": [
      "\n",
      "      Epoch    GPU_mem   box_loss   cls_loss   dfl_loss  Instances       Size\n"
     ]
    },
    {
     "name": "stderr",
     "output_type": "stream",
     "text": [
      "     95/100         0G      1.441      1.463      1.775          9        224: 100%|██████████| 3/3 [00:02<00:00,  1.24it/s]\n",
      "                 Class     Images  Instances      Box(P          R      mAP50  mAP50-95): 100%|██████████| 1/1 [00:00<00:00,  2.76it/s]"
     ]
    },
    {
     "name": "stdout",
     "output_type": "stream",
     "text": [
      "                   all         13         13       0.88      0.846      0.908      0.596\n"
     ]
    },
    {
     "name": "stderr",
     "output_type": "stream",
     "text": [
      "\n"
     ]
    },
    {
     "name": "stdout",
     "output_type": "stream",
     "text": [
      "\n",
      "      Epoch    GPU_mem   box_loss   cls_loss   dfl_loss  Instances       Size\n"
     ]
    },
    {
     "name": "stderr",
     "output_type": "stream",
     "text": [
      "     96/100         0G      1.381      1.445       1.63          9        224: 100%|██████████| 3/3 [00:02<00:00,  1.20it/s]\n",
      "                 Class     Images  Instances      Box(P          R      mAP50  mAP50-95): 100%|██████████| 1/1 [00:00<00:00,  2.60it/s]"
     ]
    },
    {
     "name": "stdout",
     "output_type": "stream",
     "text": [
      "                   all         13         13      0.899      0.846      0.928      0.597\n"
     ]
    },
    {
     "name": "stderr",
     "output_type": "stream",
     "text": [
      "\n"
     ]
    },
    {
     "name": "stdout",
     "output_type": "stream",
     "text": [
      "\n",
      "      Epoch    GPU_mem   box_loss   cls_loss   dfl_loss  Instances       Size\n"
     ]
    },
    {
     "name": "stderr",
     "output_type": "stream",
     "text": [
      "     97/100         0G      1.508      1.385      1.861          8        224: 100%|██████████| 3/3 [00:02<00:00,  1.42it/s]\n",
      "                 Class     Images  Instances      Box(P          R      mAP50  mAP50-95): 100%|██████████| 1/1 [00:00<00:00,  2.72it/s]"
     ]
    },
    {
     "name": "stdout",
     "output_type": "stream",
     "text": [
      "                   all         13         13      0.899      0.846      0.928      0.597\n"
     ]
    },
    {
     "name": "stderr",
     "output_type": "stream",
     "text": [
      "\n"
     ]
    },
    {
     "name": "stdout",
     "output_type": "stream",
     "text": [
      "\n",
      "      Epoch    GPU_mem   box_loss   cls_loss   dfl_loss  Instances       Size\n"
     ]
    },
    {
     "name": "stderr",
     "output_type": "stream",
     "text": [
      "     98/100         0G      1.571      1.399      1.756          9        224: 100%|██████████| 3/3 [00:02<00:00,  1.42it/s]\n",
      "                 Class     Images  Instances      Box(P          R      mAP50  mAP50-95): 100%|██████████| 1/1 [00:00<00:00,  2.90it/s]"
     ]
    },
    {
     "name": "stdout",
     "output_type": "stream",
     "text": [
      "                   all         13         13      0.926      0.846      0.939      0.619\n"
     ]
    },
    {
     "name": "stderr",
     "output_type": "stream",
     "text": [
      "\n"
     ]
    },
    {
     "name": "stdout",
     "output_type": "stream",
     "text": [
      "\n",
      "      Epoch    GPU_mem   box_loss   cls_loss   dfl_loss  Instances       Size\n"
     ]
    },
    {
     "name": "stderr",
     "output_type": "stream",
     "text": [
      "     99/100         0G      1.483      1.417      1.738          9        224: 100%|██████████| 3/3 [00:02<00:00,  1.35it/s]\n",
      "                 Class     Images  Instances      Box(P          R      mAP50  mAP50-95): 100%|██████████| 1/1 [00:00<00:00,  3.06it/s]"
     ]
    },
    {
     "name": "stdout",
     "output_type": "stream",
     "text": [
      "                   all         13         13      0.918      0.846      0.954      0.634\n"
     ]
    },
    {
     "name": "stderr",
     "output_type": "stream",
     "text": [
      "\n"
     ]
    },
    {
     "name": "stdout",
     "output_type": "stream",
     "text": [
      "\n",
      "      Epoch    GPU_mem   box_loss   cls_loss   dfl_loss  Instances       Size\n"
     ]
    },
    {
     "name": "stderr",
     "output_type": "stream",
     "text": [
      "    100/100         0G      1.359        1.4      1.616          9        224: 100%|██████████| 3/3 [00:02<00:00,  1.41it/s]\n",
      "                 Class     Images  Instances      Box(P          R      mAP50  mAP50-95): 100%|██████████| 1/1 [00:00<00:00,  3.08it/s]"
     ]
    },
    {
     "name": "stdout",
     "output_type": "stream",
     "text": [
      "                   all         13         13      0.925      0.846      0.958      0.636\n"
     ]
    },
    {
     "name": "stderr",
     "output_type": "stream",
     "text": [
      "\n"
     ]
    },
    {
     "name": "stdout",
     "output_type": "stream",
     "text": [
      "\n",
      "100 epochs completed in 0.082 hours.\n",
      "Optimizer stripped from runs\\detect\\train9\\weights\\last.pt, 6.2MB\n",
      "Optimizer stripped from runs\\detect\\train9\\weights\\best.pt, 6.2MB\n",
      "\n",
      "Validating runs\\detect\\train9\\weights\\best.pt...\n",
      "Ultralytics 8.3.129  Python-3.8.12 torch-1.13.1+cu117 CPU (AMD Ryzen 7 4800HS with Radeon Graphics)\n",
      "YOLOv8n summary (fused): 72 layers, 3,006,038 parameters, 0 gradients, 8.1 GFLOPs\n"
     ]
    },
    {
     "name": "stderr",
     "output_type": "stream",
     "text": [
      "                 Class     Images  Instances      Box(P          R      mAP50  mAP50-95): 100%|██████████| 1/1 [00:00<00:00,  3.24it/s]\n"
     ]
    },
    {
     "name": "stdout",
     "output_type": "stream",
     "text": [
      "                   all         13         13       0.82      0.923       0.97      0.654\n",
      "                  blue         13         13       0.82      0.923       0.97      0.654\n",
      "Speed: 0.2ms preprocess, 18.1ms inference, 0.0ms loss, 0.6ms postprocess per image\n",
      "Results saved to \u001b[1mruns\\detect\\train9\u001b[0m\n"
     ]
    },
    {
     "data": {
      "text/plain": [
       "ultralytics.utils.metrics.DetMetrics object with attributes:\n",
       "\n",
       "ap_class_index: array([0])\n",
       "box: ultralytics.utils.metrics.Metric object\n",
       "confusion_matrix: <ultralytics.utils.metrics.ConfusionMatrix object at 0x000001C4A885AE50>\n",
       "curves: ['Precision-Recall(B)', 'F1-Confidence(B)', 'Precision-Confidence(B)', 'Recall-Confidence(B)']\n",
       "curves_results: [[array([          0,    0.001001,    0.002002,    0.003003,    0.004004,    0.005005,    0.006006,    0.007007,    0.008008,    0.009009,     0.01001,    0.011011,    0.012012,    0.013013,    0.014014,    0.015015,    0.016016,    0.017017,    0.018018,    0.019019,     0.02002,    0.021021,    0.022022,    0.023023,\n",
       "          0.024024,    0.025025,    0.026026,    0.027027,    0.028028,    0.029029,     0.03003,    0.031031,    0.032032,    0.033033,    0.034034,    0.035035,    0.036036,    0.037037,    0.038038,    0.039039,     0.04004,    0.041041,    0.042042,    0.043043,    0.044044,    0.045045,    0.046046,    0.047047,\n",
       "          0.048048,    0.049049,     0.05005,    0.051051,    0.052052,    0.053053,    0.054054,    0.055055,    0.056056,    0.057057,    0.058058,    0.059059,     0.06006,    0.061061,    0.062062,    0.063063,    0.064064,    0.065065,    0.066066,    0.067067,    0.068068,    0.069069,     0.07007,    0.071071,\n",
       "          0.072072,    0.073073,    0.074074,    0.075075,    0.076076,    0.077077,    0.078078,    0.079079,     0.08008,    0.081081,    0.082082,    0.083083,    0.084084,    0.085085,    0.086086,    0.087087,    0.088088,    0.089089,     0.09009,    0.091091,    0.092092,    0.093093,    0.094094,    0.095095,\n",
       "          0.096096,    0.097097,    0.098098,    0.099099,      0.1001,      0.1011,      0.1021,      0.1031,      0.1041,     0.10511,     0.10611,     0.10711,     0.10811,     0.10911,     0.11011,     0.11111,     0.11211,     0.11311,     0.11411,     0.11512,     0.11612,     0.11712,     0.11812,     0.11912,\n",
       "           0.12012,     0.12112,     0.12212,     0.12312,     0.12412,     0.12513,     0.12613,     0.12713,     0.12813,     0.12913,     0.13013,     0.13113,     0.13213,     0.13313,     0.13413,     0.13514,     0.13614,     0.13714,     0.13814,     0.13914,     0.14014,     0.14114,     0.14214,     0.14314,\n",
       "           0.14414,     0.14515,     0.14615,     0.14715,     0.14815,     0.14915,     0.15015,     0.15115,     0.15215,     0.15315,     0.15415,     0.15516,     0.15616,     0.15716,     0.15816,     0.15916,     0.16016,     0.16116,     0.16216,     0.16316,     0.16416,     0.16517,     0.16617,     0.16717,\n",
       "           0.16817,     0.16917,     0.17017,     0.17117,     0.17217,     0.17317,     0.17417,     0.17518,     0.17618,     0.17718,     0.17818,     0.17918,     0.18018,     0.18118,     0.18218,     0.18318,     0.18418,     0.18519,     0.18619,     0.18719,     0.18819,     0.18919,     0.19019,     0.19119,\n",
       "           0.19219,     0.19319,     0.19419,      0.1952,      0.1962,      0.1972,      0.1982,      0.1992,      0.2002,      0.2012,      0.2022,      0.2032,      0.2042,     0.20521,     0.20621,     0.20721,     0.20821,     0.20921,     0.21021,     0.21121,     0.21221,     0.21321,     0.21421,     0.21522,\n",
       "           0.21622,     0.21722,     0.21822,     0.21922,     0.22022,     0.22122,     0.22222,     0.22322,     0.22422,     0.22523,     0.22623,     0.22723,     0.22823,     0.22923,     0.23023,     0.23123,     0.23223,     0.23323,     0.23423,     0.23524,     0.23624,     0.23724,     0.23824,     0.23924,\n",
       "           0.24024,     0.24124,     0.24224,     0.24324,     0.24424,     0.24525,     0.24625,     0.24725,     0.24825,     0.24925,     0.25025,     0.25125,     0.25225,     0.25325,     0.25425,     0.25526,     0.25626,     0.25726,     0.25826,     0.25926,     0.26026,     0.26126,     0.26226,     0.26326,\n",
       "           0.26426,     0.26527,     0.26627,     0.26727,     0.26827,     0.26927,     0.27027,     0.27127,     0.27227,     0.27327,     0.27427,     0.27528,     0.27628,     0.27728,     0.27828,     0.27928,     0.28028,     0.28128,     0.28228,     0.28328,     0.28428,     0.28529,     0.28629,     0.28729,\n",
       "           0.28829,     0.28929,     0.29029,     0.29129,     0.29229,     0.29329,     0.29429,      0.2953,      0.2963,      0.2973,      0.2983,      0.2993,      0.3003,      0.3013,      0.3023,      0.3033,      0.3043,     0.30531,     0.30631,     0.30731,     0.30831,     0.30931,     0.31031,     0.31131,\n",
       "           0.31231,     0.31331,     0.31431,     0.31532,     0.31632,     0.31732,     0.31832,     0.31932,     0.32032,     0.32132,     0.32232,     0.32332,     0.32432,     0.32533,     0.32633,     0.32733,     0.32833,     0.32933,     0.33033,     0.33133,     0.33233,     0.33333,     0.33433,     0.33534,\n",
       "           0.33634,     0.33734,     0.33834,     0.33934,     0.34034,     0.34134,     0.34234,     0.34334,     0.34434,     0.34535,     0.34635,     0.34735,     0.34835,     0.34935,     0.35035,     0.35135,     0.35235,     0.35335,     0.35435,     0.35536,     0.35636,     0.35736,     0.35836,     0.35936,\n",
       "           0.36036,     0.36136,     0.36236,     0.36336,     0.36436,     0.36537,     0.36637,     0.36737,     0.36837,     0.36937,     0.37037,     0.37137,     0.37237,     0.37337,     0.37437,     0.37538,     0.37638,     0.37738,     0.37838,     0.37938,     0.38038,     0.38138,     0.38238,     0.38338,\n",
       "           0.38438,     0.38539,     0.38639,     0.38739,     0.38839,     0.38939,     0.39039,     0.39139,     0.39239,     0.39339,     0.39439,      0.3954,      0.3964,      0.3974,      0.3984,      0.3994,      0.4004,      0.4014,      0.4024,      0.4034,      0.4044,     0.40541,     0.40641,     0.40741,\n",
       "           0.40841,     0.40941,     0.41041,     0.41141,     0.41241,     0.41341,     0.41441,     0.41542,     0.41642,     0.41742,     0.41842,     0.41942,     0.42042,     0.42142,     0.42242,     0.42342,     0.42442,     0.42543,     0.42643,     0.42743,     0.42843,     0.42943,     0.43043,     0.43143,\n",
       "           0.43243,     0.43343,     0.43443,     0.43544,     0.43644,     0.43744,     0.43844,     0.43944,     0.44044,     0.44144,     0.44244,     0.44344,     0.44444,     0.44545,     0.44645,     0.44745,     0.44845,     0.44945,     0.45045,     0.45145,     0.45245,     0.45345,     0.45445,     0.45546,\n",
       "           0.45646,     0.45746,     0.45846,     0.45946,     0.46046,     0.46146,     0.46246,     0.46346,     0.46446,     0.46547,     0.46647,     0.46747,     0.46847,     0.46947,     0.47047,     0.47147,     0.47247,     0.47347,     0.47447,     0.47548,     0.47648,     0.47748,     0.47848,     0.47948,\n",
       "           0.48048,     0.48148,     0.48248,     0.48348,     0.48448,     0.48549,     0.48649,     0.48749,     0.48849,     0.48949,     0.49049,     0.49149,     0.49249,     0.49349,     0.49449,      0.4955,      0.4965,      0.4975,      0.4985,      0.4995,      0.5005,      0.5015,      0.5025,      0.5035,\n",
       "            0.5045,     0.50551,     0.50651,     0.50751,     0.50851,     0.50951,     0.51051,     0.51151,     0.51251,     0.51351,     0.51451,     0.51552,     0.51652,     0.51752,     0.51852,     0.51952,     0.52052,     0.52152,     0.52252,     0.52352,     0.52452,     0.52553,     0.52653,     0.52753,\n",
       "           0.52853,     0.52953,     0.53053,     0.53153,     0.53253,     0.53353,     0.53453,     0.53554,     0.53654,     0.53754,     0.53854,     0.53954,     0.54054,     0.54154,     0.54254,     0.54354,     0.54454,     0.54555,     0.54655,     0.54755,     0.54855,     0.54955,     0.55055,     0.55155,\n",
       "           0.55255,     0.55355,     0.55455,     0.55556,     0.55656,     0.55756,     0.55856,     0.55956,     0.56056,     0.56156,     0.56256,     0.56356,     0.56456,     0.56557,     0.56657,     0.56757,     0.56857,     0.56957,     0.57057,     0.57157,     0.57257,     0.57357,     0.57457,     0.57558,\n",
       "           0.57658,     0.57758,     0.57858,     0.57958,     0.58058,     0.58158,     0.58258,     0.58358,     0.58458,     0.58559,     0.58659,     0.58759,     0.58859,     0.58959,     0.59059,     0.59159,     0.59259,     0.59359,     0.59459,      0.5956,      0.5966,      0.5976,      0.5986,      0.5996,\n",
       "            0.6006,      0.6016,      0.6026,      0.6036,      0.6046,     0.60561,     0.60661,     0.60761,     0.60861,     0.60961,     0.61061,     0.61161,     0.61261,     0.61361,     0.61461,     0.61562,     0.61662,     0.61762,     0.61862,     0.61962,     0.62062,     0.62162,     0.62262,     0.62362,\n",
       "           0.62462,     0.62563,     0.62663,     0.62763,     0.62863,     0.62963,     0.63063,     0.63163,     0.63263,     0.63363,     0.63463,     0.63564,     0.63664,     0.63764,     0.63864,     0.63964,     0.64064,     0.64164,     0.64264,     0.64364,     0.64464,     0.64565,     0.64665,     0.64765,\n",
       "           0.64865,     0.64965,     0.65065,     0.65165,     0.65265,     0.65365,     0.65465,     0.65566,     0.65666,     0.65766,     0.65866,     0.65966,     0.66066,     0.66166,     0.66266,     0.66366,     0.66466,     0.66567,     0.66667,     0.66767,     0.66867,     0.66967,     0.67067,     0.67167,\n",
       "           0.67267,     0.67367,     0.67467,     0.67568,     0.67668,     0.67768,     0.67868,     0.67968,     0.68068,     0.68168,     0.68268,     0.68368,     0.68468,     0.68569,     0.68669,     0.68769,     0.68869,     0.68969,     0.69069,     0.69169,     0.69269,     0.69369,     0.69469,      0.6957,\n",
       "            0.6967,      0.6977,      0.6987,      0.6997,      0.7007,      0.7017,      0.7027,      0.7037,      0.7047,     0.70571,     0.70671,     0.70771,     0.70871,     0.70971,     0.71071,     0.71171,     0.71271,     0.71371,     0.71471,     0.71572,     0.71672,     0.71772,     0.71872,     0.71972,\n",
       "           0.72072,     0.72172,     0.72272,     0.72372,     0.72472,     0.72573,     0.72673,     0.72773,     0.72873,     0.72973,     0.73073,     0.73173,     0.73273,     0.73373,     0.73473,     0.73574,     0.73674,     0.73774,     0.73874,     0.73974,     0.74074,     0.74174,     0.74274,     0.74374,\n",
       "           0.74474,     0.74575,     0.74675,     0.74775,     0.74875,     0.74975,     0.75075,     0.75175,     0.75275,     0.75375,     0.75475,     0.75576,     0.75676,     0.75776,     0.75876,     0.75976,     0.76076,     0.76176,     0.76276,     0.76376,     0.76476,     0.76577,     0.76677,     0.76777,\n",
       "           0.76877,     0.76977,     0.77077,     0.77177,     0.77277,     0.77377,     0.77477,     0.77578,     0.77678,     0.77778,     0.77878,     0.77978,     0.78078,     0.78178,     0.78278,     0.78378,     0.78478,     0.78579,     0.78679,     0.78779,     0.78879,     0.78979,     0.79079,     0.79179,\n",
       "           0.79279,     0.79379,     0.79479,      0.7958,      0.7968,      0.7978,      0.7988,      0.7998,      0.8008,      0.8018,      0.8028,      0.8038,      0.8048,     0.80581,     0.80681,     0.80781,     0.80881,     0.80981,     0.81081,     0.81181,     0.81281,     0.81381,     0.81481,     0.81582,\n",
       "           0.81682,     0.81782,     0.81882,     0.81982,     0.82082,     0.82182,     0.82282,     0.82382,     0.82482,     0.82583,     0.82683,     0.82783,     0.82883,     0.82983,     0.83083,     0.83183,     0.83283,     0.83383,     0.83483,     0.83584,     0.83684,     0.83784,     0.83884,     0.83984,\n",
       "           0.84084,     0.84184,     0.84284,     0.84384,     0.84484,     0.84585,     0.84685,     0.84785,     0.84885,     0.84985,     0.85085,     0.85185,     0.85285,     0.85385,     0.85485,     0.85586,     0.85686,     0.85786,     0.85886,     0.85986,     0.86086,     0.86186,     0.86286,     0.86386,\n",
       "           0.86486,     0.86587,     0.86687,     0.86787,     0.86887,     0.86987,     0.87087,     0.87187,     0.87287,     0.87387,     0.87487,     0.87588,     0.87688,     0.87788,     0.87888,     0.87988,     0.88088,     0.88188,     0.88288,     0.88388,     0.88488,     0.88589,     0.88689,     0.88789,\n",
       "           0.88889,     0.88989,     0.89089,     0.89189,     0.89289,     0.89389,     0.89489,      0.8959,      0.8969,      0.8979,      0.8989,      0.8999,      0.9009,      0.9019,      0.9029,      0.9039,      0.9049,     0.90591,     0.90691,     0.90791,     0.90891,     0.90991,     0.91091,     0.91191,\n",
       "           0.91291,     0.91391,     0.91491,     0.91592,     0.91692,     0.91792,     0.91892,     0.91992,     0.92092,     0.92192,     0.92292,     0.92392,     0.92492,     0.92593,     0.92693,     0.92793,     0.92893,     0.92993,     0.93093,     0.93193,     0.93293,     0.93393,     0.93493,     0.93594,\n",
       "           0.93694,     0.93794,     0.93894,     0.93994,     0.94094,     0.94194,     0.94294,     0.94394,     0.94494,     0.94595,     0.94695,     0.94795,     0.94895,     0.94995,     0.95095,     0.95195,     0.95295,     0.95395,     0.95495,     0.95596,     0.95696,     0.95796,     0.95896,     0.95996,\n",
       "           0.96096,     0.96196,     0.96296,     0.96396,     0.96496,     0.96597,     0.96697,     0.96797,     0.96897,     0.96997,     0.97097,     0.97197,     0.97297,     0.97397,     0.97497,     0.97598,     0.97698,     0.97798,     0.97898,     0.97998,     0.98098,     0.98198,     0.98298,     0.98398,\n",
       "           0.98498,     0.98599,     0.98699,     0.98799,     0.98899,     0.98999,     0.99099,     0.99199,     0.99299,     0.99399,     0.99499,       0.996,       0.997,       0.998,       0.999,           1]), array([[          1,           1,           1,           1,           1,           1,           1,           1,           1,           1,           1,           1,           1,           1,           1,           1,           1,           1,           1,           1,           1,           1,           1,\n",
       "                  1,           1,           1,           1,           1,           1,           1,           1,           1,           1,           1,           1,           1,           1,           1,           1,           1,           1,           1,           1,           1,           1,           1,\n",
       "                  1,           1,           1,           1,           1,           1,           1,           1,           1,           1,           1,           1,           1,           1,           1,           1,           1,           1,           1,           1,           1,           1,           1,\n",
       "                  1,           1,           1,           1,           1,           1,           1,           1,           1,           1,           1,           1,           1,           1,           1,           1,           1,           1,           1,           1,           1,           1,           1,\n",
       "                  1,           1,           1,           1,           1,           1,           1,           1,           1,           1,           1,           1,           1,           1,           1,           1,           1,           1,           1,           1,           1,           1,           1,\n",
       "                  1,           1,           1,           1,           1,           1,           1,           1,           1,           1,           1,           1,           1,           1,           1,           1,           1,           1,           1,           1,           1,           1,           1,\n",
       "                  1,           1,           1,           1,           1,           1,           1,           1,           1,           1,           1,           1,           1,           1,           1,           1,           1,           1,           1,           1,           1,           1,           1,\n",
       "                  1,           1,           1,           1,           1,           1,           1,           1,           1,           1,           1,           1,           1,           1,           1,           1,           1,           1,           1,           1,           1,           1,           1,\n",
       "                  1,           1,           1,           1,           1,           1,           1,           1,           1,           1,           1,           1,           1,           1,           1,           1,           1,           1,           1,           1,           1,           1,           1,\n",
       "                  1,           1,           1,           1,           1,           1,           1,           1,           1,           1,           1,           1,           1,           1,           1,           1,           1,           1,           1,           1,           1,           1,           1,\n",
       "                  1,           1,           1,           1,           1,           1,           1,           1,           1,           1,           1,           1,           1,           1,           1,           1,           1,           1,           1,           1,           1,           1,           1,\n",
       "                  1,           1,           1,           1,           1,           1,           1,           1,           1,           1,           1,           1,           1,           1,           1,           1,           1,           1,           1,           1,           1,           1,           1,\n",
       "                  1,           1,           1,           1,           1,           1,           1,           1,           1,           1,           1,           1,           1,           1,           1,           1,           1,           1,           1,           1,           1,           1,           1,\n",
       "                  1,           1,           1,           1,           1,           1,           1,           1,           1,           1,           1,           1,           1,           1,           1,           1,           1,           1,           1,           1,           1,           1,           1,\n",
       "                  1,           1,           1,           1,           1,           1,           1,           1,           1,           1,           1,           1,           1,           1,           1,           1,           1,           1,           1,           1,           1,           1,           1,\n",
       "                  1,           1,           1,           1,           1,           1,           1,           1,           1,           1,           1,           1,           1,           1,           1,           1,           1,           1,           1,           1,           1,           1,           1,\n",
       "                  1,           1,           1,           1,           1,           1,           1,           1,           1,           1,           1,           1,           1,           1,           1,           1,           1,           1,           1,           1,           1,           1,           1,\n",
       "                  1,           1,           1,           1,           1,           1,           1,           1,           1,           1,           1,           1,           1,           1,           1,           1,           1,           1,           1,           1,           1,           1,           1,\n",
       "                  1,           1,           1,           1,           1,           1,           1,           1,           1,           1,           1,           1,           1,           1,           1,           1,           1,           1,           1,           1,           1,           1,           1,\n",
       "                  1,           1,           1,           1,           1,           1,           1,           1,           1,           1,           1,           1,           1,           1,           1,           1,           1,           1,           1,           1,           1,           1,           1,\n",
       "                  1,           1,           1,           1,           1,           1,           1,           1,           1,           1,           1,           1,           1,           1,           1,           1,           1,           1,           1,           1,           1,           1,           1,\n",
       "                  1,           1,           1,           1,           1,           1,           1,           1,           1,           1,           1,           1,           1,           1,           1,           1,           1,           1,           1,           1,           1,           1,           1,\n",
       "                  1,           1,           1,           1,           1,           1,           1,           1,           1,           1,           1,           1,           1,           1,           1,           1,           1,           1,           1,           1,           1,           1,           1,\n",
       "                  1,           1,           1,           1,           1,           1,           1,           1,           1,           1,           1,           1,           1,           1,           1,           1,           1,           1,           1,           1,           1,           1,           1,\n",
       "                  1,           1,           1,           1,           1,           1,           1,           1,           1,           1,           1,           1,           1,           1,           1,           1,           1,           1,           1,           1,           1,           1,           1,\n",
       "                  1,           1,           1,           1,           1,           1,           1,           1,           1,           1,           1,           1,           1,           1,           1,           1,           1,           1,           1,           1,           1,           1,           1,\n",
       "                  1,           1,           1,           1,           1,           1,           1,           1,           1,           1,           1,           1,           1,           1,           1,           1,           1,           1,           1,           1,           1,           1,           1,\n",
       "                  1,           1,           1,           1,           1,           1,           1,           1,           1,           1,           1,           1,           1,           1,           1,           1,           1,           1,           1,           1,           1,           1,           1,\n",
       "                  1,           1,           1,           1,           1,           1,           1,           1,           1,           1,           1,           1,           1,           1,           1,           1,           1,           1,           1,           1,           1,           1,           1,\n",
       "                  1,           1,           1,           1,           1,           1,           1,           1,           1,           1,           1,           1,           1,           1,           1,           1,           1,           1,           1,           1,           1,           1,           1,\n",
       "                  1,           1,           1,           1,           1,           1,           1,           1,           1,           1,           1,           1,           1,           1,           1,           1,           1,           1,           1,           1,           1,           1,           1,\n",
       "                  1,           1,           1,           1,           1,           1,           1,           1,           1,           1,           1,           1,           1,           1,           1,           1,           1,           1,           1,           1,           1,           1,           1,\n",
       "                  1,           1,           1,           1,           1,           1,           1,           1,           1,           1,           1,           1,           1,           1,           1,           1,           1,           1,           1,           1,           1,           1,           1,\n",
       "                  1,           1,           1,           1,           1,           1,           1,           1,           1,           1,     0.92308,     0.92308,     0.92308,     0.92308,     0.92308,     0.92308,     0.92308,     0.92308,     0.92308,     0.92308,     0.92308,     0.92308,     0.92308,\n",
       "            0.92308,     0.92308,     0.92308,     0.92308,     0.92308,     0.92308,     0.92308,     0.92308,     0.92308,     0.92308,     0.92308,     0.92308,     0.92308,     0.92308,     0.92308,     0.92308,     0.92308,     0.92308,     0.92308,     0.92308,     0.92308,     0.92308,     0.92308,\n",
       "            0.92308,     0.92308,     0.92308,     0.92308,     0.92308,     0.92308,     0.92308,     0.92308,     0.92308,     0.92308,     0.92308,     0.92308,     0.92308,     0.92308,     0.92308,     0.92308,     0.92308,     0.92308,     0.92308,     0.92308,     0.92308,     0.92308,     0.92308,\n",
       "            0.92308,     0.92308,     0.92308,     0.92308,     0.92308,     0.92308,     0.92308,     0.92308,     0.92308,     0.92308,     0.92308,     0.92308,     0.92308,     0.92308,     0.92308,     0.92308,     0.92308,     0.92308,     0.92308,     0.92308,     0.92308,     0.92308,     0.92308,\n",
       "            0.92308,     0.92308,     0.92308,     0.92308,     0.92308,     0.92308,     0.92308,     0.92308,     0.92308,     0.92308,     0.92308,     0.92308,     0.92308,     0.92308,     0.92308,     0.92308,     0.92308,     0.92308,     0.92308,     0.92308,     0.92308,     0.92308,     0.92308,\n",
       "            0.92308,     0.92308,     0.92308,     0.92308,     0.92308,     0.92308,     0.92308,     0.92308,     0.92308,     0.92308,     0.92308,     0.92308,     0.92308,     0.92308,     0.92308,     0.92308,     0.92308,     0.92308,     0.92308,     0.92308,     0.92308,     0.92308,     0.92308,\n",
       "            0.92308,     0.92308,     0.92308,     0.92308,     0.92308,     0.92308,     0.92308,     0.92308,     0.92308,     0.92308,     0.92308,     0.92308,     0.92308,     0.92308,     0.92308,     0.92308,     0.92308,     0.92308,     0.92308,     0.92308,     0.92308,     0.92308,     0.92308,\n",
       "            0.92308,     0.92308,     0.92308,      0.8125,      0.8125,      0.8125,      0.8125,      0.8125,      0.8125,      0.8125,      0.8125,      0.8125,      0.8125,      0.8125,      0.8125,      0.8125,      0.8125,      0.8125,      0.8125,      0.8125,      0.8125,      0.8125,      0.8125,\n",
       "             0.8125,      0.8125,      0.8125,      0.8125,      0.8125,      0.8125,      0.8125,      0.8125,      0.8125,      0.8125,      0.8125,      0.8125,      0.8125,      0.8125,      0.8125,      0.8125,      0.8125,      0.8125,      0.8125,      0.8125,      0.8125,      0.8125,      0.8125,\n",
       "             0.8125,      0.8125,      0.8125,      0.8125,      0.8125,      0.8125,      0.8125,      0.8125,      0.8125,      0.8125,      0.8125,      0.8125,      0.8125,      0.8125,      0.8125,      0.8125,      0.8125,      0.8125,      0.8125,      0.8125,      0.8125,      0.8125,      0.8125,\n",
       "             0.8125,      0.8125,      0.8125,      0.8125,      0.8125,      0.8125,      0.8125,      0.8125,      0.8125,      0.8125,           0]]), 'Recall', 'Precision'], [array([          0,    0.001001,    0.002002,    0.003003,    0.004004,    0.005005,    0.006006,    0.007007,    0.008008,    0.009009,     0.01001,    0.011011,    0.012012,    0.013013,    0.014014,    0.015015,    0.016016,    0.017017,    0.018018,    0.019019,     0.02002,    0.021021,    0.022022,    0.023023,\n",
       "          0.024024,    0.025025,    0.026026,    0.027027,    0.028028,    0.029029,     0.03003,    0.031031,    0.032032,    0.033033,    0.034034,    0.035035,    0.036036,    0.037037,    0.038038,    0.039039,     0.04004,    0.041041,    0.042042,    0.043043,    0.044044,    0.045045,    0.046046,    0.047047,\n",
       "          0.048048,    0.049049,     0.05005,    0.051051,    0.052052,    0.053053,    0.054054,    0.055055,    0.056056,    0.057057,    0.058058,    0.059059,     0.06006,    0.061061,    0.062062,    0.063063,    0.064064,    0.065065,    0.066066,    0.067067,    0.068068,    0.069069,     0.07007,    0.071071,\n",
       "          0.072072,    0.073073,    0.074074,    0.075075,    0.076076,    0.077077,    0.078078,    0.079079,     0.08008,    0.081081,    0.082082,    0.083083,    0.084084,    0.085085,    0.086086,    0.087087,    0.088088,    0.089089,     0.09009,    0.091091,    0.092092,    0.093093,    0.094094,    0.095095,\n",
       "          0.096096,    0.097097,    0.098098,    0.099099,      0.1001,      0.1011,      0.1021,      0.1031,      0.1041,     0.10511,     0.10611,     0.10711,     0.10811,     0.10911,     0.11011,     0.11111,     0.11211,     0.11311,     0.11411,     0.11512,     0.11612,     0.11712,     0.11812,     0.11912,\n",
       "           0.12012,     0.12112,     0.12212,     0.12312,     0.12412,     0.12513,     0.12613,     0.12713,     0.12813,     0.12913,     0.13013,     0.13113,     0.13213,     0.13313,     0.13413,     0.13514,     0.13614,     0.13714,     0.13814,     0.13914,     0.14014,     0.14114,     0.14214,     0.14314,\n",
       "           0.14414,     0.14515,     0.14615,     0.14715,     0.14815,     0.14915,     0.15015,     0.15115,     0.15215,     0.15315,     0.15415,     0.15516,     0.15616,     0.15716,     0.15816,     0.15916,     0.16016,     0.16116,     0.16216,     0.16316,     0.16416,     0.16517,     0.16617,     0.16717,\n",
       "           0.16817,     0.16917,     0.17017,     0.17117,     0.17217,     0.17317,     0.17417,     0.17518,     0.17618,     0.17718,     0.17818,     0.17918,     0.18018,     0.18118,     0.18218,     0.18318,     0.18418,     0.18519,     0.18619,     0.18719,     0.18819,     0.18919,     0.19019,     0.19119,\n",
       "           0.19219,     0.19319,     0.19419,      0.1952,      0.1962,      0.1972,      0.1982,      0.1992,      0.2002,      0.2012,      0.2022,      0.2032,      0.2042,     0.20521,     0.20621,     0.20721,     0.20821,     0.20921,     0.21021,     0.21121,     0.21221,     0.21321,     0.21421,     0.21522,\n",
       "           0.21622,     0.21722,     0.21822,     0.21922,     0.22022,     0.22122,     0.22222,     0.22322,     0.22422,     0.22523,     0.22623,     0.22723,     0.22823,     0.22923,     0.23023,     0.23123,     0.23223,     0.23323,     0.23423,     0.23524,     0.23624,     0.23724,     0.23824,     0.23924,\n",
       "           0.24024,     0.24124,     0.24224,     0.24324,     0.24424,     0.24525,     0.24625,     0.24725,     0.24825,     0.24925,     0.25025,     0.25125,     0.25225,     0.25325,     0.25425,     0.25526,     0.25626,     0.25726,     0.25826,     0.25926,     0.26026,     0.26126,     0.26226,     0.26326,\n",
       "           0.26426,     0.26527,     0.26627,     0.26727,     0.26827,     0.26927,     0.27027,     0.27127,     0.27227,     0.27327,     0.27427,     0.27528,     0.27628,     0.27728,     0.27828,     0.27928,     0.28028,     0.28128,     0.28228,     0.28328,     0.28428,     0.28529,     0.28629,     0.28729,\n",
       "           0.28829,     0.28929,     0.29029,     0.29129,     0.29229,     0.29329,     0.29429,      0.2953,      0.2963,      0.2973,      0.2983,      0.2993,      0.3003,      0.3013,      0.3023,      0.3033,      0.3043,     0.30531,     0.30631,     0.30731,     0.30831,     0.30931,     0.31031,     0.31131,\n",
       "           0.31231,     0.31331,     0.31431,     0.31532,     0.31632,     0.31732,     0.31832,     0.31932,     0.32032,     0.32132,     0.32232,     0.32332,     0.32432,     0.32533,     0.32633,     0.32733,     0.32833,     0.32933,     0.33033,     0.33133,     0.33233,     0.33333,     0.33433,     0.33534,\n",
       "           0.33634,     0.33734,     0.33834,     0.33934,     0.34034,     0.34134,     0.34234,     0.34334,     0.34434,     0.34535,     0.34635,     0.34735,     0.34835,     0.34935,     0.35035,     0.35135,     0.35235,     0.35335,     0.35435,     0.35536,     0.35636,     0.35736,     0.35836,     0.35936,\n",
       "           0.36036,     0.36136,     0.36236,     0.36336,     0.36436,     0.36537,     0.36637,     0.36737,     0.36837,     0.36937,     0.37037,     0.37137,     0.37237,     0.37337,     0.37437,     0.37538,     0.37638,     0.37738,     0.37838,     0.37938,     0.38038,     0.38138,     0.38238,     0.38338,\n",
       "           0.38438,     0.38539,     0.38639,     0.38739,     0.38839,     0.38939,     0.39039,     0.39139,     0.39239,     0.39339,     0.39439,      0.3954,      0.3964,      0.3974,      0.3984,      0.3994,      0.4004,      0.4014,      0.4024,      0.4034,      0.4044,     0.40541,     0.40641,     0.40741,\n",
       "           0.40841,     0.40941,     0.41041,     0.41141,     0.41241,     0.41341,     0.41441,     0.41542,     0.41642,     0.41742,     0.41842,     0.41942,     0.42042,     0.42142,     0.42242,     0.42342,     0.42442,     0.42543,     0.42643,     0.42743,     0.42843,     0.42943,     0.43043,     0.43143,\n",
       "           0.43243,     0.43343,     0.43443,     0.43544,     0.43644,     0.43744,     0.43844,     0.43944,     0.44044,     0.44144,     0.44244,     0.44344,     0.44444,     0.44545,     0.44645,     0.44745,     0.44845,     0.44945,     0.45045,     0.45145,     0.45245,     0.45345,     0.45445,     0.45546,\n",
       "           0.45646,     0.45746,     0.45846,     0.45946,     0.46046,     0.46146,     0.46246,     0.46346,     0.46446,     0.46547,     0.46647,     0.46747,     0.46847,     0.46947,     0.47047,     0.47147,     0.47247,     0.47347,     0.47447,     0.47548,     0.47648,     0.47748,     0.47848,     0.47948,\n",
       "           0.48048,     0.48148,     0.48248,     0.48348,     0.48448,     0.48549,     0.48649,     0.48749,     0.48849,     0.48949,     0.49049,     0.49149,     0.49249,     0.49349,     0.49449,      0.4955,      0.4965,      0.4975,      0.4985,      0.4995,      0.5005,      0.5015,      0.5025,      0.5035,\n",
       "            0.5045,     0.50551,     0.50651,     0.50751,     0.50851,     0.50951,     0.51051,     0.51151,     0.51251,     0.51351,     0.51451,     0.51552,     0.51652,     0.51752,     0.51852,     0.51952,     0.52052,     0.52152,     0.52252,     0.52352,     0.52452,     0.52553,     0.52653,     0.52753,\n",
       "           0.52853,     0.52953,     0.53053,     0.53153,     0.53253,     0.53353,     0.53453,     0.53554,     0.53654,     0.53754,     0.53854,     0.53954,     0.54054,     0.54154,     0.54254,     0.54354,     0.54454,     0.54555,     0.54655,     0.54755,     0.54855,     0.54955,     0.55055,     0.55155,\n",
       "           0.55255,     0.55355,     0.55455,     0.55556,     0.55656,     0.55756,     0.55856,     0.55956,     0.56056,     0.56156,     0.56256,     0.56356,     0.56456,     0.56557,     0.56657,     0.56757,     0.56857,     0.56957,     0.57057,     0.57157,     0.57257,     0.57357,     0.57457,     0.57558,\n",
       "           0.57658,     0.57758,     0.57858,     0.57958,     0.58058,     0.58158,     0.58258,     0.58358,     0.58458,     0.58559,     0.58659,     0.58759,     0.58859,     0.58959,     0.59059,     0.59159,     0.59259,     0.59359,     0.59459,      0.5956,      0.5966,      0.5976,      0.5986,      0.5996,\n",
       "            0.6006,      0.6016,      0.6026,      0.6036,      0.6046,     0.60561,     0.60661,     0.60761,     0.60861,     0.60961,     0.61061,     0.61161,     0.61261,     0.61361,     0.61461,     0.61562,     0.61662,     0.61762,     0.61862,     0.61962,     0.62062,     0.62162,     0.62262,     0.62362,\n",
       "           0.62462,     0.62563,     0.62663,     0.62763,     0.62863,     0.62963,     0.63063,     0.63163,     0.63263,     0.63363,     0.63463,     0.63564,     0.63664,     0.63764,     0.63864,     0.63964,     0.64064,     0.64164,     0.64264,     0.64364,     0.64464,     0.64565,     0.64665,     0.64765,\n",
       "           0.64865,     0.64965,     0.65065,     0.65165,     0.65265,     0.65365,     0.65465,     0.65566,     0.65666,     0.65766,     0.65866,     0.65966,     0.66066,     0.66166,     0.66266,     0.66366,     0.66466,     0.66567,     0.66667,     0.66767,     0.66867,     0.66967,     0.67067,     0.67167,\n",
       "           0.67267,     0.67367,     0.67467,     0.67568,     0.67668,     0.67768,     0.67868,     0.67968,     0.68068,     0.68168,     0.68268,     0.68368,     0.68468,     0.68569,     0.68669,     0.68769,     0.68869,     0.68969,     0.69069,     0.69169,     0.69269,     0.69369,     0.69469,      0.6957,\n",
       "            0.6967,      0.6977,      0.6987,      0.6997,      0.7007,      0.7017,      0.7027,      0.7037,      0.7047,     0.70571,     0.70671,     0.70771,     0.70871,     0.70971,     0.71071,     0.71171,     0.71271,     0.71371,     0.71471,     0.71572,     0.71672,     0.71772,     0.71872,     0.71972,\n",
       "           0.72072,     0.72172,     0.72272,     0.72372,     0.72472,     0.72573,     0.72673,     0.72773,     0.72873,     0.72973,     0.73073,     0.73173,     0.73273,     0.73373,     0.73473,     0.73574,     0.73674,     0.73774,     0.73874,     0.73974,     0.74074,     0.74174,     0.74274,     0.74374,\n",
       "           0.74474,     0.74575,     0.74675,     0.74775,     0.74875,     0.74975,     0.75075,     0.75175,     0.75275,     0.75375,     0.75475,     0.75576,     0.75676,     0.75776,     0.75876,     0.75976,     0.76076,     0.76176,     0.76276,     0.76376,     0.76476,     0.76577,     0.76677,     0.76777,\n",
       "           0.76877,     0.76977,     0.77077,     0.77177,     0.77277,     0.77377,     0.77477,     0.77578,     0.77678,     0.77778,     0.77878,     0.77978,     0.78078,     0.78178,     0.78278,     0.78378,     0.78478,     0.78579,     0.78679,     0.78779,     0.78879,     0.78979,     0.79079,     0.79179,\n",
       "           0.79279,     0.79379,     0.79479,      0.7958,      0.7968,      0.7978,      0.7988,      0.7998,      0.8008,      0.8018,      0.8028,      0.8038,      0.8048,     0.80581,     0.80681,     0.80781,     0.80881,     0.80981,     0.81081,     0.81181,     0.81281,     0.81381,     0.81481,     0.81582,\n",
       "           0.81682,     0.81782,     0.81882,     0.81982,     0.82082,     0.82182,     0.82282,     0.82382,     0.82482,     0.82583,     0.82683,     0.82783,     0.82883,     0.82983,     0.83083,     0.83183,     0.83283,     0.83383,     0.83483,     0.83584,     0.83684,     0.83784,     0.83884,     0.83984,\n",
       "           0.84084,     0.84184,     0.84284,     0.84384,     0.84484,     0.84585,     0.84685,     0.84785,     0.84885,     0.84985,     0.85085,     0.85185,     0.85285,     0.85385,     0.85485,     0.85586,     0.85686,     0.85786,     0.85886,     0.85986,     0.86086,     0.86186,     0.86286,     0.86386,\n",
       "           0.86486,     0.86587,     0.86687,     0.86787,     0.86887,     0.86987,     0.87087,     0.87187,     0.87287,     0.87387,     0.87487,     0.87588,     0.87688,     0.87788,     0.87888,     0.87988,     0.88088,     0.88188,     0.88288,     0.88388,     0.88488,     0.88589,     0.88689,     0.88789,\n",
       "           0.88889,     0.88989,     0.89089,     0.89189,     0.89289,     0.89389,     0.89489,      0.8959,      0.8969,      0.8979,      0.8989,      0.8999,      0.9009,      0.9019,      0.9029,      0.9039,      0.9049,     0.90591,     0.90691,     0.90791,     0.90891,     0.90991,     0.91091,     0.91191,\n",
       "           0.91291,     0.91391,     0.91491,     0.91592,     0.91692,     0.91792,     0.91892,     0.91992,     0.92092,     0.92192,     0.92292,     0.92392,     0.92492,     0.92593,     0.92693,     0.92793,     0.92893,     0.92993,     0.93093,     0.93193,     0.93293,     0.93393,     0.93493,     0.93594,\n",
       "           0.93694,     0.93794,     0.93894,     0.93994,     0.94094,     0.94194,     0.94294,     0.94394,     0.94494,     0.94595,     0.94695,     0.94795,     0.94895,     0.94995,     0.95095,     0.95195,     0.95295,     0.95395,     0.95495,     0.95596,     0.95696,     0.95796,     0.95896,     0.95996,\n",
       "           0.96096,     0.96196,     0.96296,     0.96396,     0.96496,     0.96597,     0.96697,     0.96797,     0.96897,     0.96997,     0.97097,     0.97197,     0.97297,     0.97397,     0.97497,     0.97598,     0.97698,     0.97798,     0.97898,     0.97998,     0.98098,     0.98198,     0.98298,     0.98398,\n",
       "           0.98498,     0.98599,     0.98699,     0.98799,     0.98899,     0.98999,     0.99099,     0.99199,     0.99299,     0.99399,     0.99499,       0.996,       0.997,       0.998,       0.999,           1]), array([[   0.039634,    0.039634,     0.05081,    0.081366,     0.10333,     0.11336,     0.12528,     0.13164,     0.14338,     0.15426,     0.16186,     0.16927,       0.176,     0.17963,     0.18653,     0.19509,     0.20463,     0.21179,     0.21611,     0.22156,     0.23463,     0.24005,     0.24394,\n",
       "            0.24744,     0.25804,      0.2651,     0.26907,      0.2773,     0.28643,     0.29152,     0.29467,     0.30062,     0.30286,     0.30445,     0.30817,     0.31339,     0.32561,     0.32934,     0.33058,     0.33182,     0.33306,     0.34293,     0.35274,     0.36607,     0.36769,      0.3692,\n",
       "            0.37071,     0.37277,     0.37532,     0.38198,     0.38445,     0.38662,     0.39049,     0.40703,      0.4115,     0.41762,     0.42654,     0.43192,     0.44122,     0.44211,     0.44299,     0.44387,     0.44475,     0.44563,     0.44651,     0.44739,     0.44826,     0.45845,     0.46437,\n",
       "            0.47409,     0.47568,     0.47727,     0.47885,     0.48044,     0.49077,     0.49236,     0.49394,     0.49552,      0.4971,     0.49868,     0.50379,     0.52021,     0.52316,     0.52609,     0.52901,     0.53558,     0.54398,     0.54915,     0.56156,     0.57039,     0.57605,     0.58037,\n",
       "            0.58409,     0.58779,     0.59132,     0.59398,     0.59663,     0.59927,      0.6019,     0.60452,     0.61982,     0.62096,     0.62209,     0.62322,     0.62435,     0.62548,     0.62661,     0.62773,     0.62885,     0.62998,      0.6311,     0.63221,     0.63333,      0.6345,     0.63582,\n",
       "            0.63713,     0.63845,     0.63976,     0.64107,     0.64237,     0.64368,     0.64498,     0.64628,     0.64757,     0.64887,     0.65182,     0.66625,     0.68009,     0.68491,     0.68592,     0.68692,     0.68792,     0.68892,     0.68991,     0.69091,      0.6919,      0.6929,     0.69389,\n",
       "            0.69488,     0.69586,     0.69685,     0.69784,     0.69882,      0.6998,     0.70078,     0.70176,     0.70275,     0.70398,      0.7052,     0.70642,     0.70764,     0.70885,     0.71007,     0.71128,     0.71249,      0.7137,      0.7149,     0.71611,     0.71731,      0.7185,      0.7197,\n",
       "            0.72089,     0.72209,     0.72329,      0.7245,      0.7257,     0.72691,     0.72811,      0.7293,      0.7305,     0.73169,     0.73288,     0.73407,     0.73526,     0.73644,     0.73763,     0.73881,     0.73998,     0.74116,     0.74233,     0.74783,     0.75675,     0.76577,     0.77691,\n",
       "            0.78784,     0.79006,     0.79223,      0.7944,     0.79656,     0.79872,     0.80086,       0.803,     0.80513,     0.80725,     0.80937,     0.81148,     0.81957,     0.83312,     0.84014,      0.8426,     0.84505,     0.84749,     0.84992,     0.85234,     0.85475,     0.85715,     0.85954,\n",
       "            0.86192,     0.86428,     0.86664,      0.8676,     0.86854,     0.86948,     0.87041,     0.87135,     0.87228,     0.87321,     0.87414,     0.87507,       0.876,     0.87693,     0.87785,     0.87877,     0.87969,     0.88061,     0.88153,     0.88245,     0.88336,     0.88428,     0.88519,\n",
       "             0.8861,     0.88701,     0.88792,     0.88882,     0.88973,     0.89063,     0.89153,     0.89243,     0.89333,     0.89423,     0.89513,     0.89602,     0.89588,     0.89421,     0.89253,     0.89085,     0.88917,     0.88749,      0.8858,     0.88411,     0.88242,     0.88072,     0.87902,\n",
       "            0.87731,     0.87561,      0.8739,     0.87218,     0.87046,     0.86874,     0.86702,     0.86529,     0.86356,     0.86182,     0.86008,     0.85834,     0.85744,     0.85837,     0.85931,     0.86024,     0.86117,      0.8621,     0.86303,     0.86395,     0.86488,      0.8658,     0.86672,\n",
       "            0.86764,     0.86856,     0.86947,     0.87039,      0.8713,     0.87221,     0.87312,     0.87402,     0.87493,     0.87583,     0.87673,     0.87763,     0.87853,     0.87943,     0.88032,     0.88122,     0.88211,       0.883,     0.88389,     0.88477,     0.88566,     0.88654,     0.88742,\n",
       "             0.8883,     0.89405,     0.90912,     0.92301,     0.92146,     0.91991,     0.91836,     0.91681,     0.91525,     0.91368,     0.91211,     0.91054,     0.90897,     0.90739,     0.90581,     0.90422,     0.90263,     0.90103,     0.89944,     0.89783,     0.89623,     0.89462,       0.893,\n",
       "            0.89138,     0.88976,     0.88813,      0.8865,     0.88487,     0.88323,     0.88158,     0.87988,     0.87688,     0.87387,     0.87085,     0.86781,     0.86475,     0.86169,     0.85861,     0.85551,      0.8524,     0.84928,     0.84614,     0.84299,     0.83982,     0.83664,     0.83344,\n",
       "            0.83401,     0.83471,     0.83541,     0.83611,     0.83681,      0.8375,      0.8382,     0.83889,     0.83958,     0.84027,     0.84096,     0.84164,     0.84233,     0.84301,      0.8437,     0.84438,     0.84506,     0.84574,     0.84641,     0.84709,     0.84777,     0.84844,     0.84911,\n",
       "            0.84978,     0.85045,     0.85112,     0.85179,     0.85245,     0.85312,     0.85378,     0.85444,      0.8551,     0.85576,     0.85642,     0.85708,     0.85773,     0.85839,     0.85904,     0.85969,     0.86034,     0.86099,     0.86164,     0.86229,     0.86293,     0.86358,     0.86422,\n",
       "            0.86486,      0.8655,     0.86614,     0.86678,     0.86742,     0.86805,     0.86869,     0.86932,     0.86868,     0.86722,     0.86577,     0.86431,     0.86284,     0.86137,      0.8599,     0.85843,     0.85695,     0.85546,     0.85398,     0.85249,     0.85099,     0.84949,     0.84799,\n",
       "            0.84648,     0.84497,     0.84346,     0.84194,     0.84042,     0.83889,     0.83736,     0.83582,     0.83429,     0.83274,      0.8312,     0.82965,     0.82809,     0.82653,     0.82497,      0.8234,     0.82183,     0.82025,     0.81867,     0.81494,     0.81021,     0.80544,     0.80063,\n",
       "            0.79578,     0.79089,     0.78597,       0.781,     0.77599,     0.77094,     0.76585,      0.7557,     0.72808,     0.69986,     0.69448,     0.68905,     0.68359,     0.67807,     0.67251,     0.66691,     0.66125,     0.65555,      0.6498,     0.64399,     0.63814,     0.63224,     0.61369,\n",
       "            0.59299,     0.57166,     0.55269,     0.54174,     0.53064,     0.51936,     0.50791,     0.49627,     0.48446,     0.47246,     0.42636,     0.37495,     0.37426,     0.37356,     0.37287,     0.37218,     0.37148,     0.37079,     0.37009,      0.3694,      0.3687,       0.368,     0.36731,\n",
       "            0.36661,     0.36591,     0.36521,     0.36451,     0.36381,     0.36311,     0.36241,     0.36171,       0.361,      0.3603,     0.35959,     0.35889,     0.35818,     0.35748,     0.35677,     0.35607,     0.35536,     0.35465,     0.35394,     0.35323,     0.35252,     0.35181,      0.3511,\n",
       "            0.35039,     0.34967,     0.34896,     0.34825,     0.34753,     0.34682,      0.3461,     0.34538,     0.34467,     0.34395,     0.34323,     0.34251,     0.34179,     0.34107,     0.34035,     0.33963,     0.33891,     0.33819,     0.33746,     0.33674,     0.33601,     0.33529,     0.33456,\n",
       "            0.33384,     0.33311,     0.33238,     0.33165,     0.33093,      0.3302,     0.32947,     0.32873,       0.328,     0.32727,     0.32654,      0.3258,     0.32507,     0.32434,      0.3236,     0.32286,     0.32213,     0.32139,     0.32065,     0.31991,     0.31917,     0.31843,     0.31769,\n",
       "            0.31695,     0.31621,     0.31547,     0.31473,     0.31398,     0.31324,     0.31249,     0.31175,       0.311,     0.31025,     0.30951,     0.30876,     0.30801,     0.30726,     0.30651,     0.30576,       0.305,     0.30425,      0.3035,     0.30275,     0.30199,     0.30124,     0.30048,\n",
       "            0.29972,     0.29897,     0.29821,     0.29745,     0.29669,     0.29593,     0.29517,     0.29441,     0.29365,     0.29288,     0.29212,     0.29136,     0.29059,     0.28983,     0.28906,      0.2883,     0.28753,     0.28676,     0.28599,     0.28522,     0.28445,     0.28368,     0.28291,\n",
       "            0.28214,     0.28136,     0.28059,     0.27982,     0.27904,     0.27827,     0.27749,     0.27671,     0.27593,     0.27516,     0.27438,      0.2736,     0.27282,     0.27204,     0.27125,     0.27047,     0.26969,      0.2689,     0.26812,     0.26733,     0.26643,     0.26484,     0.26326,\n",
       "            0.26168,     0.26009,     0.25849,      0.2569,      0.2553,      0.2537,      0.2521,     0.25049,     0.24888,     0.24727,     0.24565,     0.24403,     0.24241,     0.24079,     0.23916,     0.23753,      0.2359,     0.23426,     0.23262,     0.23098,     0.22933,     0.22768,     0.22603,\n",
       "            0.22438,     0.22272,     0.22106,     0.21939,     0.21773,     0.21606,     0.21438,     0.21271,     0.21103,     0.20934,     0.20766,     0.20597,     0.20428,     0.20258,     0.20088,     0.19918,     0.19747,     0.19576,     0.19405,     0.19234,     0.19062,      0.1889,     0.18717,\n",
       "            0.18544,     0.18371,     0.18198,     0.18024,      0.1785,     0.17675,     0.17501,     0.17325,      0.1715,     0.16974,     0.16798,     0.16621,     0.16445,     0.16267,      0.1609,     0.15912,     0.15734,     0.15555,     0.15376,     0.15197,     0.15017,     0.14838,     0.14657,\n",
       "            0.14477,     0.14296,           0,           0,           0,           0,           0,           0,           0,           0,           0,           0,           0,           0,           0,           0,           0,           0,           0,           0,           0,           0,           0,\n",
       "                  0,           0,           0,           0,           0,           0,           0,           0,           0,           0,           0,           0,           0,           0,           0,           0,           0,           0,           0,           0,           0,           0,           0,\n",
       "                  0,           0,           0,           0,           0,           0,           0,           0,           0,           0,           0,           0,           0,           0,           0,           0,           0,           0,           0,           0,           0,           0,           0,\n",
       "                  0,           0,           0,           0,           0,           0,           0,           0,           0,           0,           0,           0,           0,           0,           0,           0,           0,           0,           0,           0,           0,           0,           0,\n",
       "                  0,           0,           0,           0,           0,           0,           0,           0,           0,           0,           0,           0,           0,           0,           0,           0,           0,           0,           0,           0,           0,           0,           0,\n",
       "                  0,           0,           0,           0,           0,           0,           0,           0,           0,           0,           0,           0,           0,           0,           0,           0,           0,           0,           0,           0,           0,           0,           0,\n",
       "                  0,           0,           0,           0,           0,           0,           0,           0,           0,           0,           0,           0,           0,           0,           0,           0,           0,           0,           0,           0,           0,           0,           0,\n",
       "                  0,           0,           0,           0,           0,           0,           0,           0,           0,           0,           0,           0,           0,           0,           0,           0,           0,           0,           0,           0,           0,           0,           0,\n",
       "                  0,           0,           0,           0,           0,           0,           0,           0,           0,           0,           0,           0,           0,           0,           0,           0,           0,           0,           0,           0,           0,           0,           0,\n",
       "                  0,           0,           0,           0,           0,           0,           0,           0,           0,           0,           0,           0,           0,           0,           0,           0,           0,           0,           0,           0,           0,           0,           0,\n",
       "                  0,           0,           0,           0,           0,           0,           0,           0,           0,           0,           0,           0,           0,           0,           0,           0,           0,           0,           0,           0,           0,           0,           0,\n",
       "                  0,           0,           0,           0,           0,           0,           0,           0,           0,           0,           0,           0,           0,           0,           0,           0,           0,           0,           0,           0,           0,           0,           0,\n",
       "                  0,           0,           0,           0,           0,           0,           0,           0,           0,           0,           0,           0,           0,           0,           0,           0,           0,           0,           0,           0,           0,           0,           0,\n",
       "                  0,           0,           0,           0,           0,           0,           0,           0,           0,           0,           0]]), 'Confidence', 'F1'], [array([          0,    0.001001,    0.002002,    0.003003,    0.004004,    0.005005,    0.006006,    0.007007,    0.008008,    0.009009,     0.01001,    0.011011,    0.012012,    0.013013,    0.014014,    0.015015,    0.016016,    0.017017,    0.018018,    0.019019,     0.02002,    0.021021,    0.022022,    0.023023,\n",
       "          0.024024,    0.025025,    0.026026,    0.027027,    0.028028,    0.029029,     0.03003,    0.031031,    0.032032,    0.033033,    0.034034,    0.035035,    0.036036,    0.037037,    0.038038,    0.039039,     0.04004,    0.041041,    0.042042,    0.043043,    0.044044,    0.045045,    0.046046,    0.047047,\n",
       "          0.048048,    0.049049,     0.05005,    0.051051,    0.052052,    0.053053,    0.054054,    0.055055,    0.056056,    0.057057,    0.058058,    0.059059,     0.06006,    0.061061,    0.062062,    0.063063,    0.064064,    0.065065,    0.066066,    0.067067,    0.068068,    0.069069,     0.07007,    0.071071,\n",
       "          0.072072,    0.073073,    0.074074,    0.075075,    0.076076,    0.077077,    0.078078,    0.079079,     0.08008,    0.081081,    0.082082,    0.083083,    0.084084,    0.085085,    0.086086,    0.087087,    0.088088,    0.089089,     0.09009,    0.091091,    0.092092,    0.093093,    0.094094,    0.095095,\n",
       "          0.096096,    0.097097,    0.098098,    0.099099,      0.1001,      0.1011,      0.1021,      0.1031,      0.1041,     0.10511,     0.10611,     0.10711,     0.10811,     0.10911,     0.11011,     0.11111,     0.11211,     0.11311,     0.11411,     0.11512,     0.11612,     0.11712,     0.11812,     0.11912,\n",
       "           0.12012,     0.12112,     0.12212,     0.12312,     0.12412,     0.12513,     0.12613,     0.12713,     0.12813,     0.12913,     0.13013,     0.13113,     0.13213,     0.13313,     0.13413,     0.13514,     0.13614,     0.13714,     0.13814,     0.13914,     0.14014,     0.14114,     0.14214,     0.14314,\n",
       "           0.14414,     0.14515,     0.14615,     0.14715,     0.14815,     0.14915,     0.15015,     0.15115,     0.15215,     0.15315,     0.15415,     0.15516,     0.15616,     0.15716,     0.15816,     0.15916,     0.16016,     0.16116,     0.16216,     0.16316,     0.16416,     0.16517,     0.16617,     0.16717,\n",
       "           0.16817,     0.16917,     0.17017,     0.17117,     0.17217,     0.17317,     0.17417,     0.17518,     0.17618,     0.17718,     0.17818,     0.17918,     0.18018,     0.18118,     0.18218,     0.18318,     0.18418,     0.18519,     0.18619,     0.18719,     0.18819,     0.18919,     0.19019,     0.19119,\n",
       "           0.19219,     0.19319,     0.19419,      0.1952,      0.1962,      0.1972,      0.1982,      0.1992,      0.2002,      0.2012,      0.2022,      0.2032,      0.2042,     0.20521,     0.20621,     0.20721,     0.20821,     0.20921,     0.21021,     0.21121,     0.21221,     0.21321,     0.21421,     0.21522,\n",
       "           0.21622,     0.21722,     0.21822,     0.21922,     0.22022,     0.22122,     0.22222,     0.22322,     0.22422,     0.22523,     0.22623,     0.22723,     0.22823,     0.22923,     0.23023,     0.23123,     0.23223,     0.23323,     0.23423,     0.23524,     0.23624,     0.23724,     0.23824,     0.23924,\n",
       "           0.24024,     0.24124,     0.24224,     0.24324,     0.24424,     0.24525,     0.24625,     0.24725,     0.24825,     0.24925,     0.25025,     0.25125,     0.25225,     0.25325,     0.25425,     0.25526,     0.25626,     0.25726,     0.25826,     0.25926,     0.26026,     0.26126,     0.26226,     0.26326,\n",
       "           0.26426,     0.26527,     0.26627,     0.26727,     0.26827,     0.26927,     0.27027,     0.27127,     0.27227,     0.27327,     0.27427,     0.27528,     0.27628,     0.27728,     0.27828,     0.27928,     0.28028,     0.28128,     0.28228,     0.28328,     0.28428,     0.28529,     0.28629,     0.28729,\n",
       "           0.28829,     0.28929,     0.29029,     0.29129,     0.29229,     0.29329,     0.29429,      0.2953,      0.2963,      0.2973,      0.2983,      0.2993,      0.3003,      0.3013,      0.3023,      0.3033,      0.3043,     0.30531,     0.30631,     0.30731,     0.30831,     0.30931,     0.31031,     0.31131,\n",
       "           0.31231,     0.31331,     0.31431,     0.31532,     0.31632,     0.31732,     0.31832,     0.31932,     0.32032,     0.32132,     0.32232,     0.32332,     0.32432,     0.32533,     0.32633,     0.32733,     0.32833,     0.32933,     0.33033,     0.33133,     0.33233,     0.33333,     0.33433,     0.33534,\n",
       "           0.33634,     0.33734,     0.33834,     0.33934,     0.34034,     0.34134,     0.34234,     0.34334,     0.34434,     0.34535,     0.34635,     0.34735,     0.34835,     0.34935,     0.35035,     0.35135,     0.35235,     0.35335,     0.35435,     0.35536,     0.35636,     0.35736,     0.35836,     0.35936,\n",
       "           0.36036,     0.36136,     0.36236,     0.36336,     0.36436,     0.36537,     0.36637,     0.36737,     0.36837,     0.36937,     0.37037,     0.37137,     0.37237,     0.37337,     0.37437,     0.37538,     0.37638,     0.37738,     0.37838,     0.37938,     0.38038,     0.38138,     0.38238,     0.38338,\n",
       "           0.38438,     0.38539,     0.38639,     0.38739,     0.38839,     0.38939,     0.39039,     0.39139,     0.39239,     0.39339,     0.39439,      0.3954,      0.3964,      0.3974,      0.3984,      0.3994,      0.4004,      0.4014,      0.4024,      0.4034,      0.4044,     0.40541,     0.40641,     0.40741,\n",
       "           0.40841,     0.40941,     0.41041,     0.41141,     0.41241,     0.41341,     0.41441,     0.41542,     0.41642,     0.41742,     0.41842,     0.41942,     0.42042,     0.42142,     0.42242,     0.42342,     0.42442,     0.42543,     0.42643,     0.42743,     0.42843,     0.42943,     0.43043,     0.43143,\n",
       "           0.43243,     0.43343,     0.43443,     0.43544,     0.43644,     0.43744,     0.43844,     0.43944,     0.44044,     0.44144,     0.44244,     0.44344,     0.44444,     0.44545,     0.44645,     0.44745,     0.44845,     0.44945,     0.45045,     0.45145,     0.45245,     0.45345,     0.45445,     0.45546,\n",
       "           0.45646,     0.45746,     0.45846,     0.45946,     0.46046,     0.46146,     0.46246,     0.46346,     0.46446,     0.46547,     0.46647,     0.46747,     0.46847,     0.46947,     0.47047,     0.47147,     0.47247,     0.47347,     0.47447,     0.47548,     0.47648,     0.47748,     0.47848,     0.47948,\n",
       "           0.48048,     0.48148,     0.48248,     0.48348,     0.48448,     0.48549,     0.48649,     0.48749,     0.48849,     0.48949,     0.49049,     0.49149,     0.49249,     0.49349,     0.49449,      0.4955,      0.4965,      0.4975,      0.4985,      0.4995,      0.5005,      0.5015,      0.5025,      0.5035,\n",
       "            0.5045,     0.50551,     0.50651,     0.50751,     0.50851,     0.50951,     0.51051,     0.51151,     0.51251,     0.51351,     0.51451,     0.51552,     0.51652,     0.51752,     0.51852,     0.51952,     0.52052,     0.52152,     0.52252,     0.52352,     0.52452,     0.52553,     0.52653,     0.52753,\n",
       "           0.52853,     0.52953,     0.53053,     0.53153,     0.53253,     0.53353,     0.53453,     0.53554,     0.53654,     0.53754,     0.53854,     0.53954,     0.54054,     0.54154,     0.54254,     0.54354,     0.54454,     0.54555,     0.54655,     0.54755,     0.54855,     0.54955,     0.55055,     0.55155,\n",
       "           0.55255,     0.55355,     0.55455,     0.55556,     0.55656,     0.55756,     0.55856,     0.55956,     0.56056,     0.56156,     0.56256,     0.56356,     0.56456,     0.56557,     0.56657,     0.56757,     0.56857,     0.56957,     0.57057,     0.57157,     0.57257,     0.57357,     0.57457,     0.57558,\n",
       "           0.57658,     0.57758,     0.57858,     0.57958,     0.58058,     0.58158,     0.58258,     0.58358,     0.58458,     0.58559,     0.58659,     0.58759,     0.58859,     0.58959,     0.59059,     0.59159,     0.59259,     0.59359,     0.59459,      0.5956,      0.5966,      0.5976,      0.5986,      0.5996,\n",
       "            0.6006,      0.6016,      0.6026,      0.6036,      0.6046,     0.60561,     0.60661,     0.60761,     0.60861,     0.60961,     0.61061,     0.61161,     0.61261,     0.61361,     0.61461,     0.61562,     0.61662,     0.61762,     0.61862,     0.61962,     0.62062,     0.62162,     0.62262,     0.62362,\n",
       "           0.62462,     0.62563,     0.62663,     0.62763,     0.62863,     0.62963,     0.63063,     0.63163,     0.63263,     0.63363,     0.63463,     0.63564,     0.63664,     0.63764,     0.63864,     0.63964,     0.64064,     0.64164,     0.64264,     0.64364,     0.64464,     0.64565,     0.64665,     0.64765,\n",
       "           0.64865,     0.64965,     0.65065,     0.65165,     0.65265,     0.65365,     0.65465,     0.65566,     0.65666,     0.65766,     0.65866,     0.65966,     0.66066,     0.66166,     0.66266,     0.66366,     0.66466,     0.66567,     0.66667,     0.66767,     0.66867,     0.66967,     0.67067,     0.67167,\n",
       "           0.67267,     0.67367,     0.67467,     0.67568,     0.67668,     0.67768,     0.67868,     0.67968,     0.68068,     0.68168,     0.68268,     0.68368,     0.68468,     0.68569,     0.68669,     0.68769,     0.68869,     0.68969,     0.69069,     0.69169,     0.69269,     0.69369,     0.69469,      0.6957,\n",
       "            0.6967,      0.6977,      0.6987,      0.6997,      0.7007,      0.7017,      0.7027,      0.7037,      0.7047,     0.70571,     0.70671,     0.70771,     0.70871,     0.70971,     0.71071,     0.71171,     0.71271,     0.71371,     0.71471,     0.71572,     0.71672,     0.71772,     0.71872,     0.71972,\n",
       "           0.72072,     0.72172,     0.72272,     0.72372,     0.72472,     0.72573,     0.72673,     0.72773,     0.72873,     0.72973,     0.73073,     0.73173,     0.73273,     0.73373,     0.73473,     0.73574,     0.73674,     0.73774,     0.73874,     0.73974,     0.74074,     0.74174,     0.74274,     0.74374,\n",
       "           0.74474,     0.74575,     0.74675,     0.74775,     0.74875,     0.74975,     0.75075,     0.75175,     0.75275,     0.75375,     0.75475,     0.75576,     0.75676,     0.75776,     0.75876,     0.75976,     0.76076,     0.76176,     0.76276,     0.76376,     0.76476,     0.76577,     0.76677,     0.76777,\n",
       "           0.76877,     0.76977,     0.77077,     0.77177,     0.77277,     0.77377,     0.77477,     0.77578,     0.77678,     0.77778,     0.77878,     0.77978,     0.78078,     0.78178,     0.78278,     0.78378,     0.78478,     0.78579,     0.78679,     0.78779,     0.78879,     0.78979,     0.79079,     0.79179,\n",
       "           0.79279,     0.79379,     0.79479,      0.7958,      0.7968,      0.7978,      0.7988,      0.7998,      0.8008,      0.8018,      0.8028,      0.8038,      0.8048,     0.80581,     0.80681,     0.80781,     0.80881,     0.80981,     0.81081,     0.81181,     0.81281,     0.81381,     0.81481,     0.81582,\n",
       "           0.81682,     0.81782,     0.81882,     0.81982,     0.82082,     0.82182,     0.82282,     0.82382,     0.82482,     0.82583,     0.82683,     0.82783,     0.82883,     0.82983,     0.83083,     0.83183,     0.83283,     0.83383,     0.83483,     0.83584,     0.83684,     0.83784,     0.83884,     0.83984,\n",
       "           0.84084,     0.84184,     0.84284,     0.84384,     0.84484,     0.84585,     0.84685,     0.84785,     0.84885,     0.84985,     0.85085,     0.85185,     0.85285,     0.85385,     0.85485,     0.85586,     0.85686,     0.85786,     0.85886,     0.85986,     0.86086,     0.86186,     0.86286,     0.86386,\n",
       "           0.86486,     0.86587,     0.86687,     0.86787,     0.86887,     0.86987,     0.87087,     0.87187,     0.87287,     0.87387,     0.87487,     0.87588,     0.87688,     0.87788,     0.87888,     0.87988,     0.88088,     0.88188,     0.88288,     0.88388,     0.88488,     0.88589,     0.88689,     0.88789,\n",
       "           0.88889,     0.88989,     0.89089,     0.89189,     0.89289,     0.89389,     0.89489,      0.8959,      0.8969,      0.8979,      0.8989,      0.8999,      0.9009,      0.9019,      0.9029,      0.9039,      0.9049,     0.90591,     0.90691,     0.90791,     0.90891,     0.90991,     0.91091,     0.91191,\n",
       "           0.91291,     0.91391,     0.91491,     0.91592,     0.91692,     0.91792,     0.91892,     0.91992,     0.92092,     0.92192,     0.92292,     0.92392,     0.92492,     0.92593,     0.92693,     0.92793,     0.92893,     0.92993,     0.93093,     0.93193,     0.93293,     0.93393,     0.93493,     0.93594,\n",
       "           0.93694,     0.93794,     0.93894,     0.93994,     0.94094,     0.94194,     0.94294,     0.94394,     0.94494,     0.94595,     0.94695,     0.94795,     0.94895,     0.94995,     0.95095,     0.95195,     0.95295,     0.95395,     0.95495,     0.95596,     0.95696,     0.95796,     0.95896,     0.95996,\n",
       "           0.96096,     0.96196,     0.96296,     0.96396,     0.96496,     0.96597,     0.96697,     0.96797,     0.96897,     0.96997,     0.97097,     0.97197,     0.97297,     0.97397,     0.97497,     0.97598,     0.97698,     0.97798,     0.97898,     0.97998,     0.98098,     0.98198,     0.98298,     0.98398,\n",
       "           0.98498,     0.98599,     0.98699,     0.98799,     0.98899,     0.98999,     0.99099,     0.99199,     0.99299,     0.99399,     0.99499,       0.996,       0.997,       0.998,       0.999,           1]), array([[   0.020218,    0.020218,    0.026067,    0.042408,     0.05448,    0.060086,    0.066826,     0.07046,    0.077225,    0.083577,    0.088054,    0.092458,    0.096489,    0.098678,     0.10286,     0.10809,     0.11398,     0.11843,     0.12114,     0.12458,     0.13291,      0.1364,     0.13892,\n",
       "            0.14119,     0.14813,      0.1528,     0.15545,     0.16097,     0.16715,     0.17063,      0.1728,      0.1769,     0.17846,     0.17956,     0.18215,     0.18581,     0.19447,     0.19713,     0.19802,     0.19891,     0.19981,     0.20695,     0.21414,     0.22404,     0.22526,     0.22639,\n",
       "            0.22753,     0.22908,     0.23102,     0.23608,     0.23797,     0.23963,     0.24262,     0.25552,     0.25905,     0.26392,     0.27109,     0.27545,     0.28306,     0.28378,     0.28451,     0.28524,     0.28597,      0.2867,     0.28742,     0.28815,     0.28888,      0.2974,      0.3024,\n",
       "            0.31069,     0.31206,     0.31343,      0.3148,     0.31617,     0.32518,     0.32657,     0.32797,     0.32937,     0.33076,     0.33216,     0.33671,     0.35155,     0.35424,     0.35693,     0.35963,     0.36573,      0.3736,      0.3785,      0.3904,     0.39898,     0.40454,     0.40881,\n",
       "            0.41252,     0.41622,     0.41977,     0.42245,     0.42514,     0.42783,     0.43051,      0.4332,     0.44909,     0.45028,     0.45147,     0.45267,     0.45386,     0.45505,     0.45625,     0.45744,     0.45863,     0.45983,     0.46102,     0.46222,     0.46341,     0.46466,     0.46608,\n",
       "            0.46749,     0.46891,     0.47033,     0.47174,     0.47316,     0.47458,     0.47599,     0.47741,     0.47883,     0.48024,     0.48348,     0.49953,     0.51526,     0.52081,     0.52197,     0.52313,     0.52429,     0.52546,     0.52662,     0.52778,     0.52894,      0.5301,     0.53126,\n",
       "            0.53242,     0.53358,     0.53474,     0.53591,     0.53707,     0.53823,     0.53939,     0.54055,     0.54172,     0.54318,     0.54464,      0.5461,     0.54755,     0.54901,     0.55047,     0.55193,     0.55339,     0.55484,      0.5563,     0.55776,     0.55922,     0.56068,     0.56213,\n",
       "            0.56359,     0.56505,     0.56653,     0.56801,     0.56949,     0.57098,     0.57246,     0.57394,     0.57542,     0.57691,     0.57839,     0.57987,     0.58135,     0.58283,     0.58432,      0.5858,     0.58728,     0.58876,     0.59025,     0.59723,     0.60868,     0.62044,      0.6352,\n",
       "            0.64995,     0.65297,     0.65595,     0.65893,     0.66191,     0.66489,     0.66786,     0.67084,     0.67382,      0.6768,     0.67978,     0.68276,      0.6943,     0.71397,     0.72435,     0.72801,     0.73168,     0.73535,     0.73901,     0.74268,     0.74634,     0.75001,     0.75367,\n",
       "            0.75734,     0.76101,     0.76467,     0.76616,     0.76763,     0.76909,     0.77056,     0.77203,     0.77349,     0.77496,     0.77643,     0.77789,     0.77936,     0.78083,     0.78229,     0.78376,     0.78523,     0.78669,     0.78816,     0.78963,     0.79109,     0.79256,     0.79403,\n",
       "            0.79549,     0.79696,     0.79843,     0.79989,     0.80136,     0.80283,     0.80429,     0.80576,     0.80723,     0.80869,     0.81016,     0.81163,     0.81228,     0.81174,      0.8112,     0.81066,     0.81012,     0.80957,     0.80903,     0.80849,     0.80795,     0.80741,     0.80687,\n",
       "            0.80633,     0.80578,     0.80524,      0.8047,     0.80416,     0.80362,     0.80308,     0.80254,       0.802,     0.80145,     0.80091,     0.80037,     0.80051,     0.80215,     0.80378,     0.80541,     0.80705,     0.80868,     0.81031,     0.81195,     0.81358,     0.81522,     0.81685,\n",
       "            0.81848,     0.82012,     0.82175,     0.82338,     0.82502,     0.82665,     0.82828,     0.82992,     0.83155,     0.83319,     0.83482,     0.83645,     0.83809,     0.83972,     0.84135,     0.84299,     0.84462,     0.84625,     0.84789,     0.84952,     0.85116,     0.85279,     0.85442,\n",
       "            0.85606,     0.86679,     0.89558,     0.92307,     0.92283,     0.92259,     0.92235,     0.92212,     0.92188,     0.92164,      0.9214,     0.92117,     0.92093,     0.92069,     0.92046,     0.92022,     0.91998,     0.91974,     0.91951,     0.91927,     0.91903,     0.91879,     0.91856,\n",
       "            0.91832,     0.91808,     0.91784,     0.91761,     0.91737,     0.91713,     0.91689,     0.91665,     0.91614,     0.91564,     0.91514,     0.91464,     0.91413,     0.91363,     0.91313,     0.91263,     0.91212,     0.91162,     0.91112,     0.91062,     0.91011,     0.90961,     0.90911,\n",
       "            0.91071,     0.91238,     0.91405,     0.91573,      0.9174,     0.91907,     0.92074,     0.92242,     0.92409,     0.92576,     0.92743,     0.92911,     0.93078,     0.93245,     0.93412,      0.9358,     0.93747,     0.93914,     0.94081,     0.94249,     0.94416,     0.94583,      0.9475,\n",
       "            0.94918,     0.95085,     0.95252,     0.95419,     0.95587,     0.95754,     0.95921,     0.96088,     0.96256,     0.96423,      0.9659,     0.96757,     0.96925,     0.97092,     0.97259,     0.97426,     0.97594,     0.97761,     0.97928,     0.98095,     0.98263,      0.9843,     0.98597,\n",
       "            0.98765,     0.98932,     0.99099,     0.99266,     0.99434,     0.99601,     0.99768,     0.99935,           1,           1,           1,           1,           1,           1,           1,           1,           1,           1,           1,           1,           1,           1,           1,\n",
       "                  1,           1,           1,           1,           1,           1,           1,           1,           1,           1,           1,           1,           1,           1,           1,           1,           1,           1,           1,           1,           1,           1,           1,\n",
       "                  1,           1,           1,           1,           1,           1,           1,           1,           1,           1,           1,           1,           1,           1,           1,           1,           1,           1,           1,           1,           1,           1,           1,\n",
       "                  1,           1,           1,           1,           1,           1,           1,           1,           1,           1,           1,           1,           1,           1,           1,           1,           1,           1,           1,           1,           1,           1,           1,\n",
       "                  1,           1,           1,           1,           1,           1,           1,           1,           1,           1,           1,           1,           1,           1,           1,           1,           1,           1,           1,           1,           1,           1,           1,\n",
       "                  1,           1,           1,           1,           1,           1,           1,           1,           1,           1,           1,           1,           1,           1,           1,           1,           1,           1,           1,           1,           1,           1,           1,\n",
       "                  1,           1,           1,           1,           1,           1,           1,           1,           1,           1,           1,           1,           1,           1,           1,           1,           1,           1,           1,           1,           1,           1,           1,\n",
       "                  1,           1,           1,           1,           1,           1,           1,           1,           1,           1,           1,           1,           1,           1,           1,           1,           1,           1,           1,           1,           1,           1,           1,\n",
       "                  1,           1,           1,           1,           1,           1,           1,           1,           1,           1,           1,           1,           1,           1,           1,           1,           1,           1,           1,           1,           1,           1,           1,\n",
       "                  1,           1,           1,           1,           1,           1,           1,           1,           1,           1,           1,           1,           1,           1,           1,           1,           1,           1,           1,           1,           1,           1,           1,\n",
       "                  1,           1,           1,           1,           1,           1,           1,           1,           1,           1,           1,           1,           1,           1,           1,           1,           1,           1,           1,           1,           1,           1,           1,\n",
       "                  1,           1,           1,           1,           1,           1,           1,           1,           1,           1,           1,           1,           1,           1,           1,           1,           1,           1,           1,           1,           1,           1,           1,\n",
       "                  1,           1,           1,           1,           1,           1,           1,           1,           1,           1,           1,           1,           1,           1,           1,           1,           1,           1,           1,           1,           1,           1,           1,\n",
       "                  1,           1,           1,           1,           1,           1,           1,           1,           1,           1,           1,           1,           1,           1,           1,           1,           1,           1,           1,           1,           1,           1,           1,\n",
       "                  1,           1,           1,           1,           1,           1,           1,           1,           1,           1,           1,           1,           1,           1,           1,           1,           1,           1,           1,           1,           1,           1,           1,\n",
       "                  1,           1,           1,           1,           1,           1,           1,           1,           1,           1,           1,           1,           1,           1,           1,           1,           1,           1,           1,           1,           1,           1,           1,\n",
       "                  1,           1,           1,           1,           1,           1,           1,           1,           1,           1,           1,           1,           1,           1,           1,           1,           1,           1,           1,           1,           1,           1,           1,\n",
       "                  1,           1,           1,           1,           1,           1,           1,           1,           1,           1,           1,           1,           1,           1,           1,           1,           1,           1,           1,           1,           1,           1,           1,\n",
       "                  1,           1,           1,           1,           1,           1,           1,           1,           1,           1,           1,           1,           1,           1,           1,           1,           1,           1,           1,           1,           1,           1,           1,\n",
       "                  1,           1,           1,           1,           1,           1,           1,           1,           1,           1,           1,           1,           1,           1,           1,           1,           1,           1,           1,           1,           1,           1,           1,\n",
       "                  1,           1,           1,           1,           1,           1,           1,           1,           1,           1,           1,           1,           1,           1,           1,           1,           1,           1,           1,           1,           1,           1,           1,\n",
       "                  1,           1,           1,           1,           1,           1,           1,           1,           1,           1,           1,           1,           1,           1,           1,           1,           1,           1,           1,           1,           1,           1,           1,\n",
       "                  1,           1,           1,           1,           1,           1,           1,           1,           1,           1,           1,           1,           1,           1,           1,           1,           1,           1,           1,           1,           1,           1,           1,\n",
       "                  1,           1,           1,           1,           1,           1,           1,           1,           1,           1,           1,           1,           1,           1,           1,           1,           1,           1,           1,           1,           1,           1,           1,\n",
       "                  1,           1,           1,           1,           1,           1,           1,           1,           1,           1,           1,           1,           1,           1,           1,           1,           1,           1,           1,           1,           1,           1,           1,\n",
       "                  1,           1,           1,           1,           1,           1,           1,           1,           1,           1,           1,           1,           1,           1,           1,           1,           1,           1,           1,           1,           1,           1,           1,\n",
       "                  1,           1,           1,           1,           1,           1,           1,           1,           1,           1,           1]]), 'Confidence', 'Precision'], [array([          0,    0.001001,    0.002002,    0.003003,    0.004004,    0.005005,    0.006006,    0.007007,    0.008008,    0.009009,     0.01001,    0.011011,    0.012012,    0.013013,    0.014014,    0.015015,    0.016016,    0.017017,    0.018018,    0.019019,     0.02002,    0.021021,    0.022022,    0.023023,\n",
       "          0.024024,    0.025025,    0.026026,    0.027027,    0.028028,    0.029029,     0.03003,    0.031031,    0.032032,    0.033033,    0.034034,    0.035035,    0.036036,    0.037037,    0.038038,    0.039039,     0.04004,    0.041041,    0.042042,    0.043043,    0.044044,    0.045045,    0.046046,    0.047047,\n",
       "          0.048048,    0.049049,     0.05005,    0.051051,    0.052052,    0.053053,    0.054054,    0.055055,    0.056056,    0.057057,    0.058058,    0.059059,     0.06006,    0.061061,    0.062062,    0.063063,    0.064064,    0.065065,    0.066066,    0.067067,    0.068068,    0.069069,     0.07007,    0.071071,\n",
       "          0.072072,    0.073073,    0.074074,    0.075075,    0.076076,    0.077077,    0.078078,    0.079079,     0.08008,    0.081081,    0.082082,    0.083083,    0.084084,    0.085085,    0.086086,    0.087087,    0.088088,    0.089089,     0.09009,    0.091091,    0.092092,    0.093093,    0.094094,    0.095095,\n",
       "          0.096096,    0.097097,    0.098098,    0.099099,      0.1001,      0.1011,      0.1021,      0.1031,      0.1041,     0.10511,     0.10611,     0.10711,     0.10811,     0.10911,     0.11011,     0.11111,     0.11211,     0.11311,     0.11411,     0.11512,     0.11612,     0.11712,     0.11812,     0.11912,\n",
       "           0.12012,     0.12112,     0.12212,     0.12312,     0.12412,     0.12513,     0.12613,     0.12713,     0.12813,     0.12913,     0.13013,     0.13113,     0.13213,     0.13313,     0.13413,     0.13514,     0.13614,     0.13714,     0.13814,     0.13914,     0.14014,     0.14114,     0.14214,     0.14314,\n",
       "           0.14414,     0.14515,     0.14615,     0.14715,     0.14815,     0.14915,     0.15015,     0.15115,     0.15215,     0.15315,     0.15415,     0.15516,     0.15616,     0.15716,     0.15816,     0.15916,     0.16016,     0.16116,     0.16216,     0.16316,     0.16416,     0.16517,     0.16617,     0.16717,\n",
       "           0.16817,     0.16917,     0.17017,     0.17117,     0.17217,     0.17317,     0.17417,     0.17518,     0.17618,     0.17718,     0.17818,     0.17918,     0.18018,     0.18118,     0.18218,     0.18318,     0.18418,     0.18519,     0.18619,     0.18719,     0.18819,     0.18919,     0.19019,     0.19119,\n",
       "           0.19219,     0.19319,     0.19419,      0.1952,      0.1962,      0.1972,      0.1982,      0.1992,      0.2002,      0.2012,      0.2022,      0.2032,      0.2042,     0.20521,     0.20621,     0.20721,     0.20821,     0.20921,     0.21021,     0.21121,     0.21221,     0.21321,     0.21421,     0.21522,\n",
       "           0.21622,     0.21722,     0.21822,     0.21922,     0.22022,     0.22122,     0.22222,     0.22322,     0.22422,     0.22523,     0.22623,     0.22723,     0.22823,     0.22923,     0.23023,     0.23123,     0.23223,     0.23323,     0.23423,     0.23524,     0.23624,     0.23724,     0.23824,     0.23924,\n",
       "           0.24024,     0.24124,     0.24224,     0.24324,     0.24424,     0.24525,     0.24625,     0.24725,     0.24825,     0.24925,     0.25025,     0.25125,     0.25225,     0.25325,     0.25425,     0.25526,     0.25626,     0.25726,     0.25826,     0.25926,     0.26026,     0.26126,     0.26226,     0.26326,\n",
       "           0.26426,     0.26527,     0.26627,     0.26727,     0.26827,     0.26927,     0.27027,     0.27127,     0.27227,     0.27327,     0.27427,     0.27528,     0.27628,     0.27728,     0.27828,     0.27928,     0.28028,     0.28128,     0.28228,     0.28328,     0.28428,     0.28529,     0.28629,     0.28729,\n",
       "           0.28829,     0.28929,     0.29029,     0.29129,     0.29229,     0.29329,     0.29429,      0.2953,      0.2963,      0.2973,      0.2983,      0.2993,      0.3003,      0.3013,      0.3023,      0.3033,      0.3043,     0.30531,     0.30631,     0.30731,     0.30831,     0.30931,     0.31031,     0.31131,\n",
       "           0.31231,     0.31331,     0.31431,     0.31532,     0.31632,     0.31732,     0.31832,     0.31932,     0.32032,     0.32132,     0.32232,     0.32332,     0.32432,     0.32533,     0.32633,     0.32733,     0.32833,     0.32933,     0.33033,     0.33133,     0.33233,     0.33333,     0.33433,     0.33534,\n",
       "           0.33634,     0.33734,     0.33834,     0.33934,     0.34034,     0.34134,     0.34234,     0.34334,     0.34434,     0.34535,     0.34635,     0.34735,     0.34835,     0.34935,     0.35035,     0.35135,     0.35235,     0.35335,     0.35435,     0.35536,     0.35636,     0.35736,     0.35836,     0.35936,\n",
       "           0.36036,     0.36136,     0.36236,     0.36336,     0.36436,     0.36537,     0.36637,     0.36737,     0.36837,     0.36937,     0.37037,     0.37137,     0.37237,     0.37337,     0.37437,     0.37538,     0.37638,     0.37738,     0.37838,     0.37938,     0.38038,     0.38138,     0.38238,     0.38338,\n",
       "           0.38438,     0.38539,     0.38639,     0.38739,     0.38839,     0.38939,     0.39039,     0.39139,     0.39239,     0.39339,     0.39439,      0.3954,      0.3964,      0.3974,      0.3984,      0.3994,      0.4004,      0.4014,      0.4024,      0.4034,      0.4044,     0.40541,     0.40641,     0.40741,\n",
       "           0.40841,     0.40941,     0.41041,     0.41141,     0.41241,     0.41341,     0.41441,     0.41542,     0.41642,     0.41742,     0.41842,     0.41942,     0.42042,     0.42142,     0.42242,     0.42342,     0.42442,     0.42543,     0.42643,     0.42743,     0.42843,     0.42943,     0.43043,     0.43143,\n",
       "           0.43243,     0.43343,     0.43443,     0.43544,     0.43644,     0.43744,     0.43844,     0.43944,     0.44044,     0.44144,     0.44244,     0.44344,     0.44444,     0.44545,     0.44645,     0.44745,     0.44845,     0.44945,     0.45045,     0.45145,     0.45245,     0.45345,     0.45445,     0.45546,\n",
       "           0.45646,     0.45746,     0.45846,     0.45946,     0.46046,     0.46146,     0.46246,     0.46346,     0.46446,     0.46547,     0.46647,     0.46747,     0.46847,     0.46947,     0.47047,     0.47147,     0.47247,     0.47347,     0.47447,     0.47548,     0.47648,     0.47748,     0.47848,     0.47948,\n",
       "           0.48048,     0.48148,     0.48248,     0.48348,     0.48448,     0.48549,     0.48649,     0.48749,     0.48849,     0.48949,     0.49049,     0.49149,     0.49249,     0.49349,     0.49449,      0.4955,      0.4965,      0.4975,      0.4985,      0.4995,      0.5005,      0.5015,      0.5025,      0.5035,\n",
       "            0.5045,     0.50551,     0.50651,     0.50751,     0.50851,     0.50951,     0.51051,     0.51151,     0.51251,     0.51351,     0.51451,     0.51552,     0.51652,     0.51752,     0.51852,     0.51952,     0.52052,     0.52152,     0.52252,     0.52352,     0.52452,     0.52553,     0.52653,     0.52753,\n",
       "           0.52853,     0.52953,     0.53053,     0.53153,     0.53253,     0.53353,     0.53453,     0.53554,     0.53654,     0.53754,     0.53854,     0.53954,     0.54054,     0.54154,     0.54254,     0.54354,     0.54454,     0.54555,     0.54655,     0.54755,     0.54855,     0.54955,     0.55055,     0.55155,\n",
       "           0.55255,     0.55355,     0.55455,     0.55556,     0.55656,     0.55756,     0.55856,     0.55956,     0.56056,     0.56156,     0.56256,     0.56356,     0.56456,     0.56557,     0.56657,     0.56757,     0.56857,     0.56957,     0.57057,     0.57157,     0.57257,     0.57357,     0.57457,     0.57558,\n",
       "           0.57658,     0.57758,     0.57858,     0.57958,     0.58058,     0.58158,     0.58258,     0.58358,     0.58458,     0.58559,     0.58659,     0.58759,     0.58859,     0.58959,     0.59059,     0.59159,     0.59259,     0.59359,     0.59459,      0.5956,      0.5966,      0.5976,      0.5986,      0.5996,\n",
       "            0.6006,      0.6016,      0.6026,      0.6036,      0.6046,     0.60561,     0.60661,     0.60761,     0.60861,     0.60961,     0.61061,     0.61161,     0.61261,     0.61361,     0.61461,     0.61562,     0.61662,     0.61762,     0.61862,     0.61962,     0.62062,     0.62162,     0.62262,     0.62362,\n",
       "           0.62462,     0.62563,     0.62663,     0.62763,     0.62863,     0.62963,     0.63063,     0.63163,     0.63263,     0.63363,     0.63463,     0.63564,     0.63664,     0.63764,     0.63864,     0.63964,     0.64064,     0.64164,     0.64264,     0.64364,     0.64464,     0.64565,     0.64665,     0.64765,\n",
       "           0.64865,     0.64965,     0.65065,     0.65165,     0.65265,     0.65365,     0.65465,     0.65566,     0.65666,     0.65766,     0.65866,     0.65966,     0.66066,     0.66166,     0.66266,     0.66366,     0.66466,     0.66567,     0.66667,     0.66767,     0.66867,     0.66967,     0.67067,     0.67167,\n",
       "           0.67267,     0.67367,     0.67467,     0.67568,     0.67668,     0.67768,     0.67868,     0.67968,     0.68068,     0.68168,     0.68268,     0.68368,     0.68468,     0.68569,     0.68669,     0.68769,     0.68869,     0.68969,     0.69069,     0.69169,     0.69269,     0.69369,     0.69469,      0.6957,\n",
       "            0.6967,      0.6977,      0.6987,      0.6997,      0.7007,      0.7017,      0.7027,      0.7037,      0.7047,     0.70571,     0.70671,     0.70771,     0.70871,     0.70971,     0.71071,     0.71171,     0.71271,     0.71371,     0.71471,     0.71572,     0.71672,     0.71772,     0.71872,     0.71972,\n",
       "           0.72072,     0.72172,     0.72272,     0.72372,     0.72472,     0.72573,     0.72673,     0.72773,     0.72873,     0.72973,     0.73073,     0.73173,     0.73273,     0.73373,     0.73473,     0.73574,     0.73674,     0.73774,     0.73874,     0.73974,     0.74074,     0.74174,     0.74274,     0.74374,\n",
       "           0.74474,     0.74575,     0.74675,     0.74775,     0.74875,     0.74975,     0.75075,     0.75175,     0.75275,     0.75375,     0.75475,     0.75576,     0.75676,     0.75776,     0.75876,     0.75976,     0.76076,     0.76176,     0.76276,     0.76376,     0.76476,     0.76577,     0.76677,     0.76777,\n",
       "           0.76877,     0.76977,     0.77077,     0.77177,     0.77277,     0.77377,     0.77477,     0.77578,     0.77678,     0.77778,     0.77878,     0.77978,     0.78078,     0.78178,     0.78278,     0.78378,     0.78478,     0.78579,     0.78679,     0.78779,     0.78879,     0.78979,     0.79079,     0.79179,\n",
       "           0.79279,     0.79379,     0.79479,      0.7958,      0.7968,      0.7978,      0.7988,      0.7998,      0.8008,      0.8018,      0.8028,      0.8038,      0.8048,     0.80581,     0.80681,     0.80781,     0.80881,     0.80981,     0.81081,     0.81181,     0.81281,     0.81381,     0.81481,     0.81582,\n",
       "           0.81682,     0.81782,     0.81882,     0.81982,     0.82082,     0.82182,     0.82282,     0.82382,     0.82482,     0.82583,     0.82683,     0.82783,     0.82883,     0.82983,     0.83083,     0.83183,     0.83283,     0.83383,     0.83483,     0.83584,     0.83684,     0.83784,     0.83884,     0.83984,\n",
       "           0.84084,     0.84184,     0.84284,     0.84384,     0.84484,     0.84585,     0.84685,     0.84785,     0.84885,     0.84985,     0.85085,     0.85185,     0.85285,     0.85385,     0.85485,     0.85586,     0.85686,     0.85786,     0.85886,     0.85986,     0.86086,     0.86186,     0.86286,     0.86386,\n",
       "           0.86486,     0.86587,     0.86687,     0.86787,     0.86887,     0.86987,     0.87087,     0.87187,     0.87287,     0.87387,     0.87487,     0.87588,     0.87688,     0.87788,     0.87888,     0.87988,     0.88088,     0.88188,     0.88288,     0.88388,     0.88488,     0.88589,     0.88689,     0.88789,\n",
       "           0.88889,     0.88989,     0.89089,     0.89189,     0.89289,     0.89389,     0.89489,      0.8959,      0.8969,      0.8979,      0.8989,      0.8999,      0.9009,      0.9019,      0.9029,      0.9039,      0.9049,     0.90591,     0.90691,     0.90791,     0.90891,     0.90991,     0.91091,     0.91191,\n",
       "           0.91291,     0.91391,     0.91491,     0.91592,     0.91692,     0.91792,     0.91892,     0.91992,     0.92092,     0.92192,     0.92292,     0.92392,     0.92492,     0.92593,     0.92693,     0.92793,     0.92893,     0.92993,     0.93093,     0.93193,     0.93293,     0.93393,     0.93493,     0.93594,\n",
       "           0.93694,     0.93794,     0.93894,     0.93994,     0.94094,     0.94194,     0.94294,     0.94394,     0.94494,     0.94595,     0.94695,     0.94795,     0.94895,     0.94995,     0.95095,     0.95195,     0.95295,     0.95395,     0.95495,     0.95596,     0.95696,     0.95796,     0.95896,     0.95996,\n",
       "           0.96096,     0.96196,     0.96296,     0.96396,     0.96496,     0.96597,     0.96697,     0.96797,     0.96897,     0.96997,     0.97097,     0.97197,     0.97297,     0.97397,     0.97497,     0.97598,     0.97698,     0.97798,     0.97898,     0.97998,     0.98098,     0.98198,     0.98298,     0.98398,\n",
       "           0.98498,     0.98599,     0.98699,     0.98799,     0.98899,     0.98999,     0.99099,     0.99199,     0.99299,     0.99399,     0.99499,       0.996,       0.997,       0.998,       0.999,           1]), array([[          1,           1,           1,           1,           1,           1,           1,           1,           1,           1,           1,           1,           1,           1,           1,           1,           1,           1,           1,           1,           1,           1,           1,\n",
       "                  1,           1,           1,           1,           1,           1,           1,           1,           1,           1,           1,           1,           1,           1,           1,           1,           1,           1,           1,           1,           1,           1,           1,\n",
       "                  1,           1,           1,           1,           1,           1,           1,           1,           1,           1,           1,           1,           1,           1,           1,           1,           1,           1,           1,           1,           1,           1,           1,\n",
       "                  1,           1,           1,           1,           1,           1,           1,           1,           1,           1,           1,           1,           1,           1,           1,           1,           1,           1,           1,           1,           1,           1,           1,\n",
       "                  1,           1,           1,           1,           1,           1,           1,           1,           1,           1,           1,           1,           1,           1,           1,           1,           1,           1,           1,           1,           1,           1,           1,\n",
       "                  1,           1,           1,           1,           1,           1,           1,           1,           1,           1,           1,           1,           1,           1,           1,           1,           1,           1,           1,           1,           1,           1,           1,\n",
       "                  1,           1,           1,           1,           1,           1,           1,           1,           1,           1,           1,           1,           1,           1,           1,           1,           1,           1,           1,           1,           1,           1,           1,\n",
       "                  1,           1,           1,           1,           1,           1,           1,           1,           1,           1,           1,           1,           1,           1,           1,           1,           1,           1,           1,           1,           1,           1,           1,\n",
       "                  1,           1,           1,           1,           1,           1,           1,           1,           1,           1,           1,           1,           1,           1,           1,           1,           1,           1,           1,           1,           1,           1,           1,\n",
       "                  1,           1,           1,           1,           1,           1,           1,           1,           1,           1,           1,           1,           1,           1,           1,           1,           1,           1,           1,           1,           1,           1,           1,\n",
       "                  1,           1,           1,           1,           1,           1,           1,           1,           1,           1,           1,           1,     0.99865,     0.99532,     0.99199,     0.98866,     0.98533,       0.982,     0.97866,     0.97533,       0.972,     0.96867,     0.96534,\n",
       "            0.96201,     0.95868,     0.95534,     0.95201,     0.94868,     0.94535,     0.94202,     0.93869,     0.93536,     0.93202,     0.92869,     0.92536,     0.92308,     0.92308,     0.92308,     0.92308,     0.92308,     0.92308,     0.92308,     0.92308,     0.92308,     0.92308,     0.92308,\n",
       "            0.92308,     0.92308,     0.92308,     0.92308,     0.92308,     0.92308,     0.92308,     0.92308,     0.92308,     0.92308,     0.92308,     0.92308,     0.92308,     0.92308,     0.92308,     0.92308,     0.92308,     0.92308,     0.92308,     0.92308,     0.92308,     0.92308,     0.92308,\n",
       "            0.92308,     0.92308,     0.92308,     0.92295,      0.9201,     0.91725,      0.9144,     0.91156,     0.90871,     0.90586,     0.90301,     0.90016,     0.89731,     0.89447,     0.89162,     0.88877,     0.88592,     0.88307,     0.88022,     0.87737,     0.87453,     0.87168,     0.86883,\n",
       "            0.86598,     0.86313,     0.86028,     0.85744,     0.85459,     0.85174,     0.84889,     0.84595,     0.84085,     0.83575,     0.83064,     0.82554,     0.82044,     0.81533,     0.81023,     0.80513,     0.80002,     0.79492,     0.78982,     0.78471,     0.77961,     0.77451,      0.7694,\n",
       "            0.76923,     0.76923,     0.76923,     0.76923,     0.76923,     0.76923,     0.76923,     0.76923,     0.76923,     0.76923,     0.76923,     0.76923,     0.76923,     0.76923,     0.76923,     0.76923,     0.76923,     0.76923,     0.76923,     0.76923,     0.76923,     0.76923,     0.76923,\n",
       "            0.76923,     0.76923,     0.76923,     0.76923,     0.76923,     0.76923,     0.76923,     0.76923,     0.76923,     0.76923,     0.76923,     0.76923,     0.76923,     0.76923,     0.76923,     0.76923,     0.76923,     0.76923,     0.76923,     0.76923,     0.76923,     0.76923,     0.76923,\n",
       "            0.76923,     0.76923,     0.76923,     0.76923,     0.76923,     0.76923,     0.76923,     0.76923,     0.76784,     0.76557,     0.76331,     0.76104,     0.75877,      0.7565,     0.75423,     0.75197,      0.7497,     0.74743,     0.74516,      0.7429,     0.74063,     0.73836,     0.73609,\n",
       "            0.73383,     0.73156,     0.72929,     0.72702,     0.72476,     0.72249,     0.72022,     0.71795,     0.71569,     0.71342,     0.71115,     0.70888,     0.70662,     0.70435,     0.70208,     0.69981,     0.69755,     0.69528,     0.69301,     0.68768,     0.68096,     0.67425,     0.66754,\n",
       "            0.66083,     0.65411,      0.6474,     0.64069,     0.63397,     0.62726,     0.62055,     0.60733,     0.57243,     0.53829,     0.53195,     0.52562,     0.51928,     0.51294,     0.50661,     0.50027,     0.49393,     0.48759,     0.48126,     0.47492,     0.46858,     0.46225,     0.44268,\n",
       "            0.42145,     0.40022,     0.38187,      0.3715,     0.36113,     0.35077,      0.3404,     0.33003,     0.31966,     0.30929,     0.27094,     0.23073,     0.23021,     0.22968,     0.22916,     0.22864,     0.22811,     0.22759,     0.22706,     0.22654,     0.22602,     0.22549,     0.22497,\n",
       "            0.22445,     0.22392,      0.2234,     0.22288,     0.22235,     0.22183,     0.22131,     0.22078,     0.22026,     0.21973,     0.21921,     0.21869,     0.21816,     0.21764,     0.21712,     0.21659,     0.21607,     0.21555,     0.21502,      0.2145,     0.21398,     0.21345,     0.21293,\n",
       "             0.2124,     0.21188,     0.21136,     0.21083,     0.21031,     0.20979,     0.20926,     0.20874,     0.20822,     0.20769,     0.20717,     0.20665,     0.20612,      0.2056,     0.20507,     0.20455,     0.20403,      0.2035,     0.20298,     0.20246,     0.20193,     0.20141,     0.20089,\n",
       "            0.20036,     0.19984,     0.19932,     0.19879,     0.19827,     0.19775,     0.19722,      0.1967,     0.19617,     0.19565,     0.19513,      0.1946,     0.19408,     0.19356,     0.19303,     0.19251,     0.19199,     0.19146,     0.19094,     0.19042,     0.18989,     0.18937,     0.18884,\n",
       "            0.18832,      0.1878,     0.18727,     0.18675,     0.18623,      0.1857,     0.18518,     0.18466,     0.18413,     0.18361,     0.18309,     0.18256,     0.18204,     0.18151,     0.18099,     0.18047,     0.17994,     0.17942,      0.1789,     0.17837,     0.17785,     0.17733,      0.1768,\n",
       "            0.17628,     0.17576,     0.17523,     0.17471,     0.17418,     0.17366,     0.17314,     0.17261,     0.17209,     0.17157,     0.17104,     0.17052,        0.17,     0.16947,     0.16895,     0.16843,      0.1679,     0.16738,     0.16686,     0.16633,     0.16581,     0.16528,     0.16476,\n",
       "            0.16424,     0.16371,     0.16319,     0.16267,     0.16214,     0.16162,      0.1611,     0.16057,     0.16005,     0.15953,       0.159,     0.15848,     0.15795,     0.15743,     0.15691,     0.15638,     0.15586,     0.15534,     0.15481,     0.15429,     0.15369,     0.15263,     0.15158,\n",
       "            0.15053,     0.14948,     0.14843,     0.14738,     0.14633,     0.14528,     0.14423,     0.14318,     0.14213,     0.14108,     0.14003,     0.13897,     0.13792,     0.13687,     0.13582,     0.13477,     0.13372,     0.13267,     0.13162,     0.13057,     0.12952,     0.12847,     0.12742,\n",
       "            0.12637,     0.12531,     0.12426,     0.12321,     0.12216,     0.12111,     0.12006,     0.11901,     0.11796,     0.11691,     0.11586,     0.11481,     0.11376,     0.11271,     0.11166,      0.1106,     0.10955,      0.1085,     0.10745,      0.1064,     0.10535,      0.1043,     0.10325,\n",
       "             0.1022,     0.10115,      0.1001,    0.099046,    0.097995,    0.096944,    0.095894,    0.094843,    0.093792,    0.092741,    0.091691,     0.09064,    0.089589,    0.088538,    0.087488,    0.086437,    0.085386,    0.084335,    0.083285,    0.082234,    0.081183,    0.080132,    0.079082,\n",
       "           0.078031,     0.07698,           0,           0,           0,           0,           0,           0,           0,           0,           0,           0,           0,           0,           0,           0,           0,           0,           0,           0,           0,           0,           0,\n",
       "                  0,           0,           0,           0,           0,           0,           0,           0,           0,           0,           0,           0,           0,           0,           0,           0,           0,           0,           0,           0,           0,           0,           0,\n",
       "                  0,           0,           0,           0,           0,           0,           0,           0,           0,           0,           0,           0,           0,           0,           0,           0,           0,           0,           0,           0,           0,           0,           0,\n",
       "                  0,           0,           0,           0,           0,           0,           0,           0,           0,           0,           0,           0,           0,           0,           0,           0,           0,           0,           0,           0,           0,           0,           0,\n",
       "                  0,           0,           0,           0,           0,           0,           0,           0,           0,           0,           0,           0,           0,           0,           0,           0,           0,           0,           0,           0,           0,           0,           0,\n",
       "                  0,           0,           0,           0,           0,           0,           0,           0,           0,           0,           0,           0,           0,           0,           0,           0,           0,           0,           0,           0,           0,           0,           0,\n",
       "                  0,           0,           0,           0,           0,           0,           0,           0,           0,           0,           0,           0,           0,           0,           0,           0,           0,           0,           0,           0,           0,           0,           0,\n",
       "                  0,           0,           0,           0,           0,           0,           0,           0,           0,           0,           0,           0,           0,           0,           0,           0,           0,           0,           0,           0,           0,           0,           0,\n",
       "                  0,           0,           0,           0,           0,           0,           0,           0,           0,           0,           0,           0,           0,           0,           0,           0,           0,           0,           0,           0,           0,           0,           0,\n",
       "                  0,           0,           0,           0,           0,           0,           0,           0,           0,           0,           0,           0,           0,           0,           0,           0,           0,           0,           0,           0,           0,           0,           0,\n",
       "                  0,           0,           0,           0,           0,           0,           0,           0,           0,           0,           0,           0,           0,           0,           0,           0,           0,           0,           0,           0,           0,           0,           0,\n",
       "                  0,           0,           0,           0,           0,           0,           0,           0,           0,           0,           0,           0,           0,           0,           0,           0,           0,           0,           0,           0,           0,           0,           0,\n",
       "                  0,           0,           0,           0,           0,           0,           0,           0,           0,           0,           0,           0,           0,           0,           0,           0,           0,           0,           0,           0,           0,           0,           0,\n",
       "                  0,           0,           0,           0,           0,           0,           0,           0,           0,           0,           0]]), 'Confidence', 'Recall']]\n",
       "fitness: 0.685529849023208\n",
       "keys: ['metrics/precision(B)', 'metrics/recall(B)', 'metrics/mAP50(B)', 'metrics/mAP50-95(B)']\n",
       "maps: array([    0.65397,     0.65397])\n",
       "names: {0: 'blue', 1: 'yellow'}\n",
       "plot: True\n",
       "results_dict: {'metrics/precision(B)': 0.8201167044132684, 'metrics/recall(B)': 0.9230769230769231, 'metrics/mAP50(B)': 0.9695673076923077, 'metrics/mAP50-95(B)': 0.653970131393308, 'fitness': 0.685529849023208}\n",
       "save_dir: WindowsPath('runs/detect/train9')\n",
       "speed: {'preprocess': 0.23689230762941477, 'inference': 18.116600000002318, 'loss': 0.00016153843227164965, 'postprocess': 0.5544923077160582}\n",
       "task: 'detect'"
      ]
     },
     "execution_count": 11,
     "metadata": {},
     "output_type": "execute_result"
    }
   ],
   "source": [
    "import os\n",
    "\n",
    "# Force YOLOv8 to use CPU only (no CUDA!)\n",
    "os.environ[\"CUDA_VISIBLE_DEVICES\"] = \"\"\n",
    "\n",
    "from ultralytics import YOLO\n",
    "\n",
    "# Model training on CPU\n",
    "model = YOLO('yolov8n.yaml')  # Nano model (fast for small data)\n",
    "model.train(\n",
    "    data='yolo_dataset/data.yaml',\n",
    "    epochs=100,\n",
    "    imgsz=224,\n",
    "    device='cpu'   # Explicitly set CPU device\n",
    ")\n"
   ]
  },
  {
   "cell_type": "code",
   "execution_count": null,
   "id": "1cc157f5",
   "metadata": {},
   "outputs": [
    {
     "name": "stdout",
     "output_type": "stream",
     "text": [
      "\n",
      "0: 224x224 (no detections), 97.6ms\n",
      "Speed: 2.0ms preprocess, 97.6ms inference, 0.7ms postprocess per image at shape (1, 3, 224, 224)\n",
      "\n",
      "0: 224x224 (no detections), 82.8ms\n",
      "Speed: 1.9ms preprocess, 82.8ms inference, 0.7ms postprocess per image at shape (1, 3, 224, 224)\n",
      "\n",
      "0: 224x224 (no detections), 59.2ms\n",
      "Speed: 1.2ms preprocess, 59.2ms inference, 0.6ms postprocess per image at shape (1, 3, 224, 224)\n",
      "\n",
      "0: 224x224 (no detections), 51.7ms\n",
      "Speed: 1.2ms preprocess, 51.7ms inference, 0.9ms postprocess per image at shape (1, 3, 224, 224)\n",
      "\n",
      "0: 224x224 (no detections), 55.3ms\n",
      "Speed: 1.2ms preprocess, 55.3ms inference, 0.7ms postprocess per image at shape (1, 3, 224, 224)\n",
      "\n",
      "0: 224x224 (no detections), 47.3ms\n",
      "Speed: 1.4ms preprocess, 47.3ms inference, 0.6ms postprocess per image at shape (1, 3, 224, 224)\n",
      "\n",
      "0: 224x224 (no detections), 49.8ms\n",
      "Speed: 1.3ms preprocess, 49.8ms inference, 0.6ms postprocess per image at shape (1, 3, 224, 224)\n",
      "\n",
      "0: 224x224 (no detections), 49.9ms\n",
      "Speed: 1.7ms preprocess, 49.9ms inference, 0.7ms postprocess per image at shape (1, 3, 224, 224)\n",
      "\n",
      "0: 224x224 (no detections), 54.3ms\n",
      "Speed: 1.4ms preprocess, 54.3ms inference, 0.6ms postprocess per image at shape (1, 3, 224, 224)\n",
      "\n",
      "0: 224x224 (no detections), 53.6ms\n",
      "Speed: 1.1ms preprocess, 53.6ms inference, 1.4ms postprocess per image at shape (1, 3, 224, 224)\n",
      "\n",
      "0: 224x224 (no detections), 53.1ms\n",
      "Speed: 1.3ms preprocess, 53.1ms inference, 0.7ms postprocess per image at shape (1, 3, 224, 224)\n",
      "\n",
      "0: 224x224 (no detections), 50.7ms\n",
      "Speed: 1.4ms preprocess, 50.7ms inference, 0.8ms postprocess per image at shape (1, 3, 224, 224)\n",
      "\n",
      "0: 224x224 (no detections), 44.6ms\n",
      "Speed: 1.7ms preprocess, 44.6ms inference, 0.6ms postprocess per image at shape (1, 3, 224, 224)\n",
      "\n",
      "0: 224x224 (no detections), 61.8ms\n",
      "Speed: 6.6ms preprocess, 61.8ms inference, 0.7ms postprocess per image at shape (1, 3, 224, 224)\n",
      "\n",
      "0: 224x224 (no detections), 51.6ms\n",
      "Speed: 1.0ms preprocess, 51.6ms inference, 0.8ms postprocess per image at shape (1, 3, 224, 224)\n",
      "\n",
      "0: 224x224 (no detections), 50.6ms\n",
      "Speed: 1.5ms preprocess, 50.6ms inference, 0.8ms postprocess per image at shape (1, 3, 224, 224)\n",
      "\n",
      "0: 224x224 (no detections), 51.8ms\n",
      "Speed: 1.2ms preprocess, 51.8ms inference, 1.1ms postprocess per image at shape (1, 3, 224, 224)\n",
      "\n",
      "0: 224x224 (no detections), 51.4ms\n",
      "Speed: 1.9ms preprocess, 51.4ms inference, 0.8ms postprocess per image at shape (1, 3, 224, 224)\n",
      "\n",
      "0: 224x224 (no detections), 45.8ms\n",
      "Speed: 1.4ms preprocess, 45.8ms inference, 0.6ms postprocess per image at shape (1, 3, 224, 224)\n",
      "\n",
      "0: 224x224 (no detections), 51.9ms\n",
      "Speed: 1.9ms preprocess, 51.9ms inference, 0.6ms postprocess per image at shape (1, 3, 224, 224)\n",
      "\n",
      "0: 224x224 (no detections), 50.9ms\n",
      "Speed: 1.3ms preprocess, 50.9ms inference, 0.9ms postprocess per image at shape (1, 3, 224, 224)\n",
      "\n",
      "0: 224x224 (no detections), 50.3ms\n",
      "Speed: 1.5ms preprocess, 50.3ms inference, 0.6ms postprocess per image at shape (1, 3, 224, 224)\n",
      "\n",
      "0: 224x224 (no detections), 46.5ms\n",
      "Speed: 1.0ms preprocess, 46.5ms inference, 0.6ms postprocess per image at shape (1, 3, 224, 224)\n",
      "\n",
      "0: 224x224 (no detections), 39.1ms\n",
      "Speed: 1.1ms preprocess, 39.1ms inference, 0.6ms postprocess per image at shape (1, 3, 224, 224)\n",
      "\n",
      "0: 224x224 (no detections), 37.9ms\n",
      "Speed: 0.9ms preprocess, 37.9ms inference, 0.6ms postprocess per image at shape (1, 3, 224, 224)\n",
      "\n",
      "0: 224x224 (no detections), 37.5ms\n",
      "Speed: 1.3ms preprocess, 37.5ms inference, 0.6ms postprocess per image at shape (1, 3, 224, 224)\n",
      "\n",
      "0: 224x224 (no detections), 35.6ms\n",
      "Speed: 0.9ms preprocess, 35.6ms inference, 0.5ms postprocess per image at shape (1, 3, 224, 224)\n",
      "\n",
      "0: 224x224 (no detections), 34.9ms\n",
      "Speed: 0.7ms preprocess, 34.9ms inference, 0.6ms postprocess per image at shape (1, 3, 224, 224)\n",
      "\n",
      "0: 224x224 (no detections), 35.0ms\n",
      "Speed: 0.8ms preprocess, 35.0ms inference, 0.6ms postprocess per image at shape (1, 3, 224, 224)\n",
      "\n",
      "0: 224x224 (no detections), 42.5ms\n",
      "Speed: 1.7ms preprocess, 42.5ms inference, 0.8ms postprocess per image at shape (1, 3, 224, 224)\n",
      "\n",
      "0: 224x224 (no detections), 36.2ms\n",
      "Speed: 0.7ms preprocess, 36.2ms inference, 0.6ms postprocess per image at shape (1, 3, 224, 224)\n",
      "\n",
      "0: 224x224 (no detections), 34.4ms\n",
      "Speed: 0.8ms preprocess, 34.4ms inference, 0.5ms postprocess per image at shape (1, 3, 224, 224)\n",
      "\n",
      "0: 224x224 (no detections), 40.0ms\n",
      "Speed: 1.1ms preprocess, 40.0ms inference, 0.6ms postprocess per image at shape (1, 3, 224, 224)\n",
      "\n",
      "0: 224x224 (no detections), 36.4ms\n",
      "Speed: 0.8ms preprocess, 36.4ms inference, 0.6ms postprocess per image at shape (1, 3, 224, 224)\n",
      "\n",
      "0: 224x224 (no detections), 40.1ms\n",
      "Speed: 0.8ms preprocess, 40.1ms inference, 1.0ms postprocess per image at shape (1, 3, 224, 224)\n",
      "\n",
      "0: 224x224 (no detections), 34.2ms\n",
      "Speed: 0.9ms preprocess, 34.2ms inference, 0.5ms postprocess per image at shape (1, 3, 224, 224)\n",
      "\n",
      "0: 224x224 (no detections), 37.6ms\n",
      "Speed: 1.3ms preprocess, 37.6ms inference, 0.6ms postprocess per image at shape (1, 3, 224, 224)\n",
      "\n",
      "0: 224x224 (no detections), 39.8ms\n",
      "Speed: 0.6ms preprocess, 39.8ms inference, 0.6ms postprocess per image at shape (1, 3, 224, 224)\n",
      "\n",
      "0: 224x224 (no detections), 37.4ms\n",
      "Speed: 0.7ms preprocess, 37.4ms inference, 0.7ms postprocess per image at shape (1, 3, 224, 224)\n",
      "\n",
      "0: 224x224 (no detections), 35.4ms\n",
      "Speed: 1.3ms preprocess, 35.4ms inference, 0.4ms postprocess per image at shape (1, 3, 224, 224)\n",
      "\n",
      "0: 224x224 (no detections), 40.4ms\n",
      "Speed: 1.8ms preprocess, 40.4ms inference, 0.5ms postprocess per image at shape (1, 3, 224, 224)\n",
      "\n",
      "0: 224x224 (no detections), 33.9ms\n",
      "Speed: 1.3ms preprocess, 33.9ms inference, 0.5ms postprocess per image at shape (1, 3, 224, 224)\n",
      "\n",
      "0: 224x224 (no detections), 39.2ms\n",
      "Speed: 1.1ms preprocess, 39.2ms inference, 0.9ms postprocess per image at shape (1, 3, 224, 224)\n",
      "\n",
      "0: 224x224 (no detections), 40.4ms\n",
      "Speed: 1.1ms preprocess, 40.4ms inference, 0.6ms postprocess per image at shape (1, 3, 224, 224)\n",
      "\n",
      "0: 224x224 (no detections), 36.4ms\n",
      "Speed: 0.6ms preprocess, 36.4ms inference, 0.6ms postprocess per image at shape (1, 3, 224, 224)\n",
      "\n",
      "0: 224x224 (no detections), 37.1ms\n",
      "Speed: 1.0ms preprocess, 37.1ms inference, 0.6ms postprocess per image at shape (1, 3, 224, 224)\n",
      "\n",
      "0: 224x224 (no detections), 41.8ms\n",
      "Speed: 1.4ms preprocess, 41.8ms inference, 0.5ms postprocess per image at shape (1, 3, 224, 224)\n",
      "\n",
      "0: 224x224 (no detections), 42.1ms\n",
      "Speed: 1.0ms preprocess, 42.1ms inference, 0.6ms postprocess per image at shape (1, 3, 224, 224)\n",
      "\n",
      "0: 224x224 (no detections), 37.1ms\n",
      "Speed: 1.0ms preprocess, 37.1ms inference, 0.5ms postprocess per image at shape (1, 3, 224, 224)\n",
      "\n",
      "0: 224x224 (no detections), 42.0ms\n",
      "Speed: 1.2ms preprocess, 42.0ms inference, 0.5ms postprocess per image at shape (1, 3, 224, 224)\n",
      "\n",
      "0: 224x224 (no detections), 47.8ms\n",
      "Speed: 1.4ms preprocess, 47.8ms inference, 0.9ms postprocess per image at shape (1, 3, 224, 224)\n",
      "\n",
      "0: 224x224 (no detections), 47.8ms\n",
      "Speed: 1.8ms preprocess, 47.8ms inference, 0.6ms postprocess per image at shape (1, 3, 224, 224)\n",
      "\n",
      "0: 224x224 (no detections), 41.4ms\n",
      "Speed: 0.5ms preprocess, 41.4ms inference, 0.6ms postprocess per image at shape (1, 3, 224, 224)\n",
      "\n",
      "0: 224x224 (no detections), 39.1ms\n",
      "Speed: 1.0ms preprocess, 39.1ms inference, 0.8ms postprocess per image at shape (1, 3, 224, 224)\n",
      "\n",
      "0: 224x224 (no detections), 34.3ms\n",
      "Speed: 0.8ms preprocess, 34.3ms inference, 0.6ms postprocess per image at shape (1, 3, 224, 224)\n",
      "\n",
      "0: 224x224 (no detections), 37.1ms\n",
      "Speed: 1.7ms preprocess, 37.1ms inference, 0.6ms postprocess per image at shape (1, 3, 224, 224)\n",
      "\n",
      "0: 224x224 (no detections), 38.8ms\n",
      "Speed: 0.8ms preprocess, 38.8ms inference, 0.6ms postprocess per image at shape (1, 3, 224, 224)\n",
      "\n",
      "0: 224x224 (no detections), 44.5ms\n",
      "Speed: 0.9ms preprocess, 44.5ms inference, 0.6ms postprocess per image at shape (1, 3, 224, 224)\n",
      "\n",
      "0: 224x224 (no detections), 38.5ms\n",
      "Speed: 1.2ms preprocess, 38.5ms inference, 0.6ms postprocess per image at shape (1, 3, 224, 224)\n",
      "\n",
      "0: 224x224 (no detections), 38.9ms\n",
      "Speed: 0.8ms preprocess, 38.9ms inference, 0.7ms postprocess per image at shape (1, 3, 224, 224)\n",
      "\n",
      "0: 224x224 (no detections), 44.0ms\n",
      "Speed: 1.2ms preprocess, 44.0ms inference, 0.7ms postprocess per image at shape (1, 3, 224, 224)\n",
      "\n",
      "0: 224x224 (no detections), 43.1ms\n",
      "Speed: 1.3ms preprocess, 43.1ms inference, 0.6ms postprocess per image at shape (1, 3, 224, 224)\n",
      "\n",
      "0: 224x224 (no detections), 37.5ms\n",
      "Speed: 0.8ms preprocess, 37.5ms inference, 0.6ms postprocess per image at shape (1, 3, 224, 224)\n",
      "\n",
      "0: 224x224 (no detections), 39.0ms\n",
      "Speed: 1.5ms preprocess, 39.0ms inference, 0.9ms postprocess per image at shape (1, 3, 224, 224)\n",
      "\n",
      "0: 224x224 (no detections), 38.0ms\n",
      "Speed: 1.0ms preprocess, 38.0ms inference, 0.5ms postprocess per image at shape (1, 3, 224, 224)\n",
      "\n",
      "0: 224x224 (no detections), 108.9ms\n",
      "Speed: 2.9ms preprocess, 108.9ms inference, 0.6ms postprocess per image at shape (1, 3, 224, 224)\n",
      "\n",
      "0: 224x224 1 blue, 89.5ms\n",
      "Speed: 1.1ms preprocess, 89.5ms inference, 0.9ms postprocess per image at shape (1, 3, 224, 224)\n",
      "\n",
      "0: 224x224 (no detections), 42.3ms\n",
      "Speed: 0.9ms preprocess, 42.3ms inference, 0.5ms postprocess per image at shape (1, 3, 224, 224)\n",
      "\n",
      "0: 224x224 (no detections), 64.4ms\n",
      "Speed: 6.0ms preprocess, 64.4ms inference, 0.7ms postprocess per image at shape (1, 3, 224, 224)\n",
      "\n",
      "0: 224x224 (no detections), 56.7ms\n",
      "Speed: 1.5ms preprocess, 56.7ms inference, 0.6ms postprocess per image at shape (1, 3, 224, 224)\n",
      "\n",
      "0: 224x224 (no detections), 46.0ms\n",
      "Speed: 1.0ms preprocess, 46.0ms inference, 0.9ms postprocess per image at shape (1, 3, 224, 224)\n",
      "\n",
      "0: 224x224 (no detections), 41.7ms\n",
      "Speed: 1.0ms preprocess, 41.7ms inference, 0.7ms postprocess per image at shape (1, 3, 224, 224)\n",
      "\n",
      "0: 224x224 (no detections), 39.0ms\n",
      "Speed: 1.1ms preprocess, 39.0ms inference, 0.4ms postprocess per image at shape (1, 3, 224, 224)\n",
      "\n",
      "0: 224x224 (no detections), 40.7ms\n",
      "Speed: 0.7ms preprocess, 40.7ms inference, 1.0ms postprocess per image at shape (1, 3, 224, 224)\n",
      "\n",
      "0: 224x224 (no detections), 46.8ms\n",
      "Speed: 1.0ms preprocess, 46.8ms inference, 0.7ms postprocess per image at shape (1, 3, 224, 224)\n",
      "\n",
      "0: 224x224 (no detections), 39.5ms\n",
      "Speed: 1.0ms preprocess, 39.5ms inference, 0.6ms postprocess per image at shape (1, 3, 224, 224)\n",
      "\n",
      "0: 224x224 (no detections), 37.5ms\n",
      "Speed: 3.7ms preprocess, 37.5ms inference, 0.5ms postprocess per image at shape (1, 3, 224, 224)\n",
      "\n",
      "0: 224x224 (no detections), 36.9ms\n",
      "Speed: 0.5ms preprocess, 36.9ms inference, 0.6ms postprocess per image at shape (1, 3, 224, 224)\n",
      "\n",
      "0: 224x224 (no detections), 33.6ms\n",
      "Speed: 0.8ms preprocess, 33.6ms inference, 0.8ms postprocess per image at shape (1, 3, 224, 224)\n",
      "\n",
      "0: 224x224 (no detections), 37.2ms\n",
      "Speed: 1.4ms preprocess, 37.2ms inference, 0.6ms postprocess per image at shape (1, 3, 224, 224)\n",
      "\n",
      "0: 224x224 (no detections), 47.5ms\n",
      "Speed: 0.7ms preprocess, 47.5ms inference, 0.6ms postprocess per image at shape (1, 3, 224, 224)\n",
      "\n",
      "0: 224x224 (no detections), 40.6ms\n",
      "Speed: 0.9ms preprocess, 40.6ms inference, 0.6ms postprocess per image at shape (1, 3, 224, 224)\n",
      "\n",
      "0: 224x224 (no detections), 45.6ms\n",
      "Speed: 1.1ms preprocess, 45.6ms inference, 0.8ms postprocess per image at shape (1, 3, 224, 224)\n",
      "\n",
      "0: 224x224 (no detections), 35.3ms\n",
      "Speed: 0.8ms preprocess, 35.3ms inference, 0.6ms postprocess per image at shape (1, 3, 224, 224)\n",
      "\n",
      "0: 224x224 (no detections), 36.7ms\n",
      "Speed: 0.9ms preprocess, 36.7ms inference, 0.6ms postprocess per image at shape (1, 3, 224, 224)\n",
      "\n",
      "0: 224x224 (no detections), 36.9ms\n",
      "Speed: 1.5ms preprocess, 36.9ms inference, 0.5ms postprocess per image at shape (1, 3, 224, 224)\n",
      "\n",
      "0: 224x224 (no detections), 44.9ms\n",
      "Speed: 0.9ms preprocess, 44.9ms inference, 0.9ms postprocess per image at shape (1, 3, 224, 224)\n",
      "\n",
      "0: 224x224 (no detections), 39.2ms\n",
      "Speed: 0.5ms preprocess, 39.2ms inference, 0.6ms postprocess per image at shape (1, 3, 224, 224)\n",
      "\n",
      "0: 224x224 (no detections), 38.5ms\n",
      "Speed: 0.8ms preprocess, 38.5ms inference, 0.5ms postprocess per image at shape (1, 3, 224, 224)\n",
      "\n",
      "0: 224x224 (no detections), 42.0ms\n",
      "Speed: 1.4ms preprocess, 42.0ms inference, 0.5ms postprocess per image at shape (1, 3, 224, 224)\n",
      "\n",
      "0: 224x224 (no detections), 41.2ms\n",
      "Speed: 0.9ms preprocess, 41.2ms inference, 0.5ms postprocess per image at shape (1, 3, 224, 224)\n",
      "\n",
      "0: 224x224 (no detections), 38.3ms\n",
      "Speed: 1.6ms preprocess, 38.3ms inference, 0.5ms postprocess per image at shape (1, 3, 224, 224)\n",
      "\n",
      "0: 224x224 (no detections), 107.2ms\n",
      "Speed: 26.6ms preprocess, 107.2ms inference, 0.8ms postprocess per image at shape (1, 3, 224, 224)\n",
      "\n",
      "0: 224x224 (no detections), 41.9ms\n",
      "Speed: 1.0ms preprocess, 41.9ms inference, 0.5ms postprocess per image at shape (1, 3, 224, 224)\n",
      "\n",
      "0: 224x224 (no detections), 41.7ms\n",
      "Speed: 0.8ms preprocess, 41.7ms inference, 0.5ms postprocess per image at shape (1, 3, 224, 224)\n",
      "\n",
      "0: 224x224 (no detections), 40.3ms\n",
      "Speed: 1.0ms preprocess, 40.3ms inference, 0.5ms postprocess per image at shape (1, 3, 224, 224)\n",
      "\n",
      "0: 224x224 (no detections), 44.5ms\n",
      "Speed: 0.9ms preprocess, 44.5ms inference, 0.6ms postprocess per image at shape (1, 3, 224, 224)\n",
      "\n",
      "0: 224x224 (no detections), 40.7ms\n",
      "Speed: 1.2ms preprocess, 40.7ms inference, 0.5ms postprocess per image at shape (1, 3, 224, 224)\n",
      "\n",
      "0: 224x224 (no detections), 35.2ms\n",
      "Speed: 0.8ms preprocess, 35.2ms inference, 0.5ms postprocess per image at shape (1, 3, 224, 224)\n",
      "\n",
      "0: 224x224 (no detections), 46.6ms\n",
      "Speed: 0.6ms preprocess, 46.6ms inference, 0.5ms postprocess per image at shape (1, 3, 224, 224)\n",
      "\n",
      "0: 224x224 (no detections), 39.9ms\n",
      "Speed: 1.0ms preprocess, 39.9ms inference, 0.6ms postprocess per image at shape (1, 3, 224, 224)\n",
      "\n",
      "0: 224x224 (no detections), 36.2ms\n",
      "Speed: 1.2ms preprocess, 36.2ms inference, 0.5ms postprocess per image at shape (1, 3, 224, 224)\n",
      "\n",
      "0: 224x224 1 blue, 45.8ms\n",
      "Speed: 1.4ms preprocess, 45.8ms inference, 1.1ms postprocess per image at shape (1, 3, 224, 224)\n",
      "\n",
      "0: 224x224 (no detections), 41.7ms\n",
      "Speed: 1.2ms preprocess, 41.7ms inference, 0.6ms postprocess per image at shape (1, 3, 224, 224)\n",
      "\n",
      "0: 224x224 (no detections), 41.0ms\n",
      "Speed: 11.7ms preprocess, 41.0ms inference, 0.5ms postprocess per image at shape (1, 3, 224, 224)\n",
      "\n",
      "0: 224x224 (no detections), 34.4ms\n",
      "Speed: 0.8ms preprocess, 34.4ms inference, 0.6ms postprocess per image at shape (1, 3, 224, 224)\n",
      "\n",
      "0: 224x224 (no detections), 33.4ms\n",
      "Speed: 1.2ms preprocess, 33.4ms inference, 0.5ms postprocess per image at shape (1, 3, 224, 224)\n",
      "\n",
      "0: 224x224 (no detections), 38.1ms\n",
      "Speed: 0.8ms preprocess, 38.1ms inference, 0.5ms postprocess per image at shape (1, 3, 224, 224)\n",
      "\n",
      "0: 224x224 (no detections), 32.3ms\n",
      "Speed: 1.4ms preprocess, 32.3ms inference, 0.5ms postprocess per image at shape (1, 3, 224, 224)\n",
      "\n",
      "0: 224x224 (no detections), 34.9ms\n",
      "Speed: 0.9ms preprocess, 34.9ms inference, 0.5ms postprocess per image at shape (1, 3, 224, 224)\n",
      "\n",
      "0: 224x224 (no detections), 35.4ms\n",
      "Speed: 1.3ms preprocess, 35.4ms inference, 0.6ms postprocess per image at shape (1, 3, 224, 224)\n",
      "\n",
      "0: 224x224 (no detections), 33.9ms\n",
      "Speed: 1.0ms preprocess, 33.9ms inference, 0.5ms postprocess per image at shape (1, 3, 224, 224)\n",
      "\n",
      "0: 224x224 (no detections), 36.0ms\n",
      "Speed: 0.7ms preprocess, 36.0ms inference, 0.4ms postprocess per image at shape (1, 3, 224, 224)\n",
      "\n",
      "0: 224x224 (no detections), 32.7ms\n",
      "Speed: 1.0ms preprocess, 32.7ms inference, 0.7ms postprocess per image at shape (1, 3, 224, 224)\n",
      "\n",
      "0: 224x224 (no detections), 35.5ms\n",
      "Speed: 0.8ms preprocess, 35.5ms inference, 0.4ms postprocess per image at shape (1, 3, 224, 224)\n",
      "\n",
      "0: 224x224 (no detections), 35.3ms\n",
      "Speed: 0.5ms preprocess, 35.3ms inference, 0.5ms postprocess per image at shape (1, 3, 224, 224)\n",
      "\n",
      "0: 224x224 (no detections), 33.6ms\n",
      "Speed: 1.5ms preprocess, 33.6ms inference, 0.5ms postprocess per image at shape (1, 3, 224, 224)\n",
      "\n",
      "0: 224x224 (no detections), 30.5ms\n",
      "Speed: 1.0ms preprocess, 30.5ms inference, 0.5ms postprocess per image at shape (1, 3, 224, 224)\n",
      "\n",
      "0: 224x224 (no detections), 33.4ms\n",
      "Speed: 1.0ms preprocess, 33.4ms inference, 0.5ms postprocess per image at shape (1, 3, 224, 224)\n",
      "\n",
      "0: 224x224 (no detections), 34.8ms\n",
      "Speed: 1.2ms preprocess, 34.8ms inference, 0.6ms postprocess per image at shape (1, 3, 224, 224)\n",
      "\n",
      "0: 224x224 (no detections), 35.4ms\n",
      "Speed: 1.0ms preprocess, 35.4ms inference, 0.5ms postprocess per image at shape (1, 3, 224, 224)\n",
      "\n",
      "0: 224x224 (no detections), 33.2ms\n",
      "Speed: 0.8ms preprocess, 33.2ms inference, 0.5ms postprocess per image at shape (1, 3, 224, 224)\n",
      "\n",
      "0: 224x224 (no detections), 39.5ms\n",
      "Speed: 0.8ms preprocess, 39.5ms inference, 0.5ms postprocess per image at shape (1, 3, 224, 224)\n",
      "\n",
      "0: 224x224 (no detections), 33.7ms\n",
      "Speed: 0.9ms preprocess, 33.7ms inference, 0.5ms postprocess per image at shape (1, 3, 224, 224)\n",
      "\n",
      "0: 224x224 (no detections), 34.6ms\n",
      "Speed: 0.8ms preprocess, 34.6ms inference, 0.9ms postprocess per image at shape (1, 3, 224, 224)\n",
      "\n",
      "0: 224x224 (no detections), 32.6ms\n",
      "Speed: 1.0ms preprocess, 32.6ms inference, 0.5ms postprocess per image at shape (1, 3, 224, 224)\n",
      "\n",
      "0: 224x224 (no detections), 32.7ms\n",
      "Speed: 0.7ms preprocess, 32.7ms inference, 0.4ms postprocess per image at shape (1, 3, 224, 224)\n",
      "\n",
      "0: 224x224 (no detections), 37.4ms\n",
      "Speed: 0.8ms preprocess, 37.4ms inference, 0.6ms postprocess per image at shape (1, 3, 224, 224)\n",
      "\n",
      "0: 224x224 (no detections), 40.2ms\n",
      "Speed: 1.1ms preprocess, 40.2ms inference, 0.5ms postprocess per image at shape (1, 3, 224, 224)\n",
      "\n",
      "0: 224x224 (no detections), 38.8ms\n",
      "Speed: 1.0ms preprocess, 38.8ms inference, 0.6ms postprocess per image at shape (1, 3, 224, 224)\n",
      "\n",
      "0: 224x224 (no detections), 31.7ms\n",
      "Speed: 0.9ms preprocess, 31.7ms inference, 0.6ms postprocess per image at shape (1, 3, 224, 224)\n",
      "\n",
      "0: 224x224 (no detections), 34.2ms\n",
      "Speed: 1.0ms preprocess, 34.2ms inference, 0.6ms postprocess per image at shape (1, 3, 224, 224)\n",
      "\n",
      "0: 224x224 (no detections), 33.4ms\n",
      "Speed: 1.0ms preprocess, 33.4ms inference, 0.5ms postprocess per image at shape (1, 3, 224, 224)\n",
      "\n",
      "0: 224x224 (no detections), 32.6ms\n",
      "Speed: 0.8ms preprocess, 32.6ms inference, 0.5ms postprocess per image at shape (1, 3, 224, 224)\n",
      "\n",
      "0: 224x224 (no detections), 40.8ms\n",
      "Speed: 0.9ms preprocess, 40.8ms inference, 0.6ms postprocess per image at shape (1, 3, 224, 224)\n",
      "\n",
      "0: 224x224 (no detections), 34.3ms\n",
      "Speed: 0.9ms preprocess, 34.3ms inference, 0.5ms postprocess per image at shape (1, 3, 224, 224)\n",
      "\n",
      "0: 224x224 (no detections), 39.2ms\n",
      "Speed: 0.8ms preprocess, 39.2ms inference, 0.6ms postprocess per image at shape (1, 3, 224, 224)\n",
      "\n",
      "0: 224x224 (no detections), 34.5ms\n",
      "Speed: 1.1ms preprocess, 34.5ms inference, 0.6ms postprocess per image at shape (1, 3, 224, 224)\n",
      "\n",
      "0: 224x224 (no detections), 35.4ms\n",
      "Speed: 0.7ms preprocess, 35.4ms inference, 0.8ms postprocess per image at shape (1, 3, 224, 224)\n",
      "\n",
      "0: 224x224 (no detections), 34.2ms\n",
      "Speed: 0.9ms preprocess, 34.2ms inference, 0.5ms postprocess per image at shape (1, 3, 224, 224)\n",
      "\n",
      "0: 224x224 (no detections), 39.8ms\n",
      "Speed: 1.6ms preprocess, 39.8ms inference, 0.6ms postprocess per image at shape (1, 3, 224, 224)\n",
      "\n",
      "0: 224x224 (no detections), 33.0ms\n",
      "Speed: 1.0ms preprocess, 33.0ms inference, 0.5ms postprocess per image at shape (1, 3, 224, 224)\n",
      "\n",
      "0: 224x224 (no detections), 35.4ms\n",
      "Speed: 0.7ms preprocess, 35.4ms inference, 0.5ms postprocess per image at shape (1, 3, 224, 224)\n",
      "\n",
      "0: 224x224 (no detections), 35.7ms\n",
      "Speed: 0.9ms preprocess, 35.7ms inference, 0.6ms postprocess per image at shape (1, 3, 224, 224)\n",
      "\n",
      "0: 224x224 (no detections), 50.0ms\n",
      "Speed: 0.7ms preprocess, 50.0ms inference, 0.6ms postprocess per image at shape (1, 3, 224, 224)\n",
      "\n",
      "0: 224x224 (no detections), 36.0ms\n",
      "Speed: 1.8ms preprocess, 36.0ms inference, 0.6ms postprocess per image at shape (1, 3, 224, 224)\n",
      "\n",
      "0: 224x224 (no detections), 32.4ms\n",
      "Speed: 0.9ms preprocess, 32.4ms inference, 0.5ms postprocess per image at shape (1, 3, 224, 224)\n",
      "\n",
      "0: 224x224 (no detections), 40.3ms\n",
      "Speed: 1.0ms preprocess, 40.3ms inference, 0.6ms postprocess per image at shape (1, 3, 224, 224)\n",
      "\n",
      "0: 224x224 (no detections), 38.9ms\n",
      "Speed: 1.1ms preprocess, 38.9ms inference, 0.5ms postprocess per image at shape (1, 3, 224, 224)\n",
      "\n",
      "0: 224x224 (no detections), 33.8ms\n",
      "Speed: 0.7ms preprocess, 33.8ms inference, 0.5ms postprocess per image at shape (1, 3, 224, 224)\n",
      "\n",
      "0: 224x224 (no detections), 33.9ms\n",
      "Speed: 0.9ms preprocess, 33.9ms inference, 0.5ms postprocess per image at shape (1, 3, 224, 224)\n",
      "\n",
      "0: 224x224 (no detections), 34.5ms\n",
      "Speed: 1.1ms preprocess, 34.5ms inference, 0.6ms postprocess per image at shape (1, 3, 224, 224)\n",
      "\n",
      "0: 224x224 (no detections), 33.2ms\n",
      "Speed: 0.7ms preprocess, 33.2ms inference, 0.6ms postprocess per image at shape (1, 3, 224, 224)\n",
      "\n",
      "0: 224x224 (no detections), 36.0ms\n",
      "Speed: 0.9ms preprocess, 36.0ms inference, 0.5ms postprocess per image at shape (1, 3, 224, 224)\n",
      "\n",
      "0: 224x224 (no detections), 39.6ms\n",
      "Speed: 0.6ms preprocess, 39.6ms inference, 0.5ms postprocess per image at shape (1, 3, 224, 224)\n",
      "\n",
      "0: 224x224 (no detections), 34.1ms\n",
      "Speed: 1.5ms preprocess, 34.1ms inference, 0.6ms postprocess per image at shape (1, 3, 224, 224)\n",
      "\n",
      "0: 224x224 (no detections), 35.0ms\n",
      "Speed: 1.1ms preprocess, 35.0ms inference, 0.5ms postprocess per image at shape (1, 3, 224, 224)\n",
      "\n",
      "0: 224x224 (no detections), 35.1ms\n",
      "Speed: 0.8ms preprocess, 35.1ms inference, 0.5ms postprocess per image at shape (1, 3, 224, 224)\n",
      "\n",
      "0: 224x224 (no detections), 36.8ms\n",
      "Speed: 1.7ms preprocess, 36.8ms inference, 0.5ms postprocess per image at shape (1, 3, 224, 224)\n",
      "\n",
      "0: 224x224 (no detections), 43.8ms\n",
      "Speed: 0.8ms preprocess, 43.8ms inference, 0.6ms postprocess per image at shape (1, 3, 224, 224)\n",
      "\n",
      "0: 224x224 (no detections), 41.6ms\n",
      "Speed: 1.0ms preprocess, 41.6ms inference, 0.9ms postprocess per image at shape (1, 3, 224, 224)\n",
      "\n",
      "0: 224x224 (no detections), 41.4ms\n",
      "Speed: 0.9ms preprocess, 41.4ms inference, 0.5ms postprocess per image at shape (1, 3, 224, 224)\n",
      "\n",
      "0: 224x224 (no detections), 34.0ms\n",
      "Speed: 0.9ms preprocess, 34.0ms inference, 0.5ms postprocess per image at shape (1, 3, 224, 224)\n",
      "\n",
      "0: 224x224 (no detections), 33.6ms\n",
      "Speed: 0.8ms preprocess, 33.6ms inference, 0.5ms postprocess per image at shape (1, 3, 224, 224)\n",
      "\n",
      "0: 224x224 (no detections), 35.4ms\n",
      "Speed: 0.9ms preprocess, 35.4ms inference, 0.5ms postprocess per image at shape (1, 3, 224, 224)\n",
      "\n",
      "0: 224x224 (no detections), 37.8ms\n",
      "Speed: 0.9ms preprocess, 37.8ms inference, 0.8ms postprocess per image at shape (1, 3, 224, 224)\n",
      "\n",
      "0: 224x224 (no detections), 34.6ms\n",
      "Speed: 1.1ms preprocess, 34.6ms inference, 0.5ms postprocess per image at shape (1, 3, 224, 224)\n",
      "\n",
      "0: 224x224 (no detections), 38.0ms\n",
      "Speed: 1.0ms preprocess, 38.0ms inference, 0.5ms postprocess per image at shape (1, 3, 224, 224)\n",
      "\n",
      "0: 224x224 (no detections), 37.4ms\n",
      "Speed: 0.9ms preprocess, 37.4ms inference, 0.7ms postprocess per image at shape (1, 3, 224, 224)\n",
      "\n",
      "0: 224x224 (no detections), 36.4ms\n",
      "Speed: 0.8ms preprocess, 36.4ms inference, 0.6ms postprocess per image at shape (1, 3, 224, 224)\n",
      "\n",
      "0: 224x224 (no detections), 37.2ms\n",
      "Speed: 0.8ms preprocess, 37.2ms inference, 0.7ms postprocess per image at shape (1, 3, 224, 224)\n",
      "\n",
      "0: 224x224 (no detections), 32.7ms\n",
      "Speed: 1.1ms preprocess, 32.7ms inference, 0.5ms postprocess per image at shape (1, 3, 224, 224)\n",
      "\n",
      "0: 224x224 (no detections), 43.6ms\n",
      "Speed: 0.9ms preprocess, 43.6ms inference, 0.5ms postprocess per image at shape (1, 3, 224, 224)\n",
      "\n",
      "0: 224x224 (no detections), 33.9ms\n",
      "Speed: 0.7ms preprocess, 33.9ms inference, 0.4ms postprocess per image at shape (1, 3, 224, 224)\n",
      "\n",
      "0: 224x224 (no detections), 31.8ms\n",
      "Speed: 1.4ms preprocess, 31.8ms inference, 0.5ms postprocess per image at shape (1, 3, 224, 224)\n",
      "\n",
      "0: 224x224 (no detections), 35.9ms\n",
      "Speed: 1.0ms preprocess, 35.9ms inference, 0.6ms postprocess per image at shape (1, 3, 224, 224)\n",
      "\n",
      "0: 224x224 (no detections), 32.0ms\n",
      "Speed: 0.9ms preprocess, 32.0ms inference, 0.6ms postprocess per image at shape (1, 3, 224, 224)\n",
      "\n",
      "0: 224x224 (no detections), 33.9ms\n",
      "Speed: 0.7ms preprocess, 33.9ms inference, 0.5ms postprocess per image at shape (1, 3, 224, 224)\n",
      "\n",
      "0: 224x224 (no detections), 35.3ms\n",
      "Speed: 0.7ms preprocess, 35.3ms inference, 0.6ms postprocess per image at shape (1, 3, 224, 224)\n",
      "\n",
      "0: 224x224 (no detections), 33.9ms\n",
      "Speed: 1.0ms preprocess, 33.9ms inference, 0.5ms postprocess per image at shape (1, 3, 224, 224)\n",
      "\n",
      "0: 224x224 (no detections), 52.9ms\n",
      "Speed: 0.8ms preprocess, 52.9ms inference, 0.7ms postprocess per image at shape (1, 3, 224, 224)\n",
      "\n",
      "0: 224x224 (no detections), 35.1ms\n",
      "Speed: 1.0ms preprocess, 35.1ms inference, 0.4ms postprocess per image at shape (1, 3, 224, 224)\n",
      "\n",
      "0: 224x224 (no detections), 37.7ms\n",
      "Speed: 0.8ms preprocess, 37.7ms inference, 0.6ms postprocess per image at shape (1, 3, 224, 224)\n",
      "\n",
      "0: 224x224 (no detections), 35.1ms\n",
      "Speed: 0.8ms preprocess, 35.1ms inference, 0.5ms postprocess per image at shape (1, 3, 224, 224)\n",
      "\n",
      "0: 224x224 (no detections), 34.0ms\n",
      "Speed: 0.7ms preprocess, 34.0ms inference, 0.6ms postprocess per image at shape (1, 3, 224, 224)\n",
      "\n",
      "0: 224x224 (no detections), 34.0ms\n",
      "Speed: 0.9ms preprocess, 34.0ms inference, 0.5ms postprocess per image at shape (1, 3, 224, 224)\n",
      "\n",
      "0: 224x224 (no detections), 38.0ms\n",
      "Speed: 0.9ms preprocess, 38.0ms inference, 0.5ms postprocess per image at shape (1, 3, 224, 224)\n",
      "\n",
      "0: 224x224 (no detections), 35.5ms\n",
      "Speed: 0.9ms preprocess, 35.5ms inference, 0.6ms postprocess per image at shape (1, 3, 224, 224)\n",
      "\n",
      "0: 224x224 (no detections), 35.8ms\n",
      "Speed: 1.3ms preprocess, 35.8ms inference, 0.5ms postprocess per image at shape (1, 3, 224, 224)\n",
      "\n",
      "0: 224x224 (no detections), 37.0ms\n",
      "Speed: 0.9ms preprocess, 37.0ms inference, 1.3ms postprocess per image at shape (1, 3, 224, 224)\n",
      "\n",
      "0: 224x224 (no detections), 43.0ms\n",
      "Speed: 1.1ms preprocess, 43.0ms inference, 0.8ms postprocess per image at shape (1, 3, 224, 224)\n",
      "\n",
      "0: 224x224 (no detections), 46.9ms\n",
      "Speed: 1.2ms preprocess, 46.9ms inference, 0.5ms postprocess per image at shape (1, 3, 224, 224)\n",
      "\n",
      "0: 224x224 (no detections), 33.5ms\n",
      "Speed: 1.1ms preprocess, 33.5ms inference, 0.5ms postprocess per image at shape (1, 3, 224, 224)\n",
      "\n",
      "0: 224x224 (no detections), 43.2ms\n",
      "Speed: 0.8ms preprocess, 43.2ms inference, 0.6ms postprocess per image at shape (1, 3, 224, 224)\n",
      "\n",
      "0: 224x224 (no detections), 35.8ms\n",
      "Speed: 1.2ms preprocess, 35.8ms inference, 0.5ms postprocess per image at shape (1, 3, 224, 224)\n",
      "\n",
      "0: 224x224 (no detections), 36.0ms\n",
      "Speed: 0.9ms preprocess, 36.0ms inference, 0.5ms postprocess per image at shape (1, 3, 224, 224)\n",
      "\n",
      "0: 224x224 (no detections), 40.2ms\n",
      "Speed: 1.1ms preprocess, 40.2ms inference, 0.6ms postprocess per image at shape (1, 3, 224, 224)\n",
      "\n",
      "0: 224x224 (no detections), 80.1ms\n",
      "Speed: 3.8ms preprocess, 80.1ms inference, 0.6ms postprocess per image at shape (1, 3, 224, 224)\n",
      "\n",
      "0: 224x224 (no detections), 35.5ms\n",
      "Speed: 1.0ms preprocess, 35.5ms inference, 1.1ms postprocess per image at shape (1, 3, 224, 224)\n",
      "\n",
      "0: 224x224 (no detections), 33.7ms\n",
      "Speed: 0.9ms preprocess, 33.7ms inference, 0.5ms postprocess per image at shape (1, 3, 224, 224)\n",
      "\n",
      "0: 224x224 (no detections), 38.1ms\n",
      "Speed: 1.6ms preprocess, 38.1ms inference, 0.6ms postprocess per image at shape (1, 3, 224, 224)\n",
      "\n",
      "0: 224x224 (no detections), 33.9ms\n",
      "Speed: 1.1ms preprocess, 33.9ms inference, 0.8ms postprocess per image at shape (1, 3, 224, 224)\n",
      "\n",
      "0: 224x224 (no detections), 35.2ms\n",
      "Speed: 1.3ms preprocess, 35.2ms inference, 0.6ms postprocess per image at shape (1, 3, 224, 224)\n",
      "\n",
      "0: 224x224 (no detections), 38.9ms\n",
      "Speed: 1.0ms preprocess, 38.9ms inference, 0.5ms postprocess per image at shape (1, 3, 224, 224)\n",
      "\n",
      "0: 224x224 (no detections), 35.8ms\n",
      "Speed: 1.0ms preprocess, 35.8ms inference, 0.7ms postprocess per image at shape (1, 3, 224, 224)\n",
      "\n",
      "0: 224x224 (no detections), 39.2ms\n",
      "Speed: 1.2ms preprocess, 39.2ms inference, 0.5ms postprocess per image at shape (1, 3, 224, 224)\n",
      "\n",
      "0: 224x224 (no detections), 33.4ms\n",
      "Speed: 0.8ms preprocess, 33.4ms inference, 0.5ms postprocess per image at shape (1, 3, 224, 224)\n",
      "\n",
      "0: 224x224 (no detections), 40.6ms\n",
      "Speed: 1.1ms preprocess, 40.6ms inference, 0.5ms postprocess per image at shape (1, 3, 224, 224)\n",
      "\n",
      "0: 224x224 (no detections), 35.4ms\n",
      "Speed: 1.0ms preprocess, 35.4ms inference, 0.5ms postprocess per image at shape (1, 3, 224, 224)\n",
      "\n",
      "0: 224x224 (no detections), 39.7ms\n",
      "Speed: 0.9ms preprocess, 39.7ms inference, 0.6ms postprocess per image at shape (1, 3, 224, 224)\n",
      "\n",
      "0: 224x224 (no detections), 36.0ms\n",
      "Speed: 2.3ms preprocess, 36.0ms inference, 0.5ms postprocess per image at shape (1, 3, 224, 224)\n",
      "\n",
      "0: 224x224 (no detections), 50.3ms\n",
      "Speed: 0.7ms preprocess, 50.3ms inference, 0.6ms postprocess per image at shape (1, 3, 224, 224)\n",
      "\n",
      "0: 224x224 (no detections), 30.2ms\n",
      "Speed: 0.7ms preprocess, 30.2ms inference, 0.8ms postprocess per image at shape (1, 3, 224, 224)\n",
      "\n",
      "0: 224x224 (no detections), 34.4ms\n",
      "Speed: 0.7ms preprocess, 34.4ms inference, 0.5ms postprocess per image at shape (1, 3, 224, 224)\n",
      "\n",
      "0: 224x224 (no detections), 31.4ms\n",
      "Speed: 0.8ms preprocess, 31.4ms inference, 0.5ms postprocess per image at shape (1, 3, 224, 224)\n",
      "\n",
      "0: 224x224 (no detections), 35.3ms\n",
      "Speed: 1.0ms preprocess, 35.3ms inference, 0.6ms postprocess per image at shape (1, 3, 224, 224)\n",
      "\n",
      "0: 224x224 (no detections), 40.8ms\n",
      "Speed: 1.1ms preprocess, 40.8ms inference, 0.6ms postprocess per image at shape (1, 3, 224, 224)\n",
      "\n",
      "0: 224x224 (no detections), 39.1ms\n",
      "Speed: 1.5ms preprocess, 39.1ms inference, 0.6ms postprocess per image at shape (1, 3, 224, 224)\n",
      "\n",
      "0: 224x224 (no detections), 30.5ms\n",
      "Speed: 1.0ms preprocess, 30.5ms inference, 0.6ms postprocess per image at shape (1, 3, 224, 224)\n",
      "\n",
      "0: 224x224 (no detections), 32.0ms\n",
      "Speed: 1.0ms preprocess, 32.0ms inference, 0.5ms postprocess per image at shape (1, 3, 224, 224)\n",
      "\n",
      "0: 224x224 (no detections), 33.9ms\n",
      "Speed: 0.8ms preprocess, 33.9ms inference, 0.6ms postprocess per image at shape (1, 3, 224, 224)\n",
      "\n",
      "0: 224x224 (no detections), 40.9ms\n",
      "Speed: 1.5ms preprocess, 40.9ms inference, 0.8ms postprocess per image at shape (1, 3, 224, 224)\n",
      "\n",
      "0: 224x224 (no detections), 32.1ms\n",
      "Speed: 0.8ms preprocess, 32.1ms inference, 0.5ms postprocess per image at shape (1, 3, 224, 224)\n",
      "\n",
      "0: 224x224 (no detections), 33.1ms\n",
      "Speed: 0.8ms preprocess, 33.1ms inference, 0.5ms postprocess per image at shape (1, 3, 224, 224)\n",
      "\n",
      "0: 224x224 (no detections), 32.9ms\n",
      "Speed: 0.9ms preprocess, 32.9ms inference, 0.5ms postprocess per image at shape (1, 3, 224, 224)\n",
      "\n",
      "0: 224x224 (no detections), 32.5ms\n",
      "Speed: 0.7ms preprocess, 32.5ms inference, 0.7ms postprocess per image at shape (1, 3, 224, 224)\n",
      "\n",
      "0: 224x224 (no detections), 35.2ms\n",
      "Speed: 0.7ms preprocess, 35.2ms inference, 0.5ms postprocess per image at shape (1, 3, 224, 224)\n",
      "\n",
      "0: 224x224 (no detections), 32.9ms\n",
      "Speed: 0.9ms preprocess, 32.9ms inference, 0.5ms postprocess per image at shape (1, 3, 224, 224)\n",
      "\n",
      "0: 224x224 (no detections), 32.3ms\n",
      "Speed: 0.7ms preprocess, 32.3ms inference, 0.6ms postprocess per image at shape (1, 3, 224, 224)\n",
      "\n",
      "0: 224x224 1 blue, 33.4ms\n",
      "Speed: 1.2ms preprocess, 33.4ms inference, 1.4ms postprocess per image at shape (1, 3, 224, 224)\n",
      "\n",
      "0: 224x224 (no detections), 29.7ms\n",
      "Speed: 1.5ms preprocess, 29.7ms inference, 0.5ms postprocess per image at shape (1, 3, 224, 224)\n",
      "\n",
      "0: 224x224 (no detections), 34.4ms\n",
      "Speed: 0.8ms preprocess, 34.4ms inference, 0.6ms postprocess per image at shape (1, 3, 224, 224)\n",
      "\n",
      "0: 224x224 (no detections), 112.2ms\n",
      "Speed: 0.6ms preprocess, 112.2ms inference, 0.7ms postprocess per image at shape (1, 3, 224, 224)\n",
      "\n",
      "0: 224x224 (no detections), 32.4ms\n",
      "Speed: 0.9ms preprocess, 32.4ms inference, 0.5ms postprocess per image at shape (1, 3, 224, 224)\n",
      "\n",
      "0: 224x224 (no detections), 32.6ms\n",
      "Speed: 0.8ms preprocess, 32.6ms inference, 0.5ms postprocess per image at shape (1, 3, 224, 224)\n",
      "\n",
      "0: 224x224 (no detections), 31.5ms\n",
      "Speed: 0.7ms preprocess, 31.5ms inference, 0.4ms postprocess per image at shape (1, 3, 224, 224)\n",
      "\n",
      "0: 224x224 (no detections), 33.9ms\n",
      "Speed: 0.7ms preprocess, 33.9ms inference, 0.5ms postprocess per image at shape (1, 3, 224, 224)\n",
      "\n",
      "0: 224x224 (no detections), 30.6ms\n",
      "Speed: 0.9ms preprocess, 30.6ms inference, 0.5ms postprocess per image at shape (1, 3, 224, 224)\n",
      "\n",
      "0: 224x224 (no detections), 32.9ms\n",
      "Speed: 0.7ms preprocess, 32.9ms inference, 0.6ms postprocess per image at shape (1, 3, 224, 224)\n",
      "\n",
      "0: 224x224 (no detections), 30.2ms\n",
      "Speed: 1.1ms preprocess, 30.2ms inference, 0.5ms postprocess per image at shape (1, 3, 224, 224)\n",
      "\n",
      "0: 224x224 (no detections), 31.9ms\n",
      "Speed: 1.1ms preprocess, 31.9ms inference, 0.5ms postprocess per image at shape (1, 3, 224, 224)\n",
      "\n",
      "0: 224x224 (no detections), 31.6ms\n",
      "Speed: 0.8ms preprocess, 31.6ms inference, 0.5ms postprocess per image at shape (1, 3, 224, 224)\n",
      "\n",
      "0: 224x224 (no detections), 31.6ms\n",
      "Speed: 0.7ms preprocess, 31.6ms inference, 0.5ms postprocess per image at shape (1, 3, 224, 224)\n",
      "\n",
      "0: 224x224 (no detections), 32.1ms\n",
      "Speed: 0.8ms preprocess, 32.1ms inference, 0.9ms postprocess per image at shape (1, 3, 224, 224)\n",
      "\n",
      "0: 224x224 (no detections), 31.7ms\n",
      "Speed: 1.0ms preprocess, 31.7ms inference, 0.5ms postprocess per image at shape (1, 3, 224, 224)\n",
      "\n",
      "0: 224x224 (no detections), 34.3ms\n",
      "Speed: 1.0ms preprocess, 34.3ms inference, 0.4ms postprocess per image at shape (1, 3, 224, 224)\n",
      "\n",
      "0: 224x224 (no detections), 32.7ms\n",
      "Speed: 1.0ms preprocess, 32.7ms inference, 0.5ms postprocess per image at shape (1, 3, 224, 224)\n",
      "\n",
      "0: 224x224 (no detections), 31.0ms\n",
      "Speed: 0.9ms preprocess, 31.0ms inference, 0.6ms postprocess per image at shape (1, 3, 224, 224)\n",
      "\n",
      "0: 224x224 (no detections), 30.0ms\n",
      "Speed: 0.7ms preprocess, 30.0ms inference, 0.4ms postprocess per image at shape (1, 3, 224, 224)\n",
      "\n",
      "0: 224x224 (no detections), 29.2ms\n",
      "Speed: 1.3ms preprocess, 29.2ms inference, 0.5ms postprocess per image at shape (1, 3, 224, 224)\n",
      "\n",
      "0: 224x224 (no detections), 32.9ms\n",
      "Speed: 0.9ms preprocess, 32.9ms inference, 0.5ms postprocess per image at shape (1, 3, 224, 224)\n",
      "\n",
      "0: 224x224 (no detections), 32.3ms\n",
      "Speed: 0.7ms preprocess, 32.3ms inference, 0.6ms postprocess per image at shape (1, 3, 224, 224)\n",
      "\n",
      "0: 224x224 (no detections), 35.7ms\n",
      "Speed: 0.8ms preprocess, 35.7ms inference, 0.5ms postprocess per image at shape (1, 3, 224, 224)\n",
      "\n",
      "0: 224x224 (no detections), 32.2ms\n",
      "Speed: 0.6ms preprocess, 32.2ms inference, 0.9ms postprocess per image at shape (1, 3, 224, 224)\n",
      "\n",
      "0: 224x224 (no detections), 31.2ms\n",
      "Speed: 0.7ms preprocess, 31.2ms inference, 0.4ms postprocess per image at shape (1, 3, 224, 224)\n",
      "\n",
      "0: 224x224 (no detections), 36.4ms\n",
      "Speed: 0.9ms preprocess, 36.4ms inference, 0.6ms postprocess per image at shape (1, 3, 224, 224)\n",
      "\n",
      "0: 224x224 (no detections), 30.2ms\n",
      "Speed: 0.7ms preprocess, 30.2ms inference, 0.5ms postprocess per image at shape (1, 3, 224, 224)\n",
      "\n",
      "0: 224x224 (no detections), 55.0ms\n",
      "Speed: 1.1ms preprocess, 55.0ms inference, 0.5ms postprocess per image at shape (1, 3, 224, 224)\n",
      "\n",
      "0: 224x224 (no detections), 30.6ms\n",
      "Speed: 1.0ms preprocess, 30.6ms inference, 0.5ms postprocess per image at shape (1, 3, 224, 224)\n",
      "\n",
      "0: 224x224 (no detections), 29.9ms\n",
      "Speed: 0.8ms preprocess, 29.9ms inference, 0.5ms postprocess per image at shape (1, 3, 224, 224)\n",
      "\n",
      "0: 224x224 (no detections), 32.0ms\n",
      "Speed: 1.2ms preprocess, 32.0ms inference, 0.5ms postprocess per image at shape (1, 3, 224, 224)\n",
      "\n",
      "0: 224x224 (no detections), 29.9ms\n",
      "Speed: 0.8ms preprocess, 29.9ms inference, 0.5ms postprocess per image at shape (1, 3, 224, 224)\n",
      "\n",
      "0: 224x224 (no detections), 31.9ms\n",
      "Speed: 1.2ms preprocess, 31.9ms inference, 0.4ms postprocess per image at shape (1, 3, 224, 224)\n",
      "\n",
      "0: 224x224 (no detections), 29.6ms\n",
      "Speed: 0.9ms preprocess, 29.6ms inference, 0.4ms postprocess per image at shape (1, 3, 224, 224)\n",
      "\n",
      "0: 224x224 (no detections), 45.9ms\n",
      "Speed: 1.0ms preprocess, 45.9ms inference, 0.8ms postprocess per image at shape (1, 3, 224, 224)\n",
      "\n",
      "0: 224x224 (no detections), 51.7ms\n",
      "Speed: 1.0ms preprocess, 51.7ms inference, 0.5ms postprocess per image at shape (1, 3, 224, 224)\n",
      "\n",
      "0: 224x224 1 blue, 30.0ms\n",
      "Speed: 0.7ms preprocess, 30.0ms inference, 0.8ms postprocess per image at shape (1, 3, 224, 224)\n",
      "\n",
      "0: 224x224 1 blue, 33.7ms\n",
      "Speed: 1.0ms preprocess, 33.7ms inference, 0.7ms postprocess per image at shape (1, 3, 224, 224)\n",
      "\n",
      "0: 224x224 (no detections), 28.4ms\n",
      "Speed: 0.8ms preprocess, 28.4ms inference, 0.5ms postprocess per image at shape (1, 3, 224, 224)\n",
      "\n",
      "0: 224x224 (no detections), 39.0ms\n",
      "Speed: 0.8ms preprocess, 39.0ms inference, 0.6ms postprocess per image at shape (1, 3, 224, 224)\n",
      "\n",
      "0: 224x224 1 blue, 31.5ms\n",
      "Speed: 0.8ms preprocess, 31.5ms inference, 0.6ms postprocess per image at shape (1, 3, 224, 224)\n",
      "\n",
      "0: 224x224 1 blue, 32.0ms\n",
      "Speed: 0.9ms preprocess, 32.0ms inference, 1.4ms postprocess per image at shape (1, 3, 224, 224)\n",
      "\n",
      "0: 224x224 (no detections), 35.6ms\n",
      "Speed: 0.8ms preprocess, 35.6ms inference, 0.8ms postprocess per image at shape (1, 3, 224, 224)\n",
      "\n",
      "0: 224x224 (no detections), 33.9ms\n",
      "Speed: 1.5ms preprocess, 33.9ms inference, 0.5ms postprocess per image at shape (1, 3, 224, 224)\n",
      "\n",
      "0: 224x224 (no detections), 29.8ms\n",
      "Speed: 0.7ms preprocess, 29.8ms inference, 0.5ms postprocess per image at shape (1, 3, 224, 224)\n",
      "\n",
      "0: 224x224 (no detections), 33.0ms\n",
      "Speed: 1.2ms preprocess, 33.0ms inference, 0.4ms postprocess per image at shape (1, 3, 224, 224)\n",
      "\n",
      "0: 224x224 (no detections), 29.9ms\n",
      "Speed: 0.8ms preprocess, 29.9ms inference, 0.4ms postprocess per image at shape (1, 3, 224, 224)\n",
      "\n",
      "0: 224x224 (no detections), 32.5ms\n",
      "Speed: 0.9ms preprocess, 32.5ms inference, 0.5ms postprocess per image at shape (1, 3, 224, 224)\n",
      "\n",
      "0: 224x224 (no detections), 31.0ms\n",
      "Speed: 1.0ms preprocess, 31.0ms inference, 0.5ms postprocess per image at shape (1, 3, 224, 224)\n",
      "\n",
      "0: 224x224 (no detections), 31.1ms\n",
      "Speed: 0.7ms preprocess, 31.1ms inference, 0.6ms postprocess per image at shape (1, 3, 224, 224)\n",
      "\n",
      "0: 224x224 (no detections), 56.9ms\n",
      "Speed: 0.9ms preprocess, 56.9ms inference, 0.4ms postprocess per image at shape (1, 3, 224, 224)\n",
      "\n",
      "0: 224x224 (no detections), 36.7ms\n",
      "Speed: 1.3ms preprocess, 36.7ms inference, 0.5ms postprocess per image at shape (1, 3, 224, 224)\n",
      "\n",
      "0: 224x224 (no detections), 31.5ms\n",
      "Speed: 1.0ms preprocess, 31.5ms inference, 0.5ms postprocess per image at shape (1, 3, 224, 224)\n",
      "\n",
      "0: 224x224 (no detections), 32.4ms\n",
      "Speed: 0.8ms preprocess, 32.4ms inference, 0.5ms postprocess per image at shape (1, 3, 224, 224)\n",
      "\n",
      "0: 224x224 (no detections), 34.0ms\n",
      "Speed: 0.7ms preprocess, 34.0ms inference, 0.5ms postprocess per image at shape (1, 3, 224, 224)\n",
      "\n",
      "0: 224x224 (no detections), 33.9ms\n",
      "Speed: 0.8ms preprocess, 33.9ms inference, 0.5ms postprocess per image at shape (1, 3, 224, 224)\n",
      "\n",
      "0: 224x224 (no detections), 33.6ms\n",
      "Speed: 0.9ms preprocess, 33.6ms inference, 0.6ms postprocess per image at shape (1, 3, 224, 224)\n",
      "\n",
      "0: 224x224 (no detections), 32.8ms\n",
      "Speed: 0.7ms preprocess, 32.8ms inference, 0.5ms postprocess per image at shape (1, 3, 224, 224)\n",
      "\n",
      "0: 224x224 (no detections), 30.0ms\n",
      "Speed: 0.8ms preprocess, 30.0ms inference, 0.4ms postprocess per image at shape (1, 3, 224, 224)\n",
      "\n",
      "0: 224x224 (no detections), 33.2ms\n",
      "Speed: 1.2ms preprocess, 33.2ms inference, 0.5ms postprocess per image at shape (1, 3, 224, 224)\n",
      "\n",
      "0: 224x224 (no detections), 29.8ms\n",
      "Speed: 1.1ms preprocess, 29.8ms inference, 0.5ms postprocess per image at shape (1, 3, 224, 224)\n",
      "\n",
      "0: 224x224 (no detections), 32.6ms\n",
      "Speed: 0.8ms preprocess, 32.6ms inference, 0.5ms postprocess per image at shape (1, 3, 224, 224)\n",
      "\n",
      "0: 224x224 (no detections), 29.8ms\n",
      "Speed: 0.7ms preprocess, 29.8ms inference, 0.5ms postprocess per image at shape (1, 3, 224, 224)\n",
      "\n",
      "0: 224x224 (no detections), 33.0ms\n",
      "Speed: 0.8ms preprocess, 33.0ms inference, 0.5ms postprocess per image at shape (1, 3, 224, 224)\n",
      "\n",
      "0: 224x224 (no detections), 31.6ms\n",
      "Speed: 0.7ms preprocess, 31.6ms inference, 0.4ms postprocess per image at shape (1, 3, 224, 224)\n",
      "\n",
      "0: 224x224 (no detections), 29.7ms\n",
      "Speed: 1.0ms preprocess, 29.7ms inference, 0.5ms postprocess per image at shape (1, 3, 224, 224)\n",
      "\n",
      "0: 224x224 (no detections), 30.9ms\n",
      "Speed: 0.8ms preprocess, 30.9ms inference, 0.5ms postprocess per image at shape (1, 3, 224, 224)\n",
      "\n",
      "0: 224x224 (no detections), 31.3ms\n",
      "Speed: 0.8ms preprocess, 31.3ms inference, 0.4ms postprocess per image at shape (1, 3, 224, 224)\n",
      "\n",
      "0: 224x224 (no detections), 61.9ms\n",
      "Speed: 2.0ms preprocess, 61.9ms inference, 0.4ms postprocess per image at shape (1, 3, 224, 224)\n",
      "\n",
      "0: 224x224 (no detections), 32.8ms\n",
      "Speed: 1.0ms preprocess, 32.8ms inference, 0.9ms postprocess per image at shape (1, 3, 224, 224)\n",
      "\n",
      "0: 224x224 (no detections), 31.1ms\n",
      "Speed: 0.6ms preprocess, 31.1ms inference, 0.5ms postprocess per image at shape (1, 3, 224, 224)\n",
      "\n",
      "0: 224x224 (no detections), 29.5ms\n",
      "Speed: 1.2ms preprocess, 29.5ms inference, 0.5ms postprocess per image at shape (1, 3, 224, 224)\n",
      "\n",
      "0: 224x224 (no detections), 38.2ms\n",
      "Speed: 3.7ms preprocess, 38.2ms inference, 0.5ms postprocess per image at shape (1, 3, 224, 224)\n",
      "\n",
      "0: 224x224 (no detections), 32.4ms\n",
      "Speed: 0.7ms preprocess, 32.4ms inference, 0.5ms postprocess per image at shape (1, 3, 224, 224)\n",
      "\n",
      "0: 224x224 (no detections), 30.7ms\n",
      "Speed: 0.8ms preprocess, 30.7ms inference, 0.5ms postprocess per image at shape (1, 3, 224, 224)\n",
      "\n",
      "0: 224x224 (no detections), 31.0ms\n",
      "Speed: 0.7ms preprocess, 31.0ms inference, 0.5ms postprocess per image at shape (1, 3, 224, 224)\n",
      "\n",
      "0: 224x224 (no detections), 29.1ms\n",
      "Speed: 0.7ms preprocess, 29.1ms inference, 0.5ms postprocess per image at shape (1, 3, 224, 224)\n",
      "\n",
      "0: 224x224 (no detections), 33.8ms\n",
      "Speed: 0.9ms preprocess, 33.8ms inference, 0.5ms postprocess per image at shape (1, 3, 224, 224)\n",
      "\n",
      "0: 224x224 (no detections), 28.8ms\n",
      "Speed: 0.8ms preprocess, 28.8ms inference, 0.6ms postprocess per image at shape (1, 3, 224, 224)\n",
      "\n",
      "0: 224x224 (no detections), 32.3ms\n",
      "Speed: 0.9ms preprocess, 32.3ms inference, 0.5ms postprocess per image at shape (1, 3, 224, 224)\n",
      "\n",
      "0: 224x224 (no detections), 31.1ms\n",
      "Speed: 0.7ms preprocess, 31.1ms inference, 0.5ms postprocess per image at shape (1, 3, 224, 224)\n",
      "\n",
      "0: 224x224 (no detections), 30.7ms\n",
      "Speed: 0.9ms preprocess, 30.7ms inference, 0.5ms postprocess per image at shape (1, 3, 224, 224)\n",
      "\n",
      "0: 224x224 (no detections), 31.7ms\n",
      "Speed: 0.7ms preprocess, 31.7ms inference, 0.7ms postprocess per image at shape (1, 3, 224, 224)\n",
      "\n",
      "0: 224x224 (no detections), 40.6ms\n",
      "Speed: 1.0ms preprocess, 40.6ms inference, 0.6ms postprocess per image at shape (1, 3, 224, 224)\n",
      "\n",
      "0: 224x224 (no detections), 37.6ms\n",
      "Speed: 0.8ms preprocess, 37.6ms inference, 0.5ms postprocess per image at shape (1, 3, 224, 224)\n",
      "\n",
      "0: 224x224 2 blues, 29.9ms\n",
      "Speed: 0.8ms preprocess, 29.9ms inference, 0.7ms postprocess per image at shape (1, 3, 224, 224)\n",
      "\n",
      "0: 224x224 1 blue, 33.1ms\n",
      "Speed: 1.0ms preprocess, 33.1ms inference, 0.7ms postprocess per image at shape (1, 3, 224, 224)\n",
      "\n",
      "0: 224x224 2 blues, 33.0ms\n",
      "Speed: 0.9ms preprocess, 33.0ms inference, 0.7ms postprocess per image at shape (1, 3, 224, 224)\n",
      "\n",
      "0: 224x224 1 blue, 31.3ms\n",
      "Speed: 0.7ms preprocess, 31.3ms inference, 1.2ms postprocess per image at shape (1, 3, 224, 224)\n",
      "\n",
      "0: 224x224 1 blue, 34.8ms\n",
      "Speed: 0.7ms preprocess, 34.8ms inference, 0.8ms postprocess per image at shape (1, 3, 224, 224)\n",
      "\n",
      "0: 224x224 1 blue, 37.0ms\n",
      "Speed: 1.0ms preprocess, 37.0ms inference, 0.9ms postprocess per image at shape (1, 3, 224, 224)\n",
      "\n",
      "0: 224x224 (no detections), 35.9ms\n",
      "Speed: 0.9ms preprocess, 35.9ms inference, 0.5ms postprocess per image at shape (1, 3, 224, 224)\n",
      "\n",
      "0: 224x224 (no detections), 37.4ms\n",
      "Speed: 4.4ms preprocess, 37.4ms inference, 0.5ms postprocess per image at shape (1, 3, 224, 224)\n",
      "\n",
      "0: 224x224 (no detections), 30.6ms\n",
      "Speed: 1.0ms preprocess, 30.6ms inference, 0.7ms postprocess per image at shape (1, 3, 224, 224)\n",
      "\n",
      "0: 224x224 (no detections), 30.4ms\n",
      "Speed: 0.9ms preprocess, 30.4ms inference, 0.5ms postprocess per image at shape (1, 3, 224, 224)\n",
      "\n",
      "0: 224x224 (no detections), 31.9ms\n",
      "Speed: 0.8ms preprocess, 31.9ms inference, 0.4ms postprocess per image at shape (1, 3, 224, 224)\n",
      "\n",
      "0: 224x224 (no detections), 33.0ms\n",
      "Speed: 0.9ms preprocess, 33.0ms inference, 0.5ms postprocess per image at shape (1, 3, 224, 224)\n",
      "\n",
      "0: 224x224 (no detections), 31.3ms\n",
      "Speed: 0.8ms preprocess, 31.3ms inference, 0.5ms postprocess per image at shape (1, 3, 224, 224)\n",
      "\n",
      "0: 224x224 (no detections), 31.0ms\n",
      "Speed: 0.8ms preprocess, 31.0ms inference, 0.5ms postprocess per image at shape (1, 3, 224, 224)\n",
      "\n",
      "0: 224x224 (no detections), 36.4ms\n",
      "Speed: 0.7ms preprocess, 36.4ms inference, 0.5ms postprocess per image at shape (1, 3, 224, 224)\n",
      "\n",
      "0: 224x224 (no detections), 60.6ms\n",
      "Speed: 2.0ms preprocess, 60.6ms inference, 0.7ms postprocess per image at shape (1, 3, 224, 224)\n",
      "\n",
      "0: 224x224 (no detections), 29.1ms\n",
      "Speed: 1.0ms preprocess, 29.1ms inference, 0.5ms postprocess per image at shape (1, 3, 224, 224)\n",
      "\n",
      "0: 224x224 (no detections), 32.5ms\n",
      "Speed: 0.8ms preprocess, 32.5ms inference, 0.9ms postprocess per image at shape (1, 3, 224, 224)\n",
      "\n",
      "0: 224x224 (no detections), 31.5ms\n",
      "Speed: 0.4ms preprocess, 31.5ms inference, 0.5ms postprocess per image at shape (1, 3, 224, 224)\n",
      "\n",
      "0: 224x224 (no detections), 31.9ms\n",
      "Speed: 1.2ms preprocess, 31.9ms inference, 0.5ms postprocess per image at shape (1, 3, 224, 224)\n",
      "\n",
      "0: 224x224 (no detections), 32.3ms\n",
      "Speed: 0.9ms preprocess, 32.3ms inference, 0.5ms postprocess per image at shape (1, 3, 224, 224)\n",
      "\n",
      "0: 224x224 (no detections), 33.8ms\n",
      "Speed: 0.9ms preprocess, 33.8ms inference, 0.5ms postprocess per image at shape (1, 3, 224, 224)\n",
      "\n",
      "0: 224x224 (no detections), 36.5ms\n",
      "Speed: 0.5ms preprocess, 36.5ms inference, 0.6ms postprocess per image at shape (1, 3, 224, 224)\n",
      "\n",
      "0: 224x224 (no detections), 32.0ms\n",
      "Speed: 0.8ms preprocess, 32.0ms inference, 0.5ms postprocess per image at shape (1, 3, 224, 224)\n",
      "\n",
      "0: 224x224 (no detections), 34.4ms\n",
      "Speed: 0.7ms preprocess, 34.4ms inference, 0.5ms postprocess per image at shape (1, 3, 224, 224)\n",
      "\n",
      "0: 224x224 (no detections), 39.1ms\n",
      "Speed: 1.0ms preprocess, 39.1ms inference, 0.5ms postprocess per image at shape (1, 3, 224, 224)\n",
      "\n",
      "0: 224x224 (no detections), 41.3ms\n",
      "Speed: 3.9ms preprocess, 41.3ms inference, 0.5ms postprocess per image at shape (1, 3, 224, 224)\n",
      "\n",
      "0: 224x224 (no detections), 35.8ms\n",
      "Speed: 1.5ms preprocess, 35.8ms inference, 0.5ms postprocess per image at shape (1, 3, 224, 224)\n",
      "\n",
      "0: 224x224 (no detections), 36.5ms\n",
      "Speed: 1.3ms preprocess, 36.5ms inference, 0.6ms postprocess per image at shape (1, 3, 224, 224)\n",
      "\n",
      "0: 224x224 (no detections), 37.1ms\n",
      "Speed: 0.7ms preprocess, 37.1ms inference, 0.6ms postprocess per image at shape (1, 3, 224, 224)\n",
      "\n",
      "0: 224x224 (no detections), 33.6ms\n",
      "Speed: 0.7ms preprocess, 33.6ms inference, 0.6ms postprocess per image at shape (1, 3, 224, 224)\n",
      "\n",
      "0: 224x224 (no detections), 33.6ms\n",
      "Speed: 0.7ms preprocess, 33.6ms inference, 0.5ms postprocess per image at shape (1, 3, 224, 224)\n",
      "\n",
      "0: 224x224 (no detections), 35.5ms\n",
      "Speed: 0.9ms preprocess, 35.5ms inference, 1.0ms postprocess per image at shape (1, 3, 224, 224)\n",
      "\n",
      "0: 224x224 (no detections), 32.4ms\n",
      "Speed: 0.6ms preprocess, 32.4ms inference, 0.6ms postprocess per image at shape (1, 3, 224, 224)\n",
      "\n",
      "0: 224x224 (no detections), 37.1ms\n",
      "Speed: 0.5ms preprocess, 37.1ms inference, 0.5ms postprocess per image at shape (1, 3, 224, 224)\n",
      "\n",
      "0: 224x224 (no detections), 34.1ms\n",
      "Speed: 0.7ms preprocess, 34.1ms inference, 0.5ms postprocess per image at shape (1, 3, 224, 224)\n",
      "\n",
      "0: 224x224 (no detections), 36.7ms\n",
      "Speed: 0.6ms preprocess, 36.7ms inference, 0.5ms postprocess per image at shape (1, 3, 224, 224)\n",
      "\n",
      "0: 224x224 (no detections), 44.6ms\n",
      "Speed: 1.0ms preprocess, 44.6ms inference, 0.7ms postprocess per image at shape (1, 3, 224, 224)\n",
      "\n",
      "0: 224x224 (no detections), 36.2ms\n",
      "Speed: 0.8ms preprocess, 36.2ms inference, 0.5ms postprocess per image at shape (1, 3, 224, 224)\n",
      "\n",
      "0: 224x224 (no detections), 37.8ms\n",
      "Speed: 0.9ms preprocess, 37.8ms inference, 0.5ms postprocess per image at shape (1, 3, 224, 224)\n",
      "\n",
      "0: 224x224 (no detections), 31.1ms\n",
      "Speed: 1.3ms preprocess, 31.1ms inference, 0.6ms postprocess per image at shape (1, 3, 224, 224)\n",
      "\n",
      "0: 224x224 (no detections), 38.2ms\n",
      "Speed: 1.3ms preprocess, 38.2ms inference, 0.4ms postprocess per image at shape (1, 3, 224, 224)\n",
      "\n",
      "0: 224x224 (no detections), 36.0ms\n",
      "Speed: 0.8ms preprocess, 36.0ms inference, 0.6ms postprocess per image at shape (1, 3, 224, 224)\n",
      "\n",
      "0: 224x224 (no detections), 30.7ms\n",
      "Speed: 0.7ms preprocess, 30.7ms inference, 0.5ms postprocess per image at shape (1, 3, 224, 224)\n",
      "\n"
     ]
    },
    {
     "ename": "KeyboardInterrupt",
     "evalue": "",
     "output_type": "error",
     "traceback": [
      "\u001b[1;31m---------------------------------------------------------------------------\u001b[0m",
      "\u001b[1;31mKeyboardInterrupt\u001b[0m                         Traceback (most recent call last)",
      "\u001b[1;32m~\\AppData\\Local\\Temp/ipykernel_41516/339114967.py\u001b[0m in \u001b[0;36m<module>\u001b[1;34m\u001b[0m\n\u001b[0;32m     28\u001b[0m     \u001b[1;32mtry\u001b[0m\u001b[1;33m:\u001b[0m\u001b[1;33m\u001b[0m\u001b[1;33m\u001b[0m\u001b[0m\n\u001b[0;32m     29\u001b[0m         \u001b[0mframe\u001b[0m \u001b[1;33m=\u001b[0m \u001b[0mget_jetbot_frame\u001b[0m\u001b[1;33m(\u001b[0m\u001b[0mjetbot_ip\u001b[0m\u001b[1;33m)\u001b[0m\u001b[1;33m\u001b[0m\u001b[1;33m\u001b[0m\u001b[0m\n\u001b[1;32m---> 30\u001b[1;33m         \u001b[0mresults\u001b[0m \u001b[1;33m=\u001b[0m \u001b[0mmodel\u001b[0m\u001b[1;33m(\u001b[0m\u001b[0mframe\u001b[0m\u001b[1;33m)\u001b[0m\u001b[1;33m\u001b[0m\u001b[1;33m\u001b[0m\u001b[0m\n\u001b[0m\u001b[0;32m     31\u001b[0m         \u001b[1;32mfor\u001b[0m \u001b[0mresult\u001b[0m \u001b[1;32min\u001b[0m \u001b[0mresults\u001b[0m\u001b[1;33m:\u001b[0m\u001b[1;33m\u001b[0m\u001b[1;33m\u001b[0m\u001b[0m\n\u001b[0;32m     32\u001b[0m             \u001b[0mboxes\u001b[0m \u001b[1;33m=\u001b[0m \u001b[0mresult\u001b[0m\u001b[1;33m.\u001b[0m\u001b[0mboxes\u001b[0m\u001b[1;33m.\u001b[0m\u001b[0mxyxy\u001b[0m\u001b[1;33m.\u001b[0m\u001b[0mcpu\u001b[0m\u001b[1;33m(\u001b[0m\u001b[1;33m)\u001b[0m\u001b[1;33m.\u001b[0m\u001b[0mnumpy\u001b[0m\u001b[1;33m(\u001b[0m\u001b[1;33m)\u001b[0m  \u001b[1;31m# xyxy\u001b[0m\u001b[1;33m\u001b[0m\u001b[1;33m\u001b[0m\u001b[0m\n",
      "\u001b[1;32mc:\\anaconda3\\lib\\site-packages\\ultralytics\\engine\\model.py\u001b[0m in \u001b[0;36m__call__\u001b[1;34m(self, source, stream, **kwargs)\u001b[0m\n\u001b[0;32m    180\u001b[0m             \u001b[1;33m...\u001b[0m     \u001b[0mprint\u001b[0m\u001b[1;33m(\u001b[0m\u001b[1;34mf\"Detected {len(r)} objects in image\"\u001b[0m\u001b[1;33m)\u001b[0m\u001b[1;33m\u001b[0m\u001b[1;33m\u001b[0m\u001b[0m\n\u001b[0;32m    181\u001b[0m         \"\"\"\n\u001b[1;32m--> 182\u001b[1;33m         \u001b[1;32mreturn\u001b[0m \u001b[0mself\u001b[0m\u001b[1;33m.\u001b[0m\u001b[0mpredict\u001b[0m\u001b[1;33m(\u001b[0m\u001b[0msource\u001b[0m\u001b[1;33m,\u001b[0m \u001b[0mstream\u001b[0m\u001b[1;33m,\u001b[0m \u001b[1;33m**\u001b[0m\u001b[0mkwargs\u001b[0m\u001b[1;33m)\u001b[0m\u001b[1;33m\u001b[0m\u001b[1;33m\u001b[0m\u001b[0m\n\u001b[0m\u001b[0;32m    183\u001b[0m \u001b[1;33m\u001b[0m\u001b[0m\n\u001b[0;32m    184\u001b[0m     \u001b[1;33m@\u001b[0m\u001b[0mstaticmethod\u001b[0m\u001b[1;33m\u001b[0m\u001b[1;33m\u001b[0m\u001b[0m\n",
      "\u001b[1;32mc:\\anaconda3\\lib\\site-packages\\ultralytics\\engine\\model.py\u001b[0m in \u001b[0;36mpredict\u001b[1;34m(self, source, stream, predictor, **kwargs)\u001b[0m\n\u001b[0;32m    550\u001b[0m         \u001b[1;32mif\u001b[0m \u001b[0mprompts\u001b[0m \u001b[1;32mand\u001b[0m \u001b[0mhasattr\u001b[0m\u001b[1;33m(\u001b[0m\u001b[0mself\u001b[0m\u001b[1;33m.\u001b[0m\u001b[0mpredictor\u001b[0m\u001b[1;33m,\u001b[0m \u001b[1;34m\"set_prompts\"\u001b[0m\u001b[1;33m)\u001b[0m\u001b[1;33m:\u001b[0m  \u001b[1;31m# for SAM-type models\u001b[0m\u001b[1;33m\u001b[0m\u001b[1;33m\u001b[0m\u001b[0m\n\u001b[0;32m    551\u001b[0m             \u001b[0mself\u001b[0m\u001b[1;33m.\u001b[0m\u001b[0mpredictor\u001b[0m\u001b[1;33m.\u001b[0m\u001b[0mset_prompts\u001b[0m\u001b[1;33m(\u001b[0m\u001b[0mprompts\u001b[0m\u001b[1;33m)\u001b[0m\u001b[1;33m\u001b[0m\u001b[1;33m\u001b[0m\u001b[0m\n\u001b[1;32m--> 552\u001b[1;33m         \u001b[1;32mreturn\u001b[0m \u001b[0mself\u001b[0m\u001b[1;33m.\u001b[0m\u001b[0mpredictor\u001b[0m\u001b[1;33m.\u001b[0m\u001b[0mpredict_cli\u001b[0m\u001b[1;33m(\u001b[0m\u001b[0msource\u001b[0m\u001b[1;33m=\u001b[0m\u001b[0msource\u001b[0m\u001b[1;33m)\u001b[0m \u001b[1;32mif\u001b[0m \u001b[0mis_cli\u001b[0m \u001b[1;32melse\u001b[0m \u001b[0mself\u001b[0m\u001b[1;33m.\u001b[0m\u001b[0mpredictor\u001b[0m\u001b[1;33m(\u001b[0m\u001b[0msource\u001b[0m\u001b[1;33m=\u001b[0m\u001b[0msource\u001b[0m\u001b[1;33m,\u001b[0m \u001b[0mstream\u001b[0m\u001b[1;33m=\u001b[0m\u001b[0mstream\u001b[0m\u001b[1;33m)\u001b[0m\u001b[1;33m\u001b[0m\u001b[1;33m\u001b[0m\u001b[0m\n\u001b[0m\u001b[0;32m    553\u001b[0m \u001b[1;33m\u001b[0m\u001b[0m\n\u001b[0;32m    554\u001b[0m     def track(\n",
      "\u001b[1;32mc:\\anaconda3\\lib\\site-packages\\ultralytics\\engine\\predictor.py\u001b[0m in \u001b[0;36m__call__\u001b[1;34m(self, source, model, stream, *args, **kwargs)\u001b[0m\n\u001b[0;32m    216\u001b[0m             \u001b[1;32mreturn\u001b[0m \u001b[0mself\u001b[0m\u001b[1;33m.\u001b[0m\u001b[0mstream_inference\u001b[0m\u001b[1;33m(\u001b[0m\u001b[0msource\u001b[0m\u001b[1;33m,\u001b[0m \u001b[0mmodel\u001b[0m\u001b[1;33m,\u001b[0m \u001b[1;33m*\u001b[0m\u001b[0margs\u001b[0m\u001b[1;33m,\u001b[0m \u001b[1;33m**\u001b[0m\u001b[0mkwargs\u001b[0m\u001b[1;33m)\u001b[0m\u001b[1;33m\u001b[0m\u001b[1;33m\u001b[0m\u001b[0m\n\u001b[0;32m    217\u001b[0m         \u001b[1;32melse\u001b[0m\u001b[1;33m:\u001b[0m\u001b[1;33m\u001b[0m\u001b[1;33m\u001b[0m\u001b[0m\n\u001b[1;32m--> 218\u001b[1;33m             \u001b[1;32mreturn\u001b[0m \u001b[0mlist\u001b[0m\u001b[1;33m(\u001b[0m\u001b[0mself\u001b[0m\u001b[1;33m.\u001b[0m\u001b[0mstream_inference\u001b[0m\u001b[1;33m(\u001b[0m\u001b[0msource\u001b[0m\u001b[1;33m,\u001b[0m \u001b[0mmodel\u001b[0m\u001b[1;33m,\u001b[0m \u001b[1;33m*\u001b[0m\u001b[0margs\u001b[0m\u001b[1;33m,\u001b[0m \u001b[1;33m**\u001b[0m\u001b[0mkwargs\u001b[0m\u001b[1;33m)\u001b[0m\u001b[1;33m)\u001b[0m  \u001b[1;31m# merge list of Result into one\u001b[0m\u001b[1;33m\u001b[0m\u001b[1;33m\u001b[0m\u001b[0m\n\u001b[0m\u001b[0;32m    219\u001b[0m \u001b[1;33m\u001b[0m\u001b[0m\n\u001b[0;32m    220\u001b[0m     \u001b[1;32mdef\u001b[0m \u001b[0mpredict_cli\u001b[0m\u001b[1;33m(\u001b[0m\u001b[0mself\u001b[0m\u001b[1;33m,\u001b[0m \u001b[0msource\u001b[0m\u001b[1;33m=\u001b[0m\u001b[1;32mNone\u001b[0m\u001b[1;33m,\u001b[0m \u001b[0mmodel\u001b[0m\u001b[1;33m=\u001b[0m\u001b[1;32mNone\u001b[0m\u001b[1;33m)\u001b[0m\u001b[1;33m:\u001b[0m\u001b[1;33m\u001b[0m\u001b[1;33m\u001b[0m\u001b[0m\n",
      "\u001b[1;32mc:\\anaconda3\\lib\\site-packages\\torch\\autograd\\grad_mode.py\u001b[0m in \u001b[0;36mgenerator_context\u001b[1;34m(*args, **kwargs)\u001b[0m\n\u001b[0;32m     41\u001b[0m                 \u001b[1;31m# Issuing `None` to a generator fires it up\u001b[0m\u001b[1;33m\u001b[0m\u001b[1;33m\u001b[0m\u001b[1;33m\u001b[0m\u001b[0m\n\u001b[0;32m     42\u001b[0m                 \u001b[1;32mwith\u001b[0m \u001b[0mself\u001b[0m\u001b[1;33m.\u001b[0m\u001b[0mclone\u001b[0m\u001b[1;33m(\u001b[0m\u001b[1;33m)\u001b[0m\u001b[1;33m:\u001b[0m\u001b[1;33m\u001b[0m\u001b[1;33m\u001b[0m\u001b[0m\n\u001b[1;32m---> 43\u001b[1;33m                     \u001b[0mresponse\u001b[0m \u001b[1;33m=\u001b[0m \u001b[0mgen\u001b[0m\u001b[1;33m.\u001b[0m\u001b[0msend\u001b[0m\u001b[1;33m(\u001b[0m\u001b[1;32mNone\u001b[0m\u001b[1;33m)\u001b[0m\u001b[1;33m\u001b[0m\u001b[1;33m\u001b[0m\u001b[0m\n\u001b[0m\u001b[0;32m     44\u001b[0m \u001b[1;33m\u001b[0m\u001b[0m\n\u001b[0;32m     45\u001b[0m                 \u001b[1;32mwhile\u001b[0m \u001b[1;32mTrue\u001b[0m\u001b[1;33m:\u001b[0m\u001b[1;33m\u001b[0m\u001b[1;33m\u001b[0m\u001b[0m\n",
      "\u001b[1;32mc:\\anaconda3\\lib\\site-packages\\ultralytics\\engine\\predictor.py\u001b[0m in \u001b[0;36mstream_inference\u001b[1;34m(self, source, model, *args, **kwargs)\u001b[0m\n\u001b[0;32m    323\u001b[0m                 \u001b[1;31m# Preprocess\u001b[0m\u001b[1;33m\u001b[0m\u001b[1;33m\u001b[0m\u001b[1;33m\u001b[0m\u001b[0m\n\u001b[0;32m    324\u001b[0m                 \u001b[1;32mwith\u001b[0m \u001b[0mprofilers\u001b[0m\u001b[1;33m[\u001b[0m\u001b[1;36m0\u001b[0m\u001b[1;33m]\u001b[0m\u001b[1;33m:\u001b[0m\u001b[1;33m\u001b[0m\u001b[1;33m\u001b[0m\u001b[0m\n\u001b[1;32m--> 325\u001b[1;33m                     \u001b[0mim\u001b[0m \u001b[1;33m=\u001b[0m \u001b[0mself\u001b[0m\u001b[1;33m.\u001b[0m\u001b[0mpreprocess\u001b[0m\u001b[1;33m(\u001b[0m\u001b[0mim0s\u001b[0m\u001b[1;33m)\u001b[0m\u001b[1;33m\u001b[0m\u001b[1;33m\u001b[0m\u001b[0m\n\u001b[0m\u001b[0;32m    326\u001b[0m \u001b[1;33m\u001b[0m\u001b[0m\n\u001b[0;32m    327\u001b[0m                 \u001b[1;31m# Inference\u001b[0m\u001b[1;33m\u001b[0m\u001b[1;33m\u001b[0m\u001b[1;33m\u001b[0m\u001b[0m\n",
      "\u001b[1;32mc:\\anaconda3\\lib\\site-packages\\ultralytics\\engine\\predictor.py\u001b[0m in \u001b[0;36mpreprocess\u001b[1;34m(self, im)\u001b[0m\n\u001b[0;32m    151\u001b[0m         \u001b[0mnot_tensor\u001b[0m \u001b[1;33m=\u001b[0m \u001b[1;32mnot\u001b[0m \u001b[0misinstance\u001b[0m\u001b[1;33m(\u001b[0m\u001b[0mim\u001b[0m\u001b[1;33m,\u001b[0m \u001b[0mtorch\u001b[0m\u001b[1;33m.\u001b[0m\u001b[0mTensor\u001b[0m\u001b[1;33m)\u001b[0m\u001b[1;33m\u001b[0m\u001b[1;33m\u001b[0m\u001b[0m\n\u001b[0;32m    152\u001b[0m         \u001b[1;32mif\u001b[0m \u001b[0mnot_tensor\u001b[0m\u001b[1;33m:\u001b[0m\u001b[1;33m\u001b[0m\u001b[1;33m\u001b[0m\u001b[0m\n\u001b[1;32m--> 153\u001b[1;33m             \u001b[0mim\u001b[0m \u001b[1;33m=\u001b[0m \u001b[0mnp\u001b[0m\u001b[1;33m.\u001b[0m\u001b[0mstack\u001b[0m\u001b[1;33m(\u001b[0m\u001b[0mself\u001b[0m\u001b[1;33m.\u001b[0m\u001b[0mpre_transform\u001b[0m\u001b[1;33m(\u001b[0m\u001b[0mim\u001b[0m\u001b[1;33m)\u001b[0m\u001b[1;33m)\u001b[0m\u001b[1;33m\u001b[0m\u001b[1;33m\u001b[0m\u001b[0m\n\u001b[0m\u001b[0;32m    154\u001b[0m             \u001b[1;32mif\u001b[0m \u001b[0mim\u001b[0m\u001b[1;33m.\u001b[0m\u001b[0mshape\u001b[0m\u001b[1;33m[\u001b[0m\u001b[1;33m-\u001b[0m\u001b[1;36m1\u001b[0m\u001b[1;33m]\u001b[0m \u001b[1;33m==\u001b[0m \u001b[1;36m3\u001b[0m\u001b[1;33m:\u001b[0m\u001b[1;33m\u001b[0m\u001b[1;33m\u001b[0m\u001b[0m\n\u001b[0;32m    155\u001b[0m                 \u001b[0mim\u001b[0m \u001b[1;33m=\u001b[0m \u001b[0mim\u001b[0m\u001b[1;33m[\u001b[0m\u001b[1;33m...\u001b[0m\u001b[1;33m,\u001b[0m \u001b[1;33m:\u001b[0m\u001b[1;33m:\u001b[0m\u001b[1;33m-\u001b[0m\u001b[1;36m1\u001b[0m\u001b[1;33m]\u001b[0m  \u001b[1;31m# BGR to RGB\u001b[0m\u001b[1;33m\u001b[0m\u001b[1;33m\u001b[0m\u001b[0m\n",
      "\u001b[1;32mc:\\anaconda3\\lib\\site-packages\\ultralytics\\engine\\predictor.py\u001b[0m in \u001b[0;36mpre_transform\u001b[1;34m(self, im)\u001b[0m\n\u001b[0;32m    191\u001b[0m             \u001b[0mstride\u001b[0m\u001b[1;33m=\u001b[0m\u001b[0mself\u001b[0m\u001b[1;33m.\u001b[0m\u001b[0mmodel\u001b[0m\u001b[1;33m.\u001b[0m\u001b[0mstride\u001b[0m\u001b[1;33m,\u001b[0m\u001b[1;33m\u001b[0m\u001b[1;33m\u001b[0m\u001b[0m\n\u001b[0;32m    192\u001b[0m         )\n\u001b[1;32m--> 193\u001b[1;33m         \u001b[1;32mreturn\u001b[0m \u001b[1;33m[\u001b[0m\u001b[0mletterbox\u001b[0m\u001b[1;33m(\u001b[0m\u001b[0mimage\u001b[0m\u001b[1;33m=\u001b[0m\u001b[0mx\u001b[0m\u001b[1;33m)\u001b[0m \u001b[1;32mfor\u001b[0m \u001b[0mx\u001b[0m \u001b[1;32min\u001b[0m \u001b[0mim\u001b[0m\u001b[1;33m]\u001b[0m\u001b[1;33m\u001b[0m\u001b[1;33m\u001b[0m\u001b[0m\n\u001b[0m\u001b[0;32m    194\u001b[0m \u001b[1;33m\u001b[0m\u001b[0m\n\u001b[0;32m    195\u001b[0m     \u001b[1;32mdef\u001b[0m \u001b[0mpostprocess\u001b[0m\u001b[1;33m(\u001b[0m\u001b[0mself\u001b[0m\u001b[1;33m,\u001b[0m \u001b[0mpreds\u001b[0m\u001b[1;33m,\u001b[0m \u001b[0mimg\u001b[0m\u001b[1;33m,\u001b[0m \u001b[0morig_imgs\u001b[0m\u001b[1;33m)\u001b[0m\u001b[1;33m:\u001b[0m\u001b[1;33m\u001b[0m\u001b[1;33m\u001b[0m\u001b[0m\n",
      "\u001b[1;32mc:\\anaconda3\\lib\\site-packages\\ultralytics\\engine\\predictor.py\u001b[0m in \u001b[0;36m<listcomp>\u001b[1;34m(.0)\u001b[0m\n\u001b[0;32m    191\u001b[0m             \u001b[0mstride\u001b[0m\u001b[1;33m=\u001b[0m\u001b[0mself\u001b[0m\u001b[1;33m.\u001b[0m\u001b[0mmodel\u001b[0m\u001b[1;33m.\u001b[0m\u001b[0mstride\u001b[0m\u001b[1;33m,\u001b[0m\u001b[1;33m\u001b[0m\u001b[1;33m\u001b[0m\u001b[0m\n\u001b[0;32m    192\u001b[0m         )\n\u001b[1;32m--> 193\u001b[1;33m         \u001b[1;32mreturn\u001b[0m \u001b[1;33m[\u001b[0m\u001b[0mletterbox\u001b[0m\u001b[1;33m(\u001b[0m\u001b[0mimage\u001b[0m\u001b[1;33m=\u001b[0m\u001b[0mx\u001b[0m\u001b[1;33m)\u001b[0m \u001b[1;32mfor\u001b[0m \u001b[0mx\u001b[0m \u001b[1;32min\u001b[0m \u001b[0mim\u001b[0m\u001b[1;33m]\u001b[0m\u001b[1;33m\u001b[0m\u001b[1;33m\u001b[0m\u001b[0m\n\u001b[0m\u001b[0;32m    194\u001b[0m \u001b[1;33m\u001b[0m\u001b[0m\n\u001b[0;32m    195\u001b[0m     \u001b[1;32mdef\u001b[0m \u001b[0mpostprocess\u001b[0m\u001b[1;33m(\u001b[0m\u001b[0mself\u001b[0m\u001b[1;33m,\u001b[0m \u001b[0mpreds\u001b[0m\u001b[1;33m,\u001b[0m \u001b[0mimg\u001b[0m\u001b[1;33m,\u001b[0m \u001b[0morig_imgs\u001b[0m\u001b[1;33m)\u001b[0m\u001b[1;33m:\u001b[0m\u001b[1;33m\u001b[0m\u001b[1;33m\u001b[0m\u001b[0m\n",
      "\u001b[1;32mc:\\anaconda3\\lib\\site-packages\\ultralytics\\data\\augment.py\u001b[0m in \u001b[0;36m__call__\u001b[1;34m(self, labels, image)\u001b[0m\n\u001b[0;32m   1690\u001b[0m         \u001b[0mh\u001b[0m\u001b[1;33m,\u001b[0m \u001b[0mw\u001b[0m\u001b[1;33m,\u001b[0m \u001b[0mc\u001b[0m \u001b[1;33m=\u001b[0m \u001b[0mimg\u001b[0m\u001b[1;33m.\u001b[0m\u001b[0mshape\u001b[0m\u001b[1;33m\u001b[0m\u001b[1;33m\u001b[0m\u001b[0m\n\u001b[0;32m   1691\u001b[0m         \u001b[1;32mif\u001b[0m \u001b[0mc\u001b[0m \u001b[1;33m==\u001b[0m \u001b[1;36m3\u001b[0m\u001b[1;33m:\u001b[0m\u001b[1;33m\u001b[0m\u001b[1;33m\u001b[0m\u001b[0m\n\u001b[1;32m-> 1692\u001b[1;33m             \u001b[0mimg\u001b[0m \u001b[1;33m=\u001b[0m \u001b[0mcv2\u001b[0m\u001b[1;33m.\u001b[0m\u001b[0mcopyMakeBorder\u001b[0m\u001b[1;33m(\u001b[0m\u001b[0mimg\u001b[0m\u001b[1;33m,\u001b[0m \u001b[0mtop\u001b[0m\u001b[1;33m,\u001b[0m \u001b[0mbottom\u001b[0m\u001b[1;33m,\u001b[0m \u001b[0mleft\u001b[0m\u001b[1;33m,\u001b[0m \u001b[0mright\u001b[0m\u001b[1;33m,\u001b[0m \u001b[0mcv2\u001b[0m\u001b[1;33m.\u001b[0m\u001b[0mBORDER_CONSTANT\u001b[0m\u001b[1;33m,\u001b[0m \u001b[0mvalue\u001b[0m\u001b[1;33m=\u001b[0m\u001b[1;33m(\u001b[0m\u001b[1;36m114\u001b[0m\u001b[1;33m,\u001b[0m \u001b[1;36m114\u001b[0m\u001b[1;33m,\u001b[0m \u001b[1;36m114\u001b[0m\u001b[1;33m)\u001b[0m\u001b[1;33m)\u001b[0m\u001b[1;33m\u001b[0m\u001b[1;33m\u001b[0m\u001b[0m\n\u001b[0m\u001b[0;32m   1693\u001b[0m         \u001b[1;32melse\u001b[0m\u001b[1;33m:\u001b[0m  \u001b[1;31m# multispectral\u001b[0m\u001b[1;33m\u001b[0m\u001b[1;33m\u001b[0m\u001b[0m\n\u001b[0;32m   1694\u001b[0m             \u001b[0mpad_img\u001b[0m \u001b[1;33m=\u001b[0m \u001b[0mnp\u001b[0m\u001b[1;33m.\u001b[0m\u001b[0mfull\u001b[0m\u001b[1;33m(\u001b[0m\u001b[1;33m(\u001b[0m\u001b[0mh\u001b[0m \u001b[1;33m+\u001b[0m \u001b[0mtop\u001b[0m \u001b[1;33m+\u001b[0m \u001b[0mbottom\u001b[0m\u001b[1;33m,\u001b[0m \u001b[0mw\u001b[0m \u001b[1;33m+\u001b[0m \u001b[0mleft\u001b[0m \u001b[1;33m+\u001b[0m \u001b[0mright\u001b[0m\u001b[1;33m,\u001b[0m \u001b[0mc\u001b[0m\u001b[1;33m)\u001b[0m\u001b[1;33m,\u001b[0m \u001b[0mfill_value\u001b[0m\u001b[1;33m=\u001b[0m\u001b[1;36m114\u001b[0m\u001b[1;33m,\u001b[0m \u001b[0mdtype\u001b[0m\u001b[1;33m=\u001b[0m\u001b[0mimg\u001b[0m\u001b[1;33m.\u001b[0m\u001b[0mdtype\u001b[0m\u001b[1;33m)\u001b[0m\u001b[1;33m\u001b[0m\u001b[1;33m\u001b[0m\u001b[0m\n",
      "\u001b[1;31mKeyboardInterrupt\u001b[0m: "
     ]
    },
    {
     "ename": "",
     "evalue": "",
     "output_type": "error",
     "traceback": [
      "\u001b[1;31mThe Kernel crashed while executing code in the current cell or a previous cell. \n",
      "\u001b[1;31mPlease review the code in the cell(s) to identify a possible cause of the failure. \n",
      "\u001b[1;31mClick <a href='https://aka.ms/vscodeJupyterKernelCrash'>here</a> for more info. \n",
      "\u001b[1;31mView Jupyter <a href='command:jupyter.viewOutput'>log</a> for further details."
     ]
    }
   ],
   "source": [
    "import torch\n",
    "torch.cuda.is_available = lambda : False  # <--- Prevent CUDA NMS error\n",
    "\n",
    "import cv2\n",
    "import numpy as np\n",
    "import requests\n",
    "from PIL import Image\n",
    "import io\n",
    "\n",
    "from ultralytics import YOLO\n",
    "\n",
    "jetbot_ip = '194.47.156.140'\n",
    "\n",
    "KNOWN_WIDTH = 3.5  # cm (object width for distance calculation)\n",
    "FOCAL_LENGTH = 500  # Camera calibration\n",
    "\n",
    "# Load YOLOv8 model\n",
    "model = YOLO(\"runs/detect/train9/weights/best.pt\")\n",
    "\n",
    "def get_jetbot_frame(jetbot_ip):\n",
    "    # Get image from Jetbot web server\n",
    "    response = requests.get(f'http://{jetbot_ip}:8080/camera')\n",
    "    image = Image.open(io.BytesIO(response.content))\n",
    "    frame = cv2.cvtColor(np.array(image), cv2.COLOR_RGB2BGR)\n",
    "    return frame\n",
    "\n",
    "while True:\n",
    "    try:\n",
    "        frame = get_jetbot_frame(jetbot_ip)\n",
    "        results = model(frame)\n",
    "        for result in results:\n",
    "            boxes = result.boxes.xyxy.cpu().numpy()  # xyxy\n",
    "            confs = result.boxes.conf.cpu().numpy()\n",
    "            clss = result.boxes.cls.cpu().numpy()\n",
    "\n",
    "            for (box, conf, cls_id) in zip(boxes, confs, clss):\n",
    "                x1, y1, x2, y2 = map(int, box)\n",
    "                w = x2 - x1\n",
    "                h = y2 - y1\n",
    "                # Draw bounding box\n",
    "                cv2.rectangle(frame, (x1, y1), (x2, y2), (0,255,0), 2)\n",
    "                # Class/confidence label\n",
    "                label = f\"Conf: {conf:.2f} Class: {int(cls_id)}\"\n",
    "                cv2.putText(frame, label, (x1, max(0, y1-10)),\n",
    "                            cv2.FONT_HERSHEY_SIMPLEX, 0.7, (0,255,0), 2)\n",
    "                # Distance below box\n",
    "                distance_cm = (KNOWN_WIDTH * FOCAL_LENGTH) / max(w, 1)\n",
    "                cv2.putText(frame, f\"Dist: {distance_cm:.1f}cm\", (x1, y2+25),\n",
    "                            cv2.FONT_HERSHEY_SIMPLEX, 0.7, (255,0,0), 2)\n",
    "\n",
    "        # Show live video\n",
    "        cv2.imshow(\"Jetbot YOLOv8 Detection\", frame)\n",
    "        if cv2.waitKey(1) & 0xFF == ord('q'):\n",
    "            break\n",
    "\n",
    "    except Exception as e:\n",
    "        print(f\"Error: {e}\")\n",
    "\n",
    "cv2.destroyAllWindows()\n"
   ]
  },
  {
   "cell_type": "code",
   "execution_count": null,
   "id": "c685c270",
   "metadata": {},
   "outputs": [],
   "source": []
  }
 ],
 "metadata": {
  "kernelspec": {
   "display_name": "base",
   "language": "python",
   "name": "python3"
  },
  "language_info": {
   "codemirror_mode": {
    "name": "ipython",
    "version": 3
   },
   "file_extension": ".py",
   "mimetype": "text/x-python",
   "name": "python",
   "nbconvert_exporter": "python",
   "pygments_lexer": "ipython3",
   "version": "3.8.12"
  }
 },
 "nbformat": 4,
 "nbformat_minor": 5
}
