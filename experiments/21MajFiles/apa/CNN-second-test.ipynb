{
 "cells": [
  {
   "cell_type": "code",
   "execution_count": 5,
   "id": "1e0e12b2",
   "metadata": {},
   "outputs": [
    {
     "name": "stdout",
     "output_type": "stream",
     "text": [
      "Generating messy synthetic dataset...\n"
     ]
    },
    {
     "name": "stderr",
     "output_type": "stream",
     "text": [
      "100%|██████████| 1000/1000 [00:05<00:00, 180.17it/s]"
     ]
    },
    {
     "name": "stdout",
     "output_type": "stream",
     "text": [
      "✅ Done! Dataset saved to: synthetic_squares_messy\n"
     ]
    },
    {
     "name": "stderr",
     "output_type": "stream",
     "text": [
      "\n"
     ]
    }
   ],
   "source": [
    "import os\n",
    "import cv2\n",
    "import numpy as np\n",
    "import random\n",
    "from PIL import Image, ImageEnhance\n",
    "from tqdm import tqdm\n",
    "\n",
    "# ========== CONFIG ==========\n",
    "output_dir = \"synthetic_squares_messy\"\n",
    "img_dir = os.path.join(output_dir, \"images\")\n",
    "lbl_dir = os.path.join(output_dir, \"labels\")\n",
    "os.makedirs(img_dir, exist_ok=True)\n",
    "os.makedirs(lbl_dir, exist_ok=True)\n",
    "\n",
    "img_size = 224\n",
    "total_images = 1000   # Set as needed\n",
    "min_squares = 1\n",
    "max_squares = 3\n",
    "blur_prob = 0.5\n",
    "brightness_jitter = 0.4\n",
    "\n",
    "colors = {\n",
    "    \"blue\":   ((255, 30, 30), 0),\n",
    "    \"red\":    ((30, 30, 255), 1),\n",
    "    \"orange\": ((0, 165, 255), 2),\n",
    "    \"yellow\": ((0, 255, 255), 3),\n",
    "    \"purple\": ((200, 80, 200), 4),\n",
    "    \"brown\":  ((19, 69, 139), 5)\n",
    "}\n",
    "class_names = list(colors.keys())\n",
    "\n",
    "# ========== BACKGROUND GENERATOR ==========\n",
    "def make_background():\n",
    "    bg = np.full((img_size, img_size, 3), random.randint(100, 200), dtype=np.uint8)\n",
    "\n",
    "    # Add colored blobs\n",
    "    for _ in range(random.randint(5, 20)):\n",
    "        color = tuple(int(x) for x in np.random.randint(50, 255, 3))\n",
    "        center = (random.randint(0, img_size), random.randint(0, img_size))\n",
    "        radius = random.randint(10, 50)\n",
    "        cv2.circle(bg, center, radius, color, -1)\n",
    "\n",
    "    # Add lines/patterns\n",
    "    for _ in range(random.randint(3, 10)):\n",
    "        pt1 = (random.randint(0, img_size), random.randint(0, img_size))\n",
    "        pt2 = (random.randint(0, img_size), random.randint(0, img_size))\n",
    "        color = tuple(int(x) for x in np.random.randint(100, 255, 3))\n",
    "        thickness = random.choice([1, 2])\n",
    "        cv2.line(bg, pt1, pt2, color, thickness)\n",
    "\n",
    "    # Add rectangles as distractions\n",
    "    for _ in range(random.randint(3, 8)):\n",
    "        top_left = (random.randint(0, img_size - 30), random.randint(0, img_size - 30))\n",
    "        w, h = random.randint(10, 50), random.randint(10, 50)\n",
    "        color = tuple(int(x) for x in np.random.randint(0, 200, 3))\n",
    "        cv2.rectangle(bg, top_left, (top_left[0] + w, top_left[1] + h), color, -1)\n",
    "\n",
    "    # Simulate vignette\n",
    "    Y, X = np.ogrid[:img_size, :img_size]\n",
    "    center = (img_size / 2, img_size / 2)\n",
    "    dist_from_center = np.sqrt((X - center[0])**2 + (Y - center[1])**2)\n",
    "    vignette = 1 - 0.6 * (dist_from_center / dist_from_center.max())\n",
    "    for i in range(3):\n",
    "        bg[..., i] = np.clip(bg[..., i] * vignette, 0, 255)\n",
    "\n",
    "    # Simulate camera sensor noise\n",
    "    noise = np.random.normal(0, 14, (img_size, img_size, 3))\n",
    "    bg = np.clip(bg + noise, 0, 255).astype(np.uint8)\n",
    "\n",
    "    return bg\n",
    "\n",
    "\n",
    "# ========== IMAGE AUGMENTATION ==========\n",
    "def apply_brightness_contrast(img):\n",
    "    img = Image.fromarray(img)\n",
    "    img = ImageEnhance.Brightness(img).enhance(random.uniform(0.7, 1.3))\n",
    "    img = ImageEnhance.Contrast(img).enhance(random.uniform(0.7, 1.3))\n",
    "    return np.array(img)\n",
    "\n",
    "def apply_motion_blur(image, size=5, angle=0):\n",
    "    kernel = np.zeros((size, size))\n",
    "    kernel[int((size - 1) / 2), :] = np.ones(size)\n",
    "    M = cv2.getRotationMatrix2D((size / 2 - 0.5, size / 2 - 0.5), angle, 1.0)\n",
    "    kernel = cv2.warpAffine(kernel, M, (size, size))\n",
    "    kernel /= np.sum(kernel)\n",
    "    return cv2.filter2D(image, -1, kernel)\n",
    "\n",
    "def apply_blur(img):\n",
    "    if random.random() < blur_prob:\n",
    "        ksize = random.choice([3, 5, 7])\n",
    "        img = cv2.GaussianBlur(img, (ksize, ksize), 0)\n",
    "        if random.random() < 0.3:\n",
    "            size = random.choice([5, 7, 9])\n",
    "            angle = random.randint(0, 180)\n",
    "            img = apply_motion_blur(img, size=size, angle=angle)\n",
    "    return img\n",
    "\n",
    "# ========== SQUARE GENERATOR ==========\n",
    "def draw_square(img, cname, classid):\n",
    "    bgr = colors[cname][0]\n",
    "    size = random.randint(40, 90)\n",
    "    cx, cy = random.randint(50, 170), random.randint(50, 170)\n",
    "    x_squeeze = random.uniform(0.85, 1.0)\n",
    "    y_squeeze = random.uniform(0.85, 1.0)\n",
    "    half = size / 2\n",
    "\n",
    "    pts = np.array([\n",
    "        [-half * x_squeeze, -half * y_squeeze],\n",
    "        [half * x_squeeze, -half * y_squeeze],\n",
    "        [half, half],\n",
    "        [-half, half]\n",
    "    ], dtype=np.float32)\n",
    "\n",
    "    if random.random() < 0.5:\n",
    "        shear = random.uniform(-0.15, 0.15)\n",
    "        pts = np.dot(pts, np.array([[1, shear], [0, 1]]))\n",
    "\n",
    "    pts += np.array([cx, cy])\n",
    "    pts = pts.astype(np.int32)\n",
    "    cv2.fillConvexPoly(img, pts, bgr)\n",
    "\n",
    "    x_min, y_min = np.min(pts, axis=0)\n",
    "    x_max, y_max = np.max(pts, axis=0)\n",
    "    xc = ((x_min + x_max) / 2) / img_size\n",
    "    yc = ((y_min + y_max) / 2) / img_size\n",
    "    w = (x_max - x_min) / img_size\n",
    "    h = (y_max - y_min) / img_size\n",
    "    return f\"{classid} {xc:.6f} {yc:.6f} {w:.6f} {h:.6f}\"\n",
    "\n",
    "# ========== MAIN LOOP ==========\n",
    "print(\"Generating messy synthetic dataset...\")\n",
    "for i in tqdm(range(total_images)):\n",
    "    img = make_background()\n",
    "    label_lines = []\n",
    "    for cname in random.sample(list(colors.keys()), random.randint(min_squares, max_squares)):\n",
    "        label = draw_square(img, cname, colors[cname][1])\n",
    "        label_lines.append(label)\n",
    "\n",
    "    img = apply_brightness_contrast(img)\n",
    "    img = apply_blur(img)\n",
    "\n",
    "    fname = f\"messy_{i:05d}.jpg\"\n",
    "    cv2.imwrite(os.path.join(img_dir, fname), img)\n",
    "    with open(os.path.join(lbl_dir, fname.replace(\".jpg\", \".txt\")), \"w\") as f:\n",
    "        f.write(\"\\n\".join(label_lines))\n",
    "\n",
    "print(\"✅ Done! Dataset saved to:\", output_dir)\n"
   ]
  },
  {
   "cell_type": "code",
   "execution_count": 7,
   "id": "30b474c8",
   "metadata": {},
   "outputs": [
    {
     "name": "stdout",
     "output_type": "stream",
     "text": [
      "Generating final robust synthetic dataset...\n"
     ]
    },
    {
     "name": "stderr",
     "output_type": "stream",
     "text": [
      "100%|██████████| 10000/10000 [01:21<00:00, 121.98it/s]"
     ]
    },
    {
     "name": "stdout",
     "output_type": "stream",
     "text": [
      "✅ Done! Dataset saved to: synthetic_squares_final\n"
     ]
    },
    {
     "name": "stderr",
     "output_type": "stream",
     "text": [
      "\n"
     ]
    }
   ],
   "source": [
    "import os\n",
    "import cv2\n",
    "import numpy as np\n",
    "import random\n",
    "from PIL import Image, ImageEnhance\n",
    "from tqdm import tqdm\n",
    "\n",
    "# ==== CONFIG ====\n",
    "output_dir = \"synthetic_squares_final\"\n",
    "img_dir = os.path.join(output_dir, \"images\")\n",
    "lbl_dir = os.path.join(output_dir, \"labels\")\n",
    "os.makedirs(img_dir, exist_ok=True)\n",
    "os.makedirs(lbl_dir, exist_ok=True)\n",
    "\n",
    "img_size = 224\n",
    "total_images = 10000\n",
    "min_squares = 1\n",
    "max_squares = 3\n",
    "blur_prob = 0.5\n",
    "brightness_jitter = 0.4\n",
    "\n",
    "colors = {\n",
    "    \"blue\":   ((255, 30, 30), 0),\n",
    "    \"red\":    ((30, 30, 255), 1),\n",
    "    \"orange\": ((0, 165, 255), 2),\n",
    "    \"yellow\": ((0, 255, 255), 3),\n",
    "    \"purple\": ((200, 80, 200), 4),\n",
    "    \"brown\":  ((139, 69, 19), 5),\n",
    "    \"gray\":   ((128, 128, 128), 6),\n",
    "    \"black\":  ((0, 0, 0), 7),\n",
    "    \"pink\":   ((240, 110, 180), 8),\n",
    "    \"white\":  ((255, 255, 255), 9),\n",
    "    \"green\":  ((65, 180, 80), 10),\n",
    "}\n",
    "class_names = list(colors.keys())\n",
    "\n",
    "# Clutter colors EXCLUDING all target colors (i.e., no white, gray, brown, yellow, orange, blue, red, pink, purple, black, green)\n",
    "# Only \"distractor\" colors\n",
    "CLUTTER_COLORS = [\n",
    "    ((0, 255, 255), 0.07),    # Cyan\n",
    "    ((255, 20, 147), 0.06),   # Deep Pink\n",
    "    ((100, 149, 237), 0.08),  # Cornflower Blue\n",
    "    ((34, 139, 34), 0.06),    # Forest Green\n",
    "    ((255, 215, 0), 0.07),    # Gold\n",
    "    ((255, 140, 0), 0.08),    # Dark Orange\n",
    "    ((0, 206, 209), 0.07),    # Dark Turquoise\n",
    "    ((186, 85, 211), 0.05),   # Medium Orchid\n",
    "    ((255, 0, 255), 0.07),    # Magenta\n",
    "    ((70, 130, 180), 0.07),   # Steel Blue\n",
    "    ((173, 255, 47), 0.08),   # Green Yellow\n",
    "    ((205, 133, 63), 0.07),   # Peru\n",
    "    # Add more if you want!\n",
    "]\n",
    "CLUTTER_RGBS, CLUTTER_PROBS = zip(*CLUTTER_COLORS)\n",
    "def sample_clutter_color():\n",
    "    idx = random.choices(range(len(CLUTTER_RGBS)), weights=CLUTTER_PROBS, k=1)[0]\n",
    "    return CLUTTER_RGBS[idx]\n",
    "\n",
    "def make_background():\n",
    "    bg = np.full((img_size, img_size, 3), random.randint(100, 200), dtype=np.uint8)\n",
    "    for _ in range(random.randint(5, 20)):\n",
    "        color = tuple(int(x) for x in sample_clutter_color())\n",
    "        center = (random.randint(0, img_size), random.randint(0, img_size))\n",
    "        radius = random.randint(10, 50)\n",
    "        cv2.circle(bg, center, radius, color, -1)\n",
    "    for _ in range(random.randint(3, 10)):\n",
    "        pt1 = (random.randint(0, img_size), random.randint(0, img_size))\n",
    "        pt2 = (random.randint(0, img_size), random.randint(0, img_size))\n",
    "        color = tuple(int(x) for x in sample_clutter_color())\n",
    "        thickness = random.choice([1, 2])\n",
    "        cv2.line(bg, pt1, pt2, color, thickness)\n",
    "    for _ in range(random.randint(3, 8)):\n",
    "        top_left = (random.randint(0, img_size - 30), random.randint(0, img_size - 30))\n",
    "        w, h = random.randint(10, 50), random.randint(10, 50)\n",
    "        color = tuple(int(x) for x in sample_clutter_color())\n",
    "        cv2.rectangle(bg, top_left, (top_left[0] + w, top_left[1] + h), color, -1)\n",
    "    # Vignette effect\n",
    "    Y, X = np.ogrid[:img_size, :img_size]\n",
    "    center = (img_size / 2, img_size / 2)\n",
    "    dist_from_center = np.sqrt((X - center[0])**2 + (Y - center[1])**2)\n",
    "    vignette = 1 - 0.6 * (dist_from_center / dist_from_center.max())\n",
    "    for i in range(3):\n",
    "        bg[..., i] = np.clip(bg[..., i] * vignette, 0, 255)\n",
    "    # Camera noise\n",
    "    noise = np.random.normal(0, 14, (img_size, img_size, 3))\n",
    "    bg = np.clip(bg + noise, 0, 255).astype(np.uint8)\n",
    "    return bg\n",
    "\n",
    "def apply_brightness_contrast(img):\n",
    "    img = Image.fromarray(img)\n",
    "    img = ImageEnhance.Brightness(img).enhance(random.uniform(0.7, 1.3))\n",
    "    img = ImageEnhance.Contrast(img).enhance(random.uniform(0.7, 1.3))\n",
    "    return np.array(img)\n",
    "\n",
    "def apply_motion_blur(image, size=5, angle=0):\n",
    "    kernel = np.zeros((size, size))\n",
    "    kernel[int((size - 1) / 2), :] = np.ones(size)\n",
    "    M = cv2.getRotationMatrix2D((size / 2 - 0.5, size / 2 - 0.5), angle, 1.0)\n",
    "    kernel = cv2.warpAffine(kernel, M, (size, size))\n",
    "    kernel /= np.sum(kernel)\n",
    "    return cv2.filter2D(image, -1, kernel)\n",
    "\n",
    "def apply_blur(img):\n",
    "    if random.random() < blur_prob:\n",
    "        ksize = random.choice([3, 5, 7])\n",
    "        img = cv2.GaussianBlur(img, (ksize, ksize), 0)\n",
    "        if random.random() < 0.3:\n",
    "            size = random.choice([5, 7, 9])\n",
    "            angle = random.randint(0, 180)\n",
    "            img = apply_motion_blur(img, size=size, angle=angle)\n",
    "    return img\n",
    "\n",
    "def add_tape_reflection(img, pts):\n",
    "    if random.random() < 0.3:\n",
    "        x_min, y_min = np.min(pts, axis=0)\n",
    "        x_max, y_max = np.max(pts, axis=0)\n",
    "        box_w, box_h = x_max - x_min, y_max - y_min\n",
    "        tape_w = int(box_w * random.uniform(0.1, 0.5))\n",
    "        tape_h = int(box_h * random.uniform(0.06, 0.2))\n",
    "        angle = random.uniform(-30, 30)\n",
    "        center = (\n",
    "            int((x_min + x_max) / 2 + random.uniform(-0.1, 0.1) * box_w),\n",
    "            int((y_min + y_max) / 2 + random.uniform(-0.1, 0.1) * box_h)\n",
    "        )\n",
    "        tape = np.zeros_like(img)\n",
    "        rect = (\n",
    "            (center[0], center[1]),\n",
    "            (tape_w, tape_h),\n",
    "            angle\n",
    "        )\n",
    "        box = cv2.boxPoints(rect).astype(int)\n",
    "        cv2.fillConvexPoly(tape, box, (255, 255, 255))\n",
    "        tape = cv2.GaussianBlur(tape, (11, 11), 0)\n",
    "        alpha = random.uniform(0.45, 0.8)\n",
    "        mask = (tape > 0).astype(np.float32)\n",
    "        img = np.clip(img * (1 - mask * alpha) + tape * alpha, 0, 255).astype(np.uint8)\n",
    "    return img\n",
    "\n",
    "def draw_square(img, cname, classid):\n",
    "    bgr = colors[cname][0]\n",
    "    size = random.randint(40, 90)\n",
    "    cx, cy = random.randint(50, 170), random.randint(50, 170)\n",
    "    x_squeeze = random.uniform(0.85, 1.0)\n",
    "    y_squeeze = random.uniform(0.85, 1.0)\n",
    "    half = size / 2\n",
    "    # --- Rounded corner logic ---\n",
    "    radius = int(size * random.uniform(0.06, 0.18)) if random.random() < 0.5 else 0\n",
    "    pts = np.array([\n",
    "        [-half * x_squeeze, -half * y_squeeze],\n",
    "        [half * x_squeeze, -half * y_squeeze],\n",
    "        [half, half],\n",
    "        [-half, half]\n",
    "    ], dtype=np.float32)\n",
    "    if random.random() < 0.5:\n",
    "        shear = random.uniform(-0.15, 0.15)\n",
    "        pts = np.dot(pts, np.array([[1, shear], [0, 1]]))\n",
    "    pts += np.array([cx, cy])\n",
    "    pts = pts.astype(np.int32)\n",
    "\n",
    "    # Draw rounded or regular square\n",
    "    if radius > 0:\n",
    "        rect = cv2.boundingRect(pts)\n",
    "        mask = np.zeros(img.shape, dtype=np.uint8)\n",
    "        x, y, w, h = rect\n",
    "        cv2.rectangle(mask, (x, y), (x+w, y+h), bgr, -1)\n",
    "        mask = cv2.cvtColor(mask, cv2.COLOR_BGR2GRAY)\n",
    "        mask = cv2.blur(mask, (radius*2+1, radius*2+1))\n",
    "        shape = np.zeros(img.shape, dtype=np.uint8)\n",
    "        cv2.fillConvexPoly(shape, pts, (255,255,255))\n",
    "        mask = cv2.bitwise_and(mask, cv2.cvtColor(shape, cv2.COLOR_BGR2GRAY))\n",
    "        mask = cv2.cvtColor(mask, cv2.COLOR_GRAY2BGR)\n",
    "        img = np.where(mask > 0, np.array(bgr, dtype=np.uint8), img)\n",
    "    else:\n",
    "        cv2.fillConvexPoly(img, pts, bgr)\n",
    "\n",
    "    # Simulate tape reflection\n",
    "    img = add_tape_reflection(img, pts)\n",
    "\n",
    "    x_min, y_min = np.min(pts, axis=0)\n",
    "    x_max, y_max = np.max(pts, axis=0)\n",
    "    xc = ((x_min + x_max) / 2) / img_size\n",
    "    yc = ((y_min + y_max) / 2) / img_size\n",
    "    w = (x_max - x_min) / img_size\n",
    "    h = (y_max - y_min) / img_size\n",
    "    return f\"{classid} {xc:.6f} {yc:.6f} {w:.6f} {h:.6f}\"\n",
    "\n",
    "# Optionally: add partial occlusion, fake folds, or scribbles for even more realism!\n",
    "def add_occlusion(img):\n",
    "    if random.random() < 0.1:\n",
    "        x1, y1 = random.randint(0, img_size-40), random.randint(0, img_size-40)\n",
    "        w, h = random.randint(15, 45), random.randint(15, 45)\n",
    "        color = tuple(int(x) for x in sample_clutter_color())\n",
    "        alpha = random.uniform(0.35, 0.8)\n",
    "        overlay = img.copy()\n",
    "        cv2.rectangle(overlay, (x1, y1), (x1 + w, y1 + h), color, -1)\n",
    "        img = cv2.addWeighted(overlay, alpha, img, 1 - alpha, 0)\n",
    "    return img\n",
    "\n",
    "def sample_clutter_color():\n",
    "    idx = random.choices(range(len(CLUTTER_RGBS)), weights=CLUTTER_PROBS, k=1)[0]\n",
    "    return CLUTTER_RGBS[idx]\n",
    "\n",
    "# ========== MAIN LOOP ==========\n",
    "print(\"Generating final robust synthetic dataset...\")\n",
    "for i in tqdm(range(total_images)):\n",
    "    img = make_background()\n",
    "    label_lines = []\n",
    "    for cname in random.sample(list(colors.keys()), random.randint(min_squares, max_squares)):\n",
    "        label = draw_square(img, cname, colors[cname][1])\n",
    "        label_lines.append(label)\n",
    "    img = apply_brightness_contrast(img)\n",
    "    img = apply_blur(img)\n",
    "    img = add_occlusion(img)\n",
    "    fname = f\"final_{i:05d}.jpg\"\n",
    "    cv2.imwrite(os.path.join(img_dir, fname), img)\n",
    "    with open(os.path.join(lbl_dir, fname.replace(\".jpg\", \".txt\")), \"w\") as f:\n",
    "        f.write(\"\\n\".join(label_lines))\n",
    "print(\"✅ Done! Dataset saved to:\", output_dir)\n"
   ]
  },
  {
   "cell_type": "markdown",
   "id": "81b9318f",
   "metadata": {},
   "source": [
    "## Extreme Noise"
   ]
  },
  {
   "cell_type": "code",
   "execution_count": 8,
   "id": "fb569bd5",
   "metadata": {},
   "outputs": [
    {
     "name": "stdout",
     "output_type": "stream",
     "text": [
      "Generating EXTREME synthetic dataset...\n"
     ]
    },
    {
     "name": "stderr",
     "output_type": "stream",
     "text": [
      "100%|██████████| 10000/10000 [24:21<00:00,  6.84it/s]"
     ]
    },
    {
     "name": "stdout",
     "output_type": "stream",
     "text": [
      "✅ Done! Extreme dataset saved to: synthetic_squares_extreme\n"
     ]
    },
    {
     "name": "stderr",
     "output_type": "stream",
     "text": [
      "\n"
     ]
    }
   ],
   "source": [
    "import os\n",
    "import cv2\n",
    "import numpy as np\n",
    "import random\n",
    "from PIL import Image, ImageEnhance\n",
    "from tqdm import tqdm\n",
    "\n",
    "# ==== CONFIG ====\n",
    "output_dir = \"synthetic_squares_extreme\"\n",
    "img_dir = os.path.join(output_dir, \"images\")\n",
    "lbl_dir = os.path.join(output_dir, \"labels\")\n",
    "os.makedirs(img_dir, exist_ok=True)\n",
    "os.makedirs(lbl_dir, exist_ok=True)\n",
    "\n",
    "img_size = 224\n",
    "total_images = 10000\n",
    "min_squares = 1\n",
    "max_squares = 3\n",
    "blur_prob = 0.7  # more aggressive\n",
    "brightness_jitter = 0.6\n",
    "\n",
    "colors = {\n",
    "    \"blue\":   ((255, 30, 30), 0),\n",
    "    \"red\":    ((30, 30, 255), 1),\n",
    "    \"orange\": ((0, 165, 255), 2),\n",
    "    \"yellow\": ((0, 255, 255), 3),\n",
    "    \"purple\": ((200, 80, 200), 4),\n",
    "    \"brown\":  ((139, 69, 19), 5),\n",
    "    \"gray\":   ((128, 128, 128), 6),\n",
    "    \"black\":  ((0, 0, 0), 7),\n",
    "    \"pink\":   ((240, 110, 180), 8),\n",
    "    \"white\":  ((255, 255, 255), 9),\n",
    "    \"green\":  ((65, 180, 80), 10),\n",
    "}\n",
    "class_names = list(colors.keys())\n",
    "\n",
    "# Extreme distractor colors (never target class colors)\n",
    "CLUTTER_COLORS = [\n",
    "    ((0, 255, 255), 0.07),    # Cyan\n",
    "    ((255, 20, 147), 0.06),   # Deep Pink\n",
    "    ((100, 149, 237), 0.08),  # Cornflower Blue\n",
    "    ((34, 139, 34), 0.06),    # Forest Green\n",
    "    ((255, 215, 0), 0.07),    # Gold\n",
    "    ((255, 140, 0), 0.08),    # Dark Orange\n",
    "    ((0, 206, 209), 0.07),    # Dark Turquoise\n",
    "    ((186, 85, 211), 0.05),   # Medium Orchid\n",
    "    ((255, 0, 255), 0.07),    # Magenta\n",
    "    ((70, 130, 180), 0.07),   # Steel Blue\n",
    "    ((173, 255, 47), 0.08),   # Green Yellow\n",
    "    ((205, 133, 63), 0.07),   # Peru\n",
    "]\n",
    "CLUTTER_RGBS, CLUTTER_PROBS = zip(*CLUTTER_COLORS)\n",
    "def sample_clutter_color():\n",
    "    idx = random.choices(range(len(CLUTTER_RGBS)), weights=CLUTTER_PROBS, k=1)[0]\n",
    "    return CLUTTER_RGBS[idx]\n",
    "\n",
    "def add_gradient(bg):\n",
    "    # Choose up to 3 random gradient directions/colors\n",
    "    for _ in range(random.randint(1, 3)):\n",
    "        color1 = np.array(sample_clutter_color(), dtype=np.float32)\n",
    "        color2 = np.array(sample_clutter_color(), dtype=np.float32)\n",
    "        direction = random.choice(['horizontal', 'vertical', 'diag1', 'diag2'])\n",
    "        gradient = np.zeros_like(bg, dtype=np.float32)\n",
    "        if direction == 'horizontal':\n",
    "            for i in range(img_size):\n",
    "                alpha = i / img_size\n",
    "                gradient[:, i] = (1 - alpha) * color1 + alpha * color2\n",
    "        elif direction == 'vertical':\n",
    "            for i in range(img_size):\n",
    "                alpha = i / img_size\n",
    "                gradient[i, :] = (1 - alpha) * color1 + alpha * color2\n",
    "        elif direction == 'diag1':\n",
    "            for i in range(img_size):\n",
    "                for j in range(img_size):\n",
    "                    alpha = (i + j) / (2 * img_size)\n",
    "                    gradient[i, j] = (1 - alpha) * color1 + alpha * color2\n",
    "        elif direction == 'diag2':\n",
    "            for i in range(img_size):\n",
    "                for j in range(img_size):\n",
    "                    alpha = abs(i - j) / img_size\n",
    "                    gradient[i, j] = (1 - alpha) * color1 + alpha * color2\n",
    "        bg = cv2.addWeighted(bg.astype(np.float32), 0.7, gradient, 0.3, 0).astype(np.uint8)\n",
    "    return bg\n",
    "\n",
    "def add_pen_marks(img):\n",
    "    # Simulate pen marks/scribbles on the whole image\n",
    "    for _ in range(random.randint(4, 10)):\n",
    "        color = tuple(int(x) for x in sample_clutter_color())\n",
    "        thickness = random.choice([1, 2, 3])\n",
    "        mark_type = random.choice(['line', 'curve', 'ellipse', 'zigzag'])\n",
    "        if mark_type == 'line':\n",
    "            pt1 = (random.randint(0, img_size), random.randint(0, img_size))\n",
    "            pt2 = (random.randint(0, img_size), random.randint(0, img_size))\n",
    "            cv2.line(img, pt1, pt2, color, thickness)\n",
    "        elif mark_type == 'curve':\n",
    "            pts = np.array([\n",
    "                [random.randint(0, img_size), random.randint(0, img_size)],\n",
    "                [random.randint(0, img_size), random.randint(0, img_size)],\n",
    "                [random.randint(0, img_size), random.randint(0, img_size)],\n",
    "            ], np.int32).reshape((-1, 1, 2))\n",
    "            cv2.polylines(img, [pts], False, color, thickness)\n",
    "        elif mark_type == 'ellipse':\n",
    "            center = (random.randint(0, img_size), random.randint(0, img_size))\n",
    "            axes = (random.randint(10, 80), random.randint(10, 80))\n",
    "            angle = random.uniform(0, 360)\n",
    "            start = random.randint(0, 180)\n",
    "            end = start + random.randint(30, 180)\n",
    "            cv2.ellipse(img, center, axes, angle, start, end, color, thickness)\n",
    "        elif mark_type == 'zigzag':\n",
    "            pt = [random.randint(0, img_size), random.randint(0, img_size)]\n",
    "            for _ in range(random.randint(3, 7)):\n",
    "                pt2 = [pt[0] + random.randint(-40, 40), pt[1] + random.randint(-40, 40)]\n",
    "                pt2[0] = np.clip(pt2[0], 0, img_size-1)\n",
    "                pt2[1] = np.clip(pt2[1], 0, img_size-1)\n",
    "                cv2.line(img, tuple(pt), tuple(pt2), color, thickness)\n",
    "                pt = pt2\n",
    "    return img\n",
    "\n",
    "def make_background():\n",
    "    bg = np.full((img_size, img_size, 3), random.randint(100, 200), dtype=np.uint8)\n",
    "    bg = add_gradient(bg)\n",
    "    for _ in range(random.randint(8, 25)):\n",
    "        color = tuple(int(x) for x in sample_clutter_color())\n",
    "        center = (random.randint(0, img_size), random.randint(0, img_size))\n",
    "        radius = random.randint(10, 50)\n",
    "        cv2.circle(bg, center, radius, color, -1)\n",
    "    for _ in range(random.randint(5, 20)):\n",
    "        pt1 = (random.randint(0, img_size), random.randint(0, img_size))\n",
    "        pt2 = (random.randint(0, img_size), random.randint(0, img_size))\n",
    "        color = tuple(int(x) for x in sample_clutter_color())\n",
    "        thickness = random.choice([1, 2, 3])\n",
    "        cv2.line(bg, pt1, pt2, color, thickness)\n",
    "    for _ in range(random.randint(6, 12)):\n",
    "        top_left = (random.randint(0, img_size - 30), random.randint(0, img_size - 30))\n",
    "        w, h = random.randint(10, 60), random.randint(10, 60)\n",
    "        color = tuple(int(x) for x in sample_clutter_color())\n",
    "        cv2.rectangle(bg, top_left, (top_left[0] + w, top_left[1] + h), color, -1)\n",
    "    bg = add_pen_marks(bg)\n",
    "    # Vignette\n",
    "    Y, X = np.ogrid[:img_size, :img_size]\n",
    "    center = (img_size / 2, img_size / 2)\n",
    "    dist_from_center = np.sqrt((X - center[0])**2 + (Y - center[1])**2)\n",
    "    vignette = 1 - 0.7 * (dist_from_center / dist_from_center.max())\n",
    "    for i in range(3):\n",
    "        bg[..., i] = np.clip(bg[..., i] * vignette, 0, 255)\n",
    "    # Camera noise\n",
    "    noise = np.random.normal(0, 20, (img_size, img_size, 3))\n",
    "    bg = np.clip(bg + noise, 0, 255).astype(np.uint8)\n",
    "    # Occasionally camera \"overexpose\" (white blowout) somewhere\n",
    "    if random.random() < 0.08:\n",
    "        x0, y0 = random.randint(0, img_size-70), random.randint(0, img_size-70)\n",
    "        w, h = random.randint(30, 80), random.randint(30, 80)\n",
    "        overlay = bg.copy()\n",
    "        cv2.rectangle(overlay, (x0, y0), (x0+w, y0+h), (255,255,255), -1)\n",
    "        alpha = random.uniform(0.4, 0.8)\n",
    "        bg = cv2.addWeighted(overlay, alpha, bg, 1-alpha, 0)\n",
    "    return bg\n",
    "\n",
    "def apply_brightness_contrast(img):\n",
    "    img = Image.fromarray(img)\n",
    "    img = ImageEnhance.Brightness(img).enhance(random.uniform(0.55, 1.5))\n",
    "    img = ImageEnhance.Contrast(img).enhance(random.uniform(0.5, 1.6))\n",
    "    return np.array(img)\n",
    "\n",
    "def apply_motion_blur(image, size=5, angle=0):\n",
    "    kernel = np.zeros((size, size))\n",
    "    kernel[int((size - 1) / 2), :] = np.ones(size)\n",
    "    M = cv2.getRotationMatrix2D((size / 2 - 0.5, size / 2 - 0.5), angle, 1.0)\n",
    "    kernel = cv2.warpAffine(kernel, M, (size, size))\n",
    "    kernel /= np.sum(kernel)\n",
    "    return cv2.filter2D(image, -1, kernel)\n",
    "\n",
    "def apply_blur(img):\n",
    "    if random.random() < blur_prob:\n",
    "        ksize = random.choice([5, 7, 9])\n",
    "        img = cv2.GaussianBlur(img, (ksize, ksize), 0)\n",
    "        if random.random() < 0.5:\n",
    "            size = random.choice([7, 9, 15])\n",
    "            angle = random.randint(0, 180)\n",
    "            img = apply_motion_blur(img, size=size, angle=angle)\n",
    "    return img\n",
    "\n",
    "def add_tape_reflection(img, pts):\n",
    "    # Strong white tape glare simulation\n",
    "    if random.random() < 0.37:\n",
    "        x_min, y_min = np.min(pts, axis=0)\n",
    "        x_max, y_max = np.max(pts, axis=0)\n",
    "        box_w, box_h = x_max - x_min, y_max - y_min\n",
    "        tape_w = int(box_w * random.uniform(0.13, 0.5))\n",
    "        tape_h = int(box_h * random.uniform(0.06, 0.23))\n",
    "        angle = random.uniform(-40, 40)\n",
    "        center = (\n",
    "            int((x_min + x_max) / 2 + random.uniform(-0.18, 0.18) * box_w),\n",
    "            int((y_min + y_max) / 2 + random.uniform(-0.18, 0.18) * box_h)\n",
    "        )\n",
    "        tape = np.zeros_like(img)\n",
    "        rect = (\n",
    "            (center[0], center[1]),\n",
    "            (tape_w, tape_h),\n",
    "            angle\n",
    "        )\n",
    "        box = cv2.boxPoints(rect).astype(int)\n",
    "        cv2.fillConvexPoly(tape, box, (255, 255, 255))\n",
    "        tape = cv2.GaussianBlur(tape, (17, 17), 0)\n",
    "        alpha = random.uniform(0.58, 0.92)\n",
    "        mask = (tape > 0).astype(np.float32)\n",
    "        img = np.clip(img * (1 - mask * alpha) + tape * alpha, 0, 255).astype(np.uint8)\n",
    "    # Even more extreme: sometimes blow out whole square to nearly white\n",
    "    if random.random() < 0.06:\n",
    "        cv2.fillConvexPoly(img, pts, (255, 255, 255))\n",
    "        img = cv2.GaussianBlur(img, (13, 13), 0)\n",
    "    return img\n",
    "\n",
    "def draw_square(img, cname, classid):\n",
    "    bgr = colors[cname][0]\n",
    "    size = random.randint(35, 95)\n",
    "    cx, cy = random.randint(50, 170), random.randint(50, 170)\n",
    "    x_squeeze = random.uniform(0.82, 1.0)\n",
    "    y_squeeze = random.uniform(0.82, 1.0)\n",
    "    half = size / 2\n",
    "    # --- Rounded corners ---\n",
    "    radius = int(size * random.uniform(0.07, 0.22)) if random.random() < 0.7 else 0\n",
    "    pts = np.array([\n",
    "        [-half * x_squeeze, -half * y_squeeze],\n",
    "        [half * x_squeeze, -half * y_squeeze],\n",
    "        [half, half],\n",
    "        [-half, half]\n",
    "    ], dtype=np.float32)\n",
    "    if random.random() < 0.6:\n",
    "        shear = random.uniform(-0.19, 0.19)\n",
    "        pts = np.dot(pts, np.array([[1, shear], [0, 1]]))\n",
    "    pts += np.array([cx, cy])\n",
    "    pts = pts.astype(np.int32)\n",
    "    # Draw rounded or regular square\n",
    "    if radius > 0:\n",
    "        rect = cv2.boundingRect(pts)\n",
    "        mask = np.zeros(img.shape, dtype=np.uint8)\n",
    "        x, y, w, h = rect\n",
    "        cv2.rectangle(mask, (x, y), (x+w, y+h), bgr, -1)\n",
    "        mask = cv2.cvtColor(mask, cv2.COLOR_BGR2GRAY)\n",
    "        mask = cv2.blur(mask, (radius*2+1, radius*2+1))\n",
    "        shape = np.zeros(img.shape, dtype=np.uint8)\n",
    "        cv2.fillConvexPoly(shape, pts, (255,255,255))\n",
    "        mask = cv2.bitwise_and(mask, cv2.cvtColor(shape, cv2.COLOR_BGR2GRAY))\n",
    "        mask = cv2.cvtColor(mask, cv2.COLOR_GRAY2BGR)\n",
    "        img = np.where(mask > 0, np.array(bgr, dtype=np.uint8), img)\n",
    "    else:\n",
    "        cv2.fillConvexPoly(img, pts, bgr)\n",
    "    img = add_tape_reflection(img, pts)\n",
    "    x_min, y_min = np.min(pts, axis=0)\n",
    "    x_max, y_max = np.max(pts, axis=0)\n",
    "    xc = ((x_min + x_max) / 2) / img_size\n",
    "    yc = ((y_min + y_max) / 2) / img_size\n",
    "    w = (x_max - x_min) / img_size\n",
    "    h = (y_max - y_min) / img_size\n",
    "    return f\"{classid} {xc:.6f} {yc:.6f} {w:.6f} {h:.6f}\"\n",
    "\n",
    "def add_occlusion(img):\n",
    "    if random.random() < 0.18:\n",
    "        x1, y1 = random.randint(0, img_size-40), random.randint(0, img_size-40)\n",
    "        w, h = random.randint(15, 45), random.randint(15, 45)\n",
    "        color = tuple(int(x) for x in sample_clutter_color())\n",
    "        alpha = random.uniform(0.40, 0.9)\n",
    "        overlay = img.copy()\n",
    "        cv2.rectangle(overlay, (x1, y1), (x1 + w, y1 + h), color, -1)\n",
    "        img = cv2.addWeighted(overlay, alpha, img, 1 - alpha, 0)\n",
    "    return img\n",
    "\n",
    "print(\"Generating EXTREME synthetic dataset...\")\n",
    "for i in tqdm(range(total_images)):\n",
    "    img = make_background()\n",
    "    label_lines = []\n",
    "    for cname in random.sample(list(colors.keys()), random.randint(min_squares, max_squares)):\n",
    "        label = draw_square(img, cname, colors[cname][1])\n",
    "        label_lines.append(label)\n",
    "    img = apply_brightness_contrast(img)\n",
    "    img = apply_blur(img)\n",
    "    img = add_occlusion(img)\n",
    "    # Final global whiteout flare (simulate sun/flash)\n",
    "    if random.random() < 0.04:\n",
    "        mask = np.zeros((img_size, img_size, 3), dtype=np.uint8)\n",
    "        x, y = random.randint(40, img_size-40), random.randint(40, img_size-40)\n",
    "        cv2.circle(mask, (x, y), random.randint(25, 60), (255,255,255), -1)\n",
    "        mask = cv2.GaussianBlur(mask, (21, 21), 0)\n",
    "        alpha = random.uniform(0.3, 0.7)\n",
    "        img = np.clip(img * (1-alpha) + mask * alpha, 0, 255).astype(np.uint8)\n",
    "    fname = f\"extreme_{i:05d}.jpg\"\n",
    "    cv2.imwrite(os.path.join(img_dir, fname), img)\n",
    "    with open(os.path.join(lbl_dir, fname.replace(\".jpg\", \".txt\")), \"w\") as f:\n",
    "        f.write(\"\\n\".join(label_lines))\n",
    "print(\"✅ Done! Extreme dataset saved to:\", output_dir)\n"
   ]
  },
  {
   "cell_type": "markdown",
   "id": "9519dfad",
   "metadata": {},
   "source": [
    "### Extreme Noise debugging Dataset generator\n"
   ]
  },
  {
   "cell_type": "code",
   "execution_count": 6,
   "id": "eb565bc5",
   "metadata": {},
   "outputs": [
    {
     "name": "stdout",
     "output_type": "stream",
     "text": [
      "Generating EXTREME set (every square boxed)…\n"
     ]
    },
    {
     "name": "stderr",
     "output_type": "stream",
     "text": [
      "100%|██████████| 10000/10000 [42:09<00:00,  3.95it/s] "
     ]
    },
    {
     "name": "stdout",
     "output_type": "stream",
     "text": [
      "✅  Finished.  Data saved under: synthetic_squares_extreme_fullbox\n"
     ]
    },
    {
     "name": "stderr",
     "output_type": "stream",
     "text": [
      "\n"
     ]
    }
   ],
   "source": [
    "#!/usr/bin/env python3\n",
    "# -*- coding: utf-8 -*-\n",
    "\n",
    "\"\"\"\n",
    "EXTREME synthetic square generator (every rectangle boxed)\n",
    "----------------------------------------------------------\n",
    " • Creates training images + YOLO labels.\n",
    " • Makes debug images with perfectly aligned green boxes.\n",
    " • *No* square is skipped – every one receives a box.\n",
    "\"\"\"\n",
    "\n",
    "import os, cv2, random, numpy as np\n",
    "from PIL import Image, ImageEnhance\n",
    "from tqdm import tqdm\n",
    "\n",
    "# ──────────────────────────────  OUTPUT FOLDERS  ──────────────────────────────\n",
    "out_root = \"synthetic_squares_extreme_fullbox\"\n",
    "img_dir  = os.path.join(out_root, \"images\")       # training images\n",
    "lbl_dir  = os.path.join(out_root, \"labels\")       # YOLO txt files\n",
    "vis_dir  = os.path.join(out_root, \"images_vis\")   # debug images\n",
    "for d in (img_dir, lbl_dir, vis_dir):\n",
    "    os.makedirs(d, exist_ok=True)\n",
    "\n",
    "# ───────────────────────────────  PARAMETERS  ────────────────────────────────\n",
    "img_size      = 224\n",
    "N_IMAGES      = 10_000\n",
    "MIN_SQUARES   = 1\n",
    "MAX_SQUARES   = 3\n",
    "BLUR_PROB     = 0.70\n",
    "\n",
    "colors = {                     #  BGR  , class-id\n",
    "    \"blue\"  : ((255,  30,  30), 0),\n",
    "    \"red\"   : (( 30,  30, 255), 1),\n",
    "    \"orange\": ((  0, 165, 255), 2),\n",
    "    \"yellow\": ((  0, 255, 255), 3),\n",
    "    \"purple\": ((200,  80, 200), 4),\n",
    "    \"brown\" : ((139,  69,  19), 5),\n",
    "    \"gray\"  : ((128, 128, 128), 6),\n",
    "    \"black\" : ((  0,   0,   0), 7),\n",
    "    \"pink\"  : ((240, 110, 180), 8),\n",
    "    \"white\" : ((255, 255, 255), 9),\n",
    "    \"green\" : (( 65, 180,  80),10),\n",
    "}\n",
    "\n",
    "# distractor colours never used for target squares\n",
    "CLUTTER_RGBS, CLUTTER_PROBS = zip(*[\n",
    "    ((  0,255,255),0.07),((255, 20,147),0.06),((100,149,237),0.08),\n",
    "    (( 34,139, 34),0.06),((255,215,  0),0.07),((255,140,  0),0.08),\n",
    "    ((  0,206,209),0.07),((186, 85,211),0.05),((255,  0,255),0.07),\n",
    "    (( 70,130,180),0.07),((173,255, 47),0.08),((205,133, 63),0.07)\n",
    "])\n",
    "rand_colour = lambda: random.choices(CLUTTER_RGBS, CLUTTER_PROBS, k=1)[0]\n",
    "\n",
    "# ─────────────────────────────── UTILITIES ───────────────────────────────────\n",
    "def make_background():\n",
    "    bg = np.full((img_size,img_size,3), random.randint(100,200), np.uint8)\n",
    "\n",
    "    # ––– gradients –––\n",
    "    for _ in range(random.randint(1,3)):\n",
    "        c1, c2 = map(np.float32, (rand_colour(), rand_colour()))\n",
    "        grad   = np.zeros_like(bg, np.float32)\n",
    "        mode   = random.choice((\"hor\",\"ver\",\"d1\",\"d2\"))\n",
    "        for y in range(img_size):\n",
    "            for x in range(img_size):\n",
    "                a = (\n",
    "                    x/img_size             if mode==\"hor\" else\n",
    "                    y/img_size             if mode==\"ver\" else\n",
    "                    (x+y)/(2*img_size)     if mode==\"d1\" else\n",
    "                    abs(x-y)/img_size\n",
    "                )\n",
    "                grad[y,x] = (1-a)*c1 + a*c2\n",
    "        bg = cv2.addWeighted(bg,0.7, grad.astype(np.uint8),0.3,0)\n",
    "\n",
    "    # ––– clutter –––\n",
    "    for _ in range(random.randint(8,25)):\n",
    "        cv2.circle(bg,(random.randint(0,img_size),random.randint(0,img_size)),\n",
    "                   random.randint(10,50), rand_colour(), -1)\n",
    "    for _ in range(random.randint(5,20)):\n",
    "        cv2.line(bg,(random.randint(0,img_size),random.randint(0,img_size)),\n",
    "                 (random.randint(0,img_size),random.randint(0,img_size)),\n",
    "                 rand_colour(), random.choice((1,2,3)))\n",
    "    for _ in range(random.randint(6,12)):\n",
    "        tl = (random.randint(0,img_size-30), random.randint(0,img_size-30))\n",
    "        w,h = random.randint(10,60), random.randint(10,60)\n",
    "        cv2.rectangle(bg, tl, (tl[0]+w,tl[1]+h), rand_colour(), -1)\n",
    "\n",
    "    # vignette + noise\n",
    "    Y,X = np.ogrid[:img_size,:img_size]\n",
    "    vign = 1 - 0.7*np.sqrt((X-img_size/2)**2 + (Y-img_size/2)**2)/(np.sqrt(2)*img_size/2)\n",
    "    bg   = np.clip(bg*vign[...,None],0,255).astype(np.uint8)\n",
    "    bg   = np.clip(bg + np.random.normal(0,20,(img_size,img_size,3)),0,255).astype(np.uint8)\n",
    "    return bg\n",
    "\n",
    "def apply_brightness_contrast(im):\n",
    "    pil = Image.fromarray(im)\n",
    "    pil = ImageEnhance.Brightness(pil).enhance(random.uniform(0.55,1.5))\n",
    "    pil = ImageEnhance.Contrast (pil).enhance(random.uniform(0.5 ,1.6))\n",
    "    return np.array(pil)\n",
    "\n",
    "def apply_blur(im):\n",
    "    if random.random() < BLUR_PROB:\n",
    "        im = cv2.GaussianBlur(im, (random.choice((5,7,9)),)*2, 0)\n",
    "        if random.random() < 0.5:                     # optional motion blur\n",
    "            k = random.choice((7,9,15)); ang = random.randint(0,180)\n",
    "            ker = np.zeros((k,k)); ker[k//2]=1\n",
    "            M   = cv2.getRotationMatrix2D((k/2-0.5,k/2-0.5),ang,1)\n",
    "            ker = cv2.warpAffine(ker,M,(k,k)); ker /= ker.sum()\n",
    "            im  = cv2.filter2D(im,-1,ker)\n",
    "    return im\n",
    "\n",
    "# ───────────────────────────  DRAW ONE SQUARE  ──────────────────────────────\n",
    "def draw_square(canvas, colour_name):\n",
    "    \"\"\"Draw square with random squeeze & shear. Return YOLO label + bbox.\"\"\"\n",
    "    bgr, class_id = colors[colour_name]\n",
    "    size          = random.randint(35,95)\n",
    "    cx,cy         = random.randint(50,170), random.randint(50,170)\n",
    "    xs,ys         = random.uniform(0.82,1.0), random.uniform(0.82,1.0)\n",
    "    hlf           = size/2\n",
    "\n",
    "    pts = np.array([\n",
    "        [-hlf*xs,-hlf*ys], [ hlf*xs,-hlf*ys],\n",
    "        [ hlf    , hlf   ], [-hlf   , hlf   ]\n",
    "    ], np.float32)\n",
    "\n",
    "    if random.random()<0.6:\n",
    "        shear = random.uniform(-0.19,0.19)\n",
    "        pts   = pts @ np.array([[1,shear],[0,1]])\n",
    "\n",
    "    pts += (cx,cy); pts = pts.astype(np.int32)\n",
    "    cv2.fillConvexPoly(canvas, pts, bgr)\n",
    "\n",
    "    x,y,w,h = cv2.boundingRect(pts)\n",
    "    xc,yc   = (x+w/2)/img_size, (y+h/2)/img_size\n",
    "    label   = f\"{class_id} {xc:.6f} {yc:.6f} {w/img_size:.6f} {h/img_size:.6f}\"\n",
    "    return label, (x,y,x+w,y+h)\n",
    "\n",
    "# ───────────────────────────────  MAIN LOOP  ────────────────────────────────\n",
    "print(\"Generating EXTREME set (every square boxed)…\")\n",
    "for i in tqdm(range(N_IMAGES)):\n",
    "    img   = make_background()\n",
    "    lines = []          # YOLO txt lines\n",
    "    boxes = []          # (x1,y1,x2,y2,class_id) for debug-draw\n",
    "\n",
    "    for cname in random.sample(list(colors), random.randint(MIN_SQUARES,MAX_SQUARES)):\n",
    "        lbl, (x1,y1,x2,y2) = draw_square(img, cname)\n",
    "        lines.append(lbl)\n",
    "        boxes.append((x1,y1,x2,y2,lbl.split()[0]))\n",
    "\n",
    "    # pixel-only augmentations\n",
    "    img = apply_brightness_contrast(img)\n",
    "    img = apply_blur(img)\n",
    "\n",
    "    # copy for visualisation AFTER augmentations\n",
    "    vis = img.copy()\n",
    "    for x1,y1,x2,y2,cid in boxes:\n",
    "        cv2.rectangle(vis,(x1,y1),(x2,y2),(0,255,0),2)\n",
    "        cv2.putText(vis,cid,(x1,max(0,y1-4)),\n",
    "                    cv2.FONT_HERSHEY_SIMPLEX,0.4,(0,255,0),1,cv2.LINE_AA)\n",
    "\n",
    "    name = f\"extreme_{i:05d}.jpg\"\n",
    "    cv2.imwrite(os.path.join(img_dir ,name), img)\n",
    "    cv2.imwrite(os.path.join(vis_dir,name), vis)\n",
    "    with open(os.path.join(lbl_dir,name.replace(\".jpg\",\".txt\")),'w') as f:\n",
    "        f.write(\"\\n\".join(lines))\n",
    "\n",
    "print(\"✅  Finished.  Data saved under:\", out_root)\n"
   ]
  },
  {
   "cell_type": "code",
   "execution_count": 7,
   "id": "8af455f8",
   "metadata": {},
   "outputs": [
    {
     "name": "stdout",
     "output_type": "stream",
     "text": [
      "Split 10000 images into 8500 train and 1500 val.\n",
      "YAML config written to C:\\Users\\fredr\\BTH\\Robotik Project\\Robotics\\21MajFiles\\apa\\synthetic_squares_extreme_fullbox\\synthetic_extreme.yaml\n"
     ]
    }
   ],
   "source": [
    "import os\n",
    "import shutil\n",
    "import random\n",
    "\n",
    "# === CONFIG ===\n",
    "root = r\"C:\\Users\\fredr\\BTH\\Robotik Project\\Robotics\\21MajFiles\\apa\\synthetic_squares_extreme_fullbox\"\n",
    "img_folder = os.path.join(root, \"images\")\n",
    "lbl_folder = os.path.join(root, \"labels\")\n",
    "train_ratio = 0.85  # 85% train, 15% val\n",
    "\n",
    "# === Ensure output folders exist ===\n",
    "def ensure_dir(path):\n",
    "    if not os.path.exists(path):\n",
    "        os.makedirs(path)\n",
    "\n",
    "for split in ['train', 'val']:\n",
    "    ensure_dir(os.path.join(img_folder, split))\n",
    "    ensure_dir(os.path.join(lbl_folder, split))\n",
    "\n",
    "# === List all image files ===\n",
    "all_imgs = [f for f in os.listdir(img_folder) if f.lower().endswith(('.jpg','.jpeg','.png'))]\n",
    "random.shuffle(all_imgs)\n",
    "\n",
    "split_idx = int(len(all_imgs) * train_ratio)\n",
    "train_imgs = all_imgs[:split_idx]\n",
    "val_imgs = all_imgs[split_idx:]\n",
    "\n",
    "def move_split(imgs, split):\n",
    "    for fname in imgs:\n",
    "        src_img = os.path.join(img_folder, fname)\n",
    "        dst_img = os.path.join(img_folder, split, fname)\n",
    "        shutil.move(src_img, dst_img)\n",
    "        lbl_name = os.path.splitext(fname)[0] + '.txt'\n",
    "        src_lbl = os.path.join(lbl_folder, lbl_name)\n",
    "        dst_lbl = os.path.join(lbl_folder, split, lbl_name)\n",
    "        if os.path.exists(src_lbl):\n",
    "            shutil.move(src_lbl, dst_lbl)\n",
    "        else:\n",
    "            print(f\"Warning: missing label for {fname}\")\n",
    "\n",
    "move_split(train_imgs, 'train')\n",
    "move_split(val_imgs, 'val')\n",
    "\n",
    "print(f\"Split {len(all_imgs)} images into {len(train_imgs)} train and {len(val_imgs)} val.\")\n",
    "\n",
    "# === Write YOLOv8 YAML config ===\n",
    "yaml_text = f\"\"\"\n",
    "train: {img_folder.replace(os.sep, '/')}/train\n",
    "val: {img_folder.replace(os.sep, '/')}/val\n",
    "nc: 11\n",
    "names: [\"blue\", \"red\", \"orange\", \"yellow\", \"purple\", \"brown\", \"gray\", \"black\", \"pink\", \"white\", \"green\"]\n",
    "\"\"\"\n",
    "\n",
    "yaml_path = os.path.join(root, \"synthetic_extreme.yaml\")\n",
    "with open(yaml_path, \"w\") as f:\n",
    "    f.write(yaml_text.strip())\n",
    "\n",
    "print(f\"YAML config written to {yaml_path}\")\n",
    "\n",
    "# === READY for YOLOv8 training! ===\n"
   ]
  },
  {
   "cell_type": "code",
   "execution_count": null,
   "id": "bcfd792f",
   "metadata": {},
   "outputs": [
    {
     "name": "stdout",
     "output_type": "stream",
     "text": [
      "Ultralytics 8.3.141  Python-3.9.18 torch-2.5.1+cu121 CUDA:0 (NVIDIA GeForce RTX 3070 Ti, 8192MiB)\n",
      "\u001b[34m\u001b[1mengine\\trainer: \u001b[0magnostic_nms=False, amp=True, augment=False, auto_augment=randaugment, batch=24, bgr=0.0, box=7.5, cache=False, cfg=None, classes=None, close_mosaic=10, cls=0.5, conf=None, copy_paste=0.0, copy_paste_mode=flip, cos_lr=False, cutmix=0.0, data=C:\\Users\\fredr\\BTH\\Robotik Project\\Robotics\\21MajFiles\\apa\\synthetic_squares_extreme\\synthetic_extreme.yaml, degrees=0.0, deterministic=True, device=0, dfl=1.5, dnn=False, dropout=0.0, dynamic=False, embed=None, epochs=200, erasing=0.4, exist_ok=False, fliplr=0.5, flipud=0.0, format=torchscript, fraction=1.0, freeze=None, half=False, hsv_h=0.015, hsv_s=0.7, hsv_v=0.4, imgsz=224, int8=False, iou=0.7, keras=False, kobj=1.0, line_width=None, lr0=0.01, lrf=0.01, mask_ratio=4, max_det=300, mixup=0.0, mode=train, model=yolov8n.pt, momentum=0.937, mosaic=1.0, multi_scale=False, name=synthetic_extreme2, nbs=64, nms=False, opset=None, optimize=False, optimizer=auto, overlap_mask=True, patience=30, perspective=0.0, plots=True, pose=12.0, pretrained=True, profile=False, project=runs, rect=False, resume=False, retina_masks=False, save=True, save_conf=False, save_crop=False, save_dir=runs\\synthetic_extreme2, save_frames=False, save_json=False, save_period=-1, save_txt=False, scale=0.5, seed=0, shear=0.0, show=False, show_boxes=True, show_conf=True, show_labels=True, simplify=True, single_cls=False, source=None, split=val, stream_buffer=False, task=detect, time=None, tracker=botsort.yaml, translate=0.1, val=True, verbose=True, vid_stride=1, visualize=False, warmup_bias_lr=0.1, warmup_epochs=3.0, warmup_momentum=0.8, weight_decay=0.0005, workers=8, workspace=None\n",
      "Overriding model.yaml nc=80 with nc=11\n",
      "\n",
      "                   from  n    params  module                                       arguments                     \n",
      "  0                  -1  1       464  ultralytics.nn.modules.conv.Conv             [3, 16, 3, 2]                 \n",
      "  1                  -1  1      4672  ultralytics.nn.modules.conv.Conv             [16, 32, 3, 2]                \n",
      "  2                  -1  1      7360  ultralytics.nn.modules.block.C2f             [32, 32, 1, True]             \n",
      "  3                  -1  1     18560  ultralytics.nn.modules.conv.Conv             [32, 64, 3, 2]                \n",
      "  4                  -1  2     49664  ultralytics.nn.modules.block.C2f             [64, 64, 2, True]             \n",
      "  5                  -1  1     73984  ultralytics.nn.modules.conv.Conv             [64, 128, 3, 2]               \n",
      "  6                  -1  2    197632  ultralytics.nn.modules.block.C2f             [128, 128, 2, True]           \n",
      "  7                  -1  1    295424  ultralytics.nn.modules.conv.Conv             [128, 256, 3, 2]              \n",
      "  8                  -1  1    460288  ultralytics.nn.modules.block.C2f             [256, 256, 1, True]           \n",
      "  9                  -1  1    164608  ultralytics.nn.modules.block.SPPF            [256, 256, 5]                 \n",
      " 10                  -1  1         0  torch.nn.modules.upsampling.Upsample         [None, 2, 'nearest']          \n",
      " 11             [-1, 6]  1         0  ultralytics.nn.modules.conv.Concat           [1]                           \n",
      " 12                  -1  1    148224  ultralytics.nn.modules.block.C2f             [384, 128, 1]                 \n",
      " 13                  -1  1         0  torch.nn.modules.upsampling.Upsample         [None, 2, 'nearest']          \n",
      " 14             [-1, 4]  1         0  ultralytics.nn.modules.conv.Concat           [1]                           \n",
      " 15                  -1  1     37248  ultralytics.nn.modules.block.C2f             [192, 64, 1]                  \n",
      " 16                  -1  1     36992  ultralytics.nn.modules.conv.Conv             [64, 64, 3, 2]                \n",
      " 17            [-1, 12]  1         0  ultralytics.nn.modules.conv.Concat           [1]                           \n",
      " 18                  -1  1    123648  ultralytics.nn.modules.block.C2f             [192, 128, 1]                 \n",
      " 19                  -1  1    147712  ultralytics.nn.modules.conv.Conv             [128, 128, 3, 2]              \n",
      " 20             [-1, 9]  1         0  ultralytics.nn.modules.conv.Concat           [1]                           \n",
      " 21                  -1  1    493056  ultralytics.nn.modules.block.C2f             [384, 256, 1]                 \n",
      " 22        [15, 18, 21]  1    753457  ultralytics.nn.modules.head.Detect           [11, [64, 128, 256]]          \n",
      "Model summary: 129 layers, 3,012,993 parameters, 3,012,977 gradients, 8.2 GFLOPs\n",
      "\n",
      "Transferred 319/355 items from pretrained weights\n",
      "Freezing layer 'model.22.dfl.conv.weight'\n",
      "\u001b[34m\u001b[1mAMP: \u001b[0mrunning Automatic Mixed Precision (AMP) checks...\n",
      "Downloading https://github.com/ultralytics/assets/releases/download/v8.3.0/yolo11n.pt to 'yolo11n.pt'...\n"
     ]
    },
    {
     "name": "stderr",
     "output_type": "stream",
     "text": [
      "100%|██████████| 5.35M/5.35M [00:00<00:00, 8.25MB/s]\n"
     ]
    },
    {
     "name": "stdout",
     "output_type": "stream",
     "text": [
      "\u001b[34m\u001b[1mAMP: \u001b[0mchecks passed \n",
      "\u001b[34m\u001b[1mtrain: \u001b[0mFast image access  (ping: 0.10.0 ms, read: 52.127.1 MB/s, size: 19.3 KB)\n"
     ]
    },
    {
     "name": "stderr",
     "output_type": "stream",
     "text": [
      "\u001b[34m\u001b[1mtrain: \u001b[0mScanning C:\\Users\\fredr\\BTH\\Robotik Project\\Robotics\\21MajFiles\\apa\\synthetic_squares_extreme\\labels\\train.cache... 8500 images, 0 backgrounds, 0 corrupt: 100%|██████████| 8500/8500 [00:00<?, ?it/s]\n"
     ]
    },
    {
     "name": "stdout",
     "output_type": "stream",
     "text": [
      "\u001b[34m\u001b[1mval: \u001b[0mFast image access  (ping: 0.10.0 ms, read: 42.316.9 MB/s, size: 14.8 KB)\n"
     ]
    },
    {
     "name": "stderr",
     "output_type": "stream",
     "text": [
      "\u001b[34m\u001b[1mval: \u001b[0mScanning C:\\Users\\fredr\\BTH\\Robotik Project\\Robotics\\21MajFiles\\apa\\synthetic_squares_extreme\\labels\\val.cache... 1500 images, 0 backgrounds, 0 corrupt: 100%|██████████| 1500/1500 [00:00<?, ?it/s]\n"
     ]
    },
    {
     "name": "stdout",
     "output_type": "stream",
     "text": [
      "Plotting labels to runs\\synthetic_extreme2\\labels.jpg... \n",
      "\u001b[34m\u001b[1moptimizer:\u001b[0m 'optimizer=auto' found, ignoring 'lr0=0.01' and 'momentum=0.937' and determining best 'optimizer', 'lr0' and 'momentum' automatically... \n",
      "\u001b[34m\u001b[1moptimizer:\u001b[0m SGD(lr=0.01, momentum=0.9) with parameter groups 57 weight(decay=0.0), 64 weight(decay=0.0005625000000000001), 63 bias(decay=0.0)\n",
      "Image sizes 224 train, 224 val\n",
      "Using 8 dataloader workers\n",
      "Logging results to \u001b[1mruns\\synthetic_extreme2\u001b[0m\n",
      "Starting training for 200 epochs...\n",
      "\n",
      "      Epoch    GPU_mem   box_loss   cls_loss   dfl_loss  Instances       Size\n"
     ]
    },
    {
     "name": "stderr",
     "output_type": "stream",
     "text": [
      "      1/200     0.434G       1.89      3.982      1.627         11        224: 100%|██████████| 355/355 [00:24<00:00, 14.77it/s]\n",
      "                 Class     Images  Instances      Box(P          R      mAP50  mAP50-95): 100%|██████████| 32/32 [00:04<00:00,  7.72it/s]"
     ]
    },
    {
     "name": "stdout",
     "output_type": "stream",
     "text": [
      "                   all       1500       3035      0.249      0.182      0.105      0.089\n"
     ]
    },
    {
     "name": "stderr",
     "output_type": "stream",
     "text": [
      "\n"
     ]
    },
    {
     "name": "stdout",
     "output_type": "stream",
     "text": [
      "\n",
      "      Epoch    GPU_mem   box_loss   cls_loss   dfl_loss  Instances       Size\n"
     ]
    },
    {
     "name": "stderr",
     "output_type": "stream",
     "text": [
      "      2/200     0.492G      1.719        2.9      1.447         19        224: 100%|██████████| 355/355 [00:20<00:00, 17.39it/s]\n",
      "                 Class     Images  Instances      Box(P          R      mAP50  mAP50-95): 100%|██████████| 32/32 [00:05<00:00,  6.28it/s]\n"
     ]
    },
    {
     "name": "stdout",
     "output_type": "stream",
     "text": [
      "                   all       1500       3035      0.401      0.199      0.182      0.149\n",
      "\n",
      "      Epoch    GPU_mem   box_loss   cls_loss   dfl_loss  Instances       Size\n"
     ]
    },
    {
     "name": "stderr",
     "output_type": "stream",
     "text": [
      "      3/200     0.498G      1.684      2.702      1.429         10        224: 100%|██████████| 355/355 [00:21<00:00, 16.54it/s]\n",
      "                 Class     Images  Instances      Box(P          R      mAP50  mAP50-95): 100%|██████████| 32/32 [00:05<00:00,  6.27it/s]\n"
     ]
    },
    {
     "name": "stdout",
     "output_type": "stream",
     "text": [
      "                   all       1500       3035      0.556      0.249      0.232      0.192\n",
      "\n",
      "      Epoch    GPU_mem   box_loss   cls_loss   dfl_loss  Instances       Size\n"
     ]
    },
    {
     "name": "stderr",
     "output_type": "stream",
     "text": [
      "      4/200     0.498G      1.669      2.628      1.411         10        224: 100%|██████████| 355/355 [00:20<00:00, 17.18it/s]\n",
      "                 Class     Images  Instances      Box(P          R      mAP50  mAP50-95): 100%|██████████| 32/32 [00:04<00:00,  6.48it/s]\n"
     ]
    },
    {
     "name": "stdout",
     "output_type": "stream",
     "text": [
      "                   all       1500       3035      0.607      0.261      0.247      0.209\n",
      "\n",
      "      Epoch    GPU_mem   box_loss   cls_loss   dfl_loss  Instances       Size\n"
     ]
    },
    {
     "name": "stderr",
     "output_type": "stream",
     "text": [
      "      5/200     0.498G       1.61      2.528      1.382         19        224: 100%|██████████| 355/355 [00:20<00:00, 17.44it/s]\n",
      "                 Class     Images  Instances      Box(P          R      mAP50  mAP50-95): 100%|██████████| 32/32 [00:04<00:00,  7.05it/s]\n"
     ]
    },
    {
     "name": "stdout",
     "output_type": "stream",
     "text": [
      "                   all       1500       3035      0.739      0.271      0.272      0.238\n",
      "\n",
      "      Epoch    GPU_mem   box_loss   cls_loss   dfl_loss  Instances       Size\n"
     ]
    },
    {
     "name": "stderr",
     "output_type": "stream",
     "text": [
      "      6/200     0.498G      1.568      2.455      1.366          9        224: 100%|██████████| 355/355 [00:19<00:00, 17.82it/s]\n",
      "                 Class     Images  Instances      Box(P          R      mAP50  mAP50-95): 100%|██████████| 32/32 [00:05<00:00,  6.31it/s]\n"
     ]
    },
    {
     "name": "stdout",
     "output_type": "stream",
     "text": [
      "                   all       1500       3035      0.822      0.269      0.275      0.241\n",
      "\n",
      "      Epoch    GPU_mem   box_loss   cls_loss   dfl_loss  Instances       Size\n"
     ]
    },
    {
     "name": "stderr",
     "output_type": "stream",
     "text": [
      "      7/200     0.498G       1.55      2.447      1.363         15        224: 100%|██████████| 355/355 [00:20<00:00, 17.64it/s]\n",
      "                 Class     Images  Instances      Box(P          R      mAP50  mAP50-95): 100%|██████████| 32/32 [00:04<00:00,  6.52it/s]\n"
     ]
    },
    {
     "name": "stdout",
     "output_type": "stream",
     "text": [
      "                   all       1500       3035      0.659       0.27      0.261      0.231\n",
      "\n",
      "      Epoch    GPU_mem   box_loss   cls_loss   dfl_loss  Instances       Size\n"
     ]
    },
    {
     "name": "stderr",
     "output_type": "stream",
     "text": [
      "      8/200     0.498G      1.519      2.402      1.347         15        224: 100%|██████████| 355/355 [00:20<00:00, 17.48it/s]\n",
      "                 Class     Images  Instances      Box(P          R      mAP50  mAP50-95): 100%|██████████| 32/32 [00:04<00:00,  6.55it/s]"
     ]
    },
    {
     "name": "stdout",
     "output_type": "stream",
     "text": [
      "                   all       1500       3035      0.788       0.28      0.281       0.25\n"
     ]
    },
    {
     "name": "stderr",
     "output_type": "stream",
     "text": [
      "\n"
     ]
    },
    {
     "name": "stdout",
     "output_type": "stream",
     "text": [
      "\n",
      "      Epoch    GPU_mem   box_loss   cls_loss   dfl_loss  Instances       Size\n"
     ]
    },
    {
     "name": "stderr",
     "output_type": "stream",
     "text": [
      "      9/200     0.498G      1.511      2.396      1.344          7        224: 100%|██████████| 355/355 [00:20<00:00, 17.58it/s]\n",
      "                 Class     Images  Instances      Box(P          R      mAP50  mAP50-95): 100%|██████████| 32/32 [00:05<00:00,  6.04it/s]\n"
     ]
    },
    {
     "name": "stdout",
     "output_type": "stream",
     "text": [
      "                   all       1500       3035      0.831      0.269      0.277      0.246\n",
      "\n",
      "      Epoch    GPU_mem   box_loss   cls_loss   dfl_loss  Instances       Size\n"
     ]
    },
    {
     "name": "stderr",
     "output_type": "stream",
     "text": [
      "     10/200     0.498G      1.482      2.339      1.332         16        224: 100%|██████████| 355/355 [00:19<00:00, 18.18it/s]\n",
      "                 Class     Images  Instances      Box(P          R      mAP50  mAP50-95): 100%|██████████| 32/32 [00:04<00:00,  7.14it/s]"
     ]
    },
    {
     "name": "stdout",
     "output_type": "stream",
     "text": [
      "                   all       1500       3035      0.829      0.276      0.288      0.256\n"
     ]
    },
    {
     "name": "stderr",
     "output_type": "stream",
     "text": [
      "\n"
     ]
    },
    {
     "name": "stdout",
     "output_type": "stream",
     "text": [
      "\n",
      "      Epoch    GPU_mem   box_loss   cls_loss   dfl_loss  Instances       Size\n"
     ]
    },
    {
     "name": "stderr",
     "output_type": "stream",
     "text": [
      "     11/200     0.498G      1.473      2.332      1.326         22        224: 100%|██████████| 355/355 [00:18<00:00, 18.72it/s]\n",
      "                 Class     Images  Instances      Box(P          R      mAP50  mAP50-95): 100%|██████████| 32/32 [00:04<00:00,  7.06it/s]"
     ]
    },
    {
     "name": "stdout",
     "output_type": "stream",
     "text": [
      "                   all       1500       3035      0.804      0.284      0.287      0.261\n"
     ]
    },
    {
     "name": "stderr",
     "output_type": "stream",
     "text": [
      "\n"
     ]
    },
    {
     "name": "stdout",
     "output_type": "stream",
     "text": [
      "\n",
      "      Epoch    GPU_mem   box_loss   cls_loss   dfl_loss  Instances       Size\n"
     ]
    },
    {
     "name": "stderr",
     "output_type": "stream",
     "text": [
      "     12/200     0.498G      1.459      2.325      1.327         15        224: 100%|██████████| 355/355 [00:18<00:00, 18.85it/s]\n",
      "                 Class     Images  Instances      Box(P          R      mAP50  mAP50-95): 100%|██████████| 32/32 [00:04<00:00,  6.99it/s]"
     ]
    },
    {
     "name": "stdout",
     "output_type": "stream",
     "text": [
      "                   all       1500       3035      0.859      0.278      0.288       0.26\n"
     ]
    },
    {
     "name": "stderr",
     "output_type": "stream",
     "text": [
      "\n"
     ]
    },
    {
     "name": "stdout",
     "output_type": "stream",
     "text": [
      "\n",
      "      Epoch    GPU_mem   box_loss   cls_loss   dfl_loss  Instances       Size\n"
     ]
    },
    {
     "name": "stderr",
     "output_type": "stream",
     "text": [
      "     13/200     0.498G      1.449      2.297      1.319         16        224: 100%|██████████| 355/355 [00:18<00:00, 18.88it/s]\n",
      "                 Class     Images  Instances      Box(P          R      mAP50  mAP50-95): 100%|██████████| 32/32 [00:04<00:00,  7.07it/s]"
     ]
    },
    {
     "name": "stdout",
     "output_type": "stream",
     "text": [
      "                   all       1500       3035      0.845       0.28      0.285       0.26\n"
     ]
    },
    {
     "name": "stderr",
     "output_type": "stream",
     "text": [
      "\n"
     ]
    },
    {
     "name": "stdout",
     "output_type": "stream",
     "text": [
      "\n",
      "      Epoch    GPU_mem   box_loss   cls_loss   dfl_loss  Instances       Size\n"
     ]
    },
    {
     "name": "stderr",
     "output_type": "stream",
     "text": [
      "     14/200     0.498G      1.439      2.292      1.315         13        224: 100%|██████████| 355/355 [00:18<00:00, 18.74it/s]\n",
      "                 Class     Images  Instances      Box(P          R      mAP50  mAP50-95): 100%|██████████| 32/32 [00:04<00:00,  6.94it/s]"
     ]
    },
    {
     "name": "stdout",
     "output_type": "stream",
     "text": [
      "                   all       1500       3035       0.84      0.283      0.292      0.265\n"
     ]
    },
    {
     "name": "stderr",
     "output_type": "stream",
     "text": [
      "\n"
     ]
    },
    {
     "name": "stdout",
     "output_type": "stream",
     "text": [
      "\n",
      "      Epoch    GPU_mem   box_loss   cls_loss   dfl_loss  Instances       Size\n"
     ]
    },
    {
     "name": "stderr",
     "output_type": "stream",
     "text": [
      "     15/200     0.498G      1.429       2.27      1.314          7        224: 100%|██████████| 355/355 [00:18<00:00, 18.73it/s]\n",
      "                 Class     Images  Instances      Box(P          R      mAP50  mAP50-95): 100%|██████████| 32/32 [00:04<00:00,  7.10it/s]\n"
     ]
    },
    {
     "name": "stdout",
     "output_type": "stream",
     "text": [
      "                   all       1500       3035      0.867      0.282      0.292      0.266\n",
      "\n",
      "      Epoch    GPU_mem   box_loss   cls_loss   dfl_loss  Instances       Size\n"
     ]
    },
    {
     "name": "stderr",
     "output_type": "stream",
     "text": [
      "     16/200     0.498G      1.423      2.285      1.317         10        224: 100%|██████████| 355/355 [00:18<00:00, 18.83it/s]\n",
      "                 Class     Images  Instances      Box(P          R      mAP50  mAP50-95): 100%|██████████| 32/32 [00:03<00:00,  8.31it/s]\n"
     ]
    },
    {
     "name": "stdout",
     "output_type": "stream",
     "text": [
      "                   all       1500       3035        0.8      0.282      0.286      0.264\n",
      "\n",
      "      Epoch    GPU_mem   box_loss   cls_loss   dfl_loss  Instances       Size\n"
     ]
    },
    {
     "name": "stderr",
     "output_type": "stream",
     "text": [
      "     17/200     0.498G      1.412      2.258      1.311         11        224: 100%|██████████| 355/355 [00:18<00:00, 18.80it/s]\n",
      "                 Class     Images  Instances      Box(P          R      mAP50  mAP50-95): 100%|██████████| 32/32 [00:04<00:00,  6.88it/s]"
     ]
    },
    {
     "name": "stdout",
     "output_type": "stream",
     "text": [
      "                   all       1500       3035      0.813      0.284      0.289      0.267\n"
     ]
    },
    {
     "name": "stderr",
     "output_type": "stream",
     "text": [
      "\n"
     ]
    },
    {
     "name": "stdout",
     "output_type": "stream",
     "text": [
      "\n",
      "      Epoch    GPU_mem   box_loss   cls_loss   dfl_loss  Instances       Size\n"
     ]
    },
    {
     "name": "stderr",
     "output_type": "stream",
     "text": [
      "     18/200     0.498G      1.411       2.26       1.31         19        224: 100%|██████████| 355/355 [00:18<00:00, 19.16it/s]\n",
      "                 Class     Images  Instances      Box(P          R      mAP50  mAP50-95): 100%|██████████| 32/32 [00:04<00:00,  7.14it/s]"
     ]
    },
    {
     "name": "stdout",
     "output_type": "stream",
     "text": [
      "                   all       1500       3035      0.854      0.284      0.292      0.267\n"
     ]
    },
    {
     "name": "stderr",
     "output_type": "stream",
     "text": [
      "\n"
     ]
    },
    {
     "name": "stdout",
     "output_type": "stream",
     "text": [
      "\n",
      "      Epoch    GPU_mem   box_loss   cls_loss   dfl_loss  Instances       Size\n"
     ]
    },
    {
     "name": "stderr",
     "output_type": "stream",
     "text": [
      "     19/200     0.498G      1.412      2.268      1.313         19        224: 100%|██████████| 355/355 [00:18<00:00, 19.31it/s]\n",
      "                 Class     Images  Instances      Box(P          R      mAP50  mAP50-95): 100%|██████████| 32/32 [00:04<00:00,  7.26it/s]"
     ]
    },
    {
     "name": "stdout",
     "output_type": "stream",
     "text": [
      "                   all       1500       3035       0.87       0.28      0.291      0.266\n"
     ]
    },
    {
     "name": "stderr",
     "output_type": "stream",
     "text": [
      "\n"
     ]
    },
    {
     "name": "stdout",
     "output_type": "stream",
     "text": [
      "\n",
      "      Epoch    GPU_mem   box_loss   cls_loss   dfl_loss  Instances       Size\n"
     ]
    },
    {
     "name": "stderr",
     "output_type": "stream",
     "text": [
      "     20/200     0.498G      1.396      2.229      1.303         17        224: 100%|██████████| 355/355 [00:18<00:00, 19.35it/s]\n",
      "                 Class     Images  Instances      Box(P          R      mAP50  mAP50-95): 100%|██████████| 32/32 [00:04<00:00,  7.38it/s]"
     ]
    },
    {
     "name": "stdout",
     "output_type": "stream",
     "text": [
      "                   all       1500       3035      0.844      0.283      0.294      0.272\n"
     ]
    },
    {
     "name": "stderr",
     "output_type": "stream",
     "text": [
      "\n"
     ]
    },
    {
     "name": "stdout",
     "output_type": "stream",
     "text": [
      "\n",
      "      Epoch    GPU_mem   box_loss   cls_loss   dfl_loss  Instances       Size\n"
     ]
    },
    {
     "name": "stderr",
     "output_type": "stream",
     "text": [
      "     21/200     0.498G      1.389      2.228      1.299         16        224: 100%|██████████| 355/355 [00:18<00:00, 19.18it/s]\n",
      "                 Class     Images  Instances      Box(P          R      mAP50  mAP50-95): 100%|██████████| 32/32 [00:04<00:00,  7.18it/s]"
     ]
    },
    {
     "name": "stdout",
     "output_type": "stream",
     "text": [
      "                   all       1500       3035      0.889       0.28      0.292       0.27\n"
     ]
    },
    {
     "name": "stderr",
     "output_type": "stream",
     "text": [
      "\n"
     ]
    },
    {
     "name": "stdout",
     "output_type": "stream",
     "text": [
      "\n",
      "      Epoch    GPU_mem   box_loss   cls_loss   dfl_loss  Instances       Size\n"
     ]
    },
    {
     "name": "stderr",
     "output_type": "stream",
     "text": [
      "     22/200     0.498G      1.378      2.219      1.294          7        224: 100%|██████████| 355/355 [00:18<00:00, 19.32it/s]\n",
      "                 Class     Images  Instances      Box(P          R      mAP50  mAP50-95): 100%|██████████| 32/32 [00:04<00:00,  7.19it/s]\n"
     ]
    },
    {
     "name": "stdout",
     "output_type": "stream",
     "text": [
      "                   all       1500       3035      0.882      0.281      0.293       0.27\n",
      "\n",
      "      Epoch    GPU_mem   box_loss   cls_loss   dfl_loss  Instances       Size\n"
     ]
    },
    {
     "name": "stderr",
     "output_type": "stream",
     "text": [
      "     23/200     0.498G      1.381      2.205      1.294         13        224: 100%|██████████| 355/355 [00:18<00:00, 19.42it/s]\n",
      "                 Class     Images  Instances      Box(P          R      mAP50  mAP50-95): 100%|██████████| 32/32 [00:04<00:00,  7.12it/s]\n"
     ]
    },
    {
     "name": "stdout",
     "output_type": "stream",
     "text": [
      "                   all       1500       3035      0.861      0.282       0.29      0.269\n",
      "\n",
      "      Epoch    GPU_mem   box_loss   cls_loss   dfl_loss  Instances       Size\n"
     ]
    },
    {
     "name": "stderr",
     "output_type": "stream",
     "text": [
      "     24/200     0.498G      1.383      2.218      1.296         21        224: 100%|██████████| 355/355 [00:18<00:00, 19.30it/s]\n",
      "                 Class     Images  Instances      Box(P          R      mAP50  mAP50-95): 100%|██████████| 32/32 [00:04<00:00,  7.13it/s]"
     ]
    },
    {
     "name": "stdout",
     "output_type": "stream",
     "text": [
      "                   all       1500       3035      0.868      0.282      0.291      0.271\n"
     ]
    },
    {
     "name": "stderr",
     "output_type": "stream",
     "text": [
      "\n"
     ]
    },
    {
     "name": "stdout",
     "output_type": "stream",
     "text": [
      "\n",
      "      Epoch    GPU_mem   box_loss   cls_loss   dfl_loss  Instances       Size\n"
     ]
    },
    {
     "name": "stderr",
     "output_type": "stream",
     "text": [
      "     25/200     0.498G       1.37      2.188       1.29         12        224: 100%|██████████| 355/355 [00:18<00:00, 19.38it/s]\n",
      "                 Class     Images  Instances      Box(P          R      mAP50  mAP50-95): 100%|██████████| 32/32 [00:03<00:00,  8.05it/s]\n"
     ]
    },
    {
     "name": "stdout",
     "output_type": "stream",
     "text": [
      "                   all       1500       3035      0.876      0.285      0.291       0.27\n",
      "\n",
      "      Epoch    GPU_mem   box_loss   cls_loss   dfl_loss  Instances       Size\n"
     ]
    },
    {
     "name": "stderr",
     "output_type": "stream",
     "text": [
      "     26/200     0.498G      1.361      2.188      1.288         18        224: 100%|██████████| 355/355 [00:18<00:00, 19.58it/s]\n",
      "                 Class     Images  Instances      Box(P          R      mAP50  mAP50-95): 100%|██████████| 32/32 [00:04<00:00,  7.31it/s]"
     ]
    },
    {
     "name": "stdout",
     "output_type": "stream",
     "text": [
      "                   all       1500       3035       0.88      0.283      0.292       0.27\n"
     ]
    },
    {
     "name": "stderr",
     "output_type": "stream",
     "text": [
      "\n"
     ]
    },
    {
     "name": "stdout",
     "output_type": "stream",
     "text": [
      "\n",
      "      Epoch    GPU_mem   box_loss   cls_loss   dfl_loss  Instances       Size\n"
     ]
    },
    {
     "name": "stderr",
     "output_type": "stream",
     "text": [
      "     27/200     0.498G      1.359      2.179      1.285         17        224: 100%|██████████| 355/355 [00:18<00:00, 19.26it/s]\n",
      "                 Class     Images  Instances      Box(P          R      mAP50  mAP50-95): 100%|██████████| 32/32 [00:04<00:00,  7.28it/s]"
     ]
    },
    {
     "name": "stdout",
     "output_type": "stream",
     "text": [
      "                   all       1500       3035      0.925      0.282      0.293      0.272\n"
     ]
    },
    {
     "name": "stderr",
     "output_type": "stream",
     "text": [
      "\n"
     ]
    },
    {
     "name": "stdout",
     "output_type": "stream",
     "text": [
      "\n",
      "      Epoch    GPU_mem   box_loss   cls_loss   dfl_loss  Instances       Size\n"
     ]
    },
    {
     "name": "stderr",
     "output_type": "stream",
     "text": [
      "     28/200     0.498G       1.36      2.199      1.292         13        224: 100%|██████████| 355/355 [00:18<00:00, 19.23it/s]\n",
      "                 Class     Images  Instances      Box(P          R      mAP50  mAP50-95): 100%|██████████| 32/32 [00:04<00:00,  7.35it/s]\n"
     ]
    },
    {
     "name": "stdout",
     "output_type": "stream",
     "text": [
      "                   all       1500       3035      0.899      0.282      0.293      0.274\n",
      "\n",
      "      Epoch    GPU_mem   box_loss   cls_loss   dfl_loss  Instances       Size\n"
     ]
    },
    {
     "name": "stderr",
     "output_type": "stream",
     "text": [
      "     29/200     0.498G      1.362       2.19      1.287         11        224: 100%|██████████| 355/355 [00:18<00:00, 19.23it/s]\n",
      "                 Class     Images  Instances      Box(P          R      mAP50  mAP50-95): 100%|██████████| 32/32 [00:04<00:00,  6.76it/s]\n"
     ]
    },
    {
     "name": "stdout",
     "output_type": "stream",
     "text": [
      "                   all       1500       3035      0.846      0.285      0.289      0.269\n",
      "\n",
      "      Epoch    GPU_mem   box_loss   cls_loss   dfl_loss  Instances       Size\n"
     ]
    },
    {
     "name": "stderr",
     "output_type": "stream",
     "text": [
      "     30/200     0.498G       1.35      2.172      1.281         15        224: 100%|██████████| 355/355 [00:18<00:00, 19.09it/s]\n",
      "                 Class     Images  Instances      Box(P          R      mAP50  mAP50-95): 100%|██████████| 32/32 [00:04<00:00,  7.41it/s]"
     ]
    },
    {
     "name": "stdout",
     "output_type": "stream",
     "text": [
      "                   all       1500       3035      0.895      0.281      0.291      0.273\n"
     ]
    },
    {
     "name": "stderr",
     "output_type": "stream",
     "text": [
      "\n"
     ]
    },
    {
     "name": "stdout",
     "output_type": "stream",
     "text": [
      "\n",
      "      Epoch    GPU_mem   box_loss   cls_loss   dfl_loss  Instances       Size\n"
     ]
    },
    {
     "name": "stderr",
     "output_type": "stream",
     "text": [
      "     31/200     0.498G      1.349      2.184      1.285         21        224: 100%|██████████| 355/355 [00:18<00:00, 19.34it/s]\n",
      "                 Class     Images  Instances      Box(P          R      mAP50  mAP50-95): 100%|██████████| 32/32 [00:04<00:00,  7.39it/s]"
     ]
    },
    {
     "name": "stdout",
     "output_type": "stream",
     "text": [
      "                   all       1500       3035      0.872      0.285      0.295      0.277\n"
     ]
    },
    {
     "name": "stderr",
     "output_type": "stream",
     "text": [
      "\n"
     ]
    },
    {
     "name": "stdout",
     "output_type": "stream",
     "text": [
      "\n",
      "      Epoch    GPU_mem   box_loss   cls_loss   dfl_loss  Instances       Size\n"
     ]
    },
    {
     "name": "stderr",
     "output_type": "stream",
     "text": [
      "     32/200     0.498G      1.338      2.176      1.285         14        224: 100%|██████████| 355/355 [00:18<00:00, 19.20it/s]\n",
      "                 Class     Images  Instances      Box(P          R      mAP50  mAP50-95): 100%|██████████| 32/32 [00:04<00:00,  7.35it/s]"
     ]
    },
    {
     "name": "stdout",
     "output_type": "stream",
     "text": [
      "                   all       1500       3035      0.857      0.289      0.293      0.274\n"
     ]
    },
    {
     "name": "stderr",
     "output_type": "stream",
     "text": [
      "\n"
     ]
    },
    {
     "name": "stdout",
     "output_type": "stream",
     "text": [
      "\n",
      "      Epoch    GPU_mem   box_loss   cls_loss   dfl_loss  Instances       Size\n"
     ]
    },
    {
     "name": "stderr",
     "output_type": "stream",
     "text": [
      "     33/200     0.498G      1.339      2.169      1.281         15        224: 100%|██████████| 355/355 [00:18<00:00, 19.31it/s]\n",
      "                 Class     Images  Instances      Box(P          R      mAP50  mAP50-95): 100%|██████████| 32/32 [00:04<00:00,  7.08it/s]"
     ]
    },
    {
     "name": "stdout",
     "output_type": "stream",
     "text": [
      "                   all       1500       3035      0.901      0.284      0.295      0.275\n"
     ]
    },
    {
     "name": "stderr",
     "output_type": "stream",
     "text": [
      "\n"
     ]
    },
    {
     "name": "stdout",
     "output_type": "stream",
     "text": [
      "\n",
      "      Epoch    GPU_mem   box_loss   cls_loss   dfl_loss  Instances       Size\n"
     ]
    },
    {
     "name": "stderr",
     "output_type": "stream",
     "text": [
      "     34/200     0.498G      1.338      2.165      1.279         14        224: 100%|██████████| 355/355 [00:18<00:00, 19.13it/s]\n",
      "                 Class     Images  Instances      Box(P          R      mAP50  mAP50-95): 100%|██████████| 32/32 [00:04<00:00,  7.17it/s]"
     ]
    },
    {
     "name": "stdout",
     "output_type": "stream",
     "text": [
      "                   all       1500       3035      0.838      0.286      0.294      0.276\n"
     ]
    },
    {
     "name": "stderr",
     "output_type": "stream",
     "text": [
      "\n"
     ]
    },
    {
     "name": "stdout",
     "output_type": "stream",
     "text": [
      "\n",
      "      Epoch    GPU_mem   box_loss   cls_loss   dfl_loss  Instances       Size\n"
     ]
    },
    {
     "name": "stderr",
     "output_type": "stream",
     "text": [
      "     35/200     0.498G      1.321      2.132      1.274         16        224: 100%|██████████| 355/355 [00:18<00:00, 19.24it/s]\n",
      "                 Class     Images  Instances      Box(P          R      mAP50  mAP50-95): 100%|██████████| 32/32 [00:04<00:00,  7.28it/s]"
     ]
    },
    {
     "name": "stdout",
     "output_type": "stream",
     "text": [
      "                   all       1500       3035       0.85      0.287      0.294      0.275\n"
     ]
    },
    {
     "name": "stderr",
     "output_type": "stream",
     "text": [
      "\n"
     ]
    },
    {
     "name": "stdout",
     "output_type": "stream",
     "text": [
      "\n",
      "      Epoch    GPU_mem   box_loss   cls_loss   dfl_loss  Instances       Size\n"
     ]
    },
    {
     "name": "stderr",
     "output_type": "stream",
     "text": [
      "     36/200     0.498G      1.327      2.146      1.278         12        224: 100%|██████████| 355/355 [00:18<00:00, 19.31it/s]\n",
      "                 Class     Images  Instances      Box(P          R      mAP50  mAP50-95): 100%|██████████| 32/32 [00:04<00:00,  7.05it/s]"
     ]
    },
    {
     "name": "stdout",
     "output_type": "stream",
     "text": [
      "                   all       1500       3035      0.851      0.289      0.295      0.276\n"
     ]
    },
    {
     "name": "stderr",
     "output_type": "stream",
     "text": [
      "\n"
     ]
    },
    {
     "name": "stdout",
     "output_type": "stream",
     "text": [
      "\n",
      "      Epoch    GPU_mem   box_loss   cls_loss   dfl_loss  Instances       Size\n"
     ]
    },
    {
     "name": "stderr",
     "output_type": "stream",
     "text": [
      "     37/200     0.498G       1.33       2.15      1.276         11        224: 100%|██████████| 355/355 [00:18<00:00, 19.14it/s]\n",
      "                 Class     Images  Instances      Box(P          R      mAP50  mAP50-95): 100%|██████████| 32/32 [00:04<00:00,  7.37it/s]"
     ]
    },
    {
     "name": "stdout",
     "output_type": "stream",
     "text": [
      "                   all       1500       3035      0.874      0.285      0.294      0.277\n"
     ]
    },
    {
     "name": "stderr",
     "output_type": "stream",
     "text": [
      "\n"
     ]
    },
    {
     "name": "stdout",
     "output_type": "stream",
     "text": [
      "\n",
      "      Epoch    GPU_mem   box_loss   cls_loss   dfl_loss  Instances       Size\n"
     ]
    },
    {
     "name": "stderr",
     "output_type": "stream",
     "text": [
      "     38/200     0.498G      1.324      2.148      1.279          7        224: 100%|██████████| 355/355 [00:18<00:00, 19.41it/s]\n",
      "                 Class     Images  Instances      Box(P          R      mAP50  mAP50-95): 100%|██████████| 32/32 [00:04<00:00,  7.37it/s]\n"
     ]
    },
    {
     "name": "stdout",
     "output_type": "stream",
     "text": [
      "                   all       1500       3035      0.856      0.288      0.297       0.28\n",
      "\n",
      "      Epoch    GPU_mem   box_loss   cls_loss   dfl_loss  Instances       Size\n"
     ]
    },
    {
     "name": "stderr",
     "output_type": "stream",
     "text": [
      "     39/200     0.498G      1.328      2.147      1.278         11        224: 100%|██████████| 355/355 [00:18<00:00, 19.43it/s]\n",
      "                 Class     Images  Instances      Box(P          R      mAP50  mAP50-95): 100%|██████████| 32/32 [00:04<00:00,  7.02it/s]\n"
     ]
    },
    {
     "name": "stdout",
     "output_type": "stream",
     "text": [
      "                   all       1500       3035      0.891      0.285      0.294      0.277\n",
      "\n",
      "      Epoch    GPU_mem   box_loss   cls_loss   dfl_loss  Instances       Size\n"
     ]
    },
    {
     "name": "stderr",
     "output_type": "stream",
     "text": [
      "     40/200     0.498G      1.322      2.154      1.277         14        224: 100%|██████████| 355/355 [00:18<00:00, 19.49it/s]\n",
      "                 Class     Images  Instances      Box(P          R      mAP50  mAP50-95): 100%|██████████| 32/32 [00:04<00:00,  7.14it/s]\n"
     ]
    },
    {
     "name": "stdout",
     "output_type": "stream",
     "text": [
      "                   all       1500       3035      0.889      0.287      0.295      0.279\n",
      "\n",
      "      Epoch    GPU_mem   box_loss   cls_loss   dfl_loss  Instances       Size\n"
     ]
    },
    {
     "name": "stderr",
     "output_type": "stream",
     "text": [
      "     41/200     0.498G      1.327      2.167      1.281         13        224: 100%|██████████| 355/355 [00:18<00:00, 19.58it/s]\n",
      "                 Class     Images  Instances      Box(P          R      mAP50  mAP50-95): 100%|██████████| 32/32 [00:04<00:00,  7.32it/s]"
     ]
    },
    {
     "name": "stdout",
     "output_type": "stream",
     "text": [
      "                   all       1500       3035      0.867      0.286      0.295      0.279\n"
     ]
    },
    {
     "name": "stderr",
     "output_type": "stream",
     "text": [
      "\n"
     ]
    },
    {
     "name": "stdout",
     "output_type": "stream",
     "text": [
      "\n",
      "      Epoch    GPU_mem   box_loss   cls_loss   dfl_loss  Instances       Size\n"
     ]
    },
    {
     "name": "stderr",
     "output_type": "stream",
     "text": [
      "     42/200     0.498G        1.3      2.119      1.264         14        224: 100%|██████████| 355/355 [00:18<00:00, 19.48it/s]\n",
      "                 Class     Images  Instances      Box(P          R      mAP50  mAP50-95): 100%|██████████| 32/32 [00:04<00:00,  7.33it/s]"
     ]
    },
    {
     "name": "stdout",
     "output_type": "stream",
     "text": [
      "                   all       1500       3035       0.87      0.289      0.298       0.28\n"
     ]
    },
    {
     "name": "stderr",
     "output_type": "stream",
     "text": [
      "\n"
     ]
    },
    {
     "name": "stdout",
     "output_type": "stream",
     "text": [
      "\n",
      "      Epoch    GPU_mem   box_loss   cls_loss   dfl_loss  Instances       Size\n"
     ]
    },
    {
     "name": "stderr",
     "output_type": "stream",
     "text": [
      "     43/200     0.498G      1.309      2.135      1.272         14        224: 100%|██████████| 355/355 [00:18<00:00, 19.41it/s]\n",
      "                 Class     Images  Instances      Box(P          R      mAP50  mAP50-95): 100%|██████████| 32/32 [00:04<00:00,  7.39it/s]"
     ]
    },
    {
     "name": "stdout",
     "output_type": "stream",
     "text": [
      "                   all       1500       3035       0.87      0.289      0.297       0.28\n"
     ]
    },
    {
     "name": "stderr",
     "output_type": "stream",
     "text": [
      "\n"
     ]
    },
    {
     "name": "stdout",
     "output_type": "stream",
     "text": [
      "\n",
      "      Epoch    GPU_mem   box_loss   cls_loss   dfl_loss  Instances       Size\n"
     ]
    },
    {
     "name": "stderr",
     "output_type": "stream",
     "text": [
      "     44/200     0.498G      1.312      2.133      1.273         15        224: 100%|██████████| 355/355 [00:18<00:00, 19.41it/s]\n",
      "                 Class     Images  Instances      Box(P          R      mAP50  mAP50-95): 100%|██████████| 32/32 [00:04<00:00,  7.42it/s]"
     ]
    },
    {
     "name": "stdout",
     "output_type": "stream",
     "text": [
      "                   all       1500       3035      0.873      0.287      0.295      0.279\n"
     ]
    },
    {
     "name": "stderr",
     "output_type": "stream",
     "text": [
      "\n"
     ]
    },
    {
     "name": "stdout",
     "output_type": "stream",
     "text": [
      "\n",
      "      Epoch    GPU_mem   box_loss   cls_loss   dfl_loss  Instances       Size\n"
     ]
    },
    {
     "name": "stderr",
     "output_type": "stream",
     "text": [
      "     45/200     0.498G      1.307      2.121      1.269          9        224: 100%|██████████| 355/355 [00:18<00:00, 19.49it/s]\n",
      "                 Class     Images  Instances      Box(P          R      mAP50  mAP50-95): 100%|██████████| 32/32 [00:04<00:00,  7.25it/s]\n"
     ]
    },
    {
     "name": "stdout",
     "output_type": "stream",
     "text": [
      "                   all       1500       3035      0.881      0.289      0.297      0.279\n",
      "\n",
      "      Epoch    GPU_mem   box_loss   cls_loss   dfl_loss  Instances       Size\n"
     ]
    },
    {
     "name": "stderr",
     "output_type": "stream",
     "text": [
      "     46/200     0.498G      1.299      2.112      1.267         18        224: 100%|██████████| 355/355 [00:18<00:00, 19.36it/s]\n",
      "                 Class     Images  Instances      Box(P          R      mAP50  mAP50-95): 100%|██████████| 32/32 [00:04<00:00,  7.46it/s]"
     ]
    },
    {
     "name": "stdout",
     "output_type": "stream",
     "text": [
      "                   all       1500       3035      0.873      0.289      0.297      0.281\n"
     ]
    },
    {
     "name": "stderr",
     "output_type": "stream",
     "text": [
      "\n"
     ]
    },
    {
     "name": "stdout",
     "output_type": "stream",
     "text": [
      "\n",
      "      Epoch    GPU_mem   box_loss   cls_loss   dfl_loss  Instances       Size\n"
     ]
    },
    {
     "name": "stderr",
     "output_type": "stream",
     "text": [
      "     47/200     0.498G      1.306      2.132      1.272         20        224: 100%|██████████| 355/355 [00:18<00:00, 19.53it/s]\n",
      "                 Class     Images  Instances      Box(P          R      mAP50  mAP50-95): 100%|██████████| 32/32 [00:04<00:00,  7.20it/s]"
     ]
    },
    {
     "name": "stdout",
     "output_type": "stream",
     "text": [
      "                   all       1500       3035      0.873       0.29      0.299      0.281\n"
     ]
    },
    {
     "name": "stderr",
     "output_type": "stream",
     "text": [
      "\n"
     ]
    },
    {
     "name": "stdout",
     "output_type": "stream",
     "text": [
      "\n",
      "      Epoch    GPU_mem   box_loss   cls_loss   dfl_loss  Instances       Size\n"
     ]
    },
    {
     "name": "stderr",
     "output_type": "stream",
     "text": [
      "     48/200     0.498G      1.303       2.12       1.27         13        224: 100%|██████████| 355/355 [00:18<00:00, 19.58it/s]\n",
      "                 Class     Images  Instances      Box(P          R      mAP50  mAP50-95): 100%|██████████| 32/32 [00:04<00:00,  7.51it/s]"
     ]
    },
    {
     "name": "stdout",
     "output_type": "stream",
     "text": [
      "                   all       1500       3035      0.917      0.284      0.298      0.281\n"
     ]
    },
    {
     "name": "stderr",
     "output_type": "stream",
     "text": [
      "\n"
     ]
    },
    {
     "name": "stdout",
     "output_type": "stream",
     "text": [
      "\n",
      "      Epoch    GPU_mem   box_loss   cls_loss   dfl_loss  Instances       Size\n"
     ]
    },
    {
     "name": "stderr",
     "output_type": "stream",
     "text": [
      "     49/200     0.498G      1.302      2.112      1.265         13        224: 100%|██████████| 355/355 [00:18<00:00, 19.27it/s]\n",
      "                 Class     Images  Instances      Box(P          R      mAP50  mAP50-95): 100%|██████████| 32/32 [00:04<00:00,  7.49it/s]"
     ]
    },
    {
     "name": "stdout",
     "output_type": "stream",
     "text": [
      "                   all       1500       3035      0.874      0.289      0.297       0.28\n"
     ]
    },
    {
     "name": "stderr",
     "output_type": "stream",
     "text": [
      "\n"
     ]
    },
    {
     "name": "stdout",
     "output_type": "stream",
     "text": [
      "\n",
      "      Epoch    GPU_mem   box_loss   cls_loss   dfl_loss  Instances       Size\n"
     ]
    },
    {
     "name": "stderr",
     "output_type": "stream",
     "text": [
      "     50/200     0.498G      1.296      2.112      1.266         18        224: 100%|██████████| 355/355 [00:18<00:00, 19.54it/s]\n",
      "                 Class     Images  Instances      Box(P          R      mAP50  mAP50-95): 100%|██████████| 32/32 [00:04<00:00,  7.37it/s]"
     ]
    },
    {
     "name": "stdout",
     "output_type": "stream",
     "text": [
      "                   all       1500       3035      0.871       0.29      0.298      0.282\n"
     ]
    },
    {
     "name": "stderr",
     "output_type": "stream",
     "text": [
      "\n"
     ]
    },
    {
     "name": "stdout",
     "output_type": "stream",
     "text": [
      "\n",
      "      Epoch    GPU_mem   box_loss   cls_loss   dfl_loss  Instances       Size\n"
     ]
    },
    {
     "name": "stderr",
     "output_type": "stream",
     "text": [
      "     51/200     0.498G      1.291      2.108      1.263         11        224: 100%|██████████| 355/355 [00:18<00:00, 19.69it/s]\n",
      "                 Class     Images  Instances      Box(P          R      mAP50  mAP50-95): 100%|██████████| 32/32 [00:04<00:00,  7.50it/s]"
     ]
    },
    {
     "name": "stdout",
     "output_type": "stream",
     "text": [
      "                   all       1500       3035      0.878      0.289      0.299      0.282\n"
     ]
    },
    {
     "name": "stderr",
     "output_type": "stream",
     "text": [
      "\n"
     ]
    },
    {
     "name": "stdout",
     "output_type": "stream",
     "text": [
      "\n",
      "      Epoch    GPU_mem   box_loss   cls_loss   dfl_loss  Instances       Size\n"
     ]
    },
    {
     "name": "stderr",
     "output_type": "stream",
     "text": [
      "     52/200     0.498G      1.304      2.138      1.271         13        224: 100%|██████████| 355/355 [00:18<00:00, 19.44it/s]\n",
      "                 Class     Images  Instances      Box(P          R      mAP50  mAP50-95): 100%|██████████| 32/32 [00:04<00:00,  7.30it/s]"
     ]
    },
    {
     "name": "stdout",
     "output_type": "stream",
     "text": [
      "                   all       1500       3035      0.887      0.288      0.297      0.282\n"
     ]
    },
    {
     "name": "stderr",
     "output_type": "stream",
     "text": [
      "\n"
     ]
    },
    {
     "name": "stdout",
     "output_type": "stream",
     "text": [
      "\n",
      "      Epoch    GPU_mem   box_loss   cls_loss   dfl_loss  Instances       Size\n"
     ]
    },
    {
     "name": "stderr",
     "output_type": "stream",
     "text": [
      "     53/200     0.498G      1.284      2.105      1.265          3        224: 100%|██████████| 355/355 [00:18<00:00, 19.56it/s]\n",
      "                 Class     Images  Instances      Box(P          R      mAP50  mAP50-95): 100%|██████████| 32/32 [00:04<00:00,  6.99it/s]"
     ]
    },
    {
     "name": "stdout",
     "output_type": "stream",
     "text": [
      "                   all       1500       3035      0.883       0.29      0.298      0.282\n"
     ]
    },
    {
     "name": "stderr",
     "output_type": "stream",
     "text": [
      "\n"
     ]
    },
    {
     "name": "stdout",
     "output_type": "stream",
     "text": [
      "\n",
      "      Epoch    GPU_mem   box_loss   cls_loss   dfl_loss  Instances       Size\n"
     ]
    },
    {
     "name": "stderr",
     "output_type": "stream",
     "text": [
      "     54/200     0.498G      1.291       2.11      1.262         11        224: 100%|██████████| 355/355 [00:18<00:00, 19.29it/s]\n",
      "                 Class     Images  Instances      Box(P          R      mAP50  mAP50-95): 100%|██████████| 32/32 [00:04<00:00,  7.37it/s]"
     ]
    },
    {
     "name": "stdout",
     "output_type": "stream",
     "text": [
      "                   all       1500       3035       0.91      0.284      0.299      0.283\n"
     ]
    },
    {
     "name": "stderr",
     "output_type": "stream",
     "text": [
      "\n"
     ]
    },
    {
     "name": "stdout",
     "output_type": "stream",
     "text": [
      "\n",
      "      Epoch    GPU_mem   box_loss   cls_loss   dfl_loss  Instances       Size\n"
     ]
    },
    {
     "name": "stderr",
     "output_type": "stream",
     "text": [
      "     55/200     0.498G      1.289      2.108      1.264         14        224: 100%|██████████| 355/355 [00:18<00:00, 19.13it/s]\n",
      "                 Class     Images  Instances      Box(P          R      mAP50  mAP50-95): 100%|██████████| 32/32 [00:04<00:00,  7.23it/s]"
     ]
    },
    {
     "name": "stdout",
     "output_type": "stream",
     "text": [
      "                   all       1500       3035      0.889      0.286      0.297      0.281\n"
     ]
    },
    {
     "name": "stderr",
     "output_type": "stream",
     "text": [
      "\n"
     ]
    },
    {
     "name": "stdout",
     "output_type": "stream",
     "text": [
      "\n",
      "      Epoch    GPU_mem   box_loss   cls_loss   dfl_loss  Instances       Size\n"
     ]
    },
    {
     "name": "stderr",
     "output_type": "stream",
     "text": [
      "     56/200     0.498G      1.294      2.119      1.268         11        224: 100%|██████████| 355/355 [00:18<00:00, 19.46it/s]\n",
      "                 Class     Images  Instances      Box(P          R      mAP50  mAP50-95): 100%|██████████| 32/32 [00:04<00:00,  7.30it/s]"
     ]
    },
    {
     "name": "stdout",
     "output_type": "stream",
     "text": [
      "                   all       1500       3035      0.872       0.29      0.299      0.282\n"
     ]
    },
    {
     "name": "stderr",
     "output_type": "stream",
     "text": [
      "\n"
     ]
    },
    {
     "name": "stdout",
     "output_type": "stream",
     "text": [
      "\n",
      "      Epoch    GPU_mem   box_loss   cls_loss   dfl_loss  Instances       Size\n"
     ]
    },
    {
     "name": "stderr",
     "output_type": "stream",
     "text": [
      "     57/200     0.498G       1.29      2.106      1.262         14        224: 100%|██████████| 355/355 [00:18<00:00, 19.55it/s]\n",
      "                 Class     Images  Instances      Box(P          R      mAP50  mAP50-95): 100%|██████████| 32/32 [00:04<00:00,  7.43it/s]"
     ]
    },
    {
     "name": "stdout",
     "output_type": "stream",
     "text": [
      "                   all       1500       3035      0.869       0.29      0.299      0.283\n"
     ]
    },
    {
     "name": "stderr",
     "output_type": "stream",
     "text": [
      "\n"
     ]
    },
    {
     "name": "stdout",
     "output_type": "stream",
     "text": [
      "\n",
      "      Epoch    GPU_mem   box_loss   cls_loss   dfl_loss  Instances       Size\n"
     ]
    },
    {
     "name": "stderr",
     "output_type": "stream",
     "text": [
      "     58/200     0.498G      1.289       2.12      1.269         18        224: 100%|██████████| 355/355 [00:18<00:00, 19.32it/s]\n",
      "                 Class     Images  Instances      Box(P          R      mAP50  mAP50-95): 100%|██████████| 32/32 [00:04<00:00,  7.38it/s]"
     ]
    },
    {
     "name": "stdout",
     "output_type": "stream",
     "text": [
      "                   all       1500       3035      0.866       0.29      0.299      0.284\n"
     ]
    },
    {
     "name": "stderr",
     "output_type": "stream",
     "text": [
      "\n"
     ]
    },
    {
     "name": "stdout",
     "output_type": "stream",
     "text": [
      "\n",
      "      Epoch    GPU_mem   box_loss   cls_loss   dfl_loss  Instances       Size\n"
     ]
    },
    {
     "name": "stderr",
     "output_type": "stream",
     "text": [
      "     59/200     0.498G       1.28      2.085      1.255         15        224: 100%|██████████| 355/355 [00:18<00:00, 19.52it/s]\n",
      "                 Class     Images  Instances      Box(P          R      mAP50  mAP50-95): 100%|██████████| 32/32 [00:04<00:00,  7.42it/s]"
     ]
    },
    {
     "name": "stdout",
     "output_type": "stream",
     "text": [
      "                   all       1500       3035      0.878       0.29      0.299      0.284\n"
     ]
    },
    {
     "name": "stderr",
     "output_type": "stream",
     "text": [
      "\n"
     ]
    },
    {
     "name": "stdout",
     "output_type": "stream",
     "text": [
      "\n",
      "      Epoch    GPU_mem   box_loss   cls_loss   dfl_loss  Instances       Size\n"
     ]
    },
    {
     "name": "stderr",
     "output_type": "stream",
     "text": [
      "     60/200     0.498G      1.289      2.104      1.255         21        224: 100%|██████████| 355/355 [00:18<00:00, 19.49it/s]\n",
      "                 Class     Images  Instances      Box(P          R      mAP50  mAP50-95): 100%|██████████| 32/32 [00:04<00:00,  6.98it/s]"
     ]
    },
    {
     "name": "stdout",
     "output_type": "stream",
     "text": [
      "                   all       1500       3035      0.879       0.29      0.299      0.284\n"
     ]
    },
    {
     "name": "stderr",
     "output_type": "stream",
     "text": [
      "\n"
     ]
    },
    {
     "name": "stdout",
     "output_type": "stream",
     "text": [
      "\n",
      "      Epoch    GPU_mem   box_loss   cls_loss   dfl_loss  Instances       Size\n"
     ]
    },
    {
     "name": "stderr",
     "output_type": "stream",
     "text": [
      "     61/200     0.498G      1.273      2.096      1.258         15        224: 100%|██████████| 355/355 [00:18<00:00, 19.51it/s]\n",
      "                 Class     Images  Instances      Box(P          R      mAP50  mAP50-95): 100%|██████████| 32/32 [00:04<00:00,  7.39it/s]"
     ]
    },
    {
     "name": "stdout",
     "output_type": "stream",
     "text": [
      "                   all       1500       3035      0.888      0.288      0.298      0.283\n"
     ]
    },
    {
     "name": "stderr",
     "output_type": "stream",
     "text": [
      "\n"
     ]
    },
    {
     "name": "stdout",
     "output_type": "stream",
     "text": [
      "\n",
      "      Epoch    GPU_mem   box_loss   cls_loss   dfl_loss  Instances       Size\n"
     ]
    },
    {
     "name": "stderr",
     "output_type": "stream",
     "text": [
      "     62/200     0.498G      1.278      2.086      1.259         12        224: 100%|██████████| 355/355 [00:18<00:00, 19.52it/s]\n",
      "                 Class     Images  Instances      Box(P          R      mAP50  mAP50-95): 100%|██████████| 32/32 [00:04<00:00,  7.35it/s]"
     ]
    },
    {
     "name": "stdout",
     "output_type": "stream",
     "text": [
      "                   all       1500       3035      0.882      0.289      0.298      0.283\n"
     ]
    },
    {
     "name": "stderr",
     "output_type": "stream",
     "text": [
      "\n"
     ]
    },
    {
     "name": "stdout",
     "output_type": "stream",
     "text": [
      "\n",
      "      Epoch    GPU_mem   box_loss   cls_loss   dfl_loss  Instances       Size\n"
     ]
    },
    {
     "name": "stderr",
     "output_type": "stream",
     "text": [
      "     63/200     0.498G      1.271      2.093      1.252         20        224: 100%|██████████| 355/355 [00:18<00:00, 19.63it/s]\n",
      "                 Class     Images  Instances      Box(P          R      mAP50  mAP50-95): 100%|██████████| 32/32 [00:04<00:00,  7.34it/s]"
     ]
    },
    {
     "name": "stdout",
     "output_type": "stream",
     "text": [
      "                   all       1500       3035      0.898      0.288      0.298      0.284\n"
     ]
    },
    {
     "name": "stderr",
     "output_type": "stream",
     "text": [
      "\n"
     ]
    },
    {
     "name": "stdout",
     "output_type": "stream",
     "text": [
      "\n",
      "      Epoch    GPU_mem   box_loss   cls_loss   dfl_loss  Instances       Size\n"
     ]
    },
    {
     "name": "stderr",
     "output_type": "stream",
     "text": [
      "     64/200     0.498G      1.282      2.093      1.263          6        224: 100%|██████████| 355/355 [00:18<00:00, 19.50it/s]\n",
      "                 Class     Images  Instances      Box(P          R      mAP50  mAP50-95): 100%|██████████| 32/32 [00:04<00:00,  7.20it/s]"
     ]
    },
    {
     "name": "stdout",
     "output_type": "stream",
     "text": [
      "                   all       1500       3035      0.871       0.29      0.297      0.283\n"
     ]
    },
    {
     "name": "stderr",
     "output_type": "stream",
     "text": [
      "\n"
     ]
    },
    {
     "name": "stdout",
     "output_type": "stream",
     "text": [
      "\n",
      "      Epoch    GPU_mem   box_loss   cls_loss   dfl_loss  Instances       Size\n"
     ]
    },
    {
     "name": "stderr",
     "output_type": "stream",
     "text": [
      "     65/200     0.498G      1.276      2.089      1.258         18        224: 100%|██████████| 355/355 [00:18<00:00, 19.43it/s]\n",
      "                 Class     Images  Instances      Box(P          R      mAP50  mAP50-95): 100%|██████████| 32/32 [00:04<00:00,  7.36it/s]"
     ]
    },
    {
     "name": "stdout",
     "output_type": "stream",
     "text": [
      "                   all       1500       3035      0.896      0.287      0.298      0.285\n"
     ]
    },
    {
     "name": "stderr",
     "output_type": "stream",
     "text": [
      "\n"
     ]
    },
    {
     "name": "stdout",
     "output_type": "stream",
     "text": [
      "\n",
      "      Epoch    GPU_mem   box_loss   cls_loss   dfl_loss  Instances       Size\n"
     ]
    },
    {
     "name": "stderr",
     "output_type": "stream",
     "text": [
      "     66/200     0.498G      1.277      2.087      1.255         24        224: 100%|██████████| 355/355 [00:18<00:00, 19.49it/s]\n",
      "                 Class     Images  Instances      Box(P          R      mAP50  mAP50-95): 100%|██████████| 32/32 [00:04<00:00,  7.20it/s]"
     ]
    },
    {
     "name": "stdout",
     "output_type": "stream",
     "text": [
      "                   all       1500       3035      0.886       0.29      0.299      0.284\n"
     ]
    },
    {
     "name": "stderr",
     "output_type": "stream",
     "text": [
      "\n"
     ]
    },
    {
     "name": "stdout",
     "output_type": "stream",
     "text": [
      "\n",
      "      Epoch    GPU_mem   box_loss   cls_loss   dfl_loss  Instances       Size\n"
     ]
    },
    {
     "name": "stderr",
     "output_type": "stream",
     "text": [
      "     67/200     0.498G      1.276      2.084      1.259          9        224: 100%|██████████| 355/355 [00:18<00:00, 19.47it/s]\n",
      "                 Class     Images  Instances      Box(P          R      mAP50  mAP50-95): 100%|██████████| 32/32 [00:04<00:00,  7.09it/s]"
     ]
    },
    {
     "name": "stdout",
     "output_type": "stream",
     "text": [
      "                   all       1500       3035      0.881       0.29        0.3      0.284\n"
     ]
    },
    {
     "name": "stderr",
     "output_type": "stream",
     "text": [
      "\n"
     ]
    },
    {
     "name": "stdout",
     "output_type": "stream",
     "text": [
      "\n",
      "      Epoch    GPU_mem   box_loss   cls_loss   dfl_loss  Instances       Size\n"
     ]
    },
    {
     "name": "stderr",
     "output_type": "stream",
     "text": [
      "     68/200     0.498G      1.265      2.077      1.258         20        224: 100%|██████████| 355/355 [00:18<00:00, 19.58it/s]\n",
      "                 Class     Images  Instances      Box(P          R      mAP50  mAP50-95): 100%|██████████| 32/32 [00:04<00:00,  6.77it/s]"
     ]
    },
    {
     "name": "stdout",
     "output_type": "stream",
     "text": [
      "                   all       1500       3035      0.883      0.289      0.299      0.284\n"
     ]
    },
    {
     "name": "stderr",
     "output_type": "stream",
     "text": [
      "\n"
     ]
    },
    {
     "name": "stdout",
     "output_type": "stream",
     "text": [
      "\n",
      "      Epoch    GPU_mem   box_loss   cls_loss   dfl_loss  Instances       Size\n"
     ]
    },
    {
     "name": "stderr",
     "output_type": "stream",
     "text": [
      "     69/200     0.498G      1.273      2.096      1.261         21        224: 100%|██████████| 355/355 [00:18<00:00, 19.05it/s]\n",
      "                 Class     Images  Instances      Box(P          R      mAP50  mAP50-95): 100%|██████████| 32/32 [00:04<00:00,  7.30it/s]"
     ]
    },
    {
     "name": "stdout",
     "output_type": "stream",
     "text": [
      "                   all       1500       3035       0.88      0.289      0.298      0.283\n"
     ]
    },
    {
     "name": "stderr",
     "output_type": "stream",
     "text": [
      "\n"
     ]
    },
    {
     "name": "stdout",
     "output_type": "stream",
     "text": [
      "\n",
      "      Epoch    GPU_mem   box_loss   cls_loss   dfl_loss  Instances       Size\n"
     ]
    },
    {
     "name": "stderr",
     "output_type": "stream",
     "text": [
      "     70/200     0.498G      1.268       2.08      1.254          8        224: 100%|██████████| 355/355 [00:18<00:00, 19.34it/s]\n",
      "                 Class     Images  Instances      Box(P          R      mAP50  mAP50-95): 100%|██████████| 32/32 [00:04<00:00,  7.33it/s]"
     ]
    },
    {
     "name": "stdout",
     "output_type": "stream",
     "text": [
      "                   all       1500       3035      0.887      0.289      0.297      0.284\n"
     ]
    },
    {
     "name": "stderr",
     "output_type": "stream",
     "text": [
      "\n"
     ]
    },
    {
     "name": "stdout",
     "output_type": "stream",
     "text": [
      "\n",
      "      Epoch    GPU_mem   box_loss   cls_loss   dfl_loss  Instances       Size\n"
     ]
    },
    {
     "name": "stderr",
     "output_type": "stream",
     "text": [
      "     71/200     0.498G      1.267      2.086      1.255         10        224: 100%|██████████| 355/355 [00:18<00:00, 19.36it/s]\n",
      "                 Class     Images  Instances      Box(P          R      mAP50  mAP50-95): 100%|██████████| 32/32 [00:04<00:00,  7.04it/s]"
     ]
    },
    {
     "name": "stdout",
     "output_type": "stream",
     "text": [
      "                   all       1500       3035      0.898      0.289      0.299      0.285\n"
     ]
    },
    {
     "name": "stderr",
     "output_type": "stream",
     "text": [
      "\n"
     ]
    },
    {
     "name": "stdout",
     "output_type": "stream",
     "text": [
      "\n",
      "      Epoch    GPU_mem   box_loss   cls_loss   dfl_loss  Instances       Size\n"
     ]
    },
    {
     "name": "stderr",
     "output_type": "stream",
     "text": [
      "     72/200     0.498G      1.271       2.09      1.258         17        224: 100%|██████████| 355/355 [00:18<00:00, 19.39it/s]\n",
      "                 Class     Images  Instances      Box(P          R      mAP50  mAP50-95): 100%|██████████| 32/32 [00:04<00:00,  7.30it/s]"
     ]
    },
    {
     "name": "stdout",
     "output_type": "stream",
     "text": [
      "                   all       1500       3035      0.904      0.287      0.299      0.285\n"
     ]
    },
    {
     "name": "stderr",
     "output_type": "stream",
     "text": [
      "\n"
     ]
    },
    {
     "name": "stdout",
     "output_type": "stream",
     "text": [
      "\n",
      "      Epoch    GPU_mem   box_loss   cls_loss   dfl_loss  Instances       Size\n"
     ]
    },
    {
     "name": "stderr",
     "output_type": "stream",
     "text": [
      "     73/200     0.498G      1.274      2.086       1.26          8        224: 100%|██████████| 355/355 [00:18<00:00, 19.43it/s]\n",
      "                 Class     Images  Instances      Box(P          R      mAP50  mAP50-95): 100%|██████████| 32/32 [00:04<00:00,  7.28it/s]\n"
     ]
    },
    {
     "name": "stdout",
     "output_type": "stream",
     "text": [
      "                   all       1500       3035       0.88       0.29        0.3      0.285\n",
      "\n",
      "      Epoch    GPU_mem   box_loss   cls_loss   dfl_loss  Instances       Size\n"
     ]
    },
    {
     "name": "stderr",
     "output_type": "stream",
     "text": [
      "     74/200     0.498G      1.275      2.093      1.262         19        224: 100%|██████████| 355/355 [00:18<00:00, 19.24it/s]\n",
      "                 Class     Images  Instances      Box(P          R      mAP50  mAP50-95): 100%|██████████| 32/32 [00:04<00:00,  7.21it/s]"
     ]
    },
    {
     "name": "stdout",
     "output_type": "stream",
     "text": [
      "                   all       1500       3035      0.897      0.287        0.3      0.286\n"
     ]
    },
    {
     "name": "stderr",
     "output_type": "stream",
     "text": [
      "\n"
     ]
    },
    {
     "name": "stdout",
     "output_type": "stream",
     "text": [
      "\n",
      "      Epoch    GPU_mem   box_loss   cls_loss   dfl_loss  Instances       Size\n"
     ]
    },
    {
     "name": "stderr",
     "output_type": "stream",
     "text": [
      "     75/200     0.498G      1.272      2.087       1.26         12        224: 100%|██████████| 355/355 [00:18<00:00, 19.26it/s]\n",
      "                 Class     Images  Instances      Box(P          R      mAP50  mAP50-95): 100%|██████████| 32/32 [00:04<00:00,  7.38it/s]"
     ]
    },
    {
     "name": "stdout",
     "output_type": "stream",
     "text": [
      "                   all       1500       3035      0.889       0.29      0.298      0.284\n"
     ]
    },
    {
     "name": "stderr",
     "output_type": "stream",
     "text": [
      "\n"
     ]
    },
    {
     "name": "stdout",
     "output_type": "stream",
     "text": [
      "\n",
      "      Epoch    GPU_mem   box_loss   cls_loss   dfl_loss  Instances       Size\n"
     ]
    },
    {
     "name": "stderr",
     "output_type": "stream",
     "text": [
      "     76/200     0.498G      1.267      2.079      1.254         19        224: 100%|██████████| 355/355 [00:18<00:00, 19.41it/s]\n",
      "                 Class     Images  Instances      Box(P          R      mAP50  mAP50-95): 100%|██████████| 32/32 [00:04<00:00,  7.31it/s]"
     ]
    },
    {
     "name": "stdout",
     "output_type": "stream",
     "text": [
      "                   all       1500       3035      0.902      0.289      0.299      0.285\n"
     ]
    },
    {
     "name": "stderr",
     "output_type": "stream",
     "text": [
      "\n"
     ]
    },
    {
     "name": "stdout",
     "output_type": "stream",
     "text": [
      "\n",
      "      Epoch    GPU_mem   box_loss   cls_loss   dfl_loss  Instances       Size\n"
     ]
    },
    {
     "name": "stderr",
     "output_type": "stream",
     "text": [
      "     77/200     0.498G      1.258      2.078      1.252         23        224: 100%|██████████| 355/355 [00:18<00:00, 19.20it/s]\n",
      "                 Class     Images  Instances      Box(P          R      mAP50  mAP50-95): 100%|██████████| 32/32 [00:04<00:00,  7.24it/s]"
     ]
    },
    {
     "name": "stdout",
     "output_type": "stream",
     "text": [
      "                   all       1500       3035      0.893      0.288      0.299      0.286\n"
     ]
    },
    {
     "name": "stderr",
     "output_type": "stream",
     "text": [
      "\n"
     ]
    },
    {
     "name": "stdout",
     "output_type": "stream",
     "text": [
      "\n",
      "      Epoch    GPU_mem   box_loss   cls_loss   dfl_loss  Instances       Size\n"
     ]
    },
    {
     "name": "stderr",
     "output_type": "stream",
     "text": [
      "     78/200     0.498G      1.254       2.07      1.247         14        224: 100%|██████████| 355/355 [00:18<00:00, 19.39it/s]\n",
      "                 Class     Images  Instances      Box(P          R      mAP50  mAP50-95): 100%|██████████| 32/32 [00:04<00:00,  7.32it/s]"
     ]
    },
    {
     "name": "stdout",
     "output_type": "stream",
     "text": [
      "                   all       1500       3035      0.888      0.288        0.3      0.287\n"
     ]
    },
    {
     "name": "stderr",
     "output_type": "stream",
     "text": [
      "\n"
     ]
    },
    {
     "name": "stdout",
     "output_type": "stream",
     "text": [
      "\n",
      "      Epoch    GPU_mem   box_loss   cls_loss   dfl_loss  Instances       Size\n"
     ]
    },
    {
     "name": "stderr",
     "output_type": "stream",
     "text": [
      "     79/200     0.498G      1.267      2.081      1.259         18        224: 100%|██████████| 355/355 [00:18<00:00, 19.37it/s]\n",
      "                 Class     Images  Instances      Box(P          R      mAP50  mAP50-95): 100%|██████████| 32/32 [00:04<00:00,  7.35it/s]"
     ]
    },
    {
     "name": "stdout",
     "output_type": "stream",
     "text": [
      "                   all       1500       3035      0.876      0.288      0.301      0.287\n"
     ]
    },
    {
     "name": "stderr",
     "output_type": "stream",
     "text": [
      "\n"
     ]
    },
    {
     "name": "stdout",
     "output_type": "stream",
     "text": [
      "\n",
      "      Epoch    GPU_mem   box_loss   cls_loss   dfl_loss  Instances       Size\n"
     ]
    },
    {
     "name": "stderr",
     "output_type": "stream",
     "text": [
      "     80/200     0.498G      1.248      2.062      1.249         16        224: 100%|██████████| 355/355 [00:18<00:00, 19.24it/s]\n",
      "                 Class     Images  Instances      Box(P          R      mAP50  mAP50-95): 100%|██████████| 32/32 [00:04<00:00,  7.34it/s]"
     ]
    },
    {
     "name": "stdout",
     "output_type": "stream",
     "text": [
      "                   all       1500       3035      0.887      0.288      0.299      0.286\n"
     ]
    },
    {
     "name": "stderr",
     "output_type": "stream",
     "text": [
      "\n"
     ]
    },
    {
     "name": "stdout",
     "output_type": "stream",
     "text": [
      "\n",
      "      Epoch    GPU_mem   box_loss   cls_loss   dfl_loss  Instances       Size\n"
     ]
    },
    {
     "name": "stderr",
     "output_type": "stream",
     "text": [
      "     81/200     0.498G      1.262      2.084      1.258         16        224: 100%|██████████| 355/355 [00:18<00:00, 19.45it/s]\n",
      "                 Class     Images  Instances      Box(P          R      mAP50  mAP50-95): 100%|██████████| 32/32 [00:04<00:00,  7.26it/s]"
     ]
    },
    {
     "name": "stdout",
     "output_type": "stream",
     "text": [
      "                   all       1500       3035      0.893      0.287      0.298      0.285\n"
     ]
    },
    {
     "name": "stderr",
     "output_type": "stream",
     "text": [
      "\n"
     ]
    },
    {
     "name": "stdout",
     "output_type": "stream",
     "text": [
      "\n",
      "      Epoch    GPU_mem   box_loss   cls_loss   dfl_loss  Instances       Size\n"
     ]
    },
    {
     "name": "stderr",
     "output_type": "stream",
     "text": [
      "     82/200     0.498G      1.261      2.088      1.258         16        224: 100%|██████████| 355/355 [00:18<00:00, 19.34it/s]\n",
      "                 Class     Images  Instances      Box(P          R      mAP50  mAP50-95): 100%|██████████| 32/32 [00:04<00:00,  7.33it/s]"
     ]
    },
    {
     "name": "stdout",
     "output_type": "stream",
     "text": [
      "                   all       1500       3035       0.88      0.289      0.299      0.285\n"
     ]
    },
    {
     "name": "stderr",
     "output_type": "stream",
     "text": [
      "\n"
     ]
    },
    {
     "name": "stdout",
     "output_type": "stream",
     "text": [
      "\n",
      "      Epoch    GPU_mem   box_loss   cls_loss   dfl_loss  Instances       Size\n"
     ]
    },
    {
     "name": "stderr",
     "output_type": "stream",
     "text": [
      "     83/200     0.498G      1.254      2.073       1.25         20        224: 100%|██████████| 355/355 [00:18<00:00, 19.29it/s]\n",
      "                 Class     Images  Instances      Box(P          R      mAP50  mAP50-95): 100%|██████████| 32/32 [00:04<00:00,  7.07it/s]\n"
     ]
    },
    {
     "name": "stdout",
     "output_type": "stream",
     "text": [
      "                   all       1500       3035      0.888       0.29        0.3      0.286\n",
      "\n",
      "      Epoch    GPU_mem   box_loss   cls_loss   dfl_loss  Instances       Size\n"
     ]
    },
    {
     "name": "stderr",
     "output_type": "stream",
     "text": [
      "     84/200     0.498G      1.244      2.043      1.242         18        224: 100%|██████████| 355/355 [00:18<00:00, 19.35it/s]\n",
      "                 Class     Images  Instances      Box(P          R      mAP50  mAP50-95): 100%|██████████| 32/32 [00:04<00:00,  7.17it/s]"
     ]
    },
    {
     "name": "stdout",
     "output_type": "stream",
     "text": [
      "                   all       1500       3035      0.904      0.288        0.3      0.287\n"
     ]
    },
    {
     "name": "stderr",
     "output_type": "stream",
     "text": [
      "\n"
     ]
    },
    {
     "name": "stdout",
     "output_type": "stream",
     "text": [
      "\n",
      "      Epoch    GPU_mem   box_loss   cls_loss   dfl_loss  Instances       Size\n"
     ]
    },
    {
     "name": "stderr",
     "output_type": "stream",
     "text": [
      "     85/200     0.498G      1.237      2.038      1.243          6        224: 100%|██████████| 355/355 [00:18<00:00, 19.06it/s]\n",
      "                 Class     Images  Instances      Box(P          R      mAP50  mAP50-95): 100%|██████████| 32/32 [00:04<00:00,  7.07it/s]"
     ]
    },
    {
     "name": "stdout",
     "output_type": "stream",
     "text": [
      "                   all       1500       3035      0.903      0.288      0.299      0.287\n"
     ]
    },
    {
     "name": "stderr",
     "output_type": "stream",
     "text": [
      "\n"
     ]
    },
    {
     "name": "stdout",
     "output_type": "stream",
     "text": [
      "\n",
      "      Epoch    GPU_mem   box_loss   cls_loss   dfl_loss  Instances       Size\n"
     ]
    },
    {
     "name": "stderr",
     "output_type": "stream",
     "text": [
      "     86/200     0.498G      1.252      2.056      1.248         17        224: 100%|██████████| 355/355 [00:18<00:00, 19.31it/s]\n",
      "                 Class     Images  Instances      Box(P          R      mAP50  mAP50-95): 100%|██████████| 32/32 [00:04<00:00,  7.19it/s]"
     ]
    },
    {
     "name": "stdout",
     "output_type": "stream",
     "text": [
      "                   all       1500       3035      0.913      0.287        0.3      0.287\n"
     ]
    },
    {
     "name": "stderr",
     "output_type": "stream",
     "text": [
      "\n"
     ]
    },
    {
     "name": "stdout",
     "output_type": "stream",
     "text": [
      "\n",
      "      Epoch    GPU_mem   box_loss   cls_loss   dfl_loss  Instances       Size\n"
     ]
    },
    {
     "name": "stderr",
     "output_type": "stream",
     "text": [
      "     87/200     0.498G      1.245      2.058      1.244          9        224: 100%|██████████| 355/355 [00:18<00:00, 19.35it/s]\n",
      "                 Class     Images  Instances      Box(P          R      mAP50  mAP50-95): 100%|██████████| 32/32 [00:04<00:00,  7.38it/s]"
     ]
    },
    {
     "name": "stdout",
     "output_type": "stream",
     "text": [
      "                   all       1500       3035      0.909      0.287        0.3      0.287\n"
     ]
    },
    {
     "name": "stderr",
     "output_type": "stream",
     "text": [
      "\n"
     ]
    },
    {
     "name": "stdout",
     "output_type": "stream",
     "text": [
      "\n",
      "      Epoch    GPU_mem   box_loss   cls_loss   dfl_loss  Instances       Size\n"
     ]
    },
    {
     "name": "stderr",
     "output_type": "stream",
     "text": [
      "     88/200     0.498G      1.251      2.069      1.246         12        224: 100%|██████████| 355/355 [00:18<00:00, 19.23it/s]\n",
      "                 Class     Images  Instances      Box(P          R      mAP50  mAP50-95): 100%|██████████| 32/32 [00:04<00:00,  7.23it/s]"
     ]
    },
    {
     "name": "stdout",
     "output_type": "stream",
     "text": [
      "                   all       1500       3035      0.898      0.288        0.3      0.287\n"
     ]
    },
    {
     "name": "stderr",
     "output_type": "stream",
     "text": [
      "\n"
     ]
    },
    {
     "name": "stdout",
     "output_type": "stream",
     "text": [
      "\n",
      "      Epoch    GPU_mem   box_loss   cls_loss   dfl_loss  Instances       Size\n"
     ]
    },
    {
     "name": "stderr",
     "output_type": "stream",
     "text": [
      "     89/200     0.498G      1.244      2.055       1.25         16        224: 100%|██████████| 355/355 [00:18<00:00, 19.37it/s]\n",
      "                 Class     Images  Instances      Box(P          R      mAP50  mAP50-95): 100%|██████████| 32/32 [00:04<00:00,  7.24it/s]\n"
     ]
    },
    {
     "name": "stdout",
     "output_type": "stream",
     "text": [
      "                   all       1500       3035      0.904      0.288        0.3      0.287\n",
      "\n",
      "      Epoch    GPU_mem   box_loss   cls_loss   dfl_loss  Instances       Size\n"
     ]
    },
    {
     "name": "stderr",
     "output_type": "stream",
     "text": [
      "     90/200     0.498G      1.252      2.068      1.246         19        224: 100%|██████████| 355/355 [00:18<00:00, 19.43it/s]\n",
      "                 Class     Images  Instances      Box(P          R      mAP50  mAP50-95): 100%|██████████| 32/32 [00:05<00:00,  6.34it/s]"
     ]
    },
    {
     "name": "stdout",
     "output_type": "stream",
     "text": [
      "                   all       1500       3035      0.904      0.287      0.301      0.288\n"
     ]
    },
    {
     "name": "stderr",
     "output_type": "stream",
     "text": [
      "\n"
     ]
    },
    {
     "name": "stdout",
     "output_type": "stream",
     "text": [
      "\n",
      "      Epoch    GPU_mem   box_loss   cls_loss   dfl_loss  Instances       Size\n"
     ]
    },
    {
     "name": "stderr",
     "output_type": "stream",
     "text": [
      "     91/200     0.498G      1.243      2.053      1.244         15        224: 100%|██████████| 355/355 [00:19<00:00, 18.16it/s]\n",
      "                 Class     Images  Instances      Box(P          R      mAP50  mAP50-95): 100%|██████████| 32/32 [00:04<00:00,  7.28it/s]"
     ]
    },
    {
     "name": "stdout",
     "output_type": "stream",
     "text": [
      "                   all       1500       3035      0.907      0.288      0.301      0.288\n"
     ]
    },
    {
     "name": "stderr",
     "output_type": "stream",
     "text": [
      "\n"
     ]
    },
    {
     "name": "stdout",
     "output_type": "stream",
     "text": [
      "\n",
      "      Epoch    GPU_mem   box_loss   cls_loss   dfl_loss  Instances       Size\n"
     ]
    },
    {
     "name": "stderr",
     "output_type": "stream",
     "text": [
      "     92/200     0.498G      1.246      2.065      1.246         16        224: 100%|██████████| 355/355 [00:18<00:00, 19.15it/s]\n",
      "                 Class     Images  Instances      Box(P          R      mAP50  mAP50-95): 100%|██████████| 32/32 [00:04<00:00,  7.09it/s]"
     ]
    },
    {
     "name": "stdout",
     "output_type": "stream",
     "text": [
      "                   all       1500       3035      0.916      0.288      0.302      0.288\n"
     ]
    },
    {
     "name": "stderr",
     "output_type": "stream",
     "text": [
      "\n"
     ]
    },
    {
     "name": "stdout",
     "output_type": "stream",
     "text": [
      "\n",
      "      Epoch    GPU_mem   box_loss   cls_loss   dfl_loss  Instances       Size\n"
     ]
    },
    {
     "name": "stderr",
     "output_type": "stream",
     "text": [
      "     93/200     0.498G      1.239      2.047      1.243          8        224: 100%|██████████| 355/355 [00:18<00:00, 19.30it/s]\n",
      "                 Class     Images  Instances      Box(P          R      mAP50  mAP50-95): 100%|██████████| 32/32 [00:04<00:00,  6.92it/s]"
     ]
    },
    {
     "name": "stdout",
     "output_type": "stream",
     "text": [
      "                   all       1500       3035      0.918      0.288      0.301      0.288\n"
     ]
    },
    {
     "name": "stderr",
     "output_type": "stream",
     "text": [
      "\n"
     ]
    },
    {
     "name": "stdout",
     "output_type": "stream",
     "text": [
      "\n",
      "      Epoch    GPU_mem   box_loss   cls_loss   dfl_loss  Instances       Size\n"
     ]
    },
    {
     "name": "stderr",
     "output_type": "stream",
     "text": [
      "     94/200     0.498G      1.245      2.068      1.246         11        224: 100%|██████████| 355/355 [00:18<00:00, 19.21it/s]\n",
      "                 Class     Images  Instances      Box(P          R      mAP50  mAP50-95): 100%|██████████| 32/32 [00:04<00:00,  7.21it/s]"
     ]
    },
    {
     "name": "stdout",
     "output_type": "stream",
     "text": [
      "                   all       1500       3035      0.897       0.29      0.301      0.288\n"
     ]
    },
    {
     "name": "stderr",
     "output_type": "stream",
     "text": [
      "\n"
     ]
    },
    {
     "name": "stdout",
     "output_type": "stream",
     "text": [
      "\n",
      "      Epoch    GPU_mem   box_loss   cls_loss   dfl_loss  Instances       Size\n"
     ]
    },
    {
     "name": "stderr",
     "output_type": "stream",
     "text": [
      "     95/200     0.498G      1.243      2.062      1.247          7        224: 100%|██████████| 355/355 [00:18<00:00, 19.44it/s]\n",
      "                 Class     Images  Instances      Box(P          R      mAP50  mAP50-95): 100%|██████████| 32/32 [00:04<00:00,  7.16it/s]"
     ]
    },
    {
     "name": "stdout",
     "output_type": "stream",
     "text": [
      "                   all       1500       3035      0.899       0.29      0.301      0.288\n"
     ]
    },
    {
     "name": "stderr",
     "output_type": "stream",
     "text": [
      "\n"
     ]
    },
    {
     "name": "stdout",
     "output_type": "stream",
     "text": [
      "\n",
      "      Epoch    GPU_mem   box_loss   cls_loss   dfl_loss  Instances       Size\n"
     ]
    },
    {
     "name": "stderr",
     "output_type": "stream",
     "text": [
      "     96/200     0.498G      1.244      2.062      1.246         18        224: 100%|██████████| 355/355 [00:18<00:00, 19.45it/s]\n",
      "                 Class     Images  Instances      Box(P          R      mAP50  mAP50-95): 100%|██████████| 32/32 [00:04<00:00,  7.16it/s]"
     ]
    },
    {
     "name": "stdout",
     "output_type": "stream",
     "text": [
      "                   all       1500       3035      0.896       0.29      0.301      0.288\n"
     ]
    },
    {
     "name": "stderr",
     "output_type": "stream",
     "text": [
      "\n"
     ]
    },
    {
     "name": "stdout",
     "output_type": "stream",
     "text": [
      "\n",
      "      Epoch    GPU_mem   box_loss   cls_loss   dfl_loss  Instances       Size\n"
     ]
    },
    {
     "name": "stderr",
     "output_type": "stream",
     "text": [
      "     97/200     0.498G      1.248      2.069      1.248         14        224: 100%|██████████| 355/355 [00:18<00:00, 19.35it/s]\n",
      "                 Class     Images  Instances      Box(P          R      mAP50  mAP50-95): 100%|██████████| 32/32 [00:04<00:00,  7.29it/s]"
     ]
    },
    {
     "name": "stdout",
     "output_type": "stream",
     "text": [
      "                   all       1500       3035      0.889      0.289        0.3      0.287\n"
     ]
    },
    {
     "name": "stderr",
     "output_type": "stream",
     "text": [
      "\n"
     ]
    },
    {
     "name": "stdout",
     "output_type": "stream",
     "text": [
      "\n",
      "      Epoch    GPU_mem   box_loss   cls_loss   dfl_loss  Instances       Size\n"
     ]
    },
    {
     "name": "stderr",
     "output_type": "stream",
     "text": [
      "     98/200     0.498G      1.243      2.054      1.246         17        224: 100%|██████████| 355/355 [00:18<00:00, 19.38it/s]\n",
      "                 Class     Images  Instances      Box(P          R      mAP50  mAP50-95): 100%|██████████| 32/32 [00:04<00:00,  7.19it/s]\n"
     ]
    },
    {
     "name": "stdout",
     "output_type": "stream",
     "text": [
      "                   all       1500       3035      0.915      0.287        0.3      0.287\n",
      "\n",
      "      Epoch    GPU_mem   box_loss   cls_loss   dfl_loss  Instances       Size\n"
     ]
    },
    {
     "name": "stderr",
     "output_type": "stream",
     "text": [
      "     99/200     0.498G      1.245      2.076       1.25         18        224: 100%|██████████| 355/355 [00:18<00:00, 19.53it/s]\n",
      "                 Class     Images  Instances      Box(P          R      mAP50  mAP50-95): 100%|██████████| 32/32 [00:04<00:00,  6.90it/s]"
     ]
    },
    {
     "name": "stdout",
     "output_type": "stream",
     "text": [
      "                   all       1500       3035      0.909      0.288      0.299      0.287\n"
     ]
    },
    {
     "name": "stderr",
     "output_type": "stream",
     "text": [
      "\n"
     ]
    },
    {
     "name": "stdout",
     "output_type": "stream",
     "text": [
      "\n",
      "      Epoch    GPU_mem   box_loss   cls_loss   dfl_loss  Instances       Size\n"
     ]
    },
    {
     "name": "stderr",
     "output_type": "stream",
     "text": [
      "    100/200     0.498G      1.239      2.045       1.24         11        224: 100%|██████████| 355/355 [00:18<00:00, 19.37it/s]\n",
      "                 Class     Images  Instances      Box(P          R      mAP50  mAP50-95): 100%|██████████| 32/32 [00:04<00:00,  7.26it/s]"
     ]
    },
    {
     "name": "stdout",
     "output_type": "stream",
     "text": [
      "                   all       1500       3035      0.913      0.287      0.299      0.288\n"
     ]
    },
    {
     "name": "stderr",
     "output_type": "stream",
     "text": [
      "\n"
     ]
    },
    {
     "name": "stdout",
     "output_type": "stream",
     "text": [
      "\n",
      "      Epoch    GPU_mem   box_loss   cls_loss   dfl_loss  Instances       Size\n"
     ]
    },
    {
     "name": "stderr",
     "output_type": "stream",
     "text": [
      "    101/200     0.498G      1.239      2.055      1.242         16        224: 100%|██████████| 355/355 [00:18<00:00, 19.50it/s]\n",
      "                 Class     Images  Instances      Box(P          R      mAP50  mAP50-95): 100%|██████████| 32/32 [00:04<00:00,  7.28it/s]"
     ]
    },
    {
     "name": "stdout",
     "output_type": "stream",
     "text": [
      "                   all       1500       3035       0.91      0.287        0.3      0.288\n"
     ]
    },
    {
     "name": "stderr",
     "output_type": "stream",
     "text": [
      "\n"
     ]
    },
    {
     "name": "stdout",
     "output_type": "stream",
     "text": [
      "\n",
      "      Epoch    GPU_mem   box_loss   cls_loss   dfl_loss  Instances       Size\n"
     ]
    },
    {
     "name": "stderr",
     "output_type": "stream",
     "text": [
      "    102/200     0.498G      1.224       2.03      1.235         15        224: 100%|██████████| 355/355 [00:18<00:00, 19.42it/s]\n",
      "                 Class     Images  Instances      Box(P          R      mAP50  mAP50-95): 100%|██████████| 32/32 [00:04<00:00,  7.06it/s]"
     ]
    },
    {
     "name": "stdout",
     "output_type": "stream",
     "text": [
      "                   all       1500       3035        0.9      0.288        0.3      0.288\n"
     ]
    },
    {
     "name": "stderr",
     "output_type": "stream",
     "text": [
      "\n"
     ]
    },
    {
     "name": "stdout",
     "output_type": "stream",
     "text": [
      "\n",
      "      Epoch    GPU_mem   box_loss   cls_loss   dfl_loss  Instances       Size\n"
     ]
    },
    {
     "name": "stderr",
     "output_type": "stream",
     "text": [
      "    103/200     0.498G      1.233      2.038      1.243         22        224: 100%|██████████| 355/355 [00:18<00:00, 19.20it/s]\n",
      "                 Class     Images  Instances      Box(P          R      mAP50  mAP50-95): 100%|██████████| 32/32 [00:04<00:00,  7.32it/s]\n"
     ]
    },
    {
     "name": "stdout",
     "output_type": "stream",
     "text": [
      "                   all       1500       3035      0.896      0.289        0.3      0.288\n",
      "\n",
      "      Epoch    GPU_mem   box_loss   cls_loss   dfl_loss  Instances       Size\n"
     ]
    },
    {
     "name": "stderr",
     "output_type": "stream",
     "text": [
      "    104/200     0.498G      1.235      2.045      1.241         17        224: 100%|██████████| 355/355 [00:18<00:00, 19.44it/s]\n",
      "                 Class     Images  Instances      Box(P          R      mAP50  mAP50-95): 100%|██████████| 32/32 [00:04<00:00,  7.24it/s]"
     ]
    },
    {
     "name": "stdout",
     "output_type": "stream",
     "text": [
      "                   all       1500       3035      0.897      0.289        0.3      0.287\n"
     ]
    },
    {
     "name": "stderr",
     "output_type": "stream",
     "text": [
      "\n"
     ]
    },
    {
     "name": "stdout",
     "output_type": "stream",
     "text": [
      "\n",
      "      Epoch    GPU_mem   box_loss   cls_loss   dfl_loss  Instances       Size\n"
     ]
    },
    {
     "name": "stderr",
     "output_type": "stream",
     "text": [
      "    105/200     0.498G      1.243      2.064      1.246         17        224: 100%|██████████| 355/355 [00:18<00:00, 19.36it/s]\n",
      "                 Class     Images  Instances      Box(P          R      mAP50  mAP50-95): 100%|██████████| 32/32 [00:04<00:00,  7.34it/s]"
     ]
    },
    {
     "name": "stdout",
     "output_type": "stream",
     "text": [
      "                   all       1500       3035      0.897      0.289        0.3      0.287\n"
     ]
    },
    {
     "name": "stderr",
     "output_type": "stream",
     "text": [
      "\n"
     ]
    },
    {
     "name": "stdout",
     "output_type": "stream",
     "text": [
      "\n",
      "      Epoch    GPU_mem   box_loss   cls_loss   dfl_loss  Instances       Size\n"
     ]
    },
    {
     "name": "stderr",
     "output_type": "stream",
     "text": [
      "    106/200     0.498G      1.241      2.061      1.243         12        224: 100%|██████████| 355/355 [00:18<00:00, 19.40it/s]\n",
      "                 Class     Images  Instances      Box(P          R      mAP50  mAP50-95): 100%|██████████| 32/32 [00:04<00:00,  7.18it/s]"
     ]
    },
    {
     "name": "stdout",
     "output_type": "stream",
     "text": [
      "                   all       1500       3035        0.9      0.288      0.299      0.287\n"
     ]
    },
    {
     "name": "stderr",
     "output_type": "stream",
     "text": [
      "\n"
     ]
    },
    {
     "name": "stdout",
     "output_type": "stream",
     "text": [
      "\n",
      "      Epoch    GPU_mem   box_loss   cls_loss   dfl_loss  Instances       Size\n"
     ]
    },
    {
     "name": "stderr",
     "output_type": "stream",
     "text": [
      "    107/200     0.498G      1.244      2.057      1.242         21        224: 100%|██████████| 355/355 [00:18<00:00, 19.47it/s]\n",
      "                 Class     Images  Instances      Box(P          R      mAP50  mAP50-95): 100%|██████████| 32/32 [00:04<00:00,  7.02it/s]"
     ]
    },
    {
     "name": "stdout",
     "output_type": "stream",
     "text": [
      "                   all       1500       3035      0.902      0.288      0.299      0.287\n"
     ]
    },
    {
     "name": "stderr",
     "output_type": "stream",
     "text": [
      "\n"
     ]
    },
    {
     "name": "stdout",
     "output_type": "stream",
     "text": [
      "\n",
      "      Epoch    GPU_mem   box_loss   cls_loss   dfl_loss  Instances       Size\n"
     ]
    },
    {
     "name": "stderr",
     "output_type": "stream",
     "text": [
      "    108/200     0.498G       1.23      2.037       1.24         19        224: 100%|██████████| 355/355 [00:18<00:00, 19.41it/s]\n",
      "                 Class     Images  Instances      Box(P          R      mAP50  mAP50-95): 100%|██████████| 32/32 [00:04<00:00,  7.24it/s]"
     ]
    },
    {
     "name": "stdout",
     "output_type": "stream",
     "text": [
      "                   all       1500       3035      0.903      0.289        0.3      0.287\n"
     ]
    },
    {
     "name": "stderr",
     "output_type": "stream",
     "text": [
      "\n"
     ]
    },
    {
     "name": "stdout",
     "output_type": "stream",
     "text": [
      "\n",
      "      Epoch    GPU_mem   box_loss   cls_loss   dfl_loss  Instances       Size\n"
     ]
    },
    {
     "name": "stderr",
     "output_type": "stream",
     "text": [
      "    109/200     0.498G      1.233      2.044       1.24         17        224: 100%|██████████| 355/355 [00:18<00:00, 19.29it/s]\n",
      "                 Class     Images  Instances      Box(P          R      mAP50  mAP50-95): 100%|██████████| 32/32 [00:04<00:00,  7.28it/s]\n"
     ]
    },
    {
     "name": "stdout",
     "output_type": "stream",
     "text": [
      "                   all       1500       3035        0.9      0.289        0.3      0.287\n",
      "\n",
      "      Epoch    GPU_mem   box_loss   cls_loss   dfl_loss  Instances       Size\n"
     ]
    },
    {
     "name": "stderr",
     "output_type": "stream",
     "text": [
      "    110/200     0.498G      1.225      2.026      1.235         26        224: 100%|██████████| 355/355 [00:18<00:00, 19.46it/s]\n",
      "                 Class     Images  Instances      Box(P          R      mAP50  mAP50-95): 100%|██████████| 32/32 [00:04<00:00,  7.23it/s]"
     ]
    },
    {
     "name": "stdout",
     "output_type": "stream",
     "text": [
      "                   all       1500       3035      0.901      0.288        0.3      0.287\n"
     ]
    },
    {
     "name": "stderr",
     "output_type": "stream",
     "text": [
      "\n"
     ]
    },
    {
     "name": "stdout",
     "output_type": "stream",
     "text": [
      "\n",
      "      Epoch    GPU_mem   box_loss   cls_loss   dfl_loss  Instances       Size\n"
     ]
    },
    {
     "name": "stderr",
     "output_type": "stream",
     "text": [
      "    111/200     0.498G      1.228      2.043       1.24         11        224: 100%|██████████| 355/355 [00:18<00:00, 19.25it/s]\n",
      "                 Class     Images  Instances      Box(P          R      mAP50  mAP50-95): 100%|██████████| 32/32 [00:04<00:00,  7.19it/s]"
     ]
    },
    {
     "name": "stdout",
     "output_type": "stream",
     "text": [
      "                   all       1500       3035      0.899      0.289        0.3      0.287\n"
     ]
    },
    {
     "name": "stderr",
     "output_type": "stream",
     "text": [
      "\n"
     ]
    },
    {
     "name": "stdout",
     "output_type": "stream",
     "text": [
      "\n",
      "      Epoch    GPU_mem   box_loss   cls_loss   dfl_loss  Instances       Size\n"
     ]
    },
    {
     "name": "stderr",
     "output_type": "stream",
     "text": [
      "    112/200     0.498G       1.22      2.037      1.238         12        224: 100%|██████████| 355/355 [00:18<00:00, 19.30it/s]\n",
      "                 Class     Images  Instances      Box(P          R      mAP50  mAP50-95): 100%|██████████| 32/32 [00:04<00:00,  6.98it/s]"
     ]
    },
    {
     "name": "stdout",
     "output_type": "stream",
     "text": [
      "                   all       1500       3035      0.901      0.289        0.3      0.287\n"
     ]
    },
    {
     "name": "stderr",
     "output_type": "stream",
     "text": [
      "\n"
     ]
    },
    {
     "name": "stdout",
     "output_type": "stream",
     "text": [
      "\n",
      "      Epoch    GPU_mem   box_loss   cls_loss   dfl_loss  Instances       Size\n"
     ]
    },
    {
     "name": "stderr",
     "output_type": "stream",
     "text": [
      "    113/200     0.498G      1.223      2.027      1.239         10        224: 100%|██████████| 355/355 [00:18<00:00, 19.47it/s]\n",
      "                 Class     Images  Instances      Box(P          R      mAP50  mAP50-95): 100%|██████████| 32/32 [00:04<00:00,  7.38it/s]"
     ]
    },
    {
     "name": "stdout",
     "output_type": "stream",
     "text": [
      "                   all       1500       3035      0.902      0.289        0.3      0.288\n"
     ]
    },
    {
     "name": "stderr",
     "output_type": "stream",
     "text": [
      "\n"
     ]
    },
    {
     "name": "stdout",
     "output_type": "stream",
     "text": [
      "\n",
      "      Epoch    GPU_mem   box_loss   cls_loss   dfl_loss  Instances       Size\n"
     ]
    },
    {
     "name": "stderr",
     "output_type": "stream",
     "text": [
      "    114/200     0.498G      1.234      2.054      1.241         11        224: 100%|██████████| 355/355 [00:18<00:00, 19.50it/s]\n",
      "                 Class     Images  Instances      Box(P          R      mAP50  mAP50-95): 100%|██████████| 32/32 [00:04<00:00,  7.28it/s]"
     ]
    },
    {
     "name": "stdout",
     "output_type": "stream",
     "text": [
      "                   all       1500       3035      0.901      0.288        0.3      0.288\n"
     ]
    },
    {
     "name": "stderr",
     "output_type": "stream",
     "text": [
      "\n"
     ]
    },
    {
     "name": "stdout",
     "output_type": "stream",
     "text": [
      "\n",
      "      Epoch    GPU_mem   box_loss   cls_loss   dfl_loss  Instances       Size\n"
     ]
    },
    {
     "name": "stderr",
     "output_type": "stream",
     "text": [
      "    115/200     0.498G      1.231      2.055      1.243         13        224: 100%|██████████| 355/355 [00:18<00:00, 19.31it/s]\n",
      "                 Class     Images  Instances      Box(P          R      mAP50  mAP50-95): 100%|██████████| 32/32 [00:04<00:00,  7.20it/s]"
     ]
    },
    {
     "name": "stdout",
     "output_type": "stream",
     "text": [
      "                   all       1500       3035      0.903      0.288        0.3      0.288\n"
     ]
    },
    {
     "name": "stderr",
     "output_type": "stream",
     "text": [
      "\n"
     ]
    },
    {
     "name": "stdout",
     "output_type": "stream",
     "text": [
      "\n",
      "      Epoch    GPU_mem   box_loss   cls_loss   dfl_loss  Instances       Size\n"
     ]
    },
    {
     "name": "stderr",
     "output_type": "stream",
     "text": [
      "    116/200     0.498G       1.21      2.005      1.229         12        224: 100%|██████████| 355/355 [00:18<00:00, 19.41it/s]\n",
      "                 Class     Images  Instances      Box(P          R      mAP50  mAP50-95): 100%|██████████| 32/32 [00:04<00:00,  7.33it/s]\n"
     ]
    },
    {
     "name": "stdout",
     "output_type": "stream",
     "text": [
      "                   all       1500       3035      0.909      0.288        0.3      0.288\n",
      "\n",
      "      Epoch    GPU_mem   box_loss   cls_loss   dfl_loss  Instances       Size\n"
     ]
    },
    {
     "name": "stderr",
     "output_type": "stream",
     "text": [
      "    117/200     0.498G      1.201       2.01      1.231          6        224: 100%|██████████| 355/355 [00:18<00:00, 19.52it/s]\n",
      "                 Class     Images  Instances      Box(P          R      mAP50  mAP50-95): 100%|██████████| 32/32 [00:04<00:00,  7.29it/s]\n"
     ]
    },
    {
     "name": "stdout",
     "output_type": "stream",
     "text": [
      "                   all       1500       3035      0.911      0.288        0.3      0.288\n",
      "\n",
      "      Epoch    GPU_mem   box_loss   cls_loss   dfl_loss  Instances       Size\n"
     ]
    },
    {
     "name": "stderr",
     "output_type": "stream",
     "text": [
      "    118/200     0.498G      1.217      2.036      1.239         24        224: 100%|██████████| 355/355 [00:18<00:00, 19.35it/s]\n",
      "                 Class     Images  Instances      Box(P          R      mAP50  mAP50-95): 100%|██████████| 32/32 [00:04<00:00,  7.19it/s]"
     ]
    },
    {
     "name": "stdout",
     "output_type": "stream",
     "text": [
      "                   all       1500       3035       0.91      0.288        0.3      0.287\n"
     ]
    },
    {
     "name": "stderr",
     "output_type": "stream",
     "text": [
      "\n"
     ]
    },
    {
     "name": "stdout",
     "output_type": "stream",
     "text": [
      "\n",
      "      Epoch    GPU_mem   box_loss   cls_loss   dfl_loss  Instances       Size\n"
     ]
    },
    {
     "name": "stderr",
     "output_type": "stream",
     "text": [
      "    119/200     0.498G      1.215      2.036      1.235         17        224: 100%|██████████| 355/355 [00:18<00:00, 19.42it/s]\n",
      "                 Class     Images  Instances      Box(P          R      mAP50  mAP50-95): 100%|██████████| 32/32 [00:04<00:00,  7.35it/s]"
     ]
    },
    {
     "name": "stdout",
     "output_type": "stream",
     "text": [
      "                   all       1500       3035      0.911      0.288        0.3      0.288\n"
     ]
    },
    {
     "name": "stderr",
     "output_type": "stream",
     "text": [
      "\n"
     ]
    },
    {
     "name": "stdout",
     "output_type": "stream",
     "text": [
      "\n",
      "      Epoch    GPU_mem   box_loss   cls_loss   dfl_loss  Instances       Size\n"
     ]
    },
    {
     "name": "stderr",
     "output_type": "stream",
     "text": [
      "    120/200     0.498G      1.219       2.03      1.238          5        224: 100%|██████████| 355/355 [00:18<00:00, 19.47it/s]\n",
      "                 Class     Images  Instances      Box(P          R      mAP50  mAP50-95): 100%|██████████| 32/32 [00:04<00:00,  7.26it/s]\n"
     ]
    },
    {
     "name": "stdout",
     "output_type": "stream",
     "text": [
      "                   all       1500       3035      0.909      0.288        0.3      0.288\n",
      "\n",
      "      Epoch    GPU_mem   box_loss   cls_loss   dfl_loss  Instances       Size\n"
     ]
    },
    {
     "name": "stderr",
     "output_type": "stream",
     "text": [
      "    121/200     0.498G      1.197      2.004      1.229          9        224: 100%|██████████| 355/355 [00:18<00:00, 19.18it/s]\n",
      "                 Class     Images  Instances      Box(P          R      mAP50  mAP50-95): 100%|██████████| 32/32 [00:04<00:00,  7.03it/s]"
     ]
    },
    {
     "name": "stdout",
     "output_type": "stream",
     "text": [
      "                   all       1500       3035      0.906      0.288        0.3      0.288\n"
     ]
    },
    {
     "name": "stderr",
     "output_type": "stream",
     "text": [
      "\n"
     ]
    },
    {
     "name": "stdout",
     "output_type": "stream",
     "text": [
      "\n",
      "      Epoch    GPU_mem   box_loss   cls_loss   dfl_loss  Instances       Size\n"
     ]
    },
    {
     "name": "stderr",
     "output_type": "stream",
     "text": [
      "    122/200     0.498G      1.207      2.024      1.233         14        224: 100%|██████████| 355/355 [00:18<00:00, 19.38it/s]\n",
      "                 Class     Images  Instances      Box(P          R      mAP50  mAP50-95): 100%|██████████| 32/32 [00:04<00:00,  7.19it/s]"
     ]
    },
    {
     "name": "stdout",
     "output_type": "stream",
     "text": [
      "                   all       1500       3035      0.905      0.288        0.3      0.288\n",
      "\u001b[34m\u001b[1mEarlyStopping: \u001b[0mTraining stopped early as no improvement observed in last 30 epochs. Best results observed at epoch 92, best model saved as best.pt.\n",
      "To update EarlyStopping(patience=30) pass a new patience value, i.e. `patience=300` or use `patience=0` to disable EarlyStopping.\n"
     ]
    },
    {
     "name": "stderr",
     "output_type": "stream",
     "text": [
      "\n"
     ]
    },
    {
     "name": "stdout",
     "output_type": "stream",
     "text": [
      "\n",
      "122 epochs completed in 0.790 hours.\n",
      "Optimizer stripped from runs\\synthetic_extreme2\\weights\\last.pt, 6.2MB\n",
      "Optimizer stripped from runs\\synthetic_extreme2\\weights\\best.pt, 6.2MB\n",
      "\n",
      "Validating runs\\synthetic_extreme2\\weights\\best.pt...\n",
      "Ultralytics 8.3.141  Python-3.9.18 torch-2.5.1+cu121 CUDA:0 (NVIDIA GeForce RTX 3070 Ti, 8192MiB)\n",
      "Model summary (fused): 72 layers, 3,007,793 parameters, 0 gradients, 8.1 GFLOPs\n"
     ]
    },
    {
     "name": "stderr",
     "output_type": "stream",
     "text": [
      "                 Class     Images  Instances      Box(P          R      mAP50  mAP50-95): 100%|██████████| 32/32 [00:05<00:00,  6.26it/s]\n"
     ]
    },
    {
     "name": "stdout",
     "output_type": "stream",
     "text": [
      "                   all       1500       3035      0.916      0.288      0.302      0.288\n",
      "                  blue        296        296      0.992      0.328      0.343      0.328\n",
      "                   red        274        274      0.992      0.328       0.35      0.332\n",
      "                orange        273        273      0.965      0.249      0.294       0.28\n",
      "                yellow        268        268      0.728      0.261      0.269      0.253\n",
      "                purple        271        271      0.837      0.295      0.302      0.293\n",
      "                 brown        275        275      0.977      0.258      0.271      0.261\n",
      "                  gray        284        284       0.99      0.282      0.304      0.286\n",
      "                 black        277        277      0.979      0.303      0.317      0.309\n",
      "                  pink        281        281      0.946      0.267       0.29       0.28\n",
      "                 white        266        266      0.672       0.32      0.283      0.274\n",
      "                 green        270        270          1      0.274      0.293      0.273\n",
      "Speed: 0.0ms preprocess, 0.3ms inference, 0.0ms loss, 1.0ms postprocess per image\n",
      "Results saved to \u001b[1mruns\\synthetic_extreme2\u001b[0m\n",
      "Ultralytics 8.3.141  Python-3.9.18 torch-2.5.1+cu121 CUDA:0 (NVIDIA GeForce RTX 3070 Ti, 8192MiB)\n",
      "Model summary (fused): 72 layers, 3,007,793 parameters, 0 gradients, 8.1 GFLOPs\n",
      "\u001b[34m\u001b[1mval: \u001b[0mFast image access  (ping: 0.00.0 ms, read: 376.2288.4 MB/s, size: 26.3 KB)\n"
     ]
    },
    {
     "name": "stderr",
     "output_type": "stream",
     "text": [
      "\u001b[34m\u001b[1mval: \u001b[0mScanning C:\\Users\\fredr\\BTH\\Robotik Project\\Robotics\\21MajFiles\\apa\\synthetic_squares_extreme\\labels\\val.cache... 1500 images, 0 backgrounds, 0 corrupt: 100%|██████████| 1500/1500 [00:00<?, ?it/s]\n",
      "                 Class     Images  Instances      Box(P          R      mAP50  mAP50-95): 100%|██████████| 63/63 [00:04<00:00, 14.91it/s]\n"
     ]
    },
    {
     "name": "stdout",
     "output_type": "stream",
     "text": [
      "                   all       1500       3035      0.916      0.288      0.301      0.288\n",
      "                  blue        296        296      0.992      0.328      0.343      0.329\n",
      "                   red        274        274      0.992      0.328       0.35      0.332\n",
      "                orange        273        273      0.965      0.249      0.294       0.28\n",
      "                yellow        268        268      0.727      0.261      0.269      0.252\n",
      "                purple        271        271      0.837      0.295      0.302      0.293\n",
      "                 brown        275        275      0.977      0.258      0.271      0.262\n",
      "                  gray        284        284       0.99      0.282      0.304      0.286\n",
      "                 black        277        277      0.979      0.303      0.317      0.309\n",
      "                  pink        281        281      0.946      0.267       0.29      0.279\n",
      "                 white        266        266      0.672       0.32      0.283      0.274\n",
      "                 green        270        270          1      0.274      0.293      0.273\n",
      "Speed: 0.0ms preprocess, 0.5ms inference, 0.0ms loss, 0.7ms postprocess per image\n",
      "Results saved to \u001b[1mruns\\synthetic_extreme22\u001b[0m\n"
     ]
    },
    {
     "name": "stderr",
     "output_type": "stream",
     "text": [
      "  0%|          | 0/60 [00:00<?, ?it/s]"
     ]
    },
    {
     "name": "stdout",
     "output_type": "stream",
     "text": [
      "\n",
      "image 1/1 C:\\Users\\fredr\\BTH\\Robotik Project\\Robotics\\yolo_dataset\\images\\train\\blue_20250521-110915-682658.jpg: 224x224 2 whites, 6.0ms\n",
      "Speed: 0.7ms preprocess, 6.0ms inference, 3.5ms postprocess per image at shape (1, 3, 224, 224)\n"
     ]
    },
    {
     "name": "stderr",
     "output_type": "stream",
     "text": [
      "  2%|▏         | 1/60 [00:00<00:12,  4.61it/s]"
     ]
    },
    {
     "name": "stdout",
     "output_type": "stream",
     "text": [
      "\n",
      "image 1/1 C:\\Users\\fredr\\BTH\\Robotik Project\\Robotics\\yolo_dataset\\images\\train\\blue_20250521-110915-962759.jpg: 224x224 2 whites, 6.6ms\n",
      "Speed: 0.6ms preprocess, 6.6ms inference, 1.4ms postprocess per image at shape (1, 3, 224, 224)\n",
      "\n",
      "image 1/1 C:\\Users\\fredr\\BTH\\Robotik Project\\Robotics\\yolo_dataset\\images\\train\\blue_20250521-110920-333864.jpg: 224x224 1 white, 5.7ms\n",
      "Speed: 0.5ms preprocess, 5.7ms inference, 1.2ms postprocess per image at shape (1, 3, 224, 224)\n",
      "\n",
      "image 1/1 C:\\Users\\fredr\\BTH\\Robotik Project\\Robotics\\yolo_dataset\\images\\train\\blue_20250521-110925-724138.jpg: 224x224 1 white, 4.8ms\n",
      "Speed: 0.5ms preprocess, 4.8ms inference, 1.1ms postprocess per image at shape (1, 3, 224, 224)\n",
      "\n",
      "image 1/1 C:\\Users\\fredr\\BTH\\Robotik Project\\Robotics\\yolo_dataset\\images\\train\\blue_20250521-110926-021988.jpg: 224x224 1 gray, 1 white, 4.9ms\n",
      "Speed: 0.5ms preprocess, 4.9ms inference, 1.6ms postprocess per image at shape (1, 3, 224, 224)\n",
      "\n",
      "image 1/1 C:\\Users\\fredr\\BTH\\Robotik Project\\Robotics\\yolo_dataset\\images\\train\\blue_20250521-110926-300071.jpg: 224x224 1 white, 4.9ms\n",
      "Speed: 0.5ms preprocess, 4.9ms inference, 1.1ms postprocess per image at shape (1, 3, 224, 224)\n",
      "\n",
      "image 1/1 C:\\Users\\fredr\\BTH\\Robotik Project\\Robotics\\yolo_dataset\\images\\train\\blue_20250521-110926-888394.jpg: 224x224 1 white, 4.9ms\n",
      "Speed: 0.5ms preprocess, 4.9ms inference, 1.1ms postprocess per image at shape (1, 3, 224, 224)\n",
      "\n",
      "image 1/1 C:\\Users\\fredr\\BTH\\Robotik Project\\Robotics\\yolo_dataset\\images\\train\\blue_20250521-110927-480894.jpg: 224x224 1 white, 4.9ms\n",
      "Speed: 0.5ms preprocess, 4.9ms inference, 1.1ms postprocess per image at shape (1, 3, 224, 224)\n",
      "\n",
      "image 1/1 C:\\Users\\fredr\\BTH\\Robotik Project\\Robotics\\yolo_dataset\\images\\train\\blue_20250521-110928-122124.jpg: 224x224 2 whites, 4.9ms\n",
      "Speed: 0.5ms preprocess, 4.9ms inference, 1.1ms postprocess per image at shape (1, 3, 224, 224)\n"
     ]
    },
    {
     "name": "stderr",
     "output_type": "stream",
     "text": [
      " 15%|█▌        | 9/60 [00:00<00:01, 33.83it/s]"
     ]
    },
    {
     "name": "stdout",
     "output_type": "stream",
     "text": [
      "\n",
      "image 1/1 C:\\Users\\fredr\\BTH\\Robotik Project\\Robotics\\yolo_dataset\\images\\train\\blue_20250521-110929-088707.jpg: 224x224 1 white, 5.8ms\n",
      "Speed: 0.5ms preprocess, 5.8ms inference, 1.4ms postprocess per image at shape (1, 3, 224, 224)\n",
      "\n",
      "image 1/1 C:\\Users\\fredr\\BTH\\Robotik Project\\Robotics\\yolo_dataset\\images\\train\\blue_20250521-110935-546501.jpg: 224x224 2 grays, 2 whites, 5.6ms\n",
      "Speed: 0.5ms preprocess, 5.6ms inference, 1.2ms postprocess per image at shape (1, 3, 224, 224)\n",
      "\n",
      "image 1/1 C:\\Users\\fredr\\BTH\\Robotik Project\\Robotics\\yolo_dataset\\images\\train\\blue_20250521-110940-008538.jpg: 224x224 1 black, 4.7ms\n",
      "Speed: 0.5ms preprocess, 4.7ms inference, 1.1ms postprocess per image at shape (1, 3, 224, 224)\n",
      "\n",
      "image 1/1 C:\\Users\\fredr\\BTH\\Robotik Project\\Robotics\\yolo_dataset\\images\\train\\blue_20250521-110940-607466.jpg: 224x224 1 black, 1 white, 4.8ms\n",
      "Speed: 0.5ms preprocess, 4.8ms inference, 1.2ms postprocess per image at shape (1, 3, 224, 224)\n",
      "\n",
      "image 1/1 C:\\Users\\fredr\\BTH\\Robotik Project\\Robotics\\yolo_dataset\\images\\train\\blue_20250521-110941-216159.jpg: 224x224 1 gray, 1 white, 5.3ms\n",
      "Speed: 0.5ms preprocess, 5.3ms inference, 1.1ms postprocess per image at shape (1, 3, 224, 224)\n",
      "\n",
      "image 1/1 C:\\Users\\fredr\\BTH\\Robotik Project\\Robotics\\yolo_dataset\\images\\train\\blue_20250521-110959-515512.jpg: 224x224 1 white, 5.7ms\n",
      "Speed: 0.5ms preprocess, 5.7ms inference, 1.2ms postprocess per image at shape (1, 3, 224, 224)\n",
      "\n",
      "image 1/1 C:\\Users\\fredr\\BTH\\Robotik Project\\Robotics\\yolo_dataset\\images\\train\\blue_20250521-111031-404255.jpg: 224x224 1 white, 5.1ms\n",
      "Speed: 0.5ms preprocess, 5.1ms inference, 2.2ms postprocess per image at shape (1, 3, 224, 224)\n",
      "\n",
      "image 1/1 C:\\Users\\fredr\\BTH\\Robotik Project\\Robotics\\yolo_dataset\\images\\train\\blue_20250521-111031-704698.jpg: 224x224 1 brown, 1 white, 4.8ms\n",
      "Speed: 0.7ms preprocess, 4.8ms inference, 1.2ms postprocess per image at shape (1, 3, 224, 224)\n"
     ]
    },
    {
     "name": "stderr",
     "output_type": "stream",
     "text": [
      " 28%|██▊       | 17/60 [00:00<00:00, 48.91it/s]"
     ]
    },
    {
     "name": "stdout",
     "output_type": "stream",
     "text": [
      "\n",
      "image 1/1 C:\\Users\\fredr\\BTH\\Robotik Project\\Robotics\\yolo_dataset\\images\\train\\blue_20250521-111037-179557.jpg: 224x224 1 white, 4.7ms\n",
      "Speed: 0.5ms preprocess, 4.7ms inference, 1.6ms postprocess per image at shape (1, 3, 224, 224)\n",
      "\n",
      "image 1/1 C:\\Users\\fredr\\BTH\\Robotik Project\\Robotics\\yolo_dataset\\images\\train\\blue_20250521-111037-487824.jpg: 224x224 1 white, 4.7ms\n",
      "Speed: 0.6ms preprocess, 4.7ms inference, 1.3ms postprocess per image at shape (1, 3, 224, 224)\n",
      "\n",
      "image 1/1 C:\\Users\\fredr\\BTH\\Robotik Project\\Robotics\\yolo_dataset\\images\\train\\blue_20250521-111038-353983.jpg: 224x224 1 white, 7.9ms\n",
      "Speed: 0.6ms preprocess, 7.9ms inference, 1.5ms postprocess per image at shape (1, 3, 224, 224)\n",
      "\n",
      "image 1/1 C:\\Users\\fredr\\BTH\\Robotik Project\\Robotics\\yolo_dataset\\images\\train\\blue_20250521-111038-937387.jpg: 224x224 1 white, 5.5ms\n",
      "Speed: 0.5ms preprocess, 5.5ms inference, 1.3ms postprocess per image at shape (1, 3, 224, 224)\n",
      "\n",
      "image 1/1 C:\\Users\\fredr\\BTH\\Robotik Project\\Robotics\\yolo_dataset\\images\\train\\blue_20250521-111039-239997.jpg: 224x224 1 white, 5.1ms\n",
      "Speed: 0.5ms preprocess, 5.1ms inference, 1.6ms postprocess per image at shape (1, 3, 224, 224)\n",
      "\n",
      "image 1/1 C:\\Users\\fredr\\BTH\\Robotik Project\\Robotics\\yolo_dataset\\images\\train\\blue_20250521-111039-533325.jpg: 224x224 (no detections), 4.8ms\n",
      "Speed: 0.5ms preprocess, 4.8ms inference, 0.5ms postprocess per image at shape (1, 3, 224, 224)\n",
      "\n",
      "image 1/1 C:\\Users\\fredr\\BTH\\Robotik Project\\Robotics\\yolo_dataset\\images\\train\\blue_20250521-111039-819383.jpg: 224x224 1 white, 5.4ms\n",
      "Speed: 0.6ms preprocess, 5.4ms inference, 1.1ms postprocess per image at shape (1, 3, 224, 224)\n",
      "\n",
      "image 1/1 C:\\Users\\fredr\\BTH\\Robotik Project\\Robotics\\yolo_dataset\\images\\train\\blue_20250521-111043-363917.jpg: 224x224 6 whites, 5.7ms\n",
      "Speed: 0.5ms preprocess, 5.7ms inference, 1.2ms postprocess per image at shape (1, 3, 224, 224)\n"
     ]
    },
    {
     "name": "stderr",
     "output_type": "stream",
     "text": [
      " 42%|████▏     | 25/60 [00:00<00:00, 57.92it/s]"
     ]
    },
    {
     "name": "stdout",
     "output_type": "stream",
     "text": [
      "\n",
      "image 1/1 C:\\Users\\fredr\\BTH\\Robotik Project\\Robotics\\yolo_dataset\\images\\train\\blue_20250521-111044-533669.jpg: 224x224 5 whites, 5.6ms\n",
      "Speed: 0.6ms preprocess, 5.6ms inference, 1.2ms postprocess per image at shape (1, 3, 224, 224)\n",
      "\n",
      "image 1/1 C:\\Users\\fredr\\BTH\\Robotik Project\\Robotics\\yolo_dataset\\images\\train\\blue_20250521-111045-123291.jpg: 224x224 1 black, 5 whites, 6.2ms\n",
      "Speed: 0.5ms preprocess, 6.2ms inference, 1.2ms postprocess per image at shape (1, 3, 224, 224)\n",
      "\n",
      "image 1/1 C:\\Users\\fredr\\BTH\\Robotik Project\\Robotics\\yolo_dataset\\images\\train\\blue_20250521-111045-748344.jpg: 224x224 1 black, 4 whites, 4.7ms\n",
      "Speed: 0.5ms preprocess, 4.7ms inference, 1.4ms postprocess per image at shape (1, 3, 224, 224)\n",
      "\n",
      "image 1/1 C:\\Users\\fredr\\BTH\\Robotik Project\\Robotics\\yolo_dataset\\images\\train\\blue_20250521-111046-040455.jpg: 224x224 1 black, 4 whites, 5.1ms\n",
      "Speed: 0.5ms preprocess, 5.1ms inference, 1.2ms postprocess per image at shape (1, 3, 224, 224)\n",
      "\n",
      "image 1/1 C:\\Users\\fredr\\BTH\\Robotik Project\\Robotics\\yolo_dataset\\images\\train\\blue_20250521-111046-649345.jpg: 224x224 1 black, 4 whites, 5.7ms\n",
      "Speed: 0.5ms preprocess, 5.7ms inference, 1.2ms postprocess per image at shape (1, 3, 224, 224)\n",
      "\n",
      "image 1/1 C:\\Users\\fredr\\BTH\\Robotik Project\\Robotics\\yolo_dataset\\images\\train\\blue_20250521-111047-540331.jpg: 224x224 2 whites, 4.8ms\n",
      "Speed: 0.6ms preprocess, 4.8ms inference, 1.2ms postprocess per image at shape (1, 3, 224, 224)\n",
      "\n",
      "image 1/1 C:\\Users\\fredr\\BTH\\Robotik Project\\Robotics\\yolo_dataset\\images\\train\\blue_20250521-111048-124073.jpg: 224x224 1 white, 7.1ms\n",
      "Speed: 0.9ms preprocess, 7.1ms inference, 1.6ms postprocess per image at shape (1, 3, 224, 224)\n"
     ]
    },
    {
     "name": "stderr",
     "output_type": "stream",
     "text": [
      " 53%|█████▎    | 32/60 [00:00<00:00, 61.25it/s]"
     ]
    },
    {
     "name": "stdout",
     "output_type": "stream",
     "text": [
      "\n",
      "image 1/1 C:\\Users\\fredr\\BTH\\Robotik Project\\Robotics\\yolo_dataset\\images\\train\\blue_20250521-111048-418027.jpg: 224x224 2 whites, 5.2ms\n",
      "Speed: 0.5ms preprocess, 5.2ms inference, 1.2ms postprocess per image at shape (1, 3, 224, 224)\n",
      "\n",
      "image 1/1 C:\\Users\\fredr\\BTH\\Robotik Project\\Robotics\\yolo_dataset\\images\\train\\blue_20250521-111048-707067.jpg: 224x224 1 black, 4.8ms\n",
      "Speed: 0.5ms preprocess, 4.8ms inference, 1.2ms postprocess per image at shape (1, 3, 224, 224)\n",
      "\n",
      "image 1/1 C:\\Users\\fredr\\BTH\\Robotik Project\\Robotics\\yolo_dataset\\images\\train\\blue_20250521-111052-565519.jpg: 224x224 (no detections), 5.3ms\n",
      "Speed: 0.5ms preprocess, 5.3ms inference, 0.6ms postprocess per image at shape (1, 3, 224, 224)\n",
      "\n",
      "image 1/1 C:\\Users\\fredr\\BTH\\Robotik Project\\Robotics\\yolo_dataset\\images\\train\\blue_20250521-111101-100637.jpg: 224x224 1 white, 4.8ms\n",
      "Speed: 0.5ms preprocess, 4.8ms inference, 1.2ms postprocess per image at shape (1, 3, 224, 224)\n",
      "\n",
      "image 1/1 C:\\Users\\fredr\\BTH\\Robotik Project\\Robotics\\yolo_dataset\\images\\train\\blue_20250521-111108-665562.jpg: 224x224 1 black, 6.3ms\n",
      "Speed: 0.5ms preprocess, 6.3ms inference, 1.3ms postprocess per image at shape (1, 3, 224, 224)\n",
      "\n",
      "image 1/1 C:\\Users\\fredr\\BTH\\Robotik Project\\Robotics\\yolo_dataset\\images\\train\\blue_20250521-111110-690144.jpg: 224x224 1 black, 4.8ms\n",
      "Speed: 0.5ms preprocess, 4.8ms inference, 2.1ms postprocess per image at shape (1, 3, 224, 224)\n",
      "\n",
      "image 1/1 C:\\Users\\fredr\\BTH\\Robotik Project\\Robotics\\yolo_dataset\\images\\train\\blue_20250521-111111-843567.jpg: 224x224 1 black, 4.8ms\n",
      "Speed: 0.4ms preprocess, 4.8ms inference, 1.5ms postprocess per image at shape (1, 3, 224, 224)\n",
      "\n",
      "image 1/1 C:\\Users\\fredr\\BTH\\Robotik Project\\Robotics\\yolo_dataset\\images\\train\\blue_20250521-111112-156336.jpg: 224x224 (no detections), 5.1ms\n",
      "Speed: 0.5ms preprocess, 5.1ms inference, 0.5ms postprocess per image at shape (1, 3, 224, 224)\n",
      "\n",
      "image 1/1 C:\\Users\\fredr\\BTH\\Robotik Project\\Robotics\\yolo_dataset\\images\\train\\blue_20250521-111117-772809.jpg: 224x224 (no detections), 5.4ms\n",
      "Speed: 0.6ms preprocess, 5.4ms inference, 1.0ms postprocess per image at shape (1, 3, 224, 224)\n"
     ]
    },
    {
     "name": "stderr",
     "output_type": "stream",
     "text": [
      " 68%|██████▊   | 41/60 [00:00<00:00, 68.12it/s]"
     ]
    },
    {
     "name": "stdout",
     "output_type": "stream",
     "text": [
      "\n",
      "image 1/1 C:\\Users\\fredr\\BTH\\Robotik Project\\Robotics\\yolo_dataset\\images\\train\\yellow_20250521-111331-843235.jpg: 224x224 2 whites, 7.4ms\n",
      "Speed: 0.9ms preprocess, 7.4ms inference, 1.5ms postprocess per image at shape (1, 3, 224, 224)\n",
      "\n",
      "image 1/1 C:\\Users\\fredr\\BTH\\Robotik Project\\Robotics\\yolo_dataset\\images\\train\\yellow_20250521-111341-163937.jpg: 224x224 2 whites, 5.1ms\n",
      "Speed: 0.5ms preprocess, 5.1ms inference, 1.2ms postprocess per image at shape (1, 3, 224, 224)\n",
      "\n",
      "image 1/1 C:\\Users\\fredr\\BTH\\Robotik Project\\Robotics\\yolo_dataset\\images\\train\\yellow_20250521-111341-458466.jpg: 224x224 1 brown, 2 whites, 5.1ms\n",
      "Speed: 0.5ms preprocess, 5.1ms inference, 1.2ms postprocess per image at shape (1, 3, 224, 224)\n",
      "\n",
      "image 1/1 C:\\Users\\fredr\\BTH\\Robotik Project\\Robotics\\yolo_dataset\\images\\train\\yellow_20250521-111344-980589.jpg: 224x224 2 whites, 4.9ms\n",
      "Speed: 0.5ms preprocess, 4.9ms inference, 1.2ms postprocess per image at shape (1, 3, 224, 224)\n",
      "\n",
      "image 1/1 C:\\Users\\fredr\\BTH\\Robotik Project\\Robotics\\yolo_dataset\\images\\train\\yellow_20250521-111351-399526.jpg: 224x224 2 whites, 5.0ms\n",
      "Speed: 0.5ms preprocess, 5.0ms inference, 1.2ms postprocess per image at shape (1, 3, 224, 224)\n",
      "\n",
      "image 1/1 C:\\Users\\fredr\\BTH\\Robotik Project\\Robotics\\yolo_dataset\\images\\train\\yellow_20250521-111352-580050.jpg: 224x224 2 whites, 5.6ms\n",
      "Speed: 0.5ms preprocess, 5.6ms inference, 1.2ms postprocess per image at shape (1, 3, 224, 224)\n",
      "\n",
      "image 1/1 C:\\Users\\fredr\\BTH\\Robotik Project\\Robotics\\yolo_dataset\\images\\train\\yellow_20250521-111357-536299.jpg: 224x224 1 white, 5.3ms\n",
      "Speed: 0.5ms preprocess, 5.3ms inference, 1.1ms postprocess per image at shape (1, 3, 224, 224)\n",
      "\n",
      "image 1/1 C:\\Users\\fredr\\BTH\\Robotik Project\\Robotics\\yolo_dataset\\images\\train\\yellow_20250521-111357-833810.jpg: 224x224 2 whites, 5.3ms\n",
      "Speed: 0.5ms preprocess, 5.3ms inference, 1.2ms postprocess per image at shape (1, 3, 224, 224)\n"
     ]
    },
    {
     "name": "stderr",
     "output_type": "stream",
     "text": [
      " 82%|████████▏ | 49/60 [00:00<00:00, 70.10it/s]"
     ]
    },
    {
     "name": "stdout",
     "output_type": "stream",
     "text": [
      "\n",
      "image 1/1 C:\\Users\\fredr\\BTH\\Robotik Project\\Robotics\\yolo_dataset\\images\\train\\yellow_20250521-111419-787989.jpg: 224x224 1 white, 4.7ms\n",
      "Speed: 0.5ms preprocess, 4.7ms inference, 1.2ms postprocess per image at shape (1, 3, 224, 224)\n",
      "\n",
      "image 1/1 C:\\Users\\fredr\\BTH\\Robotik Project\\Robotics\\yolo_dataset\\images\\train\\yellow_20250521-111420-378811.jpg: 224x224 (no detections), 5.1ms\n",
      "Speed: 0.5ms preprocess, 5.1ms inference, 0.5ms postprocess per image at shape (1, 3, 224, 224)\n",
      "\n",
      "image 1/1 C:\\Users\\fredr\\BTH\\Robotik Project\\Robotics\\yolo_dataset\\images\\train\\yellow_20250521-111420-987267.jpg: 224x224 (no detections), 5.0ms\n",
      "Speed: 0.5ms preprocess, 5.0ms inference, 0.5ms postprocess per image at shape (1, 3, 224, 224)\n",
      "\n",
      "image 1/1 C:\\Users\\fredr\\BTH\\Robotik Project\\Robotics\\yolo_dataset\\images\\train\\yellow_20250521-111421-271372.jpg: 224x224 (no detections), 5.2ms\n",
      "Speed: 0.5ms preprocess, 5.2ms inference, 0.6ms postprocess per image at shape (1, 3, 224, 224)\n",
      "\n",
      "image 1/1 C:\\Users\\fredr\\BTH\\Robotik Project\\Robotics\\yolo_dataset\\images\\train\\yellow_20250521-111421-554524.jpg: 224x224 (no detections), 5.1ms\n",
      "Speed: 0.6ms preprocess, 5.1ms inference, 0.5ms postprocess per image at shape (1, 3, 224, 224)\n",
      "\n",
      "image 1/1 C:\\Users\\fredr\\BTH\\Robotik Project\\Robotics\\yolo_dataset\\images\\train\\yellow_20250521-111421-862368.jpg: 224x224 (no detections), 5.0ms\n",
      "Speed: 0.5ms preprocess, 5.0ms inference, 0.5ms postprocess per image at shape (1, 3, 224, 224)\n",
      "\n",
      "image 1/1 C:\\Users\\fredr\\BTH\\Robotik Project\\Robotics\\yolo_dataset\\images\\train\\yellow_20250521-111422-154699.jpg: 224x224 (no detections), 4.7ms\n",
      "Speed: 0.5ms preprocess, 4.7ms inference, 0.5ms postprocess per image at shape (1, 3, 224, 224)\n",
      "\n",
      "image 1/1 C:\\Users\\fredr\\BTH\\Robotik Project\\Robotics\\yolo_dataset\\images\\train\\yellow_20250521-111423-338765.jpg: 224x224 (no detections), 5.1ms\n",
      "Speed: 0.5ms preprocess, 5.1ms inference, 0.5ms postprocess per image at shape (1, 3, 224, 224)\n",
      "\n",
      "image 1/1 C:\\Users\\fredr\\BTH\\Robotik Project\\Robotics\\yolo_dataset\\images\\train\\yellow_20250521-111423-671245.jpg: 224x224 (no detections), 4.8ms\n",
      "Speed: 0.5ms preprocess, 4.8ms inference, 0.5ms postprocess per image at shape (1, 3, 224, 224)\n",
      "\n",
      "image 1/1 C:\\Users\\fredr\\BTH\\Robotik Project\\Robotics\\yolo_dataset\\images\\train\\yellow_20250521-111423-954538.jpg: 224x224 (no detections), 5.4ms\n",
      "Speed: 0.5ms preprocess, 5.4ms inference, 0.6ms postprocess per image at shape (1, 3, 224, 224)\n"
     ]
    },
    {
     "name": "stderr",
     "output_type": "stream",
     "text": [
      " 98%|█████████▊| 59/60 [00:00<00:00, 76.98it/s]"
     ]
    },
    {
     "name": "stdout",
     "output_type": "stream",
     "text": [
      "\n",
      "image 1/1 C:\\Users\\fredr\\BTH\\Robotik Project\\Robotics\\yolo_dataset\\images\\train\\yellow_20250521-111424-850402.jpg: 224x224 1 yellow, 1 white, 5.1ms\n",
      "Speed: 0.6ms preprocess, 5.1ms inference, 1.5ms postprocess per image at shape (1, 3, 224, 224)\n"
     ]
    },
    {
     "name": "stderr",
     "output_type": "stream",
     "text": [
      "100%|██████████| 60/60 [00:00<00:00, 61.29it/s]"
     ]
    },
    {
     "name": "stdout",
     "output_type": "stream",
     "text": [
      "All predictions with bounding boxes saved to C:\\Users\\fredr\\BTH\\Robotik Project\\Robotics\\yolo_dataset\\pred_vis\n"
     ]
    },
    {
     "name": "stderr",
     "output_type": "stream",
     "text": [
      "\n"
     ]
    }
   ],
   "source": [
    "from ultralytics import YOLO\n",
    "import cv2\n",
    "import os\n",
    "from tqdm import tqdm\n",
    "\n",
    "# ==== TRAINING ====\n",
    "yaml_path = r\"C:\\Users\\fredr\\BTH\\Robotik Project\\Robotics\\21MajFiles\\apa\\synthetic_squares_extreme_fullbox\\synthetic_extreme.yaml\"\n",
    "model = YOLO('yolov8n.pt')\n",
    "\n",
    "results = model.train(\n",
    "    data=yaml_path,\n",
    "    epochs=200,\n",
    "    imgsz=224,\n",
    "    patience=30,\n",
    "    batch=24,\n",
    "    device=0,\n",
    "    project='runs',\n",
    "    name='synthetic_extreme'\n",
    ")\n",
    "metrics = model.val()\n",
    "\n",
    "# ==== PREDICT AND VISUALIZE ====\n",
    "# Input and output folders\n",
    "in_folder = r\"C:\\Users\\fredr\\BTH\\Robotik Project\\Robotics\\yolo_dataset\\images\\train\"\n",
    "out_folder = r\"C:\\Users\\fredr\\BTH\\Robotik Project\\Robotics\\yolo_dataset\\pred_vis\"\n",
    "os.makedirs(out_folder, exist_ok=True)\n",
    "\n",
    "# Load best trained weights\n",
    "model = YOLO('runs/synthetic_extreme/weights/best.pt')\n",
    "\n",
    "# Class names\n",
    "class_names = [\"blue\", \"red\", \"orange\", \"yellow\", \"purple\", \"brown\", \"gray\", \"black\", \"pink\", \"white\", \"green\"]\n",
    "\n",
    "for fname in tqdm(os.listdir(in_folder)):\n",
    "    if not fname.lower().endswith(('.jpg', '.jpeg', '.png')):\n",
    "        continue\n",
    "    img_path = os.path.join(in_folder, fname)\n",
    "    img = cv2.imread(img_path)\n",
    "    results = model(img_path)\n",
    "    for box in results[0].boxes:\n",
    "        x1, y1, x2, y2 = [int(coord) for coord in box.xyxy[0]]\n",
    "        class_id = int(box.cls[0])\n",
    "        conf = float(box.conf[0])\n",
    "        label = f\"{class_names[class_id]} {conf:.2f}\"\n",
    "        color = (0, 255, 0)\n",
    "        cv2.rectangle(img, (x1, y1), (x2, y2), color, 2)\n",
    "        cv2.putText(img, label, (x1, y1 - 8), cv2.FONT_HERSHEY_SIMPLEX, 0.65, color, 2, cv2.LINE_AA)\n",
    "    out_path = os.path.join(out_folder, fname)\n",
    "    cv2.imwrite(out_path, img)\n",
    "\n",
    "print(f\"All predictions with bounding boxes saved to {out_folder}\")\n"
   ]
  },
  {
   "cell_type": "code",
   "execution_count": 1,
   "id": "3946e3f9",
   "metadata": {},
   "outputs": [
    {
     "name": "stdout",
     "output_type": "stream",
     "text": [
      "CUDA available? True\n",
      "CUDA device count: 1\n",
      "Current device: 0 NVIDIA GeForce RTX 3070 Ti\n",
      "New https://pypi.org/project/ultralytics/8.3.142 available  Update with 'pip install -U ultralytics'\n",
      "Ultralytics 8.3.141  Python-3.9.18 torch-2.5.1+cu121 CUDA:0 (NVIDIA GeForce RTX 3070 Ti, 8192MiB)\n",
      "\u001b[34m\u001b[1mengine\\trainer: \u001b[0magnostic_nms=False, amp=True, augment=False, auto_augment=randaugment, batch=32, bgr=0.0, box=7.5, cache=False, cfg=None, classes=None, close_mosaic=10, cls=0.5, conf=None, copy_paste=0.0, copy_paste_mode=flip, cos_lr=True, cutmix=0.0, data=C:\\Users\\fredr\\BTH\\Robotik Project\\Robotics\\21MajFiles\\apa\\synthetic_squares_extreme_fullbox\\synthetic_extreme.yaml, degrees=0.0, deterministic=True, device=0, dfl=1.5, dnn=False, dropout=0.0, dynamic=False, embed=None, epochs=300, erasing=0.4, exist_ok=False, fliplr=0.5, flipud=0.0, format=torchscript, fraction=1.0, freeze=None, half=False, hsv_h=0.015, hsv_s=0.7, hsv_v=0.4, imgsz=224, int8=False, iou=0.7, keras=False, kobj=1.0, line_width=None, lr0=0.001, lrf=0.01, mask_ratio=4, max_det=300, mixup=0.0, mode=train, model=yolov8n.pt, momentum=0.937, mosaic=1.0, multi_scale=False, name=synthetic_extreme_yolov8n3, nbs=64, nms=False, opset=None, optimize=False, optimizer=SGD, overlap_mask=True, patience=50, perspective=0.0, plots=True, pose=12.0, pretrained=True, profile=False, project=runs, rect=False, resume=False, retina_masks=False, save=True, save_conf=False, save_crop=False, save_dir=runs\\synthetic_extreme_yolov8n3, save_frames=False, save_json=False, save_period=-1, save_txt=False, scale=0.5, seed=0, shear=0.0, show=False, show_boxes=True, show_conf=True, show_labels=True, simplify=True, single_cls=False, source=None, split=val, stream_buffer=False, task=detect, time=None, tracker=botsort.yaml, translate=0.1, val=True, verbose=True, vid_stride=1, visualize=False, warmup_bias_lr=0.1, warmup_epochs=3.0, warmup_momentum=0.8, weight_decay=0.0005, workers=8, workspace=None\n",
      "Overriding model.yaml nc=80 with nc=11\n",
      "\n",
      "                   from  n    params  module                                       arguments                     \n",
      "  0                  -1  1       464  ultralytics.nn.modules.conv.Conv             [3, 16, 3, 2]                 \n",
      "  1                  -1  1      4672  ultralytics.nn.modules.conv.Conv             [16, 32, 3, 2]                \n",
      "  2                  -1  1      7360  ultralytics.nn.modules.block.C2f             [32, 32, 1, True]             \n",
      "  3                  -1  1     18560  ultralytics.nn.modules.conv.Conv             [32, 64, 3, 2]                \n",
      "  4                  -1  2     49664  ultralytics.nn.modules.block.C2f             [64, 64, 2, True]             \n",
      "  5                  -1  1     73984  ultralytics.nn.modules.conv.Conv             [64, 128, 3, 2]               \n",
      "  6                  -1  2    197632  ultralytics.nn.modules.block.C2f             [128, 128, 2, True]           \n",
      "  7                  -1  1    295424  ultralytics.nn.modules.conv.Conv             [128, 256, 3, 2]              \n",
      "  8                  -1  1    460288  ultralytics.nn.modules.block.C2f             [256, 256, 1, True]           \n",
      "  9                  -1  1    164608  ultralytics.nn.modules.block.SPPF            [256, 256, 5]                 \n",
      " 10                  -1  1         0  torch.nn.modules.upsampling.Upsample         [None, 2, 'nearest']          \n",
      " 11             [-1, 6]  1         0  ultralytics.nn.modules.conv.Concat           [1]                           \n",
      " 12                  -1  1    148224  ultralytics.nn.modules.block.C2f             [384, 128, 1]                 \n",
      " 13                  -1  1         0  torch.nn.modules.upsampling.Upsample         [None, 2, 'nearest']          \n",
      " 14             [-1, 4]  1         0  ultralytics.nn.modules.conv.Concat           [1]                           \n",
      " 15                  -1  1     37248  ultralytics.nn.modules.block.C2f             [192, 64, 1]                  \n",
      " 16                  -1  1     36992  ultralytics.nn.modules.conv.Conv             [64, 64, 3, 2]                \n",
      " 17            [-1, 12]  1         0  ultralytics.nn.modules.conv.Concat           [1]                           \n",
      " 18                  -1  1    123648  ultralytics.nn.modules.block.C2f             [192, 128, 1]                 \n",
      " 19                  -1  1    147712  ultralytics.nn.modules.conv.Conv             [128, 128, 3, 2]              \n",
      " 20             [-1, 9]  1         0  ultralytics.nn.modules.conv.Concat           [1]                           \n",
      " 21                  -1  1    493056  ultralytics.nn.modules.block.C2f             [384, 256, 1]                 \n",
      " 22        [15, 18, 21]  1    753457  ultralytics.nn.modules.head.Detect           [11, [64, 128, 256]]          \n",
      "Model summary: 129 layers, 3,012,993 parameters, 3,012,977 gradients, 8.2 GFLOPs\n",
      "\n",
      "Transferred 319/355 items from pretrained weights\n",
      "Freezing layer 'model.22.dfl.conv.weight'\n",
      "\u001b[34m\u001b[1mAMP: \u001b[0mrunning Automatic Mixed Precision (AMP) checks...\n",
      "\u001b[34m\u001b[1mAMP: \u001b[0mchecks passed \n",
      "\u001b[34m\u001b[1mtrain: \u001b[0mFast image access  (ping: 0.10.0 ms, read: 79.343.5 MB/s, size: 22.2 KB)\n"
     ]
    },
    {
     "name": "stderr",
     "output_type": "stream",
     "text": [
      "\u001b[34m\u001b[1mtrain: \u001b[0mScanning C:\\Users\\fredr\\BTH\\Robotik Project\\Robotics\\21MajFiles\\apa\\synthetic_squares_extreme_fullbox\\labels\\train.cache... 8500 images, 0 backgrounds, 0 corrupt: 100%|██████████| 8500/8500 [00:00<?, ?it/s]\n"
     ]
    },
    {
     "name": "stdout",
     "output_type": "stream",
     "text": [
      "\u001b[34m\u001b[1mval: \u001b[0mFast image access  (ping: 0.10.0 ms, read: 36.311.4 MB/s, size: 11.6 KB)\n"
     ]
    },
    {
     "name": "stderr",
     "output_type": "stream",
     "text": [
      "\u001b[34m\u001b[1mval: \u001b[0mScanning C:\\Users\\fredr\\BTH\\Robotik Project\\Robotics\\21MajFiles\\apa\\synthetic_squares_extreme_fullbox\\labels\\val.cache... 1500 images, 0 backgrounds, 0 corrupt: 100%|██████████| 1500/1500 [00:00<?, ?it/s]\n"
     ]
    },
    {
     "name": "stdout",
     "output_type": "stream",
     "text": [
      "Plotting labels to runs\\synthetic_extreme_yolov8n3\\labels.jpg... \n",
      "\u001b[34m\u001b[1moptimizer:\u001b[0m SGD(lr=0.001, momentum=0.937) with parameter groups 57 weight(decay=0.0), 64 weight(decay=0.0005), 63 bias(decay=0.0)\n",
      "Image sizes 224 train, 224 val\n",
      "Using 8 dataloader workers\n",
      "Logging results to \u001b[1mruns\\synthetic_extreme_yolov8n3\u001b[0m\n",
      "Starting training for 300 epochs...\n",
      "\n",
      "      Epoch    GPU_mem   box_loss   cls_loss   dfl_loss  Instances       Size\n"
     ]
    },
    {
     "name": "stderr",
     "output_type": "stream",
     "text": [
      "      1/300     0.549G     0.8078      3.715       1.07         62        224: 100%|██████████| 266/266 [00:17<00:00, 15.37it/s]\n",
      "                 Class     Images  Instances      Box(P          R      mAP50  mAP50-95): 100%|██████████| 24/24 [00:05<00:00,  4.76it/s]\n"
     ]
    },
    {
     "name": "stdout",
     "output_type": "stream",
     "text": [
      "                   all       1500       2986     0.0985      0.485      0.156      0.137\n",
      "\n",
      "      Epoch    GPU_mem   box_loss   cls_loss   dfl_loss  Instances       Size\n"
     ]
    },
    {
     "name": "stderr",
     "output_type": "stream",
     "text": [
      "      2/300     0.652G     0.6615      2.288     0.9766         70        224: 100%|██████████| 266/266 [00:15<00:00, 16.89it/s]\n",
      "                 Class     Images  Instances      Box(P          R      mAP50  mAP50-95): 100%|██████████| 24/24 [00:04<00:00,  5.23it/s]\n"
     ]
    },
    {
     "name": "stdout",
     "output_type": "stream",
     "text": [
      "                   all       1500       2986      0.531      0.733      0.586      0.524\n",
      "\n",
      "      Epoch    GPU_mem   box_loss   cls_loss   dfl_loss  Instances       Size\n"
     ]
    },
    {
     "name": "stderr",
     "output_type": "stream",
     "text": [
      "      3/300     0.654G     0.6047      1.467     0.9612         82        224: 100%|██████████| 266/266 [00:14<00:00, 17.80it/s]\n",
      "                 Class     Images  Instances      Box(P          R      mAP50  mAP50-95): 100%|██████████| 24/24 [00:04<00:00,  5.38it/s]\n"
     ]
    },
    {
     "name": "stdout",
     "output_type": "stream",
     "text": [
      "                   all       1500       2986      0.818      0.833      0.885      0.795\n",
      "\n",
      "      Epoch    GPU_mem   box_loss   cls_loss   dfl_loss  Instances       Size\n"
     ]
    },
    {
     "name": "stderr",
     "output_type": "stream",
     "text": [
      "      4/300     0.654G     0.5628      1.051     0.9408         74        224: 100%|██████████| 266/266 [00:14<00:00, 17.75it/s]\n",
      "                 Class     Images  Instances      Box(P          R      mAP50  mAP50-95): 100%|██████████| 24/24 [00:04<00:00,  5.14it/s]\n"
     ]
    },
    {
     "name": "stdout",
     "output_type": "stream",
     "text": [
      "                   all       1500       2986      0.867      0.828      0.921      0.844\n",
      "\n",
      "      Epoch    GPU_mem   box_loss   cls_loss   dfl_loss  Instances       Size\n"
     ]
    },
    {
     "name": "stderr",
     "output_type": "stream",
     "text": [
      "      5/300     0.656G     0.5202     0.8891     0.9262         75        224: 100%|██████████| 266/266 [00:15<00:00, 17.69it/s]\n",
      "                 Class     Images  Instances      Box(P          R      mAP50  mAP50-95): 100%|██████████| 24/24 [00:04<00:00,  5.36it/s]\n"
     ]
    },
    {
     "name": "stdout",
     "output_type": "stream",
     "text": [
      "                   all       1500       2986      0.921      0.892      0.944      0.874\n",
      "\n",
      "      Epoch    GPU_mem   box_loss   cls_loss   dfl_loss  Instances       Size\n"
     ]
    },
    {
     "name": "stderr",
     "output_type": "stream",
     "text": [
      "      6/300     0.656G     0.5001     0.8111      0.918         74        224: 100%|██████████| 266/266 [00:15<00:00, 17.73it/s]\n",
      "                 Class     Images  Instances      Box(P          R      mAP50  mAP50-95): 100%|██████████| 24/24 [00:04<00:00,  5.33it/s]\n"
     ]
    },
    {
     "name": "stdout",
     "output_type": "stream",
     "text": [
      "                   all       1500       2986       0.95      0.917      0.957      0.892\n",
      "\n",
      "      Epoch    GPU_mem   box_loss   cls_loss   dfl_loss  Instances       Size\n"
     ]
    },
    {
     "name": "stderr",
     "output_type": "stream",
     "text": [
      "      7/300     0.656G     0.4835     0.7724     0.9139         64        224: 100%|██████████| 266/266 [00:14<00:00, 17.76it/s]\n",
      "                 Class     Images  Instances      Box(P          R      mAP50  mAP50-95): 100%|██████████| 24/24 [00:04<00:00,  5.44it/s]\n"
     ]
    },
    {
     "name": "stdout",
     "output_type": "stream",
     "text": [
      "                   all       1500       2986      0.955      0.923       0.96      0.901\n",
      "\n",
      "      Epoch    GPU_mem   box_loss   cls_loss   dfl_loss  Instances       Size\n"
     ]
    },
    {
     "name": "stderr",
     "output_type": "stream",
     "text": [
      "      8/300     0.656G     0.4732     0.7351     0.9089         74        224: 100%|██████████| 266/266 [00:15<00:00, 17.71it/s]\n",
      "                 Class     Images  Instances      Box(P          R      mAP50  mAP50-95): 100%|██████████| 24/24 [00:04<00:00,  5.37it/s]\n"
     ]
    },
    {
     "name": "stdout",
     "output_type": "stream",
     "text": [
      "                   all       1500       2986      0.945      0.901      0.959        0.9\n",
      "\n",
      "      Epoch    GPU_mem   box_loss   cls_loss   dfl_loss  Instances       Size\n"
     ]
    },
    {
     "name": "stderr",
     "output_type": "stream",
     "text": [
      "      9/300     0.656G     0.4627     0.7053     0.9066         78        224: 100%|██████████| 266/266 [00:14<00:00, 17.76it/s]\n",
      "                 Class     Images  Instances      Box(P          R      mAP50  mAP50-95): 100%|██████████| 24/24 [00:04<00:00,  5.85it/s]\n"
     ]
    },
    {
     "name": "stdout",
     "output_type": "stream",
     "text": [
      "                   all       1500       2986      0.934      0.918      0.956      0.899\n",
      "\n",
      "      Epoch    GPU_mem   box_loss   cls_loss   dfl_loss  Instances       Size\n"
     ]
    },
    {
     "name": "stderr",
     "output_type": "stream",
     "text": [
      "     10/300     0.656G     0.4498      0.675      0.899         64        224: 100%|██████████| 266/266 [00:15<00:00, 17.73it/s]\n",
      "                 Class     Images  Instances      Box(P          R      mAP50  mAP50-95): 100%|██████████| 24/24 [00:03<00:00,  6.18it/s]\n"
     ]
    },
    {
     "name": "stdout",
     "output_type": "stream",
     "text": [
      "                   all       1500       2986      0.964      0.927      0.966      0.912\n",
      "\n",
      "      Epoch    GPU_mem   box_loss   cls_loss   dfl_loss  Instances       Size\n"
     ]
    },
    {
     "name": "stderr",
     "output_type": "stream",
     "text": [
      "     11/300     0.656G     0.4453     0.6605     0.8998         62        224: 100%|██████████| 266/266 [00:14<00:00, 17.75it/s]\n",
      "                 Class     Images  Instances      Box(P          R      mAP50  mAP50-95): 100%|██████████| 24/24 [00:03<00:00,  6.41it/s]\n"
     ]
    },
    {
     "name": "stdout",
     "output_type": "stream",
     "text": [
      "                   all       1500       2986      0.952      0.924      0.963      0.911\n",
      "\n",
      "      Epoch    GPU_mem   box_loss   cls_loss   dfl_loss  Instances       Size\n"
     ]
    },
    {
     "name": "stderr",
     "output_type": "stream",
     "text": [
      "     12/300     0.656G     0.4362     0.6407     0.8977         96        224: 100%|██████████| 266/266 [00:14<00:00, 17.79it/s]\n",
      "                 Class     Images  Instances      Box(P          R      mAP50  mAP50-95): 100%|██████████| 24/24 [00:03<00:00,  6.43it/s]\n"
     ]
    },
    {
     "name": "stdout",
     "output_type": "stream",
     "text": [
      "                   all       1500       2986       0.95      0.934      0.966      0.916\n",
      "\n",
      "      Epoch    GPU_mem   box_loss   cls_loss   dfl_loss  Instances       Size\n"
     ]
    },
    {
     "name": "stderr",
     "output_type": "stream",
     "text": [
      "     13/300     0.656G     0.4366     0.6264      0.896         81        224: 100%|██████████| 266/266 [00:15<00:00, 17.70it/s]\n",
      "                 Class     Images  Instances      Box(P          R      mAP50  mAP50-95): 100%|██████████| 24/24 [00:03<00:00,  6.31it/s]\n"
     ]
    },
    {
     "name": "stdout",
     "output_type": "stream",
     "text": [
      "                   all       1500       2986      0.954      0.931      0.966      0.913\n",
      "\n",
      "      Epoch    GPU_mem   box_loss   cls_loss   dfl_loss  Instances       Size\n"
     ]
    },
    {
     "name": "stderr",
     "output_type": "stream",
     "text": [
      "     14/300     0.656G     0.4293     0.6178     0.8947         72        224: 100%|██████████| 266/266 [00:14<00:00, 17.81it/s]\n",
      "                 Class     Images  Instances      Box(P          R      mAP50  mAP50-95): 100%|██████████| 24/24 [00:03<00:00,  6.61it/s]\n"
     ]
    },
    {
     "name": "stdout",
     "output_type": "stream",
     "text": [
      "                   all       1500       2986       0.96      0.934      0.968      0.923\n",
      "\n",
      "      Epoch    GPU_mem   box_loss   cls_loss   dfl_loss  Instances       Size\n"
     ]
    },
    {
     "name": "stderr",
     "output_type": "stream",
     "text": [
      "     15/300     0.656G      0.428     0.6064     0.8941         82        224: 100%|██████████| 266/266 [00:14<00:00, 17.77it/s]\n",
      "                 Class     Images  Instances      Box(P          R      mAP50  mAP50-95): 100%|██████████| 24/24 [00:03<00:00,  6.56it/s]\n"
     ]
    },
    {
     "name": "stdout",
     "output_type": "stream",
     "text": [
      "                   all       1500       2986      0.968      0.933      0.971      0.929\n",
      "\n",
      "      Epoch    GPU_mem   box_loss   cls_loss   dfl_loss  Instances       Size\n"
     ]
    },
    {
     "name": "stderr",
     "output_type": "stream",
     "text": [
      "     16/300     0.656G      0.422     0.5916     0.8929         79        224: 100%|██████████| 266/266 [00:14<00:00, 17.78it/s]\n",
      "                 Class     Images  Instances      Box(P          R      mAP50  mAP50-95): 100%|██████████| 24/24 [00:03<00:00,  6.54it/s]"
     ]
    },
    {
     "name": "stdout",
     "output_type": "stream",
     "text": [
      "                   all       1500       2986      0.965      0.926      0.971      0.929\n"
     ]
    },
    {
     "name": "stderr",
     "output_type": "stream",
     "text": [
      "\n"
     ]
    },
    {
     "name": "stdout",
     "output_type": "stream",
     "text": [
      "\n",
      "      Epoch    GPU_mem   box_loss   cls_loss   dfl_loss  Instances       Size\n"
     ]
    },
    {
     "name": "stderr",
     "output_type": "stream",
     "text": [
      "     17/300     0.656G     0.4184     0.5839     0.8922         59        224: 100%|██████████| 266/266 [00:14<00:00, 17.81it/s]\n",
      "                 Class     Images  Instances      Box(P          R      mAP50  mAP50-95): 100%|██████████| 24/24 [00:03<00:00,  6.64it/s]"
     ]
    },
    {
     "name": "stdout",
     "output_type": "stream",
     "text": [
      "                   all       1500       2986      0.963      0.937      0.971      0.928\n"
     ]
    },
    {
     "name": "stderr",
     "output_type": "stream",
     "text": [
      "\n"
     ]
    },
    {
     "name": "stdout",
     "output_type": "stream",
     "text": [
      "\n",
      "      Epoch    GPU_mem   box_loss   cls_loss   dfl_loss  Instances       Size\n"
     ]
    },
    {
     "name": "stderr",
     "output_type": "stream",
     "text": [
      "     18/300     0.656G     0.4159     0.5729     0.8884         82        224: 100%|██████████| 266/266 [00:15<00:00, 17.72it/s]\n",
      "                 Class     Images  Instances      Box(P          R      mAP50  mAP50-95): 100%|██████████| 24/24 [00:03<00:00,  6.56it/s]"
     ]
    },
    {
     "name": "stdout",
     "output_type": "stream",
     "text": [
      "                   all       1500       2986      0.968      0.938       0.97      0.931\n"
     ]
    },
    {
     "name": "stderr",
     "output_type": "stream",
     "text": [
      "\n"
     ]
    },
    {
     "name": "stdout",
     "output_type": "stream",
     "text": [
      "\n",
      "      Epoch    GPU_mem   box_loss   cls_loss   dfl_loss  Instances       Size\n"
     ]
    },
    {
     "name": "stderr",
     "output_type": "stream",
     "text": [
      "     19/300     0.656G     0.4124     0.5645     0.8903         69        224: 100%|██████████| 266/266 [00:15<00:00, 17.73it/s]\n",
      "                 Class     Images  Instances      Box(P          R      mAP50  mAP50-95): 100%|██████████| 24/24 [00:03<00:00,  6.30it/s]"
     ]
    },
    {
     "name": "stdout",
     "output_type": "stream",
     "text": [
      "                   all       1500       2986      0.965      0.934      0.971      0.929\n",
      "\n",
      "      Epoch    GPU_mem   box_loss   cls_loss   dfl_loss  Instances       Size\n"
     ]
    },
    {
     "name": "stderr",
     "output_type": "stream",
     "text": [
      "\n",
      "     20/300     0.656G     0.4096     0.5563     0.8865         63        224: 100%|██████████| 266/266 [00:14<00:00, 17.77it/s]\n",
      "                 Class     Images  Instances      Box(P          R      mAP50  mAP50-95): 100%|██████████| 24/24 [00:03<00:00,  6.48it/s]"
     ]
    },
    {
     "name": "stdout",
     "output_type": "stream",
     "text": [
      "                   all       1500       2986       0.96      0.938      0.971      0.932\n"
     ]
    },
    {
     "name": "stderr",
     "output_type": "stream",
     "text": [
      "\n"
     ]
    },
    {
     "name": "stdout",
     "output_type": "stream",
     "text": [
      "\n",
      "      Epoch    GPU_mem   box_loss   cls_loss   dfl_loss  Instances       Size\n"
     ]
    },
    {
     "name": "stderr",
     "output_type": "stream",
     "text": [
      "     21/300     0.656G     0.4077     0.5457     0.8875         59        224: 100%|██████████| 266/266 [00:14<00:00, 17.82it/s]\n",
      "                 Class     Images  Instances      Box(P          R      mAP50  mAP50-95): 100%|██████████| 24/24 [00:03<00:00,  6.46it/s]"
     ]
    },
    {
     "name": "stdout",
     "output_type": "stream",
     "text": [
      "                   all       1500       2986      0.966      0.944      0.972      0.934\n"
     ]
    },
    {
     "name": "stderr",
     "output_type": "stream",
     "text": [
      "\n"
     ]
    },
    {
     "name": "stdout",
     "output_type": "stream",
     "text": [
      "\n",
      "      Epoch    GPU_mem   box_loss   cls_loss   dfl_loss  Instances       Size\n"
     ]
    },
    {
     "name": "stderr",
     "output_type": "stream",
     "text": [
      "     22/300     0.656G     0.4068     0.5417     0.8838         62        224: 100%|██████████| 266/266 [00:14<00:00, 17.82it/s]\n",
      "                 Class     Images  Instances      Box(P          R      mAP50  mAP50-95): 100%|██████████| 24/24 [00:03<00:00,  6.40it/s]"
     ]
    },
    {
     "name": "stdout",
     "output_type": "stream",
     "text": [
      "                   all       1500       2986      0.971      0.935      0.972      0.932\n"
     ]
    },
    {
     "name": "stderr",
     "output_type": "stream",
     "text": [
      "\n"
     ]
    },
    {
     "name": "stdout",
     "output_type": "stream",
     "text": [
      "\n",
      "      Epoch    GPU_mem   box_loss   cls_loss   dfl_loss  Instances       Size\n"
     ]
    },
    {
     "name": "stderr",
     "output_type": "stream",
     "text": [
      "     23/300     0.656G     0.4055     0.5356     0.8841         70        224: 100%|██████████| 266/266 [00:14<00:00, 17.84it/s]\n",
      "                 Class     Images  Instances      Box(P          R      mAP50  mAP50-95): 100%|██████████| 24/24 [00:03<00:00,  6.54it/s]"
     ]
    },
    {
     "name": "stdout",
     "output_type": "stream",
     "text": [
      "                   all       1500       2986      0.968      0.946      0.973      0.938\n"
     ]
    },
    {
     "name": "stderr",
     "output_type": "stream",
     "text": [
      "\n"
     ]
    },
    {
     "name": "stdout",
     "output_type": "stream",
     "text": [
      "\n",
      "      Epoch    GPU_mem   box_loss   cls_loss   dfl_loss  Instances       Size\n"
     ]
    },
    {
     "name": "stderr",
     "output_type": "stream",
     "text": [
      "     24/300     0.656G     0.4027     0.5303     0.8867         72        224: 100%|██████████| 266/266 [00:14<00:00, 17.80it/s]\n",
      "                 Class     Images  Instances      Box(P          R      mAP50  mAP50-95): 100%|██████████| 24/24 [00:03<00:00,  6.51it/s]"
     ]
    },
    {
     "name": "stdout",
     "output_type": "stream",
     "text": [
      "                   all       1500       2986      0.963       0.94      0.972      0.937\n"
     ]
    },
    {
     "name": "stderr",
     "output_type": "stream",
     "text": [
      "\n"
     ]
    },
    {
     "name": "stdout",
     "output_type": "stream",
     "text": [
      "\n",
      "      Epoch    GPU_mem   box_loss   cls_loss   dfl_loss  Instances       Size\n"
     ]
    },
    {
     "name": "stderr",
     "output_type": "stream",
     "text": [
      "     25/300     0.656G     0.3989     0.5247     0.8835         64        224: 100%|██████████| 266/266 [00:14<00:00, 17.81it/s]\n",
      "                 Class     Images  Instances      Box(P          R      mAP50  mAP50-95): 100%|██████████| 24/24 [00:03<00:00,  6.63it/s]"
     ]
    },
    {
     "name": "stdout",
     "output_type": "stream",
     "text": [
      "                   all       1500       2986      0.962       0.94      0.972      0.936\n"
     ]
    },
    {
     "name": "stderr",
     "output_type": "stream",
     "text": [
      "\n"
     ]
    },
    {
     "name": "stdout",
     "output_type": "stream",
     "text": [
      "\n",
      "      Epoch    GPU_mem   box_loss   cls_loss   dfl_loss  Instances       Size\n"
     ]
    },
    {
     "name": "stderr",
     "output_type": "stream",
     "text": [
      "     26/300     0.656G     0.3995     0.5195     0.8855         94        224: 100%|██████████| 266/266 [00:14<00:00, 17.80it/s]\n",
      "                 Class     Images  Instances      Box(P          R      mAP50  mAP50-95): 100%|██████████| 24/24 [00:03<00:00,  6.57it/s]"
     ]
    },
    {
     "name": "stdout",
     "output_type": "stream",
     "text": [
      "                   all       1500       2986      0.967      0.948      0.973      0.939\n"
     ]
    },
    {
     "name": "stderr",
     "output_type": "stream",
     "text": [
      "\n"
     ]
    },
    {
     "name": "stdout",
     "output_type": "stream",
     "text": [
      "\n",
      "      Epoch    GPU_mem   box_loss   cls_loss   dfl_loss  Instances       Size\n"
     ]
    },
    {
     "name": "stderr",
     "output_type": "stream",
     "text": [
      "     27/300     0.656G     0.3957     0.5131     0.8826         66        224: 100%|██████████| 266/266 [00:14<00:00, 17.81it/s]\n",
      "                 Class     Images  Instances      Box(P          R      mAP50  mAP50-95): 100%|██████████| 24/24 [00:03<00:00,  6.54it/s]"
     ]
    },
    {
     "name": "stdout",
     "output_type": "stream",
     "text": [
      "                   all       1500       2986      0.971      0.939      0.973       0.94\n"
     ]
    },
    {
     "name": "stderr",
     "output_type": "stream",
     "text": [
      "\n"
     ]
    },
    {
     "name": "stdout",
     "output_type": "stream",
     "text": [
      "\n",
      "      Epoch    GPU_mem   box_loss   cls_loss   dfl_loss  Instances       Size\n"
     ]
    },
    {
     "name": "stderr",
     "output_type": "stream",
     "text": [
      "     28/300     0.656G     0.3902     0.5087     0.8838         80        224: 100%|██████████| 266/266 [00:14<00:00, 17.79it/s]\n",
      "                 Class     Images  Instances      Box(P          R      mAP50  mAP50-95): 100%|██████████| 24/24 [00:03<00:00,  6.49it/s]"
     ]
    },
    {
     "name": "stdout",
     "output_type": "stream",
     "text": [
      "                   all       1500       2986       0.97      0.949      0.973       0.94\n"
     ]
    },
    {
     "name": "stderr",
     "output_type": "stream",
     "text": [
      "\n"
     ]
    },
    {
     "name": "stdout",
     "output_type": "stream",
     "text": [
      "\n",
      "      Epoch    GPU_mem   box_loss   cls_loss   dfl_loss  Instances       Size\n"
     ]
    },
    {
     "name": "stderr",
     "output_type": "stream",
     "text": [
      "     29/300     0.656G     0.3933     0.5023     0.8816         72        224: 100%|██████████| 266/266 [00:14<00:00, 17.76it/s]\n",
      "                 Class     Images  Instances      Box(P          R      mAP50  mAP50-95): 100%|██████████| 24/24 [00:03<00:00,  6.58it/s]"
     ]
    },
    {
     "name": "stdout",
     "output_type": "stream",
     "text": [
      "                   all       1500       2986      0.966      0.942      0.972      0.936\n"
     ]
    },
    {
     "name": "stderr",
     "output_type": "stream",
     "text": [
      "\n"
     ]
    },
    {
     "name": "stdout",
     "output_type": "stream",
     "text": [
      "\n",
      "      Epoch    GPU_mem   box_loss   cls_loss   dfl_loss  Instances       Size\n"
     ]
    },
    {
     "name": "stderr",
     "output_type": "stream",
     "text": [
      "     30/300     0.656G      0.388     0.4931     0.8807         77        224: 100%|██████████| 266/266 [00:15<00:00, 17.72it/s]\n",
      "                 Class     Images  Instances      Box(P          R      mAP50  mAP50-95): 100%|██████████| 24/24 [00:03<00:00,  6.53it/s]"
     ]
    },
    {
     "name": "stdout",
     "output_type": "stream",
     "text": [
      "                   all       1500       2986      0.975      0.948      0.974      0.941\n"
     ]
    },
    {
     "name": "stderr",
     "output_type": "stream",
     "text": [
      "\n"
     ]
    },
    {
     "name": "stdout",
     "output_type": "stream",
     "text": [
      "\n",
      "      Epoch    GPU_mem   box_loss   cls_loss   dfl_loss  Instances       Size\n"
     ]
    },
    {
     "name": "stderr",
     "output_type": "stream",
     "text": [
      "     31/300     0.656G     0.3888     0.4974       0.88         55        224: 100%|██████████| 266/266 [00:14<00:00, 17.76it/s]\n",
      "                 Class     Images  Instances      Box(P          R      mAP50  mAP50-95): 100%|██████████| 24/24 [00:03<00:00,  6.55it/s]"
     ]
    },
    {
     "name": "stdout",
     "output_type": "stream",
     "text": [
      "                   all       1500       2986      0.974      0.943      0.973      0.941\n"
     ]
    },
    {
     "name": "stderr",
     "output_type": "stream",
     "text": [
      "\n"
     ]
    },
    {
     "name": "stdout",
     "output_type": "stream",
     "text": [
      "\n",
      "      Epoch    GPU_mem   box_loss   cls_loss   dfl_loss  Instances       Size\n"
     ]
    },
    {
     "name": "stderr",
     "output_type": "stream",
     "text": [
      "     32/300     0.656G     0.3862     0.4876     0.8794         64        224: 100%|██████████| 266/266 [00:14<00:00, 17.80it/s]\n",
      "                 Class     Images  Instances      Box(P          R      mAP50  mAP50-95): 100%|██████████| 24/24 [00:03<00:00,  6.68it/s]"
     ]
    },
    {
     "name": "stdout",
     "output_type": "stream",
     "text": [
      "                   all       1500       2986      0.969      0.955      0.975      0.943\n"
     ]
    },
    {
     "name": "stderr",
     "output_type": "stream",
     "text": [
      "\n"
     ]
    },
    {
     "name": "stdout",
     "output_type": "stream",
     "text": [
      "\n",
      "      Epoch    GPU_mem   box_loss   cls_loss   dfl_loss  Instances       Size\n"
     ]
    },
    {
     "name": "stderr",
     "output_type": "stream",
     "text": [
      "     33/300     0.656G     0.3871     0.4845     0.8794         69        224: 100%|██████████| 266/266 [00:15<00:00, 17.67it/s]\n",
      "                 Class     Images  Instances      Box(P          R      mAP50  mAP50-95): 100%|██████████| 24/24 [00:03<00:00,  6.54it/s]"
     ]
    },
    {
     "name": "stdout",
     "output_type": "stream",
     "text": [
      "                   all       1500       2986      0.971      0.948      0.973      0.942\n"
     ]
    },
    {
     "name": "stderr",
     "output_type": "stream",
     "text": [
      "\n"
     ]
    },
    {
     "name": "stdout",
     "output_type": "stream",
     "text": [
      "\n",
      "      Epoch    GPU_mem   box_loss   cls_loss   dfl_loss  Instances       Size\n"
     ]
    },
    {
     "name": "stderr",
     "output_type": "stream",
     "text": [
      "     34/300     0.656G     0.3857     0.4824     0.8792         78        224: 100%|██████████| 266/266 [00:15<00:00, 17.11it/s]\n",
      "                 Class     Images  Instances      Box(P          R      mAP50  mAP50-95): 100%|██████████| 24/24 [00:04<00:00,  5.81it/s]"
     ]
    },
    {
     "name": "stdout",
     "output_type": "stream",
     "text": [
      "                   all       1500       2986      0.972      0.944      0.973      0.942\n"
     ]
    },
    {
     "name": "stderr",
     "output_type": "stream",
     "text": [
      "\n"
     ]
    },
    {
     "name": "stdout",
     "output_type": "stream",
     "text": [
      "\n",
      "      Epoch    GPU_mem   box_loss   cls_loss   dfl_loss  Instances       Size\n"
     ]
    },
    {
     "name": "stderr",
     "output_type": "stream",
     "text": [
      "     35/300     0.656G     0.3807     0.4766     0.8773         61        224: 100%|██████████| 266/266 [00:18<00:00, 14.78it/s]\n",
      "                 Class     Images  Instances      Box(P          R      mAP50  mAP50-95): 100%|██████████| 24/24 [00:04<00:00,  5.72it/s]"
     ]
    },
    {
     "name": "stdout",
     "output_type": "stream",
     "text": [
      "                   all       1500       2986      0.973      0.945      0.973      0.941\n"
     ]
    },
    {
     "name": "stderr",
     "output_type": "stream",
     "text": [
      "\n"
     ]
    },
    {
     "name": "stdout",
     "output_type": "stream",
     "text": [
      "\n",
      "      Epoch    GPU_mem   box_loss   cls_loss   dfl_loss  Instances       Size\n"
     ]
    },
    {
     "name": "stderr",
     "output_type": "stream",
     "text": [
      "     36/300     0.656G     0.3845     0.4739     0.8781         63        224: 100%|██████████| 266/266 [00:17<00:00, 14.80it/s]\n",
      "                 Class     Images  Instances      Box(P          R      mAP50  mAP50-95): 100%|██████████| 24/24 [00:04<00:00,  5.63it/s]"
     ]
    },
    {
     "name": "stdout",
     "output_type": "stream",
     "text": [
      "                   all       1500       2986       0.96      0.942      0.971      0.942\n"
     ]
    },
    {
     "name": "stderr",
     "output_type": "stream",
     "text": [
      "\n"
     ]
    },
    {
     "name": "stdout",
     "output_type": "stream",
     "text": [
      "\n",
      "      Epoch    GPU_mem   box_loss   cls_loss   dfl_loss  Instances       Size\n"
     ]
    },
    {
     "name": "stderr",
     "output_type": "stream",
     "text": [
      "     37/300     0.656G     0.3812      0.472     0.8757         71        224: 100%|██████████| 266/266 [00:18<00:00, 14.54it/s]\n",
      "                 Class     Images  Instances      Box(P          R      mAP50  mAP50-95): 100%|██████████| 24/24 [00:04<00:00,  5.56it/s]"
     ]
    },
    {
     "name": "stdout",
     "output_type": "stream",
     "text": [
      "                   all       1500       2986      0.972      0.945      0.974      0.944\n"
     ]
    },
    {
     "name": "stderr",
     "output_type": "stream",
     "text": [
      "\n"
     ]
    },
    {
     "name": "stdout",
     "output_type": "stream",
     "text": [
      "\n",
      "      Epoch    GPU_mem   box_loss   cls_loss   dfl_loss  Instances       Size\n"
     ]
    },
    {
     "name": "stderr",
     "output_type": "stream",
     "text": [
      "     38/300     0.656G     0.3812     0.4683     0.8784         81        224: 100%|██████████| 266/266 [00:18<00:00, 14.69it/s]\n",
      "                 Class     Images  Instances      Box(P          R      mAP50  mAP50-95): 100%|██████████| 24/24 [00:04<00:00,  5.87it/s]"
     ]
    },
    {
     "name": "stdout",
     "output_type": "stream",
     "text": [
      "                   all       1500       2986      0.968      0.952      0.973      0.942\n"
     ]
    },
    {
     "name": "stderr",
     "output_type": "stream",
     "text": [
      "\n"
     ]
    },
    {
     "name": "stdout",
     "output_type": "stream",
     "text": [
      "\n",
      "      Epoch    GPU_mem   box_loss   cls_loss   dfl_loss  Instances       Size\n"
     ]
    },
    {
     "name": "stderr",
     "output_type": "stream",
     "text": [
      "     39/300     0.656G     0.3783     0.4664     0.8786         71        224: 100%|██████████| 266/266 [00:17<00:00, 15.30it/s]\n",
      "                 Class     Images  Instances      Box(P          R      mAP50  mAP50-95): 100%|██████████| 24/24 [00:04<00:00,  5.96it/s]"
     ]
    },
    {
     "name": "stdout",
     "output_type": "stream",
     "text": [
      "                   all       1500       2986      0.975      0.944      0.973      0.944\n"
     ]
    },
    {
     "name": "stderr",
     "output_type": "stream",
     "text": [
      "\n"
     ]
    },
    {
     "name": "stdout",
     "output_type": "stream",
     "text": [
      "\n",
      "      Epoch    GPU_mem   box_loss   cls_loss   dfl_loss  Instances       Size\n"
     ]
    },
    {
     "name": "stderr",
     "output_type": "stream",
     "text": [
      "     40/300     0.656G     0.3769     0.4598     0.8766         67        224: 100%|██████████| 266/266 [00:17<00:00, 15.40it/s]\n",
      "                 Class     Images  Instances      Box(P          R      mAP50  mAP50-95): 100%|██████████| 24/24 [00:04<00:00,  5.95it/s]"
     ]
    },
    {
     "name": "stdout",
     "output_type": "stream",
     "text": [
      "                   all       1500       2986       0.97       0.95      0.973      0.943\n"
     ]
    },
    {
     "name": "stderr",
     "output_type": "stream",
     "text": [
      "\n"
     ]
    },
    {
     "name": "stdout",
     "output_type": "stream",
     "text": [
      "\n",
      "      Epoch    GPU_mem   box_loss   cls_loss   dfl_loss  Instances       Size\n"
     ]
    },
    {
     "name": "stderr",
     "output_type": "stream",
     "text": [
      "     41/300     0.656G     0.3749      0.459     0.8761         55        224: 100%|██████████| 266/266 [00:17<00:00, 15.44it/s]\n",
      "                 Class     Images  Instances      Box(P          R      mAP50  mAP50-95): 100%|██████████| 24/24 [00:04<00:00,  5.89it/s]"
     ]
    },
    {
     "name": "stdout",
     "output_type": "stream",
     "text": [
      "                   all       1500       2986      0.975       0.95      0.973      0.945\n"
     ]
    },
    {
     "name": "stderr",
     "output_type": "stream",
     "text": [
      "\n"
     ]
    },
    {
     "name": "stdout",
     "output_type": "stream",
     "text": [
      "\n",
      "      Epoch    GPU_mem   box_loss   cls_loss   dfl_loss  Instances       Size\n"
     ]
    },
    {
     "name": "stderr",
     "output_type": "stream",
     "text": [
      "     42/300     0.656G     0.3769     0.4523     0.8783         60        224: 100%|██████████| 266/266 [00:17<00:00, 15.37it/s]\n",
      "                 Class     Images  Instances      Box(P          R      mAP50  mAP50-95): 100%|██████████| 24/24 [00:04<00:00,  5.89it/s]"
     ]
    },
    {
     "name": "stdout",
     "output_type": "stream",
     "text": [
      "                   all       1500       2986      0.977      0.943      0.974      0.946\n"
     ]
    },
    {
     "name": "stderr",
     "output_type": "stream",
     "text": [
      "\n"
     ]
    },
    {
     "name": "stdout",
     "output_type": "stream",
     "text": [
      "\n",
      "      Epoch    GPU_mem   box_loss   cls_loss   dfl_loss  Instances       Size\n"
     ]
    },
    {
     "name": "stderr",
     "output_type": "stream",
     "text": [
      "     43/300     0.656G      0.373     0.4534     0.8768         78        224: 100%|██████████| 266/266 [00:17<00:00, 15.45it/s]\n",
      "                 Class     Images  Instances      Box(P          R      mAP50  mAP50-95): 100%|██████████| 24/24 [00:04<00:00,  5.84it/s]"
     ]
    },
    {
     "name": "stdout",
     "output_type": "stream",
     "text": [
      "                   all       1500       2986      0.979      0.942      0.974      0.947\n"
     ]
    },
    {
     "name": "stderr",
     "output_type": "stream",
     "text": [
      "\n"
     ]
    },
    {
     "name": "stdout",
     "output_type": "stream",
     "text": [
      "\n",
      "      Epoch    GPU_mem   box_loss   cls_loss   dfl_loss  Instances       Size\n"
     ]
    },
    {
     "name": "stderr",
     "output_type": "stream",
     "text": [
      "     44/300     0.656G     0.3701     0.4494     0.8756         74        224: 100%|██████████| 266/266 [00:17<00:00, 15.37it/s]\n",
      "                 Class     Images  Instances      Box(P          R      mAP50  mAP50-95): 100%|██████████| 24/24 [00:04<00:00,  5.94it/s]"
     ]
    },
    {
     "name": "stdout",
     "output_type": "stream",
     "text": [
      "                   all       1500       2986      0.978      0.946      0.975      0.947\n"
     ]
    },
    {
     "name": "stderr",
     "output_type": "stream",
     "text": [
      "\n"
     ]
    },
    {
     "name": "stdout",
     "output_type": "stream",
     "text": [
      "\n",
      "      Epoch    GPU_mem   box_loss   cls_loss   dfl_loss  Instances       Size\n"
     ]
    },
    {
     "name": "stderr",
     "output_type": "stream",
     "text": [
      "     45/300     0.656G     0.3729     0.4461     0.8756         78        224: 100%|██████████| 266/266 [00:17<00:00, 15.23it/s]\n",
      "                 Class     Images  Instances      Box(P          R      mAP50  mAP50-95): 100%|██████████| 24/24 [00:04<00:00,  5.90it/s]"
     ]
    },
    {
     "name": "stdout",
     "output_type": "stream",
     "text": [
      "                   all       1500       2986      0.967      0.955      0.975      0.949\n"
     ]
    },
    {
     "name": "stderr",
     "output_type": "stream",
     "text": [
      "\n"
     ]
    },
    {
     "name": "stdout",
     "output_type": "stream",
     "text": [
      "\n",
      "      Epoch    GPU_mem   box_loss   cls_loss   dfl_loss  Instances       Size\n"
     ]
    },
    {
     "name": "stderr",
     "output_type": "stream",
     "text": [
      "     46/300     0.656G     0.3733     0.4452     0.8776         87        224: 100%|██████████| 266/266 [00:17<00:00, 15.34it/s]\n",
      "                 Class     Images  Instances      Box(P          R      mAP50  mAP50-95): 100%|██████████| 24/24 [00:04<00:00,  5.81it/s]"
     ]
    },
    {
     "name": "stdout",
     "output_type": "stream",
     "text": [
      "                   all       1500       2986      0.976      0.941      0.974      0.948\n"
     ]
    },
    {
     "name": "stderr",
     "output_type": "stream",
     "text": [
      "\n"
     ]
    },
    {
     "name": "stdout",
     "output_type": "stream",
     "text": [
      "\n",
      "      Epoch    GPU_mem   box_loss   cls_loss   dfl_loss  Instances       Size\n"
     ]
    },
    {
     "name": "stderr",
     "output_type": "stream",
     "text": [
      "     47/300     0.656G     0.3697      0.443     0.8749         74        224: 100%|██████████| 266/266 [00:18<00:00, 14.74it/s]\n",
      "                 Class     Images  Instances      Box(P          R      mAP50  mAP50-95): 100%|██████████| 24/24 [00:04<00:00,  5.72it/s]"
     ]
    },
    {
     "name": "stdout",
     "output_type": "stream",
     "text": [
      "                   all       1500       2986      0.979      0.943      0.975      0.949\n"
     ]
    },
    {
     "name": "stderr",
     "output_type": "stream",
     "text": [
      "\n"
     ]
    },
    {
     "name": "stdout",
     "output_type": "stream",
     "text": [
      "\n",
      "      Epoch    GPU_mem   box_loss   cls_loss   dfl_loss  Instances       Size\n"
     ]
    },
    {
     "name": "stderr",
     "output_type": "stream",
     "text": [
      "     48/300     0.656G     0.3689     0.4365     0.8733         80        224: 100%|██████████| 266/266 [00:18<00:00, 14.61it/s]\n",
      "                 Class     Images  Instances      Box(P          R      mAP50  mAP50-95): 100%|██████████| 24/24 [00:04<00:00,  5.65it/s]"
     ]
    },
    {
     "name": "stdout",
     "output_type": "stream",
     "text": [
      "                   all       1500       2986      0.971      0.946      0.974      0.948\n"
     ]
    },
    {
     "name": "stderr",
     "output_type": "stream",
     "text": [
      "\n"
     ]
    },
    {
     "name": "stdout",
     "output_type": "stream",
     "text": [
      "\n",
      "      Epoch    GPU_mem   box_loss   cls_loss   dfl_loss  Instances       Size\n"
     ]
    },
    {
     "name": "stderr",
     "output_type": "stream",
     "text": [
      "     49/300     0.656G     0.3651     0.4342     0.8715         67        224: 100%|██████████| 266/266 [00:18<00:00, 14.56it/s]\n",
      "                 Class     Images  Instances      Box(P          R      mAP50  mAP50-95): 100%|██████████| 24/24 [00:04<00:00,  5.63it/s]"
     ]
    },
    {
     "name": "stdout",
     "output_type": "stream",
     "text": [
      "                   all       1500       2986      0.972      0.951      0.975      0.948\n"
     ]
    },
    {
     "name": "stderr",
     "output_type": "stream",
     "text": [
      "\n"
     ]
    },
    {
     "name": "stdout",
     "output_type": "stream",
     "text": [
      "\n",
      "      Epoch    GPU_mem   box_loss   cls_loss   dfl_loss  Instances       Size\n"
     ]
    },
    {
     "name": "stderr",
     "output_type": "stream",
     "text": [
      "     50/300     0.656G     0.3661      0.436      0.872         66        224: 100%|██████████| 266/266 [00:17<00:00, 15.14it/s]\n",
      "                 Class     Images  Instances      Box(P          R      mAP50  mAP50-95): 100%|██████████| 24/24 [00:04<00:00,  5.94it/s]"
     ]
    },
    {
     "name": "stdout",
     "output_type": "stream",
     "text": [
      "                   all       1500       2986      0.975      0.949      0.974      0.949\n"
     ]
    },
    {
     "name": "stderr",
     "output_type": "stream",
     "text": [
      "\n"
     ]
    },
    {
     "name": "stdout",
     "output_type": "stream",
     "text": [
      "\n",
      "      Epoch    GPU_mem   box_loss   cls_loss   dfl_loss  Instances       Size\n"
     ]
    },
    {
     "name": "stderr",
     "output_type": "stream",
     "text": [
      "     51/300     0.656G     0.3666     0.4316     0.8733         67        224: 100%|██████████| 266/266 [00:17<00:00, 15.29it/s]\n",
      "                 Class     Images  Instances      Box(P          R      mAP50  mAP50-95): 100%|██████████| 24/24 [00:04<00:00,  5.88it/s]"
     ]
    },
    {
     "name": "stdout",
     "output_type": "stream",
     "text": [
      "                   all       1500       2986      0.975      0.947      0.973      0.947\n"
     ]
    },
    {
     "name": "stderr",
     "output_type": "stream",
     "text": [
      "\n"
     ]
    },
    {
     "name": "stdout",
     "output_type": "stream",
     "text": [
      "\n",
      "      Epoch    GPU_mem   box_loss   cls_loss   dfl_loss  Instances       Size\n"
     ]
    },
    {
     "name": "stderr",
     "output_type": "stream",
     "text": [
      "     52/300     0.656G     0.3631     0.4289     0.8715         61        224: 100%|██████████| 266/266 [00:17<00:00, 15.22it/s]\n",
      "                 Class     Images  Instances      Box(P          R      mAP50  mAP50-95): 100%|██████████| 24/24 [00:04<00:00,  5.90it/s]"
     ]
    },
    {
     "name": "stdout",
     "output_type": "stream",
     "text": [
      "                   all       1500       2986      0.968      0.958      0.976       0.95\n"
     ]
    },
    {
     "name": "stderr",
     "output_type": "stream",
     "text": [
      "\n"
     ]
    },
    {
     "name": "stdout",
     "output_type": "stream",
     "text": [
      "\n",
      "      Epoch    GPU_mem   box_loss   cls_loss   dfl_loss  Instances       Size\n"
     ]
    },
    {
     "name": "stderr",
     "output_type": "stream",
     "text": [
      "     53/300     0.656G     0.3641     0.4283     0.8733         72        224: 100%|██████████| 266/266 [00:17<00:00, 15.36it/s]\n",
      "                 Class     Images  Instances      Box(P          R      mAP50  mAP50-95): 100%|██████████| 24/24 [00:04<00:00,  5.93it/s]"
     ]
    },
    {
     "name": "stdout",
     "output_type": "stream",
     "text": [
      "                   all       1500       2986      0.981      0.945      0.975       0.95\n"
     ]
    },
    {
     "name": "stderr",
     "output_type": "stream",
     "text": [
      "\n"
     ]
    },
    {
     "name": "stdout",
     "output_type": "stream",
     "text": [
      "\n",
      "      Epoch    GPU_mem   box_loss   cls_loss   dfl_loss  Instances       Size\n"
     ]
    },
    {
     "name": "stderr",
     "output_type": "stream",
     "text": [
      "     54/300     0.656G     0.3637     0.4259     0.8728         66        224: 100%|██████████| 266/266 [00:17<00:00, 15.38it/s]\n",
      "                 Class     Images  Instances      Box(P          R      mAP50  mAP50-95): 100%|██████████| 24/24 [00:04<00:00,  5.93it/s]"
     ]
    },
    {
     "name": "stdout",
     "output_type": "stream",
     "text": [
      "                   all       1500       2986      0.979      0.952      0.977      0.951\n"
     ]
    },
    {
     "name": "stderr",
     "output_type": "stream",
     "text": [
      "\n"
     ]
    },
    {
     "name": "stdout",
     "output_type": "stream",
     "text": [
      "\n",
      "      Epoch    GPU_mem   box_loss   cls_loss   dfl_loss  Instances       Size\n"
     ]
    },
    {
     "name": "stderr",
     "output_type": "stream",
     "text": [
      "     55/300     0.656G      0.364     0.4231     0.8747         50        224: 100%|██████████| 266/266 [00:17<00:00, 15.29it/s]\n",
      "                 Class     Images  Instances      Box(P          R      mAP50  mAP50-95): 100%|██████████| 24/24 [00:04<00:00,  5.69it/s]"
     ]
    },
    {
     "name": "stdout",
     "output_type": "stream",
     "text": [
      "                   all       1500       2986      0.971      0.957      0.976      0.951\n"
     ]
    },
    {
     "name": "stderr",
     "output_type": "stream",
     "text": [
      "\n"
     ]
    },
    {
     "name": "stdout",
     "output_type": "stream",
     "text": [
      "\n",
      "      Epoch    GPU_mem   box_loss   cls_loss   dfl_loss  Instances       Size\n"
     ]
    },
    {
     "name": "stderr",
     "output_type": "stream",
     "text": [
      "     56/300     0.656G     0.3624     0.4228     0.8737         57        224: 100%|██████████| 266/266 [00:17<00:00, 15.37it/s]\n",
      "                 Class     Images  Instances      Box(P          R      mAP50  mAP50-95): 100%|██████████| 24/24 [00:04<00:00,  5.89it/s]"
     ]
    },
    {
     "name": "stdout",
     "output_type": "stream",
     "text": [
      "                   all       1500       2986      0.977      0.951      0.976      0.951\n"
     ]
    },
    {
     "name": "stderr",
     "output_type": "stream",
     "text": [
      "\n"
     ]
    },
    {
     "name": "stdout",
     "output_type": "stream",
     "text": [
      "\n",
      "      Epoch    GPU_mem   box_loss   cls_loss   dfl_loss  Instances       Size\n"
     ]
    },
    {
     "name": "stderr",
     "output_type": "stream",
     "text": [
      "     57/300     0.656G     0.3629     0.4203     0.8722         76        224: 100%|██████████| 266/266 [00:17<00:00, 15.23it/s]\n",
      "                 Class     Images  Instances      Box(P          R      mAP50  mAP50-95): 100%|██████████| 24/24 [00:03<00:00,  6.00it/s]"
     ]
    },
    {
     "name": "stdout",
     "output_type": "stream",
     "text": [
      "                   all       1500       2986      0.975      0.949      0.975      0.949\n"
     ]
    },
    {
     "name": "stderr",
     "output_type": "stream",
     "text": [
      "\n"
     ]
    },
    {
     "name": "stdout",
     "output_type": "stream",
     "text": [
      "\n",
      "      Epoch    GPU_mem   box_loss   cls_loss   dfl_loss  Instances       Size\n"
     ]
    },
    {
     "name": "stderr",
     "output_type": "stream",
     "text": [
      "     58/300     0.656G     0.3608     0.4203     0.8745         76        224: 100%|██████████| 266/266 [00:17<00:00, 15.32it/s]\n",
      "                 Class     Images  Instances      Box(P          R      mAP50  mAP50-95): 100%|██████████| 24/24 [00:04<00:00,  5.82it/s]"
     ]
    },
    {
     "name": "stdout",
     "output_type": "stream",
     "text": [
      "                   all       1500       2986      0.975      0.948      0.976      0.951\n"
     ]
    },
    {
     "name": "stderr",
     "output_type": "stream",
     "text": [
      "\n"
     ]
    },
    {
     "name": "stdout",
     "output_type": "stream",
     "text": [
      "\n",
      "      Epoch    GPU_mem   box_loss   cls_loss   dfl_loss  Instances       Size\n"
     ]
    },
    {
     "name": "stderr",
     "output_type": "stream",
     "text": [
      "     59/300     0.656G     0.3603     0.4142     0.8724         80        224: 100%|██████████| 266/266 [00:17<00:00, 15.14it/s]\n",
      "                 Class     Images  Instances      Box(P          R      mAP50  mAP50-95): 100%|██████████| 24/24 [00:04<00:00,  5.86it/s]"
     ]
    },
    {
     "name": "stdout",
     "output_type": "stream",
     "text": [
      "                   all       1500       2986      0.971      0.958      0.977      0.952\n"
     ]
    },
    {
     "name": "stderr",
     "output_type": "stream",
     "text": [
      "\n"
     ]
    },
    {
     "name": "stdout",
     "output_type": "stream",
     "text": [
      "\n",
      "      Epoch    GPU_mem   box_loss   cls_loss   dfl_loss  Instances       Size\n"
     ]
    },
    {
     "name": "stderr",
     "output_type": "stream",
     "text": [
      "     60/300     0.656G     0.3583     0.4103     0.8717         72        224: 100%|██████████| 266/266 [00:17<00:00, 15.29it/s]\n",
      "                 Class     Images  Instances      Box(P          R      mAP50  mAP50-95): 100%|██████████| 24/24 [00:04<00:00,  5.97it/s]"
     ]
    },
    {
     "name": "stdout",
     "output_type": "stream",
     "text": [
      "                   all       1500       2986      0.973      0.957      0.976      0.952\n"
     ]
    },
    {
     "name": "stderr",
     "output_type": "stream",
     "text": [
      "\n"
     ]
    },
    {
     "name": "stdout",
     "output_type": "stream",
     "text": [
      "\n",
      "      Epoch    GPU_mem   box_loss   cls_loss   dfl_loss  Instances       Size\n"
     ]
    },
    {
     "name": "stderr",
     "output_type": "stream",
     "text": [
      "     61/300     0.656G     0.3586     0.4137     0.8736         80        224: 100%|██████████| 266/266 [00:17<00:00, 15.32it/s]\n",
      "                 Class     Images  Instances      Box(P          R      mAP50  mAP50-95): 100%|██████████| 24/24 [00:04<00:00,  5.73it/s]"
     ]
    },
    {
     "name": "stdout",
     "output_type": "stream",
     "text": [
      "                   all       1500       2986      0.976      0.952      0.976      0.952\n"
     ]
    },
    {
     "name": "stderr",
     "output_type": "stream",
     "text": [
      "\n"
     ]
    },
    {
     "name": "stdout",
     "output_type": "stream",
     "text": [
      "\n",
      "      Epoch    GPU_mem   box_loss   cls_loss   dfl_loss  Instances       Size\n"
     ]
    },
    {
     "name": "stderr",
     "output_type": "stream",
     "text": [
      "     62/300     0.656G     0.3566     0.4048     0.8694         70        224: 100%|██████████| 266/266 [00:17<00:00, 15.27it/s]\n",
      "                 Class     Images  Instances      Box(P          R      mAP50  mAP50-95): 100%|██████████| 24/24 [00:04<00:00,  5.89it/s]"
     ]
    },
    {
     "name": "stdout",
     "output_type": "stream",
     "text": [
      "                   all       1500       2986      0.973      0.952      0.976      0.951\n"
     ]
    },
    {
     "name": "stderr",
     "output_type": "stream",
     "text": [
      "\n"
     ]
    },
    {
     "name": "stdout",
     "output_type": "stream",
     "text": [
      "\n",
      "      Epoch    GPU_mem   box_loss   cls_loss   dfl_loss  Instances       Size\n"
     ]
    },
    {
     "name": "stderr",
     "output_type": "stream",
     "text": [
      "     63/300     0.656G     0.3574     0.4091     0.8714         71        224: 100%|██████████| 266/266 [00:17<00:00, 15.40it/s]\n",
      "                 Class     Images  Instances      Box(P          R      mAP50  mAP50-95): 100%|██████████| 24/24 [00:04<00:00,  5.78it/s]"
     ]
    },
    {
     "name": "stdout",
     "output_type": "stream",
     "text": [
      "                   all       1500       2986       0.98      0.949      0.976      0.952\n"
     ]
    },
    {
     "name": "stderr",
     "output_type": "stream",
     "text": [
      "\n"
     ]
    },
    {
     "name": "stdout",
     "output_type": "stream",
     "text": [
      "\n",
      "      Epoch    GPU_mem   box_loss   cls_loss   dfl_loss  Instances       Size\n"
     ]
    },
    {
     "name": "stderr",
     "output_type": "stream",
     "text": [
      "     64/300     0.656G     0.3519     0.4049     0.8709         62        224: 100%|██████████| 266/266 [00:16<00:00, 16.35it/s]\n",
      "                 Class     Images  Instances      Box(P          R      mAP50  mAP50-95): 100%|██████████| 24/24 [00:03<00:00,  6.14it/s]"
     ]
    },
    {
     "name": "stdout",
     "output_type": "stream",
     "text": [
      "                   all       1500       2986       0.98      0.948      0.976      0.954\n"
     ]
    },
    {
     "name": "stderr",
     "output_type": "stream",
     "text": [
      "\n"
     ]
    },
    {
     "name": "stdout",
     "output_type": "stream",
     "text": [
      "\n",
      "      Epoch    GPU_mem   box_loss   cls_loss   dfl_loss  Instances       Size\n"
     ]
    },
    {
     "name": "stderr",
     "output_type": "stream",
     "text": [
      "     65/300     0.656G     0.3554     0.4082     0.8705         56        224: 100%|██████████| 266/266 [00:15<00:00, 17.08it/s]\n",
      "                 Class     Images  Instances      Box(P          R      mAP50  mAP50-95): 100%|██████████| 24/24 [00:03<00:00,  6.28it/s]"
     ]
    },
    {
     "name": "stdout",
     "output_type": "stream",
     "text": [
      "                   all       1500       2986      0.979      0.952      0.976      0.954\n"
     ]
    },
    {
     "name": "stderr",
     "output_type": "stream",
     "text": [
      "\n"
     ]
    },
    {
     "name": "stdout",
     "output_type": "stream",
     "text": [
      "\n",
      "      Epoch    GPU_mem   box_loss   cls_loss   dfl_loss  Instances       Size\n"
     ]
    },
    {
     "name": "stderr",
     "output_type": "stream",
     "text": [
      "     66/300     0.656G      0.355     0.4058     0.8704         85        224: 100%|██████████| 266/266 [00:15<00:00, 17.46it/s]\n",
      "                 Class     Images  Instances      Box(P          R      mAP50  mAP50-95): 100%|██████████| 24/24 [00:03<00:00,  6.63it/s]"
     ]
    },
    {
     "name": "stdout",
     "output_type": "stream",
     "text": [
      "                   all       1500       2986      0.975      0.953      0.975      0.954\n"
     ]
    },
    {
     "name": "stderr",
     "output_type": "stream",
     "text": [
      "\n"
     ]
    },
    {
     "name": "stdout",
     "output_type": "stream",
     "text": [
      "\n",
      "      Epoch    GPU_mem   box_loss   cls_loss   dfl_loss  Instances       Size\n"
     ]
    },
    {
     "name": "stderr",
     "output_type": "stream",
     "text": [
      "     67/300     0.656G      0.356     0.4016     0.8709         80        224: 100%|██████████| 266/266 [00:15<00:00, 17.68it/s]\n",
      "                 Class     Images  Instances      Box(P          R      mAP50  mAP50-95): 100%|██████████| 24/24 [00:03<00:00,  6.56it/s]"
     ]
    },
    {
     "name": "stdout",
     "output_type": "stream",
     "text": [
      "                   all       1500       2986      0.977      0.952      0.976      0.954\n"
     ]
    },
    {
     "name": "stderr",
     "output_type": "stream",
     "text": [
      "\n"
     ]
    },
    {
     "name": "stdout",
     "output_type": "stream",
     "text": [
      "\n",
      "      Epoch    GPU_mem   box_loss   cls_loss   dfl_loss  Instances       Size\n"
     ]
    },
    {
     "name": "stderr",
     "output_type": "stream",
     "text": [
      "     68/300     0.656G     0.3501     0.4015     0.8692         74        224: 100%|██████████| 266/266 [00:14<00:00, 17.78it/s]\n",
      "                 Class     Images  Instances      Box(P          R      mAP50  mAP50-95): 100%|██████████| 24/24 [00:03<00:00,  6.60it/s]"
     ]
    },
    {
     "name": "stdout",
     "output_type": "stream",
     "text": [
      "                   all       1500       2986      0.981      0.947      0.976      0.955\n"
     ]
    },
    {
     "name": "stderr",
     "output_type": "stream",
     "text": [
      "\n"
     ]
    },
    {
     "name": "stdout",
     "output_type": "stream",
     "text": [
      "\n",
      "      Epoch    GPU_mem   box_loss   cls_loss   dfl_loss  Instances       Size\n"
     ]
    },
    {
     "name": "stderr",
     "output_type": "stream",
     "text": [
      "     69/300     0.656G     0.3511     0.3986     0.8698         80        224: 100%|██████████| 266/266 [00:15<00:00, 17.73it/s]\n",
      "                 Class     Images  Instances      Box(P          R      mAP50  mAP50-95): 100%|██████████| 24/24 [00:03<00:00,  6.61it/s]"
     ]
    },
    {
     "name": "stdout",
     "output_type": "stream",
     "text": [
      "                   all       1500       2986      0.978      0.951      0.977      0.955\n"
     ]
    },
    {
     "name": "stderr",
     "output_type": "stream",
     "text": [
      "\n"
     ]
    },
    {
     "name": "stdout",
     "output_type": "stream",
     "text": [
      "\n",
      "      Epoch    GPU_mem   box_loss   cls_loss   dfl_loss  Instances       Size\n"
     ]
    },
    {
     "name": "stderr",
     "output_type": "stream",
     "text": [
      "     70/300     0.656G     0.3518     0.3967     0.8695         60        224: 100%|██████████| 266/266 [00:14<00:00, 17.74it/s]\n",
      "                 Class     Images  Instances      Box(P          R      mAP50  mAP50-95): 100%|██████████| 24/24 [00:03<00:00,  6.43it/s]"
     ]
    },
    {
     "name": "stdout",
     "output_type": "stream",
     "text": [
      "                   all       1500       2986      0.977      0.952      0.976      0.954\n"
     ]
    },
    {
     "name": "stderr",
     "output_type": "stream",
     "text": [
      "\n"
     ]
    },
    {
     "name": "stdout",
     "output_type": "stream",
     "text": [
      "\n",
      "      Epoch    GPU_mem   box_loss   cls_loss   dfl_loss  Instances       Size\n"
     ]
    },
    {
     "name": "stderr",
     "output_type": "stream",
     "text": [
      "     71/300     0.656G     0.3519     0.3955     0.8696         63        224: 100%|██████████| 266/266 [00:14<00:00, 17.78it/s]\n",
      "                 Class     Images  Instances      Box(P          R      mAP50  mAP50-95): 100%|██████████| 24/24 [00:03<00:00,  6.52it/s]"
     ]
    },
    {
     "name": "stdout",
     "output_type": "stream",
     "text": [
      "                   all       1500       2986      0.977      0.953      0.976      0.955\n",
      "\n",
      "      Epoch    GPU_mem   box_loss   cls_loss   dfl_loss  Instances       Size\n"
     ]
    },
    {
     "name": "stderr",
     "output_type": "stream",
     "text": [
      "\n",
      "     72/300     0.656G     0.3519     0.3952     0.8693         53        224: 100%|██████████| 266/266 [00:15<00:00, 17.65it/s]\n",
      "                 Class     Images  Instances      Box(P          R      mAP50  mAP50-95): 100%|██████████| 24/24 [00:03<00:00,  6.56it/s]"
     ]
    },
    {
     "name": "stdout",
     "output_type": "stream",
     "text": [
      "                   all       1500       2986      0.974      0.954      0.976      0.954\n"
     ]
    },
    {
     "name": "stderr",
     "output_type": "stream",
     "text": [
      "\n"
     ]
    },
    {
     "name": "stdout",
     "output_type": "stream",
     "text": [
      "\n",
      "      Epoch    GPU_mem   box_loss   cls_loss   dfl_loss  Instances       Size\n"
     ]
    },
    {
     "name": "stderr",
     "output_type": "stream",
     "text": [
      "     73/300     0.656G     0.3499     0.3941     0.8691         75        224: 100%|██████████| 266/266 [00:15<00:00, 17.64it/s]\n",
      "                 Class     Images  Instances      Box(P          R      mAP50  mAP50-95): 100%|██████████| 24/24 [00:03<00:00,  6.53it/s]"
     ]
    },
    {
     "name": "stdout",
     "output_type": "stream",
     "text": [
      "                   all       1500       2986      0.978      0.951      0.976      0.954\n"
     ]
    },
    {
     "name": "stderr",
     "output_type": "stream",
     "text": [
      "\n"
     ]
    },
    {
     "name": "stdout",
     "output_type": "stream",
     "text": [
      "\n",
      "      Epoch    GPU_mem   box_loss   cls_loss   dfl_loss  Instances       Size\n"
     ]
    },
    {
     "name": "stderr",
     "output_type": "stream",
     "text": [
      "     74/300     0.656G     0.3506     0.3955     0.8702         86        224: 100%|██████████| 266/266 [00:15<00:00, 17.02it/s]\n",
      "                 Class     Images  Instances      Box(P          R      mAP50  mAP50-95): 100%|██████████| 24/24 [00:03<00:00,  6.42it/s]"
     ]
    },
    {
     "name": "stdout",
     "output_type": "stream",
     "text": [
      "                   all       1500       2986      0.974      0.956      0.976      0.955\n"
     ]
    },
    {
     "name": "stderr",
     "output_type": "stream",
     "text": [
      "\n"
     ]
    },
    {
     "name": "stdout",
     "output_type": "stream",
     "text": [
      "\n",
      "      Epoch    GPU_mem   box_loss   cls_loss   dfl_loss  Instances       Size\n"
     ]
    },
    {
     "name": "stderr",
     "output_type": "stream",
     "text": [
      "     75/300     0.656G     0.3476     0.3885     0.8697         93        224: 100%|██████████| 266/266 [00:15<00:00, 17.01it/s]\n",
      "                 Class     Images  Instances      Box(P          R      mAP50  mAP50-95): 100%|██████████| 24/24 [00:03<00:00,  6.61it/s]"
     ]
    },
    {
     "name": "stdout",
     "output_type": "stream",
     "text": [
      "                   all       1500       2986      0.973      0.957      0.976      0.955\n"
     ]
    },
    {
     "name": "stderr",
     "output_type": "stream",
     "text": [
      "\n"
     ]
    },
    {
     "name": "stdout",
     "output_type": "stream",
     "text": [
      "\n",
      "      Epoch    GPU_mem   box_loss   cls_loss   dfl_loss  Instances       Size\n"
     ]
    },
    {
     "name": "stderr",
     "output_type": "stream",
     "text": [
      "     76/300     0.656G     0.3491     0.3882     0.8685         72        224: 100%|██████████| 266/266 [00:15<00:00, 17.72it/s]\n",
      "                 Class     Images  Instances      Box(P          R      mAP50  mAP50-95): 100%|██████████| 24/24 [00:03<00:00,  6.36it/s]"
     ]
    },
    {
     "name": "stdout",
     "output_type": "stream",
     "text": [
      "                   all       1500       2986      0.977      0.949      0.976      0.955\n"
     ]
    },
    {
     "name": "stderr",
     "output_type": "stream",
     "text": [
      "\n"
     ]
    },
    {
     "name": "stdout",
     "output_type": "stream",
     "text": [
      "\n",
      "      Epoch    GPU_mem   box_loss   cls_loss   dfl_loss  Instances       Size\n"
     ]
    },
    {
     "name": "stderr",
     "output_type": "stream",
     "text": [
      "     77/300     0.656G     0.3476      0.386     0.8692         74        224: 100%|██████████| 266/266 [00:15<00:00, 17.71it/s]\n",
      "                 Class     Images  Instances      Box(P          R      mAP50  mAP50-95): 100%|██████████| 24/24 [00:03<00:00,  6.51it/s]"
     ]
    },
    {
     "name": "stdout",
     "output_type": "stream",
     "text": [
      "                   all       1500       2986      0.983       0.95      0.977      0.955\n",
      "\n",
      "      Epoch    GPU_mem   box_loss   cls_loss   dfl_loss  Instances       Size\n"
     ]
    },
    {
     "name": "stderr",
     "output_type": "stream",
     "text": [
      "\n",
      "     78/300     0.656G     0.3449     0.3847     0.8678         65        224: 100%|██████████| 266/266 [00:15<00:00, 17.65it/s]\n",
      "                 Class     Images  Instances      Box(P          R      mAP50  mAP50-95): 100%|██████████| 24/24 [00:03<00:00,  6.58it/s]"
     ]
    },
    {
     "name": "stdout",
     "output_type": "stream",
     "text": [
      "                   all       1500       2986      0.974      0.957      0.977      0.955\n"
     ]
    },
    {
     "name": "stderr",
     "output_type": "stream",
     "text": [
      "\n"
     ]
    },
    {
     "name": "stdout",
     "output_type": "stream",
     "text": [
      "\n",
      "      Epoch    GPU_mem   box_loss   cls_loss   dfl_loss  Instances       Size\n"
     ]
    },
    {
     "name": "stderr",
     "output_type": "stream",
     "text": [
      "     79/300     0.656G     0.3471       0.39     0.8698         71        224: 100%|██████████| 266/266 [00:14<00:00, 17.74it/s]\n",
      "                 Class     Images  Instances      Box(P          R      mAP50  mAP50-95): 100%|██████████| 24/24 [00:03<00:00,  6.51it/s]"
     ]
    },
    {
     "name": "stdout",
     "output_type": "stream",
     "text": [
      "                   all       1500       2986      0.974      0.953      0.977      0.955\n"
     ]
    },
    {
     "name": "stderr",
     "output_type": "stream",
     "text": [
      "\n"
     ]
    },
    {
     "name": "stdout",
     "output_type": "stream",
     "text": [
      "\n",
      "      Epoch    GPU_mem   box_loss   cls_loss   dfl_loss  Instances       Size\n"
     ]
    },
    {
     "name": "stderr",
     "output_type": "stream",
     "text": [
      "     80/300     0.656G     0.3447     0.3852     0.8678         75        224: 100%|██████████| 266/266 [00:15<00:00, 17.69it/s]\n",
      "                 Class     Images  Instances      Box(P          R      mAP50  mAP50-95): 100%|██████████| 24/24 [00:03<00:00,  6.56it/s]"
     ]
    },
    {
     "name": "stdout",
     "output_type": "stream",
     "text": [
      "                   all       1500       2986      0.978      0.953      0.976      0.954\n"
     ]
    },
    {
     "name": "stderr",
     "output_type": "stream",
     "text": [
      "\n"
     ]
    },
    {
     "name": "stdout",
     "output_type": "stream",
     "text": [
      "\n",
      "      Epoch    GPU_mem   box_loss   cls_loss   dfl_loss  Instances       Size\n"
     ]
    },
    {
     "name": "stderr",
     "output_type": "stream",
     "text": [
      "     81/300     0.656G     0.3457     0.3864     0.8699         76        224: 100%|██████████| 266/266 [00:15<00:00, 17.69it/s]\n",
      "                 Class     Images  Instances      Box(P          R      mAP50  mAP50-95): 100%|██████████| 24/24 [00:03<00:00,  6.63it/s]"
     ]
    },
    {
     "name": "stdout",
     "output_type": "stream",
     "text": [
      "                   all       1500       2986      0.973      0.953      0.977      0.955\n"
     ]
    },
    {
     "name": "stderr",
     "output_type": "stream",
     "text": [
      "\n"
     ]
    },
    {
     "name": "stdout",
     "output_type": "stream",
     "text": [
      "\n",
      "      Epoch    GPU_mem   box_loss   cls_loss   dfl_loss  Instances       Size\n"
     ]
    },
    {
     "name": "stderr",
     "output_type": "stream",
     "text": [
      "     82/300     0.656G     0.3423     0.3844     0.8686         69        224: 100%|██████████| 266/266 [00:15<00:00, 17.65it/s]\n",
      "                 Class     Images  Instances      Box(P          R      mAP50  mAP50-95): 100%|██████████| 24/24 [00:03<00:00,  6.32it/s]"
     ]
    },
    {
     "name": "stdout",
     "output_type": "stream",
     "text": [
      "                   all       1500       2986      0.979      0.949      0.977      0.956\n",
      "\n",
      "      Epoch    GPU_mem   box_loss   cls_loss   dfl_loss  Instances       Size\n"
     ]
    },
    {
     "name": "stderr",
     "output_type": "stream",
     "text": [
      "\n",
      "     83/300     0.656G      0.344     0.3819     0.8676         58        224: 100%|██████████| 266/266 [00:14<00:00, 17.78it/s]\n",
      "                 Class     Images  Instances      Box(P          R      mAP50  mAP50-95): 100%|██████████| 24/24 [00:03<00:00,  6.50it/s]"
     ]
    },
    {
     "name": "stdout",
     "output_type": "stream",
     "text": [
      "                   all       1500       2986      0.979      0.949      0.977      0.955\n"
     ]
    },
    {
     "name": "stderr",
     "output_type": "stream",
     "text": [
      "\n"
     ]
    },
    {
     "name": "stdout",
     "output_type": "stream",
     "text": [
      "\n",
      "      Epoch    GPU_mem   box_loss   cls_loss   dfl_loss  Instances       Size\n"
     ]
    },
    {
     "name": "stderr",
     "output_type": "stream",
     "text": [
      "     84/300     0.656G     0.3422     0.3813     0.8689         67        224: 100%|██████████| 266/266 [00:15<00:00, 17.69it/s]\n",
      "                 Class     Images  Instances      Box(P          R      mAP50  mAP50-95): 100%|██████████| 24/24 [00:03<00:00,  6.56it/s]"
     ]
    },
    {
     "name": "stdout",
     "output_type": "stream",
     "text": [
      "                   all       1500       2986      0.981      0.949      0.978      0.957\n"
     ]
    },
    {
     "name": "stderr",
     "output_type": "stream",
     "text": [
      "\n"
     ]
    },
    {
     "name": "stdout",
     "output_type": "stream",
     "text": [
      "\n",
      "      Epoch    GPU_mem   box_loss   cls_loss   dfl_loss  Instances       Size\n"
     ]
    },
    {
     "name": "stderr",
     "output_type": "stream",
     "text": [
      "     85/300     0.656G     0.3433     0.3777     0.8686         72        224: 100%|██████████| 266/266 [00:15<00:00, 17.66it/s]\n",
      "                 Class     Images  Instances      Box(P          R      mAP50  mAP50-95): 100%|██████████| 24/24 [00:03<00:00,  6.36it/s]"
     ]
    },
    {
     "name": "stdout",
     "output_type": "stream",
     "text": [
      "                   all       1500       2986      0.979      0.948      0.977      0.957\n",
      "\n",
      "      Epoch    GPU_mem   box_loss   cls_loss   dfl_loss  Instances       Size\n"
     ]
    },
    {
     "name": "stderr",
     "output_type": "stream",
     "text": [
      "\n",
      "     86/300     0.656G     0.3443     0.3795     0.8692         62        224: 100%|██████████| 266/266 [00:15<00:00, 17.73it/s]\n",
      "                 Class     Images  Instances      Box(P          R      mAP50  mAP50-95): 100%|██████████| 24/24 [00:03<00:00,  6.51it/s]"
     ]
    },
    {
     "name": "stdout",
     "output_type": "stream",
     "text": [
      "                   all       1500       2986      0.974      0.954      0.977      0.956\n"
     ]
    },
    {
     "name": "stderr",
     "output_type": "stream",
     "text": [
      "\n"
     ]
    },
    {
     "name": "stdout",
     "output_type": "stream",
     "text": [
      "\n",
      "      Epoch    GPU_mem   box_loss   cls_loss   dfl_loss  Instances       Size\n"
     ]
    },
    {
     "name": "stderr",
     "output_type": "stream",
     "text": [
      "     87/300     0.656G     0.3438     0.3768     0.8659         79        224: 100%|██████████| 266/266 [00:15<00:00, 17.57it/s]\n",
      "                 Class     Images  Instances      Box(P          R      mAP50  mAP50-95): 100%|██████████| 24/24 [00:03<00:00,  6.53it/s]"
     ]
    },
    {
     "name": "stdout",
     "output_type": "stream",
     "text": [
      "                   all       1500       2986       0.98       0.95      0.977      0.956\n"
     ]
    },
    {
     "name": "stderr",
     "output_type": "stream",
     "text": [
      "\n"
     ]
    },
    {
     "name": "stdout",
     "output_type": "stream",
     "text": [
      "\n",
      "      Epoch    GPU_mem   box_loss   cls_loss   dfl_loss  Instances       Size\n"
     ]
    },
    {
     "name": "stderr",
     "output_type": "stream",
     "text": [
      "     88/300     0.656G       0.34     0.3754     0.8659         74        224: 100%|██████████| 266/266 [00:15<00:00, 17.37it/s]\n",
      "                 Class     Images  Instances      Box(P          R      mAP50  mAP50-95): 100%|██████████| 24/24 [00:03<00:00,  6.40it/s]"
     ]
    },
    {
     "name": "stdout",
     "output_type": "stream",
     "text": [
      "                   all       1500       2986      0.982      0.949      0.977      0.957\n"
     ]
    },
    {
     "name": "stderr",
     "output_type": "stream",
     "text": [
      "\n"
     ]
    },
    {
     "name": "stdout",
     "output_type": "stream",
     "text": [
      "\n",
      "      Epoch    GPU_mem   box_loss   cls_loss   dfl_loss  Instances       Size\n"
     ]
    },
    {
     "name": "stderr",
     "output_type": "stream",
     "text": [
      "     89/300     0.656G     0.3421     0.3742     0.8682         80        224: 100%|██████████| 266/266 [00:15<00:00, 17.42it/s]\n",
      "                 Class     Images  Instances      Box(P          R      mAP50  mAP50-95): 100%|██████████| 24/24 [00:03<00:00,  6.53it/s]"
     ]
    },
    {
     "name": "stdout",
     "output_type": "stream",
     "text": [
      "                   all       1500       2986      0.981      0.951      0.977      0.957\n"
     ]
    },
    {
     "name": "stderr",
     "output_type": "stream",
     "text": [
      "\n"
     ]
    },
    {
     "name": "stdout",
     "output_type": "stream",
     "text": [
      "\n",
      "      Epoch    GPU_mem   box_loss   cls_loss   dfl_loss  Instances       Size\n"
     ]
    },
    {
     "name": "stderr",
     "output_type": "stream",
     "text": [
      "     90/300     0.656G     0.3432     0.3738     0.8693         72        224: 100%|██████████| 266/266 [00:15<00:00, 17.71it/s]\n",
      "                 Class     Images  Instances      Box(P          R      mAP50  mAP50-95): 100%|██████████| 24/24 [00:03<00:00,  6.49it/s]"
     ]
    },
    {
     "name": "stdout",
     "output_type": "stream",
     "text": [
      "                   all       1500       2986      0.981      0.952      0.977      0.957\n"
     ]
    },
    {
     "name": "stderr",
     "output_type": "stream",
     "text": [
      "\n"
     ]
    },
    {
     "name": "stdout",
     "output_type": "stream",
     "text": [
      "\n",
      "      Epoch    GPU_mem   box_loss   cls_loss   dfl_loss  Instances       Size\n"
     ]
    },
    {
     "name": "stderr",
     "output_type": "stream",
     "text": [
      "     91/300     0.656G       0.34     0.3724      0.866         63        224: 100%|██████████| 266/266 [00:14<00:00, 17.73it/s]\n",
      "                 Class     Images  Instances      Box(P          R      mAP50  mAP50-95): 100%|██████████| 24/24 [00:03<00:00,  6.33it/s]"
     ]
    },
    {
     "name": "stdout",
     "output_type": "stream",
     "text": [
      "                   all       1500       2986      0.983      0.952      0.977      0.957\n"
     ]
    },
    {
     "name": "stderr",
     "output_type": "stream",
     "text": [
      "\n"
     ]
    },
    {
     "name": "stdout",
     "output_type": "stream",
     "text": [
      "\n",
      "      Epoch    GPU_mem   box_loss   cls_loss   dfl_loss  Instances       Size\n"
     ]
    },
    {
     "name": "stderr",
     "output_type": "stream",
     "text": [
      "     92/300     0.656G     0.3431     0.3733      0.868         73        224: 100%|██████████| 266/266 [00:14<00:00, 17.75it/s]\n",
      "                 Class     Images  Instances      Box(P          R      mAP50  mAP50-95): 100%|██████████| 24/24 [00:03<00:00,  6.54it/s]"
     ]
    },
    {
     "name": "stdout",
     "output_type": "stream",
     "text": [
      "                   all       1500       2986      0.984      0.952      0.977      0.957\n"
     ]
    },
    {
     "name": "stderr",
     "output_type": "stream",
     "text": [
      "\n"
     ]
    },
    {
     "name": "stdout",
     "output_type": "stream",
     "text": [
      "\n",
      "      Epoch    GPU_mem   box_loss   cls_loss   dfl_loss  Instances       Size\n"
     ]
    },
    {
     "name": "stderr",
     "output_type": "stream",
     "text": [
      "     93/300     0.656G     0.3365      0.367     0.8645         74        224: 100%|██████████| 266/266 [00:15<00:00, 17.60it/s]\n",
      "                 Class     Images  Instances      Box(P          R      mAP50  mAP50-95): 100%|██████████| 24/24 [00:03<00:00,  6.60it/s]"
     ]
    },
    {
     "name": "stdout",
     "output_type": "stream",
     "text": [
      "                   all       1500       2986      0.984      0.951      0.977      0.957\n",
      "\n",
      "      Epoch    GPU_mem   box_loss   cls_loss   dfl_loss  Instances       Size\n"
     ]
    },
    {
     "name": "stderr",
     "output_type": "stream",
     "text": [
      "\n",
      "     94/300     0.656G     0.3392     0.3704     0.8668         78        224: 100%|██████████| 266/266 [00:15<00:00, 17.59it/s]\n",
      "                 Class     Images  Instances      Box(P          R      mAP50  mAP50-95): 100%|██████████| 24/24 [00:03<00:00,  6.51it/s]"
     ]
    },
    {
     "name": "stdout",
     "output_type": "stream",
     "text": [
      "                   all       1500       2986       0.98      0.955      0.977      0.957\n"
     ]
    },
    {
     "name": "stderr",
     "output_type": "stream",
     "text": [
      "\n"
     ]
    },
    {
     "name": "stdout",
     "output_type": "stream",
     "text": [
      "\n",
      "      Epoch    GPU_mem   box_loss   cls_loss   dfl_loss  Instances       Size\n"
     ]
    },
    {
     "name": "stderr",
     "output_type": "stream",
     "text": [
      "     95/300     0.656G     0.3378     0.3687     0.8651         65        224: 100%|██████████| 266/266 [00:15<00:00, 17.62it/s]\n",
      "                 Class     Images  Instances      Box(P          R      mAP50  mAP50-95): 100%|██████████| 24/24 [00:03<00:00,  6.55it/s]"
     ]
    },
    {
     "name": "stdout",
     "output_type": "stream",
     "text": [
      "                   all       1500       2986      0.979      0.957      0.977      0.958\n"
     ]
    },
    {
     "name": "stderr",
     "output_type": "stream",
     "text": [
      "\n"
     ]
    },
    {
     "name": "stdout",
     "output_type": "stream",
     "text": [
      "\n",
      "      Epoch    GPU_mem   box_loss   cls_loss   dfl_loss  Instances       Size\n"
     ]
    },
    {
     "name": "stderr",
     "output_type": "stream",
     "text": [
      "     96/300     0.656G     0.3387     0.3686      0.867         74        224: 100%|██████████| 266/266 [00:15<00:00, 17.67it/s]\n",
      "                 Class     Images  Instances      Box(P          R      mAP50  mAP50-95): 100%|██████████| 24/24 [00:03<00:00,  6.59it/s]"
     ]
    },
    {
     "name": "stdout",
     "output_type": "stream",
     "text": [
      "                   all       1500       2986      0.978      0.959      0.977      0.958\n"
     ]
    },
    {
     "name": "stderr",
     "output_type": "stream",
     "text": [
      "\n"
     ]
    },
    {
     "name": "stdout",
     "output_type": "stream",
     "text": [
      "\n",
      "      Epoch    GPU_mem   box_loss   cls_loss   dfl_loss  Instances       Size\n"
     ]
    },
    {
     "name": "stderr",
     "output_type": "stream",
     "text": [
      "     97/300     0.656G     0.3371     0.3665     0.8667         52        224: 100%|██████████| 266/266 [00:15<00:00, 17.58it/s]\n",
      "                 Class     Images  Instances      Box(P          R      mAP50  mAP50-95): 100%|██████████| 24/24 [00:03<00:00,  6.56it/s]"
     ]
    },
    {
     "name": "stdout",
     "output_type": "stream",
     "text": [
      "                   all       1500       2986      0.978      0.957      0.977      0.958\n"
     ]
    },
    {
     "name": "stderr",
     "output_type": "stream",
     "text": [
      "\n"
     ]
    },
    {
     "name": "stdout",
     "output_type": "stream",
     "text": [
      "\n",
      "      Epoch    GPU_mem   box_loss   cls_loss   dfl_loss  Instances       Size\n"
     ]
    },
    {
     "name": "stderr",
     "output_type": "stream",
     "text": [
      "     98/300     0.656G     0.3351     0.3622     0.8649         67        224: 100%|██████████| 266/266 [00:15<00:00, 17.55it/s]\n",
      "                 Class     Images  Instances      Box(P          R      mAP50  mAP50-95): 100%|██████████| 24/24 [00:03<00:00,  6.56it/s]"
     ]
    },
    {
     "name": "stdout",
     "output_type": "stream",
     "text": [
      "                   all       1500       2986      0.977      0.959      0.977      0.959\n"
     ]
    },
    {
     "name": "stderr",
     "output_type": "stream",
     "text": [
      "\n"
     ]
    },
    {
     "name": "stdout",
     "output_type": "stream",
     "text": [
      "\n",
      "      Epoch    GPU_mem   box_loss   cls_loss   dfl_loss  Instances       Size\n"
     ]
    },
    {
     "name": "stderr",
     "output_type": "stream",
     "text": [
      "     99/300     0.656G     0.3328     0.3593     0.8637         82        224: 100%|██████████| 266/266 [00:14<00:00, 17.79it/s]\n",
      "                 Class     Images  Instances      Box(P          R      mAP50  mAP50-95): 100%|██████████| 24/24 [00:03<00:00,  6.50it/s]"
     ]
    },
    {
     "name": "stdout",
     "output_type": "stream",
     "text": [
      "                   all       1500       2986      0.977       0.96      0.977      0.958\n"
     ]
    },
    {
     "name": "stderr",
     "output_type": "stream",
     "text": [
      "\n"
     ]
    },
    {
     "name": "stdout",
     "output_type": "stream",
     "text": [
      "\n",
      "      Epoch    GPU_mem   box_loss   cls_loss   dfl_loss  Instances       Size\n"
     ]
    },
    {
     "name": "stderr",
     "output_type": "stream",
     "text": [
      "    100/300     0.656G      0.338     0.3625      0.866         75        224: 100%|██████████| 266/266 [00:15<00:00, 17.54it/s]\n",
      "                 Class     Images  Instances      Box(P          R      mAP50  mAP50-95): 100%|██████████| 24/24 [00:03<00:00,  6.70it/s]"
     ]
    },
    {
     "name": "stdout",
     "output_type": "stream",
     "text": [
      "                   all       1500       2986      0.977       0.96      0.977      0.959\n"
     ]
    },
    {
     "name": "stderr",
     "output_type": "stream",
     "text": [
      "\n"
     ]
    },
    {
     "name": "stdout",
     "output_type": "stream",
     "text": [
      "\n",
      "      Epoch    GPU_mem   box_loss   cls_loss   dfl_loss  Instances       Size\n"
     ]
    },
    {
     "name": "stderr",
     "output_type": "stream",
     "text": [
      "    101/300     0.656G     0.3334     0.3605     0.8639         68        224: 100%|██████████| 266/266 [00:14<00:00, 17.76it/s]\n",
      "                 Class     Images  Instances      Box(P          R      mAP50  mAP50-95): 100%|██████████| 24/24 [00:03<00:00,  6.54it/s]"
     ]
    },
    {
     "name": "stdout",
     "output_type": "stream",
     "text": [
      "                   all       1500       2986      0.977       0.96      0.977      0.959\n"
     ]
    },
    {
     "name": "stderr",
     "output_type": "stream",
     "text": [
      "\n"
     ]
    },
    {
     "name": "stdout",
     "output_type": "stream",
     "text": [
      "\n",
      "      Epoch    GPU_mem   box_loss   cls_loss   dfl_loss  Instances       Size\n"
     ]
    },
    {
     "name": "stderr",
     "output_type": "stream",
     "text": [
      "    102/300     0.656G     0.3342     0.3594     0.8646         76        224: 100%|██████████| 266/266 [00:15<00:00, 17.70it/s]\n",
      "                 Class     Images  Instances      Box(P          R      mAP50  mAP50-95): 100%|██████████| 24/24 [00:03<00:00,  6.59it/s]"
     ]
    },
    {
     "name": "stdout",
     "output_type": "stream",
     "text": [
      "                   all       1500       2986      0.977       0.96      0.978      0.959\n"
     ]
    },
    {
     "name": "stderr",
     "output_type": "stream",
     "text": [
      "\n"
     ]
    },
    {
     "name": "stdout",
     "output_type": "stream",
     "text": [
      "\n",
      "      Epoch    GPU_mem   box_loss   cls_loss   dfl_loss  Instances       Size\n"
     ]
    },
    {
     "name": "stderr",
     "output_type": "stream",
     "text": [
      "    103/300     0.656G     0.3349     0.3618     0.8655         77        224: 100%|██████████| 266/266 [00:15<00:00, 17.52it/s]\n",
      "                 Class     Images  Instances      Box(P          R      mAP50  mAP50-95): 100%|██████████| 24/24 [00:03<00:00,  6.52it/s]"
     ]
    },
    {
     "name": "stdout",
     "output_type": "stream",
     "text": [
      "                   all       1500       2986      0.978      0.961      0.977      0.958\n"
     ]
    },
    {
     "name": "stderr",
     "output_type": "stream",
     "text": [
      "\n"
     ]
    },
    {
     "name": "stdout",
     "output_type": "stream",
     "text": [
      "\n",
      "      Epoch    GPU_mem   box_loss   cls_loss   dfl_loss  Instances       Size\n"
     ]
    },
    {
     "name": "stderr",
     "output_type": "stream",
     "text": [
      "    104/300     0.656G     0.3331     0.3572     0.8642         62        224: 100%|██████████| 266/266 [00:14<00:00, 17.76it/s]\n",
      "                 Class     Images  Instances      Box(P          R      mAP50  mAP50-95): 100%|██████████| 24/24 [00:03<00:00,  6.60it/s]"
     ]
    },
    {
     "name": "stdout",
     "output_type": "stream",
     "text": [
      "                   all       1500       2986      0.978      0.961      0.977      0.959\n"
     ]
    },
    {
     "name": "stderr",
     "output_type": "stream",
     "text": [
      "\n"
     ]
    },
    {
     "name": "stdout",
     "output_type": "stream",
     "text": [
      "\n",
      "      Epoch    GPU_mem   box_loss   cls_loss   dfl_loss  Instances       Size\n"
     ]
    },
    {
     "name": "stderr",
     "output_type": "stream",
     "text": [
      "    105/300     0.656G      0.334     0.3591     0.8639         68        224: 100%|██████████| 266/266 [00:14<00:00, 17.79it/s]\n",
      "                 Class     Images  Instances      Box(P          R      mAP50  mAP50-95): 100%|██████████| 24/24 [00:03<00:00,  6.61it/s]"
     ]
    },
    {
     "name": "stdout",
     "output_type": "stream",
     "text": [
      "                   all       1500       2986      0.979      0.961      0.978      0.959\n"
     ]
    },
    {
     "name": "stderr",
     "output_type": "stream",
     "text": [
      "\n"
     ]
    },
    {
     "name": "stdout",
     "output_type": "stream",
     "text": [
      "\n",
      "      Epoch    GPU_mem   box_loss   cls_loss   dfl_loss  Instances       Size\n"
     ]
    },
    {
     "name": "stderr",
     "output_type": "stream",
     "text": [
      "    106/300     0.656G     0.3302     0.3572     0.8627         77        224: 100%|██████████| 266/266 [00:14<00:00, 17.76it/s]\n",
      "                 Class     Images  Instances      Box(P          R      mAP50  mAP50-95): 100%|██████████| 24/24 [00:03<00:00,  6.69it/s]"
     ]
    },
    {
     "name": "stdout",
     "output_type": "stream",
     "text": [
      "                   all       1500       2986      0.979      0.961      0.978      0.959\n"
     ]
    },
    {
     "name": "stderr",
     "output_type": "stream",
     "text": [
      "\n"
     ]
    },
    {
     "name": "stdout",
     "output_type": "stream",
     "text": [
      "\n",
      "      Epoch    GPU_mem   box_loss   cls_loss   dfl_loss  Instances       Size\n"
     ]
    },
    {
     "name": "stderr",
     "output_type": "stream",
     "text": [
      "    107/300     0.656G     0.3319     0.3537     0.8643         72        224: 100%|██████████| 266/266 [00:14<00:00, 17.76it/s]\n",
      "                 Class     Images  Instances      Box(P          R      mAP50  mAP50-95): 100%|██████████| 24/24 [00:03<00:00,  6.59it/s]"
     ]
    },
    {
     "name": "stdout",
     "output_type": "stream",
     "text": [
      "                   all       1500       2986      0.981      0.959      0.978      0.959\n"
     ]
    },
    {
     "name": "stderr",
     "output_type": "stream",
     "text": [
      "\n"
     ]
    },
    {
     "name": "stdout",
     "output_type": "stream",
     "text": [
      "\n",
      "      Epoch    GPU_mem   box_loss   cls_loss   dfl_loss  Instances       Size\n"
     ]
    },
    {
     "name": "stderr",
     "output_type": "stream",
     "text": [
      "    108/300     0.656G     0.3314     0.3547      0.865         79        224: 100%|██████████| 266/266 [00:14<00:00, 17.78it/s]\n",
      "                 Class     Images  Instances      Box(P          R      mAP50  mAP50-95): 100%|██████████| 24/24 [00:03<00:00,  6.63it/s]"
     ]
    },
    {
     "name": "stdout",
     "output_type": "stream",
     "text": [
      "                   all       1500       2986      0.982      0.958      0.978      0.959\n"
     ]
    },
    {
     "name": "stderr",
     "output_type": "stream",
     "text": [
      "\n"
     ]
    },
    {
     "name": "stdout",
     "output_type": "stream",
     "text": [
      "\n",
      "      Epoch    GPU_mem   box_loss   cls_loss   dfl_loss  Instances       Size\n"
     ]
    },
    {
     "name": "stderr",
     "output_type": "stream",
     "text": [
      "    109/300     0.656G     0.3362     0.3578     0.8664         67        224: 100%|██████████| 266/266 [00:14<00:00, 17.77it/s]\n",
      "                 Class     Images  Instances      Box(P          R      mAP50  mAP50-95): 100%|██████████| 24/24 [00:03<00:00,  6.60it/s]"
     ]
    },
    {
     "name": "stdout",
     "output_type": "stream",
     "text": [
      "                   all       1500       2986      0.982      0.958      0.978      0.959\n"
     ]
    },
    {
     "name": "stderr",
     "output_type": "stream",
     "text": [
      "\n"
     ]
    },
    {
     "name": "stdout",
     "output_type": "stream",
     "text": [
      "\n",
      "      Epoch    GPU_mem   box_loss   cls_loss   dfl_loss  Instances       Size\n"
     ]
    },
    {
     "name": "stderr",
     "output_type": "stream",
     "text": [
      "    110/300     0.656G     0.3312     0.3506     0.8638         72        224: 100%|██████████| 266/266 [00:15<00:00, 17.70it/s]\n",
      "                 Class     Images  Instances      Box(P          R      mAP50  mAP50-95): 100%|██████████| 24/24 [00:03<00:00,  6.59it/s]"
     ]
    },
    {
     "name": "stdout",
     "output_type": "stream",
     "text": [
      "                   all       1500       2986      0.982      0.959      0.978      0.959\n"
     ]
    },
    {
     "name": "stderr",
     "output_type": "stream",
     "text": [
      "\n"
     ]
    },
    {
     "name": "stdout",
     "output_type": "stream",
     "text": [
      "\n",
      "      Epoch    GPU_mem   box_loss   cls_loss   dfl_loss  Instances       Size\n"
     ]
    },
    {
     "name": "stderr",
     "output_type": "stream",
     "text": [
      "    111/300     0.656G     0.3313     0.3561     0.8646         73        224: 100%|██████████| 266/266 [00:14<00:00, 17.78it/s]\n",
      "                 Class     Images  Instances      Box(P          R      mAP50  mAP50-95): 100%|██████████| 24/24 [00:03<00:00,  6.63it/s]"
     ]
    },
    {
     "name": "stdout",
     "output_type": "stream",
     "text": [
      "                   all       1500       2986      0.983      0.958      0.978      0.959\n"
     ]
    },
    {
     "name": "stderr",
     "output_type": "stream",
     "text": [
      "\n"
     ]
    },
    {
     "name": "stdout",
     "output_type": "stream",
     "text": [
      "\n",
      "      Epoch    GPU_mem   box_loss   cls_loss   dfl_loss  Instances       Size\n"
     ]
    },
    {
     "name": "stderr",
     "output_type": "stream",
     "text": [
      "    112/300     0.656G     0.3277     0.3522     0.8625         70        224: 100%|██████████| 266/266 [00:15<00:00, 17.44it/s]\n",
      "                 Class     Images  Instances      Box(P          R      mAP50  mAP50-95): 100%|██████████| 24/24 [00:03<00:00,  6.45it/s]"
     ]
    },
    {
     "name": "stdout",
     "output_type": "stream",
     "text": [
      "                   all       1500       2986      0.983      0.958      0.978      0.959\n"
     ]
    },
    {
     "name": "stderr",
     "output_type": "stream",
     "text": [
      "\n"
     ]
    },
    {
     "name": "stdout",
     "output_type": "stream",
     "text": [
      "\n",
      "      Epoch    GPU_mem   box_loss   cls_loss   dfl_loss  Instances       Size\n"
     ]
    },
    {
     "name": "stderr",
     "output_type": "stream",
     "text": [
      "    113/300     0.656G     0.3304     0.3513     0.8637         66        224: 100%|██████████| 266/266 [00:15<00:00, 17.40it/s]\n",
      "                 Class     Images  Instances      Box(P          R      mAP50  mAP50-95): 100%|██████████| 24/24 [00:03<00:00,  6.50it/s]"
     ]
    },
    {
     "name": "stdout",
     "output_type": "stream",
     "text": [
      "                   all       1500       2986      0.983      0.958      0.978      0.959\n"
     ]
    },
    {
     "name": "stderr",
     "output_type": "stream",
     "text": [
      "\n"
     ]
    },
    {
     "name": "stdout",
     "output_type": "stream",
     "text": [
      "\n",
      "      Epoch    GPU_mem   box_loss   cls_loss   dfl_loss  Instances       Size\n"
     ]
    },
    {
     "name": "stderr",
     "output_type": "stream",
     "text": [
      "    114/300     0.656G     0.3293      0.348     0.8624         88        224: 100%|██████████| 266/266 [00:15<00:00, 17.48it/s]\n",
      "                 Class     Images  Instances      Box(P          R      mAP50  mAP50-95): 100%|██████████| 24/24 [00:03<00:00,  6.36it/s]"
     ]
    },
    {
     "name": "stdout",
     "output_type": "stream",
     "text": [
      "                   all       1500       2986      0.983      0.957      0.978      0.959\n"
     ]
    },
    {
     "name": "stderr",
     "output_type": "stream",
     "text": [
      "\n"
     ]
    },
    {
     "name": "stdout",
     "output_type": "stream",
     "text": [
      "\n",
      "      Epoch    GPU_mem   box_loss   cls_loss   dfl_loss  Instances       Size\n"
     ]
    },
    {
     "name": "stderr",
     "output_type": "stream",
     "text": [
      "    115/300     0.656G     0.3263     0.3478     0.8628         73        224: 100%|██████████| 266/266 [00:15<00:00, 17.63it/s]\n",
      "                 Class     Images  Instances      Box(P          R      mAP50  mAP50-95): 100%|██████████| 24/24 [00:03<00:00,  6.36it/s]"
     ]
    },
    {
     "name": "stdout",
     "output_type": "stream",
     "text": [
      "                   all       1500       2986      0.983      0.957      0.977      0.959\n"
     ]
    },
    {
     "name": "stderr",
     "output_type": "stream",
     "text": [
      "\n"
     ]
    },
    {
     "name": "stdout",
     "output_type": "stream",
     "text": [
      "\n",
      "      Epoch    GPU_mem   box_loss   cls_loss   dfl_loss  Instances       Size\n"
     ]
    },
    {
     "name": "stderr",
     "output_type": "stream",
     "text": [
      "    116/300     0.656G     0.3286     0.3479     0.8605         61        224: 100%|██████████| 266/266 [00:15<00:00, 17.52it/s]\n",
      "                 Class     Images  Instances      Box(P          R      mAP50  mAP50-95): 100%|██████████| 24/24 [00:03<00:00,  6.59it/s]"
     ]
    },
    {
     "name": "stdout",
     "output_type": "stream",
     "text": [
      "                   all       1500       2986      0.982      0.958      0.978      0.959\n"
     ]
    },
    {
     "name": "stderr",
     "output_type": "stream",
     "text": [
      "\n"
     ]
    },
    {
     "name": "stdout",
     "output_type": "stream",
     "text": [
      "\n",
      "      Epoch    GPU_mem   box_loss   cls_loss   dfl_loss  Instances       Size\n"
     ]
    },
    {
     "name": "stderr",
     "output_type": "stream",
     "text": [
      "    117/300     0.656G     0.3254     0.3483     0.8651         79        224: 100%|██████████| 266/266 [00:14<00:00, 17.79it/s]\n",
      "                 Class     Images  Instances      Box(P          R      mAP50  mAP50-95): 100%|██████████| 24/24 [00:03<00:00,  6.58it/s]"
     ]
    },
    {
     "name": "stdout",
     "output_type": "stream",
     "text": [
      "                   all       1500       2986      0.981      0.957      0.978      0.959\n"
     ]
    },
    {
     "name": "stderr",
     "output_type": "stream",
     "text": [
      "\n"
     ]
    },
    {
     "name": "stdout",
     "output_type": "stream",
     "text": [
      "\n",
      "      Epoch    GPU_mem   box_loss   cls_loss   dfl_loss  Instances       Size\n"
     ]
    },
    {
     "name": "stderr",
     "output_type": "stream",
     "text": [
      "    118/300     0.656G     0.3279     0.3458     0.8627         80        224: 100%|██████████| 266/266 [00:15<00:00, 17.73it/s]\n",
      "                 Class     Images  Instances      Box(P          R      mAP50  mAP50-95): 100%|██████████| 24/24 [00:03<00:00,  6.59it/s]"
     ]
    },
    {
     "name": "stdout",
     "output_type": "stream",
     "text": [
      "                   all       1500       2986      0.982      0.957      0.978      0.959\n"
     ]
    },
    {
     "name": "stderr",
     "output_type": "stream",
     "text": [
      "\n"
     ]
    },
    {
     "name": "stdout",
     "output_type": "stream",
     "text": [
      "\n",
      "      Epoch    GPU_mem   box_loss   cls_loss   dfl_loss  Instances       Size\n"
     ]
    },
    {
     "name": "stderr",
     "output_type": "stream",
     "text": [
      "    119/300     0.656G     0.3285     0.3504     0.8636         92        224: 100%|██████████| 266/266 [00:14<00:00, 17.81it/s]\n",
      "                 Class     Images  Instances      Box(P          R      mAP50  mAP50-95): 100%|██████████| 24/24 [00:03<00:00,  6.63it/s]"
     ]
    },
    {
     "name": "stdout",
     "output_type": "stream",
     "text": [
      "                   all       1500       2986      0.983      0.956      0.978       0.96\n"
     ]
    },
    {
     "name": "stderr",
     "output_type": "stream",
     "text": [
      "\n"
     ]
    },
    {
     "name": "stdout",
     "output_type": "stream",
     "text": [
      "\n",
      "      Epoch    GPU_mem   box_loss   cls_loss   dfl_loss  Instances       Size\n"
     ]
    },
    {
     "name": "stderr",
     "output_type": "stream",
     "text": [
      "    120/300     0.656G     0.3237     0.3451     0.8634         78        224: 100%|██████████| 266/266 [00:15<00:00, 17.73it/s]\n",
      "                 Class     Images  Instances      Box(P          R      mAP50  mAP50-95): 100%|██████████| 24/24 [00:03<00:00,  6.63it/s]"
     ]
    },
    {
     "name": "stdout",
     "output_type": "stream",
     "text": [
      "                   all       1500       2986      0.983      0.956      0.978       0.96\n"
     ]
    },
    {
     "name": "stderr",
     "output_type": "stream",
     "text": [
      "\n"
     ]
    },
    {
     "name": "stdout",
     "output_type": "stream",
     "text": [
      "\n",
      "      Epoch    GPU_mem   box_loss   cls_loss   dfl_loss  Instances       Size\n"
     ]
    },
    {
     "name": "stderr",
     "output_type": "stream",
     "text": [
      "    121/300     0.656G     0.3267     0.3478     0.8637         84        224: 100%|██████████| 266/266 [00:14<00:00, 17.75it/s]\n",
      "                 Class     Images  Instances      Box(P          R      mAP50  mAP50-95): 100%|██████████| 24/24 [00:03<00:00,  6.45it/s]"
     ]
    },
    {
     "name": "stdout",
     "output_type": "stream",
     "text": [
      "                   all       1500       2986      0.983      0.955      0.978      0.959\n"
     ]
    },
    {
     "name": "stderr",
     "output_type": "stream",
     "text": [
      "\n"
     ]
    },
    {
     "name": "stdout",
     "output_type": "stream",
     "text": [
      "\n",
      "      Epoch    GPU_mem   box_loss   cls_loss   dfl_loss  Instances       Size\n"
     ]
    },
    {
     "name": "stderr",
     "output_type": "stream",
     "text": [
      "    122/300     0.656G      0.324      0.345     0.8618         75        224: 100%|██████████| 266/266 [00:14<00:00, 17.82it/s]\n",
      "                 Class     Images  Instances      Box(P          R      mAP50  mAP50-95): 100%|██████████| 24/24 [00:03<00:00,  6.59it/s]"
     ]
    },
    {
     "name": "stdout",
     "output_type": "stream",
     "text": [
      "                   all       1500       2986      0.981      0.958      0.978       0.96\n"
     ]
    },
    {
     "name": "stderr",
     "output_type": "stream",
     "text": [
      "\n"
     ]
    },
    {
     "name": "stdout",
     "output_type": "stream",
     "text": [
      "\n",
      "      Epoch    GPU_mem   box_loss   cls_loss   dfl_loss  Instances       Size\n"
     ]
    },
    {
     "name": "stderr",
     "output_type": "stream",
     "text": [
      "    123/300     0.656G     0.3236     0.3425      0.862         66        224: 100%|██████████| 266/266 [00:14<00:00, 17.78it/s]\n",
      "                 Class     Images  Instances      Box(P          R      mAP50  mAP50-95): 100%|██████████| 24/24 [00:03<00:00,  6.64it/s]"
     ]
    },
    {
     "name": "stdout",
     "output_type": "stream",
     "text": [
      "                   all       1500       2986       0.98      0.959      0.978       0.96\n"
     ]
    },
    {
     "name": "stderr",
     "output_type": "stream",
     "text": [
      "\n"
     ]
    },
    {
     "name": "stdout",
     "output_type": "stream",
     "text": [
      "\n",
      "      Epoch    GPU_mem   box_loss   cls_loss   dfl_loss  Instances       Size\n"
     ]
    },
    {
     "name": "stderr",
     "output_type": "stream",
     "text": [
      "    124/300     0.656G     0.3242     0.3433     0.8614         80        224: 100%|██████████| 266/266 [00:14<00:00, 17.75it/s]\n",
      "                 Class     Images  Instances      Box(P          R      mAP50  mAP50-95): 100%|██████████| 24/24 [00:03<00:00,  6.55it/s]"
     ]
    },
    {
     "name": "stdout",
     "output_type": "stream",
     "text": [
      "                   all       1500       2986       0.98      0.959      0.978       0.96\n"
     ]
    },
    {
     "name": "stderr",
     "output_type": "stream",
     "text": [
      "\n"
     ]
    },
    {
     "name": "stdout",
     "output_type": "stream",
     "text": [
      "\n",
      "      Epoch    GPU_mem   box_loss   cls_loss   dfl_loss  Instances       Size\n"
     ]
    },
    {
     "name": "stderr",
     "output_type": "stream",
     "text": [
      "    125/300     0.656G     0.3252     0.3393     0.8614         79        224: 100%|██████████| 266/266 [00:15<00:00, 17.57it/s]\n",
      "                 Class     Images  Instances      Box(P          R      mAP50  mAP50-95): 100%|██████████| 24/24 [00:03<00:00,  6.43it/s]"
     ]
    },
    {
     "name": "stdout",
     "output_type": "stream",
     "text": [
      "                   all       1500       2986       0.98      0.959      0.978       0.96\n"
     ]
    },
    {
     "name": "stderr",
     "output_type": "stream",
     "text": [
      "\n"
     ]
    },
    {
     "name": "stdout",
     "output_type": "stream",
     "text": [
      "\n",
      "      Epoch    GPU_mem   box_loss   cls_loss   dfl_loss  Instances       Size\n"
     ]
    },
    {
     "name": "stderr",
     "output_type": "stream",
     "text": [
      "    126/300     0.656G     0.3231     0.3376     0.8617         71        224: 100%|██████████| 266/266 [00:15<00:00, 17.54it/s]\n",
      "                 Class     Images  Instances      Box(P          R      mAP50  mAP50-95): 100%|██████████| 24/24 [00:03<00:00,  6.64it/s]"
     ]
    },
    {
     "name": "stdout",
     "output_type": "stream",
     "text": [
      "                   all       1500       2986      0.981      0.959      0.978       0.96\n"
     ]
    },
    {
     "name": "stderr",
     "output_type": "stream",
     "text": [
      "\n"
     ]
    },
    {
     "name": "stdout",
     "output_type": "stream",
     "text": [
      "\n",
      "      Epoch    GPU_mem   box_loss   cls_loss   dfl_loss  Instances       Size\n"
     ]
    },
    {
     "name": "stderr",
     "output_type": "stream",
     "text": [
      "    127/300     0.656G     0.3239     0.3403     0.8628         72        224: 100%|██████████| 266/266 [00:15<00:00, 17.54it/s]\n",
      "                 Class     Images  Instances      Box(P          R      mAP50  mAP50-95): 100%|██████████| 24/24 [00:03<00:00,  6.46it/s]"
     ]
    },
    {
     "name": "stdout",
     "output_type": "stream",
     "text": [
      "                   all       1500       2986      0.981      0.959      0.978       0.96\n"
     ]
    },
    {
     "name": "stderr",
     "output_type": "stream",
     "text": [
      "\n"
     ]
    },
    {
     "name": "stdout",
     "output_type": "stream",
     "text": [
      "\n",
      "      Epoch    GPU_mem   box_loss   cls_loss   dfl_loss  Instances       Size\n"
     ]
    },
    {
     "name": "stderr",
     "output_type": "stream",
     "text": [
      "    128/300     0.656G     0.3244     0.3428     0.8636         72        224: 100%|██████████| 266/266 [00:15<00:00, 17.60it/s]\n",
      "                 Class     Images  Instances      Box(P          R      mAP50  mAP50-95): 100%|██████████| 24/24 [00:03<00:00,  6.63it/s]"
     ]
    },
    {
     "name": "stdout",
     "output_type": "stream",
     "text": [
      "                   all       1500       2986      0.981      0.959      0.978       0.96\n"
     ]
    },
    {
     "name": "stderr",
     "output_type": "stream",
     "text": [
      "\n"
     ]
    },
    {
     "name": "stdout",
     "output_type": "stream",
     "text": [
      "\n",
      "      Epoch    GPU_mem   box_loss   cls_loss   dfl_loss  Instances       Size\n"
     ]
    },
    {
     "name": "stderr",
     "output_type": "stream",
     "text": [
      "    129/300     0.656G     0.3257     0.3396     0.8641         81        224: 100%|██████████| 266/266 [00:14<00:00, 17.78it/s]\n",
      "                 Class     Images  Instances      Box(P          R      mAP50  mAP50-95): 100%|██████████| 24/24 [00:03<00:00,  6.58it/s]"
     ]
    },
    {
     "name": "stdout",
     "output_type": "stream",
     "text": [
      "                   all       1500       2986      0.981      0.959      0.978       0.96\n"
     ]
    },
    {
     "name": "stderr",
     "output_type": "stream",
     "text": [
      "\n"
     ]
    },
    {
     "name": "stdout",
     "output_type": "stream",
     "text": [
      "\n",
      "      Epoch    GPU_mem   box_loss   cls_loss   dfl_loss  Instances       Size\n"
     ]
    },
    {
     "name": "stderr",
     "output_type": "stream",
     "text": [
      "    130/300     0.656G      0.324     0.3372     0.8626         66        224: 100%|██████████| 266/266 [00:15<00:00, 17.72it/s]\n",
      "                 Class     Images  Instances      Box(P          R      mAP50  mAP50-95): 100%|██████████| 24/24 [00:03<00:00,  6.53it/s]"
     ]
    },
    {
     "name": "stdout",
     "output_type": "stream",
     "text": [
      "                   all       1500       2986       0.98      0.959      0.978       0.96\n"
     ]
    },
    {
     "name": "stderr",
     "output_type": "stream",
     "text": [
      "\n"
     ]
    },
    {
     "name": "stdout",
     "output_type": "stream",
     "text": [
      "\n",
      "      Epoch    GPU_mem   box_loss   cls_loss   dfl_loss  Instances       Size\n"
     ]
    },
    {
     "name": "stderr",
     "output_type": "stream",
     "text": [
      "    131/300     0.656G     0.3224     0.3391     0.8622         86        224: 100%|██████████| 266/266 [00:14<00:00, 17.75it/s]\n",
      "                 Class     Images  Instances      Box(P          R      mAP50  mAP50-95): 100%|██████████| 24/24 [00:03<00:00,  6.57it/s]"
     ]
    },
    {
     "name": "stdout",
     "output_type": "stream",
     "text": [
      "                   all       1500       2986      0.983      0.958      0.978       0.96\n"
     ]
    },
    {
     "name": "stderr",
     "output_type": "stream",
     "text": [
      "\n"
     ]
    },
    {
     "name": "stdout",
     "output_type": "stream",
     "text": [
      "\n",
      "      Epoch    GPU_mem   box_loss   cls_loss   dfl_loss  Instances       Size\n"
     ]
    },
    {
     "name": "stderr",
     "output_type": "stream",
     "text": [
      "    132/300     0.656G     0.3243     0.3383     0.8639         37        224: 100%|██████████| 266/266 [00:14<00:00, 17.77it/s]\n",
      "                 Class     Images  Instances      Box(P          R      mAP50  mAP50-95): 100%|██████████| 24/24 [00:03<00:00,  6.60it/s]"
     ]
    },
    {
     "name": "stdout",
     "output_type": "stream",
     "text": [
      "                   all       1500       2986      0.984      0.958      0.978       0.96\n"
     ]
    },
    {
     "name": "stderr",
     "output_type": "stream",
     "text": [
      "\n"
     ]
    },
    {
     "name": "stdout",
     "output_type": "stream",
     "text": [
      "\n",
      "      Epoch    GPU_mem   box_loss   cls_loss   dfl_loss  Instances       Size\n"
     ]
    },
    {
     "name": "stderr",
     "output_type": "stream",
     "text": [
      "    133/300     0.656G     0.3202     0.3354     0.8612         67        224: 100%|██████████| 266/266 [00:14<00:00, 17.82it/s]\n",
      "                 Class     Images  Instances      Box(P          R      mAP50  mAP50-95): 100%|██████████| 24/24 [00:03<00:00,  6.63it/s]"
     ]
    },
    {
     "name": "stdout",
     "output_type": "stream",
     "text": [
      "                   all       1500       2986      0.984      0.957      0.978       0.96\n"
     ]
    },
    {
     "name": "stderr",
     "output_type": "stream",
     "text": [
      "\n"
     ]
    },
    {
     "name": "stdout",
     "output_type": "stream",
     "text": [
      "\n",
      "      Epoch    GPU_mem   box_loss   cls_loss   dfl_loss  Instances       Size\n"
     ]
    },
    {
     "name": "stderr",
     "output_type": "stream",
     "text": [
      "    134/300     0.656G     0.3214     0.3399     0.8632         57        224: 100%|██████████| 266/266 [00:14<00:00, 17.88it/s]\n",
      "                 Class     Images  Instances      Box(P          R      mAP50  mAP50-95): 100%|██████████| 24/24 [00:03<00:00,  6.55it/s]"
     ]
    },
    {
     "name": "stdout",
     "output_type": "stream",
     "text": [
      "                   all       1500       2986      0.984      0.957      0.978       0.96\n"
     ]
    },
    {
     "name": "stderr",
     "output_type": "stream",
     "text": [
      "\n"
     ]
    },
    {
     "name": "stdout",
     "output_type": "stream",
     "text": [
      "\n",
      "      Epoch    GPU_mem   box_loss   cls_loss   dfl_loss  Instances       Size\n"
     ]
    },
    {
     "name": "stderr",
     "output_type": "stream",
     "text": [
      "    135/300     0.656G     0.3175     0.3344     0.8593         88        224: 100%|██████████| 266/266 [00:14<00:00, 17.80it/s]\n",
      "                 Class     Images  Instances      Box(P          R      mAP50  mAP50-95): 100%|██████████| 24/24 [00:03<00:00,  6.65it/s]"
     ]
    },
    {
     "name": "stdout",
     "output_type": "stream",
     "text": [
      "                   all       1500       2986      0.984      0.957      0.978       0.96\n"
     ]
    },
    {
     "name": "stderr",
     "output_type": "stream",
     "text": [
      "\n"
     ]
    },
    {
     "name": "stdout",
     "output_type": "stream",
     "text": [
      "\n",
      "      Epoch    GPU_mem   box_loss   cls_loss   dfl_loss  Instances       Size\n"
     ]
    },
    {
     "name": "stderr",
     "output_type": "stream",
     "text": [
      "    136/300     0.656G     0.3224      0.338     0.8621         60        224: 100%|██████████| 266/266 [00:14<00:00, 17.97it/s]\n",
      "                 Class     Images  Instances      Box(P          R      mAP50  mAP50-95): 100%|██████████| 24/24 [00:03<00:00,  6.69it/s]"
     ]
    },
    {
     "name": "stdout",
     "output_type": "stream",
     "text": [
      "                   all       1500       2986      0.984      0.958      0.978       0.96\n"
     ]
    },
    {
     "name": "stderr",
     "output_type": "stream",
     "text": [
      "\n"
     ]
    },
    {
     "name": "stdout",
     "output_type": "stream",
     "text": [
      "\n",
      "      Epoch    GPU_mem   box_loss   cls_loss   dfl_loss  Instances       Size\n"
     ]
    },
    {
     "name": "stderr",
     "output_type": "stream",
     "text": [
      "    137/300     0.656G     0.3204     0.3377     0.8635         76        224: 100%|██████████| 266/266 [00:15<00:00, 17.03it/s]\n",
      "                 Class     Images  Instances      Box(P          R      mAP50  mAP50-95): 100%|██████████| 24/24 [00:03<00:00,  6.61it/s]"
     ]
    },
    {
     "name": "stdout",
     "output_type": "stream",
     "text": [
      "                   all       1500       2986      0.984      0.958      0.978       0.96\n",
      "\n",
      "      Epoch    GPU_mem   box_loss   cls_loss   dfl_loss  Instances       Size\n"
     ]
    },
    {
     "name": "stderr",
     "output_type": "stream",
     "text": [
      "\n",
      "    138/300     0.656G     0.3176     0.3339     0.8617         78        224: 100%|██████████| 266/266 [00:15<00:00, 17.41it/s]\n",
      "                 Class     Images  Instances      Box(P          R      mAP50  mAP50-95): 100%|██████████| 24/24 [00:03<00:00,  6.47it/s]"
     ]
    },
    {
     "name": "stdout",
     "output_type": "stream",
     "text": [
      "                   all       1500       2986      0.984      0.958      0.978       0.96\n"
     ]
    },
    {
     "name": "stderr",
     "output_type": "stream",
     "text": [
      "\n"
     ]
    },
    {
     "name": "stdout",
     "output_type": "stream",
     "text": [
      "\n",
      "      Epoch    GPU_mem   box_loss   cls_loss   dfl_loss  Instances       Size\n"
     ]
    },
    {
     "name": "stderr",
     "output_type": "stream",
     "text": [
      "    139/300     0.656G     0.3207     0.3372     0.8618         70        224: 100%|██████████| 266/266 [00:15<00:00, 17.64it/s]\n",
      "                 Class     Images  Instances      Box(P          R      mAP50  mAP50-95): 100%|██████████| 24/24 [00:03<00:00,  6.49it/s]"
     ]
    },
    {
     "name": "stdout",
     "output_type": "stream",
     "text": [
      "                   all       1500       2986      0.984      0.958      0.978       0.96\n"
     ]
    },
    {
     "name": "stderr",
     "output_type": "stream",
     "text": [
      "\n"
     ]
    },
    {
     "name": "stdout",
     "output_type": "stream",
     "text": [
      "\n",
      "      Epoch    GPU_mem   box_loss   cls_loss   dfl_loss  Instances       Size\n"
     ]
    },
    {
     "name": "stderr",
     "output_type": "stream",
     "text": [
      "    140/300     0.656G     0.3185      0.331     0.8624         77        224: 100%|██████████| 266/266 [00:15<00:00, 17.49it/s]\n",
      "                 Class     Images  Instances      Box(P          R      mAP50  mAP50-95): 100%|██████████| 24/24 [00:03<00:00,  6.38it/s]"
     ]
    },
    {
     "name": "stdout",
     "output_type": "stream",
     "text": [
      "                   all       1500       2986      0.983      0.958      0.978       0.96\n",
      "\n",
      "      Epoch    GPU_mem   box_loss   cls_loss   dfl_loss  Instances       Size\n"
     ]
    },
    {
     "name": "stderr",
     "output_type": "stream",
     "text": [
      "\n",
      "    141/300     0.656G      0.317     0.3301     0.8615         86        224: 100%|██████████| 266/266 [00:15<00:00, 17.68it/s]\n",
      "                 Class     Images  Instances      Box(P          R      mAP50  mAP50-95): 100%|██████████| 24/24 [00:03<00:00,  6.47it/s]"
     ]
    },
    {
     "name": "stdout",
     "output_type": "stream",
     "text": [
      "                   all       1500       2986      0.983      0.958      0.978       0.96\n"
     ]
    },
    {
     "name": "stderr",
     "output_type": "stream",
     "text": [
      "\n"
     ]
    },
    {
     "name": "stdout",
     "output_type": "stream",
     "text": [
      "\n",
      "      Epoch    GPU_mem   box_loss   cls_loss   dfl_loss  Instances       Size\n"
     ]
    },
    {
     "name": "stderr",
     "output_type": "stream",
     "text": [
      "    142/300     0.656G     0.3158     0.3311     0.8594         81        224: 100%|██████████| 266/266 [00:17<00:00, 15.42it/s]\n",
      "                 Class     Images  Instances      Box(P          R      mAP50  mAP50-95): 100%|██████████| 24/24 [00:04<00:00,  5.76it/s]"
     ]
    },
    {
     "name": "stdout",
     "output_type": "stream",
     "text": [
      "                   all       1500       2986      0.983      0.958      0.978       0.96\n"
     ]
    },
    {
     "name": "stderr",
     "output_type": "stream",
     "text": [
      "\n"
     ]
    },
    {
     "name": "stdout",
     "output_type": "stream",
     "text": [
      "\n",
      "      Epoch    GPU_mem   box_loss   cls_loss   dfl_loss  Instances       Size\n"
     ]
    },
    {
     "name": "stderr",
     "output_type": "stream",
     "text": [
      "    143/300     0.656G     0.3174      0.336     0.8614         88        224: 100%|██████████| 266/266 [00:17<00:00, 14.91it/s]\n",
      "                 Class     Images  Instances      Box(P          R      mAP50  mAP50-95): 100%|██████████| 24/24 [00:04<00:00,  5.96it/s]"
     ]
    },
    {
     "name": "stdout",
     "output_type": "stream",
     "text": [
      "                   all       1500       2986      0.983      0.959      0.978       0.96\n"
     ]
    },
    {
     "name": "stderr",
     "output_type": "stream",
     "text": [
      "\n"
     ]
    },
    {
     "name": "stdout",
     "output_type": "stream",
     "text": [
      "\n",
      "      Epoch    GPU_mem   box_loss   cls_loss   dfl_loss  Instances       Size\n"
     ]
    },
    {
     "name": "stderr",
     "output_type": "stream",
     "text": [
      "    144/300     0.656G     0.3163     0.3316     0.8605         59        224: 100%|██████████| 266/266 [00:17<00:00, 15.25it/s]\n",
      "                 Class     Images  Instances      Box(P          R      mAP50  mAP50-95): 100%|██████████| 24/24 [00:04<00:00,  5.67it/s]"
     ]
    },
    {
     "name": "stdout",
     "output_type": "stream",
     "text": [
      "                   all       1500       2986      0.983      0.959      0.978       0.96\n"
     ]
    },
    {
     "name": "stderr",
     "output_type": "stream",
     "text": [
      "\n"
     ]
    },
    {
     "name": "stdout",
     "output_type": "stream",
     "text": [
      "\n",
      "      Epoch    GPU_mem   box_loss   cls_loss   dfl_loss  Instances       Size\n"
     ]
    },
    {
     "name": "stderr",
     "output_type": "stream",
     "text": [
      "    145/300     0.656G     0.3166     0.3287     0.8614         82        224: 100%|██████████| 266/266 [00:18<00:00, 14.76it/s]\n",
      "                 Class     Images  Instances      Box(P          R      mAP50  mAP50-95): 100%|██████████| 24/24 [00:03<00:00,  6.02it/s]"
     ]
    },
    {
     "name": "stdout",
     "output_type": "stream",
     "text": [
      "                   all       1500       2986      0.983      0.959      0.978      0.961\n"
     ]
    },
    {
     "name": "stderr",
     "output_type": "stream",
     "text": [
      "\n"
     ]
    },
    {
     "name": "stdout",
     "output_type": "stream",
     "text": [
      "\n",
      "      Epoch    GPU_mem   box_loss   cls_loss   dfl_loss  Instances       Size\n"
     ]
    },
    {
     "name": "stderr",
     "output_type": "stream",
     "text": [
      "    146/300     0.656G     0.3147     0.3311     0.8597         76        224: 100%|██████████| 266/266 [00:17<00:00, 15.42it/s]\n",
      "                 Class     Images  Instances      Box(P          R      mAP50  mAP50-95): 100%|██████████| 24/24 [00:04<00:00,  5.97it/s]"
     ]
    },
    {
     "name": "stdout",
     "output_type": "stream",
     "text": [
      "                   all       1500       2986      0.983      0.959      0.978      0.961\n"
     ]
    },
    {
     "name": "stderr",
     "output_type": "stream",
     "text": [
      "\n"
     ]
    },
    {
     "name": "stdout",
     "output_type": "stream",
     "text": [
      "\n",
      "      Epoch    GPU_mem   box_loss   cls_loss   dfl_loss  Instances       Size\n"
     ]
    },
    {
     "name": "stderr",
     "output_type": "stream",
     "text": [
      "    147/300     0.656G     0.3146     0.3281     0.8596         81        224: 100%|██████████| 266/266 [00:17<00:00, 15.48it/s]\n",
      "                 Class     Images  Instances      Box(P          R      mAP50  mAP50-95): 100%|██████████| 24/24 [00:04<00:00,  5.94it/s]"
     ]
    },
    {
     "name": "stdout",
     "output_type": "stream",
     "text": [
      "                   all       1500       2986      0.982      0.959      0.978      0.961\n"
     ]
    },
    {
     "name": "stderr",
     "output_type": "stream",
     "text": [
      "\n"
     ]
    },
    {
     "name": "stdout",
     "output_type": "stream",
     "text": [
      "\n",
      "      Epoch    GPU_mem   box_loss   cls_loss   dfl_loss  Instances       Size\n"
     ]
    },
    {
     "name": "stderr",
     "output_type": "stream",
     "text": [
      "    148/300     0.656G     0.3123     0.3242     0.8605         60        224: 100%|██████████| 266/266 [00:17<00:00, 15.32it/s]\n",
      "                 Class     Images  Instances      Box(P          R      mAP50  mAP50-95): 100%|██████████| 24/24 [00:04<00:00,  5.97it/s]"
     ]
    },
    {
     "name": "stdout",
     "output_type": "stream",
     "text": [
      "                   all       1500       2986      0.982      0.959      0.978      0.961\n"
     ]
    },
    {
     "name": "stderr",
     "output_type": "stream",
     "text": [
      "\n"
     ]
    },
    {
     "name": "stdout",
     "output_type": "stream",
     "text": [
      "\n",
      "      Epoch    GPU_mem   box_loss   cls_loss   dfl_loss  Instances       Size\n"
     ]
    },
    {
     "name": "stderr",
     "output_type": "stream",
     "text": [
      "    149/300     0.656G     0.3138     0.3219     0.8593         70        224: 100%|██████████| 266/266 [00:17<00:00, 15.30it/s]\n",
      "                 Class     Images  Instances      Box(P          R      mAP50  mAP50-95): 100%|██████████| 24/24 [00:03<00:00,  6.05it/s]"
     ]
    },
    {
     "name": "stdout",
     "output_type": "stream",
     "text": [
      "                   all       1500       2986      0.982      0.959      0.978      0.961\n"
     ]
    },
    {
     "name": "stderr",
     "output_type": "stream",
     "text": [
      "\n"
     ]
    },
    {
     "name": "stdout",
     "output_type": "stream",
     "text": [
      "\n",
      "      Epoch    GPU_mem   box_loss   cls_loss   dfl_loss  Instances       Size\n"
     ]
    },
    {
     "name": "stderr",
     "output_type": "stream",
     "text": [
      "    150/300     0.656G     0.3154     0.3273     0.8596         70        224: 100%|██████████| 266/266 [00:17<00:00, 15.44it/s]\n",
      "                 Class     Images  Instances      Box(P          R      mAP50  mAP50-95): 100%|██████████| 24/24 [00:03<00:00,  6.03it/s]"
     ]
    },
    {
     "name": "stdout",
     "output_type": "stream",
     "text": [
      "                   all       1500       2986      0.982      0.959      0.978      0.961\n"
     ]
    },
    {
     "name": "stderr",
     "output_type": "stream",
     "text": [
      "\n"
     ]
    },
    {
     "name": "stdout",
     "output_type": "stream",
     "text": [
      "\n",
      "      Epoch    GPU_mem   box_loss   cls_loss   dfl_loss  Instances       Size\n"
     ]
    },
    {
     "name": "stderr",
     "output_type": "stream",
     "text": [
      "    151/300     0.656G     0.3136     0.3248     0.8588         72        224: 100%|██████████| 266/266 [00:17<00:00, 15.55it/s]\n",
      "                 Class     Images  Instances      Box(P          R      mAP50  mAP50-95): 100%|██████████| 24/24 [00:03<00:00,  6.21it/s]"
     ]
    },
    {
     "name": "stdout",
     "output_type": "stream",
     "text": [
      "                   all       1500       2986      0.983      0.959      0.978      0.961\n"
     ]
    },
    {
     "name": "stderr",
     "output_type": "stream",
     "text": [
      "\n"
     ]
    },
    {
     "name": "stdout",
     "output_type": "stream",
     "text": [
      "\n",
      "      Epoch    GPU_mem   box_loss   cls_loss   dfl_loss  Instances       Size\n"
     ]
    },
    {
     "name": "stderr",
     "output_type": "stream",
     "text": [
      "    152/300     0.656G     0.3115     0.3203     0.8585         68        224: 100%|██████████| 266/266 [00:17<00:00, 15.30it/s]\n",
      "                 Class     Images  Instances      Box(P          R      mAP50  mAP50-95): 100%|██████████| 24/24 [00:04<00:00,  5.99it/s]"
     ]
    },
    {
     "name": "stdout",
     "output_type": "stream",
     "text": [
      "                   all       1500       2986      0.983      0.959      0.978      0.961\n",
      "\n",
      "      Epoch    GPU_mem   box_loss   cls_loss   dfl_loss  Instances       Size\n"
     ]
    },
    {
     "name": "stderr",
     "output_type": "stream",
     "text": [
      "\n",
      "    153/300     0.656G     0.3088     0.3181     0.8571         59        224: 100%|██████████| 266/266 [00:17<00:00, 15.20it/s]\n",
      "                 Class     Images  Instances      Box(P          R      mAP50  mAP50-95): 100%|██████████| 24/24 [00:04<00:00,  5.81it/s]"
     ]
    },
    {
     "name": "stdout",
     "output_type": "stream",
     "text": [
      "                   all       1500       2986      0.983      0.959      0.978      0.961\n"
     ]
    },
    {
     "name": "stderr",
     "output_type": "stream",
     "text": [
      "\n"
     ]
    },
    {
     "name": "stdout",
     "output_type": "stream",
     "text": [
      "\n",
      "      Epoch    GPU_mem   box_loss   cls_loss   dfl_loss  Instances       Size\n"
     ]
    },
    {
     "name": "stderr",
     "output_type": "stream",
     "text": [
      "    154/300     0.656G      0.314     0.3237     0.8593         86        224: 100%|██████████| 266/266 [00:15<00:00, 17.06it/s]\n",
      "                 Class     Images  Instances      Box(P          R      mAP50  mAP50-95): 100%|██████████| 24/24 [00:03<00:00,  6.51it/s]"
     ]
    },
    {
     "name": "stdout",
     "output_type": "stream",
     "text": [
      "                   all       1500       2986      0.982      0.959      0.978      0.961\n"
     ]
    },
    {
     "name": "stderr",
     "output_type": "stream",
     "text": [
      "\n"
     ]
    },
    {
     "name": "stdout",
     "output_type": "stream",
     "text": [
      "\n",
      "      Epoch    GPU_mem   box_loss   cls_loss   dfl_loss  Instances       Size\n"
     ]
    },
    {
     "name": "stderr",
     "output_type": "stream",
     "text": [
      "    155/300     0.656G     0.3125     0.3248     0.8598         77        224: 100%|██████████| 266/266 [00:15<00:00, 17.59it/s]\n",
      "                 Class     Images  Instances      Box(P          R      mAP50  mAP50-95): 100%|██████████| 24/24 [00:03<00:00,  6.69it/s]"
     ]
    },
    {
     "name": "stdout",
     "output_type": "stream",
     "text": [
      "                   all       1500       2986      0.982      0.959      0.978      0.961\n"
     ]
    },
    {
     "name": "stderr",
     "output_type": "stream",
     "text": [
      "\n"
     ]
    },
    {
     "name": "stdout",
     "output_type": "stream",
     "text": [
      "\n",
      "      Epoch    GPU_mem   box_loss   cls_loss   dfl_loss  Instances       Size\n"
     ]
    },
    {
     "name": "stderr",
     "output_type": "stream",
     "text": [
      "    156/300     0.656G     0.3107     0.3198     0.8594         61        224: 100%|██████████| 266/266 [00:14<00:00, 18.01it/s]\n",
      "                 Class     Images  Instances      Box(P          R      mAP50  mAP50-95): 100%|██████████| 24/24 [00:03<00:00,  6.64it/s]"
     ]
    },
    {
     "name": "stdout",
     "output_type": "stream",
     "text": [
      "                   all       1500       2986      0.984      0.957      0.978      0.961\n"
     ]
    },
    {
     "name": "stderr",
     "output_type": "stream",
     "text": [
      "\n"
     ]
    },
    {
     "name": "stdout",
     "output_type": "stream",
     "text": [
      "\n",
      "      Epoch    GPU_mem   box_loss   cls_loss   dfl_loss  Instances       Size\n"
     ]
    },
    {
     "name": "stderr",
     "output_type": "stream",
     "text": [
      "    157/300     0.656G     0.3109     0.3207     0.8588         78        224: 100%|██████████| 266/266 [00:14<00:00, 18.01it/s]\n",
      "                 Class     Images  Instances      Box(P          R      mAP50  mAP50-95): 100%|██████████| 24/24 [00:03<00:00,  6.69it/s]"
     ]
    },
    {
     "name": "stdout",
     "output_type": "stream",
     "text": [
      "                   all       1500       2986      0.984      0.957      0.978      0.961\n"
     ]
    },
    {
     "name": "stderr",
     "output_type": "stream",
     "text": [
      "\n"
     ]
    },
    {
     "name": "stdout",
     "output_type": "stream",
     "text": [
      "\n",
      "      Epoch    GPU_mem   box_loss   cls_loss   dfl_loss  Instances       Size\n"
     ]
    },
    {
     "name": "stderr",
     "output_type": "stream",
     "text": [
      "    158/300     0.656G      0.311     0.3181     0.8589         89        224: 100%|██████████| 266/266 [00:14<00:00, 17.94it/s]\n",
      "                 Class     Images  Instances      Box(P          R      mAP50  mAP50-95): 100%|██████████| 24/24 [00:03<00:00,  6.72it/s]"
     ]
    },
    {
     "name": "stdout",
     "output_type": "stream",
     "text": [
      "                   all       1500       2986      0.984      0.957      0.978      0.961\n"
     ]
    },
    {
     "name": "stderr",
     "output_type": "stream",
     "text": [
      "\n"
     ]
    },
    {
     "name": "stdout",
     "output_type": "stream",
     "text": [
      "\n",
      "      Epoch    GPU_mem   box_loss   cls_loss   dfl_loss  Instances       Size\n"
     ]
    },
    {
     "name": "stderr",
     "output_type": "stream",
     "text": [
      "    159/300     0.656G     0.3124     0.3207     0.8593         59        224: 100%|██████████| 266/266 [00:14<00:00, 18.05it/s]\n",
      "                 Class     Images  Instances      Box(P          R      mAP50  mAP50-95): 100%|██████████| 24/24 [00:03<00:00,  6.67it/s]"
     ]
    },
    {
     "name": "stdout",
     "output_type": "stream",
     "text": [
      "                   all       1500       2986      0.984      0.957      0.978      0.961\n"
     ]
    },
    {
     "name": "stderr",
     "output_type": "stream",
     "text": [
      "\n"
     ]
    },
    {
     "name": "stdout",
     "output_type": "stream",
     "text": [
      "\n",
      "      Epoch    GPU_mem   box_loss   cls_loss   dfl_loss  Instances       Size\n"
     ]
    },
    {
     "name": "stderr",
     "output_type": "stream",
     "text": [
      "    160/300     0.656G     0.3096       0.32     0.8583         68        224: 100%|██████████| 266/266 [00:14<00:00, 18.00it/s]\n",
      "                 Class     Images  Instances      Box(P          R      mAP50  mAP50-95): 100%|██████████| 24/24 [00:03<00:00,  6.72it/s]"
     ]
    },
    {
     "name": "stdout",
     "output_type": "stream",
     "text": [
      "                   all       1500       2986      0.984      0.957      0.978      0.961\n",
      "\n",
      "      Epoch    GPU_mem   box_loss   cls_loss   dfl_loss  Instances       Size\n"
     ]
    },
    {
     "name": "stderr",
     "output_type": "stream",
     "text": [
      "\n",
      "    161/300     0.656G     0.3083     0.3151     0.8586         55        224: 100%|██████████| 266/266 [00:14<00:00, 17.97it/s]\n",
      "                 Class     Images  Instances      Box(P          R      mAP50  mAP50-95): 100%|██████████| 24/24 [00:03<00:00,  6.67it/s]"
     ]
    },
    {
     "name": "stdout",
     "output_type": "stream",
     "text": [
      "                   all       1500       2986      0.982      0.958      0.978      0.961\n"
     ]
    },
    {
     "name": "stderr",
     "output_type": "stream",
     "text": [
      "\n"
     ]
    },
    {
     "name": "stdout",
     "output_type": "stream",
     "text": [
      "\n",
      "      Epoch    GPU_mem   box_loss   cls_loss   dfl_loss  Instances       Size\n"
     ]
    },
    {
     "name": "stderr",
     "output_type": "stream",
     "text": [
      "    162/300     0.656G     0.3099     0.3189     0.8579         90        224: 100%|██████████| 266/266 [00:14<00:00, 18.05it/s]\n",
      "                 Class     Images  Instances      Box(P          R      mAP50  mAP50-95): 100%|██████████| 24/24 [00:03<00:00,  6.51it/s]"
     ]
    },
    {
     "name": "stdout",
     "output_type": "stream",
     "text": [
      "                   all       1500       2986      0.982      0.958      0.978      0.961\n",
      "\n",
      "      Epoch    GPU_mem   box_loss   cls_loss   dfl_loss  Instances       Size\n"
     ]
    },
    {
     "name": "stderr",
     "output_type": "stream",
     "text": [
      "\n",
      "    163/300     0.656G     0.3096     0.3172     0.8575         88        224: 100%|██████████| 266/266 [00:14<00:00, 17.98it/s]\n",
      "                 Class     Images  Instances      Box(P          R      mAP50  mAP50-95): 100%|██████████| 24/24 [00:03<00:00,  6.72it/s]"
     ]
    },
    {
     "name": "stdout",
     "output_type": "stream",
     "text": [
      "                   all       1500       2986      0.981       0.96      0.978      0.961\n",
      "\n",
      "      Epoch    GPU_mem   box_loss   cls_loss   dfl_loss  Instances       Size\n"
     ]
    },
    {
     "name": "stderr",
     "output_type": "stream",
     "text": [
      "\n",
      "    164/300     0.656G     0.3083      0.316      0.858         58        224: 100%|██████████| 266/266 [00:14<00:00, 18.02it/s]\n",
      "                 Class     Images  Instances      Box(P          R      mAP50  mAP50-95): 100%|██████████| 24/24 [00:03<00:00,  6.70it/s]"
     ]
    },
    {
     "name": "stdout",
     "output_type": "stream",
     "text": [
      "                   all       1500       2986       0.98      0.961      0.978      0.961\n"
     ]
    },
    {
     "name": "stderr",
     "output_type": "stream",
     "text": [
      "\n"
     ]
    },
    {
     "name": "stdout",
     "output_type": "stream",
     "text": [
      "\n",
      "      Epoch    GPU_mem   box_loss   cls_loss   dfl_loss  Instances       Size\n"
     ]
    },
    {
     "name": "stderr",
     "output_type": "stream",
     "text": [
      "    165/300     0.656G     0.3086     0.3178     0.8585         73        224: 100%|██████████| 266/266 [00:14<00:00, 18.03it/s]\n",
      "                 Class     Images  Instances      Box(P          R      mAP50  mAP50-95): 100%|██████████| 24/24 [00:03<00:00,  6.49it/s]"
     ]
    },
    {
     "name": "stdout",
     "output_type": "stream",
     "text": [
      "                   all       1500       2986      0.981       0.96      0.978      0.961\n",
      "\n",
      "      Epoch    GPU_mem   box_loss   cls_loss   dfl_loss  Instances       Size\n"
     ]
    },
    {
     "name": "stderr",
     "output_type": "stream",
     "text": [
      "\n",
      "    166/300     0.656G     0.3095     0.3153     0.8597         67        224: 100%|██████████| 266/266 [00:14<00:00, 18.02it/s]\n",
      "                 Class     Images  Instances      Box(P          R      mAP50  mAP50-95): 100%|██████████| 24/24 [00:03<00:00,  6.68it/s]"
     ]
    },
    {
     "name": "stdout",
     "output_type": "stream",
     "text": [
      "                   all       1500       2986      0.981       0.96      0.978      0.961\n"
     ]
    },
    {
     "name": "stderr",
     "output_type": "stream",
     "text": [
      "\n"
     ]
    },
    {
     "name": "stdout",
     "output_type": "stream",
     "text": [
      "\n",
      "      Epoch    GPU_mem   box_loss   cls_loss   dfl_loss  Instances       Size\n"
     ]
    },
    {
     "name": "stderr",
     "output_type": "stream",
     "text": [
      "    167/300     0.656G     0.3063     0.3176     0.8586         66        224: 100%|██████████| 266/266 [00:14<00:00, 17.95it/s]\n",
      "                 Class     Images  Instances      Box(P          R      mAP50  mAP50-95): 100%|██████████| 24/24 [00:03<00:00,  6.68it/s]"
     ]
    },
    {
     "name": "stdout",
     "output_type": "stream",
     "text": [
      "                   all       1500       2986      0.981       0.96      0.978      0.961\n"
     ]
    },
    {
     "name": "stderr",
     "output_type": "stream",
     "text": [
      "\n"
     ]
    },
    {
     "name": "stdout",
     "output_type": "stream",
     "text": [
      "\n",
      "      Epoch    GPU_mem   box_loss   cls_loss   dfl_loss  Instances       Size\n"
     ]
    },
    {
     "name": "stderr",
     "output_type": "stream",
     "text": [
      "    168/300     0.656G     0.3041     0.3168     0.8579         63        224: 100%|██████████| 266/266 [00:14<00:00, 17.97it/s]\n",
      "                 Class     Images  Instances      Box(P          R      mAP50  mAP50-95): 100%|██████████| 24/24 [00:03<00:00,  6.70it/s]"
     ]
    },
    {
     "name": "stdout",
     "output_type": "stream",
     "text": [
      "                   all       1500       2986      0.981       0.96      0.978      0.961\n"
     ]
    },
    {
     "name": "stderr",
     "output_type": "stream",
     "text": [
      "\n"
     ]
    },
    {
     "name": "stdout",
     "output_type": "stream",
     "text": [
      "\n",
      "      Epoch    GPU_mem   box_loss   cls_loss   dfl_loss  Instances       Size\n"
     ]
    },
    {
     "name": "stderr",
     "output_type": "stream",
     "text": [
      "    169/300     0.656G     0.3056     0.3136     0.8582         60        224: 100%|██████████| 266/266 [00:14<00:00, 18.03it/s]\n",
      "                 Class     Images  Instances      Box(P          R      mAP50  mAP50-95): 100%|██████████| 24/24 [00:03<00:00,  6.68it/s]"
     ]
    },
    {
     "name": "stdout",
     "output_type": "stream",
     "text": [
      "                   all       1500       2986      0.981       0.96      0.978      0.961\n"
     ]
    },
    {
     "name": "stderr",
     "output_type": "stream",
     "text": [
      "\n"
     ]
    },
    {
     "name": "stdout",
     "output_type": "stream",
     "text": [
      "\n",
      "      Epoch    GPU_mem   box_loss   cls_loss   dfl_loss  Instances       Size\n"
     ]
    },
    {
     "name": "stderr",
     "output_type": "stream",
     "text": [
      "    170/300     0.656G     0.3093     0.3184      0.859         95        224: 100%|██████████| 266/266 [00:14<00:00, 18.03it/s]\n",
      "                 Class     Images  Instances      Box(P          R      mAP50  mAP50-95): 100%|██████████| 24/24 [00:03<00:00,  6.69it/s]"
     ]
    },
    {
     "name": "stdout",
     "output_type": "stream",
     "text": [
      "                   all       1500       2986      0.981      0.959      0.978      0.961\n"
     ]
    },
    {
     "name": "stderr",
     "output_type": "stream",
     "text": [
      "\n"
     ]
    },
    {
     "name": "stdout",
     "output_type": "stream",
     "text": [
      "\n",
      "      Epoch    GPU_mem   box_loss   cls_loss   dfl_loss  Instances       Size\n"
     ]
    },
    {
     "name": "stderr",
     "output_type": "stream",
     "text": [
      "    171/300     0.656G     0.3074     0.3149     0.8594         68        224: 100%|██████████| 266/266 [00:14<00:00, 18.03it/s]\n",
      "                 Class     Images  Instances      Box(P          R      mAP50  mAP50-95): 100%|██████████| 24/24 [00:03<00:00,  6.71it/s]"
     ]
    },
    {
     "name": "stdout",
     "output_type": "stream",
     "text": [
      "                   all       1500       2986      0.981      0.959      0.977      0.961\n"
     ]
    },
    {
     "name": "stderr",
     "output_type": "stream",
     "text": [
      "\n"
     ]
    },
    {
     "name": "stdout",
     "output_type": "stream",
     "text": [
      "\n",
      "      Epoch    GPU_mem   box_loss   cls_loss   dfl_loss  Instances       Size\n"
     ]
    },
    {
     "name": "stderr",
     "output_type": "stream",
     "text": [
      "    172/300     0.656G     0.3056     0.3147      0.859         87        224: 100%|██████████| 266/266 [00:14<00:00, 18.02it/s]\n",
      "                 Class     Images  Instances      Box(P          R      mAP50  mAP50-95): 100%|██████████| 24/24 [00:03<00:00,  6.71it/s]"
     ]
    },
    {
     "name": "stdout",
     "output_type": "stream",
     "text": [
      "                   all       1500       2986      0.981      0.959      0.977      0.961\n"
     ]
    },
    {
     "name": "stderr",
     "output_type": "stream",
     "text": [
      "\n"
     ]
    },
    {
     "name": "stdout",
     "output_type": "stream",
     "text": [
      "\n",
      "      Epoch    GPU_mem   box_loss   cls_loss   dfl_loss  Instances       Size\n"
     ]
    },
    {
     "name": "stderr",
     "output_type": "stream",
     "text": [
      "    173/300     0.656G     0.3072     0.3101     0.8581         75        224: 100%|██████████| 266/266 [00:14<00:00, 18.03it/s]\n",
      "                 Class     Images  Instances      Box(P          R      mAP50  mAP50-95): 100%|██████████| 24/24 [00:03<00:00,  6.70it/s]"
     ]
    },
    {
     "name": "stdout",
     "output_type": "stream",
     "text": [
      "                   all       1500       2986      0.982      0.959      0.978      0.961\n",
      "\n",
      "      Epoch    GPU_mem   box_loss   cls_loss   dfl_loss  Instances       Size\n"
     ]
    },
    {
     "name": "stderr",
     "output_type": "stream",
     "text": [
      "\n",
      "    174/300     0.656G     0.3049     0.3133     0.8565         64        224: 100%|██████████| 266/266 [00:14<00:00, 18.01it/s]\n",
      "                 Class     Images  Instances      Box(P          R      mAP50  mAP50-95): 100%|██████████| 24/24 [00:03<00:00,  6.46it/s]"
     ]
    },
    {
     "name": "stdout",
     "output_type": "stream",
     "text": [
      "                   all       1500       2986      0.981      0.959      0.977      0.961\n"
     ]
    },
    {
     "name": "stderr",
     "output_type": "stream",
     "text": [
      "\n"
     ]
    },
    {
     "name": "stdout",
     "output_type": "stream",
     "text": [
      "\n",
      "      Epoch    GPU_mem   box_loss   cls_loss   dfl_loss  Instances       Size\n"
     ]
    },
    {
     "name": "stderr",
     "output_type": "stream",
     "text": [
      "    175/300     0.656G     0.3046     0.3099     0.8564         86        224: 100%|██████████| 266/266 [00:14<00:00, 18.05it/s]\n",
      "                 Class     Images  Instances      Box(P          R      mAP50  mAP50-95): 100%|██████████| 24/24 [00:03<00:00,  6.72it/s]"
     ]
    },
    {
     "name": "stdout",
     "output_type": "stream",
     "text": [
      "                   all       1500       2986      0.981      0.959      0.977      0.961\n"
     ]
    },
    {
     "name": "stderr",
     "output_type": "stream",
     "text": [
      "\n"
     ]
    },
    {
     "name": "stdout",
     "output_type": "stream",
     "text": [
      "\n",
      "      Epoch    GPU_mem   box_loss   cls_loss   dfl_loss  Instances       Size\n"
     ]
    },
    {
     "name": "stderr",
     "output_type": "stream",
     "text": [
      "    176/300     0.656G     0.3064     0.3124     0.8589         93        224: 100%|██████████| 266/266 [00:14<00:00, 18.05it/s]\n",
      "                 Class     Images  Instances      Box(P          R      mAP50  mAP50-95): 100%|██████████| 24/24 [00:03<00:00,  6.65it/s]"
     ]
    },
    {
     "name": "stdout",
     "output_type": "stream",
     "text": [
      "                   all       1500       2986      0.982      0.959      0.978      0.961\n"
     ]
    },
    {
     "name": "stderr",
     "output_type": "stream",
     "text": [
      "\n"
     ]
    },
    {
     "name": "stdout",
     "output_type": "stream",
     "text": [
      "\n",
      "      Epoch    GPU_mem   box_loss   cls_loss   dfl_loss  Instances       Size\n"
     ]
    },
    {
     "name": "stderr",
     "output_type": "stream",
     "text": [
      "    177/300     0.656G     0.3058     0.3104     0.8574         76        224: 100%|██████████| 266/266 [00:14<00:00, 18.09it/s]\n",
      "                 Class     Images  Instances      Box(P          R      mAP50  mAP50-95): 100%|██████████| 24/24 [00:03<00:00,  6.69it/s]"
     ]
    },
    {
     "name": "stdout",
     "output_type": "stream",
     "text": [
      "                   all       1500       2986      0.982      0.959      0.977      0.961\n"
     ]
    },
    {
     "name": "stderr",
     "output_type": "stream",
     "text": [
      "\n"
     ]
    },
    {
     "name": "stdout",
     "output_type": "stream",
     "text": [
      "\n",
      "      Epoch    GPU_mem   box_loss   cls_loss   dfl_loss  Instances       Size\n"
     ]
    },
    {
     "name": "stderr",
     "output_type": "stream",
     "text": [
      "    178/300     0.656G     0.3044     0.3123     0.8571         67        224: 100%|██████████| 266/266 [00:14<00:00, 18.01it/s]\n",
      "                 Class     Images  Instances      Box(P          R      mAP50  mAP50-95): 100%|██████████| 24/24 [00:03<00:00,  6.71it/s]"
     ]
    },
    {
     "name": "stdout",
     "output_type": "stream",
     "text": [
      "                   all       1500       2986      0.981      0.959      0.977      0.961\n"
     ]
    },
    {
     "name": "stderr",
     "output_type": "stream",
     "text": [
      "\n"
     ]
    },
    {
     "name": "stdout",
     "output_type": "stream",
     "text": [
      "\n",
      "      Epoch    GPU_mem   box_loss   cls_loss   dfl_loss  Instances       Size\n"
     ]
    },
    {
     "name": "stderr",
     "output_type": "stream",
     "text": [
      "    179/300     0.656G     0.3032     0.3074     0.8561         64        224: 100%|██████████| 266/266 [00:14<00:00, 18.04it/s]\n",
      "                 Class     Images  Instances      Box(P          R      mAP50  mAP50-95): 100%|██████████| 24/24 [00:03<00:00,  6.71it/s]"
     ]
    },
    {
     "name": "stdout",
     "output_type": "stream",
     "text": [
      "                   all       1500       2986      0.981      0.959      0.977      0.961\n",
      "\n",
      "      Epoch    GPU_mem   box_loss   cls_loss   dfl_loss  Instances       Size\n"
     ]
    },
    {
     "name": "stderr",
     "output_type": "stream",
     "text": [
      "\n",
      "    180/300     0.656G     0.3047     0.3082     0.8589         70        224: 100%|██████████| 266/266 [00:14<00:00, 17.96it/s]\n",
      "                 Class     Images  Instances      Box(P          R      mAP50  mAP50-95): 100%|██████████| 24/24 [00:03<00:00,  6.49it/s]"
     ]
    },
    {
     "name": "stdout",
     "output_type": "stream",
     "text": [
      "                   all       1500       2986      0.982      0.959      0.977      0.961\n",
      "\n",
      "      Epoch    GPU_mem   box_loss   cls_loss   dfl_loss  Instances       Size\n"
     ]
    },
    {
     "name": "stderr",
     "output_type": "stream",
     "text": [
      "\n",
      "    181/300     0.656G     0.3026     0.3073      0.857         64        224: 100%|██████████| 266/266 [00:14<00:00, 18.05it/s]\n",
      "                 Class     Images  Instances      Box(P          R      mAP50  mAP50-95): 100%|██████████| 24/24 [00:03<00:00,  6.69it/s]"
     ]
    },
    {
     "name": "stdout",
     "output_type": "stream",
     "text": [
      "                   all       1500       2986      0.981      0.959      0.977      0.961\n"
     ]
    },
    {
     "name": "stderr",
     "output_type": "stream",
     "text": [
      "\n"
     ]
    },
    {
     "name": "stdout",
     "output_type": "stream",
     "text": [
      "\n",
      "      Epoch    GPU_mem   box_loss   cls_loss   dfl_loss  Instances       Size\n"
     ]
    },
    {
     "name": "stderr",
     "output_type": "stream",
     "text": [
      "    182/300     0.656G     0.2997      0.305     0.8553         59        224: 100%|██████████| 266/266 [00:14<00:00, 18.02it/s]\n",
      "                 Class     Images  Instances      Box(P          R      mAP50  mAP50-95): 100%|██████████| 24/24 [00:03<00:00,  6.70it/s]"
     ]
    },
    {
     "name": "stdout",
     "output_type": "stream",
     "text": [
      "                   all       1500       2986      0.982      0.958      0.978      0.961\n"
     ]
    },
    {
     "name": "stderr",
     "output_type": "stream",
     "text": [
      "\n"
     ]
    },
    {
     "name": "stdout",
     "output_type": "stream",
     "text": [
      "\n",
      "      Epoch    GPU_mem   box_loss   cls_loss   dfl_loss  Instances       Size\n"
     ]
    },
    {
     "name": "stderr",
     "output_type": "stream",
     "text": [
      "    183/300     0.656G     0.3038     0.3074      0.856         79        224: 100%|██████████| 266/266 [00:14<00:00, 17.92it/s]\n",
      "                 Class     Images  Instances      Box(P          R      mAP50  mAP50-95): 100%|██████████| 24/24 [00:03<00:00,  6.70it/s]"
     ]
    },
    {
     "name": "stdout",
     "output_type": "stream",
     "text": [
      "                   all       1500       2986      0.984      0.956      0.977      0.961\n"
     ]
    },
    {
     "name": "stderr",
     "output_type": "stream",
     "text": [
      "\n"
     ]
    },
    {
     "name": "stdout",
     "output_type": "stream",
     "text": [
      "\n",
      "      Epoch    GPU_mem   box_loss   cls_loss   dfl_loss  Instances       Size\n"
     ]
    },
    {
     "name": "stderr",
     "output_type": "stream",
     "text": [
      "    184/300     0.656G     0.3033     0.3045     0.8576         67        224: 100%|██████████| 266/266 [00:14<00:00, 17.95it/s]\n",
      "                 Class     Images  Instances      Box(P          R      mAP50  mAP50-95): 100%|██████████| 24/24 [00:03<00:00,  6.69it/s]"
     ]
    },
    {
     "name": "stdout",
     "output_type": "stream",
     "text": [
      "                   all       1500       2986      0.984      0.956      0.977      0.961\n"
     ]
    },
    {
     "name": "stderr",
     "output_type": "stream",
     "text": [
      "\n"
     ]
    },
    {
     "name": "stdout",
     "output_type": "stream",
     "text": [
      "\n",
      "      Epoch    GPU_mem   box_loss   cls_loss   dfl_loss  Instances       Size\n"
     ]
    },
    {
     "name": "stderr",
     "output_type": "stream",
     "text": [
      "    185/300     0.656G     0.2996     0.3023      0.856         72        224: 100%|██████████| 266/266 [00:14<00:00, 17.90it/s]\n",
      "                 Class     Images  Instances      Box(P          R      mAP50  mAP50-95): 100%|██████████| 24/24 [00:03<00:00,  6.71it/s]"
     ]
    },
    {
     "name": "stdout",
     "output_type": "stream",
     "text": [
      "                   all       1500       2986      0.984      0.956      0.977      0.961\n"
     ]
    },
    {
     "name": "stderr",
     "output_type": "stream",
     "text": [
      "\n"
     ]
    },
    {
     "name": "stdout",
     "output_type": "stream",
     "text": [
      "\n",
      "      Epoch    GPU_mem   box_loss   cls_loss   dfl_loss  Instances       Size\n"
     ]
    },
    {
     "name": "stderr",
     "output_type": "stream",
     "text": [
      "    186/300     0.656G      0.299     0.3032     0.8543         73        224: 100%|██████████| 266/266 [00:14<00:00, 17.90it/s]\n",
      "                 Class     Images  Instances      Box(P          R      mAP50  mAP50-95): 100%|██████████| 24/24 [00:03<00:00,  6.72it/s]"
     ]
    },
    {
     "name": "stdout",
     "output_type": "stream",
     "text": [
      "                   all       1500       2986      0.984      0.955      0.977      0.961\n",
      "\n",
      "      Epoch    GPU_mem   box_loss   cls_loss   dfl_loss  Instances       Size\n"
     ]
    },
    {
     "name": "stderr",
     "output_type": "stream",
     "text": [
      "\n",
      "    187/300     0.656G      0.301     0.3033      0.856         74        224: 100%|██████████| 266/266 [00:14<00:00, 18.05it/s]\n",
      "                 Class     Images  Instances      Box(P          R      mAP50  mAP50-95): 100%|██████████| 24/24 [00:03<00:00,  6.69it/s]"
     ]
    },
    {
     "name": "stdout",
     "output_type": "stream",
     "text": [
      "                   all       1500       2986      0.984      0.956      0.977      0.961\n"
     ]
    },
    {
     "name": "stderr",
     "output_type": "stream",
     "text": [
      "\n"
     ]
    },
    {
     "name": "stdout",
     "output_type": "stream",
     "text": [
      "\n",
      "      Epoch    GPU_mem   box_loss   cls_loss   dfl_loss  Instances       Size\n"
     ]
    },
    {
     "name": "stderr",
     "output_type": "stream",
     "text": [
      "    188/300     0.656G     0.3011     0.3051     0.8552         66        224: 100%|██████████| 266/266 [00:14<00:00, 17.96it/s]\n",
      "                 Class     Images  Instances      Box(P          R      mAP50  mAP50-95): 100%|██████████| 24/24 [00:03<00:00,  6.70it/s]"
     ]
    },
    {
     "name": "stdout",
     "output_type": "stream",
     "text": [
      "                   all       1500       2986      0.984      0.956      0.977      0.961\n"
     ]
    },
    {
     "name": "stderr",
     "output_type": "stream",
     "text": [
      "\n"
     ]
    },
    {
     "name": "stdout",
     "output_type": "stream",
     "text": [
      "\n",
      "      Epoch    GPU_mem   box_loss   cls_loss   dfl_loss  Instances       Size\n"
     ]
    },
    {
     "name": "stderr",
     "output_type": "stream",
     "text": [
      "    189/300     0.656G     0.2964     0.3001     0.8542         64        224: 100%|██████████| 266/266 [00:14<00:00, 17.86it/s]\n",
      "                 Class     Images  Instances      Box(P          R      mAP50  mAP50-95): 100%|██████████| 24/24 [00:03<00:00,  6.64it/s]"
     ]
    },
    {
     "name": "stdout",
     "output_type": "stream",
     "text": [
      "                   all       1500       2986      0.983      0.956      0.977      0.961\n"
     ]
    },
    {
     "name": "stderr",
     "output_type": "stream",
     "text": [
      "\n"
     ]
    },
    {
     "name": "stdout",
     "output_type": "stream",
     "text": [
      "\n",
      "      Epoch    GPU_mem   box_loss   cls_loss   dfl_loss  Instances       Size\n"
     ]
    },
    {
     "name": "stderr",
     "output_type": "stream",
     "text": [
      "    190/300     0.656G     0.3017     0.3034     0.8579         70        224: 100%|██████████| 266/266 [00:14<00:00, 17.96it/s]\n",
      "                 Class     Images  Instances      Box(P          R      mAP50  mAP50-95): 100%|██████████| 24/24 [00:03<00:00,  6.67it/s]"
     ]
    },
    {
     "name": "stdout",
     "output_type": "stream",
     "text": [
      "                   all       1500       2986      0.983      0.956      0.977      0.961\n"
     ]
    },
    {
     "name": "stderr",
     "output_type": "stream",
     "text": [
      "\n"
     ]
    },
    {
     "name": "stdout",
     "output_type": "stream",
     "text": [
      "\n",
      "      Epoch    GPU_mem   box_loss   cls_loss   dfl_loss  Instances       Size\n"
     ]
    },
    {
     "name": "stderr",
     "output_type": "stream",
     "text": [
      "    191/300     0.656G     0.2991     0.3049     0.8563         70        224: 100%|██████████| 266/266 [00:14<00:00, 18.06it/s]\n",
      "                 Class     Images  Instances      Box(P          R      mAP50  mAP50-95): 100%|██████████| 24/24 [00:03<00:00,  6.66it/s]"
     ]
    },
    {
     "name": "stdout",
     "output_type": "stream",
     "text": [
      "                   all       1500       2986      0.983      0.956      0.977      0.961\n"
     ]
    },
    {
     "name": "stderr",
     "output_type": "stream",
     "text": [
      "\n"
     ]
    },
    {
     "name": "stdout",
     "output_type": "stream",
     "text": [
      "\n",
      "      Epoch    GPU_mem   box_loss   cls_loss   dfl_loss  Instances       Size\n"
     ]
    },
    {
     "name": "stderr",
     "output_type": "stream",
     "text": [
      "    192/300     0.656G     0.2973     0.2992      0.855         63        224: 100%|██████████| 266/266 [00:14<00:00, 18.03it/s]\n",
      "                 Class     Images  Instances      Box(P          R      mAP50  mAP50-95): 100%|██████████| 24/24 [00:03<00:00,  6.72it/s]"
     ]
    },
    {
     "name": "stdout",
     "output_type": "stream",
     "text": [
      "                   all       1500       2986      0.984      0.956      0.977      0.961\n"
     ]
    },
    {
     "name": "stderr",
     "output_type": "stream",
     "text": [
      "\n"
     ]
    },
    {
     "name": "stdout",
     "output_type": "stream",
     "text": [
      "\n",
      "      Epoch    GPU_mem   box_loss   cls_loss   dfl_loss  Instances       Size\n"
     ]
    },
    {
     "name": "stderr",
     "output_type": "stream",
     "text": [
      "    193/300     0.656G        0.3     0.3025     0.8548         62        224: 100%|██████████| 266/266 [00:14<00:00, 18.06it/s]\n",
      "                 Class     Images  Instances      Box(P          R      mAP50  mAP50-95): 100%|██████████| 24/24 [00:03<00:00,  6.70it/s]"
     ]
    },
    {
     "name": "stdout",
     "output_type": "stream",
     "text": [
      "                   all       1500       2986      0.984      0.956      0.977      0.961\n"
     ]
    },
    {
     "name": "stderr",
     "output_type": "stream",
     "text": [
      "\n"
     ]
    },
    {
     "name": "stdout",
     "output_type": "stream",
     "text": [
      "\n",
      "      Epoch    GPU_mem   box_loss   cls_loss   dfl_loss  Instances       Size\n"
     ]
    },
    {
     "name": "stderr",
     "output_type": "stream",
     "text": [
      "    194/300     0.656G     0.2998     0.3049     0.8568         68        224: 100%|██████████| 266/266 [00:14<00:00, 18.08it/s]\n",
      "                 Class     Images  Instances      Box(P          R      mAP50  mAP50-95): 100%|██████████| 24/24 [00:03<00:00,  6.70it/s]"
     ]
    },
    {
     "name": "stdout",
     "output_type": "stream",
     "text": [
      "                   all       1500       2986      0.984      0.956      0.977      0.962\n"
     ]
    },
    {
     "name": "stderr",
     "output_type": "stream",
     "text": [
      "\n"
     ]
    },
    {
     "name": "stdout",
     "output_type": "stream",
     "text": [
      "\n",
      "      Epoch    GPU_mem   box_loss   cls_loss   dfl_loss  Instances       Size\n"
     ]
    },
    {
     "name": "stderr",
     "output_type": "stream",
     "text": [
      "    195/300     0.656G     0.3004     0.3032     0.8567         75        224: 100%|██████████| 266/266 [00:14<00:00, 17.94it/s]\n",
      "                 Class     Images  Instances      Box(P          R      mAP50  mAP50-95): 100%|██████████| 24/24 [00:03<00:00,  6.69it/s]"
     ]
    },
    {
     "name": "stdout",
     "output_type": "stream",
     "text": [
      "                   all       1500       2986      0.984      0.956      0.977      0.961\n",
      "\n",
      "      Epoch    GPU_mem   box_loss   cls_loss   dfl_loss  Instances       Size\n"
     ]
    },
    {
     "name": "stderr",
     "output_type": "stream",
     "text": [
      "\n",
      "    196/300     0.656G     0.2987     0.2986     0.8557         79        224: 100%|██████████| 266/266 [00:14<00:00, 18.05it/s]\n",
      "                 Class     Images  Instances      Box(P          R      mAP50  mAP50-95): 100%|██████████| 24/24 [00:03<00:00,  6.68it/s]"
     ]
    },
    {
     "name": "stdout",
     "output_type": "stream",
     "text": [
      "                   all       1500       2986      0.984      0.956      0.977      0.961\n",
      "\n",
      "      Epoch    GPU_mem   box_loss   cls_loss   dfl_loss  Instances       Size\n"
     ]
    },
    {
     "name": "stderr",
     "output_type": "stream",
     "text": [
      "\n",
      "    197/300     0.656G     0.2969     0.3006     0.8544         66        224: 100%|██████████| 266/266 [00:14<00:00, 18.08it/s]\n",
      "                 Class     Images  Instances      Box(P          R      mAP50  mAP50-95): 100%|██████████| 24/24 [00:03<00:00,  6.53it/s]"
     ]
    },
    {
     "name": "stdout",
     "output_type": "stream",
     "text": [
      "                   all       1500       2986      0.984      0.956      0.977      0.961\n"
     ]
    },
    {
     "name": "stderr",
     "output_type": "stream",
     "text": [
      "\n"
     ]
    },
    {
     "name": "stdout",
     "output_type": "stream",
     "text": [
      "\n",
      "      Epoch    GPU_mem   box_loss   cls_loss   dfl_loss  Instances       Size\n"
     ]
    },
    {
     "name": "stderr",
     "output_type": "stream",
     "text": [
      "    198/300     0.656G     0.2988     0.3007     0.8562         61        224: 100%|██████████| 266/266 [00:14<00:00, 17.98it/s]\n",
      "                 Class     Images  Instances      Box(P          R      mAP50  mAP50-95): 100%|██████████| 24/24 [00:03<00:00,  6.72it/s]"
     ]
    },
    {
     "name": "stdout",
     "output_type": "stream",
     "text": [
      "                   all       1500       2986      0.984      0.956      0.977      0.961\n"
     ]
    },
    {
     "name": "stderr",
     "output_type": "stream",
     "text": [
      "\n"
     ]
    },
    {
     "name": "stdout",
     "output_type": "stream",
     "text": [
      "\n",
      "      Epoch    GPU_mem   box_loss   cls_loss   dfl_loss  Instances       Size\n"
     ]
    },
    {
     "name": "stderr",
     "output_type": "stream",
     "text": [
      "    199/300     0.656G     0.2964     0.2981     0.8552         77        224: 100%|██████████| 266/266 [00:14<00:00, 17.96it/s]\n",
      "                 Class     Images  Instances      Box(P          R      mAP50  mAP50-95): 100%|██████████| 24/24 [00:03<00:00,  6.66it/s]"
     ]
    },
    {
     "name": "stdout",
     "output_type": "stream",
     "text": [
      "                   all       1500       2986      0.984      0.957      0.977      0.961\n"
     ]
    },
    {
     "name": "stderr",
     "output_type": "stream",
     "text": [
      "\n"
     ]
    },
    {
     "name": "stdout",
     "output_type": "stream",
     "text": [
      "\n",
      "      Epoch    GPU_mem   box_loss   cls_loss   dfl_loss  Instances       Size\n"
     ]
    },
    {
     "name": "stderr",
     "output_type": "stream",
     "text": [
      "    200/300     0.656G     0.2967     0.2961     0.8547         81        224: 100%|██████████| 266/266 [00:14<00:00, 17.94it/s]\n",
      "                 Class     Images  Instances      Box(P          R      mAP50  mAP50-95): 100%|██████████| 24/24 [00:03<00:00,  6.68it/s]"
     ]
    },
    {
     "name": "stdout",
     "output_type": "stream",
     "text": [
      "                   all       1500       2986      0.984      0.957      0.977      0.961\n"
     ]
    },
    {
     "name": "stderr",
     "output_type": "stream",
     "text": [
      "\n"
     ]
    },
    {
     "name": "stdout",
     "output_type": "stream",
     "text": [
      "\n",
      "      Epoch    GPU_mem   box_loss   cls_loss   dfl_loss  Instances       Size\n"
     ]
    },
    {
     "name": "stderr",
     "output_type": "stream",
     "text": [
      "    201/300     0.656G     0.2946     0.2984     0.8567         78        224: 100%|██████████| 266/266 [00:14<00:00, 18.05it/s]\n",
      "                 Class     Images  Instances      Box(P          R      mAP50  mAP50-95): 100%|██████████| 24/24 [00:03<00:00,  6.73it/s]"
     ]
    },
    {
     "name": "stdout",
     "output_type": "stream",
     "text": [
      "                   all       1500       2986      0.984      0.956      0.977      0.961\n"
     ]
    },
    {
     "name": "stderr",
     "output_type": "stream",
     "text": [
      "\n"
     ]
    },
    {
     "name": "stdout",
     "output_type": "stream",
     "text": [
      "\n",
      "      Epoch    GPU_mem   box_loss   cls_loss   dfl_loss  Instances       Size\n"
     ]
    },
    {
     "name": "stderr",
     "output_type": "stream",
     "text": [
      "    202/300     0.656G     0.2943     0.2938      0.855         66        224: 100%|██████████| 266/266 [00:14<00:00, 18.06it/s]\n",
      "                 Class     Images  Instances      Box(P          R      mAP50  mAP50-95): 100%|██████████| 24/24 [00:03<00:00,  6.70it/s]"
     ]
    },
    {
     "name": "stdout",
     "output_type": "stream",
     "text": [
      "                   all       1500       2986      0.984      0.957      0.977      0.961\n",
      "\n",
      "      Epoch    GPU_mem   box_loss   cls_loss   dfl_loss  Instances       Size\n"
     ]
    },
    {
     "name": "stderr",
     "output_type": "stream",
     "text": [
      "\n",
      "    203/300     0.656G     0.2969      0.297     0.8548         64        224: 100%|██████████| 266/266 [00:14<00:00, 17.80it/s]\n",
      "                 Class     Images  Instances      Box(P          R      mAP50  mAP50-95): 100%|██████████| 24/24 [00:03<00:00,  6.70it/s]"
     ]
    },
    {
     "name": "stdout",
     "output_type": "stream",
     "text": [
      "                   all       1500       2986      0.984      0.957      0.977       0.96\n",
      "\n",
      "      Epoch    GPU_mem   box_loss   cls_loss   dfl_loss  Instances       Size\n"
     ]
    },
    {
     "name": "stderr",
     "output_type": "stream",
     "text": [
      "\n",
      "    204/300     0.656G     0.2936     0.2956     0.8543         75        224: 100%|██████████| 266/266 [00:14<00:00, 17.96it/s]\n",
      "                 Class     Images  Instances      Box(P          R      mAP50  mAP50-95): 100%|██████████| 24/24 [00:03<00:00,  6.71it/s]"
     ]
    },
    {
     "name": "stdout",
     "output_type": "stream",
     "text": [
      "                   all       1500       2986      0.984      0.956      0.977       0.96\n"
     ]
    },
    {
     "name": "stderr",
     "output_type": "stream",
     "text": [
      "\n"
     ]
    },
    {
     "name": "stdout",
     "output_type": "stream",
     "text": [
      "\n",
      "      Epoch    GPU_mem   box_loss   cls_loss   dfl_loss  Instances       Size\n"
     ]
    },
    {
     "name": "stderr",
     "output_type": "stream",
     "text": [
      "    205/300     0.656G     0.2935     0.2937     0.8543         68        224: 100%|██████████| 266/266 [00:14<00:00, 17.97it/s]\n",
      "                 Class     Images  Instances      Box(P          R      mAP50  mAP50-95): 100%|██████████| 24/24 [00:03<00:00,  6.63it/s]"
     ]
    },
    {
     "name": "stdout",
     "output_type": "stream",
     "text": [
      "                   all       1500       2986      0.984      0.956      0.977      0.961\n"
     ]
    },
    {
     "name": "stderr",
     "output_type": "stream",
     "text": [
      "\n"
     ]
    },
    {
     "name": "stdout",
     "output_type": "stream",
     "text": [
      "\n",
      "      Epoch    GPU_mem   box_loss   cls_loss   dfl_loss  Instances       Size\n"
     ]
    },
    {
     "name": "stderr",
     "output_type": "stream",
     "text": [
      "    206/300     0.656G     0.2938     0.2944      0.854         79        224: 100%|██████████| 266/266 [00:14<00:00, 17.96it/s]\n",
      "                 Class     Images  Instances      Box(P          R      mAP50  mAP50-95): 100%|██████████| 24/24 [00:03<00:00,  6.68it/s]"
     ]
    },
    {
     "name": "stdout",
     "output_type": "stream",
     "text": [
      "                   all       1500       2986      0.984      0.956      0.977       0.96\n",
      "\n",
      "      Epoch    GPU_mem   box_loss   cls_loss   dfl_loss  Instances       Size\n"
     ]
    },
    {
     "name": "stderr",
     "output_type": "stream",
     "text": [
      "\n",
      "    207/300     0.656G     0.2959     0.2957     0.8555         56        224: 100%|██████████| 266/266 [00:14<00:00, 18.12it/s]\n",
      "                 Class     Images  Instances      Box(P          R      mAP50  mAP50-95): 100%|██████████| 24/24 [00:03<00:00,  6.64it/s]"
     ]
    },
    {
     "name": "stdout",
     "output_type": "stream",
     "text": [
      "                   all       1500       2986      0.984      0.956      0.977      0.961\n"
     ]
    },
    {
     "name": "stderr",
     "output_type": "stream",
     "text": [
      "\n"
     ]
    },
    {
     "name": "stdout",
     "output_type": "stream",
     "text": [
      "\n",
      "      Epoch    GPU_mem   box_loss   cls_loss   dfl_loss  Instances       Size\n"
     ]
    },
    {
     "name": "stderr",
     "output_type": "stream",
     "text": [
      "    208/300     0.656G     0.2934     0.2939     0.8538         60        224: 100%|██████████| 266/266 [00:14<00:00, 17.92it/s]\n",
      "                 Class     Images  Instances      Box(P          R      mAP50  mAP50-95): 100%|██████████| 24/24 [00:03<00:00,  6.73it/s]"
     ]
    },
    {
     "name": "stdout",
     "output_type": "stream",
     "text": [
      "                   all       1500       2986      0.984      0.956      0.977      0.961\n"
     ]
    },
    {
     "name": "stderr",
     "output_type": "stream",
     "text": [
      "\n"
     ]
    },
    {
     "name": "stdout",
     "output_type": "stream",
     "text": [
      "\n",
      "      Epoch    GPU_mem   box_loss   cls_loss   dfl_loss  Instances       Size\n"
     ]
    },
    {
     "name": "stderr",
     "output_type": "stream",
     "text": [
      "    209/300     0.656G     0.2934     0.2937     0.8556         81        224: 100%|██████████| 266/266 [00:14<00:00, 18.06it/s]\n",
      "                 Class     Images  Instances      Box(P          R      mAP50  mAP50-95): 100%|██████████| 24/24 [00:03<00:00,  6.69it/s]"
     ]
    },
    {
     "name": "stdout",
     "output_type": "stream",
     "text": [
      "                   all       1500       2986      0.984      0.956      0.977       0.96\n"
     ]
    },
    {
     "name": "stderr",
     "output_type": "stream",
     "text": [
      "\n"
     ]
    },
    {
     "name": "stdout",
     "output_type": "stream",
     "text": [
      "\n",
      "      Epoch    GPU_mem   box_loss   cls_loss   dfl_loss  Instances       Size\n"
     ]
    },
    {
     "name": "stderr",
     "output_type": "stream",
     "text": [
      "    210/300     0.656G      0.294     0.2926     0.8559         81        224: 100%|██████████| 266/266 [00:14<00:00, 18.10it/s]\n",
      "                 Class     Images  Instances      Box(P          R      mAP50  mAP50-95): 100%|██████████| 24/24 [00:03<00:00,  6.72it/s]"
     ]
    },
    {
     "name": "stdout",
     "output_type": "stream",
     "text": [
      "                   all       1500       2986      0.984      0.956      0.977      0.961\n"
     ]
    },
    {
     "name": "stderr",
     "output_type": "stream",
     "text": [
      "\n"
     ]
    },
    {
     "name": "stdout",
     "output_type": "stream",
     "text": [
      "\n",
      "      Epoch    GPU_mem   box_loss   cls_loss   dfl_loss  Instances       Size\n"
     ]
    },
    {
     "name": "stderr",
     "output_type": "stream",
     "text": [
      "    211/300     0.656G      0.291     0.2907     0.8543         71        224: 100%|██████████| 266/266 [00:14<00:00, 17.97it/s]\n",
      "                 Class     Images  Instances      Box(P          R      mAP50  mAP50-95): 100%|██████████| 24/24 [00:03<00:00,  6.71it/s]"
     ]
    },
    {
     "name": "stdout",
     "output_type": "stream",
     "text": [
      "                   all       1500       2986      0.984      0.956      0.977      0.961\n"
     ]
    },
    {
     "name": "stderr",
     "output_type": "stream",
     "text": [
      "\n"
     ]
    },
    {
     "name": "stdout",
     "output_type": "stream",
     "text": [
      "\n",
      "      Epoch    GPU_mem   box_loss   cls_loss   dfl_loss  Instances       Size\n"
     ]
    },
    {
     "name": "stderr",
     "output_type": "stream",
     "text": [
      "    212/300     0.656G      0.293     0.2915      0.853         78        224: 100%|██████████| 266/266 [00:14<00:00, 18.10it/s]\n",
      "                 Class     Images  Instances      Box(P          R      mAP50  mAP50-95): 100%|██████████| 24/24 [00:03<00:00,  6.66it/s]"
     ]
    },
    {
     "name": "stdout",
     "output_type": "stream",
     "text": [
      "                   all       1500       2986      0.984      0.957      0.976       0.96\n"
     ]
    },
    {
     "name": "stderr",
     "output_type": "stream",
     "text": [
      "\n"
     ]
    },
    {
     "name": "stdout",
     "output_type": "stream",
     "text": [
      "\n",
      "      Epoch    GPU_mem   box_loss   cls_loss   dfl_loss  Instances       Size\n"
     ]
    },
    {
     "name": "stderr",
     "output_type": "stream",
     "text": [
      "    213/300     0.656G     0.2927     0.2915     0.8543         56        224: 100%|██████████| 266/266 [00:14<00:00, 17.98it/s]\n",
      "                 Class     Images  Instances      Box(P          R      mAP50  mAP50-95): 100%|██████████| 24/24 [00:03<00:00,  6.70it/s]"
     ]
    },
    {
     "name": "stdout",
     "output_type": "stream",
     "text": [
      "                   all       1500       2986      0.984      0.956      0.976      0.961\n"
     ]
    },
    {
     "name": "stderr",
     "output_type": "stream",
     "text": [
      "\n"
     ]
    },
    {
     "name": "stdout",
     "output_type": "stream",
     "text": [
      "\n",
      "      Epoch    GPU_mem   box_loss   cls_loss   dfl_loss  Instances       Size\n"
     ]
    },
    {
     "name": "stderr",
     "output_type": "stream",
     "text": [
      "    214/300     0.656G     0.2945     0.2953     0.8559         66        224: 100%|██████████| 266/266 [00:14<00:00, 18.07it/s]\n",
      "                 Class     Images  Instances      Box(P          R      mAP50  mAP50-95): 100%|██████████| 24/24 [00:03<00:00,  6.73it/s]"
     ]
    },
    {
     "name": "stdout",
     "output_type": "stream",
     "text": [
      "                   all       1500       2986      0.983      0.957      0.976      0.961\n"
     ]
    },
    {
     "name": "stderr",
     "output_type": "stream",
     "text": [
      "\n"
     ]
    },
    {
     "name": "stdout",
     "output_type": "stream",
     "text": [
      "\n",
      "      Epoch    GPU_mem   box_loss   cls_loss   dfl_loss  Instances       Size\n"
     ]
    },
    {
     "name": "stderr",
     "output_type": "stream",
     "text": [
      "    215/300     0.656G      0.292     0.2905     0.8544         62        224: 100%|██████████| 266/266 [00:14<00:00, 17.93it/s]\n",
      "                 Class     Images  Instances      Box(P          R      mAP50  mAP50-95): 100%|██████████| 24/24 [00:03<00:00,  6.67it/s]"
     ]
    },
    {
     "name": "stdout",
     "output_type": "stream",
     "text": [
      "                   all       1500       2986      0.984      0.957      0.976       0.96\n"
     ]
    },
    {
     "name": "stderr",
     "output_type": "stream",
     "text": [
      "\n"
     ]
    },
    {
     "name": "stdout",
     "output_type": "stream",
     "text": [
      "\n",
      "      Epoch    GPU_mem   box_loss   cls_loss   dfl_loss  Instances       Size\n"
     ]
    },
    {
     "name": "stderr",
     "output_type": "stream",
     "text": [
      "    216/300     0.656G     0.2897     0.2914     0.8535         74        224: 100%|██████████| 266/266 [00:14<00:00, 17.96it/s]\n",
      "                 Class     Images  Instances      Box(P          R      mAP50  mAP50-95): 100%|██████████| 24/24 [00:03<00:00,  6.73it/s]"
     ]
    },
    {
     "name": "stdout",
     "output_type": "stream",
     "text": [
      "                   all       1500       2986      0.983      0.957      0.976      0.961\n",
      "\n",
      "      Epoch    GPU_mem   box_loss   cls_loss   dfl_loss  Instances       Size\n"
     ]
    },
    {
     "name": "stderr",
     "output_type": "stream",
     "text": [
      "\n",
      "    217/300     0.656G     0.2959     0.2948     0.8565         56        224: 100%|██████████| 266/266 [00:14<00:00, 17.99it/s]\n",
      "                 Class     Images  Instances      Box(P          R      mAP50  mAP50-95): 100%|██████████| 24/24 [00:03<00:00,  6.70it/s]"
     ]
    },
    {
     "name": "stdout",
     "output_type": "stream",
     "text": [
      "                   all       1500       2986      0.984      0.957      0.976      0.961\n"
     ]
    },
    {
     "name": "stderr",
     "output_type": "stream",
     "text": [
      "\n"
     ]
    },
    {
     "name": "stdout",
     "output_type": "stream",
     "text": [
      "\n",
      "      Epoch    GPU_mem   box_loss   cls_loss   dfl_loss  Instances       Size\n"
     ]
    },
    {
     "name": "stderr",
     "output_type": "stream",
     "text": [
      "    218/300     0.656G     0.2926     0.2919     0.8543         63        224: 100%|██████████| 266/266 [00:14<00:00, 18.01it/s]\n",
      "                 Class     Images  Instances      Box(P          R      mAP50  mAP50-95): 100%|██████████| 24/24 [00:03<00:00,  6.71it/s]"
     ]
    },
    {
     "name": "stdout",
     "output_type": "stream",
     "text": [
      "                   all       1500       2986      0.984      0.958      0.976      0.961\n",
      "\n",
      "      Epoch    GPU_mem   box_loss   cls_loss   dfl_loss  Instances       Size\n"
     ]
    },
    {
     "name": "stderr",
     "output_type": "stream",
     "text": [
      "\n",
      "    219/300     0.656G     0.2923      0.289     0.8544         75        224: 100%|██████████| 266/266 [00:14<00:00, 17.97it/s]\n",
      "                 Class     Images  Instances      Box(P          R      mAP50  mAP50-95): 100%|██████████| 24/24 [00:03<00:00,  6.72it/s]"
     ]
    },
    {
     "name": "stdout",
     "output_type": "stream",
     "text": [
      "                   all       1500       2986      0.983      0.958      0.976      0.961\n"
     ]
    },
    {
     "name": "stderr",
     "output_type": "stream",
     "text": [
      "\n"
     ]
    },
    {
     "name": "stdout",
     "output_type": "stream",
     "text": [
      "\n",
      "      Epoch    GPU_mem   box_loss   cls_loss   dfl_loss  Instances       Size\n"
     ]
    },
    {
     "name": "stderr",
     "output_type": "stream",
     "text": [
      "    220/300     0.656G     0.2898     0.2901     0.8543         71        224: 100%|██████████| 266/266 [00:14<00:00, 17.92it/s]\n",
      "                 Class     Images  Instances      Box(P          R      mAP50  mAP50-95): 100%|██████████| 24/24 [00:03<00:00,  6.55it/s]"
     ]
    },
    {
     "name": "stdout",
     "output_type": "stream",
     "text": [
      "                   all       1500       2986      0.982      0.958      0.976      0.961\n",
      "\n",
      "      Epoch    GPU_mem   box_loss   cls_loss   dfl_loss  Instances       Size\n"
     ]
    },
    {
     "name": "stderr",
     "output_type": "stream",
     "text": [
      "\n",
      "    221/300     0.656G     0.2899     0.2909     0.8536         71        224: 100%|██████████| 266/266 [00:14<00:00, 18.07it/s]\n",
      "                 Class     Images  Instances      Box(P          R      mAP50  mAP50-95): 100%|██████████| 24/24 [00:03<00:00,  6.71it/s]"
     ]
    },
    {
     "name": "stdout",
     "output_type": "stream",
     "text": [
      "                   all       1500       2986      0.982      0.958      0.976      0.961\n",
      "\n",
      "      Epoch    GPU_mem   box_loss   cls_loss   dfl_loss  Instances       Size\n"
     ]
    },
    {
     "name": "stderr",
     "output_type": "stream",
     "text": [
      "\n",
      "    222/300     0.656G     0.2893     0.2886      0.854         74        224: 100%|██████████| 266/266 [00:14<00:00, 18.15it/s]\n",
      "                 Class     Images  Instances      Box(P          R      mAP50  mAP50-95): 100%|██████████| 24/24 [00:03<00:00,  6.75it/s]"
     ]
    },
    {
     "name": "stdout",
     "output_type": "stream",
     "text": [
      "                   all       1500       2986      0.983      0.958      0.976      0.961\n"
     ]
    },
    {
     "name": "stderr",
     "output_type": "stream",
     "text": [
      "\n"
     ]
    },
    {
     "name": "stdout",
     "output_type": "stream",
     "text": [
      "\n",
      "      Epoch    GPU_mem   box_loss   cls_loss   dfl_loss  Instances       Size\n"
     ]
    },
    {
     "name": "stderr",
     "output_type": "stream",
     "text": [
      "    223/300     0.656G     0.2904      0.291     0.8542         62        224: 100%|██████████| 266/266 [00:14<00:00, 18.15it/s]\n",
      "                 Class     Images  Instances      Box(P          R      mAP50  mAP50-95): 100%|██████████| 24/24 [00:03<00:00,  6.69it/s]"
     ]
    },
    {
     "name": "stdout",
     "output_type": "stream",
     "text": [
      "                   all       1500       2986      0.982      0.959      0.976      0.961\n"
     ]
    },
    {
     "name": "stderr",
     "output_type": "stream",
     "text": [
      "\n"
     ]
    },
    {
     "name": "stdout",
     "output_type": "stream",
     "text": [
      "\n",
      "      Epoch    GPU_mem   box_loss   cls_loss   dfl_loss  Instances       Size\n"
     ]
    },
    {
     "name": "stderr",
     "output_type": "stream",
     "text": [
      "    224/300     0.656G     0.2893     0.2843     0.8538         47        224: 100%|██████████| 266/266 [00:14<00:00, 18.21it/s]\n",
      "                 Class     Images  Instances      Box(P          R      mAP50  mAP50-95): 100%|██████████| 24/24 [00:03<00:00,  6.62it/s]"
     ]
    },
    {
     "name": "stdout",
     "output_type": "stream",
     "text": [
      "                   all       1500       2986      0.982      0.959      0.976      0.961\n"
     ]
    },
    {
     "name": "stderr",
     "output_type": "stream",
     "text": [
      "\n"
     ]
    },
    {
     "name": "stdout",
     "output_type": "stream",
     "text": [
      "\n",
      "      Epoch    GPU_mem   box_loss   cls_loss   dfl_loss  Instances       Size\n"
     ]
    },
    {
     "name": "stderr",
     "output_type": "stream",
     "text": [
      "    225/300     0.656G     0.2908     0.2861     0.8524         80        224: 100%|██████████| 266/266 [00:14<00:00, 18.16it/s]\n",
      "                 Class     Images  Instances      Box(P          R      mAP50  mAP50-95): 100%|██████████| 24/24 [00:03<00:00,  6.78it/s]"
     ]
    },
    {
     "name": "stdout",
     "output_type": "stream",
     "text": [
      "                   all       1500       2986      0.982      0.959      0.976      0.961\n"
     ]
    },
    {
     "name": "stderr",
     "output_type": "stream",
     "text": [
      "\n"
     ]
    },
    {
     "name": "stdout",
     "output_type": "stream",
     "text": [
      "\n",
      "      Epoch    GPU_mem   box_loss   cls_loss   dfl_loss  Instances       Size\n"
     ]
    },
    {
     "name": "stderr",
     "output_type": "stream",
     "text": [
      "    226/300     0.656G     0.2872     0.2874     0.8509         72        224: 100%|██████████| 266/266 [00:14<00:00, 18.19it/s]\n",
      "                 Class     Images  Instances      Box(P          R      mAP50  mAP50-95): 100%|██████████| 24/24 [00:03<00:00,  6.75it/s]"
     ]
    },
    {
     "name": "stdout",
     "output_type": "stream",
     "text": [
      "                   all       1500       2986      0.982      0.959      0.976      0.961\n"
     ]
    },
    {
     "name": "stderr",
     "output_type": "stream",
     "text": [
      "\n"
     ]
    },
    {
     "name": "stdout",
     "output_type": "stream",
     "text": [
      "\n",
      "      Epoch    GPU_mem   box_loss   cls_loss   dfl_loss  Instances       Size\n"
     ]
    },
    {
     "name": "stderr",
     "output_type": "stream",
     "text": [
      "    227/300     0.656G     0.2924     0.2922     0.8549         60        224: 100%|██████████| 266/266 [00:14<00:00, 18.21it/s]\n",
      "                 Class     Images  Instances      Box(P          R      mAP50  mAP50-95): 100%|██████████| 24/24 [00:03<00:00,  6.74it/s]"
     ]
    },
    {
     "name": "stdout",
     "output_type": "stream",
     "text": [
      "                   all       1500       2986      0.982      0.959      0.976      0.961\n",
      "\n",
      "      Epoch    GPU_mem   box_loss   cls_loss   dfl_loss  Instances       Size\n"
     ]
    },
    {
     "name": "stderr",
     "output_type": "stream",
     "text": [
      "\n",
      "    228/300     0.656G     0.2894     0.2882      0.854         64        224: 100%|██████████| 266/266 [00:14<00:00, 18.21it/s]\n",
      "                 Class     Images  Instances      Box(P          R      mAP50  mAP50-95): 100%|██████████| 24/24 [00:03<00:00,  6.75it/s]"
     ]
    },
    {
     "name": "stdout",
     "output_type": "stream",
     "text": [
      "                   all       1500       2986      0.982      0.959      0.976      0.961\n"
     ]
    },
    {
     "name": "stderr",
     "output_type": "stream",
     "text": [
      "\n"
     ]
    },
    {
     "name": "stdout",
     "output_type": "stream",
     "text": [
      "\n",
      "      Epoch    GPU_mem   box_loss   cls_loss   dfl_loss  Instances       Size\n"
     ]
    },
    {
     "name": "stderr",
     "output_type": "stream",
     "text": [
      "    229/300     0.656G     0.2915     0.2917     0.8557         58        224: 100%|██████████| 266/266 [00:14<00:00, 18.25it/s]\n",
      "                 Class     Images  Instances      Box(P          R      mAP50  mAP50-95): 100%|██████████| 24/24 [00:03<00:00,  6.80it/s]"
     ]
    },
    {
     "name": "stdout",
     "output_type": "stream",
     "text": [
      "                   all       1500       2986      0.983      0.958      0.976      0.961\n"
     ]
    },
    {
     "name": "stderr",
     "output_type": "stream",
     "text": [
      "\n"
     ]
    },
    {
     "name": "stdout",
     "output_type": "stream",
     "text": [
      "\n",
      "      Epoch    GPU_mem   box_loss   cls_loss   dfl_loss  Instances       Size\n"
     ]
    },
    {
     "name": "stderr",
     "output_type": "stream",
     "text": [
      "    230/300     0.656G     0.2905     0.2897     0.8547         57        224: 100%|██████████| 266/266 [00:14<00:00, 18.22it/s]\n",
      "                 Class     Images  Instances      Box(P          R      mAP50  mAP50-95): 100%|██████████| 24/24 [00:03<00:00,  6.76it/s]"
     ]
    },
    {
     "name": "stdout",
     "output_type": "stream",
     "text": [
      "                   all       1500       2986      0.983      0.958      0.976      0.961\n"
     ]
    },
    {
     "name": "stderr",
     "output_type": "stream",
     "text": [
      "\n"
     ]
    },
    {
     "name": "stdout",
     "output_type": "stream",
     "text": [
      "\n",
      "      Epoch    GPU_mem   box_loss   cls_loss   dfl_loss  Instances       Size\n"
     ]
    },
    {
     "name": "stderr",
     "output_type": "stream",
     "text": [
      "    231/300     0.656G      0.289     0.2876     0.8539         71        224: 100%|██████████| 266/266 [00:14<00:00, 18.20it/s]\n",
      "                 Class     Images  Instances      Box(P          R      mAP50  mAP50-95): 100%|██████████| 24/24 [00:03<00:00,  6.77it/s]"
     ]
    },
    {
     "name": "stdout",
     "output_type": "stream",
     "text": [
      "                   all       1500       2986      0.982      0.957      0.976       0.96\n",
      "\n",
      "      Epoch    GPU_mem   box_loss   cls_loss   dfl_loss  Instances       Size\n"
     ]
    },
    {
     "name": "stderr",
     "output_type": "stream",
     "text": [
      "\n",
      "    232/300     0.656G     0.2918     0.2902     0.8548         93        224: 100%|██████████| 266/266 [00:14<00:00, 18.24it/s]\n",
      "                 Class     Images  Instances      Box(P          R      mAP50  mAP50-95): 100%|██████████| 24/24 [00:03<00:00,  6.53it/s]"
     ]
    },
    {
     "name": "stdout",
     "output_type": "stream",
     "text": [
      "                   all       1500       2986      0.982      0.957      0.976      0.961\n"
     ]
    },
    {
     "name": "stderr",
     "output_type": "stream",
     "text": [
      "\n"
     ]
    },
    {
     "name": "stdout",
     "output_type": "stream",
     "text": [
      "\n",
      "      Epoch    GPU_mem   box_loss   cls_loss   dfl_loss  Instances       Size\n"
     ]
    },
    {
     "name": "stderr",
     "output_type": "stream",
     "text": [
      "    233/300     0.656G     0.2895     0.2858     0.8537         62        224: 100%|██████████| 266/266 [00:14<00:00, 18.13it/s]\n",
      "                 Class     Images  Instances      Box(P          R      mAP50  mAP50-95): 100%|██████████| 24/24 [00:03<00:00,  6.75it/s]"
     ]
    },
    {
     "name": "stdout",
     "output_type": "stream",
     "text": [
      "                   all       1500       2986      0.982      0.957      0.976      0.961\n"
     ]
    },
    {
     "name": "stderr",
     "output_type": "stream",
     "text": [
      "\n"
     ]
    },
    {
     "name": "stdout",
     "output_type": "stream",
     "text": [
      "\n",
      "      Epoch    GPU_mem   box_loss   cls_loss   dfl_loss  Instances       Size\n"
     ]
    },
    {
     "name": "stderr",
     "output_type": "stream",
     "text": [
      "    234/300     0.656G     0.2865     0.2815     0.8539         70        224: 100%|██████████| 266/266 [00:14<00:00, 18.07it/s]\n",
      "                 Class     Images  Instances      Box(P          R      mAP50  mAP50-95): 100%|██████████| 24/24 [00:03<00:00,  6.76it/s]"
     ]
    },
    {
     "name": "stdout",
     "output_type": "stream",
     "text": [
      "                   all       1500       2986      0.982      0.957      0.976       0.96\n"
     ]
    },
    {
     "name": "stderr",
     "output_type": "stream",
     "text": [
      "\n"
     ]
    },
    {
     "name": "stdout",
     "output_type": "stream",
     "text": [
      "\n",
      "      Epoch    GPU_mem   box_loss   cls_loss   dfl_loss  Instances       Size\n"
     ]
    },
    {
     "name": "stderr",
     "output_type": "stream",
     "text": [
      "    235/300     0.656G     0.2877     0.2875     0.8538         63        224: 100%|██████████| 266/266 [00:14<00:00, 18.01it/s]\n",
      "                 Class     Images  Instances      Box(P          R      mAP50  mAP50-95): 100%|██████████| 24/24 [00:03<00:00,  6.79it/s]"
     ]
    },
    {
     "name": "stdout",
     "output_type": "stream",
     "text": [
      "                   all       1500       2986      0.982      0.958      0.975      0.961\n",
      "\n",
      "      Epoch    GPU_mem   box_loss   cls_loss   dfl_loss  Instances       Size\n"
     ]
    },
    {
     "name": "stderr",
     "output_type": "stream",
     "text": [
      "\n",
      "    236/300     0.656G     0.2869     0.2845      0.854         51        224: 100%|██████████| 266/266 [00:14<00:00, 18.25it/s]\n",
      "                 Class     Images  Instances      Box(P          R      mAP50  mAP50-95): 100%|██████████| 24/24 [00:03<00:00,  6.76it/s]"
     ]
    },
    {
     "name": "stdout",
     "output_type": "stream",
     "text": [
      "                   all       1500       2986      0.981      0.958      0.975      0.961\n"
     ]
    },
    {
     "name": "stderr",
     "output_type": "stream",
     "text": [
      "\n"
     ]
    },
    {
     "name": "stdout",
     "output_type": "stream",
     "text": [
      "\n",
      "      Epoch    GPU_mem   box_loss   cls_loss   dfl_loss  Instances       Size\n"
     ]
    },
    {
     "name": "stderr",
     "output_type": "stream",
     "text": [
      "    237/300     0.656G     0.2862     0.2848     0.8523         77        224: 100%|██████████| 266/266 [00:14<00:00, 18.11it/s]\n",
      "                 Class     Images  Instances      Box(P          R      mAP50  mAP50-95): 100%|██████████| 24/24 [00:03<00:00,  6.58it/s]"
     ]
    },
    {
     "name": "stdout",
     "output_type": "stream",
     "text": [
      "                   all       1500       2986      0.981      0.958      0.975      0.961\n"
     ]
    },
    {
     "name": "stderr",
     "output_type": "stream",
     "text": [
      "\n"
     ]
    },
    {
     "name": "stdout",
     "output_type": "stream",
     "text": [
      "\n",
      "      Epoch    GPU_mem   box_loss   cls_loss   dfl_loss  Instances       Size\n"
     ]
    },
    {
     "name": "stderr",
     "output_type": "stream",
     "text": [
      "    238/300     0.656G     0.2861     0.2837     0.8533         56        224: 100%|██████████| 266/266 [00:14<00:00, 18.00it/s]\n",
      "                 Class     Images  Instances      Box(P          R      mAP50  mAP50-95): 100%|██████████| 24/24 [00:03<00:00,  6.66it/s]"
     ]
    },
    {
     "name": "stdout",
     "output_type": "stream",
     "text": [
      "                   all       1500       2986      0.982      0.957      0.975      0.961\n",
      "\n",
      "      Epoch    GPU_mem   box_loss   cls_loss   dfl_loss  Instances       Size\n"
     ]
    },
    {
     "name": "stderr",
     "output_type": "stream",
     "text": [
      "\n",
      "    239/300     0.656G     0.2877     0.2858     0.8534         91        224: 100%|██████████| 266/266 [00:14<00:00, 18.15it/s]\n",
      "                 Class     Images  Instances      Box(P          R      mAP50  mAP50-95): 100%|██████████| 24/24 [00:03<00:00,  6.66it/s]"
     ]
    },
    {
     "name": "stdout",
     "output_type": "stream",
     "text": [
      "                   all       1500       2986      0.982      0.958      0.975      0.961\n",
      "\n",
      "      Epoch    GPU_mem   box_loss   cls_loss   dfl_loss  Instances       Size\n"
     ]
    },
    {
     "name": "stderr",
     "output_type": "stream",
     "text": [
      "\n",
      "    240/300     0.656G     0.2856     0.2828     0.8523         75        224: 100%|██████████| 266/266 [00:14<00:00, 18.12it/s]\n",
      "                 Class     Images  Instances      Box(P          R      mAP50  mAP50-95): 100%|██████████| 24/24 [00:03<00:00,  6.74it/s]"
     ]
    },
    {
     "name": "stdout",
     "output_type": "stream",
     "text": [
      "                   all       1500       2986      0.981      0.958      0.975      0.961\n"
     ]
    },
    {
     "name": "stderr",
     "output_type": "stream",
     "text": [
      "\n"
     ]
    },
    {
     "name": "stdout",
     "output_type": "stream",
     "text": [
      "\n",
      "      Epoch    GPU_mem   box_loss   cls_loss   dfl_loss  Instances       Size\n"
     ]
    },
    {
     "name": "stderr",
     "output_type": "stream",
     "text": [
      "    241/300     0.656G     0.2856     0.2857     0.8531         77        224: 100%|██████████| 266/266 [00:14<00:00, 17.96it/s]\n",
      "                 Class     Images  Instances      Box(P          R      mAP50  mAP50-95): 100%|██████████| 24/24 [00:03<00:00,  6.76it/s]"
     ]
    },
    {
     "name": "stdout",
     "output_type": "stream",
     "text": [
      "                   all       1500       2986      0.979       0.96      0.975       0.96\n",
      "\n",
      "      Epoch    GPU_mem   box_loss   cls_loss   dfl_loss  Instances       Size\n"
     ]
    },
    {
     "name": "stderr",
     "output_type": "stream",
     "text": [
      "\n",
      "    242/300     0.656G      0.287     0.2844     0.8547         64        224: 100%|██████████| 266/266 [00:14<00:00, 18.07it/s]\n",
      "                 Class     Images  Instances      Box(P          R      mAP50  mAP50-95): 100%|██████████| 24/24 [00:03<00:00,  6.74it/s]"
     ]
    },
    {
     "name": "stdout",
     "output_type": "stream",
     "text": [
      "                   all       1500       2986      0.979       0.96      0.975       0.96\n"
     ]
    },
    {
     "name": "stderr",
     "output_type": "stream",
     "text": [
      "\n"
     ]
    },
    {
     "name": "stdout",
     "output_type": "stream",
     "text": [
      "\n",
      "      Epoch    GPU_mem   box_loss   cls_loss   dfl_loss  Instances       Size\n"
     ]
    },
    {
     "name": "stderr",
     "output_type": "stream",
     "text": [
      "    243/300     0.656G     0.2851     0.2826     0.8538         78        224: 100%|██████████| 266/266 [00:14<00:00, 18.10it/s]\n",
      "                 Class     Images  Instances      Box(P          R      mAP50  mAP50-95): 100%|██████████| 24/24 [00:03<00:00,  6.77it/s]"
     ]
    },
    {
     "name": "stdout",
     "output_type": "stream",
     "text": [
      "                   all       1500       2986      0.979       0.96      0.975       0.96\n",
      "\n",
      "      Epoch    GPU_mem   box_loss   cls_loss   dfl_loss  Instances       Size\n"
     ]
    },
    {
     "name": "stderr",
     "output_type": "stream",
     "text": [
      "\n",
      "    244/300     0.656G      0.286      0.283     0.8538         64        224: 100%|██████████| 266/266 [00:14<00:00, 17.92it/s]\n",
      "                 Class     Images  Instances      Box(P          R      mAP50  mAP50-95): 100%|██████████| 24/24 [00:03<00:00,  6.69it/s]"
     ]
    },
    {
     "name": "stdout",
     "output_type": "stream",
     "text": [
      "                   all       1500       2986      0.982      0.957      0.975       0.96\n",
      "\u001b[34m\u001b[1mEarlyStopping: \u001b[0mTraining stopped early as no improvement observed in last 50 epochs. Best results observed at epoch 194, best model saved as best.pt.\n",
      "To update EarlyStopping(patience=50) pass a new patience value, i.e. `patience=300` or use `patience=0` to disable EarlyStopping.\n"
     ]
    },
    {
     "name": "stderr",
     "output_type": "stream",
     "text": [
      "\n"
     ]
    },
    {
     "name": "stdout",
     "output_type": "stream",
     "text": [
      "\n",
      "244 epochs completed in 1.309 hours.\n",
      "Optimizer stripped from runs\\synthetic_extreme_yolov8n3\\weights\\last.pt, 6.2MB\n",
      "Optimizer stripped from runs\\synthetic_extreme_yolov8n3\\weights\\best.pt, 6.2MB\n",
      "\n",
      "Validating runs\\synthetic_extreme_yolov8n3\\weights\\best.pt...\n",
      "Ultralytics 8.3.141  Python-3.9.18 torch-2.5.1+cu121 CUDA:0 (NVIDIA GeForce RTX 3070 Ti, 8192MiB)\n",
      "Model summary (fused): 72 layers, 3,007,793 parameters, 0 gradients, 8.1 GFLOPs\n"
     ]
    },
    {
     "name": "stderr",
     "output_type": "stream",
     "text": [
      "                 Class     Images  Instances      Box(P          R      mAP50  mAP50-95): 100%|██████████| 24/24 [00:04<00:00,  5.17it/s]\n"
     ]
    },
    {
     "name": "stdout",
     "output_type": "stream",
     "text": [
      "                   all       1500       2986      0.984      0.956      0.977      0.961\n",
      "                  blue        252        252      0.996       0.98      0.986      0.973\n",
      "                   red        265        265          1      0.961      0.975      0.958\n",
      "                orange        269        269      0.991      0.827      0.955      0.932\n",
      "                yellow        242        242      0.862      0.952      0.948      0.937\n",
      "                purple        261        261      0.991      0.981      0.994      0.977\n",
      "                 brown        285        285          1      0.968      0.979      0.968\n",
      "                  gray        277        277          1      0.972      0.986      0.963\n",
      "                 black        283        283      0.997      0.982      0.993      0.984\n",
      "                  pink        281        281      0.996      0.969       0.98      0.966\n",
      "                 white        292        292      0.993      0.973      0.985      0.964\n",
      "                 green        279        279      0.996      0.953      0.968      0.952\n",
      "Speed: 0.0ms preprocess, 0.3ms inference, 0.0ms loss, 0.8ms postprocess per image\n",
      "Results saved to \u001b[1mruns\\synthetic_extreme_yolov8n3\u001b[0m\n",
      "Ultralytics 8.3.141  Python-3.9.18 torch-2.5.1+cu121 CUDA:0 (NVIDIA GeForce RTX 3070 Ti, 8192MiB)\n",
      "Model summary (fused): 72 layers, 3,007,793 parameters, 0 gradients, 8.1 GFLOPs\n",
      "\u001b[34m\u001b[1mval: \u001b[0mFast image access  (ping: 0.00.0 ms, read: 339.3185.9 MB/s, size: 20.0 KB)\n"
     ]
    },
    {
     "name": "stderr",
     "output_type": "stream",
     "text": [
      "\u001b[34m\u001b[1mval: \u001b[0mScanning C:\\Users\\fredr\\BTH\\Robotik Project\\Robotics\\21MajFiles\\apa\\synthetic_squares_extreme_fullbox\\labels\\val.cache... 1500 images, 0 backgrounds, 0 corrupt: 100%|██████████| 1500/1500 [00:00<?, ?it/s]\n",
      "                 Class     Images  Instances      Box(P          R      mAP50  mAP50-95): 100%|██████████| 47/47 [00:04<00:00,  9.81it/s]\n"
     ]
    },
    {
     "name": "stdout",
     "output_type": "stream",
     "text": [
      "                   all       1500       2986      0.984      0.956      0.977      0.961\n",
      "                  blue        252        252      0.996       0.98      0.986      0.973\n",
      "                   red        265        265          1      0.961      0.975      0.958\n",
      "                orange        269        269      0.991      0.827      0.955      0.934\n",
      "                yellow        242        242      0.862      0.953      0.948      0.936\n",
      "                purple        261        261      0.991      0.981      0.994      0.977\n",
      "                 brown        285        285          1      0.968      0.979      0.968\n",
      "                  gray        277        277          1      0.972      0.986      0.962\n",
      "                 black        283        283      0.997      0.982      0.993      0.984\n",
      "                  pink        281        281      0.996      0.969       0.98      0.966\n",
      "                 white        292        292      0.993      0.973      0.985      0.964\n",
      "                 green        279        279      0.996      0.953      0.968      0.953\n",
      "Speed: 0.0ms preprocess, 0.6ms inference, 0.0ms loss, 0.6ms postprocess per image\n",
      "Results saved to \u001b[1mruns\\synthetic_extreme_yolov8n32\u001b[0m\n"
     ]
    }
   ],
   "source": [
    "import torch\n",
    "print(\"CUDA available?\", torch.cuda.is_available())\n",
    "print(\"CUDA device count:\", torch.cuda.device_count())\n",
    "if torch.cuda.is_available():\n",
    "    print(\"Current device:\", torch.cuda.current_device(), torch.cuda.get_device_name(torch.cuda.current_device()))\n",
    "else:\n",
    "    print(\"WARNING: No GPU found. Training will be very slow.\")\n",
    "\n",
    "from ultralytics import YOLO\n",
    "\n",
    "yaml_path = r\"C:\\Users\\fredr\\BTH\\Robotik Project\\Robotics\\21MajFiles\\apa\\synthetic_squares_extreme_fullbox\\synthetic_extreme.yaml\"\n",
    "\n",
    "# Use YOLOv8n for Jetbot compatibility!\n",
    "model = YOLO('yolov8n.pt')\n",
    "\n",
    "results = model.train(\n",
    "    data=yaml_path,\n",
    "    epochs=300,\n",
    "    imgsz=224,\n",
    "    patience=50,\n",
    "    batch=32,               # Try 32, or lower if OOM\n",
    "    lr0=0.001,\n",
    "    optimizer='SGD',\n",
    "    device=0,               # GPU\n",
    "    project='runs',\n",
    "    name='synthetic_extreme_yolov8n',\n",
    "    cos_lr=True             # Cosine LR\n",
    ")\n",
    "\n",
    "metrics = model.val()\n"
   ]
  },
  {
   "cell_type": "code",
   "execution_count": 1,
   "id": "ee9fd043",
   "metadata": {},
   "outputs": [
    {
     "name": "stdout",
     "output_type": "stream",
     "text": [
      "True\n",
      "NVIDIA GeForce RTX 3070 Ti\n"
     ]
    }
   ],
   "source": [
    "import torch\n",
    "print(torch.cuda.is_available())\n",
    "print(torch.cuda.get_device_name(0))\n"
   ]
  },
  {
   "cell_type": "code",
   "execution_count": 2,
   "id": "9cfce65e",
   "metadata": {},
   "outputs": [
    {
     "name": "stdout",
     "output_type": "stream",
     "text": [
      "^C\n",
      "Note: you may need to restart the kernel to use updated packages.\n"
     ]
    },
    {
     "name": "stdout",
     "output_type": "stream",
     "text": [
      "Looking in indexes: https://download.pytorch.org/whl/cu121\n",
      "Requirement already satisfied: torch in c:\\users\\fredr\\anaconda3\\lib\\site-packages (2.0.1)\n",
      "Requirement already satisfied: torchvision in c:\\users\\fredr\\anaconda3\\lib\\site-packages (0.20.1+cu121)\n",
      "Requirement already satisfied: torchaudio in c:\\users\\fredr\\anaconda3\\lib\\site-packages (2.5.1+cu121)\n",
      "Requirement already satisfied: filelock in c:\\users\\fredr\\anaconda3\\lib\\site-packages (from torch) (3.9.0)\n",
      "Requirement already satisfied: typing-extensions in c:\\users\\fredr\\anaconda3\\lib\\site-packages (from torch) (4.12.2)\n",
      "Requirement already satisfied: sympy in c:\\users\\fredr\\anaconda3\\lib\\site-packages (from torch) (1.13.1)\n",
      "Requirement already satisfied: networkx in c:\\users\\fredr\\anaconda3\\lib\\site-packages (from torch) (3.1)\n",
      "Requirement already satisfied: jinja2 in c:\\users\\fredr\\anaconda3\\lib\\site-packages (from torch) (3.1.2)\n",
      "Requirement already satisfied: numpy in c:\\users\\fredr\\anaconda3\\lib\\site-packages (from torchvision) (1.25.2)\n",
      "Collecting torch\n",
      "  Using cached https://download.pytorch.org/whl/cu121/torch-2.5.1%2Bcu121-cp39-cp39-win_amd64.whl (2449.3 MB)\n",
      "Requirement already satisfied: pillow!=8.3.*,>=5.3.0 in c:\\users\\fredr\\anaconda3\\lib\\site-packages (from torchvision) (10.0.1)\n",
      "Requirement already satisfied: fsspec in c:\\users\\fredr\\anaconda3\\lib\\site-packages (from torch) (2023.9.2)\n",
      "Requirement already satisfied: mpmath<1.4,>=1.1.0 in c:\\users\\fredr\\anaconda3\\lib\\site-packages (from sympy->torch) (1.3.0)\n",
      "Requirement already satisfied: MarkupSafe>=2.0 in c:\\users\\fredr\\anaconda3\\lib\\site-packages (from jinja2->torch) (2.0.1)\n",
      "Installing collected packages: torch\n",
      "  Attempting uninstall: torch\n",
      "    Found existing installation: torch 2.0.1\n",
      "    Uninstalling torch-2.0.1:\n",
      "      Successfully uninstalled torch-2.0.1\n",
      "Successfully installed torch-2.5.1+cu121\n"
     ]
    },
    {
     "name": "stderr",
     "output_type": "stream",
     "text": [
      "DEPRECATION: uiutil 1.38.0 has a non-standard dependency specifier future>=0.16.0attrs>=16.3.0. pip 24.0 will enforce this behaviour change. A possible replacement is to upgrade to a newer version of uiutil or contact the author to suggest that they release a version with a conforming dependency specifiers. Discussion can be found at https://github.com/pypa/pip/issues/12063\n",
      "  WARNING: Failed to remove contents in a temporary directory 'C:\\Users\\fredr\\anaconda3\\Lib\\site-packages\\~=rch'.\n",
      "  You can safely remove it manually.\n",
      "WARNING: There was an error checking the latest version of pip.\n"
     ]
    }
   ],
   "source": [
    "\n",
    "pip install torch torchvision torchaudio --index-url https://download.pytorch.org/whl/cu121\n"
   ]
  },
  {
   "cell_type": "code",
   "execution_count": 2,
   "id": "9a8bdf1f",
   "metadata": {},
   "outputs": [
    {
     "name": "stdout",
     "output_type": "stream",
     "text": [
      "\n",
      "image 1/1 C:\\Users\\fredr\\BTH\\Robotik Project\\Robotics\\yolo_dataset\\images\\train\\blue_20250521-110915-682658.jpg: 224x224 2 whites, 12.4ms\n",
      "Speed: 1.2ms preprocess, 12.4ms inference, 1.5ms postprocess per image at shape (1, 3, 224, 224)\n",
      "\n",
      "image 1/1 C:\\Users\\fredr\\BTH\\Robotik Project\\Robotics\\yolo_dataset\\images\\train\\blue_20250521-110915-962759.jpg: 224x224 1 brown, 1 white, 14.4ms\n",
      "Speed: 0.9ms preprocess, 14.4ms inference, 3.9ms postprocess per image at shape (1, 3, 224, 224)\n",
      "\n",
      "image 1/1 C:\\Users\\fredr\\BTH\\Robotik Project\\Robotics\\yolo_dataset\\images\\train\\blue_20250521-110920-333864.jpg: 224x224 1 white, 18.1ms\n",
      "Speed: 0.7ms preprocess, 18.1ms inference, 5.0ms postprocess per image at shape (1, 3, 224, 224)\n",
      "\n",
      "image 1/1 C:\\Users\\fredr\\BTH\\Robotik Project\\Robotics\\yolo_dataset\\images\\train\\blue_20250521-110925-724138.jpg: 224x224 3 browns, 26.0ms\n",
      "Speed: 0.6ms preprocess, 26.0ms inference, 1.5ms postprocess per image at shape (1, 3, 224, 224)\n",
      "\n",
      "image 1/1 C:\\Users\\fredr\\BTH\\Robotik Project\\Robotics\\yolo_dataset\\images\\train\\blue_20250521-110926-021988.jpg: 224x224 2 browns, 1 black, 2 whites, 15.4ms\n",
      "Speed: 0.7ms preprocess, 15.4ms inference, 1.5ms postprocess per image at shape (1, 3, 224, 224)\n",
      "\n",
      "image 1/1 C:\\Users\\fredr\\BTH\\Robotik Project\\Robotics\\yolo_dataset\\images\\train\\blue_20250521-110926-300071.jpg: 224x224 2 browns, 1 black, 2 whites, 21.8ms\n",
      "Speed: 0.7ms preprocess, 21.8ms inference, 4.3ms postprocess per image at shape (1, 3, 224, 224)\n",
      "\n",
      "image 1/1 C:\\Users\\fredr\\BTH\\Robotik Project\\Robotics\\yolo_dataset\\images\\train\\blue_20250521-110926-888394.jpg: 224x224 2 browns, 2 whites, 9.8ms\n",
      "Speed: 0.7ms preprocess, 9.8ms inference, 4.4ms postprocess per image at shape (1, 3, 224, 224)\n",
      "\n",
      "image 1/1 C:\\Users\\fredr\\BTH\\Robotik Project\\Robotics\\yolo_dataset\\images\\train\\blue_20250521-110927-480894.jpg: 224x224 2 browns, 1 white, 8.4ms\n",
      "Speed: 2.3ms preprocess, 8.4ms inference, 4.2ms postprocess per image at shape (1, 3, 224, 224)\n",
      "\n",
      "image 1/1 C:\\Users\\fredr\\BTH\\Robotik Project\\Robotics\\yolo_dataset\\images\\train\\blue_20250521-110928-122124.jpg: 224x224 1 brown, 1 black, 2 whites, 8.6ms\n",
      "Speed: 0.6ms preprocess, 8.6ms inference, 2.4ms postprocess per image at shape (1, 3, 224, 224)\n",
      "\n",
      "image 1/1 C:\\Users\\fredr\\BTH\\Robotik Project\\Robotics\\yolo_dataset\\images\\train\\blue_20250521-110929-088707.jpg: 224x224 2 browns, 1 white, 9.4ms\n",
      "Speed: 0.7ms preprocess, 9.4ms inference, 1.4ms postprocess per image at shape (1, 3, 224, 224)\n",
      "\n",
      "image 1/1 C:\\Users\\fredr\\BTH\\Robotik Project\\Robotics\\yolo_dataset\\images\\train\\blue_20250521-110935-546501.jpg: 224x224 1 gray, 1 white, 13.5ms\n",
      "Speed: 0.6ms preprocess, 13.5ms inference, 1.4ms postprocess per image at shape (1, 3, 224, 224)\n",
      "\n",
      "image 1/1 C:\\Users\\fredr\\BTH\\Robotik Project\\Robotics\\yolo_dataset\\images\\train\\blue_20250521-110940-008538.jpg: 224x224 1 gray, 1 black, 10.6ms\n",
      "Speed: 1.0ms preprocess, 10.6ms inference, 1.2ms postprocess per image at shape (1, 3, 224, 224)\n",
      "\n",
      "image 1/1 C:\\Users\\fredr\\BTH\\Robotik Project\\Robotics\\yolo_dataset\\images\\train\\blue_20250521-110940-607466.jpg: 224x224 1 brown, 2 grays, 1 black, 8.9ms\n",
      "Speed: 1.1ms preprocess, 8.9ms inference, 1.4ms postprocess per image at shape (1, 3, 224, 224)\n",
      "\n",
      "image 1/1 C:\\Users\\fredr\\BTH\\Robotik Project\\Robotics\\yolo_dataset\\images\\train\\blue_20250521-110941-216159.jpg: 224x224 2 browns, 8.1ms\n",
      "Speed: 0.7ms preprocess, 8.1ms inference, 3.6ms postprocess per image at shape (1, 3, 224, 224)\n",
      "\n",
      "image 1/1 C:\\Users\\fredr\\BTH\\Robotik Project\\Robotics\\yolo_dataset\\images\\train\\blue_20250521-110959-515512.jpg: 224x224 3 browns, 2 whites, 8.6ms\n",
      "Speed: 0.8ms preprocess, 8.6ms inference, 1.3ms postprocess per image at shape (1, 3, 224, 224)\n",
      "\n",
      "image 1/1 C:\\Users\\fredr\\BTH\\Robotik Project\\Robotics\\yolo_dataset\\images\\train\\blue_20250521-111031-404255.jpg: 224x224 3 browns, 2 whites, 9.4ms\n",
      "Speed: 0.6ms preprocess, 9.4ms inference, 1.2ms postprocess per image at shape (1, 3, 224, 224)\n",
      "\n",
      "image 1/1 C:\\Users\\fredr\\BTH\\Robotik Project\\Robotics\\yolo_dataset\\images\\train\\blue_20250521-111031-704698.jpg: 224x224 3 browns, 2 whites, 8.4ms\n",
      "Speed: 0.6ms preprocess, 8.4ms inference, 1.4ms postprocess per image at shape (1, 3, 224, 224)\n",
      "\n",
      "image 1/1 C:\\Users\\fredr\\BTH\\Robotik Project\\Robotics\\yolo_dataset\\images\\train\\blue_20250521-111037-179557.jpg: 224x224 1 brown, 1 white, 6.4ms\n",
      "Speed: 0.6ms preprocess, 6.4ms inference, 1.3ms postprocess per image at shape (1, 3, 224, 224)\n",
      "\n",
      "image 1/1 C:\\Users\\fredr\\BTH\\Robotik Project\\Robotics\\yolo_dataset\\images\\train\\blue_20250521-111037-487824.jpg: 224x224 1 brown, 2 whites, 6.5ms\n",
      "Speed: 0.5ms preprocess, 6.5ms inference, 2.9ms postprocess per image at shape (1, 3, 224, 224)\n",
      "\n",
      "image 1/1 C:\\Users\\fredr\\BTH\\Robotik Project\\Robotics\\yolo_dataset\\images\\train\\blue_20250521-111038-353983.jpg: 224x224 1 brown, 4.8ms\n",
      "Speed: 0.6ms preprocess, 4.8ms inference, 3.0ms postprocess per image at shape (1, 3, 224, 224)\n",
      "\n",
      "image 1/1 C:\\Users\\fredr\\BTH\\Robotik Project\\Robotics\\yolo_dataset\\images\\train\\blue_20250521-111038-937387.jpg: 224x224 2 browns, 1 white, 5.0ms\n",
      "Speed: 1.0ms preprocess, 5.0ms inference, 2.8ms postprocess per image at shape (1, 3, 224, 224)\n",
      "\n",
      "image 1/1 C:\\Users\\fredr\\BTH\\Robotik Project\\Robotics\\yolo_dataset\\images\\train\\blue_20250521-111039-239997.jpg: 224x224 2 browns, 2 whites, 5.0ms\n",
      "Speed: 0.6ms preprocess, 5.0ms inference, 3.2ms postprocess per image at shape (1, 3, 224, 224)\n",
      "\n",
      "image 1/1 C:\\Users\\fredr\\BTH\\Robotik Project\\Robotics\\yolo_dataset\\images\\train\\blue_20250521-111039-533325.jpg: 224x224 3 browns, 2 whites, 6.7ms\n",
      "Speed: 0.5ms preprocess, 6.7ms inference, 1.3ms postprocess per image at shape (1, 3, 224, 224)\n",
      "\n",
      "image 1/1 C:\\Users\\fredr\\BTH\\Robotik Project\\Robotics\\yolo_dataset\\images\\train\\blue_20250521-111039-819383.jpg: 224x224 3 browns, 1 white, 6.4ms\n",
      "Speed: 2.1ms preprocess, 6.4ms inference, 2.0ms postprocess per image at shape (1, 3, 224, 224)\n",
      "\n",
      "image 1/1 C:\\Users\\fredr\\BTH\\Robotik Project\\Robotics\\yolo_dataset\\images\\train\\blue_20250521-111043-363917.jpg: 224x224 4 browns, 3 whites, 5.1ms\n",
      "Speed: 0.8ms preprocess, 5.1ms inference, 2.8ms postprocess per image at shape (1, 3, 224, 224)\n",
      "\n",
      "image 1/1 C:\\Users\\fredr\\BTH\\Robotik Project\\Robotics\\yolo_dataset\\images\\train\\blue_20250521-111044-533669.jpg: 224x224 2 browns, 3 whites, 6.0ms\n",
      "Speed: 0.5ms preprocess, 6.0ms inference, 1.8ms postprocess per image at shape (1, 3, 224, 224)\n",
      "\n",
      "image 1/1 C:\\Users\\fredr\\BTH\\Robotik Project\\Robotics\\yolo_dataset\\images\\train\\blue_20250521-111045-123291.jpg: 224x224 3 browns, 2 grays, 1 black, 2 whites, 6.6ms\n",
      "Speed: 0.5ms preprocess, 6.6ms inference, 1.3ms postprocess per image at shape (1, 3, 224, 224)\n",
      "\n",
      "image 1/1 C:\\Users\\fredr\\BTH\\Robotik Project\\Robotics\\yolo_dataset\\images\\train\\blue_20250521-111045-748344.jpg: 224x224 2 browns, 1 gray, 2 whites, 7.4ms\n",
      "Speed: 1.2ms preprocess, 7.4ms inference, 3.8ms postprocess per image at shape (1, 3, 224, 224)\n",
      "\n",
      "image 1/1 C:\\Users\\fredr\\BTH\\Robotik Project\\Robotics\\yolo_dataset\\images\\train\\blue_20250521-111046-040455.jpg: 224x224 2 browns, 2 grays, 1 black, 2 whites, 7.7ms\n",
      "Speed: 0.6ms preprocess, 7.7ms inference, 1.4ms postprocess per image at shape (1, 3, 224, 224)\n",
      "\n",
      "image 1/1 C:\\Users\\fredr\\BTH\\Robotik Project\\Robotics\\yolo_dataset\\images\\train\\blue_20250521-111046-649345.jpg: 224x224 2 browns, 1 black, 2 whites, 6.7ms\n",
      "Speed: 0.6ms preprocess, 6.7ms inference, 2.1ms postprocess per image at shape (1, 3, 224, 224)\n",
      "\n",
      "image 1/1 C:\\Users\\fredr\\BTH\\Robotik Project\\Robotics\\yolo_dataset\\images\\train\\blue_20250521-111047-540331.jpg: 224x224 1 brown, 1 black, 2 whites, 4.6ms\n",
      "Speed: 0.5ms preprocess, 4.6ms inference, 3.1ms postprocess per image at shape (1, 3, 224, 224)\n",
      "\n",
      "image 1/1 C:\\Users\\fredr\\BTH\\Robotik Project\\Robotics\\yolo_dataset\\images\\train\\blue_20250521-111048-124073.jpg: 224x224 1 brown, 1 white, 5.6ms\n",
      "Speed: 0.5ms preprocess, 5.6ms inference, 1.7ms postprocess per image at shape (1, 3, 224, 224)\n",
      "\n",
      "image 1/1 C:\\Users\\fredr\\BTH\\Robotik Project\\Robotics\\yolo_dataset\\images\\train\\blue_20250521-111048-418027.jpg: 224x224 2 browns, 1 gray, 2 whites, 4.7ms\n",
      "Speed: 0.5ms preprocess, 4.7ms inference, 3.6ms postprocess per image at shape (1, 3, 224, 224)\n",
      "\n",
      "image 1/1 C:\\Users\\fredr\\BTH\\Robotik Project\\Robotics\\yolo_dataset\\images\\train\\blue_20250521-111048-707067.jpg: 224x224 2 browns, 1 black, 1 white, 6.7ms\n",
      "Speed: 0.6ms preprocess, 6.7ms inference, 1.4ms postprocess per image at shape (1, 3, 224, 224)\n",
      "\n",
      "image 1/1 C:\\Users\\fredr\\BTH\\Robotik Project\\Robotics\\yolo_dataset\\images\\train\\blue_20250521-111052-565519.jpg: 224x224 (no detections), 6.3ms\n",
      "Speed: 0.6ms preprocess, 6.3ms inference, 0.6ms postprocess per image at shape (1, 3, 224, 224)\n",
      "\n",
      "image 1/1 C:\\Users\\fredr\\BTH\\Robotik Project\\Robotics\\yolo_dataset\\images\\train\\blue_20250521-111101-100637.jpg: 224x224 1 white, 7.8ms\n",
      "Speed: 0.6ms preprocess, 7.8ms inference, 1.3ms postprocess per image at shape (1, 3, 224, 224)\n",
      "\n",
      "image 1/1 C:\\Users\\fredr\\BTH\\Robotik Project\\Robotics\\yolo_dataset\\images\\train\\blue_20250521-111108-665562.jpg: 224x224 1 brown, 1 black, 7.0ms\n",
      "Speed: 1.2ms preprocess, 7.0ms inference, 3.8ms postprocess per image at shape (1, 3, 224, 224)\n",
      "\n",
      "image 1/1 C:\\Users\\fredr\\BTH\\Robotik Project\\Robotics\\yolo_dataset\\images\\train\\blue_20250521-111110-690144.jpg: 224x224 1 gray, 1 black, 6.6ms\n",
      "Speed: 0.5ms preprocess, 6.6ms inference, 1.2ms postprocess per image at shape (1, 3, 224, 224)\n",
      "\n",
      "image 1/1 C:\\Users\\fredr\\BTH\\Robotik Project\\Robotics\\yolo_dataset\\images\\train\\blue_20250521-111111-843567.jpg: 224x224 1 black, 4.6ms\n",
      "Speed: 0.5ms preprocess, 4.6ms inference, 3.5ms postprocess per image at shape (1, 3, 224, 224)\n",
      "\n",
      "image 1/1 C:\\Users\\fredr\\BTH\\Robotik Project\\Robotics\\yolo_dataset\\images\\train\\blue_20250521-111112-156336.jpg: 224x224 1 black, 4.7ms\n",
      "Speed: 0.5ms preprocess, 4.7ms inference, 3.9ms postprocess per image at shape (1, 3, 224, 224)\n",
      "\n",
      "image 1/1 C:\\Users\\fredr\\BTH\\Robotik Project\\Robotics\\yolo_dataset\\images\\train\\blue_20250521-111117-772809.jpg: 224x224 2 browns, 5.6ms\n",
      "Speed: 0.5ms preprocess, 5.6ms inference, 2.4ms postprocess per image at shape (1, 3, 224, 224)\n",
      "\n",
      "image 1/1 C:\\Users\\fredr\\BTH\\Robotik Project\\Robotics\\yolo_dataset\\images\\train\\yellow_20250521-111331-843235.jpg: 224x224 1 orange, 1 brown, 3 whites, 5.6ms\n",
      "Speed: 0.5ms preprocess, 5.6ms inference, 2.4ms postprocess per image at shape (1, 3, 224, 224)\n",
      "\n",
      "image 1/1 C:\\Users\\fredr\\BTH\\Robotik Project\\Robotics\\yolo_dataset\\images\\train\\yellow_20250521-111341-163937.jpg: 224x224 1 white, 6.8ms\n",
      "Speed: 0.5ms preprocess, 6.8ms inference, 1.5ms postprocess per image at shape (1, 3, 224, 224)\n",
      "\n",
      "image 1/1 C:\\Users\\fredr\\BTH\\Robotik Project\\Robotics\\yolo_dataset\\images\\train\\yellow_20250521-111341-458466.jpg: 224x224 1 brown, 2 whites, 6.3ms\n",
      "Speed: 0.6ms preprocess, 6.3ms inference, 1.1ms postprocess per image at shape (1, 3, 224, 224)\n",
      "\n",
      "image 1/1 C:\\Users\\fredr\\BTH\\Robotik Project\\Robotics\\yolo_dataset\\images\\train\\yellow_20250521-111344-980589.jpg: 224x224 1 brown, 2 whites, 5.0ms\n",
      "Speed: 0.4ms preprocess, 5.0ms inference, 1.0ms postprocess per image at shape (1, 3, 224, 224)\n",
      "\n",
      "image 1/1 C:\\Users\\fredr\\BTH\\Robotik Project\\Robotics\\yolo_dataset\\images\\train\\yellow_20250521-111351-399526.jpg: 224x224 2 whites, 4.7ms\n",
      "Speed: 0.4ms preprocess, 4.7ms inference, 1.1ms postprocess per image at shape (1, 3, 224, 224)\n",
      "\n",
      "image 1/1 C:\\Users\\fredr\\BTH\\Robotik Project\\Robotics\\yolo_dataset\\images\\train\\yellow_20250521-111352-580050.jpg: 224x224 2 whites, 5.1ms\n",
      "Speed: 0.5ms preprocess, 5.1ms inference, 1.1ms postprocess per image at shape (1, 3, 224, 224)\n",
      "\n",
      "image 1/1 C:\\Users\\fredr\\BTH\\Robotik Project\\Robotics\\yolo_dataset\\images\\train\\yellow_20250521-111357-536299.jpg: 224x224 2 browns, 4.8ms\n",
      "Speed: 0.3ms preprocess, 4.8ms inference, 1.1ms postprocess per image at shape (1, 3, 224, 224)\n",
      "\n",
      "image 1/1 C:\\Users\\fredr\\BTH\\Robotik Project\\Robotics\\yolo_dataset\\images\\train\\yellow_20250521-111357-833810.jpg: 224x224 1 brown, 1 white, 5.2ms\n",
      "Speed: 0.4ms preprocess, 5.2ms inference, 1.2ms postprocess per image at shape (1, 3, 224, 224)\n",
      "\n",
      "image 1/1 C:\\Users\\fredr\\BTH\\Robotik Project\\Robotics\\yolo_dataset\\images\\train\\yellow_20250521-111419-787989.jpg: 224x224 1 yellow, 4.8ms\n",
      "Speed: 0.6ms preprocess, 4.8ms inference, 1.0ms postprocess per image at shape (1, 3, 224, 224)\n",
      "\n",
      "image 1/1 C:\\Users\\fredr\\BTH\\Robotik Project\\Robotics\\yolo_dataset\\images\\train\\yellow_20250521-111420-378811.jpg: 224x224 1 yellow, 4.8ms\n",
      "Speed: 0.4ms preprocess, 4.8ms inference, 1.0ms postprocess per image at shape (1, 3, 224, 224)\n",
      "\n",
      "image 1/1 C:\\Users\\fredr\\BTH\\Robotik Project\\Robotics\\yolo_dataset\\images\\train\\yellow_20250521-111420-987267.jpg: 224x224 (no detections), 4.6ms\n",
      "Speed: 0.4ms preprocess, 4.6ms inference, 0.5ms postprocess per image at shape (1, 3, 224, 224)\n",
      "\n",
      "image 1/1 C:\\Users\\fredr\\BTH\\Robotik Project\\Robotics\\yolo_dataset\\images\\train\\yellow_20250521-111421-271372.jpg: 224x224 1 yellow, 4.8ms\n",
      "Speed: 0.4ms preprocess, 4.8ms inference, 1.1ms postprocess per image at shape (1, 3, 224, 224)\n",
      "\n",
      "image 1/1 C:\\Users\\fredr\\BTH\\Robotik Project\\Robotics\\yolo_dataset\\images\\train\\yellow_20250521-111421-554524.jpg: 224x224 1 yellow, 4.6ms\n",
      "Speed: 0.4ms preprocess, 4.6ms inference, 1.5ms postprocess per image at shape (1, 3, 224, 224)\n",
      "\n",
      "image 1/1 C:\\Users\\fredr\\BTH\\Robotik Project\\Robotics\\yolo_dataset\\images\\train\\yellow_20250521-111421-862368.jpg: 224x224 1 yellow, 4.8ms\n",
      "Speed: 0.4ms preprocess, 4.8ms inference, 1.0ms postprocess per image at shape (1, 3, 224, 224)\n",
      "\n",
      "image 1/1 C:\\Users\\fredr\\BTH\\Robotik Project\\Robotics\\yolo_dataset\\images\\train\\yellow_20250521-111422-154699.jpg: 224x224 1 yellow, 4.8ms\n",
      "Speed: 0.4ms preprocess, 4.8ms inference, 1.1ms postprocess per image at shape (1, 3, 224, 224)\n",
      "\n",
      "image 1/1 C:\\Users\\fredr\\BTH\\Robotik Project\\Robotics\\yolo_dataset\\images\\train\\yellow_20250521-111423-338765.jpg: 224x224 1 yellow, 4.6ms\n",
      "Speed: 0.4ms preprocess, 4.6ms inference, 1.6ms postprocess per image at shape (1, 3, 224, 224)\n",
      "\n",
      "image 1/1 C:\\Users\\fredr\\BTH\\Robotik Project\\Robotics\\yolo_dataset\\images\\train\\yellow_20250521-111423-671245.jpg: 224x224 (no detections), 4.8ms\n",
      "Speed: 0.4ms preprocess, 4.8ms inference, 0.5ms postprocess per image at shape (1, 3, 224, 224)\n",
      "\n",
      "image 1/1 C:\\Users\\fredr\\BTH\\Robotik Project\\Robotics\\yolo_dataset\\images\\train\\yellow_20250521-111423-954538.jpg: 224x224 1 yellow, 4.6ms\n",
      "Speed: 0.4ms preprocess, 4.6ms inference, 1.6ms postprocess per image at shape (1, 3, 224, 224)\n",
      "\n",
      "image 1/1 C:\\Users\\fredr\\BTH\\Robotik Project\\Robotics\\yolo_dataset\\images\\train\\yellow_20250521-111424-850402.jpg: 224x224 1 yellow, 4.6ms\n",
      "Speed: 0.4ms preprocess, 4.6ms inference, 1.0ms postprocess per image at shape (1, 3, 224, 224)\n",
      "Bounding box visualizations saved to: C:\\Users\\fredr\\BTH\\Robotik Project\\Robotics\\yolo_dataset\\train_bbox_vis\n"
     ]
    }
   ],
   "source": [
    "import os\n",
    "from ultralytics import YOLO\n",
    "import cv2\n",
    "\n",
    "# Path to your trained YOLOv8 model (change to best.pt if needed)\n",
    "model_path = r'runs\\synthetic_extreme_yolov8n3\\weights\\best.pt'\n",
    "img_folder = r'C:\\Users\\fredr\\BTH\\Robotik Project\\Robotics\\yolo_dataset\\images\\train'\n",
    "output_folder = r'C:\\Users\\fredr\\BTH\\Robotik Project\\Robotics\\yolo_dataset\\train_bbox_vis'\n",
    "os.makedirs(output_folder, exist_ok=True)\n",
    "\n",
    "# Load the YOLOv8 model\n",
    "model = YOLO(model_path)\n",
    "\n",
    "# Get class names from model\n",
    "class_names = model.names\n",
    "\n",
    "# Loop through all images\n",
    "for img_name in os.listdir(img_folder):\n",
    "    img_path = os.path.join(img_folder, img_name)\n",
    "    # Only process image files\n",
    "    if not img_name.lower().endswith(('.png', '.jpg', '.jpeg', '.bmp', '.tif')):\n",
    "        continue\n",
    "\n",
    "    # Run inference\n",
    "    results = model(img_path)\n",
    "    result = results[0]  # first batch element\n",
    "\n",
    "    img = cv2.imread(img_path)\n",
    "    h, w = img.shape[:2]\n",
    "\n",
    "    for box in result.boxes:\n",
    "        x1, y1, x2, y2 = map(int, box.xyxy[0].tolist())\n",
    "        cls = int(box.cls[0])\n",
    "        conf = float(box.conf[0])\n",
    "        label = f'{class_names[cls]} {conf:.2f}'\n",
    "\n",
    "        # Draw rectangle\n",
    "        cv2.rectangle(img, (x1, y1), (x2, y2), (0,255,0), 2)\n",
    "        # Put label\n",
    "        cv2.putText(img, label, (x1, y1-10), cv2.FONT_HERSHEY_SIMPLEX, 0.5, (0,255,0), 2)\n",
    "\n",
    "    out_path = os.path.join(output_folder, img_name)\n",
    "    cv2.imwrite(out_path, img)\n",
    "\n",
    "print(f\"Bounding box visualizations saved to: {output_folder}\")\n"
   ]
  },
  {
   "cell_type": "code",
   "execution_count": 2,
   "id": "a7023f62",
   "metadata": {},
   "outputs": [
    {
     "name": "stdout",
     "output_type": "stream",
     "text": [
      "\n",
      "Annotating image: blue_20250521-110915-682658.jpg\n",
      "Annotations saved to: C:\\Users\\fredr\\BTH\\Robotik Project\\Robotics\\yolo_dataset\\images\\train\\blue_20250521-110915-682658.txt\n",
      "\n",
      "Annotating image: blue_20250521-110915-962759.jpg\n",
      "Annotations saved to: C:\\Users\\fredr\\BTH\\Robotik Project\\Robotics\\yolo_dataset\\images\\train\\blue_20250521-110915-962759.txt\n",
      "\n",
      "Annotating image: blue_20250521-110920-333864.jpg\n",
      "Annotations saved to: C:\\Users\\fredr\\BTH\\Robotik Project\\Robotics\\yolo_dataset\\images\\train\\blue_20250521-110920-333864.txt\n",
      "\n",
      "Annotating image: blue_20250521-110925-724138.jpg\n",
      "Annotations saved to: C:\\Users\\fredr\\BTH\\Robotik Project\\Robotics\\yolo_dataset\\images\\train\\blue_20250521-110925-724138.txt\n",
      "\n",
      "Annotating image: blue_20250521-110926-021988.jpg\n",
      "Annotations saved to: C:\\Users\\fredr\\BTH\\Robotik Project\\Robotics\\yolo_dataset\\images\\train\\blue_20250521-110926-021988.txt\n",
      "\n",
      "Annotating image: blue_20250521-110926-300071.jpg\n",
      "Annotations saved to: C:\\Users\\fredr\\BTH\\Robotik Project\\Robotics\\yolo_dataset\\images\\train\\blue_20250521-110926-300071.txt\n",
      "\n",
      "Annotating image: blue_20250521-110926-888394.jpg\n",
      "Annotations saved to: C:\\Users\\fredr\\BTH\\Robotik Project\\Robotics\\yolo_dataset\\images\\train\\blue_20250521-110926-888394.txt\n",
      "\n",
      "Annotating image: blue_20250521-110927-480894.jpg\n",
      "Annotations saved to: C:\\Users\\fredr\\BTH\\Robotik Project\\Robotics\\yolo_dataset\\images\\train\\blue_20250521-110927-480894.txt\n",
      "\n",
      "Annotating image: blue_20250521-110928-122124.jpg\n",
      "Annotations saved to: C:\\Users\\fredr\\BTH\\Robotik Project\\Robotics\\yolo_dataset\\images\\train\\blue_20250521-110928-122124.txt\n",
      "\n",
      "Annotating image: blue_20250521-110929-088707.jpg\n",
      "Annotations saved to: C:\\Users\\fredr\\BTH\\Robotik Project\\Robotics\\yolo_dataset\\images\\train\\blue_20250521-110929-088707.txt\n",
      "\n",
      "Annotating image: blue_20250521-110935-546501.jpg\n",
      "Annotations saved to: C:\\Users\\fredr\\BTH\\Robotik Project\\Robotics\\yolo_dataset\\images\\train\\blue_20250521-110935-546501.txt\n",
      "\n",
      "Annotating image: blue_20250521-110940-008538.jpg\n",
      "Annotations saved to: C:\\Users\\fredr\\BTH\\Robotik Project\\Robotics\\yolo_dataset\\images\\train\\blue_20250521-110940-008538.txt\n",
      "\n",
      "Annotating image: blue_20250521-110940-607466.jpg\n",
      "Annotations saved to: C:\\Users\\fredr\\BTH\\Robotik Project\\Robotics\\yolo_dataset\\images\\train\\blue_20250521-110940-607466.txt\n",
      "\n",
      "Annotating image: blue_20250521-110941-216159.jpg\n",
      "Annotations saved to: C:\\Users\\fredr\\BTH\\Robotik Project\\Robotics\\yolo_dataset\\images\\train\\blue_20250521-110941-216159.txt\n",
      "\n",
      "Annotating image: blue_20250521-110959-515512.jpg\n",
      "Annotations saved to: C:\\Users\\fredr\\BTH\\Robotik Project\\Robotics\\yolo_dataset\\images\\train\\blue_20250521-110959-515512.txt\n",
      "\n",
      "Annotating image: blue_20250521-111031-404255.jpg\n",
      "Annotations saved to: C:\\Users\\fredr\\BTH\\Robotik Project\\Robotics\\yolo_dataset\\images\\train\\blue_20250521-111031-404255.txt\n",
      "\n",
      "Annotating image: blue_20250521-111031-704698.jpg\n",
      "Annotations saved to: C:\\Users\\fredr\\BTH\\Robotik Project\\Robotics\\yolo_dataset\\images\\train\\blue_20250521-111031-704698.txt\n",
      "\n",
      "Annotating image: blue_20250521-111037-179557.jpg\n",
      "Annotations saved to: C:\\Users\\fredr\\BTH\\Robotik Project\\Robotics\\yolo_dataset\\images\\train\\blue_20250521-111037-179557.txt\n",
      "\n",
      "Annotating image: blue_20250521-111037-487824.jpg\n",
      "Annotations saved to: C:\\Users\\fredr\\BTH\\Robotik Project\\Robotics\\yolo_dataset\\images\\train\\blue_20250521-111037-487824.txt\n",
      "\n",
      "Annotating image: blue_20250521-111038-353983.jpg\n",
      "Annotations saved to: C:\\Users\\fredr\\BTH\\Robotik Project\\Robotics\\yolo_dataset\\images\\train\\blue_20250521-111038-353983.txt\n",
      "\n",
      "Annotating image: blue_20250521-111038-937387.jpg\n",
      "Annotations saved to: C:\\Users\\fredr\\BTH\\Robotik Project\\Robotics\\yolo_dataset\\images\\train\\blue_20250521-111038-937387.txt\n",
      "\n",
      "Annotating image: blue_20250521-111039-239997.jpg\n",
      "Annotations saved to: C:\\Users\\fredr\\BTH\\Robotik Project\\Robotics\\yolo_dataset\\images\\train\\blue_20250521-111039-239997.txt\n",
      "\n",
      "Annotating image: blue_20250521-111039-533325.jpg\n",
      "Annotations saved to: C:\\Users\\fredr\\BTH\\Robotik Project\\Robotics\\yolo_dataset\\images\\train\\blue_20250521-111039-533325.txt\n",
      "\n",
      "Annotating image: blue_20250521-111039-819383.jpg\n",
      "Annotations saved to: C:\\Users\\fredr\\BTH\\Robotik Project\\Robotics\\yolo_dataset\\images\\train\\blue_20250521-111039-819383.txt\n",
      "\n",
      "Annotating image: blue_20250521-111043-363917.jpg\n",
      "Annotations saved to: C:\\Users\\fredr\\BTH\\Robotik Project\\Robotics\\yolo_dataset\\images\\train\\blue_20250521-111043-363917.txt\n",
      "\n",
      "Annotating image: blue_20250521-111044-533669.jpg\n",
      "Annotations saved to: C:\\Users\\fredr\\BTH\\Robotik Project\\Robotics\\yolo_dataset\\images\\train\\blue_20250521-111044-533669.txt\n",
      "\n",
      "Annotating image: blue_20250521-111045-123291.jpg\n",
      "Annotations saved to: C:\\Users\\fredr\\BTH\\Robotik Project\\Robotics\\yolo_dataset\\images\\train\\blue_20250521-111045-123291.txt\n",
      "\n",
      "Annotating image: blue_20250521-111045-748344.jpg\n",
      "Annotations saved to: C:\\Users\\fredr\\BTH\\Robotik Project\\Robotics\\yolo_dataset\\images\\train\\blue_20250521-111045-748344.txt\n",
      "\n",
      "Annotating image: blue_20250521-111046-040455.jpg\n",
      "Annotations saved to: C:\\Users\\fredr\\BTH\\Robotik Project\\Robotics\\yolo_dataset\\images\\train\\blue_20250521-111046-040455.txt\n",
      "\n",
      "Annotating image: blue_20250521-111046-649345.jpg\n",
      "Annotations saved to: C:\\Users\\fredr\\BTH\\Robotik Project\\Robotics\\yolo_dataset\\images\\train\\blue_20250521-111046-649345.txt\n",
      "\n",
      "Annotating image: blue_20250521-111047-540331.jpg\n",
      "Annotations saved to: C:\\Users\\fredr\\BTH\\Robotik Project\\Robotics\\yolo_dataset\\images\\train\\blue_20250521-111047-540331.txt\n",
      "\n",
      "Annotating image: blue_20250521-111048-124073.jpg\n",
      "Annotations saved to: C:\\Users\\fredr\\BTH\\Robotik Project\\Robotics\\yolo_dataset\\images\\train\\blue_20250521-111048-124073.txt\n",
      "\n",
      "Annotating image: blue_20250521-111048-418027.jpg\n",
      "Annotations saved to: C:\\Users\\fredr\\BTH\\Robotik Project\\Robotics\\yolo_dataset\\images\\train\\blue_20250521-111048-418027.txt\n",
      "\n",
      "Annotating image: blue_20250521-111048-707067.jpg\n",
      "Annotations saved to: C:\\Users\\fredr\\BTH\\Robotik Project\\Robotics\\yolo_dataset\\images\\train\\blue_20250521-111048-707067.txt\n",
      "\n",
      "Annotating image: blue_20250521-111052-565519.jpg\n",
      "Annotations saved to: C:\\Users\\fredr\\BTH\\Robotik Project\\Robotics\\yolo_dataset\\images\\train\\blue_20250521-111052-565519.txt\n",
      "\n",
      "Annotating image: blue_20250521-111101-100637.jpg\n",
      "Annotations saved to: C:\\Users\\fredr\\BTH\\Robotik Project\\Robotics\\yolo_dataset\\images\\train\\blue_20250521-111101-100637.txt\n",
      "\n",
      "Annotating image: blue_20250521-111108-665562.jpg\n",
      "Annotations saved to: C:\\Users\\fredr\\BTH\\Robotik Project\\Robotics\\yolo_dataset\\images\\train\\blue_20250521-111108-665562.txt\n",
      "\n",
      "Annotating image: blue_20250521-111110-690144.jpg\n",
      "Annotations saved to: C:\\Users\\fredr\\BTH\\Robotik Project\\Robotics\\yolo_dataset\\images\\train\\blue_20250521-111110-690144.txt\n",
      "\n",
      "Annotating image: blue_20250521-111111-843567.jpg\n",
      "Annotations saved to: C:\\Users\\fredr\\BTH\\Robotik Project\\Robotics\\yolo_dataset\\images\\train\\blue_20250521-111111-843567.txt\n",
      "\n",
      "Annotating image: blue_20250521-111112-156336.jpg\n",
      "Annotations saved to: C:\\Users\\fredr\\BTH\\Robotik Project\\Robotics\\yolo_dataset\\images\\train\\blue_20250521-111112-156336.txt\n",
      "\n",
      "Annotating image: blue_20250521-111117-772809.jpg\n",
      "Annotations saved to: C:\\Users\\fredr\\BTH\\Robotik Project\\Robotics\\yolo_dataset\\images\\train\\blue_20250521-111117-772809.txt\n",
      "\n",
      "Annotating image: yellow_20250521-111331-843235.jpg\n",
      "Annotations saved to: C:\\Users\\fredr\\BTH\\Robotik Project\\Robotics\\yolo_dataset\\images\\train\\yellow_20250521-111331-843235.txt\n",
      "\n",
      "Annotating image: yellow_20250521-111341-163937.jpg\n",
      "Annotations saved to: C:\\Users\\fredr\\BTH\\Robotik Project\\Robotics\\yolo_dataset\\images\\train\\yellow_20250521-111341-163937.txt\n",
      "\n",
      "Annotating image: yellow_20250521-111341-458466.jpg\n",
      "Annotations saved to: C:\\Users\\fredr\\BTH\\Robotik Project\\Robotics\\yolo_dataset\\images\\train\\yellow_20250521-111341-458466.txt\n",
      "\n",
      "Annotating image: yellow_20250521-111344-980589.jpg\n",
      "Annotations saved to: C:\\Users\\fredr\\BTH\\Robotik Project\\Robotics\\yolo_dataset\\images\\train\\yellow_20250521-111344-980589.txt\n",
      "\n",
      "Annotating image: yellow_20250521-111351-399526.jpg\n",
      "Annotations saved to: C:\\Users\\fredr\\BTH\\Robotik Project\\Robotics\\yolo_dataset\\images\\train\\yellow_20250521-111351-399526.txt\n",
      "\n",
      "Annotating image: yellow_20250521-111352-580050.jpg\n",
      "Annotations saved to: C:\\Users\\fredr\\BTH\\Robotik Project\\Robotics\\yolo_dataset\\images\\train\\yellow_20250521-111352-580050.txt\n",
      "\n",
      "Annotating image: yellow_20250521-111357-536299.jpg\n",
      "Annotations saved to: C:\\Users\\fredr\\BTH\\Robotik Project\\Robotics\\yolo_dataset\\images\\train\\yellow_20250521-111357-536299.txt\n",
      "\n",
      "Annotating image: yellow_20250521-111357-833810.jpg\n",
      "Annotations saved to: C:\\Users\\fredr\\BTH\\Robotik Project\\Robotics\\yolo_dataset\\images\\train\\yellow_20250521-111357-833810.txt\n",
      "\n",
      "Annotating image: yellow_20250521-111419-787989.jpg\n",
      "Annotations saved to: C:\\Users\\fredr\\BTH\\Robotik Project\\Robotics\\yolo_dataset\\images\\train\\yellow_20250521-111419-787989.txt\n",
      "\n",
      "Annotating image: yellow_20250521-111420-378811.jpg\n",
      "Annotations saved to: C:\\Users\\fredr\\BTH\\Robotik Project\\Robotics\\yolo_dataset\\images\\train\\yellow_20250521-111420-378811.txt\n",
      "\n",
      "Annotating image: yellow_20250521-111420-987267.jpg\n",
      "Annotations saved to: C:\\Users\\fredr\\BTH\\Robotik Project\\Robotics\\yolo_dataset\\images\\train\\yellow_20250521-111420-987267.txt\n",
      "\n",
      "Annotating image: yellow_20250521-111421-271372.jpg\n",
      "Annotations saved to: C:\\Users\\fredr\\BTH\\Robotik Project\\Robotics\\yolo_dataset\\images\\train\\yellow_20250521-111421-271372.txt\n",
      "\n",
      "Annotating image: yellow_20250521-111421-554524.jpg\n",
      "Annotations saved to: C:\\Users\\fredr\\BTH\\Robotik Project\\Robotics\\yolo_dataset\\images\\train\\yellow_20250521-111421-554524.txt\n",
      "\n",
      "Annotating image: yellow_20250521-111421-862368.jpg\n",
      "Annotations saved to: C:\\Users\\fredr\\BTH\\Robotik Project\\Robotics\\yolo_dataset\\images\\train\\yellow_20250521-111421-862368.txt\n",
      "\n",
      "Annotating image: yellow_20250521-111422-154699.jpg\n",
      "Annotations saved to: C:\\Users\\fredr\\BTH\\Robotik Project\\Robotics\\yolo_dataset\\images\\train\\yellow_20250521-111422-154699.txt\n",
      "\n",
      "Annotating image: yellow_20250521-111423-338765.jpg\n",
      "Annotations saved to: C:\\Users\\fredr\\BTH\\Robotik Project\\Robotics\\yolo_dataset\\images\\train\\yellow_20250521-111423-338765.txt\n",
      "\n",
      "Annotating image: yellow_20250521-111423-671245.jpg\n",
      "Annotations saved to: C:\\Users\\fredr\\BTH\\Robotik Project\\Robotics\\yolo_dataset\\images\\train\\yellow_20250521-111423-671245.txt\n",
      "\n",
      "Annotating image: yellow_20250521-111423-954538.jpg\n",
      "Annotations saved to: C:\\Users\\fredr\\BTH\\Robotik Project\\Robotics\\yolo_dataset\\images\\train\\yellow_20250521-111423-954538.txt\n",
      "\n",
      "Annotating image: yellow_20250521-111424-850402.jpg\n",
      "Annotations saved to: C:\\Users\\fredr\\BTH\\Robotik Project\\Robotics\\yolo_dataset\\images\\train\\yellow_20250521-111424-850402.txt\n",
      "All images annotated successfully.\n"
     ]
    }
   ],
   "source": [
    "import cv2\n",
    "import os\n",
    "import glob\n",
    "\n",
    "# CONFIGURATION\n",
    "image_folder = r\"C:\\Users\\fredr\\BTH\\Robotik Project\\Robotics\\yolo_dataset\\images\\train\"\n",
    "color_classes = [\n",
    "    \"black\", \"gray\", \"white\", \"red\", \"blue\", \"green\", \n",
    "    \"yellow\", \"orange\", \"brown\", \"purple\", \"pink\", \"cyan\"\n",
    "]\n",
    "colors_bgr = [\n",
    "    (0,0,0), (128,128,128), (255,255,255), (0,0,255), (255,0,0), (0,255,0),\n",
    "    (0,255,255), (0,128,255), (19,69,139), (128,0,128), (203,192,255), (255,255,0)\n",
    "]\n",
    "\n",
    "# GLOBALS\n",
    "drawing = False\n",
    "ix, iy = -1, -1\n",
    "annotations = []\n",
    "current_class = 0\n",
    "img = None\n",
    "img_display = None\n",
    "\n",
    "def draw_rectangle(event, x, y, flags, param):\n",
    "    global ix, iy, drawing, img, img_display, annotations, current_class\n",
    "\n",
    "    if event == cv2.EVENT_LBUTTONDOWN:\n",
    "        drawing = True\n",
    "        ix, iy = x, y\n",
    "\n",
    "    elif event == cv2.EVENT_MOUSEMOVE and drawing:\n",
    "        img_display = img.copy()\n",
    "        draw_annotations()\n",
    "        cv2.rectangle(img_display, (ix, iy), (x, y), colors_bgr[current_class], 2)\n",
    "\n",
    "    elif event == cv2.EVENT_LBUTTONUP and drawing:\n",
    "        drawing = False\n",
    "        x1, x2 = sorted([ix, x])\n",
    "        y1, y2 = sorted([iy, y])\n",
    "        annotations.append((current_class, x1, y1, x2, y2))\n",
    "        img_display = img.copy()\n",
    "        draw_annotations()\n",
    "\n",
    "def draw_annotations():\n",
    "    global img_display\n",
    "    for cls, x1, y1, x2, y2 in annotations:\n",
    "        cv2.rectangle(img_display, (x1, y1), (x2, y2), colors_bgr[cls], 2)\n",
    "        cv2.putText(img_display, color_classes[cls], (x1, y1-5),\n",
    "                    cv2.FONT_HERSHEY_SIMPLEX, 0.5, colors_bgr[cls], 2)\n",
    "    menu_text = \" | \".join([f\"{i}-{name}\" for i, name in enumerate(color_classes)])\n",
    "    cv2.rectangle(img_display, (0,0), (img.shape[1], 60), (50,50,50), -1)\n",
    "    cv2.putText(img_display, \"Colors: \" + menu_text, (5, 20),\n",
    "                cv2.FONT_HERSHEY_SIMPLEX, 0.5, (255,255,255), 1)\n",
    "    cv2.putText(img_display, f\"Current Color: {color_classes[current_class]} (Press 'u' to undo, 's' to save, 'q' to quit)\", \n",
    "                (5, 45), cv2.FONT_HERSHEY_SIMPLEX, 0.5, colors_bgr[current_class], 1)\n",
    "\n",
    "def save_annotations(img_path):\n",
    "    global annotations, img\n",
    "    h, w = img.shape[:2]\n",
    "    label_path = os.path.splitext(img_path)[0] + \".txt\"\n",
    "    with open(label_path, \"w\") as f:\n",
    "        for cls, x1, y1, x2, y2 in annotations:\n",
    "            cx, cy = ((x1+x2)/2)/w, ((y1+y2)/2)/h\n",
    "            bw, bh = (x2-x1)/w, (y2-y1)/h\n",
    "            f.write(f\"{cls} {cx:.6f} {cy:.6f} {bw:.6f} {bh:.6f}\\n\")\n",
    "    print(f\"Annotations saved to: {label_path}\")\n",
    "\n",
    "def main():\n",
    "    global current_class, annotations, img, img_display\n",
    "\n",
    "    image_files = sorted(glob.glob(os.path.join(image_folder, \"*.jpg\")) +\n",
    "                         glob.glob(os.path.join(image_folder, \"*.png\")))\n",
    "\n",
    "    for img_path in image_files:\n",
    "        annotations = []\n",
    "        img = cv2.imread(img_path)\n",
    "        if img is None:\n",
    "            print(f\"Error loading {img_path}, skipping...\")\n",
    "            continue\n",
    "        img_display = img.copy()\n",
    "\n",
    "        cv2.namedWindow(\"Image Annotator\", cv2.WINDOW_NORMAL)\n",
    "        cv2.setMouseCallback(\"Image Annotator\", draw_rectangle)\n",
    "        draw_annotations()\n",
    "\n",
    "        print(f\"\\nAnnotating image: {os.path.basename(img_path)}\")\n",
    "\n",
    "        while True:\n",
    "            cv2.imshow(\"Image Annotator\", img_display)\n",
    "            key = cv2.waitKey(10) & 0xFF\n",
    "\n",
    "            # Color selection\n",
    "            if ord('0') <= key <= ord('9'):\n",
    "                idx = key - ord('0')\n",
    "                if idx < len(color_classes):\n",
    "                    current_class = idx\n",
    "                    img_display = img.copy()\n",
    "                    draw_annotations()\n",
    "\n",
    "            elif key == ord('a') and len(color_classes) > 10:\n",
    "                current_class = 10\n",
    "                img_display = img.copy()\n",
    "                draw_annotations()\n",
    "\n",
    "            elif key == ord('b') and len(color_classes) > 11:\n",
    "                current_class = 11\n",
    "                img_display = img.copy()\n",
    "                draw_annotations()\n",
    "\n",
    "            elif key == ord('u'):  # Undo last annotation\n",
    "                if annotations:\n",
    "                    annotations.pop()\n",
    "                    img_display = img.copy()\n",
    "                    draw_annotations()\n",
    "                    print(\"Last annotation removed.\")\n",
    "\n",
    "            elif key == ord('s'):  # Save annotations\n",
    "                save_annotations(img_path)\n",
    "                break\n",
    "\n",
    "            elif key == ord('q'):  # Quit tool\n",
    "                cv2.destroyAllWindows()\n",
    "                print(\"Exiting annotation tool.\")\n",
    "                return\n",
    "\n",
    "        cv2.destroyAllWindows()\n",
    "\n",
    "    print(\"All images annotated successfully.\")\n",
    "\n",
    "if __name__ == \"__main__\":\n",
    "    main()\n"
   ]
  },
  {
   "cell_type": "code",
   "execution_count": 7,
   "id": "8cfa2086",
   "metadata": {},
   "outputs": [
    {
     "name": "stdout",
     "output_type": "stream",
     "text": [
      "CUDA available? True\n",
      "Device: 0 NVIDIA GeForce RTX 3070 Ti\n",
      "New https://pypi.org/project/ultralytics/8.3.142 available  Update with 'pip install -U ultralytics'\n",
      "Ultralytics 8.3.141  Python-3.9.18 torch-2.5.1+cu121 CUDA:0 (NVIDIA GeForce RTX 3070 Ti, 8192MiB)\n",
      "\u001b[34m\u001b[1mengine\\trainer: \u001b[0magnostic_nms=False, amp=True, augment=False, auto_augment=randaugment, batch=32, bgr=0.0, box=7.5, cache=False, cfg=None, classes=None, close_mosaic=10, cls=0.5, conf=None, copy_paste=0.0, copy_paste_mode=flip, cos_lr=True, cutmix=0.0, data=C:/Users/fredr/BTH/Robotik Project/Robotics/yolo_dataset\\split_dataset.yaml, degrees=0.0, deterministic=True, device=0, dfl=1.5, dnn=False, dropout=0.0, dynamic=False, embed=None, epochs=300, erasing=0.4, exist_ok=False, fliplr=0.5, flipud=0.0, format=torchscript, fraction=1.0, freeze=None, half=False, hsv_h=0.015, hsv_s=0.7, hsv_v=0.4, imgsz=224, int8=False, iou=0.7, keras=False, kobj=1.0, line_width=None, lr0=0.001, lrf=0.01, mask_ratio=4, max_det=300, mixup=0.0, mode=train, model=yolov8n.pt, momentum=0.937, mosaic=1.0, multi_scale=False, name=synthetic_extreme_yolov8n_split, nbs=64, nms=False, opset=None, optimize=False, optimizer=SGD, overlap_mask=True, patience=50, perspective=0.0, plots=True, pose=12.0, pretrained=True, profile=False, project=runs, rect=False, resume=False, retina_masks=False, save=True, save_conf=False, save_crop=False, save_dir=runs\\synthetic_extreme_yolov8n_split, save_frames=False, save_json=False, save_period=-1, save_txt=False, scale=0.5, seed=0, shear=0.0, show=False, show_boxes=True, show_conf=True, show_labels=True, simplify=True, single_cls=False, source=None, split=val, stream_buffer=False, task=detect, time=None, tracker=botsort.yaml, translate=0.1, val=True, verbose=True, vid_stride=1, visualize=False, warmup_bias_lr=0.1, warmup_epochs=3.0, warmup_momentum=0.8, weight_decay=0.0005, workers=8, workspace=None\n",
      "Overriding model.yaml nc=80 with nc=9\n",
      "\n",
      "                   from  n    params  module                                       arguments                     \n",
      "  0                  -1  1       464  ultralytics.nn.modules.conv.Conv             [3, 16, 3, 2]                 \n",
      "  1                  -1  1      4672  ultralytics.nn.modules.conv.Conv             [16, 32, 3, 2]                \n",
      "  2                  -1  1      7360  ultralytics.nn.modules.block.C2f             [32, 32, 1, True]             \n",
      "  3                  -1  1     18560  ultralytics.nn.modules.conv.Conv             [32, 64, 3, 2]                \n",
      "  4                  -1  2     49664  ultralytics.nn.modules.block.C2f             [64, 64, 2, True]             \n",
      "  5                  -1  1     73984  ultralytics.nn.modules.conv.Conv             [64, 128, 3, 2]               \n",
      "  6                  -1  2    197632  ultralytics.nn.modules.block.C2f             [128, 128, 2, True]           \n",
      "  7                  -1  1    295424  ultralytics.nn.modules.conv.Conv             [128, 256, 3, 2]              \n",
      "  8                  -1  1    460288  ultralytics.nn.modules.block.C2f             [256, 256, 1, True]           \n",
      "  9                  -1  1    164608  ultralytics.nn.modules.block.SPPF            [256, 256, 5]                 \n",
      " 10                  -1  1         0  torch.nn.modules.upsampling.Upsample         [None, 2, 'nearest']          \n",
      " 11             [-1, 6]  1         0  ultralytics.nn.modules.conv.Concat           [1]                           \n",
      " 12                  -1  1    148224  ultralytics.nn.modules.block.C2f             [384, 128, 1]                 \n",
      " 13                  -1  1         0  torch.nn.modules.upsampling.Upsample         [None, 2, 'nearest']          \n",
      " 14             [-1, 4]  1         0  ultralytics.nn.modules.conv.Concat           [1]                           \n",
      " 15                  -1  1     37248  ultralytics.nn.modules.block.C2f             [192, 64, 1]                  \n",
      " 16                  -1  1     36992  ultralytics.nn.modules.conv.Conv             [64, 64, 3, 2]                \n",
      " 17            [-1, 12]  1         0  ultralytics.nn.modules.conv.Concat           [1]                           \n",
      " 18                  -1  1    123648  ultralytics.nn.modules.block.C2f             [192, 128, 1]                 \n",
      " 19                  -1  1    147712  ultralytics.nn.modules.conv.Conv             [128, 128, 3, 2]              \n",
      " 20             [-1, 9]  1         0  ultralytics.nn.modules.conv.Concat           [1]                           \n",
      " 21                  -1  1    493056  ultralytics.nn.modules.block.C2f             [384, 256, 1]                 \n",
      " 22        [15, 18, 21]  1    753067  ultralytics.nn.modules.head.Detect           [9, [64, 128, 256]]           \n",
      "Model summary: 129 layers, 3,012,603 parameters, 3,012,587 gradients, 8.2 GFLOPs\n",
      "\n",
      "Transferred 319/355 items from pretrained weights\n",
      "Freezing layer 'model.22.dfl.conv.weight'\n",
      "\u001b[34m\u001b[1mAMP: \u001b[0mrunning Automatic Mixed Precision (AMP) checks...\n",
      "\u001b[34m\u001b[1mAMP: \u001b[0mchecks passed \n",
      "\u001b[34m\u001b[1mtrain: \u001b[0mFast image access  (ping: 0.00.0 ms, read: 3.50.4 MB/s, size: 14.8 KB)\n"
     ]
    },
    {
     "name": "stderr",
     "output_type": "stream",
     "text": [
      "\u001b[34m\u001b[1mtrain: \u001b[0mScanning C:\\Users\\fredr\\BTH\\Robotik Project\\Robotics\\yolo_dataset\\labels\\split_train... 48 images, 0 backgrounds, 0 corrupt: 100%|██████████| 48/48 [00:00<00:00, 1777.97it/s]"
     ]
    },
    {
     "name": "stdout",
     "output_type": "stream",
     "text": [
      "\u001b[34m\u001b[1mtrain: \u001b[0mNew cache created: C:\\Users\\fredr\\BTH\\Robotik Project\\Robotics\\yolo_dataset\\labels\\split_train.cache\n"
     ]
    },
    {
     "name": "stderr",
     "output_type": "stream",
     "text": [
      "\n"
     ]
    },
    {
     "name": "stdout",
     "output_type": "stream",
     "text": [
      "\u001b[34m\u001b[1mval: \u001b[0mFast image access  (ping: 0.10.0 ms, read: 2.80.3 MB/s, size: 13.5 KB)\n"
     ]
    },
    {
     "name": "stderr",
     "output_type": "stream",
     "text": [
      "\u001b[34m\u001b[1mval: \u001b[0mScanning C:\\Users\\fredr\\BTH\\Robotik Project\\Robotics\\yolo_dataset\\labels\\split_val... 12 images, 0 backgrounds, 0 corrupt: 100%|██████████| 12/12 [00:00<00:00, 1333.39it/s]"
     ]
    },
    {
     "name": "stdout",
     "output_type": "stream",
     "text": [
      "\u001b[34m\u001b[1mval: \u001b[0mNew cache created: C:\\Users\\fredr\\BTH\\Robotik Project\\Robotics\\yolo_dataset\\labels\\split_val.cache\n"
     ]
    },
    {
     "name": "stderr",
     "output_type": "stream",
     "text": [
      "\n"
     ]
    },
    {
     "name": "stdout",
     "output_type": "stream",
     "text": [
      "Plotting labels to runs\\synthetic_extreme_yolov8n_split\\labels.jpg... \n",
      "\u001b[34m\u001b[1moptimizer:\u001b[0m SGD(lr=0.001, momentum=0.937) with parameter groups 57 weight(decay=0.0), 64 weight(decay=0.0005), 63 bias(decay=0.0)\n",
      "Image sizes 224 train, 224 val\n",
      "Using 8 dataloader workers\n",
      "Logging results to \u001b[1mruns\\synthetic_extreme_yolov8n_split\u001b[0m\n",
      "Starting training for 300 epochs...\n",
      "\n",
      "      Epoch    GPU_mem   box_loss   cls_loss   dfl_loss  Instances       Size\n"
     ]
    },
    {
     "name": "stderr",
     "output_type": "stream",
     "text": [
      "      1/300     0.531G      1.912       4.72      1.721         30        224: 100%|██████████| 2/2 [00:00<00:00,  2.13it/s]\n",
      "                 Class     Images  Instances      Box(P          R      mAP50  mAP50-95): 100%|██████████| 1/1 [00:00<00:00, 10.05it/s]"
     ]
    },
    {
     "name": "stdout",
     "output_type": "stream",
     "text": [
      "                   all         12         12     0.0042      0.167     0.0229    0.00927\n"
     ]
    },
    {
     "name": "stderr",
     "output_type": "stream",
     "text": [
      "\n"
     ]
    },
    {
     "name": "stdout",
     "output_type": "stream",
     "text": [
      "\n",
      "      Epoch    GPU_mem   box_loss   cls_loss   dfl_loss  Instances       Size\n"
     ]
    },
    {
     "name": "stderr",
     "output_type": "stream",
     "text": [
      "      2/300     0.531G      1.886      4.686      1.684         26        224: 100%|██████████| 2/2 [00:00<00:00, 10.39it/s]\n",
      "                 Class     Images  Instances      Box(P          R      mAP50  mAP50-95): 100%|██████████| 1/1 [00:00<00:00, 19.60it/s]"
     ]
    },
    {
     "name": "stdout",
     "output_type": "stream",
     "text": [
      "                   all         12         12    0.00437      0.167      0.016    0.00668\n"
     ]
    },
    {
     "name": "stderr",
     "output_type": "stream",
     "text": [
      "\n"
     ]
    },
    {
     "name": "stdout",
     "output_type": "stream",
     "text": [
      "\n",
      "      Epoch    GPU_mem   box_loss   cls_loss   dfl_loss  Instances       Size\n"
     ]
    },
    {
     "name": "stderr",
     "output_type": "stream",
     "text": [
      "      3/300     0.531G      1.933      4.681      1.805         20        224: 100%|██████████| 2/2 [00:00<00:00, 12.66it/s]\n",
      "                 Class     Images  Instances      Box(P          R      mAP50  mAP50-95): 100%|██████████| 1/1 [00:00<00:00, 19.80it/s]"
     ]
    },
    {
     "name": "stdout",
     "output_type": "stream",
     "text": [
      "                   all         12         12    0.00459      0.167     0.0161    0.00672\n"
     ]
    },
    {
     "name": "stderr",
     "output_type": "stream",
     "text": [
      "\n"
     ]
    },
    {
     "name": "stdout",
     "output_type": "stream",
     "text": [
      "\n",
      "      Epoch    GPU_mem   box_loss   cls_loss   dfl_loss  Instances       Size\n"
     ]
    },
    {
     "name": "stderr",
     "output_type": "stream",
     "text": [
      "      4/300     0.543G      1.813      4.646      1.676         23        224: 100%|██████████| 2/2 [00:00<00:00, 15.65it/s]\n",
      "                 Class     Images  Instances      Box(P          R      mAP50  mAP50-95): 100%|██████████| 1/1 [00:00<00:00, 23.25it/s]"
     ]
    },
    {
     "name": "stdout",
     "output_type": "stream",
     "text": [
      "                   all         12         12    0.00467      0.167     0.0161    0.00674\n"
     ]
    },
    {
     "name": "stderr",
     "output_type": "stream",
     "text": [
      "\n"
     ]
    },
    {
     "name": "stdout",
     "output_type": "stream",
     "text": [
      "\n",
      "      Epoch    GPU_mem   box_loss   cls_loss   dfl_loss  Instances       Size\n"
     ]
    },
    {
     "name": "stderr",
     "output_type": "stream",
     "text": [
      "      5/300     0.543G      1.793      4.662      1.591         32        224: 100%|██████████| 2/2 [00:00<00:00, 16.88it/s]\n",
      "                 Class     Images  Instances      Box(P          R      mAP50  mAP50-95): 100%|██████████| 1/1 [00:00<00:00, 22.47it/s]"
     ]
    },
    {
     "name": "stdout",
     "output_type": "stream",
     "text": [
      "                   all         12         12    0.00469      0.167     0.0161    0.00673\n"
     ]
    },
    {
     "name": "stderr",
     "output_type": "stream",
     "text": [
      "\n"
     ]
    },
    {
     "name": "stdout",
     "output_type": "stream",
     "text": [
      "\n",
      "      Epoch    GPU_mem   box_loss   cls_loss   dfl_loss  Instances       Size\n"
     ]
    },
    {
     "name": "stderr",
     "output_type": "stream",
     "text": [
      "      6/300     0.543G      1.684      4.632      1.615         35        224: 100%|██████████| 2/2 [00:00<00:00, 16.79it/s]\n",
      "                 Class     Images  Instances      Box(P          R      mAP50  mAP50-95): 100%|██████████| 1/1 [00:00<00:00, 22.98it/s]"
     ]
    },
    {
     "name": "stdout",
     "output_type": "stream",
     "text": [
      "                   all         12         12    0.00457      0.167     0.0141    0.00591\n"
     ]
    },
    {
     "name": "stderr",
     "output_type": "stream",
     "text": [
      "\n"
     ]
    },
    {
     "name": "stdout",
     "output_type": "stream",
     "text": [
      "\n",
      "      Epoch    GPU_mem   box_loss   cls_loss   dfl_loss  Instances       Size\n"
     ]
    },
    {
     "name": "stderr",
     "output_type": "stream",
     "text": [
      "      7/300     0.543G      1.806      4.613      1.661         27        224: 100%|██████████| 2/2 [00:00<00:00, 16.75it/s]\n",
      "                 Class     Images  Instances      Box(P          R      mAP50  mAP50-95): 100%|██████████| 1/1 [00:00<00:00, 22.98it/s]"
     ]
    },
    {
     "name": "stdout",
     "output_type": "stream",
     "text": [
      "                   all         12         12    0.00463      0.167     0.0127     0.0052\n"
     ]
    },
    {
     "name": "stderr",
     "output_type": "stream",
     "text": [
      "\n"
     ]
    },
    {
     "name": "stdout",
     "output_type": "stream",
     "text": [
      "\n",
      "      Epoch    GPU_mem   box_loss   cls_loss   dfl_loss  Instances       Size\n"
     ]
    },
    {
     "name": "stderr",
     "output_type": "stream",
     "text": [
      "      8/300     0.543G       1.63      4.523      1.568         23        224: 100%|██████████| 2/2 [00:00<00:00, 15.90it/s]\n",
      "                 Class     Images  Instances      Box(P          R      mAP50  mAP50-95): 100%|██████████| 1/1 [00:00<00:00, 22.01it/s]"
     ]
    },
    {
     "name": "stdout",
     "output_type": "stream",
     "text": [
      "                   all         12         12    0.00233     0.0833    0.00785    0.00314\n"
     ]
    },
    {
     "name": "stderr",
     "output_type": "stream",
     "text": [
      "\n"
     ]
    },
    {
     "name": "stdout",
     "output_type": "stream",
     "text": [
      "\n",
      "      Epoch    GPU_mem   box_loss   cls_loss   dfl_loss  Instances       Size\n"
     ]
    },
    {
     "name": "stderr",
     "output_type": "stream",
     "text": [
      "      9/300     0.543G      1.687      4.588      1.598         24        224: 100%|██████████| 2/2 [00:00<00:00, 16.46it/s]\n",
      "                 Class     Images  Instances      Box(P          R      mAP50  mAP50-95): 100%|██████████| 1/1 [00:00<00:00, 23.26it/s]"
     ]
    },
    {
     "name": "stdout",
     "output_type": "stream",
     "text": [
      "                   all         12         12     0.0023     0.0833    0.00921    0.00369\n"
     ]
    },
    {
     "name": "stderr",
     "output_type": "stream",
     "text": [
      "\n"
     ]
    },
    {
     "name": "stdout",
     "output_type": "stream",
     "text": [
      "\n",
      "      Epoch    GPU_mem   box_loss   cls_loss   dfl_loss  Instances       Size\n"
     ]
    },
    {
     "name": "stderr",
     "output_type": "stream",
     "text": [
      "     10/300     0.543G      1.584      4.537      1.572         24        224: 100%|██████████| 2/2 [00:00<00:00, 15.68it/s]\n",
      "                 Class     Images  Instances      Box(P          R      mAP50  mAP50-95): 100%|██████████| 1/1 [00:00<00:00, 24.08it/s]"
     ]
    },
    {
     "name": "stdout",
     "output_type": "stream",
     "text": [
      "                   all         12         12    0.00226     0.0833     0.0092     0.0046\n"
     ]
    },
    {
     "name": "stderr",
     "output_type": "stream",
     "text": [
      "\n"
     ]
    },
    {
     "name": "stdout",
     "output_type": "stream",
     "text": [
      "\n",
      "      Epoch    GPU_mem   box_loss   cls_loss   dfl_loss  Instances       Size\n"
     ]
    },
    {
     "name": "stderr",
     "output_type": "stream",
     "text": [
      "     11/300     0.543G      1.656      4.481      1.611         27        224: 100%|██████████| 2/2 [00:00<00:00, 17.21it/s]\n",
      "                 Class     Images  Instances      Box(P          R      mAP50  mAP50-95): 100%|██████████| 1/1 [00:00<00:00, 24.64it/s]"
     ]
    },
    {
     "name": "stdout",
     "output_type": "stream",
     "text": [
      "                   all         12         12    0.00225     0.0833    0.00729    0.00364\n"
     ]
    },
    {
     "name": "stderr",
     "output_type": "stream",
     "text": [
      "\n"
     ]
    },
    {
     "name": "stdout",
     "output_type": "stream",
     "text": [
      "\n",
      "      Epoch    GPU_mem   box_loss   cls_loss   dfl_loss  Instances       Size\n"
     ]
    },
    {
     "name": "stderr",
     "output_type": "stream",
     "text": [
      "     12/300     0.543G      1.424      4.459      1.516         37        224: 100%|██████████| 2/2 [00:00<00:00, 16.60it/s]\n",
      "                 Class     Images  Instances      Box(P          R      mAP50  mAP50-95): 100%|██████████| 1/1 [00:00<00:00, 23.25it/s]"
     ]
    },
    {
     "name": "stdout",
     "output_type": "stream",
     "text": [
      "                   all         12         12    0.00219     0.0833    0.00607    0.00364\n"
     ]
    },
    {
     "name": "stderr",
     "output_type": "stream",
     "text": [
      "\n"
     ]
    },
    {
     "name": "stdout",
     "output_type": "stream",
     "text": [
      "\n",
      "      Epoch    GPU_mem   box_loss   cls_loss   dfl_loss  Instances       Size\n"
     ]
    },
    {
     "name": "stderr",
     "output_type": "stream",
     "text": [
      "     13/300     0.543G      1.673       4.44      1.663         34        224: 100%|██████████| 2/2 [00:00<00:00, 15.56it/s]\n",
      "                 Class     Images  Instances      Box(P          R      mAP50  mAP50-95): 100%|██████████| 1/1 [00:00<00:00, 24.09it/s]"
     ]
    },
    {
     "name": "stdout",
     "output_type": "stream",
     "text": [
      "                   all         12         12    0.00216     0.0833    0.00778    0.00467\n"
     ]
    },
    {
     "name": "stderr",
     "output_type": "stream",
     "text": [
      "\n"
     ]
    },
    {
     "name": "stdout",
     "output_type": "stream",
     "text": [
      "\n",
      "      Epoch    GPU_mem   box_loss   cls_loss   dfl_loss  Instances       Size\n"
     ]
    },
    {
     "name": "stderr",
     "output_type": "stream",
     "text": [
      "     14/300     0.543G      1.468      4.387      1.452         28        224: 100%|██████████| 2/2 [00:00<00:00, 16.90it/s]\n",
      "                 Class     Images  Instances      Box(P          R      mAP50  mAP50-95): 100%|██████████| 1/1 [00:00<00:00, 24.09it/s]"
     ]
    },
    {
     "name": "stdout",
     "output_type": "stream",
     "text": [
      "                   all         12         12    0.00429      0.167     0.0159    0.00904\n"
     ]
    },
    {
     "name": "stderr",
     "output_type": "stream",
     "text": [
      "\n"
     ]
    },
    {
     "name": "stdout",
     "output_type": "stream",
     "text": [
      "\n",
      "      Epoch    GPU_mem   box_loss   cls_loss   dfl_loss  Instances       Size\n"
     ]
    },
    {
     "name": "stderr",
     "output_type": "stream",
     "text": [
      "     15/300     0.543G      1.297      4.321      1.456         26        224: 100%|██████████| 2/2 [00:00<00:00, 17.22it/s]\n",
      "                 Class     Images  Instances      Box(P          R      mAP50  mAP50-95): 100%|██████████| 1/1 [00:00<00:00, 22.99it/s]"
     ]
    },
    {
     "name": "stdout",
     "output_type": "stream",
     "text": [
      "                   all         12         12      0.006       0.25     0.0395     0.0187\n"
     ]
    },
    {
     "name": "stderr",
     "output_type": "stream",
     "text": [
      "\n"
     ]
    },
    {
     "name": "stdout",
     "output_type": "stream",
     "text": [
      "\n",
      "      Epoch    GPU_mem   box_loss   cls_loss   dfl_loss  Instances       Size\n"
     ]
    },
    {
     "name": "stderr",
     "output_type": "stream",
     "text": [
      "     16/300     0.543G      1.737      4.375      1.606         27        224: 100%|██████████| 2/2 [00:00<00:00, 16.13it/s]\n",
      "                 Class     Images  Instances      Box(P          R      mAP50  mAP50-95): 100%|██████████| 1/1 [00:00<00:00, 22.02it/s]"
     ]
    },
    {
     "name": "stdout",
     "output_type": "stream",
     "text": [
      "                   all         12         12    0.00598       0.25     0.0414     0.0189\n"
     ]
    },
    {
     "name": "stderr",
     "output_type": "stream",
     "text": [
      "\n"
     ]
    },
    {
     "name": "stdout",
     "output_type": "stream",
     "text": [
      "\n",
      "      Epoch    GPU_mem   box_loss   cls_loss   dfl_loss  Instances       Size\n"
     ]
    },
    {
     "name": "stderr",
     "output_type": "stream",
     "text": [
      "     17/300     0.543G      1.499      4.295      1.487         24        224: 100%|██████████| 2/2 [00:00<00:00, 16.87it/s]\n",
      "                 Class     Images  Instances      Box(P          R      mAP50  mAP50-95): 100%|██████████| 1/1 [00:00<00:00, 22.72it/s]"
     ]
    },
    {
     "name": "stdout",
     "output_type": "stream",
     "text": [
      "                   all         12         12    0.00803      0.333     0.0595     0.0203\n"
     ]
    },
    {
     "name": "stderr",
     "output_type": "stream",
     "text": [
      "\n"
     ]
    },
    {
     "name": "stdout",
     "output_type": "stream",
     "text": [
      "\n",
      "      Epoch    GPU_mem   box_loss   cls_loss   dfl_loss  Instances       Size\n"
     ]
    },
    {
     "name": "stderr",
     "output_type": "stream",
     "text": [
      "     18/300     0.543G      1.418      4.244      1.443         34        224: 100%|██████████| 2/2 [00:00<00:00, 16.44it/s]\n",
      "                 Class     Images  Instances      Box(P          R      mAP50  mAP50-95): 100%|██████████| 1/1 [00:00<00:00, 23.24it/s]\n"
     ]
    },
    {
     "name": "stdout",
     "output_type": "stream",
     "text": [
      "                   all         12         12    0.00813      0.333     0.0411     0.0189\n",
      "\n",
      "      Epoch    GPU_mem   box_loss   cls_loss   dfl_loss  Instances       Size\n"
     ]
    },
    {
     "name": "stderr",
     "output_type": "stream",
     "text": [
      "     19/300     0.543G       1.36      4.226      1.393         21        224: 100%|██████████| 2/2 [00:00<00:00, 15.61it/s]\n",
      "                 Class     Images  Instances      Box(P          R      mAP50  mAP50-95): 100%|██████████| 1/1 [00:00<00:00, 23.81it/s]"
     ]
    },
    {
     "name": "stdout",
     "output_type": "stream",
     "text": [
      "                   all         12         12    0.00617       0.25     0.0483     0.0264\n"
     ]
    },
    {
     "name": "stderr",
     "output_type": "stream",
     "text": [
      "\n"
     ]
    },
    {
     "name": "stdout",
     "output_type": "stream",
     "text": [
      "\n",
      "      Epoch    GPU_mem   box_loss   cls_loss   dfl_loss  Instances       Size\n"
     ]
    },
    {
     "name": "stderr",
     "output_type": "stream",
     "text": [
      "     20/300     0.543G      1.351      4.124      1.431         35        224: 100%|██████████| 2/2 [00:00<00:00, 16.26it/s]\n",
      "                 Class     Images  Instances      Box(P          R      mAP50  mAP50-95): 100%|██████████| 1/1 [00:00<00:00, 23.52it/s]"
     ]
    },
    {
     "name": "stdout",
     "output_type": "stream",
     "text": [
      "                   all         12         12    0.00607       0.25     0.0327     0.0178\n"
     ]
    },
    {
     "name": "stderr",
     "output_type": "stream",
     "text": [
      "\n"
     ]
    },
    {
     "name": "stdout",
     "output_type": "stream",
     "text": [
      "\n",
      "      Epoch    GPU_mem   box_loss   cls_loss   dfl_loss  Instances       Size\n"
     ]
    },
    {
     "name": "stderr",
     "output_type": "stream",
     "text": [
      "     21/300     0.543G       1.33      4.152      1.386         21        224: 100%|██████████| 2/2 [00:00<00:00, 15.93it/s]\n",
      "                 Class     Images  Instances      Box(P          R      mAP50  mAP50-95): 100%|██████████| 1/1 [00:00<00:00, 22.98it/s]"
     ]
    },
    {
     "name": "stdout",
     "output_type": "stream",
     "text": [
      "                   all         12         12    0.00417      0.167     0.0434     0.0259\n"
     ]
    },
    {
     "name": "stderr",
     "output_type": "stream",
     "text": [
      "\n"
     ]
    },
    {
     "name": "stdout",
     "output_type": "stream",
     "text": [
      "\n",
      "      Epoch    GPU_mem   box_loss   cls_loss   dfl_loss  Instances       Size\n"
     ]
    },
    {
     "name": "stderr",
     "output_type": "stream",
     "text": [
      "     22/300     0.543G      1.373      4.104      1.348         33        224: 100%|██████████| 2/2 [00:00<00:00, 16.99it/s]\n",
      "                 Class     Images  Instances      Box(P          R      mAP50  mAP50-95): 100%|██████████| 1/1 [00:00<00:00, 23.53it/s]"
     ]
    },
    {
     "name": "stdout",
     "output_type": "stream",
     "text": [
      "                   all         12         12    0.00625       0.25     0.0452     0.0256\n"
     ]
    },
    {
     "name": "stderr",
     "output_type": "stream",
     "text": [
      "\n"
     ]
    },
    {
     "name": "stdout",
     "output_type": "stream",
     "text": [
      "\n",
      "      Epoch    GPU_mem   box_loss   cls_loss   dfl_loss  Instances       Size\n"
     ]
    },
    {
     "name": "stderr",
     "output_type": "stream",
     "text": [
      "     23/300     0.543G      1.247      4.038      1.418         31        224: 100%|██████████| 2/2 [00:00<00:00, 15.93it/s]\n",
      "                 Class     Images  Instances      Box(P          R      mAP50  mAP50-95): 100%|██████████| 1/1 [00:00<00:00, 23.26it/s]"
     ]
    },
    {
     "name": "stdout",
     "output_type": "stream",
     "text": [
      "                   all         12         12    0.00214     0.0833     0.0421     0.0253\n"
     ]
    },
    {
     "name": "stderr",
     "output_type": "stream",
     "text": [
      "\n"
     ]
    },
    {
     "name": "stdout",
     "output_type": "stream",
     "text": [
      "\n",
      "      Epoch    GPU_mem   box_loss   cls_loss   dfl_loss  Instances       Size\n"
     ]
    },
    {
     "name": "stderr",
     "output_type": "stream",
     "text": [
      "     24/300     0.543G      1.305      3.995      1.387         22        224: 100%|██████████| 2/2 [00:00<00:00, 16.17it/s]\n",
      "                 Class     Images  Instances      Box(P          R      mAP50  mAP50-95): 100%|██████████| 1/1 [00:00<00:00, 19.56it/s]"
     ]
    },
    {
     "name": "stdout",
     "output_type": "stream",
     "text": [
      "                   all         12         12    0.00225     0.0833     0.0422     0.0253\n"
     ]
    },
    {
     "name": "stderr",
     "output_type": "stream",
     "text": [
      "\n"
     ]
    },
    {
     "name": "stdout",
     "output_type": "stream",
     "text": [
      "\n",
      "      Epoch    GPU_mem   box_loss   cls_loss   dfl_loss  Instances       Size\n"
     ]
    },
    {
     "name": "stderr",
     "output_type": "stream",
     "text": [
      "     25/300     0.543G      1.346      3.928      1.358         33        224: 100%|██████████| 2/2 [00:00<00:00, 16.38it/s]\n",
      "                 Class     Images  Instances      Box(P          R      mAP50  mAP50-95): 100%|██████████| 1/1 [00:00<00:00, 18.85it/s]"
     ]
    },
    {
     "name": "stdout",
     "output_type": "stream",
     "text": [
      "                   all         12         12    0.00222     0.0833     0.0834     0.0501\n"
     ]
    },
    {
     "name": "stderr",
     "output_type": "stream",
     "text": [
      "\n"
     ]
    },
    {
     "name": "stdout",
     "output_type": "stream",
     "text": [
      "\n",
      "      Epoch    GPU_mem   box_loss   cls_loss   dfl_loss  Instances       Size\n"
     ]
    },
    {
     "name": "stderr",
     "output_type": "stream",
     "text": [
      "     26/300     0.551G      1.288      3.916      1.413         26        224: 100%|██████████| 2/2 [00:00<00:00, 17.24it/s]\n",
      "                 Class     Images  Instances      Box(P          R      mAP50  mAP50-95): 100%|██████████| 1/1 [00:00<00:00, 22.94it/s]"
     ]
    },
    {
     "name": "stdout",
     "output_type": "stream",
     "text": [
      "                   all         12         12    0.00222     0.0833     0.0834     0.0584\n"
     ]
    },
    {
     "name": "stderr",
     "output_type": "stream",
     "text": [
      "\n"
     ]
    },
    {
     "name": "stdout",
     "output_type": "stream",
     "text": [
      "\n",
      "      Epoch    GPU_mem   box_loss   cls_loss   dfl_loss  Instances       Size\n"
     ]
    },
    {
     "name": "stderr",
     "output_type": "stream",
     "text": [
      "     27/300     0.551G      1.205      3.838       1.38         25        224: 100%|██████████| 2/2 [00:00<00:00, 16.46it/s]\n",
      "                 Class     Images  Instances      Box(P          R      mAP50  mAP50-95): 100%|██████████| 1/1 [00:00<00:00, 23.25it/s]"
     ]
    },
    {
     "name": "stdout",
     "output_type": "stream",
     "text": [
      "                   all         12         12    0.00442      0.167     0.0848     0.0585\n"
     ]
    },
    {
     "name": "stderr",
     "output_type": "stream",
     "text": [
      "\n"
     ]
    },
    {
     "name": "stdout",
     "output_type": "stream",
     "text": [
      "\n",
      "      Epoch    GPU_mem   box_loss   cls_loss   dfl_loss  Instances       Size\n"
     ]
    },
    {
     "name": "stderr",
     "output_type": "stream",
     "text": [
      "     28/300     0.551G       1.22      3.812      1.361         29        224: 100%|██████████| 2/2 [00:00<00:00, 17.77it/s]\n",
      "                 Class     Images  Instances      Box(P          R      mAP50  mAP50-95): 100%|██████████| 1/1 [00:00<00:00, 23.51it/s]"
     ]
    },
    {
     "name": "stdout",
     "output_type": "stream",
     "text": [
      "                   all         12         12    0.00225     0.0833     0.0834     0.0584\n"
     ]
    },
    {
     "name": "stderr",
     "output_type": "stream",
     "text": [
      "\n"
     ]
    },
    {
     "name": "stdout",
     "output_type": "stream",
     "text": [
      "\n",
      "      Epoch    GPU_mem   box_loss   cls_loss   dfl_loss  Instances       Size\n"
     ]
    },
    {
     "name": "stderr",
     "output_type": "stream",
     "text": [
      "     29/300     0.551G      1.354       3.79      1.444         27        224: 100%|██████████| 2/2 [00:00<00:00, 16.59it/s]\n",
      "                 Class     Images  Instances      Box(P          R      mAP50  mAP50-95): 100%|██████████| 1/1 [00:00<00:00, 21.74it/s]"
     ]
    },
    {
     "name": "stdout",
     "output_type": "stream",
     "text": [
      "                   all         12         12    0.00646       0.25     0.0863     0.0523\n"
     ]
    },
    {
     "name": "stderr",
     "output_type": "stream",
     "text": [
      "\n"
     ]
    },
    {
     "name": "stdout",
     "output_type": "stream",
     "text": [
      "\n",
      "      Epoch    GPU_mem   box_loss   cls_loss   dfl_loss  Instances       Size\n"
     ]
    },
    {
     "name": "stderr",
     "output_type": "stream",
     "text": [
      "     30/300     0.553G      1.145      3.766      1.285         28        224: 100%|██████████| 2/2 [00:00<00:00, 17.69it/s]\n",
      "                 Class     Images  Instances      Box(P          R      mAP50  mAP50-95): 100%|██████████| 1/1 [00:00<00:00, 23.52it/s]"
     ]
    },
    {
     "name": "stdout",
     "output_type": "stream",
     "text": [
      "                   all         12         12     0.0109      0.417     0.0896     0.0612\n"
     ]
    },
    {
     "name": "stderr",
     "output_type": "stream",
     "text": [
      "\n"
     ]
    },
    {
     "name": "stdout",
     "output_type": "stream",
     "text": [
      "\n",
      "      Epoch    GPU_mem   box_loss   cls_loss   dfl_loss  Instances       Size\n"
     ]
    },
    {
     "name": "stderr",
     "output_type": "stream",
     "text": [
      "     31/300     0.553G      1.298      3.712      1.382         30        224: 100%|██████████| 2/2 [00:00<00:00, 17.91it/s]\n",
      "                 Class     Images  Instances      Box(P          R      mAP50  mAP50-95): 100%|██████████| 1/1 [00:00<00:00, 23.81it/s]"
     ]
    },
    {
     "name": "stdout",
     "output_type": "stream",
     "text": [
      "                   all         12         12     0.0149      0.583     0.0949     0.0649\n"
     ]
    },
    {
     "name": "stderr",
     "output_type": "stream",
     "text": [
      "\n"
     ]
    },
    {
     "name": "stdout",
     "output_type": "stream",
     "text": [
      "\n",
      "      Epoch    GPU_mem   box_loss   cls_loss   dfl_loss  Instances       Size\n"
     ]
    },
    {
     "name": "stderr",
     "output_type": "stream",
     "text": [
      "     32/300     0.553G       1.33      3.633       1.36         26        224: 100%|██████████| 2/2 [00:00<00:00, 16.90it/s]\n",
      "                 Class     Images  Instances      Box(P          R      mAP50  mAP50-95): 100%|██████████| 1/1 [00:00<00:00, 22.42it/s]"
     ]
    },
    {
     "name": "stdout",
     "output_type": "stream",
     "text": [
      "                   all         12         12     0.0143      0.583      0.136     0.0979\n"
     ]
    },
    {
     "name": "stderr",
     "output_type": "stream",
     "text": [
      "\n"
     ]
    },
    {
     "name": "stdout",
     "output_type": "stream",
     "text": [
      "\n",
      "      Epoch    GPU_mem   box_loss   cls_loss   dfl_loss  Instances       Size\n"
     ]
    },
    {
     "name": "stderr",
     "output_type": "stream",
     "text": [
      "     33/300     0.553G      1.231      3.687      1.393         25        224: 100%|██████████| 2/2 [00:00<00:00, 16.46it/s]\n",
      "                 Class     Images  Instances      Box(P          R      mAP50  mAP50-95): 100%|██████████| 1/1 [00:00<00:00, 22.72it/s]"
     ]
    },
    {
     "name": "stdout",
     "output_type": "stream",
     "text": [
      "                   all         12         12     0.0126      0.583      0.208      0.149\n"
     ]
    },
    {
     "name": "stderr",
     "output_type": "stream",
     "text": [
      "\n"
     ]
    },
    {
     "name": "stdout",
     "output_type": "stream",
     "text": [
      "\n",
      "      Epoch    GPU_mem   box_loss   cls_loss   dfl_loss  Instances       Size\n"
     ]
    },
    {
     "name": "stderr",
     "output_type": "stream",
     "text": [
      "     34/300     0.553G       1.22       3.59      1.362         22        224: 100%|██████████| 2/2 [00:00<00:00, 17.93it/s]\n",
      "                 Class     Images  Instances      Box(P          R      mAP50  mAP50-95): 100%|██████████| 1/1 [00:00<00:00, 22.90it/s]"
     ]
    },
    {
     "name": "stdout",
     "output_type": "stream",
     "text": [
      "                   all         12         12     0.0105      0.583      0.283      0.207\n"
     ]
    },
    {
     "name": "stderr",
     "output_type": "stream",
     "text": [
      "\n"
     ]
    },
    {
     "name": "stdout",
     "output_type": "stream",
     "text": [
      "\n",
      "      Epoch    GPU_mem   box_loss   cls_loss   dfl_loss  Instances       Size\n"
     ]
    },
    {
     "name": "stderr",
     "output_type": "stream",
     "text": [
      "     35/300     0.553G      1.323       3.44      1.375         31        224: 100%|██████████| 2/2 [00:00<00:00, 18.10it/s]\n",
      "                 Class     Images  Instances      Box(P          R      mAP50  mAP50-95): 100%|██████████| 1/1 [00:00<00:00, 22.99it/s]"
     ]
    },
    {
     "name": "stdout",
     "output_type": "stream",
     "text": [
      "                   all         12         12     0.0126       0.75       0.37      0.256\n"
     ]
    },
    {
     "name": "stderr",
     "output_type": "stream",
     "text": [
      "\n"
     ]
    },
    {
     "name": "stdout",
     "output_type": "stream",
     "text": [
      "\n",
      "      Epoch    GPU_mem   box_loss   cls_loss   dfl_loss  Instances       Size\n"
     ]
    },
    {
     "name": "stderr",
     "output_type": "stream",
     "text": [
      "     36/300     0.553G      1.165      3.341      1.343         23        224: 100%|██████████| 2/2 [00:00<00:00, 18.65it/s]\n",
      "                 Class     Images  Instances      Box(P          R      mAP50  mAP50-95): 100%|██████████| 1/1 [00:00<00:00, 23.52it/s]"
     ]
    },
    {
     "name": "stdout",
     "output_type": "stream",
     "text": [
      "                   all         12         12     0.0136      0.833      0.351      0.248\n"
     ]
    },
    {
     "name": "stderr",
     "output_type": "stream",
     "text": [
      "\n"
     ]
    },
    {
     "name": "stdout",
     "output_type": "stream",
     "text": [
      "\n",
      "      Epoch    GPU_mem   box_loss   cls_loss   dfl_loss  Instances       Size\n"
     ]
    },
    {
     "name": "stderr",
     "output_type": "stream",
     "text": [
      "     37/300     0.553G      1.344      3.388      1.432         25        224: 100%|██████████| 2/2 [00:00<00:00, 17.93it/s]\n",
      "                 Class     Images  Instances      Box(P          R      mAP50  mAP50-95): 100%|██████████| 1/1 [00:00<00:00, 21.97it/s]"
     ]
    },
    {
     "name": "stdout",
     "output_type": "stream",
     "text": [
      "                   all         12         12     0.0152      0.917      0.353       0.24\n"
     ]
    },
    {
     "name": "stderr",
     "output_type": "stream",
     "text": [
      "\n"
     ]
    },
    {
     "name": "stdout",
     "output_type": "stream",
     "text": [
      "\n",
      "      Epoch    GPU_mem   box_loss   cls_loss   dfl_loss  Instances       Size\n"
     ]
    },
    {
     "name": "stderr",
     "output_type": "stream",
     "text": [
      "     38/300     0.553G      1.201      3.283      1.299         30        224: 100%|██████████| 2/2 [00:00<00:00, 16.80it/s]\n",
      "                 Class     Images  Instances      Box(P          R      mAP50  mAP50-95): 100%|██████████| 1/1 [00:00<00:00, 22.47it/s]"
     ]
    },
    {
     "name": "stdout",
     "output_type": "stream",
     "text": [
      "                   all         12         12     0.0142      0.917      0.368      0.255\n"
     ]
    },
    {
     "name": "stderr",
     "output_type": "stream",
     "text": [
      "\n"
     ]
    },
    {
     "name": "stdout",
     "output_type": "stream",
     "text": [
      "\n",
      "      Epoch    GPU_mem   box_loss   cls_loss   dfl_loss  Instances       Size\n"
     ]
    },
    {
     "name": "stderr",
     "output_type": "stream",
     "text": [
      "     39/300     0.553G       1.18       3.14      1.372         28        224: 100%|██████████| 2/2 [00:00<00:00, 16.66it/s]\n",
      "                 Class     Images  Instances      Box(P          R      mAP50  mAP50-95): 100%|██████████| 1/1 [00:00<00:00, 21.83it/s]"
     ]
    },
    {
     "name": "stdout",
     "output_type": "stream",
     "text": [
      "                   all         12         12     0.0143      0.917      0.552       0.36\n"
     ]
    },
    {
     "name": "stderr",
     "output_type": "stream",
     "text": [
      "\n"
     ]
    },
    {
     "name": "stdout",
     "output_type": "stream",
     "text": [
      "\n",
      "      Epoch    GPU_mem   box_loss   cls_loss   dfl_loss  Instances       Size\n"
     ]
    },
    {
     "name": "stderr",
     "output_type": "stream",
     "text": [
      "     40/300     0.553G      1.146      3.059      1.281         23        224: 100%|██████████| 2/2 [00:00<00:00, 14.70it/s]\n",
      "                 Class     Images  Instances      Box(P          R      mAP50  mAP50-95): 100%|██████████| 1/1 [00:00<00:00, 22.13it/s]"
     ]
    },
    {
     "name": "stdout",
     "output_type": "stream",
     "text": [
      "                   all         12         12     0.0147          1       0.64      0.414\n"
     ]
    },
    {
     "name": "stderr",
     "output_type": "stream",
     "text": [
      "\n"
     ]
    },
    {
     "name": "stdout",
     "output_type": "stream",
     "text": [
      "\n",
      "      Epoch    GPU_mem   box_loss   cls_loss   dfl_loss  Instances       Size\n"
     ]
    },
    {
     "name": "stderr",
     "output_type": "stream",
     "text": [
      "     41/300     0.553G      1.198      2.869      1.306         31        224: 100%|██████████| 2/2 [00:00<00:00, 17.02it/s]\n",
      "                 Class     Images  Instances      Box(P          R      mAP50  mAP50-95): 100%|██████████| 1/1 [00:00<00:00, 22.46it/s]"
     ]
    },
    {
     "name": "stdout",
     "output_type": "stream",
     "text": [
      "                   all         12         12     0.0147          1      0.685      0.428\n"
     ]
    },
    {
     "name": "stderr",
     "output_type": "stream",
     "text": [
      "\n"
     ]
    },
    {
     "name": "stdout",
     "output_type": "stream",
     "text": [
      "\n",
      "      Epoch    GPU_mem   box_loss   cls_loss   dfl_loss  Instances       Size\n"
     ]
    },
    {
     "name": "stderr",
     "output_type": "stream",
     "text": [
      "     42/300     0.553G      1.212      2.668      1.369         25        224: 100%|██████████| 2/2 [00:00<00:00, 16.52it/s]\n",
      "                 Class     Images  Instances      Box(P          R      mAP50  mAP50-95): 100%|██████████| 1/1 [00:00<00:00, 21.50it/s]"
     ]
    },
    {
     "name": "stdout",
     "output_type": "stream",
     "text": [
      "                   all         12         12     0.0148          1       0.68      0.441\n"
     ]
    },
    {
     "name": "stderr",
     "output_type": "stream",
     "text": [
      "\n"
     ]
    },
    {
     "name": "stdout",
     "output_type": "stream",
     "text": [
      "\n",
      "      Epoch    GPU_mem   box_loss   cls_loss   dfl_loss  Instances       Size\n"
     ]
    },
    {
     "name": "stderr",
     "output_type": "stream",
     "text": [
      "     43/300     0.553G      1.114      2.524      1.357         23        224: 100%|██████████| 2/2 [00:00<00:00, 16.06it/s]\n",
      "                 Class     Images  Instances      Box(P          R      mAP50  mAP50-95): 100%|██████████| 1/1 [00:00<00:00, 22.47it/s]"
     ]
    },
    {
     "name": "stdout",
     "output_type": "stream",
     "text": [
      "                   all         12         12       0.85      0.621      0.707      0.467\n"
     ]
    },
    {
     "name": "stderr",
     "output_type": "stream",
     "text": [
      "\n"
     ]
    },
    {
     "name": "stdout",
     "output_type": "stream",
     "text": [
      "\n",
      "      Epoch    GPU_mem   box_loss   cls_loss   dfl_loss  Instances       Size\n"
     ]
    },
    {
     "name": "stderr",
     "output_type": "stream",
     "text": [
      "     44/300     0.553G      1.177      2.476       1.34         29        224: 100%|██████████| 2/2 [00:00<00:00, 16.19it/s]\n",
      "                 Class     Images  Instances      Box(P          R      mAP50  mAP50-95): 100%|██████████| 1/1 [00:00<00:00, 21.73it/s]"
     ]
    },
    {
     "name": "stdout",
     "output_type": "stream",
     "text": [
      "                   all         12         12      0.857      0.533      0.734      0.499\n"
     ]
    },
    {
     "name": "stderr",
     "output_type": "stream",
     "text": [
      "\n"
     ]
    },
    {
     "name": "stdout",
     "output_type": "stream",
     "text": [
      "\n",
      "      Epoch    GPU_mem   box_loss   cls_loss   dfl_loss  Instances       Size\n"
     ]
    },
    {
     "name": "stderr",
     "output_type": "stream",
     "text": [
      "     45/300     0.553G      1.129      2.236      1.316         32        224: 100%|██████████| 2/2 [00:00<00:00, 16.95it/s]\n",
      "                 Class     Images  Instances      Box(P          R      mAP50  mAP50-95): 100%|██████████| 1/1 [00:00<00:00, 21.73it/s]"
     ]
    },
    {
     "name": "stdout",
     "output_type": "stream",
     "text": [
      "                   all         12         12      0.733      0.562       0.75      0.534\n"
     ]
    },
    {
     "name": "stderr",
     "output_type": "stream",
     "text": [
      "\n"
     ]
    },
    {
     "name": "stdout",
     "output_type": "stream",
     "text": [
      "\n",
      "      Epoch    GPU_mem   box_loss   cls_loss   dfl_loss  Instances       Size\n"
     ]
    },
    {
     "name": "stderr",
     "output_type": "stream",
     "text": [
      "     46/300     0.553G      1.287      2.258      1.476         24        224: 100%|██████████| 2/2 [00:00<00:00, 15.54it/s]\n",
      "                 Class     Images  Instances      Box(P          R      mAP50  mAP50-95): 100%|██████████| 1/1 [00:00<00:00, 20.18it/s]"
     ]
    },
    {
     "name": "stdout",
     "output_type": "stream",
     "text": [
      "                   all         12         12      0.733       0.59      0.737      0.543\n"
     ]
    },
    {
     "name": "stderr",
     "output_type": "stream",
     "text": [
      "\n"
     ]
    },
    {
     "name": "stdout",
     "output_type": "stream",
     "text": [
      "\n",
      "      Epoch    GPU_mem   box_loss   cls_loss   dfl_loss  Instances       Size\n"
     ]
    },
    {
     "name": "stderr",
     "output_type": "stream",
     "text": [
      "     47/300     0.553G      1.148      2.026      1.356         20        224: 100%|██████████| 2/2 [00:00<00:00, 15.75it/s]\n",
      "                 Class     Images  Instances      Box(P          R      mAP50  mAP50-95): 100%|██████████| 1/1 [00:00<00:00, 17.19it/s]"
     ]
    },
    {
     "name": "stdout",
     "output_type": "stream",
     "text": [
      "                   all         12         12      0.812      0.728       0.74      0.527\n"
     ]
    },
    {
     "name": "stderr",
     "output_type": "stream",
     "text": [
      "\n"
     ]
    },
    {
     "name": "stdout",
     "output_type": "stream",
     "text": [
      "\n",
      "      Epoch    GPU_mem   box_loss   cls_loss   dfl_loss  Instances       Size\n"
     ]
    },
    {
     "name": "stderr",
     "output_type": "stream",
     "text": [
      "     48/300     0.553G      1.212      2.007      1.393         23        224: 100%|██████████| 2/2 [00:00<00:00, 16.00it/s]\n",
      "                 Class     Images  Instances      Box(P          R      mAP50  mAP50-95): 100%|██████████| 1/1 [00:00<00:00, 19.41it/s]"
     ]
    },
    {
     "name": "stdout",
     "output_type": "stream",
     "text": [
      "                   all         12         12      0.809      0.714      0.738      0.525\n"
     ]
    },
    {
     "name": "stderr",
     "output_type": "stream",
     "text": [
      "\n"
     ]
    },
    {
     "name": "stdout",
     "output_type": "stream",
     "text": [
      "\n",
      "      Epoch    GPU_mem   box_loss   cls_loss   dfl_loss  Instances       Size\n"
     ]
    },
    {
     "name": "stderr",
     "output_type": "stream",
     "text": [
      "     49/300     0.553G      1.151       1.87       1.36         21        224: 100%|██████████| 2/2 [00:00<00:00, 15.68it/s]\n",
      "                 Class     Images  Instances      Box(P          R      mAP50  mAP50-95): 100%|██████████| 1/1 [00:00<00:00, 19.39it/s]"
     ]
    },
    {
     "name": "stdout",
     "output_type": "stream",
     "text": [
      "                   all         12         12      0.686      0.667      0.718      0.532\n"
     ]
    },
    {
     "name": "stderr",
     "output_type": "stream",
     "text": [
      "\n"
     ]
    },
    {
     "name": "stdout",
     "output_type": "stream",
     "text": [
      "\n",
      "      Epoch    GPU_mem   box_loss   cls_loss   dfl_loss  Instances       Size\n"
     ]
    },
    {
     "name": "stderr",
     "output_type": "stream",
     "text": [
      "     50/300     0.553G      1.206      2.073      1.328         30        224: 100%|██████████| 2/2 [00:00<00:00, 15.68it/s]\n",
      "                 Class     Images  Instances      Box(P          R      mAP50  mAP50-95): 100%|██████████| 1/1 [00:00<00:00, 19.22it/s]"
     ]
    },
    {
     "name": "stdout",
     "output_type": "stream",
     "text": [
      "                   all         12         12      0.609      0.734      0.741      0.541\n"
     ]
    },
    {
     "name": "stderr",
     "output_type": "stream",
     "text": [
      "\n"
     ]
    },
    {
     "name": "stdout",
     "output_type": "stream",
     "text": [
      "\n",
      "      Epoch    GPU_mem   box_loss   cls_loss   dfl_loss  Instances       Size\n"
     ]
    },
    {
     "name": "stderr",
     "output_type": "stream",
     "text": [
      "     51/300     0.553G      1.167       1.91      1.328         26        224: 100%|██████████| 2/2 [00:00<00:00, 14.65it/s]\n",
      "                 Class     Images  Instances      Box(P          R      mAP50  mAP50-95): 100%|██████████| 1/1 [00:00<00:00, 19.04it/s]"
     ]
    },
    {
     "name": "stdout",
     "output_type": "stream",
     "text": [
      "                   all         12         12      0.609      0.759      0.782      0.534\n"
     ]
    },
    {
     "name": "stderr",
     "output_type": "stream",
     "text": [
      "\n"
     ]
    },
    {
     "name": "stdout",
     "output_type": "stream",
     "text": [
      "\n",
      "      Epoch    GPU_mem   box_loss   cls_loss   dfl_loss  Instances       Size\n"
     ]
    },
    {
     "name": "stderr",
     "output_type": "stream",
     "text": [
      "     52/300     0.553G      1.132      1.738      1.257         30        224: 100%|██████████| 2/2 [00:00<00:00, 15.74it/s]\n",
      "                 Class     Images  Instances      Box(P          R      mAP50  mAP50-95): 100%|██████████| 1/1 [00:00<00:00, 19.04it/s]"
     ]
    },
    {
     "name": "stdout",
     "output_type": "stream",
     "text": [
      "                   all         12         12      0.519      0.667      0.709      0.517\n"
     ]
    },
    {
     "name": "stderr",
     "output_type": "stream",
     "text": [
      "\n"
     ]
    },
    {
     "name": "stdout",
     "output_type": "stream",
     "text": [
      "\n",
      "      Epoch    GPU_mem   box_loss   cls_loss   dfl_loss  Instances       Size\n"
     ]
    },
    {
     "name": "stderr",
     "output_type": "stream",
     "text": [
      "     53/300     0.553G      1.207      1.804      1.309         31        224: 100%|██████████| 2/2 [00:00<00:00, 15.56it/s]\n",
      "                 Class     Images  Instances      Box(P          R      mAP50  mAP50-95): 100%|██████████| 1/1 [00:00<00:00, 19.04it/s]"
     ]
    },
    {
     "name": "stdout",
     "output_type": "stream",
     "text": [
      "                   all         12         12      0.589      0.655      0.702      0.471\n"
     ]
    },
    {
     "name": "stderr",
     "output_type": "stream",
     "text": [
      "\n"
     ]
    },
    {
     "name": "stdout",
     "output_type": "stream",
     "text": [
      "\n",
      "      Epoch    GPU_mem   box_loss   cls_loss   dfl_loss  Instances       Size\n"
     ]
    },
    {
     "name": "stderr",
     "output_type": "stream",
     "text": [
      "     54/300     0.553G      1.095      1.624      1.303         20        224: 100%|██████████| 2/2 [00:00<00:00, 16.00it/s]\n",
      "                 Class     Images  Instances      Box(P          R      mAP50  mAP50-95): 100%|██████████| 1/1 [00:00<00:00, 19.21it/s]"
     ]
    },
    {
     "name": "stdout",
     "output_type": "stream",
     "text": [
      "                   all         12         12      0.607       0.75       0.75      0.505\n"
     ]
    },
    {
     "name": "stderr",
     "output_type": "stream",
     "text": [
      "\n"
     ]
    },
    {
     "name": "stdout",
     "output_type": "stream",
     "text": [
      "\n",
      "      Epoch    GPU_mem   box_loss   cls_loss   dfl_loss  Instances       Size\n"
     ]
    },
    {
     "name": "stderr",
     "output_type": "stream",
     "text": [
      "     55/300     0.553G      1.097      1.423      1.226         26        224: 100%|██████████| 2/2 [00:00<00:00, 16.19it/s]\n",
      "                 Class     Images  Instances      Box(P          R      mAP50  mAP50-95): 100%|██████████| 1/1 [00:00<00:00, 19.04it/s]"
     ]
    },
    {
     "name": "stdout",
     "output_type": "stream",
     "text": [
      "                   all         12         12      0.693       0.77      0.778      0.543\n"
     ]
    },
    {
     "name": "stderr",
     "output_type": "stream",
     "text": [
      "\n"
     ]
    },
    {
     "name": "stdout",
     "output_type": "stream",
     "text": [
      "\n",
      "      Epoch    GPU_mem   box_loss   cls_loss   dfl_loss  Instances       Size\n"
     ]
    },
    {
     "name": "stderr",
     "output_type": "stream",
     "text": [
      "     56/300     0.553G      1.026        1.6       1.35         25        224: 100%|██████████| 2/2 [00:00<00:00, 16.06it/s]\n",
      "                 Class     Images  Instances      Box(P          R      mAP50  mAP50-95): 100%|██████████| 1/1 [00:00<00:00, 18.90it/s]"
     ]
    },
    {
     "name": "stdout",
     "output_type": "stream",
     "text": [
      "                   all         12         12      0.686      0.783      0.773      0.541\n"
     ]
    },
    {
     "name": "stderr",
     "output_type": "stream",
     "text": [
      "\n"
     ]
    },
    {
     "name": "stdout",
     "output_type": "stream",
     "text": [
      "\n",
      "      Epoch    GPU_mem   box_loss   cls_loss   dfl_loss  Instances       Size\n"
     ]
    },
    {
     "name": "stderr",
     "output_type": "stream",
     "text": [
      "     57/300     0.553G       1.14      1.659      1.335         26        224: 100%|██████████| 2/2 [00:00<00:00, 15.56it/s]\n",
      "                 Class     Images  Instances      Box(P          R      mAP50  mAP50-95): 100%|██████████| 1/1 [00:00<00:00, 18.18it/s]"
     ]
    },
    {
     "name": "stdout",
     "output_type": "stream",
     "text": [
      "                   all         12         12       0.62      0.772      0.776      0.528\n"
     ]
    },
    {
     "name": "stderr",
     "output_type": "stream",
     "text": [
      "\n"
     ]
    },
    {
     "name": "stdout",
     "output_type": "stream",
     "text": [
      "\n",
      "      Epoch    GPU_mem   box_loss   cls_loss   dfl_loss  Instances       Size\n"
     ]
    },
    {
     "name": "stderr",
     "output_type": "stream",
     "text": [
      "     58/300     0.553G      1.105      1.502      1.317         30        224: 100%|██████████| 2/2 [00:00<00:00, 15.15it/s]\n",
      "                 Class     Images  Instances      Box(P          R      mAP50  mAP50-95): 100%|██████████| 1/1 [00:00<00:00, 18.34it/s]"
     ]
    },
    {
     "name": "stdout",
     "output_type": "stream",
     "text": [
      "                   all         12         12      0.718       0.75      0.786      0.523\n"
     ]
    },
    {
     "name": "stderr",
     "output_type": "stream",
     "text": [
      "\n"
     ]
    },
    {
     "name": "stdout",
     "output_type": "stream",
     "text": [
      "\n",
      "      Epoch    GPU_mem   box_loss   cls_loss   dfl_loss  Instances       Size\n"
     ]
    },
    {
     "name": "stderr",
     "output_type": "stream",
     "text": [
      "     59/300     0.553G      1.106      1.527      1.272         27        224: 100%|██████████| 2/2 [00:00<00:00, 16.13it/s]\n",
      "                 Class     Images  Instances      Box(P          R      mAP50  mAP50-95): 100%|██████████| 1/1 [00:00<00:00, 18.51it/s]"
     ]
    },
    {
     "name": "stdout",
     "output_type": "stream",
     "text": [
      "                   all         12         12      0.717       0.75      0.844      0.554\n"
     ]
    },
    {
     "name": "stderr",
     "output_type": "stream",
     "text": [
      "\n"
     ]
    },
    {
     "name": "stdout",
     "output_type": "stream",
     "text": [
      "\n",
      "      Epoch    GPU_mem   box_loss   cls_loss   dfl_loss  Instances       Size\n"
     ]
    },
    {
     "name": "stderr",
     "output_type": "stream",
     "text": [
      "     60/300     0.553G       1.11      1.541       1.28         28        224: 100%|██████████| 2/2 [00:00<00:00, 14.65it/s]\n",
      "                 Class     Images  Instances      Box(P          R      mAP50  mAP50-95): 100%|██████████| 1/1 [00:00<00:00, 18.86it/s]"
     ]
    },
    {
     "name": "stdout",
     "output_type": "stream",
     "text": [
      "                   all         12         12      0.789      0.918      0.949      0.527\n"
     ]
    },
    {
     "name": "stderr",
     "output_type": "stream",
     "text": [
      "\n"
     ]
    },
    {
     "name": "stdout",
     "output_type": "stream",
     "text": [
      "\n",
      "      Epoch    GPU_mem   box_loss   cls_loss   dfl_loss  Instances       Size\n"
     ]
    },
    {
     "name": "stderr",
     "output_type": "stream",
     "text": [
      "     61/300     0.553G      1.103      1.436      1.408         24        224: 100%|██████████| 2/2 [00:00<00:00, 15.28it/s]\n",
      "                 Class     Images  Instances      Box(P          R      mAP50  mAP50-95): 100%|██████████| 1/1 [00:00<00:00, 15.26it/s]"
     ]
    },
    {
     "name": "stdout",
     "output_type": "stream",
     "text": [
      "                   all         12         12      0.977      0.735      0.941       0.53\n"
     ]
    },
    {
     "name": "stderr",
     "output_type": "stream",
     "text": [
      "\n"
     ]
    },
    {
     "name": "stdout",
     "output_type": "stream",
     "text": [
      "\n",
      "      Epoch    GPU_mem   box_loss   cls_loss   dfl_loss  Instances       Size\n"
     ]
    },
    {
     "name": "stderr",
     "output_type": "stream",
     "text": [
      "     62/300     0.553G      1.115      1.468      1.314         30        224: 100%|██████████| 2/2 [00:00<00:00, 15.99it/s]\n",
      "                 Class     Images  Instances      Box(P          R      mAP50  mAP50-95): 100%|██████████| 1/1 [00:00<00:00, 18.34it/s]"
     ]
    },
    {
     "name": "stdout",
     "output_type": "stream",
     "text": [
      "                   all         12         12      0.769       0.85      0.941      0.523\n"
     ]
    },
    {
     "name": "stderr",
     "output_type": "stream",
     "text": [
      "\n"
     ]
    },
    {
     "name": "stdout",
     "output_type": "stream",
     "text": [
      "\n",
      "      Epoch    GPU_mem   box_loss   cls_loss   dfl_loss  Instances       Size\n"
     ]
    },
    {
     "name": "stderr",
     "output_type": "stream",
     "text": [
      "     63/300     0.553G      1.119      1.434      1.255         35        224: 100%|██████████| 2/2 [00:00<00:00, 15.62it/s]\n",
      "                 Class     Images  Instances      Box(P          R      mAP50  mAP50-95): 100%|██████████| 1/1 [00:00<00:00, 20.60it/s]"
     ]
    },
    {
     "name": "stdout",
     "output_type": "stream",
     "text": [
      "                   all         12         12      0.882      0.962      0.959      0.556\n"
     ]
    },
    {
     "name": "stderr",
     "output_type": "stream",
     "text": [
      "\n"
     ]
    },
    {
     "name": "stdout",
     "output_type": "stream",
     "text": [
      "\n",
      "      Epoch    GPU_mem   box_loss   cls_loss   dfl_loss  Instances       Size\n"
     ]
    },
    {
     "name": "stderr",
     "output_type": "stream",
     "text": [
      "     64/300     0.553G      1.003      1.501      1.178         40        224: 100%|██████████| 2/2 [00:00<00:00, 15.56it/s]\n",
      "                 Class     Images  Instances      Box(P          R      mAP50  mAP50-95): 100%|██████████| 1/1 [00:00<00:00, 20.83it/s]"
     ]
    },
    {
     "name": "stdout",
     "output_type": "stream",
     "text": [
      "                   all         12         12      0.913          1      0.959      0.583\n"
     ]
    },
    {
     "name": "stderr",
     "output_type": "stream",
     "text": [
      "\n"
     ]
    },
    {
     "name": "stdout",
     "output_type": "stream",
     "text": [
      "\n",
      "      Epoch    GPU_mem   box_loss   cls_loss   dfl_loss  Instances       Size\n"
     ]
    },
    {
     "name": "stderr",
     "output_type": "stream",
     "text": [
      "     65/300     0.553G      1.033      1.348      1.297         27        224: 100%|██████████| 2/2 [00:00<00:00, 15.93it/s]\n",
      "                 Class     Images  Instances      Box(P          R      mAP50  mAP50-95): 100%|██████████| 1/1 [00:00<00:00, 21.05it/s]"
     ]
    },
    {
     "name": "stdout",
     "output_type": "stream",
     "text": [
      "                   all         12         12      0.919      0.999      0.971      0.568\n"
     ]
    },
    {
     "name": "stderr",
     "output_type": "stream",
     "text": [
      "\n"
     ]
    },
    {
     "name": "stdout",
     "output_type": "stream",
     "text": [
      "\n",
      "      Epoch    GPU_mem   box_loss   cls_loss   dfl_loss  Instances       Size\n"
     ]
    },
    {
     "name": "stderr",
     "output_type": "stream",
     "text": [
      "     66/300     0.553G     0.9943      1.265      1.224         35        224: 100%|██████████| 2/2 [00:00<00:00, 15.80it/s]\n",
      "                 Class     Images  Instances      Box(P          R      mAP50  mAP50-95): 100%|██████████| 1/1 [00:00<00:00, 20.20it/s]"
     ]
    },
    {
     "name": "stdout",
     "output_type": "stream",
     "text": [
      "                   all         12         12      0.917      0.918      0.984      0.587\n"
     ]
    },
    {
     "name": "stderr",
     "output_type": "stream",
     "text": [
      "\n"
     ]
    },
    {
     "name": "stdout",
     "output_type": "stream",
     "text": [
      "\n",
      "      Epoch    GPU_mem   box_loss   cls_loss   dfl_loss  Instances       Size\n"
     ]
    },
    {
     "name": "stderr",
     "output_type": "stream",
     "text": [
      "     67/300     0.553G        1.1      1.373      1.313         32        224: 100%|██████████| 2/2 [00:00<00:00, 15.38it/s]\n",
      "                 Class     Images  Instances      Box(P          R      mAP50  mAP50-95): 100%|██████████| 1/1 [00:00<00:00, 19.79it/s]"
     ]
    },
    {
     "name": "stdout",
     "output_type": "stream",
     "text": [
      "                   all         12         12      0.973      0.945      0.995      0.618\n"
     ]
    },
    {
     "name": "stderr",
     "output_type": "stream",
     "text": [
      "\n"
     ]
    },
    {
     "name": "stdout",
     "output_type": "stream",
     "text": [
      "\n",
      "      Epoch    GPU_mem   box_loss   cls_loss   dfl_loss  Instances       Size\n"
     ]
    },
    {
     "name": "stderr",
     "output_type": "stream",
     "text": [
      "     68/300     0.553G      1.026      1.353      1.265         27        224: 100%|██████████| 2/2 [00:00<00:00, 14.62it/s]\n",
      "                 Class     Images  Instances      Box(P          R      mAP50  mAP50-95): 100%|██████████| 1/1 [00:00<00:00, 19.53it/s]"
     ]
    },
    {
     "name": "stdout",
     "output_type": "stream",
     "text": [
      "                   all         12         12      0.924      0.968      0.995       0.62\n"
     ]
    },
    {
     "name": "stderr",
     "output_type": "stream",
     "text": [
      "\n"
     ]
    },
    {
     "name": "stdout",
     "output_type": "stream",
     "text": [
      "\n",
      "      Epoch    GPU_mem   box_loss   cls_loss   dfl_loss  Instances       Size\n"
     ]
    },
    {
     "name": "stderr",
     "output_type": "stream",
     "text": [
      "     69/300     0.553G      1.002      1.254      1.222         21        224: 100%|██████████| 2/2 [00:00<00:00, 15.62it/s]\n",
      "                 Class     Images  Instances      Box(P          R      mAP50  mAP50-95): 100%|██████████| 1/1 [00:00<00:00, 20.20it/s]"
     ]
    },
    {
     "name": "stdout",
     "output_type": "stream",
     "text": [
      "                   all         12         12      0.877      0.991      0.984      0.601\n"
     ]
    },
    {
     "name": "stderr",
     "output_type": "stream",
     "text": [
      "\n"
     ]
    },
    {
     "name": "stdout",
     "output_type": "stream",
     "text": [
      "\n",
      "      Epoch    GPU_mem   box_loss   cls_loss   dfl_loss  Instances       Size\n"
     ]
    },
    {
     "name": "stderr",
     "output_type": "stream",
     "text": [
      "     70/300     0.553G      1.017      1.345      1.269         23        224: 100%|██████████| 2/2 [00:00<00:00, 15.44it/s]\n",
      "                 Class     Images  Instances      Box(P          R      mAP50  mAP50-95): 100%|██████████| 1/1 [00:00<00:00, 21.48it/s]"
     ]
    },
    {
     "name": "stdout",
     "output_type": "stream",
     "text": [
      "                   all         12         12      0.864          1      0.984      0.625\n"
     ]
    },
    {
     "name": "stderr",
     "output_type": "stream",
     "text": [
      "\n"
     ]
    },
    {
     "name": "stdout",
     "output_type": "stream",
     "text": [
      "\n",
      "      Epoch    GPU_mem   box_loss   cls_loss   dfl_loss  Instances       Size\n"
     ]
    },
    {
     "name": "stderr",
     "output_type": "stream",
     "text": [
      "     71/300     0.553G      1.004      1.196      1.242         31        224: 100%|██████████| 2/2 [00:00<00:00, 15.21it/s]\n",
      "                 Class     Images  Instances      Box(P          R      mAP50  mAP50-95): 100%|██████████| 1/1 [00:00<00:00, 20.12it/s]"
     ]
    },
    {
     "name": "stdout",
     "output_type": "stream",
     "text": [
      "                   all         12         12      0.944          1      0.995      0.639\n"
     ]
    },
    {
     "name": "stderr",
     "output_type": "stream",
     "text": [
      "\n"
     ]
    },
    {
     "name": "stdout",
     "output_type": "stream",
     "text": [
      "\n",
      "      Epoch    GPU_mem   box_loss   cls_loss   dfl_loss  Instances       Size\n"
     ]
    },
    {
     "name": "stderr",
     "output_type": "stream",
     "text": [
      "     72/300     0.553G     0.9626      1.207      1.252         29        224: 100%|██████████| 2/2 [00:00<00:00, 15.44it/s]\n",
      "                 Class     Images  Instances      Box(P          R      mAP50  mAP50-95): 100%|██████████| 1/1 [00:00<00:00, 19.05it/s]"
     ]
    },
    {
     "name": "stdout",
     "output_type": "stream",
     "text": [
      "                   all         12         12      0.945          1      0.995       0.64\n"
     ]
    },
    {
     "name": "stderr",
     "output_type": "stream",
     "text": [
      "\n"
     ]
    },
    {
     "name": "stdout",
     "output_type": "stream",
     "text": [
      "\n",
      "      Epoch    GPU_mem   box_loss   cls_loss   dfl_loss  Instances       Size\n"
     ]
    },
    {
     "name": "stderr",
     "output_type": "stream",
     "text": [
      "     73/300     0.553G     0.8967      1.234      1.192         23        224: 100%|██████████| 2/2 [00:00<00:00, 15.81it/s]\n",
      "                 Class     Images  Instances      Box(P          R      mAP50  mAP50-95): 100%|██████████| 1/1 [00:00<00:00, 19.41it/s]"
     ]
    },
    {
     "name": "stdout",
     "output_type": "stream",
     "text": [
      "                   all         12         12      0.985      0.907      0.916      0.666\n"
     ]
    },
    {
     "name": "stderr",
     "output_type": "stream",
     "text": [
      "\n"
     ]
    },
    {
     "name": "stdout",
     "output_type": "stream",
     "text": [
      "\n",
      "      Epoch    GPU_mem   box_loss   cls_loss   dfl_loss  Instances       Size\n"
     ]
    },
    {
     "name": "stderr",
     "output_type": "stream",
     "text": [
      "     74/300     0.553G     0.9392      1.176      1.146         35        224: 100%|██████████| 2/2 [00:00<00:00, 15.52it/s]\n",
      "                 Class     Images  Instances      Box(P          R      mAP50  mAP50-95): 100%|██████████| 1/1 [00:00<00:00, 18.86it/s]"
     ]
    },
    {
     "name": "stdout",
     "output_type": "stream",
     "text": [
      "                   all         12         12      0.972      0.917      0.915      0.652\n"
     ]
    },
    {
     "name": "stderr",
     "output_type": "stream",
     "text": [
      "\n"
     ]
    },
    {
     "name": "stdout",
     "output_type": "stream",
     "text": [
      "\n",
      "      Epoch    GPU_mem   box_loss   cls_loss   dfl_loss  Instances       Size\n"
     ]
    },
    {
     "name": "stderr",
     "output_type": "stream",
     "text": [
      "     75/300     0.553G     0.8975        1.2      1.136         36        224: 100%|██████████| 2/2 [00:00<00:00, 14.44it/s]\n",
      "                 Class     Images  Instances      Box(P          R      mAP50  mAP50-95): 100%|██████████| 1/1 [00:00<00:00, 19.57it/s]"
     ]
    },
    {
     "name": "stdout",
     "output_type": "stream",
     "text": [
      "                   all         12         12      0.938      0.917      0.915      0.667\n"
     ]
    },
    {
     "name": "stderr",
     "output_type": "stream",
     "text": [
      "\n"
     ]
    },
    {
     "name": "stdout",
     "output_type": "stream",
     "text": [
      "\n",
      "      Epoch    GPU_mem   box_loss   cls_loss   dfl_loss  Instances       Size\n"
     ]
    },
    {
     "name": "stderr",
     "output_type": "stream",
     "text": [
      "     76/300     0.553G      1.024      1.284      1.236         28        224: 100%|██████████| 2/2 [00:00<00:00, 15.26it/s]\n",
      "                 Class     Images  Instances      Box(P          R      mAP50  mAP50-95): 100%|██████████| 1/1 [00:00<00:00, 19.23it/s]"
     ]
    },
    {
     "name": "stdout",
     "output_type": "stream",
     "text": [
      "                   all         12         12      0.943      0.917      0.915      0.653\n"
     ]
    },
    {
     "name": "stderr",
     "output_type": "stream",
     "text": [
      "\n"
     ]
    },
    {
     "name": "stdout",
     "output_type": "stream",
     "text": [
      "\n",
      "      Epoch    GPU_mem   box_loss   cls_loss   dfl_loss  Instances       Size\n"
     ]
    },
    {
     "name": "stderr",
     "output_type": "stream",
     "text": [
      "     77/300     0.553G      1.027      1.244      1.229         28        224: 100%|██████████| 2/2 [00:00<00:00, 14.92it/s]\n",
      "                 Class     Images  Instances      Box(P          R      mAP50  mAP50-95): 100%|██████████| 1/1 [00:00<00:00, 16.79it/s]"
     ]
    },
    {
     "name": "stdout",
     "output_type": "stream",
     "text": [
      "                   all         12         12      0.956      0.917      0.915      0.611\n"
     ]
    },
    {
     "name": "stderr",
     "output_type": "stream",
     "text": [
      "\n"
     ]
    },
    {
     "name": "stdout",
     "output_type": "stream",
     "text": [
      "\n",
      "      Epoch    GPU_mem   box_loss   cls_loss   dfl_loss  Instances       Size\n"
     ]
    },
    {
     "name": "stderr",
     "output_type": "stream",
     "text": [
      "     78/300     0.553G      0.878      1.135      1.173         25        224: 100%|██████████| 2/2 [00:00<00:00, 14.49it/s]\n",
      "                 Class     Images  Instances      Box(P          R      mAP50  mAP50-95): 100%|██████████| 1/1 [00:00<00:00, 19.80it/s]"
     ]
    },
    {
     "name": "stdout",
     "output_type": "stream",
     "text": [
      "                   all         12         12      0.948      0.917      0.915      0.619\n"
     ]
    },
    {
     "name": "stderr",
     "output_type": "stream",
     "text": [
      "\n"
     ]
    },
    {
     "name": "stdout",
     "output_type": "stream",
     "text": [
      "\n",
      "      Epoch    GPU_mem   box_loss   cls_loss   dfl_loss  Instances       Size\n"
     ]
    },
    {
     "name": "stderr",
     "output_type": "stream",
     "text": [
      "     79/300     0.553G       1.05      1.176      1.311         33        224: 100%|██████████| 2/2 [00:00<00:00, 15.42it/s]\n",
      "                 Class     Images  Instances      Box(P          R      mAP50  mAP50-95): 100%|██████████| 1/1 [00:00<00:00, 20.20it/s]"
     ]
    },
    {
     "name": "stdout",
     "output_type": "stream",
     "text": [
      "                   all         12         12      0.943      0.917      0.915      0.605\n"
     ]
    },
    {
     "name": "stderr",
     "output_type": "stream",
     "text": [
      "\n"
     ]
    },
    {
     "name": "stdout",
     "output_type": "stream",
     "text": [
      "\n",
      "      Epoch    GPU_mem   box_loss   cls_loss   dfl_loss  Instances       Size\n"
     ]
    },
    {
     "name": "stderr",
     "output_type": "stream",
     "text": [
      "     80/300     0.553G     0.9957       1.22       1.17         30        224: 100%|██████████| 2/2 [00:00<00:00, 15.81it/s]\n",
      "                 Class     Images  Instances      Box(P          R      mAP50  mAP50-95): 100%|██████████| 1/1 [00:00<00:00, 20.61it/s]"
     ]
    },
    {
     "name": "stdout",
     "output_type": "stream",
     "text": [
      "                   all         12         12      0.991          1      0.995      0.609\n"
     ]
    },
    {
     "name": "stderr",
     "output_type": "stream",
     "text": [
      "\n"
     ]
    },
    {
     "name": "stdout",
     "output_type": "stream",
     "text": [
      "\n",
      "      Epoch    GPU_mem   box_loss   cls_loss   dfl_loss  Instances       Size\n"
     ]
    },
    {
     "name": "stderr",
     "output_type": "stream",
     "text": [
      "     81/300     0.553G     0.8931      1.124      1.167         29        224: 100%|██████████| 2/2 [00:00<00:00, 14.81it/s]\n",
      "                 Class     Images  Instances      Box(P          R      mAP50  mAP50-95): 100%|██████████| 1/1 [00:00<00:00, 18.18it/s]"
     ]
    },
    {
     "name": "stdout",
     "output_type": "stream",
     "text": [
      "                   all         12         12      0.988          1      0.995      0.652\n"
     ]
    },
    {
     "name": "stderr",
     "output_type": "stream",
     "text": [
      "\n"
     ]
    },
    {
     "name": "stdout",
     "output_type": "stream",
     "text": [
      "\n",
      "      Epoch    GPU_mem   box_loss   cls_loss   dfl_loss  Instances       Size\n"
     ]
    },
    {
     "name": "stderr",
     "output_type": "stream",
     "text": [
      "     82/300     0.553G     0.9471      1.346      1.183         24        224: 100%|██████████| 2/2 [00:00<00:00, 15.21it/s]\n",
      "                 Class     Images  Instances      Box(P          R      mAP50  mAP50-95): 100%|██████████| 1/1 [00:00<00:00, 16.80it/s]"
     ]
    },
    {
     "name": "stdout",
     "output_type": "stream",
     "text": [
      "                   all         12         12       0.88      0.917      0.915      0.633\n"
     ]
    },
    {
     "name": "stderr",
     "output_type": "stream",
     "text": [
      "\n"
     ]
    },
    {
     "name": "stdout",
     "output_type": "stream",
     "text": [
      "\n",
      "      Epoch    GPU_mem   box_loss   cls_loss   dfl_loss  Instances       Size\n"
     ]
    },
    {
     "name": "stderr",
     "output_type": "stream",
     "text": [
      "     83/300     0.553G     0.8359      1.095      1.117         28        224: 100%|██████████| 2/2 [00:00<00:00, 15.32it/s]\n",
      "                 Class     Images  Instances      Box(P          R      mAP50  mAP50-95): 100%|██████████| 1/1 [00:00<00:00, 19.60it/s]"
     ]
    },
    {
     "name": "stdout",
     "output_type": "stream",
     "text": [
      "                   all         12         12      0.869      0.917      0.915      0.597\n"
     ]
    },
    {
     "name": "stderr",
     "output_type": "stream",
     "text": [
      "\n"
     ]
    },
    {
     "name": "stdout",
     "output_type": "stream",
     "text": [
      "\n",
      "      Epoch    GPU_mem   box_loss   cls_loss   dfl_loss  Instances       Size\n"
     ]
    },
    {
     "name": "stderr",
     "output_type": "stream",
     "text": [
      "     84/300     0.553G     0.9129       1.04      1.135         26        224: 100%|██████████| 2/2 [00:00<00:00, 15.88it/s]\n",
      "                 Class     Images  Instances      Box(P          R      mAP50  mAP50-95): 100%|██████████| 1/1 [00:00<00:00, 19.23it/s]"
     ]
    },
    {
     "name": "stdout",
     "output_type": "stream",
     "text": [
      "                   all         12         12      0.879      0.917      0.915      0.654\n"
     ]
    },
    {
     "name": "stderr",
     "output_type": "stream",
     "text": [
      "\n"
     ]
    },
    {
     "name": "stdout",
     "output_type": "stream",
     "text": [
      "\n",
      "      Epoch    GPU_mem   box_loss   cls_loss   dfl_loss  Instances       Size\n"
     ]
    },
    {
     "name": "stderr",
     "output_type": "stream",
     "text": [
      "     85/300     0.553G      1.016      1.231      1.237         31        224: 100%|██████████| 2/2 [00:00<00:00, 15.38it/s]\n",
      "                 Class     Images  Instances      Box(P          R      mAP50  mAP50-95): 100%|██████████| 1/1 [00:00<00:00, 17.85it/s]"
     ]
    },
    {
     "name": "stdout",
     "output_type": "stream",
     "text": [
      "                   all         12         12      0.949          1      0.995      0.671\n"
     ]
    },
    {
     "name": "stderr",
     "output_type": "stream",
     "text": [
      "\n"
     ]
    },
    {
     "name": "stdout",
     "output_type": "stream",
     "text": [
      "\n",
      "      Epoch    GPU_mem   box_loss   cls_loss   dfl_loss  Instances       Size\n"
     ]
    },
    {
     "name": "stderr",
     "output_type": "stream",
     "text": [
      "     86/300     0.553G     0.9213      1.196      1.183         27        224: 100%|██████████| 2/2 [00:00<00:00, 15.40it/s]\n",
      "                 Class     Images  Instances      Box(P          R      mAP50  mAP50-95): 100%|██████████| 1/1 [00:00<00:00, 17.39it/s]"
     ]
    },
    {
     "name": "stdout",
     "output_type": "stream",
     "text": [
      "                   all         12         12      0.948      0.999      0.995      0.664\n"
     ]
    },
    {
     "name": "stderr",
     "output_type": "stream",
     "text": [
      "\n"
     ]
    },
    {
     "name": "stdout",
     "output_type": "stream",
     "text": [
      "\n",
      "      Epoch    GPU_mem   box_loss   cls_loss   dfl_loss  Instances       Size\n"
     ]
    },
    {
     "name": "stderr",
     "output_type": "stream",
     "text": [
      "     87/300     0.553G      0.838      1.088      1.058         35        224: 100%|██████████| 2/2 [00:00<00:00, 14.70it/s]\n",
      "                 Class     Images  Instances      Box(P          R      mAP50  mAP50-95): 100%|██████████| 1/1 [00:00<00:00, 17.24it/s]"
     ]
    },
    {
     "name": "stdout",
     "output_type": "stream",
     "text": [
      "                   all         12         12      0.937          1      0.995      0.604\n"
     ]
    },
    {
     "name": "stderr",
     "output_type": "stream",
     "text": [
      "\n"
     ]
    },
    {
     "name": "stdout",
     "output_type": "stream",
     "text": [
      "\n",
      "      Epoch    GPU_mem   box_loss   cls_loss   dfl_loss  Instances       Size\n"
     ]
    },
    {
     "name": "stderr",
     "output_type": "stream",
     "text": [
      "     88/300     0.553G     0.8636      1.119      1.178         26        224: 100%|██████████| 2/2 [00:00<00:00, 14.45it/s]\n",
      "                 Class     Images  Instances      Box(P          R      mAP50  mAP50-95): 100%|██████████| 1/1 [00:00<00:00, 18.75it/s]"
     ]
    },
    {
     "name": "stdout",
     "output_type": "stream",
     "text": [
      "                   all         12         12      0.952          1      0.995      0.591\n"
     ]
    },
    {
     "name": "stderr",
     "output_type": "stream",
     "text": [
      "\n"
     ]
    },
    {
     "name": "stdout",
     "output_type": "stream",
     "text": [
      "\n",
      "      Epoch    GPU_mem   box_loss   cls_loss   dfl_loss  Instances       Size\n"
     ]
    },
    {
     "name": "stderr",
     "output_type": "stream",
     "text": [
      "     89/300     0.553G     0.8603      1.222      1.198         19        224: 100%|██████████| 2/2 [00:00<00:00, 15.92it/s]\n",
      "                 Class     Images  Instances      Box(P          R      mAP50  mAP50-95): 100%|██████████| 1/1 [00:00<00:00, 19.05it/s]"
     ]
    },
    {
     "name": "stdout",
     "output_type": "stream",
     "text": [
      "                   all         12         12      0.966          1      0.995      0.603\n"
     ]
    },
    {
     "name": "stderr",
     "output_type": "stream",
     "text": [
      "\n"
     ]
    },
    {
     "name": "stdout",
     "output_type": "stream",
     "text": [
      "\n",
      "      Epoch    GPU_mem   box_loss   cls_loss   dfl_loss  Instances       Size\n"
     ]
    },
    {
     "name": "stderr",
     "output_type": "stream",
     "text": [
      "     90/300     0.553G       0.88      1.144        1.2         21        224: 100%|██████████| 2/2 [00:00<00:00, 16.12it/s]\n",
      "                 Class     Images  Instances      Box(P          R      mAP50  mAP50-95): 100%|██████████| 1/1 [00:00<00:00, 19.80it/s]"
     ]
    },
    {
     "name": "stdout",
     "output_type": "stream",
     "text": [
      "                   all         12         12      0.976          1      0.995      0.585\n"
     ]
    },
    {
     "name": "stderr",
     "output_type": "stream",
     "text": [
      "\n"
     ]
    },
    {
     "name": "stdout",
     "output_type": "stream",
     "text": [
      "\n",
      "      Epoch    GPU_mem   box_loss   cls_loss   dfl_loss  Instances       Size\n"
     ]
    },
    {
     "name": "stderr",
     "output_type": "stream",
     "text": [
      "     91/300     0.553G     0.9993       1.13      1.173         31        224: 100%|██████████| 2/2 [00:00<00:00, 15.26it/s]\n",
      "                 Class     Images  Instances      Box(P          R      mAP50  mAP50-95): 100%|██████████| 1/1 [00:00<00:00, 20.83it/s]"
     ]
    },
    {
     "name": "stdout",
     "output_type": "stream",
     "text": [
      "                   all         12         12      0.982          1      0.995      0.571\n"
     ]
    },
    {
     "name": "stderr",
     "output_type": "stream",
     "text": [
      "\n"
     ]
    },
    {
     "name": "stdout",
     "output_type": "stream",
     "text": [
      "\n",
      "      Epoch    GPU_mem   box_loss   cls_loss   dfl_loss  Instances       Size\n"
     ]
    },
    {
     "name": "stderr",
     "output_type": "stream",
     "text": [
      "     92/300     0.553G     0.7837      1.149       1.14         33        224: 100%|██████████| 2/2 [00:00<00:00, 15.32it/s]\n",
      "                 Class     Images  Instances      Box(P          R      mAP50  mAP50-95): 100%|██████████| 1/1 [00:00<00:00, 19.04it/s]"
     ]
    },
    {
     "name": "stdout",
     "output_type": "stream",
     "text": [
      "                   all         12         12      0.971          1      0.995      0.616\n"
     ]
    },
    {
     "name": "stderr",
     "output_type": "stream",
     "text": [
      "\n"
     ]
    },
    {
     "name": "stdout",
     "output_type": "stream",
     "text": [
      "\n",
      "      Epoch    GPU_mem   box_loss   cls_loss   dfl_loss  Instances       Size\n"
     ]
    },
    {
     "name": "stderr",
     "output_type": "stream",
     "text": [
      "     93/300     0.553G     0.8845      1.264      1.184         22        224: 100%|██████████| 2/2 [00:00<00:00, 15.62it/s]\n",
      "                 Class     Images  Instances      Box(P          R      mAP50  mAP50-95): 100%|██████████| 1/1 [00:00<00:00, 17.69it/s]"
     ]
    },
    {
     "name": "stdout",
     "output_type": "stream",
     "text": [
      "                   all         12         12      0.943          1      0.995       0.64\n"
     ]
    },
    {
     "name": "stderr",
     "output_type": "stream",
     "text": [
      "\n"
     ]
    },
    {
     "name": "stdout",
     "output_type": "stream",
     "text": [
      "\n",
      "      Epoch    GPU_mem   box_loss   cls_loss   dfl_loss  Instances       Size\n"
     ]
    },
    {
     "name": "stderr",
     "output_type": "stream",
     "text": [
      "     94/300     0.553G     0.8737      1.086      1.101         28        224: 100%|██████████| 2/2 [00:00<00:00, 15.48it/s]\n",
      "                 Class     Images  Instances      Box(P          R      mAP50  mAP50-95): 100%|██████████| 1/1 [00:00<00:00, 18.51it/s]"
     ]
    },
    {
     "name": "stdout",
     "output_type": "stream",
     "text": [
      "                   all         12         12       0.92          1      0.995      0.584\n"
     ]
    },
    {
     "name": "stderr",
     "output_type": "stream",
     "text": [
      "\n"
     ]
    },
    {
     "name": "stdout",
     "output_type": "stream",
     "text": [
      "\n",
      "      Epoch    GPU_mem   box_loss   cls_loss   dfl_loss  Instances       Size\n"
     ]
    },
    {
     "name": "stderr",
     "output_type": "stream",
     "text": [
      "     95/300     0.553G     0.8805       1.07      1.114         28        224: 100%|██████████| 2/2 [00:00<00:00, 15.08it/s]\n",
      "                 Class     Images  Instances      Box(P          R      mAP50  mAP50-95): 100%|██████████| 1/1 [00:00<00:00, 17.18it/s]"
     ]
    },
    {
     "name": "stdout",
     "output_type": "stream",
     "text": [
      "                   all         12         12      0.926          1      0.995      0.616\n"
     ]
    },
    {
     "name": "stderr",
     "output_type": "stream",
     "text": [
      "\n"
     ]
    },
    {
     "name": "stdout",
     "output_type": "stream",
     "text": [
      "\n",
      "      Epoch    GPU_mem   box_loss   cls_loss   dfl_loss  Instances       Size\n"
     ]
    },
    {
     "name": "stderr",
     "output_type": "stream",
     "text": [
      "     96/300     0.553G      0.861      1.038      1.176         30        224: 100%|██████████| 2/2 [00:00<00:00, 15.55it/s]\n",
      "                 Class     Images  Instances      Box(P          R      mAP50  mAP50-95): 100%|██████████| 1/1 [00:00<00:00, 18.86it/s]"
     ]
    },
    {
     "name": "stdout",
     "output_type": "stream",
     "text": [
      "                   all         12         12       0.96          1      0.995      0.596\n"
     ]
    },
    {
     "name": "stderr",
     "output_type": "stream",
     "text": [
      "\n"
     ]
    },
    {
     "name": "stdout",
     "output_type": "stream",
     "text": [
      "\n",
      "      Epoch    GPU_mem   box_loss   cls_loss   dfl_loss  Instances       Size\n"
     ]
    },
    {
     "name": "stderr",
     "output_type": "stream",
     "text": [
      "     97/300     0.553G      0.921      1.177      1.185         21        224: 100%|██████████| 2/2 [00:00<00:00, 14.81it/s]\n",
      "                 Class     Images  Instances      Box(P          R      mAP50  mAP50-95): 100%|██████████| 1/1 [00:00<00:00, 18.01it/s]"
     ]
    },
    {
     "name": "stdout",
     "output_type": "stream",
     "text": [
      "                   all         12         12      0.952          1      0.995      0.594\n"
     ]
    },
    {
     "name": "stderr",
     "output_type": "stream",
     "text": [
      "\n"
     ]
    },
    {
     "name": "stdout",
     "output_type": "stream",
     "text": [
      "\n",
      "      Epoch    GPU_mem   box_loss   cls_loss   dfl_loss  Instances       Size\n"
     ]
    },
    {
     "name": "stderr",
     "output_type": "stream",
     "text": [
      "     98/300     0.553G     0.8733      1.126      1.176         28        224: 100%|██████████| 2/2 [00:00<00:00, 13.60it/s]\n",
      "                 Class     Images  Instances      Box(P          R      mAP50  mAP50-95): 100%|██████████| 1/1 [00:00<00:00, 17.09it/s]"
     ]
    },
    {
     "name": "stdout",
     "output_type": "stream",
     "text": [
      "                   all         12         12      0.934          1      0.995      0.581\n"
     ]
    },
    {
     "name": "stderr",
     "output_type": "stream",
     "text": [
      "\n"
     ]
    },
    {
     "name": "stdout",
     "output_type": "stream",
     "text": [
      "\n",
      "      Epoch    GPU_mem   box_loss   cls_loss   dfl_loss  Instances       Size\n"
     ]
    },
    {
     "name": "stderr",
     "output_type": "stream",
     "text": [
      "     99/300     0.553G     0.8539      1.087       1.13         31        224: 100%|██████████| 2/2 [00:00<00:00, 14.59it/s]\n",
      "                 Class     Images  Instances      Box(P          R      mAP50  mAP50-95): 100%|██████████| 1/1 [00:00<00:00, 18.34it/s]"
     ]
    },
    {
     "name": "stdout",
     "output_type": "stream",
     "text": [
      "                   all         12         12      0.927          1      0.995      0.591\n"
     ]
    },
    {
     "name": "stderr",
     "output_type": "stream",
     "text": [
      "\n"
     ]
    },
    {
     "name": "stdout",
     "output_type": "stream",
     "text": [
      "\n",
      "      Epoch    GPU_mem   box_loss   cls_loss   dfl_loss  Instances       Size\n"
     ]
    },
    {
     "name": "stderr",
     "output_type": "stream",
     "text": [
      "    100/300     0.553G     0.8402      1.117      1.196         25        224: 100%|██████████| 2/2 [00:00<00:00, 14.23it/s]\n",
      "                 Class     Images  Instances      Box(P          R      mAP50  mAP50-95): 100%|██████████| 1/1 [00:00<00:00, 16.94it/s]"
     ]
    },
    {
     "name": "stdout",
     "output_type": "stream",
     "text": [
      "                   all         12         12      0.965          1      0.995      0.594\n"
     ]
    },
    {
     "name": "stderr",
     "output_type": "stream",
     "text": [
      "\n"
     ]
    },
    {
     "name": "stdout",
     "output_type": "stream",
     "text": [
      "\n",
      "      Epoch    GPU_mem   box_loss   cls_loss   dfl_loss  Instances       Size\n"
     ]
    },
    {
     "name": "stderr",
     "output_type": "stream",
     "text": [
      "    101/300     0.553G     0.8288      1.069       1.15         20        224: 100%|██████████| 2/2 [00:00<00:00, 13.89it/s]\n",
      "                 Class     Images  Instances      Box(P          R      mAP50  mAP50-95): 100%|██████████| 1/1 [00:00<00:00, 18.86it/s]"
     ]
    },
    {
     "name": "stdout",
     "output_type": "stream",
     "text": [
      "                   all         12         12      0.978          1      0.995      0.573\n"
     ]
    },
    {
     "name": "stderr",
     "output_type": "stream",
     "text": [
      "\n"
     ]
    },
    {
     "name": "stdout",
     "output_type": "stream",
     "text": [
      "\n",
      "      Epoch    GPU_mem   box_loss   cls_loss   dfl_loss  Instances       Size\n"
     ]
    },
    {
     "name": "stderr",
     "output_type": "stream",
     "text": [
      "    102/300     0.553G     0.8697      1.022      1.163         23        224: 100%|██████████| 2/2 [00:00<00:00, 14.27it/s]\n",
      "                 Class     Images  Instances      Box(P          R      mAP50  mAP50-95): 100%|██████████| 1/1 [00:00<00:00, 19.04it/s]"
     ]
    },
    {
     "name": "stdout",
     "output_type": "stream",
     "text": [
      "                   all         12         12       0.99          1      0.995      0.576\n"
     ]
    },
    {
     "name": "stderr",
     "output_type": "stream",
     "text": [
      "\n"
     ]
    },
    {
     "name": "stdout",
     "output_type": "stream",
     "text": [
      "\n",
      "      Epoch    GPU_mem   box_loss   cls_loss   dfl_loss  Instances       Size\n"
     ]
    },
    {
     "name": "stderr",
     "output_type": "stream",
     "text": [
      "    103/300     0.553G     0.8841      1.074       1.28         21        224: 100%|██████████| 2/2 [00:00<00:00, 14.33it/s]\n",
      "                 Class     Images  Instances      Box(P          R      mAP50  mAP50-95): 100%|██████████| 1/1 [00:00<00:00, 19.21it/s]"
     ]
    },
    {
     "name": "stdout",
     "output_type": "stream",
     "text": [
      "                   all         12         12      0.987      0.998      0.995      0.581\n"
     ]
    },
    {
     "name": "stderr",
     "output_type": "stream",
     "text": [
      "\n"
     ]
    },
    {
     "name": "stdout",
     "output_type": "stream",
     "text": [
      "\n",
      "      Epoch    GPU_mem   box_loss   cls_loss   dfl_loss  Instances       Size\n"
     ]
    },
    {
     "name": "stderr",
     "output_type": "stream",
     "text": [
      "    104/300     0.553G     0.8288      1.047      1.153         24        224: 100%|██████████| 2/2 [00:00<00:00, 13.84it/s]\n",
      "                 Class     Images  Instances      Box(P          R      mAP50  mAP50-95): 100%|██████████| 1/1 [00:00<00:00, 19.60it/s]"
     ]
    },
    {
     "name": "stdout",
     "output_type": "stream",
     "text": [
      "                   all         12         12      0.988      0.998      0.995      0.549\n"
     ]
    },
    {
     "name": "stderr",
     "output_type": "stream",
     "text": [
      "\n"
     ]
    },
    {
     "name": "stdout",
     "output_type": "stream",
     "text": [
      "\n",
      "      Epoch    GPU_mem   box_loss   cls_loss   dfl_loss  Instances       Size\n"
     ]
    },
    {
     "name": "stderr",
     "output_type": "stream",
     "text": [
      "    105/300     0.553G     0.8747      1.031      1.166         36        224: 100%|██████████| 2/2 [00:00<00:00, 14.54it/s]\n",
      "                 Class     Images  Instances      Box(P          R      mAP50  mAP50-95): 100%|██████████| 1/1 [00:00<00:00, 18.34it/s]"
     ]
    },
    {
     "name": "stdout",
     "output_type": "stream",
     "text": [
      "                   all         12         12      0.986      0.997      0.995      0.572\n"
     ]
    },
    {
     "name": "stderr",
     "output_type": "stream",
     "text": [
      "\n"
     ]
    },
    {
     "name": "stdout",
     "output_type": "stream",
     "text": [
      "\n",
      "      Epoch    GPU_mem   box_loss   cls_loss   dfl_loss  Instances       Size\n"
     ]
    },
    {
     "name": "stderr",
     "output_type": "stream",
     "text": [
      "    106/300     0.553G      0.894      1.167      1.217         27        224: 100%|██████████| 2/2 [00:00<00:00, 15.32it/s]\n",
      "                 Class     Images  Instances      Box(P          R      mAP50  mAP50-95): 100%|██████████| 1/1 [00:00<00:00, 19.80it/s]"
     ]
    },
    {
     "name": "stdout",
     "output_type": "stream",
     "text": [
      "                   all         12         12      0.905      0.916      0.874      0.598\n"
     ]
    },
    {
     "name": "stderr",
     "output_type": "stream",
     "text": [
      "\n"
     ]
    },
    {
     "name": "stdout",
     "output_type": "stream",
     "text": [
      "\n",
      "      Epoch    GPU_mem   box_loss   cls_loss   dfl_loss  Instances       Size\n"
     ]
    },
    {
     "name": "stderr",
     "output_type": "stream",
     "text": [
      "    107/300     0.553G     0.9646      1.034      1.158         38        224: 100%|██████████| 2/2 [00:00<00:00, 13.93it/s]\n",
      "                 Class     Images  Instances      Box(P          R      mAP50  mAP50-95): 100%|██████████| 1/1 [00:00<00:00, 18.86it/s]"
     ]
    },
    {
     "name": "stdout",
     "output_type": "stream",
     "text": [
      "                   all         12         12      0.978      0.995      0.995      0.651\n"
     ]
    },
    {
     "name": "stderr",
     "output_type": "stream",
     "text": [
      "\n"
     ]
    },
    {
     "name": "stdout",
     "output_type": "stream",
     "text": [
      "\n",
      "      Epoch    GPU_mem   box_loss   cls_loss   dfl_loss  Instances       Size\n"
     ]
    },
    {
     "name": "stderr",
     "output_type": "stream",
     "text": [
      "    108/300     0.553G     0.9393      1.164      1.185         21        224: 100%|██████████| 2/2 [00:00<00:00, 14.19it/s]\n",
      "                 Class     Images  Instances      Box(P          R      mAP50  mAP50-95): 100%|██████████| 1/1 [00:00<00:00, 17.22it/s]"
     ]
    },
    {
     "name": "stdout",
     "output_type": "stream",
     "text": [
      "                   all         12         12      0.981      0.994      0.995      0.626\n"
     ]
    },
    {
     "name": "stderr",
     "output_type": "stream",
     "text": [
      "\n"
     ]
    },
    {
     "name": "stdout",
     "output_type": "stream",
     "text": [
      "\n",
      "      Epoch    GPU_mem   box_loss   cls_loss   dfl_loss  Instances       Size\n"
     ]
    },
    {
     "name": "stderr",
     "output_type": "stream",
     "text": [
      "    109/300     0.553G     0.8844      1.038      1.192         28        224: 100%|██████████| 2/2 [00:00<00:00, 14.54it/s]\n",
      "                 Class     Images  Instances      Box(P          R      mAP50  mAP50-95): 100%|██████████| 1/1 [00:00<00:00, 17.85it/s]"
     ]
    },
    {
     "name": "stdout",
     "output_type": "stream",
     "text": [
      "                   all         12         12       0.99      0.995      0.995      0.629\n"
     ]
    },
    {
     "name": "stderr",
     "output_type": "stream",
     "text": [
      "\n"
     ]
    },
    {
     "name": "stdout",
     "output_type": "stream",
     "text": [
      "\n",
      "      Epoch    GPU_mem   box_loss   cls_loss   dfl_loss  Instances       Size\n"
     ]
    },
    {
     "name": "stderr",
     "output_type": "stream",
     "text": [
      "    110/300     0.553G     0.8815      0.999      1.145         28        224: 100%|██████████| 2/2 [00:00<00:00, 14.41it/s]\n",
      "                 Class     Images  Instances      Box(P          R      mAP50  mAP50-95): 100%|██████████| 1/1 [00:00<00:00, 17.85it/s]"
     ]
    },
    {
     "name": "stdout",
     "output_type": "stream",
     "text": [
      "                   all         12         12      0.993      0.996      0.995      0.614\n"
     ]
    },
    {
     "name": "stderr",
     "output_type": "stream",
     "text": [
      "\n"
     ]
    },
    {
     "name": "stdout",
     "output_type": "stream",
     "text": [
      "\n",
      "      Epoch    GPU_mem   box_loss   cls_loss   dfl_loss  Instances       Size\n"
     ]
    },
    {
     "name": "stderr",
     "output_type": "stream",
     "text": [
      "    111/300     0.553G     0.8041     0.9704      1.143         29        224: 100%|██████████| 2/2 [00:00<00:00, 13.98it/s]\n",
      "                 Class     Images  Instances      Box(P          R      mAP50  mAP50-95): 100%|██████████| 1/1 [00:00<00:00, 19.04it/s]"
     ]
    },
    {
     "name": "stdout",
     "output_type": "stream",
     "text": [
      "                   all         12         12      0.994      0.997      0.995      0.646\n"
     ]
    },
    {
     "name": "stderr",
     "output_type": "stream",
     "text": [
      "\n"
     ]
    },
    {
     "name": "stdout",
     "output_type": "stream",
     "text": [
      "\n",
      "      Epoch    GPU_mem   box_loss   cls_loss   dfl_loss  Instances       Size\n"
     ]
    },
    {
     "name": "stderr",
     "output_type": "stream",
     "text": [
      "    112/300     0.553G      0.755     0.9849      1.065         28        224: 100%|██████████| 2/2 [00:00<00:00, 15.99it/s]\n",
      "                 Class     Images  Instances      Box(P          R      mAP50  mAP50-95): 100%|██████████| 1/1 [00:00<00:00, 17.39it/s]"
     ]
    },
    {
     "name": "stdout",
     "output_type": "stream",
     "text": [
      "                   all         12         12      0.991          1      0.995       0.67\n"
     ]
    },
    {
     "name": "stderr",
     "output_type": "stream",
     "text": [
      "\n"
     ]
    },
    {
     "name": "stdout",
     "output_type": "stream",
     "text": [
      "\n",
      "      Epoch    GPU_mem   box_loss   cls_loss   dfl_loss  Instances       Size\n"
     ]
    },
    {
     "name": "stderr",
     "output_type": "stream",
     "text": [
      "    113/300     0.553G     0.8289      1.022      1.102         27        224: 100%|██████████| 2/2 [00:00<00:00, 15.26it/s]\n",
      "                 Class     Images  Instances      Box(P          R      mAP50  mAP50-95): 100%|██████████| 1/1 [00:00<00:00, 19.41it/s]"
     ]
    },
    {
     "name": "stdout",
     "output_type": "stream",
     "text": [
      "                   all         12         12      0.992          1      0.995      0.641\n"
     ]
    },
    {
     "name": "stderr",
     "output_type": "stream",
     "text": [
      "\n"
     ]
    },
    {
     "name": "stdout",
     "output_type": "stream",
     "text": [
      "\n",
      "      Epoch    GPU_mem   box_loss   cls_loss   dfl_loss  Instances       Size\n"
     ]
    },
    {
     "name": "stderr",
     "output_type": "stream",
     "text": [
      "    114/300     0.553G     0.8832      1.019      1.147         31        224: 100%|██████████| 2/2 [00:00<00:00, 14.81it/s]\n",
      "                 Class     Images  Instances      Box(P          R      mAP50  mAP50-95): 100%|██████████| 1/1 [00:00<00:00, 19.60it/s]"
     ]
    },
    {
     "name": "stdout",
     "output_type": "stream",
     "text": [
      "                   all         12         12      0.982          1      0.995      0.649\n"
     ]
    },
    {
     "name": "stderr",
     "output_type": "stream",
     "text": [
      "\n"
     ]
    },
    {
     "name": "stdout",
     "output_type": "stream",
     "text": [
      "\n",
      "      Epoch    GPU_mem   box_loss   cls_loss   dfl_loss  Instances       Size\n"
     ]
    },
    {
     "name": "stderr",
     "output_type": "stream",
     "text": [
      "    115/300     0.553G     0.8429     0.9336      1.097         21        224: 100%|██████████| 2/2 [00:00<00:00, 14.60it/s]\n",
      "                 Class     Images  Instances      Box(P          R      mAP50  mAP50-95): 100%|██████████| 1/1 [00:00<00:00, 18.96it/s]"
     ]
    },
    {
     "name": "stdout",
     "output_type": "stream",
     "text": [
      "                   all         12         12      0.977          1      0.995       0.67\n"
     ]
    },
    {
     "name": "stderr",
     "output_type": "stream",
     "text": [
      "\n"
     ]
    },
    {
     "name": "stdout",
     "output_type": "stream",
     "text": [
      "\n",
      "      Epoch    GPU_mem   box_loss   cls_loss   dfl_loss  Instances       Size\n"
     ]
    },
    {
     "name": "stderr",
     "output_type": "stream",
     "text": [
      "    116/300     0.553G     0.7647      1.055      1.086         23        224: 100%|██████████| 2/2 [00:00<00:00, 15.03it/s]\n",
      "                 Class     Images  Instances      Box(P          R      mAP50  mAP50-95): 100%|██████████| 1/1 [00:00<00:00, 17.85it/s]"
     ]
    },
    {
     "name": "stdout",
     "output_type": "stream",
     "text": [
      "                   all         12         12      0.968          1      0.995      0.705\n"
     ]
    },
    {
     "name": "stderr",
     "output_type": "stream",
     "text": [
      "\n"
     ]
    },
    {
     "name": "stdout",
     "output_type": "stream",
     "text": [
      "\n",
      "      Epoch    GPU_mem   box_loss   cls_loss   dfl_loss  Instances       Size\n"
     ]
    },
    {
     "name": "stderr",
     "output_type": "stream",
     "text": [
      "    117/300     0.553G     0.7943        1.1       1.19         18        224: 100%|██████████| 2/2 [00:00<00:00, 14.13it/s]\n",
      "                 Class     Images  Instances      Box(P          R      mAP50  mAP50-95): 100%|██████████| 1/1 [00:00<00:00, 18.69it/s]"
     ]
    },
    {
     "name": "stdout",
     "output_type": "stream",
     "text": [
      "                   all         12         12      0.947          1      0.995      0.676\n"
     ]
    },
    {
     "name": "stderr",
     "output_type": "stream",
     "text": [
      "\n"
     ]
    },
    {
     "name": "stdout",
     "output_type": "stream",
     "text": [
      "\n",
      "      Epoch    GPU_mem   box_loss   cls_loss   dfl_loss  Instances       Size\n"
     ]
    },
    {
     "name": "stderr",
     "output_type": "stream",
     "text": [
      "    118/300     0.553G     0.7793      1.032      1.075         25        224: 100%|██████████| 2/2 [00:00<00:00, 14.28it/s]\n",
      "                 Class     Images  Instances      Box(P          R      mAP50  mAP50-95): 100%|██████████| 1/1 [00:00<00:00, 17.85it/s]"
     ]
    },
    {
     "name": "stdout",
     "output_type": "stream",
     "text": [
      "                   all         12         12      0.934          1      0.995      0.665\n"
     ]
    },
    {
     "name": "stderr",
     "output_type": "stream",
     "text": [
      "\n"
     ]
    },
    {
     "name": "stdout",
     "output_type": "stream",
     "text": [
      "\n",
      "      Epoch    GPU_mem   box_loss   cls_loss   dfl_loss  Instances       Size\n"
     ]
    },
    {
     "name": "stderr",
     "output_type": "stream",
     "text": [
      "    119/300     0.553G      0.851       1.05      1.132         23        224: 100%|██████████| 2/2 [00:00<00:00, 14.43it/s]\n",
      "                 Class     Images  Instances      Box(P          R      mAP50  mAP50-95): 100%|██████████| 1/1 [00:00<00:00, 18.34it/s]"
     ]
    },
    {
     "name": "stdout",
     "output_type": "stream",
     "text": [
      "                   all         12         12      0.945          1      0.995      0.694\n"
     ]
    },
    {
     "name": "stderr",
     "output_type": "stream",
     "text": [
      "\n"
     ]
    },
    {
     "name": "stdout",
     "output_type": "stream",
     "text": [
      "\n",
      "      Epoch    GPU_mem   box_loss   cls_loss   dfl_loss  Instances       Size\n"
     ]
    },
    {
     "name": "stderr",
     "output_type": "stream",
     "text": [
      "    120/300     0.553G     0.8513     0.9679       1.21         34        224: 100%|██████████| 2/2 [00:00<00:00, 13.89it/s]\n",
      "                 Class     Images  Instances      Box(P          R      mAP50  mAP50-95): 100%|██████████| 1/1 [00:00<00:00, 18.86it/s]"
     ]
    },
    {
     "name": "stdout",
     "output_type": "stream",
     "text": [
      "                   all         12         12      0.936          1      0.995      0.679\n"
     ]
    },
    {
     "name": "stderr",
     "output_type": "stream",
     "text": [
      "\n"
     ]
    },
    {
     "name": "stdout",
     "output_type": "stream",
     "text": [
      "\n",
      "      Epoch    GPU_mem   box_loss   cls_loss   dfl_loss  Instances       Size\n"
     ]
    },
    {
     "name": "stderr",
     "output_type": "stream",
     "text": [
      "    121/300     0.553G     0.8074      1.059       1.18         22        224: 100%|██████████| 2/2 [00:00<00:00, 13.88it/s]\n",
      "                 Class     Images  Instances      Box(P          R      mAP50  mAP50-95): 100%|██████████| 1/1 [00:00<00:00, 17.90it/s]"
     ]
    },
    {
     "name": "stdout",
     "output_type": "stream",
     "text": [
      "                   all         12         12      0.942          1      0.995      0.662\n"
     ]
    },
    {
     "name": "stderr",
     "output_type": "stream",
     "text": [
      "\n"
     ]
    },
    {
     "name": "stdout",
     "output_type": "stream",
     "text": [
      "\n",
      "      Epoch    GPU_mem   box_loss   cls_loss   dfl_loss  Instances       Size\n"
     ]
    },
    {
     "name": "stderr",
     "output_type": "stream",
     "text": [
      "    122/300     0.553G     0.8684      1.075      1.148         21        224: 100%|██████████| 2/2 [00:00<00:00, 14.44it/s]\n",
      "                 Class     Images  Instances      Box(P          R      mAP50  mAP50-95): 100%|██████████| 1/1 [00:00<00:00, 18.86it/s]"
     ]
    },
    {
     "name": "stdout",
     "output_type": "stream",
     "text": [
      "                   all         12         12      0.941          1      0.995       0.65\n"
     ]
    },
    {
     "name": "stderr",
     "output_type": "stream",
     "text": [
      "\n"
     ]
    },
    {
     "name": "stdout",
     "output_type": "stream",
     "text": [
      "\n",
      "      Epoch    GPU_mem   box_loss   cls_loss   dfl_loss  Instances       Size\n"
     ]
    },
    {
     "name": "stderr",
     "output_type": "stream",
     "text": [
      "    123/300     0.553G     0.7007     0.9675      1.021         25        224: 100%|██████████| 2/2 [00:00<00:00, 13.88it/s]\n",
      "                 Class     Images  Instances      Box(P          R      mAP50  mAP50-95): 100%|██████████| 1/1 [00:00<00:00, 16.66it/s]"
     ]
    },
    {
     "name": "stdout",
     "output_type": "stream",
     "text": [
      "                   all         12         12       0.94          1      0.995      0.651\n"
     ]
    },
    {
     "name": "stderr",
     "output_type": "stream",
     "text": [
      "\n"
     ]
    },
    {
     "name": "stdout",
     "output_type": "stream",
     "text": [
      "\n",
      "      Epoch    GPU_mem   box_loss   cls_loss   dfl_loss  Instances       Size\n"
     ]
    },
    {
     "name": "stderr",
     "output_type": "stream",
     "text": [
      "    124/300     0.553G     0.7252     0.9316      1.133         26        224: 100%|██████████| 2/2 [00:00<00:00, 11.94it/s]\n",
      "                 Class     Images  Instances      Box(P          R      mAP50  mAP50-95): 100%|██████████| 1/1 [00:00<00:00, 18.69it/s]"
     ]
    },
    {
     "name": "stdout",
     "output_type": "stream",
     "text": [
      "                   all         12         12      0.947          1      0.995      0.642\n"
     ]
    },
    {
     "name": "stderr",
     "output_type": "stream",
     "text": [
      "\n"
     ]
    },
    {
     "name": "stdout",
     "output_type": "stream",
     "text": [
      "\n",
      "      Epoch    GPU_mem   box_loss   cls_loss   dfl_loss  Instances       Size\n"
     ]
    },
    {
     "name": "stderr",
     "output_type": "stream",
     "text": [
      "    125/300     0.553G     0.8151     0.9896      1.139         27        224: 100%|██████████| 2/2 [00:00<00:00, 15.44it/s]\n",
      "                 Class     Images  Instances      Box(P          R      mAP50  mAP50-95): 100%|██████████| 1/1 [00:00<00:00, 20.42it/s]"
     ]
    },
    {
     "name": "stdout",
     "output_type": "stream",
     "text": [
      "                   all         12         12      0.956          1      0.995      0.654\n"
     ]
    },
    {
     "name": "stderr",
     "output_type": "stream",
     "text": [
      "\n"
     ]
    },
    {
     "name": "stdout",
     "output_type": "stream",
     "text": [
      "\n",
      "      Epoch    GPU_mem   box_loss   cls_loss   dfl_loss  Instances       Size\n"
     ]
    },
    {
     "name": "stderr",
     "output_type": "stream",
     "text": [
      "    126/300     0.553G     0.8222     0.9761      1.108         25        224: 100%|██████████| 2/2 [00:00<00:00, 15.36it/s]\n",
      "                 Class     Images  Instances      Box(P          R      mAP50  mAP50-95): 100%|██████████| 1/1 [00:00<00:00, 19.60it/s]"
     ]
    },
    {
     "name": "stdout",
     "output_type": "stream",
     "text": [
      "                   all         12         12      0.961          1      0.995      0.677\n"
     ]
    },
    {
     "name": "stderr",
     "output_type": "stream",
     "text": [
      "\n"
     ]
    },
    {
     "name": "stdout",
     "output_type": "stream",
     "text": [
      "\n",
      "      Epoch    GPU_mem   box_loss   cls_loss   dfl_loss  Instances       Size\n"
     ]
    },
    {
     "name": "stderr",
     "output_type": "stream",
     "text": [
      "    127/300     0.553G     0.8435     0.9782        1.1         18        224: 100%|██████████| 2/2 [00:00<00:00, 13.74it/s]\n",
      "                 Class     Images  Instances      Box(P          R      mAP50  mAP50-95): 100%|██████████| 1/1 [00:00<00:00, 18.35it/s]"
     ]
    },
    {
     "name": "stdout",
     "output_type": "stream",
     "text": [
      "                   all         12         12      0.964          1      0.995      0.691\n"
     ]
    },
    {
     "name": "stderr",
     "output_type": "stream",
     "text": [
      "\n"
     ]
    },
    {
     "name": "stdout",
     "output_type": "stream",
     "text": [
      "\n",
      "      Epoch    GPU_mem   box_loss   cls_loss   dfl_loss  Instances       Size\n"
     ]
    },
    {
     "name": "stderr",
     "output_type": "stream",
     "text": [
      "    128/300     0.553G     0.8367     0.9138      1.115         26        224: 100%|██████████| 2/2 [00:00<00:00, 16.93it/s]\n",
      "                 Class     Images  Instances      Box(P          R      mAP50  mAP50-95): 100%|██████████| 1/1 [00:00<00:00, 20.58it/s]"
     ]
    },
    {
     "name": "stdout",
     "output_type": "stream",
     "text": [
      "                   all         12         12      0.975          1      0.995      0.706\n"
     ]
    },
    {
     "name": "stderr",
     "output_type": "stream",
     "text": [
      "\n"
     ]
    },
    {
     "name": "stdout",
     "output_type": "stream",
     "text": [
      "\n",
      "      Epoch    GPU_mem   box_loss   cls_loss   dfl_loss  Instances       Size\n"
     ]
    },
    {
     "name": "stderr",
     "output_type": "stream",
     "text": [
      "    129/300     0.553G      0.833      1.025      1.167         32        224: 100%|██████████| 2/2 [00:00<00:00, 15.81it/s]\n",
      "                 Class     Images  Instances      Box(P          R      mAP50  mAP50-95): 100%|██████████| 1/1 [00:00<00:00, 19.99it/s]"
     ]
    },
    {
     "name": "stdout",
     "output_type": "stream",
     "text": [
      "                   all         12         12      0.982          1      0.995      0.698\n"
     ]
    },
    {
     "name": "stderr",
     "output_type": "stream",
     "text": [
      "\n"
     ]
    },
    {
     "name": "stdout",
     "output_type": "stream",
     "text": [
      "\n",
      "      Epoch    GPU_mem   box_loss   cls_loss   dfl_loss  Instances       Size\n"
     ]
    },
    {
     "name": "stderr",
     "output_type": "stream",
     "text": [
      "    130/300     0.553G     0.8377     0.9668      1.106         32        224: 100%|██████████| 2/2 [00:00<00:00, 15.50it/s]\n",
      "                 Class     Images  Instances      Box(P          R      mAP50  mAP50-95): 100%|██████████| 1/1 [00:00<00:00, 19.60it/s]"
     ]
    },
    {
     "name": "stdout",
     "output_type": "stream",
     "text": [
      "                   all         12         12      0.985          1      0.995      0.666\n"
     ]
    },
    {
     "name": "stderr",
     "output_type": "stream",
     "text": [
      "\n"
     ]
    },
    {
     "name": "stdout",
     "output_type": "stream",
     "text": [
      "\n",
      "      Epoch    GPU_mem   box_loss   cls_loss   dfl_loss  Instances       Size\n"
     ]
    },
    {
     "name": "stderr",
     "output_type": "stream",
     "text": [
      "    131/300     0.553G     0.8418     0.9382      1.104         32        224: 100%|██████████| 2/2 [00:00<00:00, 15.62it/s]\n",
      "                 Class     Images  Instances      Box(P          R      mAP50  mAP50-95): 100%|██████████| 1/1 [00:00<00:00, 20.61it/s]"
     ]
    },
    {
     "name": "stdout",
     "output_type": "stream",
     "text": [
      "                   all         12         12      0.982          1      0.995      0.635\n"
     ]
    },
    {
     "name": "stderr",
     "output_type": "stream",
     "text": [
      "\n"
     ]
    },
    {
     "name": "stdout",
     "output_type": "stream",
     "text": [
      "\n",
      "      Epoch    GPU_mem   box_loss   cls_loss   dfl_loss  Instances       Size\n"
     ]
    },
    {
     "name": "stderr",
     "output_type": "stream",
     "text": [
      "    132/300     0.553G     0.8265     0.9041      1.096         28        224: 100%|██████████| 2/2 [00:00<00:00, 15.08it/s]\n",
      "                 Class     Images  Instances      Box(P          R      mAP50  mAP50-95): 100%|██████████| 1/1 [00:00<00:00, 21.97it/s]"
     ]
    },
    {
     "name": "stdout",
     "output_type": "stream",
     "text": [
      "                   all         12         12      0.989          1      0.995      0.646\n"
     ]
    },
    {
     "name": "stderr",
     "output_type": "stream",
     "text": [
      "\n"
     ]
    },
    {
     "name": "stdout",
     "output_type": "stream",
     "text": [
      "\n",
      "      Epoch    GPU_mem   box_loss   cls_loss   dfl_loss  Instances       Size\n"
     ]
    },
    {
     "name": "stderr",
     "output_type": "stream",
     "text": [
      "    133/300     0.553G     0.9592     0.9389      1.297         27        224: 100%|██████████| 2/2 [00:00<00:00, 13.60it/s]\n",
      "                 Class     Images  Instances      Box(P          R      mAP50  mAP50-95): 100%|██████████| 1/1 [00:00<00:00, 21.04it/s]"
     ]
    },
    {
     "name": "stdout",
     "output_type": "stream",
     "text": [
      "                   all         12         12      0.991          1      0.995      0.635\n"
     ]
    },
    {
     "name": "stderr",
     "output_type": "stream",
     "text": [
      "\n"
     ]
    },
    {
     "name": "stdout",
     "output_type": "stream",
     "text": [
      "\n",
      "      Epoch    GPU_mem   box_loss   cls_loss   dfl_loss  Instances       Size\n"
     ]
    },
    {
     "name": "stderr",
     "output_type": "stream",
     "text": [
      "    134/300     0.553G     0.7602     0.9669      1.084         37        224: 100%|██████████| 2/2 [00:00<00:00, 16.12it/s]\n",
      "                 Class     Images  Instances      Box(P          R      mAP50  mAP50-95): 100%|██████████| 1/1 [00:00<00:00, 20.20it/s]"
     ]
    },
    {
     "name": "stdout",
     "output_type": "stream",
     "text": [
      "                   all         12         12      0.987          1      0.995      0.642\n"
     ]
    },
    {
     "name": "stderr",
     "output_type": "stream",
     "text": [
      "\n"
     ]
    },
    {
     "name": "stdout",
     "output_type": "stream",
     "text": [
      "\n",
      "      Epoch    GPU_mem   box_loss   cls_loss   dfl_loss  Instances       Size\n"
     ]
    },
    {
     "name": "stderr",
     "output_type": "stream",
     "text": [
      "    135/300     0.553G     0.7386     0.9049      1.066         30        224: 100%|██████████| 2/2 [00:00<00:00, 14.96it/s]\n",
      "                 Class     Images  Instances      Box(P          R      mAP50  mAP50-95): 100%|██████████| 1/1 [00:00<00:00, 19.05it/s]"
     ]
    },
    {
     "name": "stdout",
     "output_type": "stream",
     "text": [
      "                   all         12         12      0.978          1      0.995      0.634\n"
     ]
    },
    {
     "name": "stderr",
     "output_type": "stream",
     "text": [
      "\n"
     ]
    },
    {
     "name": "stdout",
     "output_type": "stream",
     "text": [
      "\n",
      "      Epoch    GPU_mem   box_loss   cls_loss   dfl_loss  Instances       Size\n"
     ]
    },
    {
     "name": "stderr",
     "output_type": "stream",
     "text": [
      "    136/300     0.553G     0.7736     0.9312      1.044         32        224: 100%|██████████| 2/2 [00:00<00:00, 13.84it/s]\n",
      "                 Class     Images  Instances      Box(P          R      mAP50  mAP50-95): 100%|██████████| 1/1 [00:00<00:00, 20.60it/s]"
     ]
    },
    {
     "name": "stdout",
     "output_type": "stream",
     "text": [
      "                   all         12         12      0.976          1      0.995      0.636\n"
     ]
    },
    {
     "name": "stderr",
     "output_type": "stream",
     "text": [
      "\n"
     ]
    },
    {
     "name": "stdout",
     "output_type": "stream",
     "text": [
      "\n",
      "      Epoch    GPU_mem   box_loss   cls_loss   dfl_loss  Instances       Size\n"
     ]
    },
    {
     "name": "stderr",
     "output_type": "stream",
     "text": [
      "    137/300     0.553G     0.7863     0.9547      1.102         31        224: 100%|██████████| 2/2 [00:00<00:00, 15.41it/s]\n",
      "                 Class     Images  Instances      Box(P          R      mAP50  mAP50-95): 100%|██████████| 1/1 [00:00<00:00, 17.70it/s]"
     ]
    },
    {
     "name": "stdout",
     "output_type": "stream",
     "text": [
      "                   all         12         12      0.978          1      0.995      0.647\n"
     ]
    },
    {
     "name": "stderr",
     "output_type": "stream",
     "text": [
      "\n"
     ]
    },
    {
     "name": "stdout",
     "output_type": "stream",
     "text": [
      "\n",
      "      Epoch    GPU_mem   box_loss   cls_loss   dfl_loss  Instances       Size\n"
     ]
    },
    {
     "name": "stderr",
     "output_type": "stream",
     "text": [
      "    138/300     0.553G     0.7829     0.9123      1.018         32        224: 100%|██████████| 2/2 [00:00<00:00, 15.54it/s]\n",
      "                 Class     Images  Instances      Box(P          R      mAP50  mAP50-95): 100%|██████████| 1/1 [00:00<00:00, 21.04it/s]"
     ]
    },
    {
     "name": "stdout",
     "output_type": "stream",
     "text": [
      "                   all         12         12      0.978          1      0.995      0.661\n"
     ]
    },
    {
     "name": "stderr",
     "output_type": "stream",
     "text": [
      "\n"
     ]
    },
    {
     "name": "stdout",
     "output_type": "stream",
     "text": [
      "\n",
      "      Epoch    GPU_mem   box_loss   cls_loss   dfl_loss  Instances       Size\n"
     ]
    },
    {
     "name": "stderr",
     "output_type": "stream",
     "text": [
      "    139/300     0.553G      0.791     0.8903      1.129         34        224: 100%|██████████| 2/2 [00:00<00:00, 16.36it/s]\n",
      "                 Class     Images  Instances      Box(P          R      mAP50  mAP50-95): 100%|██████████| 1/1 [00:00<00:00, 20.54it/s]"
     ]
    },
    {
     "name": "stdout",
     "output_type": "stream",
     "text": [
      "                   all         12         12      0.983          1      0.995      0.662\n"
     ]
    },
    {
     "name": "stderr",
     "output_type": "stream",
     "text": [
      "\n"
     ]
    },
    {
     "name": "stdout",
     "output_type": "stream",
     "text": [
      "\n",
      "      Epoch    GPU_mem   box_loss   cls_loss   dfl_loss  Instances       Size\n"
     ]
    },
    {
     "name": "stderr",
     "output_type": "stream",
     "text": [
      "    140/300     0.553G     0.8439      0.944      1.081         26        224: 100%|██████████| 2/2 [00:00<00:00, 15.26it/s]\n",
      "                 Class     Images  Instances      Box(P          R      mAP50  mAP50-95): 100%|██████████| 1/1 [00:00<00:00, 20.58it/s]"
     ]
    },
    {
     "name": "stdout",
     "output_type": "stream",
     "text": [
      "                   all         12         12       0.98          1      0.995      0.663\n"
     ]
    },
    {
     "name": "stderr",
     "output_type": "stream",
     "text": [
      "\n"
     ]
    },
    {
     "name": "stdout",
     "output_type": "stream",
     "text": [
      "\n",
      "      Epoch    GPU_mem   box_loss   cls_loss   dfl_loss  Instances       Size\n"
     ]
    },
    {
     "name": "stderr",
     "output_type": "stream",
     "text": [
      "    141/300     0.553G     0.8593     0.9267      1.158         28        224: 100%|██████████| 2/2 [00:00<00:00, 15.85it/s]\n",
      "                 Class     Images  Instances      Box(P          R      mAP50  mAP50-95): 100%|██████████| 1/1 [00:00<00:00, 19.22it/s]"
     ]
    },
    {
     "name": "stdout",
     "output_type": "stream",
     "text": [
      "                   all         12         12      0.977          1      0.995      0.686\n"
     ]
    },
    {
     "name": "stderr",
     "output_type": "stream",
     "text": [
      "\n"
     ]
    },
    {
     "name": "stdout",
     "output_type": "stream",
     "text": [
      "\n",
      "      Epoch    GPU_mem   box_loss   cls_loss   dfl_loss  Instances       Size\n"
     ]
    },
    {
     "name": "stderr",
     "output_type": "stream",
     "text": [
      "    142/300     0.553G      0.727     0.9456      1.076         19        224: 100%|██████████| 2/2 [00:00<00:00, 13.98it/s]\n",
      "                 Class     Images  Instances      Box(P          R      mAP50  mAP50-95): 100%|██████████| 1/1 [00:00<00:00, 16.71it/s]"
     ]
    },
    {
     "name": "stdout",
     "output_type": "stream",
     "text": [
      "                   all         12         12      0.971          1      0.995       0.66\n"
     ]
    },
    {
     "name": "stderr",
     "output_type": "stream",
     "text": [
      "\n"
     ]
    },
    {
     "name": "stdout",
     "output_type": "stream",
     "text": [
      "\n",
      "      Epoch    GPU_mem   box_loss   cls_loss   dfl_loss  Instances       Size\n"
     ]
    },
    {
     "name": "stderr",
     "output_type": "stream",
     "text": [
      "    143/300     0.553G     0.7832     0.8514      1.074         32        224: 100%|██████████| 2/2 [00:00<00:00, 15.44it/s]\n",
      "                 Class     Images  Instances      Box(P          R      mAP50  mAP50-95): 100%|██████████| 1/1 [00:00<00:00, 21.05it/s]"
     ]
    },
    {
     "name": "stdout",
     "output_type": "stream",
     "text": [
      "                   all         12         12      0.971          1      0.995       0.68\n"
     ]
    },
    {
     "name": "stderr",
     "output_type": "stream",
     "text": [
      "\n"
     ]
    },
    {
     "name": "stdout",
     "output_type": "stream",
     "text": [
      "\n",
      "      Epoch    GPU_mem   box_loss   cls_loss   dfl_loss  Instances       Size\n"
     ]
    },
    {
     "name": "stderr",
     "output_type": "stream",
     "text": [
      "    144/300     0.553G     0.8481     0.9081      1.131         20        224: 100%|██████████| 2/2 [00:00<00:00, 14.49it/s]\n",
      "                 Class     Images  Instances      Box(P          R      mAP50  mAP50-95): 100%|██████████| 1/1 [00:00<00:00, 17.63it/s]"
     ]
    },
    {
     "name": "stdout",
     "output_type": "stream",
     "text": [
      "                   all         12         12      0.967          1      0.995      0.664\n"
     ]
    },
    {
     "name": "stderr",
     "output_type": "stream",
     "text": [
      "\n"
     ]
    },
    {
     "name": "stdout",
     "output_type": "stream",
     "text": [
      "\n",
      "      Epoch    GPU_mem   box_loss   cls_loss   dfl_loss  Instances       Size\n"
     ]
    },
    {
     "name": "stderr",
     "output_type": "stream",
     "text": [
      "    145/300     0.553G     0.8168     0.9516      1.078         26        224: 100%|██████████| 2/2 [00:00<00:00, 15.26it/s]\n",
      "                 Class     Images  Instances      Box(P          R      mAP50  mAP50-95): 100%|██████████| 1/1 [00:00<00:00, 18.35it/s]"
     ]
    },
    {
     "name": "stdout",
     "output_type": "stream",
     "text": [
      "                   all         12         12      0.972          1      0.995      0.679\n"
     ]
    },
    {
     "name": "stderr",
     "output_type": "stream",
     "text": [
      "\n"
     ]
    },
    {
     "name": "stdout",
     "output_type": "stream",
     "text": [
      "\n",
      "      Epoch    GPU_mem   box_loss   cls_loss   dfl_loss  Instances       Size\n"
     ]
    },
    {
     "name": "stderr",
     "output_type": "stream",
     "text": [
      "    146/300     0.553G     0.7518     0.8984      1.008         39        224: 100%|██████████| 2/2 [00:00<00:00, 13.89it/s]\n",
      "                 Class     Images  Instances      Box(P          R      mAP50  mAP50-95): 100%|██████████| 1/1 [00:00<00:00, 20.40it/s]"
     ]
    },
    {
     "name": "stdout",
     "output_type": "stream",
     "text": [
      "                   all         12         12      0.971          1      0.995      0.664\n"
     ]
    },
    {
     "name": "stderr",
     "output_type": "stream",
     "text": [
      "\n"
     ]
    },
    {
     "name": "stdout",
     "output_type": "stream",
     "text": [
      "\n",
      "      Epoch    GPU_mem   box_loss   cls_loss   dfl_loss  Instances       Size\n"
     ]
    },
    {
     "name": "stderr",
     "output_type": "stream",
     "text": [
      "    147/300     0.553G     0.7631     0.9162      1.047         33        224: 100%|██████████| 2/2 [00:00<00:00, 16.39it/s]\n",
      "                 Class     Images  Instances      Box(P          R      mAP50  mAP50-95): 100%|██████████| 1/1 [00:00<00:00, 21.50it/s]"
     ]
    },
    {
     "name": "stdout",
     "output_type": "stream",
     "text": [
      "                   all         12         12      0.965          1      0.995      0.621\n"
     ]
    },
    {
     "name": "stderr",
     "output_type": "stream",
     "text": [
      "\n"
     ]
    },
    {
     "name": "stdout",
     "output_type": "stream",
     "text": [
      "\n",
      "      Epoch    GPU_mem   box_loss   cls_loss   dfl_loss  Instances       Size\n"
     ]
    },
    {
     "name": "stderr",
     "output_type": "stream",
     "text": [
      "    148/300     0.553G     0.7253     0.8604      1.104         26        224: 100%|██████████| 2/2 [00:00<00:00, 14.28it/s]\n",
      "                 Class     Images  Instances      Box(P          R      mAP50  mAP50-95): 100%|██████████| 1/1 [00:00<00:00, 20.94it/s]"
     ]
    },
    {
     "name": "stdout",
     "output_type": "stream",
     "text": [
      "                   all         12         12      0.959          1      0.995      0.601\n"
     ]
    },
    {
     "name": "stderr",
     "output_type": "stream",
     "text": [
      "\n"
     ]
    },
    {
     "name": "stdout",
     "output_type": "stream",
     "text": [
      "\n",
      "      Epoch    GPU_mem   box_loss   cls_loss   dfl_loss  Instances       Size\n"
     ]
    },
    {
     "name": "stderr",
     "output_type": "stream",
     "text": [
      "    149/300     0.553G     0.8629     0.8772      1.143         27        224: 100%|██████████| 2/2 [00:00<00:00, 15.55it/s]\n",
      "                 Class     Images  Instances      Box(P          R      mAP50  mAP50-95): 100%|██████████| 1/1 [00:00<00:00, 20.40it/s]"
     ]
    },
    {
     "name": "stdout",
     "output_type": "stream",
     "text": [
      "                   all         12         12      0.963          1      0.995      0.596\n"
     ]
    },
    {
     "name": "stderr",
     "output_type": "stream",
     "text": [
      "\n"
     ]
    },
    {
     "name": "stdout",
     "output_type": "stream",
     "text": [
      "\n",
      "      Epoch    GPU_mem   box_loss   cls_loss   dfl_loss  Instances       Size\n"
     ]
    },
    {
     "name": "stderr",
     "output_type": "stream",
     "text": [
      "    150/300     0.553G     0.7273     0.9124      1.065         32        224: 100%|██████████| 2/2 [00:00<00:00, 14.76it/s]\n",
      "                 Class     Images  Instances      Box(P          R      mAP50  mAP50-95): 100%|██████████| 1/1 [00:00<00:00, 21.73it/s]"
     ]
    },
    {
     "name": "stdout",
     "output_type": "stream",
     "text": [
      "                   all         12         12       0.96          1      0.995      0.629\n"
     ]
    },
    {
     "name": "stderr",
     "output_type": "stream",
     "text": [
      "\n"
     ]
    },
    {
     "name": "stdout",
     "output_type": "stream",
     "text": [
      "\n",
      "      Epoch    GPU_mem   box_loss   cls_loss   dfl_loss  Instances       Size\n"
     ]
    },
    {
     "name": "stderr",
     "output_type": "stream",
     "text": [
      "    151/300     0.553G     0.7508     0.8413      1.099         34        224: 100%|██████████| 2/2 [00:00<00:00, 16.12it/s]\n",
      "                 Class     Images  Instances      Box(P          R      mAP50  mAP50-95): 100%|██████████| 1/1 [00:00<00:00, 19.22it/s]"
     ]
    },
    {
     "name": "stdout",
     "output_type": "stream",
     "text": [
      "                   all         12         12      0.959          1      0.995      0.632\n"
     ]
    },
    {
     "name": "stderr",
     "output_type": "stream",
     "text": [
      "\n"
     ]
    },
    {
     "name": "stdout",
     "output_type": "stream",
     "text": [
      "\n",
      "      Epoch    GPU_mem   box_loss   cls_loss   dfl_loss  Instances       Size\n"
     ]
    },
    {
     "name": "stderr",
     "output_type": "stream",
     "text": [
      "    152/300     0.553G     0.9601     0.9543      1.261         27        224: 100%|██████████| 2/2 [00:00<00:00, 15.09it/s]\n",
      "                 Class     Images  Instances      Box(P          R      mAP50  mAP50-95): 100%|██████████| 1/1 [00:00<00:00, 19.80it/s]"
     ]
    },
    {
     "name": "stdout",
     "output_type": "stream",
     "text": [
      "                   all         12         12      0.957          1      0.995      0.615\n"
     ]
    },
    {
     "name": "stderr",
     "output_type": "stream",
     "text": [
      "\n"
     ]
    },
    {
     "name": "stdout",
     "output_type": "stream",
     "text": [
      "\n",
      "      Epoch    GPU_mem   box_loss   cls_loss   dfl_loss  Instances       Size\n"
     ]
    },
    {
     "name": "stderr",
     "output_type": "stream",
     "text": [
      "    153/300     0.553G     0.8546     0.9602      1.158         28        224: 100%|██████████| 2/2 [00:00<00:00, 15.62it/s]\n",
      "                 Class     Images  Instances      Box(P          R      mAP50  mAP50-95): 100%|██████████| 1/1 [00:00<00:00, 17.85it/s]"
     ]
    },
    {
     "name": "stdout",
     "output_type": "stream",
     "text": [
      "                   all         12         12      0.949          1      0.995      0.611\n"
     ]
    },
    {
     "name": "stderr",
     "output_type": "stream",
     "text": [
      "\n"
     ]
    },
    {
     "name": "stdout",
     "output_type": "stream",
     "text": [
      "\n",
      "      Epoch    GPU_mem   box_loss   cls_loss   dfl_loss  Instances       Size\n"
     ]
    },
    {
     "name": "stderr",
     "output_type": "stream",
     "text": [
      "    154/300     0.553G     0.6332     0.8563      1.037         29        224: 100%|██████████| 2/2 [00:00<00:00, 16.06it/s]\n",
      "                 Class     Images  Instances      Box(P          R      mAP50  mAP50-95): 100%|██████████| 1/1 [00:00<00:00, 19.22it/s]"
     ]
    },
    {
     "name": "stdout",
     "output_type": "stream",
     "text": [
      "                   all         12         12      0.945          1      0.995      0.641\n"
     ]
    },
    {
     "name": "stderr",
     "output_type": "stream",
     "text": [
      "\n"
     ]
    },
    {
     "name": "stdout",
     "output_type": "stream",
     "text": [
      "\n",
      "      Epoch    GPU_mem   box_loss   cls_loss   dfl_loss  Instances       Size\n"
     ]
    },
    {
     "name": "stderr",
     "output_type": "stream",
     "text": [
      "    155/300     0.553G     0.7392     0.7765      1.057         24        224: 100%|██████████| 2/2 [00:00<00:00, 15.80it/s]\n",
      "                 Class     Images  Instances      Box(P          R      mAP50  mAP50-95): 100%|██████████| 1/1 [00:00<00:00, 20.36it/s]"
     ]
    },
    {
     "name": "stdout",
     "output_type": "stream",
     "text": [
      "                   all         12         12      0.941          1      0.995      0.677\n"
     ]
    },
    {
     "name": "stderr",
     "output_type": "stream",
     "text": [
      "\n"
     ]
    },
    {
     "name": "stdout",
     "output_type": "stream",
     "text": [
      "\n",
      "      Epoch    GPU_mem   box_loss   cls_loss   dfl_loss  Instances       Size\n"
     ]
    },
    {
     "name": "stderr",
     "output_type": "stream",
     "text": [
      "    156/300     0.553G     0.7369     0.8771      1.064         26        224: 100%|██████████| 2/2 [00:00<00:00, 16.24it/s]\n",
      "                 Class     Images  Instances      Box(P          R      mAP50  mAP50-95): 100%|██████████| 1/1 [00:00<00:00, 20.20it/s]\n"
     ]
    },
    {
     "name": "stdout",
     "output_type": "stream",
     "text": [
      "                   all         12         12      0.945          1      0.995      0.679\n",
      "\n",
      "      Epoch    GPU_mem   box_loss   cls_loss   dfl_loss  Instances       Size\n"
     ]
    },
    {
     "name": "stderr",
     "output_type": "stream",
     "text": [
      "    157/300     0.553G     0.8109     0.9067      1.138         26        224: 100%|██████████| 2/2 [00:00<00:00, 16.44it/s]\n",
      "                 Class     Images  Instances      Box(P          R      mAP50  mAP50-95): 100%|██████████| 1/1 [00:00<00:00, 21.97it/s]"
     ]
    },
    {
     "name": "stdout",
     "output_type": "stream",
     "text": [
      "                   all         12         12      0.951          1      0.995      0.676\n"
     ]
    },
    {
     "name": "stderr",
     "output_type": "stream",
     "text": [
      "\n"
     ]
    },
    {
     "name": "stdout",
     "output_type": "stream",
     "text": [
      "\n",
      "      Epoch    GPU_mem   box_loss   cls_loss   dfl_loss  Instances       Size\n"
     ]
    },
    {
     "name": "stderr",
     "output_type": "stream",
     "text": [
      "    158/300     0.553G     0.7661     0.8968      1.121         27        224: 100%|██████████| 2/2 [00:00<00:00, 16.52it/s]\n",
      "                 Class     Images  Instances      Box(P          R      mAP50  mAP50-95): 100%|██████████| 1/1 [00:00<00:00, 21.49it/s]"
     ]
    },
    {
     "name": "stdout",
     "output_type": "stream",
     "text": [
      "                   all         12         12      0.947          1      0.995      0.685\n"
     ]
    },
    {
     "name": "stderr",
     "output_type": "stream",
     "text": [
      "\n"
     ]
    },
    {
     "name": "stdout",
     "output_type": "stream",
     "text": [
      "\n",
      "      Epoch    GPU_mem   box_loss   cls_loss   dfl_loss  Instances       Size\n"
     ]
    },
    {
     "name": "stderr",
     "output_type": "stream",
     "text": [
      "    159/300     0.553G     0.6793     0.8474      1.092         26        224: 100%|██████████| 2/2 [00:00<00:00, 15.26it/s]\n",
      "                 Class     Images  Instances      Box(P          R      mAP50  mAP50-95): 100%|██████████| 1/1 [00:00<00:00, 21.48it/s]"
     ]
    },
    {
     "name": "stdout",
     "output_type": "stream",
     "text": [
      "                   all         12         12      0.952          1      0.995      0.691\n"
     ]
    },
    {
     "name": "stderr",
     "output_type": "stream",
     "text": [
      "\n"
     ]
    },
    {
     "name": "stdout",
     "output_type": "stream",
     "text": [
      "\n",
      "      Epoch    GPU_mem   box_loss   cls_loss   dfl_loss  Instances       Size\n"
     ]
    },
    {
     "name": "stderr",
     "output_type": "stream",
     "text": [
      "    160/300     0.553G     0.7318     0.9115      1.122         26        224: 100%|██████████| 2/2 [00:00<00:00, 17.02it/s]\n",
      "                 Class     Images  Instances      Box(P          R      mAP50  mAP50-95): 100%|██████████| 1/1 [00:00<00:00, 20.62it/s]"
     ]
    },
    {
     "name": "stdout",
     "output_type": "stream",
     "text": [
      "                   all         12         12      0.956          1      0.995      0.688\n"
     ]
    },
    {
     "name": "stderr",
     "output_type": "stream",
     "text": [
      "\n"
     ]
    },
    {
     "name": "stdout",
     "output_type": "stream",
     "text": [
      "\n",
      "      Epoch    GPU_mem   box_loss   cls_loss   dfl_loss  Instances       Size\n"
     ]
    },
    {
     "name": "stderr",
     "output_type": "stream",
     "text": [
      "    161/300     0.553G     0.8213     0.9583      1.173         21        224: 100%|██████████| 2/2 [00:00<00:00, 16.16it/s]\n",
      "                 Class     Images  Instances      Box(P          R      mAP50  mAP50-95): 100%|██████████| 1/1 [00:00<00:00, 21.50it/s]"
     ]
    },
    {
     "name": "stdout",
     "output_type": "stream",
     "text": [
      "                   all         12         12      0.957          1      0.995      0.664\n"
     ]
    },
    {
     "name": "stderr",
     "output_type": "stream",
     "text": [
      "\n"
     ]
    },
    {
     "name": "stdout",
     "output_type": "stream",
     "text": [
      "\n",
      "      Epoch    GPU_mem   box_loss   cls_loss   dfl_loss  Instances       Size\n"
     ]
    },
    {
     "name": "stderr",
     "output_type": "stream",
     "text": [
      "    162/300     0.553G     0.7417     0.9176      1.122         25        224: 100%|██████████| 2/2 [00:00<00:00, 14.86it/s]\n",
      "                 Class     Images  Instances      Box(P          R      mAP50  mAP50-95): 100%|██████████| 1/1 [00:00<00:00, 16.93it/s]"
     ]
    },
    {
     "name": "stdout",
     "output_type": "stream",
     "text": [
      "                   all         12         12      0.963          1      0.995      0.651\n"
     ]
    },
    {
     "name": "stderr",
     "output_type": "stream",
     "text": [
      "\n"
     ]
    },
    {
     "name": "stdout",
     "output_type": "stream",
     "text": [
      "\n",
      "      Epoch    GPU_mem   box_loss   cls_loss   dfl_loss  Instances       Size\n"
     ]
    },
    {
     "name": "stderr",
     "output_type": "stream",
     "text": [
      "    163/300     0.553G     0.7142      0.836       1.11         20        224: 100%|██████████| 2/2 [00:00<00:00, 14.77it/s]\n",
      "                 Class     Images  Instances      Box(P          R      mAP50  mAP50-95): 100%|██████████| 1/1 [00:00<00:00, 21.05it/s]"
     ]
    },
    {
     "name": "stdout",
     "output_type": "stream",
     "text": [
      "                   all         12         12      0.965          1      0.995      0.661\n"
     ]
    },
    {
     "name": "stderr",
     "output_type": "stream",
     "text": [
      "\n"
     ]
    },
    {
     "name": "stdout",
     "output_type": "stream",
     "text": [
      "\n",
      "      Epoch    GPU_mem   box_loss   cls_loss   dfl_loss  Instances       Size\n"
     ]
    },
    {
     "name": "stderr",
     "output_type": "stream",
     "text": [
      "    164/300     0.553G     0.7716     0.8942      1.083         37        224: 100%|██████████| 2/2 [00:00<00:00, 14.54it/s]\n",
      "                 Class     Images  Instances      Box(P          R      mAP50  mAP50-95): 100%|██████████| 1/1 [00:00<00:00, 18.86it/s]"
     ]
    },
    {
     "name": "stdout",
     "output_type": "stream",
     "text": [
      "                   all         12         12      0.968          1      0.995      0.656\n"
     ]
    },
    {
     "name": "stderr",
     "output_type": "stream",
     "text": [
      "\n"
     ]
    },
    {
     "name": "stdout",
     "output_type": "stream",
     "text": [
      "\n",
      "      Epoch    GPU_mem   box_loss   cls_loss   dfl_loss  Instances       Size\n"
     ]
    },
    {
     "name": "stderr",
     "output_type": "stream",
     "text": [
      "    165/300     0.553G     0.7521     0.8456      1.087         30        224: 100%|██████████| 2/2 [00:00<00:00, 15.81it/s]\n",
      "                 Class     Images  Instances      Box(P          R      mAP50  mAP50-95): 100%|██████████| 1/1 [00:00<00:00, 21.27it/s]"
     ]
    },
    {
     "name": "stdout",
     "output_type": "stream",
     "text": [
      "                   all         12         12      0.978          1      0.995      0.638\n"
     ]
    },
    {
     "name": "stderr",
     "output_type": "stream",
     "text": [
      "\n"
     ]
    },
    {
     "name": "stdout",
     "output_type": "stream",
     "text": [
      "\n",
      "      Epoch    GPU_mem   box_loss   cls_loss   dfl_loss  Instances       Size\n"
     ]
    },
    {
     "name": "stderr",
     "output_type": "stream",
     "text": [
      "    166/300     0.553G     0.6983     0.8454      1.002         27        224: 100%|██████████| 2/2 [00:00<00:00, 16.26it/s]\n",
      "                 Class     Images  Instances      Box(P          R      mAP50  mAP50-95): 100%|██████████| 1/1 [00:00<00:00, 21.47it/s]"
     ]
    },
    {
     "name": "stdout",
     "output_type": "stream",
     "text": [
      "                   all         12         12      0.983          1      0.995      0.653\n"
     ]
    },
    {
     "name": "stderr",
     "output_type": "stream",
     "text": [
      "\n"
     ]
    },
    {
     "name": "stdout",
     "output_type": "stream",
     "text": [
      "\n",
      "      Epoch    GPU_mem   box_loss   cls_loss   dfl_loss  Instances       Size\n"
     ]
    },
    {
     "name": "stderr",
     "output_type": "stream",
     "text": [
      "    167/300     0.553G     0.8008     0.9068       1.12         23        224: 100%|██████████| 2/2 [00:00<00:00, 15.74it/s]\n",
      "                 Class     Images  Instances      Box(P          R      mAP50  mAP50-95): 100%|██████████| 1/1 [00:00<00:00, 17.70it/s]"
     ]
    },
    {
     "name": "stdout",
     "output_type": "stream",
     "text": [
      "                   all         12         12      0.984          1      0.995      0.641\n"
     ]
    },
    {
     "name": "stderr",
     "output_type": "stream",
     "text": [
      "\n"
     ]
    },
    {
     "name": "stdout",
     "output_type": "stream",
     "text": [
      "\n",
      "      Epoch    GPU_mem   box_loss   cls_loss   dfl_loss  Instances       Size\n"
     ]
    },
    {
     "name": "stderr",
     "output_type": "stream",
     "text": [
      "    168/300     0.553G     0.7754     0.8648      1.088         35        224: 100%|██████████| 2/2 [00:00<00:00, 16.80it/s]\n",
      "                 Class     Images  Instances      Box(P          R      mAP50  mAP50-95): 100%|██████████| 1/1 [00:00<00:00, 20.20it/s]"
     ]
    },
    {
     "name": "stdout",
     "output_type": "stream",
     "text": [
      "                   all         12         12      0.985          1      0.995      0.658\n"
     ]
    },
    {
     "name": "stderr",
     "output_type": "stream",
     "text": [
      "\n"
     ]
    },
    {
     "name": "stdout",
     "output_type": "stream",
     "text": [
      "\n",
      "      Epoch    GPU_mem   box_loss   cls_loss   dfl_loss  Instances       Size\n"
     ]
    },
    {
     "name": "stderr",
     "output_type": "stream",
     "text": [
      "    169/300     0.553G     0.6504     0.8258      1.005         38        224: 100%|██████████| 2/2 [00:00<00:00, 14.92it/s]\n",
      "                 Class     Images  Instances      Box(P          R      mAP50  mAP50-95): 100%|██████████| 1/1 [00:00<00:00, 20.69it/s]"
     ]
    },
    {
     "name": "stdout",
     "output_type": "stream",
     "text": [
      "                   all         12         12      0.984          1      0.995      0.636\n"
     ]
    },
    {
     "name": "stderr",
     "output_type": "stream",
     "text": [
      "\n"
     ]
    },
    {
     "name": "stdout",
     "output_type": "stream",
     "text": [
      "\n",
      "      Epoch    GPU_mem   box_loss   cls_loss   dfl_loss  Instances       Size\n"
     ]
    },
    {
     "name": "stderr",
     "output_type": "stream",
     "text": [
      "    170/300     0.553G     0.7985      0.818      1.126         23        224: 100%|██████████| 2/2 [00:00<00:00, 16.17it/s]\n",
      "                 Class     Images  Instances      Box(P          R      mAP50  mAP50-95): 100%|██████████| 1/1 [00:00<00:00, 21.03it/s]"
     ]
    },
    {
     "name": "stdout",
     "output_type": "stream",
     "text": [
      "                   all         12         12      0.986          1      0.995      0.651\n"
     ]
    },
    {
     "name": "stderr",
     "output_type": "stream",
     "text": [
      "\n"
     ]
    },
    {
     "name": "stdout",
     "output_type": "stream",
     "text": [
      "\n",
      "      Epoch    GPU_mem   box_loss   cls_loss   dfl_loss  Instances       Size\n"
     ]
    },
    {
     "name": "stderr",
     "output_type": "stream",
     "text": [
      "    171/300     0.553G     0.7006     0.8622      1.105         23        224: 100%|██████████| 2/2 [00:00<00:00, 14.92it/s]\n",
      "                 Class     Images  Instances      Box(P          R      mAP50  mAP50-95): 100%|██████████| 1/1 [00:00<00:00, 19.22it/s]"
     ]
    },
    {
     "name": "stdout",
     "output_type": "stream",
     "text": [
      "                   all         12         12      0.985          1      0.995      0.672\n"
     ]
    },
    {
     "name": "stderr",
     "output_type": "stream",
     "text": [
      "\n"
     ]
    },
    {
     "name": "stdout",
     "output_type": "stream",
     "text": [
      "\n",
      "      Epoch    GPU_mem   box_loss   cls_loss   dfl_loss  Instances       Size\n"
     ]
    },
    {
     "name": "stderr",
     "output_type": "stream",
     "text": [
      "    172/300     0.553G     0.7128     0.8279      1.029         30        224: 100%|██████████| 2/2 [00:00<00:00, 13.29it/s]\n",
      "                 Class     Images  Instances      Box(P          R      mAP50  mAP50-95): 100%|██████████| 1/1 [00:00<00:00, 19.80it/s]"
     ]
    },
    {
     "name": "stdout",
     "output_type": "stream",
     "text": [
      "                   all         12         12      0.981          1      0.995      0.675\n"
     ]
    },
    {
     "name": "stderr",
     "output_type": "stream",
     "text": [
      "\n"
     ]
    },
    {
     "name": "stdout",
     "output_type": "stream",
     "text": [
      "\n",
      "      Epoch    GPU_mem   box_loss   cls_loss   dfl_loss  Instances       Size\n"
     ]
    },
    {
     "name": "stderr",
     "output_type": "stream",
     "text": [
      "    173/300     0.553G     0.7141      0.899      1.076         28        224: 100%|██████████| 2/2 [00:00<00:00, 15.61it/s]\n",
      "                 Class     Images  Instances      Box(P          R      mAP50  mAP50-95): 100%|██████████| 1/1 [00:00<00:00, 16.65it/s]"
     ]
    },
    {
     "name": "stdout",
     "output_type": "stream",
     "text": [
      "                   all         12         12      0.975          1      0.995      0.662\n"
     ]
    },
    {
     "name": "stderr",
     "output_type": "stream",
     "text": [
      "\n"
     ]
    },
    {
     "name": "stdout",
     "output_type": "stream",
     "text": [
      "\n",
      "      Epoch    GPU_mem   box_loss   cls_loss   dfl_loss  Instances       Size\n"
     ]
    },
    {
     "name": "stderr",
     "output_type": "stream",
     "text": [
      "    174/300     0.553G     0.6666     0.8314      1.057         28        224: 100%|██████████| 2/2 [00:00<00:00, 14.54it/s]\n",
      "                 Class     Images  Instances      Box(P          R      mAP50  mAP50-95): 100%|██████████| 1/1 [00:00<00:00, 18.87it/s]"
     ]
    },
    {
     "name": "stdout",
     "output_type": "stream",
     "text": [
      "                   all         12         12       0.97          1      0.995      0.663\n"
     ]
    },
    {
     "name": "stderr",
     "output_type": "stream",
     "text": [
      "\n"
     ]
    },
    {
     "name": "stdout",
     "output_type": "stream",
     "text": [
      "\n",
      "      Epoch    GPU_mem   box_loss   cls_loss   dfl_loss  Instances       Size\n"
     ]
    },
    {
     "name": "stderr",
     "output_type": "stream",
     "text": [
      "    175/300     0.553G     0.6421     0.8255      1.019         29        224: 100%|██████████| 2/2 [00:00<00:00, 15.03it/s]\n",
      "                 Class     Images  Instances      Box(P          R      mAP50  mAP50-95): 100%|██████████| 1/1 [00:00<00:00, 19.78it/s]"
     ]
    },
    {
     "name": "stdout",
     "output_type": "stream",
     "text": [
      "                   all         12         12      0.966          1      0.995      0.674\n"
     ]
    },
    {
     "name": "stderr",
     "output_type": "stream",
     "text": [
      "\n"
     ]
    },
    {
     "name": "stdout",
     "output_type": "stream",
     "text": [
      "\n",
      "      Epoch    GPU_mem   box_loss   cls_loss   dfl_loss  Instances       Size\n"
     ]
    },
    {
     "name": "stderr",
     "output_type": "stream",
     "text": [
      "    176/300     0.553G     0.6535     0.7839       1.02         35        224: 100%|██████████| 2/2 [00:00<00:00, 14.09it/s]\n",
      "                 Class     Images  Instances      Box(P          R      mAP50  mAP50-95): 100%|██████████| 1/1 [00:00<00:00, 20.07it/s]"
     ]
    },
    {
     "name": "stdout",
     "output_type": "stream",
     "text": [
      "                   all         12         12       0.96          1      0.995      0.671\n"
     ]
    },
    {
     "name": "stderr",
     "output_type": "stream",
     "text": [
      "\n"
     ]
    },
    {
     "name": "stdout",
     "output_type": "stream",
     "text": [
      "\n",
      "      Epoch    GPU_mem   box_loss   cls_loss   dfl_loss  Instances       Size\n"
     ]
    },
    {
     "name": "stderr",
     "output_type": "stream",
     "text": [
      "    177/300     0.553G     0.7184     0.8101      1.027         27        224: 100%|██████████| 2/2 [00:00<00:00, 16.54it/s]\n",
      "                 Class     Images  Instances      Box(P          R      mAP50  mAP50-95): 100%|██████████| 1/1 [00:00<00:00, 21.73it/s]"
     ]
    },
    {
     "name": "stdout",
     "output_type": "stream",
     "text": [
      "                   all         12         12      0.955          1      0.995      0.678\n"
     ]
    },
    {
     "name": "stderr",
     "output_type": "stream",
     "text": [
      "\n"
     ]
    },
    {
     "name": "stdout",
     "output_type": "stream",
     "text": [
      "\n",
      "      Epoch    GPU_mem   box_loss   cls_loss   dfl_loss  Instances       Size\n"
     ]
    },
    {
     "name": "stderr",
     "output_type": "stream",
     "text": [
      "    178/300     0.553G     0.7072     0.8216      1.091         25        224: 100%|██████████| 2/2 [00:00<00:00, 16.46it/s]\n",
      "                 Class     Images  Instances      Box(P          R      mAP50  mAP50-95): 100%|██████████| 1/1 [00:00<00:00, 21.27it/s]"
     ]
    },
    {
     "name": "stdout",
     "output_type": "stream",
     "text": [
      "                   all         12         12      0.956          1      0.995      0.685\n",
      "\u001b[34m\u001b[1mEarlyStopping: \u001b[0mTraining stopped early as no improvement observed in last 50 epochs. Best results observed at epoch 128, best model saved as best.pt.\n",
      "To update EarlyStopping(patience=50) pass a new patience value, i.e. `patience=300` or use `patience=0` to disable EarlyStopping.\n"
     ]
    },
    {
     "name": "stderr",
     "output_type": "stream",
     "text": [
      "\n"
     ]
    },
    {
     "name": "stdout",
     "output_type": "stream",
     "text": [
      "\n",
      "178 epochs completed in 0.016 hours.\n",
      "Optimizer stripped from runs\\synthetic_extreme_yolov8n_split\\weights\\last.pt, 6.2MB\n",
      "Optimizer stripped from runs\\synthetic_extreme_yolov8n_split\\weights\\best.pt, 6.2MB\n",
      "\n",
      "Validating runs\\synthetic_extreme_yolov8n_split\\weights\\best.pt...\n",
      "Ultralytics 8.3.141  Python-3.9.18 torch-2.5.1+cu121 CUDA:0 (NVIDIA GeForce RTX 3070 Ti, 8192MiB)\n",
      "Model summary (fused): 72 layers, 3,007,403 parameters, 0 gradients, 8.1 GFLOPs\n"
     ]
    },
    {
     "name": "stderr",
     "output_type": "stream",
     "text": [
      "                 Class     Images  Instances      Box(P          R      mAP50  mAP50-95): 100%|██████████| 1/1 [00:00<00:00, 19.04it/s]\n"
     ]
    },
    {
     "name": "stdout",
     "output_type": "stream",
     "text": [
      "                   all         12         12      0.975          1      0.995      0.706\n",
      "                  blue          6          6      0.951          1      0.995      0.659\n",
      "                yellow          6          6      0.998          1      0.995      0.753\n",
      "Speed: 0.0ms preprocess, 0.5ms inference, 0.0ms loss, 0.9ms postprocess per image\n",
      "Results saved to \u001b[1mruns\\synthetic_extreme_yolov8n_split\u001b[0m\n",
      "Ultralytics 8.3.141  Python-3.9.18 torch-2.5.1+cu121 CUDA:0 (NVIDIA GeForce RTX 3070 Ti, 8192MiB)\n",
      "Model summary (fused): 72 layers, 3,007,403 parameters, 0 gradients, 8.1 GFLOPs\n",
      "\u001b[34m\u001b[1mval: \u001b[0mFast image access  (ping: 0.00.0 ms, read: 202.546.5 MB/s, size: 14.0 KB)\n"
     ]
    },
    {
     "name": "stderr",
     "output_type": "stream",
     "text": [
      "\u001b[34m\u001b[1mval: \u001b[0mScanning C:\\Users\\fredr\\BTH\\Robotik Project\\Robotics\\yolo_dataset\\labels\\split_val.cache... 12 images, 0 backgrounds, 0 corrupt: 100%|██████████| 12/12 [00:00<?, ?it/s]\n",
      "                 Class     Images  Instances      Box(P          R      mAP50  mAP50-95): 100%|██████████| 1/1 [00:01<00:00,  1.99s/it]\n"
     ]
    },
    {
     "name": "stdout",
     "output_type": "stream",
     "text": [
      "                   all         12         12      0.975          1      0.995      0.706\n",
      "                  blue          6          6      0.951          1      0.995      0.659\n",
      "                yellow          6          6      0.998          1      0.995      0.753\n",
      "Speed: 0.3ms preprocess, 4.2ms inference, 0.0ms loss, 1.3ms postprocess per image\n",
      "Results saved to \u001b[1mruns\\synthetic_extreme_yolov8n_split2\u001b[0m\n"
     ]
    }
   ],
   "source": [
    "import torch\n",
    "import os\n",
    "from glob import glob\n",
    "from sklearn.model_selection import train_test_split\n",
    "from ultralytics import YOLO\n",
    "import shutil\n",
    "\n",
    "# === CUDA CHECK ===\n",
    "print(\"CUDA available?\", torch.cuda.is_available())\n",
    "if torch.cuda.is_available():\n",
    "    print(\"Device:\", torch.cuda.current_device(), torch.cuda.get_device_name(torch.cuda.current_device()))\n",
    "\n",
    "# === PATHS ===\n",
    "dataset_root = r\"C:/Users/fredr/BTH/Robotik Project/Robotics/yolo_dataset\"\n",
    "all_images_dir = os.path.join(dataset_root, \"images\", \"train\")  # original full set is here\n",
    "all_labels_dir = os.path.join(dataset_root, \"labels\", \"train\")\n",
    "\n",
    "split_dirs = {\n",
    "    \"images/train\": os.path.join(dataset_root, \"images\", \"split_train\"),\n",
    "    \"images/val\": os.path.join(dataset_root, \"images\", \"split_val\"),\n",
    "    \"labels/train\": os.path.join(dataset_root, \"labels\", \"split_train\"),\n",
    "    \"labels/val\": os.path.join(dataset_root, \"labels\", \"split_val\"),\n",
    "}\n",
    "for path in split_dirs.values():\n",
    "    os.makedirs(path, exist_ok=True)\n",
    "\n",
    "# === LOAD & SPLIT ===\n",
    "images = glob(os.path.join(all_images_dir, \"*.jpg\"))\n",
    "train_imgs, val_imgs = train_test_split(images, test_size=0.2, random_state=42)\n",
    "\n",
    "def copy_split(images_list, split):\n",
    "    img_dest = os.path.join(dataset_root, \"images\", f\"split_{split}\")\n",
    "    lbl_dest = os.path.join(dataset_root, \"labels\", f\"split_{split}\")\n",
    "    for img_path in images_list:\n",
    "        base = os.path.basename(img_path)\n",
    "        lbl_path = os.path.join(all_labels_dir, base.replace(\".jpg\", \".txt\"))\n",
    "        shutil.copy2(img_path, os.path.join(img_dest, base))\n",
    "        if os.path.exists(lbl_path):\n",
    "            shutil.copy2(lbl_path, os.path.join(lbl_dest, os.path.basename(lbl_path)))\n",
    "\n",
    "copy_split(train_imgs, \"train\")\n",
    "copy_split(val_imgs, \"val\")\n",
    "\n",
    "# === CREATE YAML ===\n",
    "yaml_path = os.path.join(dataset_root, \"split_dataset.yaml\")\n",
    "dataset_root_fixed = dataset_root.replace('\\\\', '/')\n",
    "\n",
    "with open(yaml_path, \"w\") as f:\n",
    "    f.write(f\"\"\"\\\n",
    "path: {dataset_root_fixed}\n",
    "train: images/split_train\n",
    "val: images/split_val\n",
    "names:\n",
    "  0: blue\n",
    "  1: red\n",
    "  2: green\n",
    "  3: yellow\n",
    "  4: purple\n",
    "  5: brown\n",
    "  6: gray\n",
    "  7: pink\n",
    "  8: white\n",
    "\"\"\")\n",
    "\n",
    "\n",
    "# === TRAIN ===\n",
    "model = YOLO(\"yolov8n.pt\")\n",
    "results = model.train(\n",
    "    data=yaml_path,\n",
    "    epochs=300,\n",
    "    imgsz=224,\n",
    "    patience=50,\n",
    "    batch=32,\n",
    "    lr0=0.001,\n",
    "    optimizer=\"SGD\",\n",
    "    device=0,\n",
    "    project=\"runs\",\n",
    "    name=\"synthetic_extreme_yolov8n_split\",\n",
    "    cos_lr=True\n",
    ")\n",
    "\n",
    "# === VALIDATE ===\n",
    "metrics = model.val()\n"
   ]
  },
  {
   "cell_type": "code",
   "execution_count": 8,
   "id": "48fa401a",
   "metadata": {},
   "outputs": [
    {
     "name": "stdout",
     "output_type": "stream",
     "text": [
      "✅ Bounding boxes visualized and saved.\n"
     ]
    }
   ],
   "source": [
    "import os\n",
    "import cv2\n",
    "\n",
    "# === Configurations ===\n",
    "image_dir = r\"C:\\Users\\fredr\\BTH\\Robotik Project\\Robotics\\yolo_dataset\\images\\train\"\n",
    "label_dir = r\"C:\\Users\\fredr\\BTH\\Robotik Project\\Robotics\\yolo_dataset\\labels\\train\"\n",
    "output_dir = r\"C:\\Users\\fredr\\BTH\\Robotik Project\\Robotics\\yolo_dataset\\visualized\"\n",
    "\n",
    "# YOLO class names\n",
    "class_names = [\n",
    "    \"blue\", \"red\", \"green\", \"yellow\", \"purple\",\n",
    "    \"brown\", \"gray\", \"pink\", \"white\"\n",
    "]\n",
    "\n",
    "# Assign colors for each class\n",
    "class_colors = {\n",
    "    name: (int(255 * (i / len(class_names))), 100, 255 - int(255 * (i / len(class_names))))\n",
    "    for i, name in enumerate(class_names)\n",
    "}\n",
    "\n",
    "os.makedirs(output_dir, exist_ok=True)\n",
    "\n",
    "# === Function to draw boxes ===\n",
    "def draw_yolo_boxes(img_path, label_path, output_path):\n",
    "    img = cv2.imread(img_path)\n",
    "    h, w = img.shape[:2]\n",
    "\n",
    "    if not os.path.exists(label_path):\n",
    "        print(f\"Warning: No label for {os.path.basename(img_path)}\")\n",
    "        return\n",
    "\n",
    "    with open(label_path, \"r\") as f:\n",
    "        for line in f:\n",
    "            parts = line.strip().split()\n",
    "            if len(parts) != 5:\n",
    "                continue\n",
    "            cls_id, x_center, y_center, box_w, box_h = map(float, parts)\n",
    "            cls_id = int(cls_id)\n",
    "\n",
    "            # Convert YOLO to pixel coordinates\n",
    "            x1 = int((x_center - box_w / 2) * w)\n",
    "            y1 = int((y_center - box_h / 2) * h)\n",
    "            x2 = int((x_center + box_w / 2) * w)\n",
    "            y2 = int((y_center + box_h / 2) * h)\n",
    "\n",
    "            color = class_colors.get(class_names[cls_id], (0, 255, 0))\n",
    "            cv2.rectangle(img, (x1, y1), (x2, y2), color, 2)\n",
    "            cv2.putText(img, class_names[cls_id], (x1, y1 - 5),\n",
    "                        cv2.FONT_HERSHEY_SIMPLEX, 0.5, color, 2)\n",
    "\n",
    "    cv2.imwrite(output_path, img)\n",
    "\n",
    "\n",
    "# === Loop through all images ===\n",
    "for filename in os.listdir(image_dir):\n",
    "    if not filename.endswith(\".jpg\"):\n",
    "        continue\n",
    "\n",
    "    img_path = os.path.join(image_dir, filename)\n",
    "    label_path = os.path.join(label_dir, filename.replace(\".jpg\", \".txt\"))\n",
    "    output_path = os.path.join(output_dir, filename)\n",
    "\n",
    "    draw_yolo_boxes(img_path, label_path, output_path)\n",
    "\n",
    "print(\"✅ Bounding boxes visualized and saved.\")\n"
   ]
  },
  {
   "cell_type": "code",
   "execution_count": null,
   "id": "5e1298ac",
   "metadata": {},
   "outputs": [],
   "source": []
  }
 ],
 "metadata": {
  "kernelspec": {
   "display_name": "base",
   "language": "python",
   "name": "python3"
  },
  "language_info": {
   "codemirror_mode": {
    "name": "ipython",
    "version": 3
   },
   "file_extension": ".py",
   "mimetype": "text/x-python",
   "name": "python",
   "nbconvert_exporter": "python",
   "pygments_lexer": "ipython3",
   "version": "3.9.18"
  }
 },
 "nbformat": 4,
 "nbformat_minor": 5
}
